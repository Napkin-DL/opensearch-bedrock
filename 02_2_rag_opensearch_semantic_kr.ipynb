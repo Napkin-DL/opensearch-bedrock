{
 "cells": [
  {
   "cell_type": "markdown",
   "metadata": {
    "tags": []
   },
   "source": [
    "# OpenSearch 벡터 스토어 및 Amazon Bedrock를 사용한 RAG \n",
    ">이 노트북은,\n",
    "> - SageMaker Studio* **`Data Science 3.0`** kernel 및 ml.t3.medium 인스턴스에서 테스트 되었습니다.\n",
    "> - SageMaker Notebook **`conda_python3`** 에서 테스트 되었습니다.\n",
    "\n",
    "---\n",
    "### 중요\n",
    "- 이 노트북은 Anthropic 의 Claude-v2 모델 접근 가능한 분만 실행 가능합니다. \n",
    "- 접근이 안되시는 분은 노트북의 코드와 결과 만을 확인 하시면 좋겠습니다.\n",
    "- 만일 실행시에는 **\"과금\"** 이 발생이 되는 부분 유념 해주시기 바랍니다.\n",
    "\n",
    "### 선수조건\n",
    "- 임베딩 모델의 세이지 메이커 엔드포인트가 액티브 된 상태를 가정 합니다.\n",
    "    - 세이지 메이커 엔드포인트에 배포하기 위해서는 아래 노트북을 실행하시고, Endpoint Name 만을 복사 하시면 됩니다.\n",
    "    - [KoSIMCSERoberta Embedding Model 배포](https://github.com/gonsoomoon-ml/Kor-LLM-On-SageMaker/blob/main/1-Lab01-Deploy-LLM/4.Kor-Embedding-Model.ipynb)\n",
    "    - SageMaker Endpoint 에 대해서는 공식 개발자 문서를 참조하세요 --> [Create your endpoint and deploy your model](https://docs.aws.amazon.com/sagemaker/latest/dg/realtime-endpoints-deployment.html)\n",
    "- 오픈 서치 서비스가 액티브 된 상태를 가정 합니다.\n",
    "---\n",
    "\n",
    "OpenSearch는 대규모 데이터셋에 대한 유사도 검색을 위한 강력한 엔진입니다. Amazon OpenSearch Service를 통해 쉽게 클라우드 환경에서도 이용할 수 있습니다. 이와 함께 Vector Store를 사용하면 고차원 벡터 데이터를 효율적으로 저장하고 빠르게 검색할 수 있어, 복잡한 자연어 처리 작업을 더욱 간편하게 수행할 수 있습니다.\n"
   ]
  },
  {
   "cell_type": "code",
   "execution_count": 1,
   "metadata": {
    "tags": []
   },
   "outputs": [],
   "source": [
    "import boto3\n",
    "region = boto3.Session().region_name\n",
    "opensearch = boto3.client('opensearch', region)\n",
    "\n",
    "%store -r opensearch_user_id opensearch_user_password domain_name opensearch_domain_endpoint new_index_name\n",
    "\n",
    "try:\n",
    "    opensearch_user_id\n",
    "    opensearch_user_password\n",
    "    domain_name\n",
    "    opensearch_domain_endpoint\n",
    "   \n",
    "except NameError:\n",
    "    print(\"++++++++++++++++++++++++++++++++++++++++++++++++++++++++++++++++++++++++++++\")\n",
    "    print(\"[ERROR] Run 00_setup notebook first or Create Your Own OpenSearch Domain\")\n",
    "    print(\"++++++++++++++++++++++++++++++++++++++++++++++++++++++++++++++++++++++++++++\")"
   ]
  },
  {
   "cell_type": "code",
   "execution_count": 2,
   "metadata": {
    "tags": []
   },
   "outputs": [],
   "source": [
    "%load_ext autoreload\n",
    "%autoreload 2\n",
    "\n",
    "import sys, os\n",
    "module_path = \"..\"\n",
    "sys.path.append(os.path.abspath(module_path))"
   ]
  },
  {
   "cell_type": "markdown",
   "metadata": {
    "tags": []
   },
   "source": [
    "# 1. Bedrock Client 생성"
   ]
  },
  {
   "cell_type": "code",
   "execution_count": 42,
   "metadata": {
    "tags": []
   },
   "outputs": [
    {
     "name": "stdout",
     "output_type": "stream",
     "text": [
      "Create new client\n",
      "  Using region: None\n",
      "  Using profile: None\n",
      "boto3 Bedrock client successfully created!\n",
      "bedrock-runtime(https://bedrock-runtime.us-west-2.amazonaws.com)\n",
      "[('Titan Text Large', 'amazon.titan-tg1-large'),\n",
      " ('Titan Text Embeddings v2', 'amazon.titan-embed-g1-text-02'),\n",
      " ('Titan Text G1 - Lite', 'amazon.titan-text-lite-v1'),\n",
      " ('Titan Text G1 - Express', 'amazon.titan-text-express-v1'),\n",
      " ('Titan Embeddings G1 - Text', 'amazon.titan-embed-text-v1'),\n",
      " ('Titan Multimodal Embeddings G1', 'amazon.titan-embed-image-v1'),\n",
      " ('Titan Image Generator G1', 'amazon.titan-image-generator-v1'),\n",
      " ('SDXL 0.8', 'stability.stable-diffusion-xl'),\n",
      " ('SDXL 0.8', 'stability.stable-diffusion-xl-v0'),\n",
      " ('SDXL 1.0', 'stability.stable-diffusion-xl-v1'),\n",
      " ('J2 Grande Instruct', 'ai21.j2-grande-instruct'),\n",
      " ('J2 Jumbo Instruct', 'ai21.j2-jumbo-instruct'),\n",
      " ('Jurassic-2 Mid', 'ai21.j2-mid'),\n",
      " ('Jurassic-2 Mid', 'ai21.j2-mid-v1'),\n",
      " ('Jurassic-2 Ultra', 'ai21.j2-ultra'),\n",
      " ('Jurassic-2 Ultra', 'ai21.j2-ultra-v1'),\n",
      " ('Claude Instant', 'anthropic.claude-instant-v1'),\n",
      " ('Claude', 'anthropic.claude-v1'),\n",
      " ('Claude', 'anthropic.claude-v2:1'),\n",
      " ('Claude', 'anthropic.claude-v2'),\n",
      " ('Command', 'cohere.command-text-v14'),\n",
      " ('Command Light', 'cohere.command-light-text-v14'),\n",
      " ('Embed English', 'cohere.embed-english-v3'),\n",
      " ('Embed Multilingual', 'cohere.embed-multilingual-v3'),\n",
      " ('Llama 2 Chat 13B', 'meta.llama2-13b-chat-v1'),\n",
      " ('Llama 2 Chat 70B', 'meta.llama2-70b-chat-v1')]\n"
     ]
    }
   ],
   "source": [
    "import json\n",
    "import boto3\n",
    "from pprint import pprint\n",
    "from termcolor import colored\n",
    "from utils import bedrock, print_ww\n",
    "from utils.bedrock import bedrock_info\n",
    "\n",
    "# ---- ⚠️ Un-comment and edit the below lines as needed for your AWS setup ⚠️ ----\n",
    "\n",
    "# os.environ[\"AWS_DEFAULT_REGION\"] = \"<REGION_NAME>\"  # E.g. \"us-east-1\"\n",
    "# os.environ[\"AWS_PROFILE\"] = \"<YOUR_PROFILE>\"\n",
    "# os.environ[\"BEDROCK_ASSUME_ROLE\"] = \"<YOUR_ROLE_ARN>\"  # E.g. \"arn:aws:...\"\n",
    "# os.environ[\"BEDROCK_ENDPOINT_URL\"] = \"<YOUR_ENDPOINT_URL>\"  # E.g. \"https://...\"\n",
    "\n",
    "\n",
    "boto3_bedrock = bedrock.get_bedrock_client(\n",
    "    assumed_role=os.environ.get(\"BEDROCK_ASSUME_ROLE\", None),\n",
    "    endpoint_url=os.environ.get(\"BEDROCK_ENDPOINT_URL\", None),\n",
    "    region=os.environ.get(\"AWS_DEFAULT_REGION\", None),\n",
    ")\n",
    "\n",
    "bedrock = boto3.client(service_name='bedrock')\n",
    "model_list = bedrock.list_foundation_models()\n",
    "result = [(fm_list[\"modelName\"], fm_list[\"modelId\"]) for fm_list in model_list[\"modelSummaries\"] if fm_list['inferenceTypesSupported'] == ['ON_DEMAND']]\n",
    "pprint(result)"
   ]
  },
  {
   "cell_type": "markdown",
   "metadata": {},
   "source": [
    "# 2. Titan Embedding 및 LLM 인 Claude-v2 모델 로딩"
   ]
  },
  {
   "cell_type": "markdown",
   "metadata": {},
   "source": [
    "## LLM 로딩 (Claude-v2-1)"
   ]
  },
  {
   "cell_type": "code",
   "execution_count": 4,
   "metadata": {
    "tags": []
   },
   "outputs": [],
   "source": [
    "from langchain.llms.bedrock import Bedrock\n",
    "from langchain.callbacks.streaming_stdout import StreamingStdOutCallbackHandler"
   ]
  },
  {
   "cell_type": "code",
   "execution_count": 5,
   "metadata": {
    "tags": []
   },
   "outputs": [
    {
     "data": {
      "text/plain": [
       "Bedrock(client=<botocore.client.BedrockRuntime object at 0x7f22202dc670>, model_id='anthropic.claude-v2:1', model_kwargs={'max_tokens_to_sample': 512}, streaming=True, callbacks=[<langchain_core.callbacks.streaming_stdout.StreamingStdOutCallbackHandler object at 0x7f22226d9a80>])"
      ]
     },
     "execution_count": 5,
     "metadata": {},
     "output_type": "execute_result"
    }
   ],
   "source": [
    "# - create the Anthropic Model\n",
    "llm_text = Bedrock(\n",
    "    model_id=bedrock_info.get_model_id(model_name=\"Claude-V2-1\"),\n",
    "    client=boto3_bedrock,\n",
    "    model_kwargs={\n",
    "        \"max_tokens_to_sample\": 512\n",
    "    },\n",
    "    streaming=True,\n",
    "    callbacks=[StreamingStdOutCallbackHandler()]\n",
    ")\n",
    "llm_text"
   ]
  },
  {
   "cell_type": "markdown",
   "metadata": {},
   "source": [
    "## Embedding 모델 선택"
   ]
  },
  {
   "cell_type": "code",
   "execution_count": 6,
   "metadata": {
    "tags": []
   },
   "outputs": [
    {
     "name": "stderr",
     "output_type": "stream",
     "text": [
      "/home/ec2-user/anaconda3/envs/python3/lib/python3.10/site-packages/pandas/core/computation/expressions.py:21: UserWarning: Pandas requires version '2.8.0' or newer of 'numexpr' (version '2.7.3' currently installed).\n",
      "  from pandas.core.computation.check import NUMEXPR_INSTALLED\n"
     ]
    }
   ],
   "source": [
    "from utils.rag import KoSimCSERobertaContentHandler, SagemakerEndpointEmbeddingsJumpStart\n",
    "\n",
    "def get_embedding_model(is_bedrock_embeddings, is_KoSimCSERobert, aws_region, endpont_name=None):\n",
    "    if is_bedrock_embeddings:\n",
    "\n",
    "        # We will be using the Titan Embeddings Model to generate our Embeddings.\n",
    "        from langchain.embeddings import BedrockEmbeddings\n",
    "\n",
    "        llm_emb = BedrockEmbeddings(\n",
    "            client=boto3_bedrock,\n",
    "            model_id=bedrock_info.get_model_id(\n",
    "                model_name=\"Titan-Embeddings-G1\"\n",
    "            )\n",
    "        )\n",
    "\n",
    "        print(\"Bedrock Embeddings Model Loaded\")\n",
    "        \n",
    "    elif is_KoSimCSERobert:\n",
    "        LLMEmbHandler = KoSimCSERobertaContentHandler()\n",
    "        endpoint_name_emb = endpont_name\n",
    "        llm_emb = SagemakerEndpointEmbeddingsJumpStart(\n",
    "            endpoint_name=endpoint_name_emb,\n",
    "            region_name=aws_region,\n",
    "            content_handler=LLMEmbHandler,\n",
    "        )        \n",
    "        print(\"KoSimCSERobert Embeddings Model Loaded\")\n",
    "    else:\n",
    "        llm_emb = None\n",
    "        print(\"No Embedding Model Selected\")\n",
    "    \n",
    "    return llm_emb"
   ]
  },
  {
   "cell_type": "markdown",
   "metadata": {},
   "source": [
    "#### [중요] is_KoSimCSERobert == True 일시에 endpoint_name 을 꼭 넣어 주세요."
   ]
  },
  {
   "cell_type": "code",
   "execution_count": 7,
   "metadata": {
    "tags": []
   },
   "outputs": [
    {
     "name": "stdout",
     "output_type": "stream",
     "text": [
      "Bedrock Embeddings Model Loaded\n"
     ]
    }
   ],
   "source": [
    "is_bedrock_embeddings = True\n",
    "is_KoSimCSERobert = False\n",
    "\n",
    "aws_region = os.environ.get(\"AWS_DEFAULT_REGION\", None)\n",
    "\n",
    "##############################\n",
    "# Parameters for is_KoSimCSERobert\n",
    "##############################\n",
    "if is_KoSimCSERobert: endpont_name = \"<endpoint-name>\"\n",
    "else: endpont_name = None\n",
    "##############################\n",
    "\n",
    "llm_emb = get_embedding_model(is_bedrock_embeddings, is_KoSimCSERobert, aws_region, endpont_name)     "
   ]
  },
  {
   "cell_type": "markdown",
   "metadata": {},
   "source": [
    "# 3. 데이터 준비\n"
   ]
  },
  {
   "cell_type": "markdown",
   "metadata": {
    "tags": []
   },
   "source": [
    "#### `02_1_rag_opensearch_lexical_kr.ipynb`: 에서 데이터 준비 및 Index 생성을 해야 합니다."
   ]
  },
  {
   "cell_type": "markdown",
   "metadata": {
    "tags": []
   },
   "source": [
    "# 4. OpenSearch 벡터 Indexer 생성\n",
    "### 선수 조건\n",
    "- 아래의 링크를 참조해서 OpenSearch Service 를 생성하고, opensearch_domain_endpoint, http_auth 를 복사해서, 아래 셀의 내용을 대체 하세요.\n",
    "    - [OpenSearch 생성 가이드](https://github.com/gonsoomoon-ml/Kor-LLM-On-SageMaker/blob/main/2-Lab02-QA-with-RAG/4.rag-fsi-data-workshop/TASK-4_OpenSearch_Creation_and_Vector_Insertion.ipynb)\n",
    "- 랭체인 오프서처 참고 자료\n",
    "    - [Langchain Opensearch](https://python.langchain.com/docs/integrations/vectorstores/opensearch)"
   ]
  },
  {
   "cell_type": "markdown",
   "metadata": {},
   "source": [
    "#### [중요] 아래에 aws parameter store 에 아래 인증정보가 먼저 입력되어 있어야 합니다.\n",
    "- 20_applications/02_qa_chatbot/01_preprocess_docs/01_parameter_store_example.ipynb 참고"
   ]
  },
  {
   "cell_type": "code",
   "execution_count": 8,
   "metadata": {
    "tags": []
   },
   "outputs": [],
   "source": [
    "http_auth = (opensearch_user_id, opensearch_user_password) # Master username, Master password\n",
    "index_name = \"genai-demo-index-v1-with-tokenizer\""
   ]
  },
  {
   "cell_type": "markdown",
   "metadata": {},
   "source": [
    "## 인덱싱된 벡터 확인\n",
    "\n",
    "- [langchain.vectorstores.opensearch_vector_search.OpenSearchVectorSearch](https://api.python.langchain.com/en/latest/vectorstores/langchain.vectorstores.opensearch_vector_search.OpenSearchVectorSearch.html)"
   ]
  },
  {
   "cell_type": "code",
   "execution_count": 43,
   "metadata": {
    "tags": []
   },
   "outputs": [],
   "source": [
    "from langchain.vectorstores import OpenSearchVectorSearch\n",
    "\n",
    "vector_db = OpenSearchVectorSearch(\n",
    "    index_name=index_name,\n",
    "    opensearch_url=opensearch_domain_endpoint,\n",
    "    embedding_function=llm_emb,\n",
    "    http_auth=http_auth, # http_auth\n",
    "    is_aoss =False,\n",
    "    engine=\"faiss\",\n",
    "    space_type=\"l2\"\n",
    ")"
   ]
  },
  {
   "cell_type": "code",
   "execution_count": 44,
   "metadata": {
    "tags": []
   },
   "outputs": [],
   "source": [
    "query='보험 약관'"
   ]
  },
  {
   "cell_type": "code",
   "execution_count": 45,
   "metadata": {
    "tags": []
   },
   "outputs": [
    {
     "name": "stdout",
     "output_type": "stream",
     "text": [
      " Based on the information provided, here are the key points about 보험 약관 (insurance policy terms and conditions):\n",
      "\n",
      "1. 보험약관은 보험계약의 내용과 조건 등을 미리 정한 계약조항으로, 보험계약자와 보험회사의 권리와 의무를 규정합니다. \n",
      "\n",
      "2. 보험약관에는 청약철회, 계약취소, 보험금 지급 등 중요사항이 포함되어 있습니다.\n",
      "\n",
      "3. 주계약 약관은 기본계약 내용 등 공통 사항을 다룹니다.\n",
      "\n",
      "4. 특약(특별약관)은 선택가입한 추가 보장에 대한 내용을 다룹니다.\n",
      "\n",
      "5. 약관 이용 안내, 약관 요약서, 보험계약 일반사항 등을 통해 약관의 주요 내용을 쉽게 확인할 수 있습니다.\n",
      "\n",
      "6. 특약 색인, 약관에서 인용된 법령 내용, 보험용어 해설 등도 약관 이용에 도움이 됩니다.\n",
      "\n",
      "In summary, 보험약관 stipulates the rights and obligations of the policyholder and insurance company regarding the insurance contract. It is important to review the terms and conditions, especially sections on cancellation, claims, and other key details. Resources are available to help easily understand the policy terms."
     ]
    }
   ],
   "source": [
    "from langchain.indexes.vectorstore import VectorStoreIndexWrapper\n",
    "\n",
    "wrapper_store = VectorStoreIndexWrapper(vectorstore=vector_db) \n",
    "answer = wrapper_store.query(question=query, llm=llm_text)"
   ]
  },
  {
   "cell_type": "markdown",
   "metadata": {
    "tags": []
   },
   "source": [
    "## OpenSearch Dashboard 통한 Query 및 레코드 확인\n",
    "- OpenSearch Dashboards URL 은 Amazon OpenSearch Servie 콘솔에 가시면 확인할 수 있습니다.\n",
    "OpenSearch DevTools Console DSL 방법\n",
    "- [OpenSearch_Query_DSL](https://opensearch.org/docs/latest/query-dsl/index/)"
   ]
  },
  {
   "cell_type": "markdown",
   "metadata": {},
   "source": [
    "![record_opensearch](img/record_opensearch.jpg)"
   ]
  },
  {
   "cell_type": "markdown",
   "metadata": {
    "tags": []
   },
   "source": [
    "# 5.오픈 서치에 \"유사 서치\" 검색\n",
    "- query 를 제공해서 실제로 유사한 내용이 검색이 되는지를 확인 합니다.\n",
    "\n"
   ]
  },
  {
   "cell_type": "markdown",
   "metadata": {},
   "source": [
    "- similarity_search_with_score API 정보\n",
    "    - [API: similarity_search_with_score](https://api.python.langchain.com/en/latest/vectorstores/langchain.vectorstores.opensearch_vector_search.OpenSearchVectorSearch.html#langchain.vectorstores.opensearch_vector_search.OpenSearchVectorSearch.similarity_search)"
   ]
  },
  {
   "cell_type": "code",
   "execution_count": 13,
   "metadata": {
    "tags": []
   },
   "outputs": [],
   "source": [
    "from langchain.chains.question_answering import load_qa_chain\n",
    "from utils.opensearch import opensearch_utils"
   ]
  },
  {
   "cell_type": "code",
   "execution_count": 14,
   "metadata": {
    "tags": []
   },
   "outputs": [],
   "source": [
    "def get_semantic_similar_docs(**kwargs):\n",
    "\n",
    "    search_types = [\"approximate_search\", \"script_scoring\", \"painless_scripting\"]\n",
    "    space_types = [\"l2\", \"l1\", \"linf\", \"cosinesimil\", \"innerproduct\", \"hammingbit\"]\n",
    "\n",
    "    assert \"vector_db\" in kwargs, \"Check your vector_db\"\n",
    "    assert \"query\" in kwargs, \"Check your query\"\n",
    "    assert kwargs.get(\"search_type\", \"approximate_search\") in search_types, f'Check your search_type: {search_types}'\n",
    "    assert kwargs.get(\"space_type\", \"l2\") in space_types, f'Check your space_type: {space_types}'\n",
    "\n",
    "    results = kwargs[\"vector_db\"].similarity_search_with_score(\n",
    "            query=kwargs[\"query\"],\n",
    "            k=kwargs.get(\"k\", 5),\n",
    "            search_type=kwargs.get(\"search_type\", \"approximate_search\"),\n",
    "            space_type=kwargs.get(\"space_type\", \"l2\"),\n",
    "            #boolean_filter=kwargs.get(\"boolean_filter\", {}),        \n",
    "            boolean_filter=opensearch_utils.get_filter(\n",
    "                filter=kwargs.get(\"boolean_filter\", [])\n",
    "            ),        \n",
    "            # fetch_k=3,\n",
    "        )\n",
    "\n",
    "    print (\"\\nsemantic search args: \")\n",
    "    pprint ({\n",
    "        \"k\": kwargs.get(\"k\", 5),\n",
    "        \"search_type\": kwargs.get(\"search_type\", \"approximate_search\"),\n",
    "        \"space_type\": kwargs.get(\"space_type\", \"l2\"),\n",
    "        \"boolean_filter\": opensearch_utils.get_filter(filter=kwargs.get(\"boolean_filter\", []))\n",
    "    })\n",
    "    \n",
    "    if kwargs.get(\"hybrid\", False) and results:            \n",
    "        max_score = results[0][1]\n",
    "        new_results = []\n",
    "        for doc in results:\n",
    "            nomalized_score = float(doc[1]/max_score)\n",
    "            new_results.append((doc[0], nomalized_score))\n",
    "        results = copy.deepcopy(new_results)\n",
    "\n",
    "    return results"
   ]
  },
  {
   "cell_type": "markdown",
   "metadata": {
    "tags": []
   },
   "source": [
    "## Filter 없이 실행. "
   ]
  },
  {
   "cell_type": "code",
   "execution_count": 17,
   "metadata": {
    "tags": []
   },
   "outputs": [
    {
     "name": "stdout",
     "output_type": "stream",
     "text": [
      "\n",
      "semantic search args: \n",
      "{'boolean_filter': {'bool': {'filter': []}},\n",
      " 'k': 3,\n",
      " 'search_type': 'approximate_search',\n",
      " 'space_type': 'l2'}\n",
      "\n",
      "Score: 0.0063765203\n",
      "Metadata:\n",
      "Type: 간병치매보험_20240101~\n",
      "Source: 한화생명 The실속있는 간병치매보험_20240101~.pdf\n",
      "--------------------------------------------------\n",
      "\n",
      "Score: 0.0063757636\n",
      "Metadata:\n",
      "Type: 간병치매보험_20231209~_1\n",
      "Source: 한화생명 The실속있는 간병치매보험_20231209~_1.pdf\n",
      "--------------------------------------------------\n",
      "\n",
      "Score: 0.006014372\n",
      "Metadata:\n",
      "Type: 일시납종신보험_20240101~\n",
      "Source: 한화생명 The스마트한 일시납종신보험_20240101~.pdf\n",
      "--------------------------------------------------\n"
     ]
    }
   ],
   "source": [
    "query = \"계약 전 알릴 의무는 무엇인가요\"\n",
    "#query = \"타기관OTP 등록 방법 알려주세요\"\n",
    "\n",
    "pre_similar_doc = get_semantic_similar_docs(\n",
    "    vector_db=vector_db,\n",
    "    query=query,\n",
    "    k=3\n",
    ")\n",
    "opensearch_utils.opensearch_pretty_print_documents(pre_similar_doc)"
   ]
  },
  {
   "cell_type": "markdown",
   "metadata": {},
   "source": [
    "## metadata의 type, source 에 필터를 걸어서 검색"
   ]
  },
  {
   "cell_type": "code",
   "execution_count": 28,
   "metadata": {
    "tags": []
   },
   "outputs": [
    {
     "name": "stdout",
     "output_type": "stream",
     "text": [
      "\n",
      "semantic search args: \n",
      "{'boolean_filter': {'bool': {'filter': [{'term': {'metadata.type': '일시납종신보험_20240101~'}},\n",
      "                                        {'term': {'metadata.source': '한화생명 '\n",
      "                                                                     'The스마트한 '\n",
      "                                                                     '일시납종신보험_20240101~.pdf'}}]}},\n",
      " 'k': 3,\n",
      " 'search_type': 'approximate_search',\n",
      " 'space_type': 'l2'}\n",
      "\n",
      "Score: 0.006014372\n",
      "Metadata:\n",
      "Type: 일시납종신보험_20240101~\n",
      "Source: 한화생명 The스마트한 일시납종신보험_20240101~.pdf\n",
      "--------------------------------------------------\n",
      "\n",
      "Score: 0.0058958996\n",
      "Metadata:\n",
      "Type: 일시납종신보험_20240101~\n",
      "Source: 한화생명 The스마트한 일시납종신보험_20240101~.pdf\n",
      "--------------------------------------------------\n",
      "\n",
      "Score: 0.0051139095\n",
      "Metadata:\n",
      "Type: 일시납종신보험_20240101~\n",
      "Source: 한화생명 The스마트한 일시납종신보험_20240101~.pdf\n",
      "--------------------------------------------------\n"
     ]
    }
   ],
   "source": [
    "filter01 = '일시납종신보험_20240101~'\n",
    "filter02 = '한화생명 The스마트한 일시납종신보험_20240101~.pdf'\n",
    "\n",
    "boolean_filter = [\n",
    "    {\"term\": {\"metadata.type\": filter01}},\n",
    "    {\"term\": {\"metadata.source\": filter02}},\n",
    "]\n",
    "\n",
    "pre_similar_doc = get_semantic_similar_docs(\n",
    "    vector_db=vector_db,\n",
    "    query=query,\n",
    "    boolean_filter=boolean_filter,\n",
    "    k=3\n",
    ")\n",
    "opensearch_utils.opensearch_pretty_print_documents(pre_similar_doc)"
   ]
  },
  {
   "cell_type": "markdown",
   "metadata": {
    "tags": []
   },
   "source": [
    "# 6.사용자 정의 가능한 옵션\n",
    "이제 벡터 저장소가 준비되었으므로 질문을 시작할 수 있습니다.\n",
    "\n",
    "Vector Store를 둘러싸서 LLM 입력을 받는 LangChain에서 제공하는 래퍼를 사용할 수 있습니다.\n",
    "이 래퍼는 뒤에서 다음 단계를 수행합니다.\n",
    "- 질문을 입력합니다.\n",
    "- 질문 임베딩 생성\n",
    "- 관련 문서 가져오기\n",
    "- 프롬프트에 문서와 질문을 채워 넣습니다.\n",
    "- 프롬프트로 모델을 호출하고 사람이 읽을 수 있는 방식으로 답변을 생성합니다.\n",
    "\n",
    "위 시나리오에서는 질문에 대한 상황 인식 답변을 빠르고 쉽게 얻을 수 있는 방법을 탐색했습니다. 이제 문서를 가져오는 방법을 사용자 정의할 수 있는 [RetrievalQA](https://python.langchain.com/en/latest/modules/chains/index_examples/Vector_db_qa.html)의 도움으로 더 사용자 정의 가능한 옵션을 살펴보겠습니다. `chain_type` 매개변수를 사용하여 프롬프트에 추가해야 합니다. 또한 검색해야 하는 관련 문서 수를 제어하려면 아래 셀에서 'k' 매개변수를 변경하여 다른 출력을 확인하세요. 많은 시나리오에서 LLM이 답변을 생성하는 데 사용한 소스 문서가 무엇인지 알고 싶을 수 있습니다. LLM 프롬프트의 컨텍스트에 추가된 문서를 반환하는 `return_source_documents`를 사용하여 출력에서 ​​해당 문서를 가져올 수 있습니다. 'RetrievalQA'를 사용하면 모델에 특정한 사용자 정의 [프롬프트 템플릿](https://python.langchain.com/en/latest/modules/prompts/prompt_templates/getting_started.html)을 제공할 수도 있습니다.\n",
    "\n",
    "참고: 이 예에서는 Amazon Bedrock에서 LLM으로 Anthropic Claude를 사용하고 있습니다. 이 특정 모델은 입력이 'Human:' 아래에 제공되고 모델이 'Assistant:' 다음에 출력을 생성하도록 요청되는 경우 가장 잘 수행됩니다. 아래 셀에는 LLM이 기본 상태를 유지하고 컨텍스트 외부에서 응답하지 않도록 프롬프트를 제어하는 ​​방법의 예가 나와 있습니다."
   ]
  },
  {
   "cell_type": "markdown",
   "metadata": {},
   "source": [
    "### [TIP] Prompt의 instruction의 경우 한글보다 **영어**로 했을 때 더 좋은 결과를 얻을 수 있습니다."
   ]
  },
  {
   "cell_type": "markdown",
   "metadata": {},
   "source": [
    "### [[REF] Using langchain for Question Answering on Own Data](https://medium.com/@onkarmishra/using-langchain-for-question-answering-on-own-data-3af0a82789ed)"
   ]
  },
  {
   "cell_type": "code",
   "execution_count": 29,
   "metadata": {
    "tags": []
   },
   "outputs": [],
   "source": [
    "from langchain.chains import RetrievalQA\n",
    "from langchain.prompts import PromptTemplate\n",
    "from utils.rag import run_RetrievalQA, show_context_used"
   ]
  },
  {
   "cell_type": "code",
   "execution_count": 30,
   "metadata": {
    "tags": []
   },
   "outputs": [],
   "source": [
    "# prompt_template = \"\"\"\n",
    "# \\n\\nHuman: 다음 문맥의 Information을 사용하여 고객 서비스 센터 직원처럼, 마지막 질문에 대한 목차 형식으로 답변을 제공하세요. 응답을 모르면 모른다고 말하고 응답을 만들려고 하지 마세요.\n",
    "\n",
    "# {context}\n",
    "\n",
    "# Question: {question}\n",
    "# \\n\\nAssistant:\"\"\"\n",
    "\n",
    "prompt_template = \"\"\"\n",
    "\\n\\nHuman: Use the following pieces of context to provide a concise answer to the question at the end.\n",
    "If you don't know the answer, just say that you don't know, don't try to make up an answer.\n",
    "\n",
    "{context}\n",
    "\n",
    "Question: {question}\n",
    "\n",
    "\\n\\nAssistant:\"\"\"\n",
    "\n",
    "\n",
    "PROMPT = PromptTemplate(\n",
    "    template=prompt_template,\n",
    "    input_variables=[\"context\", \"question\"]\n",
    ")\n",
    "\n",
    "def run_RetrievalQA(**kwargs):\n",
    "\n",
    "    chain_types = [\"stuff\", \"map_reduce\", \"refine\"]\n",
    "\n",
    "    assert \"llm\" in kwargs, \"Check your llm\"\n",
    "    assert \"query\" in kwargs, \"Check your query\"\n",
    "    assert \"prompt\" in kwargs, \"Check your prompt\"\n",
    "    assert \"vector_db\" in kwargs, \"Check your vector_db\"\n",
    "    assert kwargs.get(\"chain_type\", \"stuff\") in chain_types, f'Check your chain_type, {chain_types}'\n",
    "\n",
    "    qa = RetrievalQA.from_chain_type(\n",
    "        llm=kwargs[\"llm\"],\n",
    "        chain_type=kwargs.get(\"chain_type\", \"stuff\"),\n",
    "        retriever=kwargs[\"vector_db\"].as_retriever(\n",
    "            search_type=\"similarity\",\n",
    "            search_kwargs={\n",
    "                \"k\": kwargs.get(\"k\", 5),\n",
    "                \"boolean_filter\": opensearch_utils.get_filter(\n",
    "                    filter=kwargs.get(\"boolean_filter\", [])\n",
    "                ),\n",
    "            }\n",
    "        ),\n",
    "        return_source_documents=True,\n",
    "        chain_type_kwargs={\n",
    "            \"prompt\": kwargs[\"prompt\"],\n",
    "            \"verbose\": kwargs.get(\"verbose\", False),\n",
    "        },\n",
    "        verbose=kwargs.get(\"verbose\", False)\n",
    "    )\n",
    "\n",
    "    return qa(kwargs[\"query\"])"
   ]
  },
  {
   "cell_type": "code",
   "execution_count": 31,
   "metadata": {
    "tags": []
   },
   "outputs": [],
   "source": [
    "from utils.rag import run_RetrievalQA"
   ]
  },
  {
   "cell_type": "code",
   "execution_count": 32,
   "metadata": {
    "tags": []
   },
   "outputs": [
    {
     "name": "stdout",
     "output_type": "stream",
     "text": [
      " 문서에서 찾은 내용을 참고해서 답변드리겠습니다.\n",
      "\n",
      "계약 전 알릴 의무란 청약할 때(진단계약의 경우 건강진단할 때) 청약서에서 질문한 사항에 대해 계약자나 피보험자가 알고 있는 사실을 반드시 사실대로 알려야 하는 의무를 말합니다. 이를 위반할 경우 보험계약의 해지나 보험금 부지급 등의 불이익을 받을 수 있습니다.##################################\n",
      "query:  계약 전 알릴 의무는 무엇인가요\n",
      "##################################\n",
      " 문서에서 찾은 내용을 참고해서 답변드리겠습니다.\n",
      "\n",
      "계약 전 알릴 의무란 청약할 때(진단계약의 경우 건강진단할 때) 청약서에서 질문한 사항에 대해 계약자나 피보험자가 알고 있는 사실을 반드시 사실대로 알려야 하는 의무를 말합니다.\n",
      "이를 위반할 경우 보험계약의 해지나 보험금 부지급 등의 불이익을 받을 수 있습니다.\n"
     ]
    }
   ],
   "source": [
    "# query = \"홈페이지 탈퇴하는방법 알려줘\"\n",
    "\n",
    "result = run_RetrievalQA(\n",
    "    query=query,\n",
    "    llm=llm_text,\n",
    "    prompt=PROMPT,\n",
    "    vector_db=vector_db,\n",
    "    verbose=False,\n",
    "    k=3\n",
    ")\n",
    "\n",
    "print(\"##################################\")\n",
    "print(\"query: \", query)\n",
    "print(\"##################################\")\n",
    "print_ww(result['result'])"
   ]
  },
  {
   "cell_type": "code",
   "execution_count": 33,
   "metadata": {
    "tags": []
   },
   "outputs": [
    {
     "name": "stdout",
     "output_type": "stream",
     "text": [
      "-----------------------------------------------\n",
      "1. Chunk: 1873 Characters\n",
      "-----------------------------------------------\n",
      "다.\n",
      "제 3 관 계약자의 계약 전 알릴 의무 등\n",
      "제 14 조 계약 전 알릴 의무\n",
      "계약자 또는 피보험자는 청약할 때(진단계약의 경우에는 건강진단할 때를 말합니다) 청약서에서 질문한\n",
      "사항에 대하여 알고 있는 사실을 반드시 사실대로 알려야(이하 ‘계약 전 알릴 의무’라 하며, 상법상 ‘고\n",
      "지의무’와 같습니다)합니다. 다만, 진단계약에서 의료법 제3조(의료기관)의 규정에 따른 종합병원과 병원\n",
      "에서 직장 또는 개인이 실시한 건강진단서 사본 등 건강상태를 판단할 수 있는 자료로 건강진단을 대신\n",
      "할 수 있습니다.\n",
      "【계약 전 알릴 의무】\n",
      "상법 제651조(고지의무 위반으로 인한 계약해지)에서 정하고 있는 의무. 보험계약자나 피보험자는 청\n",
      "약시에 보험회사가 질문한 중요한 사항에 대해 사실대로 알려야 하며, 위반시 보험계약의 해지 또는\n",
      "보험금 부지급 등 불이익을 당할 수 있습니다.\n",
      "제 15 조 계약 전 알릴 의무 위반의 효과\n",
      "① 회사는 계약자 또는 피보험자가 제14조(계약 전 알릴 의무)에도 불구하고 고의 또는 중대한 과실로\n",
      "중요한 사항에 대하여 사실과 다르게 알린 경우에는 회사가 별도로 정하는 방법에 따라 계약을 해지하\n",
      "거나 보장을 제한할 수 있습니다. 그러나 다음 중 한 가지에 해당되는 때에는 계약을 해지하거나 보장\n",
      "을 제한할 수 없습니다.\n",
      "1. 회사가 계약 당시에 그 사실을 알았거나 과실로 인하여 알지 못하였을 때\n",
      "2. 회사가 그 사실을 안 날부터 1개월 이상 지났거나 또는 보장개시일부터 보험금 지급사유가 발생하\n",
      "지 않고 2년(진단계약의 경우 질병에 대하여는 1년)이 지났을 때\n",
      "3. 계약을 체결한 날부터 3년이 지났을 때\n",
      "4. 회사가 이 계약을 청약할 때 피보험자의 건강상태를 판단할 수 있는 기초자료(건강진단서 사본 등)\n",
      "에 따라 승낙한 경우에 건강진단서 사본 등에 명기되어 있는 사항으로 보험금 지급사유가 발생하였\n",
      "을 때(계약자 또는 피보험자가 회사에 제출한 기초자료의 내용 중 중요사항을 고의로 사실과 다르\n",
      "게 작성한 때에는 계약을 해지하거나 보장을 제한할 수 있습니다)\n",
      "5. 보험설계사 등이 계약자 또는 피보험자에게 고지할 기회를 주지 않았거나 계약자 또는 피보험자가\n",
      "사실대로 고지하는 것을 방해한 경우, 계약자 또는 피보험자에게 사실대로 고지하지 않게 하였거나\n",
      "부실한 고지를 권유했을 때\n",
      "다만, 보험설계사 등의 행위가 없었다 하더라도 계약자 또는 피보험자가 사실대로 고지하지 않거나\n",
      "부실한 고지를 했다고 인정되는 경우에는 계약을 해지하거나 보장을 제한할 수 있습니다.\n",
      "② 회사는 제1항에 따라 계약을 해지하거나 보장을 제한할 경우에는 계약 전 알릴 의무 위반사실(계약\n",
      "해지 등의 원인이 되는 위반사실을 구체적으로 명시)뿐만 아니라 계약 전 알릴 의무 사항이 중요한 사\n",
      "항에 해당되는 사유 및 계약의 처리결과를 ‘반대증거가 있는 경우 이의를 제기할 수 있습니다’라는 문구\n",
      "와 함께 계약자에게 서면 또는 전자문서 등으로 알려 드립니다. 회사가 전자문서로 안내하고자 할 경우\n",
      "에는 계약자에게 서면 또는 「전자서명법」 제2조 제2호에 따른 전자서명으로 동의를 얻어 수신확인을\n",
      "조건으로 전자문서를 송신하여야 합니다. 계약자의 전자문서 수신이 확인되기 전까지는 그 전자문서는\n",
      "송신되지 않은 것으로 봅니다. 회사는 전자문서가 수신되지 않은 것을 확인한 경우에는 서면(등기우편\n",
      "등)으로 다시 알려드립니다.\n",
      "③ 제1항에 따라 계약을 해지하였을 때에는 제33조(해약환급금) 제1항 및 제2항에 따른 해약환급금을\n",
      "드리며, 보장을 제한하였을 때에는 보험료, 보험가입금액 등이 조정될 수 있습니다.\n",
      "④ 제14조(계약 전 알릴 의무)의 계약 전 알릴 의무를 위반한 사실이 보험금 지급사유 발생에 영향을\n",
      "미쳤음을 회사가 증명하지 못한 경우에는 제1항에도 불구하고 계약의 해지 또는 보장을 제한하기 이전\n",
      "까지 발생한 해당 보험금을 지급합니다.\n",
      "37\u0000/\u0000462\n",
      "metadata:\n",
      " {'source': '한화생명 The실속있는 간병치매보험_20240101~.pdf', 'type':\n",
      "'간병치매보험_20240101~', 'timestamp': 1705041896.1948419}\n",
      "-----------------------------------------------\n",
      "2. Chunk: 1873 Characters\n",
      "-----------------------------------------------\n",
      "다.\n",
      "제 3 관 계약자의 계약 전 알릴 의무 등\n",
      "제 14 조 계약 전 알릴 의무\n",
      "계약자 또는 피보험자는 청약할 때(진단계약의 경우에는 건강진단할 때를 말합니다) 청약서에서 질문한\n",
      "사항에 대하여 알고 있는 사실을 반드시 사실대로 알려야(이하 ‘계약 전 알릴 의무’라 하며, 상법상 ‘고\n",
      "지의무’와 같습니다)합니다. 다만, 진단계약에서 의료법 제3조(의료기관)의 규정에 따른 종합병원과 병원\n",
      "에서 직장 또는 개인이 실시한 건강진단서 사본 등 건강상태를 판단할 수 있는 자료로 건강진단을 대신\n",
      "할 수 있습니다.\n",
      "【계약 전 알릴 의무】\n",
      "상법 제651조(고지의무 위반으로 인한 계약해지)에서 정하고 있는 의무. 보험계약자나 피보험자는 청\n",
      "약시에 보험회사가 질문한 중요한 사항에 대해 사실대로 알려야 하며, 위반시 보험계약의 해지 또는\n",
      "보험금 부지급 등 불이익을 당할 수 있습니다.\n",
      "제 15 조 계약 전 알릴 의무 위반의 효과\n",
      "① 회사는 계약자 또는 피보험자가 제14조(계약 전 알릴 의무)에도 불구하고 고의 또는 중대한 과실로\n",
      "중요한 사항에 대하여 사실과 다르게 알린 경우에는 회사가 별도로 정하는 방법에 따라 계약을 해지하\n",
      "거나 보장을 제한할 수 있습니다. 그러나 다음 중 한 가지에 해당되는 때에는 계약을 해지하거나 보장\n",
      "을 제한할 수 없습니다.\n",
      "1. 회사가 계약 당시에 그 사실을 알았거나 과실로 인하여 알지 못하였을 때\n",
      "2. 회사가 그 사실을 안 날부터 1개월 이상 지났거나 또는 보장개시일부터 보험금 지급사유가 발생하\n",
      "지 않고 2년(진단계약의 경우 질병에 대하여는 1년)이 지났을 때\n",
      "3. 계약을 체결한 날부터 3년이 지났을 때\n",
      "4. 회사가 이 계약을 청약할 때 피보험자의 건강상태를 판단할 수 있는 기초자료(건강진단서 사본 등)\n",
      "에 따라 승낙한 경우에 건강진단서 사본 등에 명기되어 있는 사항으로 보험금 지급사유가 발생하였\n",
      "을 때(계약자 또는 피보험자가 회사에 제출한 기초자료의 내용 중 중요사항을 고의로 사실과 다르\n",
      "게 작성한 때에는 계약을 해지하거나 보장을 제한할 수 있습니다)\n",
      "5. 보험설계사 등이 계약자 또는 피보험자에게 고지할 기회를 주지 않았거나 계약자 또는 피보험자가\n",
      "사실대로 고지하는 것을 방해한 경우, 계약자 또는 피보험자에게 사실대로 고지하지 않게 하였거나\n",
      "부실한 고지를 권유했을 때\n",
      "다만, 보험설계사 등의 행위가 없었다 하더라도 계약자 또는 피보험자가 사실대로 고지하지 않거나\n",
      "부실한 고지를 했다고 인정되는 경우에는 계약을 해지하거나 보장을 제한할 수 있습니다.\n",
      "② 회사는 제1항에 따라 계약을 해지하거나 보장을 제한할 경우에는 계약 전 알릴 의무 위반사실(계약\n",
      "해지 등의 원인이 되는 위반사실을 구체적으로 명시)뿐만 아니라 계약 전 알릴 의무 사항이 중요한 사\n",
      "항에 해당되는 사유 및 계약의 처리결과를 ‘반대증거가 있는 경우 이의를 제기할 수 있습니다’라는 문구\n",
      "와 함께 계약자에게 서면 또는 전자문서 등으로 알려 드립니다. 회사가 전자문서로 안내하고자 할 경우\n",
      "에는 계약자에게 서면 또는 「전자서명법」 제2조 제2호에 따른 전자서명으로 동의를 얻어 수신확인을\n",
      "조건으로 전자문서를 송신하여야 합니다. 계약자의 전자문서 수신이 확인되기 전까지는 그 전자문서는\n",
      "송신되지 않은 것으로 봅니다. 회사는 전자문서가 수신되지 않은 것을 확인한 경우에는 서면(등기우편\n",
      "등)으로 다시 알려드립니다.\n",
      "③ 제1항에 따라 계약을 해지하였을 때에는 제33조(해약환급금) 제1항 및 제2항에 따른 해약환급금을\n",
      "드리며, 보장을 제한하였을 때에는 보험료, 보험가입금액 등이 조정될 수 있습니다.\n",
      "④ 제14조(계약 전 알릴 의무)의 계약 전 알릴 의무를 위반한 사실이 보험금 지급사유 발생에 영향을\n",
      "미쳤음을 회사가 증명하지 못한 경우에는 제1항에도 불구하고 계약의 해지 또는 보장을 제한하기 이전\n",
      "까지 발생한 해당 보험금을 지급합니다.\n",
      "37\u0000/\u0000448\n",
      "metadata:\n",
      " {'source': '한화생명 The실속있는 간병치매보험_20231209~_1.pdf', 'type':\n",
      "'간병치매보험_20231209~_1', 'timestamp': 1705041754.5490634}\n",
      "-----------------------------------------------\n",
      "3. Chunk: 1876 Characters\n",
      "-----------------------------------------------\n",
      "【‘계약자의 책임’의 예시】\n",
      "제7조(보험금 지급사유의 발생통지), 제8조(보험금의 청구), 제11조(주소변경통지), 제25조(제1회 보험\n",
      "료 및 회사의 보장개시), 제26조(제2회 이후 보험료의 납입) 등\n",
      "【연대(連帶)】\n",
      "2인 이상의 계약자가 각자 채무의 전부를 이행할 책임을 지는 것을 말하며(지분만큼 분할하여 책임\n",
      "을 지는 것과는 다름), 계약자 중 1인이 책임을 이행하는 경우 나머지 계약자는 책임을 면하게 됩니\n",
      "다.\n",
      "제 3 관 계약자의 계약 전 알릴 의무 등\n",
      "제 14 조 계약 전 알릴 의무\n",
      "계약자 또는 피보험자는 청약할 때(진단계약의 경우에는 건강진단할 때를 말합니다) 청약서에서 질문한\n",
      "사항에 대하여 알고 있는 사실을 반드시 사실대로 알려야(이하 ‘계약 전 알릴 의무’라 하며, 상법상 ‘고지\n",
      "의무’와 같습니다)합니다. 다만, 진단계약에서 의료법 제3조(의료기관)의 규정에 따른 종합병원과 병원에\n",
      "서 직장 또는 개인이 실시한 건강진단서 사본 등 건강상태를 판단할 수 있는 자료로 건강진단을 대신할\n",
      "수 있습니다.\n",
      "제 15 조 계약 전 알릴 의무 위반의 효과\n",
      "① 회사는 계약자 또는 피보험자가 제14조(계약 전 알릴 의무)에도 불구하고 고의 또는 중대한 과실로\n",
      "중요한 사항에 대하여 사실과 다르게 알린 경우에는 회사가 별도로 정하는 방법에 따라 계약을 해지하거\n",
      "나 보장을 제한할 수 있습니다. 그러나 다음 중 한 가지에 해당되는 때에는 계약을 해지하거나 보장을\n",
      "제한할 수 없습니다.\n",
      "1. 회사가 계약 당시에 그 사실을 알았거나 과실로 인하여 알지 못하였을 때\n",
      "2. 회사가 그 사실을 안 날부터 1개월 이상 지났거나 또는 보장개시일부터 보험금 지급사유가 발생하\n",
      "지 않고 2년(진단계약의 경우 질병에 대하여는 1년)이 지났을 때\n",
      "3. 계약을 체결한 날부터 3년이 지났을 때\n",
      "4. 회사가 이 계약을 청약할 때 피보험자의 건강상태를 판단할 수 있는 기초자료(건강진단서 사본 등)\n",
      "에 따라 승낙한 경우에 건강진단서 사본 등에 명기되어 있는 사항으로 보험금 지급사유가 발생하였\n",
      "을 때(계약자 또는 피보험자가 회사에 제출한 기초자료의 내용 중 중요사항을 고의로 사실과 다르\n",
      "게 작성한 때에는 계약을 해지하거나 보장을 제한할 수 있습니다)\n",
      "5. 보험설계사 등이 계약자 또는 피보험자에게 고지할 기회를 주지 않았거나 계약자 또는 피보험자가\n",
      "사실대로 고지하는 것을 방해한 경우, 계약자 또는 피보험자에게 사실대로 고지하지 않게 하였거나\n",
      "부실한 고지를 권유했을 때\n",
      "다만, 보험설계사 등의 행위가 없었다 하더라도 계약자 또는 피보험자가 사실대로 고지하지 않거나\n",
      "부실한 고지를 했다고 인정되는 경우에는 계약을 해지하거나 보장을 제한할 수 있습니다.\n",
      "② 회사는 제1항에 따라 계약을 해지하거나 보장을 제한할 경우에는 계약 전 알릴 의무 위반사실(계약해\n",
      "지 등의 원인이 되는 위반사실을 구체적으로 명시)뿐만 아니라 계약 전 알릴 의무 사항이 중요한 사항에\n",
      "해당되는 사유 및 계약의 처리결과를 “반대증거가 있는 경우 이의를 제기할 수 있습니다”라는 문구와 함\n",
      "께 계약자에게 서면 또는 전자문서 등으로 알려 드립니다. 회사가 전자문서로 안내하고자 할 경우에는\n",
      "계약자에게 서면 또는 「전자서명법」 제2조 제2호에 따른 전자서명으로 동의를 얻어 수신확인을 조건으\n",
      "로 전자문서를 송신하여야 합니다. 계약자의 전자문서 수신이 확인되기 전까지는 그 전자문서는 송신되\n",
      "지 않은 것으로 봅니다. 회사는 전자문서가 수신되지 않은 것을 확인한 경우에는 서면(등기우편 등)으로\n",
      "다시 알려드립니다.\n",
      "③ 제1항에 따라 계약을 해지하였을 때에는 제35조(해약환급금) 제1항에 따른 해약환급금을 드리며, 보\n",
      "장을 제한하였을 때에는 보험료, 보험가입금액 등이 조정될 수 있습니다.\n",
      "④ 제14조(계약 전 알릴 의무)의 계약 전 알릴 의무를 위반한 사실이 보험금 지급사유 발생에 영향을 미\n",
      "67\u0000/\u0000249\n",
      "metadata:\n",
      " {'source': '한화생명 The스마트한 일시납종신보험_20240101~.pdf', 'type':\n",
      "'일시납종신보험_20240101~', 'timestamp': 1705041709.8234928}\n"
     ]
    }
   ],
   "source": [
    "show_context_used(result['source_documents'])"
   ]
  },
  {
   "cell_type": "code",
   "execution_count": 36,
   "metadata": {
    "tags": []
   },
   "outputs": [],
   "source": [
    "prompt_template = \"\"\"\n",
    "\n",
    "Human: 너는 친절하게 정보를 제공하는 인공지능 비서야.\n",
    "사용자가 질문하면 <content> tag 안에 있는 내용과 너가 알고 있는 지식을 더해서 답변을 해줘야 해.\n",
    "사용자의 질문은 <question> tag 안에 있어.\n",
    "\n",
    "<content>\n",
    "{context}\n",
    "</content>\n",
    "\n",
    "<question>\n",
    "{question}\n",
    "</question>\n",
    "\n",
    "<content> tag 안에 질문과 관련된 내용이 없으면 '사용자의 질문에 대한 내용을 문서에서 찾을 수는 없지만 제가 알고 있는 내용은' 이라는 서두와 함께 답변해 줘\n",
    "<content> tag 안에 질문과 관련된 내용이 있으면 '문서에서 찾은 내용을 참고해서 답변드리겠습니다' 라는 서두와 함께 답변해줘 \n",
    "\"tag 에 따르면\" 이라는 서두는 제외하고 답변해줘.\n",
    "답변은 모두 공손하게 해줘\n",
    "\n",
    "답변은 250 토큰 이내로 해줘\n",
    "\n",
    "Assistant:\"\"\"\n",
    "    \n",
    "\n",
    "PROMPT = PromptTemplate(\n",
    "    template=prompt_template,\n",
    "    input_variables=[\"context\", \"question\"]\n",
    ")"
   ]
  },
  {
   "cell_type": "code",
   "execution_count": 37,
   "metadata": {
    "tags": []
   },
   "outputs": [
    {
     "name": "stdout",
     "output_type": "stream",
     "text": [
      " 문서에서 찾은 내용을 참고해서 답변드리겠습니다.\n",
      "\n",
      "계약 전 알릴 의무란 보험계약자나 피보험자가 보험계약 청약 시에 청약서에서 질문한 중요한 사항에 대해 사실대로 알려야 하는 의무를 말합니다. 이를 위반하면 보험계약 해지나 보험금 부지급 등의 불이익을 받을 수 있습니다. 알리지 않은 사항이 중요한 사항인지 여부와 고의 또는 과실 여부에 따라 위반 시 불이익이 다릅니다.##################################\n",
      "query:  계약 전 알릴 의무는 무엇인가요\n",
      "boolean_filter:  [{'term': {'metadata.type': '간병치매보험_20231209~_1'}}]\n",
      "##################################\n",
      " 문서에서 찾은 내용을 참고해서 답변드리겠습니다.\n",
      "\n",
      "계약 전 알릴 의무란 보험계약자나 피보험자가 보험계약 청약 시에 청약서에서 질문한 중요한 사항에 대해 사실대로 알려야 하는 의무를 말합니다. 이를 위반하면 보험계약 해지나 보험금\n",
      "부지급 등의 불이익을 받을 수 있습니다. 알리지 않은 사항이 중요한 사항인지 여부와 고의 또는 과실 여부에 따라 위반 시 불이익이 다릅니다.\n"
     ]
    }
   ],
   "source": [
    "filter01 = '간병치매보험_20231209~_1'\n",
    "filter02 = '한화생명 The실속있는 간병치매보험_20231209~_1.pdf'\n",
    "\n",
    "\n",
    "boolean_filter = [\n",
    "    {\"term\": {\"metadata.type\": filter01}},\n",
    "    # {\"term\": {\"metadata.source\": filter02}},\n",
    "]\n",
    "\n",
    "result = run_RetrievalQA(\n",
    "    query=query,\n",
    "    boolean_filter=boolean_filter,\n",
    "    llm=llm_text,\n",
    "    prompt=PROMPT,\n",
    "    vector_db=vector_db,\n",
    "    verbose=False,\n",
    "    k=3\n",
    ")\n",
    "\n",
    "print(\"##################################\")\n",
    "print(\"query: \", query)\n",
    "print(\"boolean_filter: \", boolean_filter)\n",
    "print(\"##################################\")\n",
    "print_ww(result['result'])"
   ]
  },
  {
   "cell_type": "code",
   "execution_count": 38,
   "metadata": {
    "tags": []
   },
   "outputs": [
    {
     "name": "stdout",
     "output_type": "stream",
     "text": [
      "-----------------------------------------------\n",
      "1. Chunk: 1873 Characters\n",
      "-----------------------------------------------\n",
      "다.\n",
      "제 3 관 계약자의 계약 전 알릴 의무 등\n",
      "제 14 조 계약 전 알릴 의무\n",
      "계약자 또는 피보험자는 청약할 때(진단계약의 경우에는 건강진단할 때를 말합니다) 청약서에서 질문한\n",
      "사항에 대하여 알고 있는 사실을 반드시 사실대로 알려야(이하 ‘계약 전 알릴 의무’라 하며, 상법상 ‘고\n",
      "지의무’와 같습니다)합니다. 다만, 진단계약에서 의료법 제3조(의료기관)의 규정에 따른 종합병원과 병원\n",
      "에서 직장 또는 개인이 실시한 건강진단서 사본 등 건강상태를 판단할 수 있는 자료로 건강진단을 대신\n",
      "할 수 있습니다.\n",
      "【계약 전 알릴 의무】\n",
      "상법 제651조(고지의무 위반으로 인한 계약해지)에서 정하고 있는 의무. 보험계약자나 피보험자는 청\n",
      "약시에 보험회사가 질문한 중요한 사항에 대해 사실대로 알려야 하며, 위반시 보험계약의 해지 또는\n",
      "보험금 부지급 등 불이익을 당할 수 있습니다.\n",
      "제 15 조 계약 전 알릴 의무 위반의 효과\n",
      "① 회사는 계약자 또는 피보험자가 제14조(계약 전 알릴 의무)에도 불구하고 고의 또는 중대한 과실로\n",
      "중요한 사항에 대하여 사실과 다르게 알린 경우에는 회사가 별도로 정하는 방법에 따라 계약을 해지하\n",
      "거나 보장을 제한할 수 있습니다. 그러나 다음 중 한 가지에 해당되는 때에는 계약을 해지하거나 보장\n",
      "을 제한할 수 없습니다.\n",
      "1. 회사가 계약 당시에 그 사실을 알았거나 과실로 인하여 알지 못하였을 때\n",
      "2. 회사가 그 사실을 안 날부터 1개월 이상 지났거나 또는 보장개시일부터 보험금 지급사유가 발생하\n",
      "지 않고 2년(진단계약의 경우 질병에 대하여는 1년)이 지났을 때\n",
      "3. 계약을 체결한 날부터 3년이 지났을 때\n",
      "4. 회사가 이 계약을 청약할 때 피보험자의 건강상태를 판단할 수 있는 기초자료(건강진단서 사본 등)\n",
      "에 따라 승낙한 경우에 건강진단서 사본 등에 명기되어 있는 사항으로 보험금 지급사유가 발생하였\n",
      "을 때(계약자 또는 피보험자가 회사에 제출한 기초자료의 내용 중 중요사항을 고의로 사실과 다르\n",
      "게 작성한 때에는 계약을 해지하거나 보장을 제한할 수 있습니다)\n",
      "5. 보험설계사 등이 계약자 또는 피보험자에게 고지할 기회를 주지 않았거나 계약자 또는 피보험자가\n",
      "사실대로 고지하는 것을 방해한 경우, 계약자 또는 피보험자에게 사실대로 고지하지 않게 하였거나\n",
      "부실한 고지를 권유했을 때\n",
      "다만, 보험설계사 등의 행위가 없었다 하더라도 계약자 또는 피보험자가 사실대로 고지하지 않거나\n",
      "부실한 고지를 했다고 인정되는 경우에는 계약을 해지하거나 보장을 제한할 수 있습니다.\n",
      "② 회사는 제1항에 따라 계약을 해지하거나 보장을 제한할 경우에는 계약 전 알릴 의무 위반사실(계약\n",
      "해지 등의 원인이 되는 위반사실을 구체적으로 명시)뿐만 아니라 계약 전 알릴 의무 사항이 중요한 사\n",
      "항에 해당되는 사유 및 계약의 처리결과를 ‘반대증거가 있는 경우 이의를 제기할 수 있습니다’라는 문구\n",
      "와 함께 계약자에게 서면 또는 전자문서 등으로 알려 드립니다. 회사가 전자문서로 안내하고자 할 경우\n",
      "에는 계약자에게 서면 또는 「전자서명법」 제2조 제2호에 따른 전자서명으로 동의를 얻어 수신확인을\n",
      "조건으로 전자문서를 송신하여야 합니다. 계약자의 전자문서 수신이 확인되기 전까지는 그 전자문서는\n",
      "송신되지 않은 것으로 봅니다. 회사는 전자문서가 수신되지 않은 것을 확인한 경우에는 서면(등기우편\n",
      "등)으로 다시 알려드립니다.\n",
      "③ 제1항에 따라 계약을 해지하였을 때에는 제33조(해약환급금) 제1항 및 제2항에 따른 해약환급금을\n",
      "드리며, 보장을 제한하였을 때에는 보험료, 보험가입금액 등이 조정될 수 있습니다.\n",
      "④ 제14조(계약 전 알릴 의무)의 계약 전 알릴 의무를 위반한 사실이 보험금 지급사유 발생에 영향을\n",
      "미쳤음을 회사가 증명하지 못한 경우에는 제1항에도 불구하고 계약의 해지 또는 보장을 제한하기 이전\n",
      "까지 발생한 해당 보험금을 지급합니다.\n",
      "37\u0000/\u0000448\n",
      "metadata:\n",
      " {'source': '한화생명 The실속있는 간병치매보험_20231209~_1.pdf', 'type':\n",
      "'간병치매보험_20231209~_1', 'timestamp': 1705041754.5490634}\n",
      "-----------------------------------------------\n",
      "2. Chunk: 953 Characters\n",
      "-----------------------------------------------\n",
      "(4) 보험계약 전 보험계약자 또는 피보험자는 보험계약을 청약할 때 청약서의 질문사항(중요사항)에\n",
      "알릴의무 대하여 사실대로 알려야 합니다.\n",
      "위반 시 효과\n",
      "고의 또는 중과실로\n",
      "사실과 다르게 알린 경우\n",
      "보험계약자 또는 피보험자 보험회사는 계약 해지 또는 보장 제한 가능\n",
      "[주의 사항]\n",
      "청약철회가 불가능한 경우,\n",
      "① 청약서의 질문사항에 대하여 보험설계사에게만 구두로 알렸을 경우\n",
      "▶ 보험계약 전 알릴의무를 이행한 것으로 볼 수 없습니다.\n",
      "② 전화 등 통신수단을 통한 보험계약의 경우\n",
      "▶ 보험회사 상담원의 질문이 청약서의 질문사항을 대신하므로 상담원의 질문에\n",
      "사실대로 답변하여야 합니다.\n",
      "[민원 사례]\n",
      "A씨는 고지혈증, 당뇨병으로 90일간 투약처방 받은 사실을 보험설계사에게만\n",
      "알려주고, 청약서에 기재하지 않은 채 00질병보험에 가입하였으며, 가입 이후 1년간\n",
      "당뇨병으로 통원치료를 받아 보험금을 청구\n",
      "▶ 보험회사는 보험계약이 해지됨과 동시에 보험금 지급이 어려움을 안내\n",
      "[법률 지식]\n",
      "일반적으로 보험설계사는 독자적으로 보험회사를 대리하여 보험계약을 체결할 권한\n",
      "이나 고지의무를 수령할 권한이 없음(대법원 2007. 6. 28. 선고 2006다59837)\n",
      "(5) 보험계약 후 보험계약자 등은 피보험자의 직업·직무 변경 등이 발생한 경우 지체없이 보험회사에\n",
      "알릴의무 알려야 하며, 이를 위반하는 경우 보험금 지급이 제한될 수 있습니다.\n",
      "위반 시 불이익\n",
      "보험회사는 피보험자의 직업·직무 변경 등으로 인해,\n",
      "① 위험이 감소한 경우 ▶ 보험료를 감액하고 정산금액을 환급하여 드립니다.\n",
      "② 위험이 증가한 경우 ▶ 보험료가 증액되고 정산금액의 추가 납입이 필요할 수\n",
      "있습니다.\n",
      "회사에 위험 증가 시 보험료 증액, 정산금액 추가납입\n",
      "알린 경우 위험 감소 시 보험료 감액, 정산금액 환급\n",
      "회사에 위험 증가 시 보험금 지급 제한 또는 삭감 가능\n",
      "알리지 않은 경우 위험 감소 시 보험료 감액, 정산금액 환급 불가\n",
      "29\u0000/\u0000448\n",
      "metadata:\n",
      " {'source': '한화생명 The실속있는 간병치매보험_20231209~_1.pdf', 'type':\n",
      "'간병치매보험_20231209~_1', 'timestamp': 1705041752.2103145}\n",
      "-----------------------------------------------\n",
      "3. Chunk: 1862 Characters\n",
      "-----------------------------------------------\n",
      "⑤ 회사는 다른 보험가입내역에 대한 계약 전 알릴 의무 위반을 이유로 계약을 해지하거나 보험금 지급\n",
      "을 거절하지 않습니다.\n",
      "【계약 전 알릴 의무 위반 사례】\n",
      "계약을 청약하면서 보험설계사에게 고혈압이 있다고만 이야기하였을 뿐, 청약서의 계약 전 알릴 사항\n",
      "에 아무런 기재도 하지 않을 경우에는 보험설계사에게 고혈압 병력을 이야기하였다고 하더라도 회사\n",
      "는 계약 전 알릴 의무 위반을 이유로 계약을 해지하고 보험금을 지급하지 않을 수 있습니다.\n",
      "제 16 조 사기에 의한 계약\n",
      "① 계약자 또는 피보험자가 대리진단, 약물사용을 수단으로 진단절차를 통과하거나 진단서 위·변조 또는\n",
      "청약일 이전에 암 또는 인간면역결핍바이러스(HIV) 감염의 진단 확정을 받은 후 이를 숨기고 가입하는\n",
      "등의 뚜렷한 사기의사에 의하여 계약이 성립되었음을 회사가 증명하는 경우에는 보장개시일부터 5년 이\n",
      "내(사기사실을 안 날부터는 1개월 이내)에 계약을 취소할 수 있습니다.\n",
      "② 제1항에 따라 계약이 취소된 경우에는 회사는 계약자에게 이미 납입한 보험료를 돌려 드립니다.\n",
      "제 4 관 보험계약의 성립과 유지\n",
      "제 17 조 보험계약의 성립\n",
      "① 계약은 계약자의 청약(請約)과 회사의 승낙(承諾)으로 이루어집니다.\n",
      "② 회사는 피보험자가 계약에 적합하지 않은 경우에는 승낙을 거절하거나 별도의 조건(보험가입금액 제\n",
      "한, 일부보장 제외, 보험금 삭감, 보험료 할증 등)을 붙여 승낙할 수 있습니다.\n",
      "③ 회사는 계약의 청약을 받고, 제1회 보험료를 받은 경우에 건강진단을 받지 않는 계약은 청약일, 진단\n",
      "계약은 진단일(재진단의 경우에는 최종 진단일)부터 30일 이내에 승낙 또는 거절하여야 하며, 승낙한 때\n",
      "에는 보험증권을 드립니다. 그러나 30일 이내에 승낙 또는 거절의 통지가 없으면 승낙된 것으로 봅니다.\n",
      "④ 회사가 제1회 보험료를 받고 승낙을 거절한 경우에는 거절통지와 함께 받은 금액을 돌려 드리며, 보\n",
      "험료를 받은 기간에 대하여 평균공시이율+1%를 연단위 복리로 계산한 금액을 더하여 지급합니다. 다만,\n",
      "회사는 계약자가 제1회 보험료를 신용카드로 납입한 계약의 승낙을 거절하는 경우에는 신용카드의 매출\n",
      "을 취소하며 이자를 더하여 지급하지 않습니다.\n",
      "⑤ 회사가 제2항에 따라 일부보장 제외 조건을 붙여 승낙하였더라도 청약일로부터 5년이 지나는 동안\n",
      "보장이 제외되는 질병으로 추가진단(단순 건강검진 제외) 또는 치료 사실이 없을 경우, 청약일로부터 5\n",
      "년이 지난 이후에는 제5조(보험금의 지급사유)에 따라 보장하여 드립니다.\n",
      "⑥ 제5항의 ‘청약일로부터 5년이 지나는 동안’이라 함은 제27조(보험료의 납입이 연체되는 경우 납입최\n",
      "고(독촉)와 계약의 해지)에서 정한 계약의 해지가 발생하지 않은 경우를 말합니다.\n",
      "⑦ 제28조(보험료의 납입연체로 인하여 해지된 계약의 부활(효력회복))에서 정한 계약의 부활(효력회복)\n",
      "이 이루어진 경우 부활(효력회복)을 청약한 날을 제5항의 청약일로 하여 적용합니다.\n",
      "제 18 조 청약의 철회\n",
      "① 계약자는 보험증권을 받은 날부터 15일 이내에 그 청약을 철회(撤回)할 수 있습니다. 다만, 다음 중\n",
      "한 가지에 해당되는 때에는 청약을 철회할 수 없습니다.\n",
      "1. 회사가 건강상태 진단을 지원하는 계약, 보험기간이 90일 이내인 계약 또는 전문금융소비자가 체결\n",
      "한 계약\n",
      "2. 청약을 한 날부터 30일을 초과한 경우. 다만, 청약시점에 만 65세 이상인 계약자가 전화를 이용하\n",
      "여 계약을 체결한 경우 ‘청약을 한 날부터 45일을 초과한 경우’로 합니다.\n",
      "【 전문금융소비자 】\n",
      "보험계약에 관한 전문성, 자산규모 등에 비추어 보험계약에 따른 위험감수능력이 있는 자로서, 국가,\n",
      "지방자치단체, 한국은행, 금융회사, 주권상장법인 등을 포함하며 「금융소비자 보호에 관한 법률」 제2\n",
      "조(정의) 제9호에서 정하는 전문금융소비자를 말합니다.\n",
      "38\u0000/\u0000448\n",
      "metadata:\n",
      " {'source': '한화생명 The실속있는 간병치매보험_20231209~_1.pdf', 'type':\n",
      "'간병치매보험_20231209~_1', 'timestamp': 1705041754.7605407}\n"
     ]
    }
   ],
   "source": [
    "show_context_used(result['source_documents'])"
   ]
  },
  {
   "cell_type": "code",
   "execution_count": 40,
   "metadata": {
    "tags": []
   },
   "outputs": [
    {
     "name": "stdout",
     "output_type": "stream",
     "text": [
      "\n",
      "\n",
      "\u001b[1m> Entering new RetrievalQA chain...\u001b[0m\n",
      "\n",
      "\n",
      "\u001b[1m> Entering new StuffDocumentsChain chain...\u001b[0m\n",
      "\n",
      "\n",
      "\u001b[1m> Entering new LLMChain chain...\u001b[0m\n",
      "Prompt after formatting:\n",
      "\u001b[32;1m\u001b[1;3m\n",
      "\n",
      "Human: 너는 친절하게 정보를 제공하는 인공지능 비서야.\n",
      "사용자가 질문하면 <content> tag 안에 있는 내용과 너가 알고 있는 지식을 더해서 답변을 해줘야 해.\n",
      "사용자의 질문은 <question> tag 안에 있어.\n",
      "\n",
      "<content>\n",
      "다.\n",
      "제 3 관 계약자의 계약 전 알릴 의무 등\n",
      "제 14 조 계약 전 알릴 의무\n",
      "계약자 또는 피보험자는 청약할 때(진단계약의 경우에는 건강진단할 때를 말합니다) 청약서에서 질문한\n",
      "사항에 대하여 알고 있는 사실을 반드시 사실대로 알려야(이하 ‘계약 전 알릴 의무’라 하며, 상법상 ‘고\n",
      "지의무’와 같습니다)합니다. 다만, 진단계약에서 의료법 제3조(의료기관)의 규정에 따른 종합병원과 병원\n",
      "에서 직장 또는 개인이 실시한 건강진단서 사본 등 건강상태를 판단할 수 있는 자료로 건강진단을 대신\n",
      "할 수 있습니다.\n",
      "【계약 전 알릴 의무】\n",
      "상법 제651조(고지의무 위반으로 인한 계약해지)에서 정하고 있는 의무. 보험계약자나 피보험자는 청\n",
      "약시에 보험회사가 질문한 중요한 사항에 대해 사실대로 알려야 하며, 위반시 보험계약의 해지 또는\n",
      "보험금 부지급 등 불이익을 당할 수 있습니다.\n",
      "제 15 조 계약 전 알릴 의무 위반의 효과\n",
      "① 회사는 계약자 또는 피보험자가 제14조(계약 전 알릴 의무)에도 불구하고 고의 또는 중대한 과실로\n",
      "중요한 사항에 대하여 사실과 다르게 알린 경우에는 회사가 별도로 정하는 방법에 따라 계약을 해지하\n",
      "거나 보장을 제한할 수 있습니다. 그러나 다음 중 한 가지에 해당되는 때에는 계약을 해지하거나 보장\n",
      "을 제한할 수 없습니다.\n",
      "1. 회사가 계약 당시에 그 사실을 알았거나 과실로 인하여 알지 못하였을 때\n",
      "2. 회사가 그 사실을 안 날부터 1개월 이상 지났거나 또는 보장개시일부터 보험금 지급사유가 발생하\n",
      "지 않고 2년(진단계약의 경우 질병에 대하여는 1년)이 지났을 때\n",
      "3. 계약을 체결한 날부터 3년이 지났을 때\n",
      "4. 회사가 이 계약을 청약할 때 피보험자의 건강상태를 판단할 수 있는 기초자료(건강진단서 사본 등)\n",
      "에 따라 승낙한 경우에 건강진단서 사본 등에 명기되어 있는 사항으로 보험금 지급사유가 발생하였\n",
      "을 때(계약자 또는 피보험자가 회사에 제출한 기초자료의 내용 중 중요사항을 고의로 사실과 다르\n",
      "게 작성한 때에는 계약을 해지하거나 보장을 제한할 수 있습니다)\n",
      "5. 보험설계사 등이 계약자 또는 피보험자에게 고지할 기회를 주지 않았거나 계약자 또는 피보험자가\n",
      "사실대로 고지하는 것을 방해한 경우, 계약자 또는 피보험자에게 사실대로 고지하지 않게 하였거나\n",
      "부실한 고지를 권유했을 때\n",
      "다만, 보험설계사 등의 행위가 없었다 하더라도 계약자 또는 피보험자가 사실대로 고지하지 않거나\n",
      "부실한 고지를 했다고 인정되는 경우에는 계약을 해지하거나 보장을 제한할 수 있습니다.\n",
      "② 회사는 제1항에 따라 계약을 해지하거나 보장을 제한할 경우에는 계약 전 알릴 의무 위반사실(계약\n",
      "해지 등의 원인이 되는 위반사실을 구체적으로 명시)뿐만 아니라 계약 전 알릴 의무 사항이 중요한 사\n",
      "항에 해당되는 사유 및 계약의 처리결과를 ‘반대증거가 있는 경우 이의를 제기할 수 있습니다’라는 문구\n",
      "와 함께 계약자에게 서면 또는 전자문서 등으로 알려 드립니다. 회사가 전자문서로 안내하고자 할 경우\n",
      "에는 계약자에게 서면 또는 「전자서명법」 제2조 제2호에 따른 전자서명으로 동의를 얻어 수신확인을\n",
      "조건으로 전자문서를 송신하여야 합니다. 계약자의 전자문서 수신이 확인되기 전까지는 그 전자문서는\n",
      "송신되지 않은 것으로 봅니다. 회사는 전자문서가 수신되지 않은 것을 확인한 경우에는 서면(등기우편\n",
      "등)으로 다시 알려드립니다.\n",
      "③ 제1항에 따라 계약을 해지하였을 때에는 제33조(해약환급금) 제1항 및 제2항에 따른 해약환급금을\n",
      "드리며, 보장을 제한하였을 때에는 보험료, 보험가입금액 등이 조정될 수 있습니다.\n",
      "④ 제14조(계약 전 알릴 의무)의 계약 전 알릴 의무를 위반한 사실이 보험금 지급사유 발생에 영향을\n",
      "미쳤음을 회사가 증명하지 못한 경우에는 제1항에도 불구하고 계약의 해지 또는 보장을 제한하기 이전\n",
      "까지 발생한 해당 보험금을 지급합니다.\n",
      "37\u0000/\u0000462\n",
      "\n",
      "(4) 보험계약 전 보험계약자 또는 피보험자는 보험계약을 청약할 때 청약서의 질문사항(중요사항)에\n",
      "알릴의무 대하여 사실대로 알려야 합니다.\n",
      "위반 시 효과\n",
      "고의 또는 중과실로\n",
      "사실과 다르게 알린 경우\n",
      "보험계약자 또는 피보험자 보험회사는 계약 해지 또는 보장 제한 가능\n",
      "[주의 사항]\n",
      "청약철회가 불가능한 경우,\n",
      "① 청약서의 질문사항에 대하여 보험설계사에게만 구두로 알렸을 경우\n",
      "▶ 보험계약 전 알릴의무를 이행한 것으로 볼 수 없습니다.\n",
      "② 전화 등 통신수단을 통한 보험계약의 경우\n",
      "▶ 보험회사 상담원의 질문이 청약서의 질문사항을 대신하므로 상담원의 질문에\n",
      "사실대로 답변하여야 합니다.\n",
      "[민원 사례]\n",
      "A씨는 고지혈증, 당뇨병으로 90일간 투약처방 받은 사실을 보험설계사에게만\n",
      "알려주고, 청약서에 기재하지 않은 채 00질병보험에 가입하였으며, 가입 이후 1년간\n",
      "당뇨병으로 통원치료를 받아 보험금을 청구\n",
      "▶ 보험회사는 보험계약이 해지됨과 동시에 보험금 지급이 어려움을 안내\n",
      "[법률 지식]\n",
      "일반적으로 보험설계사는 독자적으로 보험회사를 대리하여 보험계약을 체결할 권한\n",
      "이나 고지의무를 수령할 권한이 없음(대법원 2007. 6. 28. 선고 2006다59837)\n",
      "(5) 보험계약 후 보험계약자 등은 피보험자의 직업·직무 변경 등이 발생한 경우 지체없이 보험회사에\n",
      "알릴의무 알려야 하며, 이를 위반하는 경우 보험금 지급이 제한될 수 있습니다.\n",
      "위반 시 불이익\n",
      "보험회사는 피보험자의 직업·직무 변경 등으로 인해,\n",
      "① 위험이 감소한 경우 ▶ 보험료를 감액하고 정산금액을 환급하여 드립니다.\n",
      "② 위험이 증가한 경우 ▶ 보험료가 증액되고 정산금액의 추가 납입이 필요할 수\n",
      "있습니다.\n",
      "회사에 위험 증가 시 보험료 증액, 정산금액 추가납입\n",
      "알린 경우 위험 감소 시 보험료 감액, 정산금액 환급\n",
      "회사에 위험 증가 시 보험금 지급 제한 또는 삭감 가능\n",
      "알리지 않은 경우 위험 감소 시 보험료 감액, 정산금액 환급 불가\n",
      "29\u0000/\u0000462\n",
      "\n",
      "⑤ 회사는 다른 보험가입내역에 대한 계약 전 알릴 의무 위반을 이유로 계약을 해지하거나 보험금 지급\n",
      "을 거절하지 않습니다.\n",
      "【계약 전 알릴 의무 위반 사례】\n",
      "계약을 청약하면서 보험설계사에게 고혈압이 있다고만 이야기하였을 뿐, 청약서의 계약 전 알릴 사항\n",
      "에 아무런 기재도 하지 않을 경우에는 보험설계사에게 고혈압 병력을 이야기하였다고 하더라도 회사\n",
      "는 계약 전 알릴 의무 위반을 이유로 계약을 해지하고 보험금을 지급하지 않을 수 있습니다.\n",
      "제 16 조 사기에 의한 계약\n",
      "① 계약자 또는 피보험자가 대리진단, 약물사용을 수단으로 진단절차를 통과하거나 진단서 위·변조 또는\n",
      "청약일 이전에 암 또는 인간면역결핍바이러스(HIV) 감염의 진단 확정을 받은 후 이를 숨기고 가입하는\n",
      "등의 뚜렷한 사기의사에 의하여 계약이 성립되었음을 회사가 증명하는 경우에는 보장개시일부터 5년 이\n",
      "내(사기사실을 안 날부터는 1개월 이내)에 계약을 취소할 수 있습니다.\n",
      "② 제1항에 따라 계약이 취소된 경우에는 회사는 계약자에게 이미 납입한 보험료를 돌려 드립니다.\n",
      "제 4 관 보험계약의 성립과 유지\n",
      "제 17 조 보험계약의 성립\n",
      "① 계약은 계약자의 청약(請約)과 회사의 승낙(承諾)으로 이루어집니다.\n",
      "② 회사는 피보험자가 계약에 적합하지 않은 경우에는 승낙을 거절하거나 별도의 조건(보험가입금액 제\n",
      "한, 일부보장 제외, 보험금 삭감, 보험료 할증 등)을 붙여 승낙할 수 있습니다.\n",
      "③ 회사는 계약의 청약을 받고, 제1회 보험료를 받은 경우에 건강진단을 받지 않는 계약은 청약일, 진단\n",
      "계약은 진단일(재진단의 경우에는 최종 진단일)부터 30일 이내에 승낙 또는 거절하여야 하며, 승낙한 때\n",
      "에는 보험증권을 드립니다. 그러나 30일 이내에 승낙 또는 거절의 통지가 없으면 승낙된 것으로 봅니다.\n",
      "④ 회사가 제1회 보험료를 받고 승낙을 거절한 경우에는 거절통지와 함께 받은 금액을 돌려 드리며, 보\n",
      "험료를 받은 기간에 대하여 평균공시이율+1%를 연단위 복리로 계산한 금액을 더하여 지급합니다. 다만,\n",
      "회사는 계약자가 제1회 보험료를 신용카드로 납입한 계약의 승낙을 거절하는 경우에는 신용카드의 매출\n",
      "을 취소하며 이자를 더하여 지급하지 않습니다.\n",
      "⑤ 회사가 제2항에 따라 일부보장 제외 조건을 붙여 승낙하였더라도 청약일로부터 5년이 지나는 동안\n",
      "보장이 제외되는 질병으로 추가진단(단순 건강검진 제외) 또는 치료 사실이 없을 경우, 청약일로부터 5\n",
      "년이 지난 이후에는 제5조(보험금의 지급사유)에 따라 보장하여 드립니다.\n",
      "⑥ 제5항의 ‘청약일로부터 5년이 지나는 동안’이라 함은 제27조(보험료의 납입이 연체되는 경우 납입최\n",
      "고(독촉)와 계약의 해지)에서 정한 계약의 해지가 발생하지 않은 경우를 말합니다.\n",
      "⑦ 제28조(보험료의 납입연체로 인하여 해지된 계약의 부활(효력회복))에서 정한 계약의 부활(효력회복)\n",
      "이 이루어진 경우 부활(효력회복)을 청약한 날을 제5항의 청약일로 하여 적용합니다.\n",
      "제 18 조 청약의 철회\n",
      "① 계약자는 보험증권을 받은 날부터 15일 이내에 그 청약을 철회(撤回)할 수 있습니다. 다만, 다음 중\n",
      "한 가지에 해당되는 때에는 청약을 철회할 수 없습니다.\n",
      "1. 회사가 건강상태 진단을 지원하는 계약, 보험기간이 90일 이내인 계약 또는 전문금융소비자가 체결\n",
      "한 계약\n",
      "2. 청약을 한 날부터 30일을 초과한 경우. 다만, 청약시점에 만 65세 이상인 계약자가 전화를 이용하\n",
      "여 계약을 체결한 경우 ‘청약을 한 날부터 45일을 초과한 경우’로 합니다.\n",
      "【 전문금융소비자 】\n",
      "보험계약에 관한 전문성, 자산규모 등에 비추어 보험계약에 따른 위험감수능력이 있는 자로서, 국가,\n",
      "지방자치단체, 한국은행, 금융회사, 주권상장법인 등을 포함하며 「금융소비자 보호에 관한 법률」 제2\n",
      "조(정의) 제9호에서 정하는 전문금융소비자를 말합니다.\n",
      "38\u0000/\u0000462\n",
      "</content>\n",
      "\n",
      "<question>\n",
      "계약 전 알릴 의무는 무엇인가요\n",
      "</question>\n",
      "\n",
      "<content> tag 안에 질문과 관련된 내용이 없으면 '사용자의 질문에 대한 내용을 문서에서 찾을 수는 없지만 제가 알고 있는 내용은' 이라는 서두와 함께 답변해 줘\n",
      "<content> tag 안에 질문과 관련된 내용이 있으면 '문서에서 찾은 내용을 참고해서 답변드리겠습니다' 라는 서두와 함께 답변해줘 \n",
      "\"tag 에 따르면\" 이라는 서두는 제외하고 답변해줘.\n",
      "답변은 모두 공손하게 해줘\n",
      "\n",
      "답변은 250 토큰 이내로 해줘\n",
      "\n",
      "Assistant:\u001b[0m\n",
      " 문서에서 찾은 내용을 참고해서 답변드리겠습니다.\n",
      "\n",
      "계약 전 알릴 의무라 함은 보험계약자나 피보험자가 청약할 때 보험회사가 질문한 사항에 대해 사실대로 알려야 하는 의무를 말합니다. 이 의무를 위반하면 보험계약의 해지나 보험금 부지급 등의 불이익을 받을 수 있습니다. 구체적으로 계약 전 알릴 의무의 주요 내용은 다음과 같습니다.\n",
      "\n",
      "- 청약할 때 청약서에서 질문한 사항에 대해 사실대로 알려야 합니다. \n",
      "- 보험설계사에게만 구두로 알린 것은 불충분합니다.\n",
      "- 보험계약 후에도 직업, 직무 등 중요사항이 변경되면 회사에 알려야 합니다.\n",
      "\n",
      "즉, 계약 전 알릴 의무는 계약 전과 후 모두 보험회사에 정확한 정보를 제공해야 하는 중요한 의무입니다.\n",
      "\u001b[1m> Finished chain.\u001b[0m\n",
      "\n",
      "\u001b[1m> Finished chain.\u001b[0m\n",
      "\n",
      "\u001b[1m> Finished chain.\u001b[0m\n",
      "##################################\n",
      "query:  계약 전 알릴 의무는 무엇인가요\n",
      "boolean_filter:  [{'term': {'metadata.type': '간병치매보험_20240101~'}}, {'term': {'metadata.source': '한화생명 The실속있는 간병치매보험_20240101~.pdf'}}]\n",
      "##################################\n",
      " 문서에서 찾은 내용을 참고해서 답변드리겠습니다.\n",
      "\n",
      "계약 전 알릴 의무라 함은 보험계약자나 피보험자가 청약할 때 보험회사가 질문한 사항에 대해 사실대로 알려야 하는 의무를 말합니다. 이 의무를 위반하면 보험계약의 해지나 보험금\n",
      "부지급 등의 불이익을 받을 수 있습니다. 구체적으로 계약 전 알릴 의무의 주요 내용은 다음과 같습니다.\n",
      "\n",
      "- 청약할 때 청약서에서 질문한 사항에 대해 사실대로 알려야 합니다.\n",
      "- 보험설계사에게만 구두로 알린 것은 불충분합니다.\n",
      "- 보험계약 후에도 직업, 직무 등 중요사항이 변경되면 회사에 알려야 합니다.\n",
      "\n",
      "즉, 계약 전 알릴 의무는 계약 전과 후 모두 보험회사에 정확한 정보를 제공해야 하는 중요한 의무입니다.\n"
     ]
    }
   ],
   "source": [
    "filter01 = '간병치매보험_20240101~'\n",
    "filter02 = '한화생명 The실속있는 간병치매보험_20240101~.pdf'\n",
    "\n",
    "boolean_filter = [\n",
    "    {\"term\": {\"metadata.type\": filter01}},\n",
    "    {\"term\": {\"metadata.source\": filter02}},\n",
    "]\n",
    "\n",
    "result = run_RetrievalQA(\n",
    "    query=query,\n",
    "    boolean_filter=boolean_filter,\n",
    "    llm=llm_text,\n",
    "    prompt=PROMPT,\n",
    "    vector_db=vector_db,\n",
    "    verbose=True,\n",
    "    k=3\n",
    ")\n",
    "\n",
    "print(\"##################################\")\n",
    "print(\"query: \", query)\n",
    "print(\"boolean_filter: \", boolean_filter)\n",
    "print(\"##################################\")\n",
    "print_ww(result['result'])"
   ]
  },
  {
   "cell_type": "code",
   "execution_count": 41,
   "metadata": {
    "tags": []
   },
   "outputs": [
    {
     "name": "stdout",
     "output_type": "stream",
     "text": [
      "-----------------------------------------------\n",
      "1. Chunk: 1873 Characters\n",
      "-----------------------------------------------\n",
      "다.\n",
      "제 3 관 계약자의 계약 전 알릴 의무 등\n",
      "제 14 조 계약 전 알릴 의무\n",
      "계약자 또는 피보험자는 청약할 때(진단계약의 경우에는 건강진단할 때를 말합니다) 청약서에서 질문한\n",
      "사항에 대하여 알고 있는 사실을 반드시 사실대로 알려야(이하 ‘계약 전 알릴 의무’라 하며, 상법상 ‘고\n",
      "지의무’와 같습니다)합니다. 다만, 진단계약에서 의료법 제3조(의료기관)의 규정에 따른 종합병원과 병원\n",
      "에서 직장 또는 개인이 실시한 건강진단서 사본 등 건강상태를 판단할 수 있는 자료로 건강진단을 대신\n",
      "할 수 있습니다.\n",
      "【계약 전 알릴 의무】\n",
      "상법 제651조(고지의무 위반으로 인한 계약해지)에서 정하고 있는 의무. 보험계약자나 피보험자는 청\n",
      "약시에 보험회사가 질문한 중요한 사항에 대해 사실대로 알려야 하며, 위반시 보험계약의 해지 또는\n",
      "보험금 부지급 등 불이익을 당할 수 있습니다.\n",
      "제 15 조 계약 전 알릴 의무 위반의 효과\n",
      "① 회사는 계약자 또는 피보험자가 제14조(계약 전 알릴 의무)에도 불구하고 고의 또는 중대한 과실로\n",
      "중요한 사항에 대하여 사실과 다르게 알린 경우에는 회사가 별도로 정하는 방법에 따라 계약을 해지하\n",
      "거나 보장을 제한할 수 있습니다. 그러나 다음 중 한 가지에 해당되는 때에는 계약을 해지하거나 보장\n",
      "을 제한할 수 없습니다.\n",
      "1. 회사가 계약 당시에 그 사실을 알았거나 과실로 인하여 알지 못하였을 때\n",
      "2. 회사가 그 사실을 안 날부터 1개월 이상 지났거나 또는 보장개시일부터 보험금 지급사유가 발생하\n",
      "지 않고 2년(진단계약의 경우 질병에 대하여는 1년)이 지났을 때\n",
      "3. 계약을 체결한 날부터 3년이 지났을 때\n",
      "4. 회사가 이 계약을 청약할 때 피보험자의 건강상태를 판단할 수 있는 기초자료(건강진단서 사본 등)\n",
      "에 따라 승낙한 경우에 건강진단서 사본 등에 명기되어 있는 사항으로 보험금 지급사유가 발생하였\n",
      "을 때(계약자 또는 피보험자가 회사에 제출한 기초자료의 내용 중 중요사항을 고의로 사실과 다르\n",
      "게 작성한 때에는 계약을 해지하거나 보장을 제한할 수 있습니다)\n",
      "5. 보험설계사 등이 계약자 또는 피보험자에게 고지할 기회를 주지 않았거나 계약자 또는 피보험자가\n",
      "사실대로 고지하는 것을 방해한 경우, 계약자 또는 피보험자에게 사실대로 고지하지 않게 하였거나\n",
      "부실한 고지를 권유했을 때\n",
      "다만, 보험설계사 등의 행위가 없었다 하더라도 계약자 또는 피보험자가 사실대로 고지하지 않거나\n",
      "부실한 고지를 했다고 인정되는 경우에는 계약을 해지하거나 보장을 제한할 수 있습니다.\n",
      "② 회사는 제1항에 따라 계약을 해지하거나 보장을 제한할 경우에는 계약 전 알릴 의무 위반사실(계약\n",
      "해지 등의 원인이 되는 위반사실을 구체적으로 명시)뿐만 아니라 계약 전 알릴 의무 사항이 중요한 사\n",
      "항에 해당되는 사유 및 계약의 처리결과를 ‘반대증거가 있는 경우 이의를 제기할 수 있습니다’라는 문구\n",
      "와 함께 계약자에게 서면 또는 전자문서 등으로 알려 드립니다. 회사가 전자문서로 안내하고자 할 경우\n",
      "에는 계약자에게 서면 또는 「전자서명법」 제2조 제2호에 따른 전자서명으로 동의를 얻어 수신확인을\n",
      "조건으로 전자문서를 송신하여야 합니다. 계약자의 전자문서 수신이 확인되기 전까지는 그 전자문서는\n",
      "송신되지 않은 것으로 봅니다. 회사는 전자문서가 수신되지 않은 것을 확인한 경우에는 서면(등기우편\n",
      "등)으로 다시 알려드립니다.\n",
      "③ 제1항에 따라 계약을 해지하였을 때에는 제33조(해약환급금) 제1항 및 제2항에 따른 해약환급금을\n",
      "드리며, 보장을 제한하였을 때에는 보험료, 보험가입금액 등이 조정될 수 있습니다.\n",
      "④ 제14조(계약 전 알릴 의무)의 계약 전 알릴 의무를 위반한 사실이 보험금 지급사유 발생에 영향을\n",
      "미쳤음을 회사가 증명하지 못한 경우에는 제1항에도 불구하고 계약의 해지 또는 보장을 제한하기 이전\n",
      "까지 발생한 해당 보험금을 지급합니다.\n",
      "37\u0000/\u0000462\n",
      "metadata:\n",
      " {'source': '한화생명 The실속있는 간병치매보험_20240101~.pdf', 'type':\n",
      "'간병치매보험_20240101~', 'timestamp': 1705041896.1948419}\n",
      "-----------------------------------------------\n",
      "2. Chunk: 953 Characters\n",
      "-----------------------------------------------\n",
      "(4) 보험계약 전 보험계약자 또는 피보험자는 보험계약을 청약할 때 청약서의 질문사항(중요사항)에\n",
      "알릴의무 대하여 사실대로 알려야 합니다.\n",
      "위반 시 효과\n",
      "고의 또는 중과실로\n",
      "사실과 다르게 알린 경우\n",
      "보험계약자 또는 피보험자 보험회사는 계약 해지 또는 보장 제한 가능\n",
      "[주의 사항]\n",
      "청약철회가 불가능한 경우,\n",
      "① 청약서의 질문사항에 대하여 보험설계사에게만 구두로 알렸을 경우\n",
      "▶ 보험계약 전 알릴의무를 이행한 것으로 볼 수 없습니다.\n",
      "② 전화 등 통신수단을 통한 보험계약의 경우\n",
      "▶ 보험회사 상담원의 질문이 청약서의 질문사항을 대신하므로 상담원의 질문에\n",
      "사실대로 답변하여야 합니다.\n",
      "[민원 사례]\n",
      "A씨는 고지혈증, 당뇨병으로 90일간 투약처방 받은 사실을 보험설계사에게만\n",
      "알려주고, 청약서에 기재하지 않은 채 00질병보험에 가입하였으며, 가입 이후 1년간\n",
      "당뇨병으로 통원치료를 받아 보험금을 청구\n",
      "▶ 보험회사는 보험계약이 해지됨과 동시에 보험금 지급이 어려움을 안내\n",
      "[법률 지식]\n",
      "일반적으로 보험설계사는 독자적으로 보험회사를 대리하여 보험계약을 체결할 권한\n",
      "이나 고지의무를 수령할 권한이 없음(대법원 2007. 6. 28. 선고 2006다59837)\n",
      "(5) 보험계약 후 보험계약자 등은 피보험자의 직업·직무 변경 등이 발생한 경우 지체없이 보험회사에\n",
      "알릴의무 알려야 하며, 이를 위반하는 경우 보험금 지급이 제한될 수 있습니다.\n",
      "위반 시 불이익\n",
      "보험회사는 피보험자의 직업·직무 변경 등으로 인해,\n",
      "① 위험이 감소한 경우 ▶ 보험료를 감액하고 정산금액을 환급하여 드립니다.\n",
      "② 위험이 증가한 경우 ▶ 보험료가 증액되고 정산금액의 추가 납입이 필요할 수\n",
      "있습니다.\n",
      "회사에 위험 증가 시 보험료 증액, 정산금액 추가납입\n",
      "알린 경우 위험 감소 시 보험료 감액, 정산금액 환급\n",
      "회사에 위험 증가 시 보험금 지급 제한 또는 삭감 가능\n",
      "알리지 않은 경우 위험 감소 시 보험료 감액, 정산금액 환급 불가\n",
      "29\u0000/\u0000462\n",
      "metadata:\n",
      " {'source': '한화생명 The실속있는 간병치매보험_20240101~.pdf', 'type':\n",
      "'간병치매보험_20240101~', 'timestamp': 1705041894.2213655}\n",
      "-----------------------------------------------\n",
      "3. Chunk: 1862 Characters\n",
      "-----------------------------------------------\n",
      "⑤ 회사는 다른 보험가입내역에 대한 계약 전 알릴 의무 위반을 이유로 계약을 해지하거나 보험금 지급\n",
      "을 거절하지 않습니다.\n",
      "【계약 전 알릴 의무 위반 사례】\n",
      "계약을 청약하면서 보험설계사에게 고혈압이 있다고만 이야기하였을 뿐, 청약서의 계약 전 알릴 사항\n",
      "에 아무런 기재도 하지 않을 경우에는 보험설계사에게 고혈압 병력을 이야기하였다고 하더라도 회사\n",
      "는 계약 전 알릴 의무 위반을 이유로 계약을 해지하고 보험금을 지급하지 않을 수 있습니다.\n",
      "제 16 조 사기에 의한 계약\n",
      "① 계약자 또는 피보험자가 대리진단, 약물사용을 수단으로 진단절차를 통과하거나 진단서 위·변조 또는\n",
      "청약일 이전에 암 또는 인간면역결핍바이러스(HIV) 감염의 진단 확정을 받은 후 이를 숨기고 가입하는\n",
      "등의 뚜렷한 사기의사에 의하여 계약이 성립되었음을 회사가 증명하는 경우에는 보장개시일부터 5년 이\n",
      "내(사기사실을 안 날부터는 1개월 이내)에 계약을 취소할 수 있습니다.\n",
      "② 제1항에 따라 계약이 취소된 경우에는 회사는 계약자에게 이미 납입한 보험료를 돌려 드립니다.\n",
      "제 4 관 보험계약의 성립과 유지\n",
      "제 17 조 보험계약의 성립\n",
      "① 계약은 계약자의 청약(請約)과 회사의 승낙(承諾)으로 이루어집니다.\n",
      "② 회사는 피보험자가 계약에 적합하지 않은 경우에는 승낙을 거절하거나 별도의 조건(보험가입금액 제\n",
      "한, 일부보장 제외, 보험금 삭감, 보험료 할증 등)을 붙여 승낙할 수 있습니다.\n",
      "③ 회사는 계약의 청약을 받고, 제1회 보험료를 받은 경우에 건강진단을 받지 않는 계약은 청약일, 진단\n",
      "계약은 진단일(재진단의 경우에는 최종 진단일)부터 30일 이내에 승낙 또는 거절하여야 하며, 승낙한 때\n",
      "에는 보험증권을 드립니다. 그러나 30일 이내에 승낙 또는 거절의 통지가 없으면 승낙된 것으로 봅니다.\n",
      "④ 회사가 제1회 보험료를 받고 승낙을 거절한 경우에는 거절통지와 함께 받은 금액을 돌려 드리며, 보\n",
      "험료를 받은 기간에 대하여 평균공시이율+1%를 연단위 복리로 계산한 금액을 더하여 지급합니다. 다만,\n",
      "회사는 계약자가 제1회 보험료를 신용카드로 납입한 계약의 승낙을 거절하는 경우에는 신용카드의 매출\n",
      "을 취소하며 이자를 더하여 지급하지 않습니다.\n",
      "⑤ 회사가 제2항에 따라 일부보장 제외 조건을 붙여 승낙하였더라도 청약일로부터 5년이 지나는 동안\n",
      "보장이 제외되는 질병으로 추가진단(단순 건강검진 제외) 또는 치료 사실이 없을 경우, 청약일로부터 5\n",
      "년이 지난 이후에는 제5조(보험금의 지급사유)에 따라 보장하여 드립니다.\n",
      "⑥ 제5항의 ‘청약일로부터 5년이 지나는 동안’이라 함은 제27조(보험료의 납입이 연체되는 경우 납입최\n",
      "고(독촉)와 계약의 해지)에서 정한 계약의 해지가 발생하지 않은 경우를 말합니다.\n",
      "⑦ 제28조(보험료의 납입연체로 인하여 해지된 계약의 부활(효력회복))에서 정한 계약의 부활(효력회복)\n",
      "이 이루어진 경우 부활(효력회복)을 청약한 날을 제5항의 청약일로 하여 적용합니다.\n",
      "제 18 조 청약의 철회\n",
      "① 계약자는 보험증권을 받은 날부터 15일 이내에 그 청약을 철회(撤回)할 수 있습니다. 다만, 다음 중\n",
      "한 가지에 해당되는 때에는 청약을 철회할 수 없습니다.\n",
      "1. 회사가 건강상태 진단을 지원하는 계약, 보험기간이 90일 이내인 계약 또는 전문금융소비자가 체결\n",
      "한 계약\n",
      "2. 청약을 한 날부터 30일을 초과한 경우. 다만, 청약시점에 만 65세 이상인 계약자가 전화를 이용하\n",
      "여 계약을 체결한 경우 ‘청약을 한 날부터 45일을 초과한 경우’로 합니다.\n",
      "【 전문금융소비자 】\n",
      "보험계약에 관한 전문성, 자산규모 등에 비추어 보험계약에 따른 위험감수능력이 있는 자로서, 국가,\n",
      "지방자치단체, 한국은행, 금융회사, 주권상장법인 등을 포함하며 「금융소비자 보호에 관한 법률」 제2\n",
      "조(정의) 제9호에서 정하는 전문금융소비자를 말합니다.\n",
      "38\u0000/\u0000462\n",
      "metadata:\n",
      " {'source': '한화생명 The실속있는 간병치매보험_20240101~.pdf', 'type':\n",
      "'간병치매보험_20240101~', 'timestamp': 1705041896.4572663}\n"
     ]
    }
   ],
   "source": [
    "show_context_used(result['source_documents'])"
   ]
  },
  {
   "cell_type": "code",
   "execution_count": null,
   "metadata": {},
   "outputs": [],
   "source": []
  }
 ],
 "metadata": {
  "availableInstances": [
   {
    "_defaultOrder": 0,
    "_isFastLaunch": true,
    "category": "General purpose",
    "gpuNum": 0,
    "hideHardwareSpecs": false,
    "memoryGiB": 4,
    "name": "ml.t3.medium",
    "vcpuNum": 2
   },
   {
    "_defaultOrder": 1,
    "_isFastLaunch": false,
    "category": "General purpose",
    "gpuNum": 0,
    "hideHardwareSpecs": false,
    "memoryGiB": 8,
    "name": "ml.t3.large",
    "vcpuNum": 2
   },
   {
    "_defaultOrder": 2,
    "_isFastLaunch": false,
    "category": "General purpose",
    "gpuNum": 0,
    "hideHardwareSpecs": false,
    "memoryGiB": 16,
    "name": "ml.t3.xlarge",
    "vcpuNum": 4
   },
   {
    "_defaultOrder": 3,
    "_isFastLaunch": false,
    "category": "General purpose",
    "gpuNum": 0,
    "hideHardwareSpecs": false,
    "memoryGiB": 32,
    "name": "ml.t3.2xlarge",
    "vcpuNum": 8
   },
   {
    "_defaultOrder": 4,
    "_isFastLaunch": true,
    "category": "General purpose",
    "gpuNum": 0,
    "hideHardwareSpecs": false,
    "memoryGiB": 8,
    "name": "ml.m5.large",
    "vcpuNum": 2
   },
   {
    "_defaultOrder": 5,
    "_isFastLaunch": false,
    "category": "General purpose",
    "gpuNum": 0,
    "hideHardwareSpecs": false,
    "memoryGiB": 16,
    "name": "ml.m5.xlarge",
    "vcpuNum": 4
   },
   {
    "_defaultOrder": 6,
    "_isFastLaunch": false,
    "category": "General purpose",
    "gpuNum": 0,
    "hideHardwareSpecs": false,
    "memoryGiB": 32,
    "name": "ml.m5.2xlarge",
    "vcpuNum": 8
   },
   {
    "_defaultOrder": 7,
    "_isFastLaunch": false,
    "category": "General purpose",
    "gpuNum": 0,
    "hideHardwareSpecs": false,
    "memoryGiB": 64,
    "name": "ml.m5.4xlarge",
    "vcpuNum": 16
   },
   {
    "_defaultOrder": 8,
    "_isFastLaunch": false,
    "category": "General purpose",
    "gpuNum": 0,
    "hideHardwareSpecs": false,
    "memoryGiB": 128,
    "name": "ml.m5.8xlarge",
    "vcpuNum": 32
   },
   {
    "_defaultOrder": 9,
    "_isFastLaunch": false,
    "category": "General purpose",
    "gpuNum": 0,
    "hideHardwareSpecs": false,
    "memoryGiB": 192,
    "name": "ml.m5.12xlarge",
    "vcpuNum": 48
   },
   {
    "_defaultOrder": 10,
    "_isFastLaunch": false,
    "category": "General purpose",
    "gpuNum": 0,
    "hideHardwareSpecs": false,
    "memoryGiB": 256,
    "name": "ml.m5.16xlarge",
    "vcpuNum": 64
   },
   {
    "_defaultOrder": 11,
    "_isFastLaunch": false,
    "category": "General purpose",
    "gpuNum": 0,
    "hideHardwareSpecs": false,
    "memoryGiB": 384,
    "name": "ml.m5.24xlarge",
    "vcpuNum": 96
   },
   {
    "_defaultOrder": 12,
    "_isFastLaunch": false,
    "category": "General purpose",
    "gpuNum": 0,
    "hideHardwareSpecs": false,
    "memoryGiB": 8,
    "name": "ml.m5d.large",
    "vcpuNum": 2
   },
   {
    "_defaultOrder": 13,
    "_isFastLaunch": false,
    "category": "General purpose",
    "gpuNum": 0,
    "hideHardwareSpecs": false,
    "memoryGiB": 16,
    "name": "ml.m5d.xlarge",
    "vcpuNum": 4
   },
   {
    "_defaultOrder": 14,
    "_isFastLaunch": false,
    "category": "General purpose",
    "gpuNum": 0,
    "hideHardwareSpecs": false,
    "memoryGiB": 32,
    "name": "ml.m5d.2xlarge",
    "vcpuNum": 8
   },
   {
    "_defaultOrder": 15,
    "_isFastLaunch": false,
    "category": "General purpose",
    "gpuNum": 0,
    "hideHardwareSpecs": false,
    "memoryGiB": 64,
    "name": "ml.m5d.4xlarge",
    "vcpuNum": 16
   },
   {
    "_defaultOrder": 16,
    "_isFastLaunch": false,
    "category": "General purpose",
    "gpuNum": 0,
    "hideHardwareSpecs": false,
    "memoryGiB": 128,
    "name": "ml.m5d.8xlarge",
    "vcpuNum": 32
   },
   {
    "_defaultOrder": 17,
    "_isFastLaunch": false,
    "category": "General purpose",
    "gpuNum": 0,
    "hideHardwareSpecs": false,
    "memoryGiB": 192,
    "name": "ml.m5d.12xlarge",
    "vcpuNum": 48
   },
   {
    "_defaultOrder": 18,
    "_isFastLaunch": false,
    "category": "General purpose",
    "gpuNum": 0,
    "hideHardwareSpecs": false,
    "memoryGiB": 256,
    "name": "ml.m5d.16xlarge",
    "vcpuNum": 64
   },
   {
    "_defaultOrder": 19,
    "_isFastLaunch": false,
    "category": "General purpose",
    "gpuNum": 0,
    "hideHardwareSpecs": false,
    "memoryGiB": 384,
    "name": "ml.m5d.24xlarge",
    "vcpuNum": 96
   },
   {
    "_defaultOrder": 20,
    "_isFastLaunch": false,
    "category": "General purpose",
    "gpuNum": 0,
    "hideHardwareSpecs": true,
    "memoryGiB": 0,
    "name": "ml.geospatial.interactive",
    "supportedImageNames": [
     "sagemaker-geospatial-v1-0"
    ],
    "vcpuNum": 0
   },
   {
    "_defaultOrder": 21,
    "_isFastLaunch": true,
    "category": "Compute optimized",
    "gpuNum": 0,
    "hideHardwareSpecs": false,
    "memoryGiB": 4,
    "name": "ml.c5.large",
    "vcpuNum": 2
   },
   {
    "_defaultOrder": 22,
    "_isFastLaunch": false,
    "category": "Compute optimized",
    "gpuNum": 0,
    "hideHardwareSpecs": false,
    "memoryGiB": 8,
    "name": "ml.c5.xlarge",
    "vcpuNum": 4
   },
   {
    "_defaultOrder": 23,
    "_isFastLaunch": false,
    "category": "Compute optimized",
    "gpuNum": 0,
    "hideHardwareSpecs": false,
    "memoryGiB": 16,
    "name": "ml.c5.2xlarge",
    "vcpuNum": 8
   },
   {
    "_defaultOrder": 24,
    "_isFastLaunch": false,
    "category": "Compute optimized",
    "gpuNum": 0,
    "hideHardwareSpecs": false,
    "memoryGiB": 32,
    "name": "ml.c5.4xlarge",
    "vcpuNum": 16
   },
   {
    "_defaultOrder": 25,
    "_isFastLaunch": false,
    "category": "Compute optimized",
    "gpuNum": 0,
    "hideHardwareSpecs": false,
    "memoryGiB": 72,
    "name": "ml.c5.9xlarge",
    "vcpuNum": 36
   },
   {
    "_defaultOrder": 26,
    "_isFastLaunch": false,
    "category": "Compute optimized",
    "gpuNum": 0,
    "hideHardwareSpecs": false,
    "memoryGiB": 96,
    "name": "ml.c5.12xlarge",
    "vcpuNum": 48
   },
   {
    "_defaultOrder": 27,
    "_isFastLaunch": false,
    "category": "Compute optimized",
    "gpuNum": 0,
    "hideHardwareSpecs": false,
    "memoryGiB": 144,
    "name": "ml.c5.18xlarge",
    "vcpuNum": 72
   },
   {
    "_defaultOrder": 28,
    "_isFastLaunch": false,
    "category": "Compute optimized",
    "gpuNum": 0,
    "hideHardwareSpecs": false,
    "memoryGiB": 192,
    "name": "ml.c5.24xlarge",
    "vcpuNum": 96
   },
   {
    "_defaultOrder": 29,
    "_isFastLaunch": true,
    "category": "Accelerated computing",
    "gpuNum": 1,
    "hideHardwareSpecs": false,
    "memoryGiB": 16,
    "name": "ml.g4dn.xlarge",
    "vcpuNum": 4
   },
   {
    "_defaultOrder": 30,
    "_isFastLaunch": false,
    "category": "Accelerated computing",
    "gpuNum": 1,
    "hideHardwareSpecs": false,
    "memoryGiB": 32,
    "name": "ml.g4dn.2xlarge",
    "vcpuNum": 8
   },
   {
    "_defaultOrder": 31,
    "_isFastLaunch": false,
    "category": "Accelerated computing",
    "gpuNum": 1,
    "hideHardwareSpecs": false,
    "memoryGiB": 64,
    "name": "ml.g4dn.4xlarge",
    "vcpuNum": 16
   },
   {
    "_defaultOrder": 32,
    "_isFastLaunch": false,
    "category": "Accelerated computing",
    "gpuNum": 1,
    "hideHardwareSpecs": false,
    "memoryGiB": 128,
    "name": "ml.g4dn.8xlarge",
    "vcpuNum": 32
   },
   {
    "_defaultOrder": 33,
    "_isFastLaunch": false,
    "category": "Accelerated computing",
    "gpuNum": 4,
    "hideHardwareSpecs": false,
    "memoryGiB": 192,
    "name": "ml.g4dn.12xlarge",
    "vcpuNum": 48
   },
   {
    "_defaultOrder": 34,
    "_isFastLaunch": false,
    "category": "Accelerated computing",
    "gpuNum": 1,
    "hideHardwareSpecs": false,
    "memoryGiB": 256,
    "name": "ml.g4dn.16xlarge",
    "vcpuNum": 64
   },
   {
    "_defaultOrder": 35,
    "_isFastLaunch": false,
    "category": "Accelerated computing",
    "gpuNum": 1,
    "hideHardwareSpecs": false,
    "memoryGiB": 61,
    "name": "ml.p3.2xlarge",
    "vcpuNum": 8
   },
   {
    "_defaultOrder": 36,
    "_isFastLaunch": false,
    "category": "Accelerated computing",
    "gpuNum": 4,
    "hideHardwareSpecs": false,
    "memoryGiB": 244,
    "name": "ml.p3.8xlarge",
    "vcpuNum": 32
   },
   {
    "_defaultOrder": 37,
    "_isFastLaunch": false,
    "category": "Accelerated computing",
    "gpuNum": 8,
    "hideHardwareSpecs": false,
    "memoryGiB": 488,
    "name": "ml.p3.16xlarge",
    "vcpuNum": 64
   },
   {
    "_defaultOrder": 38,
    "_isFastLaunch": false,
    "category": "Accelerated computing",
    "gpuNum": 8,
    "hideHardwareSpecs": false,
    "memoryGiB": 768,
    "name": "ml.p3dn.24xlarge",
    "vcpuNum": 96
   },
   {
    "_defaultOrder": 39,
    "_isFastLaunch": false,
    "category": "Memory Optimized",
    "gpuNum": 0,
    "hideHardwareSpecs": false,
    "memoryGiB": 16,
    "name": "ml.r5.large",
    "vcpuNum": 2
   },
   {
    "_defaultOrder": 40,
    "_isFastLaunch": false,
    "category": "Memory Optimized",
    "gpuNum": 0,
    "hideHardwareSpecs": false,
    "memoryGiB": 32,
    "name": "ml.r5.xlarge",
    "vcpuNum": 4
   },
   {
    "_defaultOrder": 41,
    "_isFastLaunch": false,
    "category": "Memory Optimized",
    "gpuNum": 0,
    "hideHardwareSpecs": false,
    "memoryGiB": 64,
    "name": "ml.r5.2xlarge",
    "vcpuNum": 8
   },
   {
    "_defaultOrder": 42,
    "_isFastLaunch": false,
    "category": "Memory Optimized",
    "gpuNum": 0,
    "hideHardwareSpecs": false,
    "memoryGiB": 128,
    "name": "ml.r5.4xlarge",
    "vcpuNum": 16
   },
   {
    "_defaultOrder": 43,
    "_isFastLaunch": false,
    "category": "Memory Optimized",
    "gpuNum": 0,
    "hideHardwareSpecs": false,
    "memoryGiB": 256,
    "name": "ml.r5.8xlarge",
    "vcpuNum": 32
   },
   {
    "_defaultOrder": 44,
    "_isFastLaunch": false,
    "category": "Memory Optimized",
    "gpuNum": 0,
    "hideHardwareSpecs": false,
    "memoryGiB": 384,
    "name": "ml.r5.12xlarge",
    "vcpuNum": 48
   },
   {
    "_defaultOrder": 45,
    "_isFastLaunch": false,
    "category": "Memory Optimized",
    "gpuNum": 0,
    "hideHardwareSpecs": false,
    "memoryGiB": 512,
    "name": "ml.r5.16xlarge",
    "vcpuNum": 64
   },
   {
    "_defaultOrder": 46,
    "_isFastLaunch": false,
    "category": "Memory Optimized",
    "gpuNum": 0,
    "hideHardwareSpecs": false,
    "memoryGiB": 768,
    "name": "ml.r5.24xlarge",
    "vcpuNum": 96
   },
   {
    "_defaultOrder": 47,
    "_isFastLaunch": false,
    "category": "Accelerated computing",
    "gpuNum": 1,
    "hideHardwareSpecs": false,
    "memoryGiB": 16,
    "name": "ml.g5.xlarge",
    "vcpuNum": 4
   },
   {
    "_defaultOrder": 48,
    "_isFastLaunch": false,
    "category": "Accelerated computing",
    "gpuNum": 1,
    "hideHardwareSpecs": false,
    "memoryGiB": 32,
    "name": "ml.g5.2xlarge",
    "vcpuNum": 8
   },
   {
    "_defaultOrder": 49,
    "_isFastLaunch": false,
    "category": "Accelerated computing",
    "gpuNum": 1,
    "hideHardwareSpecs": false,
    "memoryGiB": 64,
    "name": "ml.g5.4xlarge",
    "vcpuNum": 16
   },
   {
    "_defaultOrder": 50,
    "_isFastLaunch": false,
    "category": "Accelerated computing",
    "gpuNum": 1,
    "hideHardwareSpecs": false,
    "memoryGiB": 128,
    "name": "ml.g5.8xlarge",
    "vcpuNum": 32
   },
   {
    "_defaultOrder": 51,
    "_isFastLaunch": false,
    "category": "Accelerated computing",
    "gpuNum": 1,
    "hideHardwareSpecs": false,
    "memoryGiB": 256,
    "name": "ml.g5.16xlarge",
    "vcpuNum": 64
   },
   {
    "_defaultOrder": 52,
    "_isFastLaunch": false,
    "category": "Accelerated computing",
    "gpuNum": 4,
    "hideHardwareSpecs": false,
    "memoryGiB": 192,
    "name": "ml.g5.12xlarge",
    "vcpuNum": 48
   },
   {
    "_defaultOrder": 53,
    "_isFastLaunch": false,
    "category": "Accelerated computing",
    "gpuNum": 4,
    "hideHardwareSpecs": false,
    "memoryGiB": 384,
    "name": "ml.g5.24xlarge",
    "vcpuNum": 96
   },
   {
    "_defaultOrder": 54,
    "_isFastLaunch": false,
    "category": "Accelerated computing",
    "gpuNum": 8,
    "hideHardwareSpecs": false,
    "memoryGiB": 768,
    "name": "ml.g5.48xlarge",
    "vcpuNum": 192
   },
   {
    "_defaultOrder": 55,
    "_isFastLaunch": false,
    "category": "Accelerated computing",
    "gpuNum": 8,
    "hideHardwareSpecs": false,
    "memoryGiB": 1152,
    "name": "ml.p4d.24xlarge",
    "vcpuNum": 96
   },
   {
    "_defaultOrder": 56,
    "_isFastLaunch": false,
    "category": "Accelerated computing",
    "gpuNum": 8,
    "hideHardwareSpecs": false,
    "memoryGiB": 1152,
    "name": "ml.p4de.24xlarge",
    "vcpuNum": 96
   }
  ],
  "instance_type": "ml.m5.2xlarge",
  "kernelspec": {
   "display_name": "conda_python3",
   "language": "python",
   "name": "conda_python3"
  },
  "language_info": {
   "codemirror_mode": {
    "name": "ipython",
    "version": 3
   },
   "file_extension": ".py",
   "mimetype": "text/x-python",
   "name": "python",
   "nbconvert_exporter": "python",
   "pygments_lexer": "ipython3",
   "version": "3.10.13"
  },
  "vscode": {
   "interpreter": {
    "hash": "4b8e647a79df62bf31906a725b05de775d285962ac600487339d38c51a5c07b1"
   }
  }
 },
 "nbformat": 4,
 "nbformat_minor": 4
}
