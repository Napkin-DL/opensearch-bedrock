{
 "cells": [
  {
   "cell_type": "markdown",
   "id": "fb017ab4-a16a-4c67-b875-a29eed6aa5bd",
   "metadata": {
    "tags": []
   },
   "source": [
    "# OpenSearch 한글 형태소 분석기 통한 키워드 검색 \n",
    ">이 노트북은,\n",
    "> - SageMaker Studio* Data Science 3.0 kernel 및 ml.t3.medium 인스턴스에서 테스트 되었습니다.\n",
    "> - SageMaker Notebook conda_python3 에서 테스트 되었습니다.\n",
    "\n",
    "\n",
    "여기서는 OpenSearch 가 설치된 것을 가정하고, 한글 형태소 분석기의 사용하는 법을 알려 드립니다.\n",
    "\n",
    "---\n",
    "\n",
    "### [중요]\n",
    "- 이 노트북은 Bedrock Titan Embedding Model 을 기본으로 사용합니다. KoSIMCSERoberta 를 세이지 메이커 엔드포인트로 사용하신다면 아래의 선수 조건을 확인하세요.\n",
    "\n",
    "#### 선수조건 (KoSIMCSERoberta 사용시)\n",
    "- 임베딩 모델의 세이지 메이커 엔드포인트가 액티브 된 상태를 가정 합니다.\n",
    "    - 세이지 메이커 엔드포인트에 배포하기 위해서는 아래 노트북을 실행하시고, Endpoint Name 만을 복사 하시면 됩니다.\n",
    "    - [KoSIMCSERoberta Embedding Model 배포](https://github.com/gonsoomoon-ml/Kor-LLM-On-SageMaker/blob/main/1-Lab01-Deploy-LLM/4.Kor-Embedding-Model.ipynb)\n",
    "    - SageMaker Endpoint 에 대해서는 공식 개발자 문서를 참조하세요 --> [Create your endpoint and deploy your model](https://docs.aws.amazon.com/sagemaker/latest/dg/realtime-endpoints-deployment.html)\n",
    "- 오픈 서치 서비스가 액티브 된 상태를 가정 합니다.\n",
    "\n",
    "\n",
    "---\n",
    "## Ref: \n",
    "- [Amazon OpenSearch Service로 검색 구현하기](https://catalog.us-east-1.prod.workshops.aws/workshops/de4e38cb-a0d9-4ffe-a777-bf00d498fa49/ko-KR/indexing/blog-reindex)\n",
    "- [OpenSearch Python Client](https://opensearch.org/docs/1.3/clients/python-high-level/)\n",
    "- [OpenSearch Match, Multi-Match, and Match Phrase Queries](https://opster.com/guides/opensearch/opensearch-search-apis/opensearch-match-multi-match-and-match-phrase-queries/)\n",
    "- OpenSearch Query 에서 Filter, Must, Should, Not Mush 에 대한 설명 입니다.\n",
    "    - [OpenSearch Boolean Queries](https://opster.com/guides/opensearch/opensearch-search-apis/opensearch-boolean-queries/#:~:text=Boolean%20queries%20are%20used%20to,as%20terms%2C%20match%20and%20query_string.)\n",
    "- [OpenSearch Query Description (한글)](https://esbook.kimjmin.net/05-search)\n"
   ]
  },
  {
   "cell_type": "markdown",
   "id": "8a2f9c19-c43c-435c-944d-77984b54a6d8",
   "metadata": {},
   "source": [
    "# 1. 환경 세팅"
   ]
  },
  {
   "cell_type": "code",
   "execution_count": 57,
   "id": "6a20ae24-5c42-4e67-b2cb-8db675e180bc",
   "metadata": {
    "tags": []
   },
   "outputs": [],
   "source": [
    "import boto3\n",
    "region = boto3.Session().region_name\n",
    "opensearch = boto3.client('opensearch', region)\n",
    "\n",
    "%store -r opensearch_user_id opensearch_user_password domain_name opensearch_domain_endpoint\n",
    "\n",
    "try:\n",
    "    opensearch_user_id\n",
    "    opensearch_user_password\n",
    "    domain_name\n",
    "    opensearch_domain_endpoint\n",
    "   \n",
    "except NameError:\n",
    "    print(\"++++++++++++++++++++++++++++++++++++++++++++++++++++++++++++++++++++++++++++\")\n",
    "    print(\"[ERROR] Run 00_setup notebook first or Create Your Own OpenSearch Domain\")\n",
    "    print(\"++++++++++++++++++++++++++++++++++++++++++++++++++++++++++++++++++++++++++++\")"
   ]
  },
  {
   "cell_type": "code",
   "execution_count": 3,
   "id": "787df0f0-7fd9-47ca-a0c3-91b3037d6a10",
   "metadata": {
    "tags": []
   },
   "outputs": [],
   "source": [
    "%load_ext autoreload\n",
    "%autoreload 2\n",
    "\n",
    "import sys, os\n",
    "module_path = \"..\"\n",
    "sys.path.append(os.path.abspath(module_path))"
   ]
  },
  {
   "cell_type": "markdown",
   "id": "950cf3b9-26a3-4096-a6e4-4b9a39d2e82f",
   "metadata": {
    "tags": []
   },
   "source": [
    "## Bedrock Client 생성\n",
    "### 선수 지식\n",
    "아래의 노트북을 먼저 실행해서, Bedrock 에 접근 가능하게 합니다.\n",
    "- amazon-bedrock-workshop-webinar-kr/00_Setup/setup.ipynb"
   ]
  },
  {
   "cell_type": "code",
   "execution_count": 4,
   "id": "ee268417-f4cf-448f-be1f-aae7f9a81c6c",
   "metadata": {
    "tags": []
   },
   "outputs": [
    {
     "name": "stdout",
     "output_type": "stream",
     "text": [
      "Create new client\n",
      "  Using region: None\n",
      "  Using profile: None\n",
      "boto3 Bedrock client successfully created!\n",
      "bedrock-runtime(https://bedrock-runtime.us-west-2.amazonaws.com)\n",
      "[('Titan Text Large', 'amazon.titan-tg1-large'),\n",
      " ('Titan Text Embeddings v2', 'amazon.titan-embed-g1-text-02'),\n",
      " ('Titan Text G1 - Lite', 'amazon.titan-text-lite-v1'),\n",
      " ('Titan Text G1 - Express', 'amazon.titan-text-express-v1'),\n",
      " ('Titan Embeddings G1 - Text', 'amazon.titan-embed-text-v1'),\n",
      " ('Titan Multimodal Embeddings G1', 'amazon.titan-embed-image-v1'),\n",
      " ('Titan Image Generator G1', 'amazon.titan-image-generator-v1'),\n",
      " ('SDXL 0.8', 'stability.stable-diffusion-xl'),\n",
      " ('SDXL 0.8', 'stability.stable-diffusion-xl-v0'),\n",
      " ('SDXL 1.0', 'stability.stable-diffusion-xl-v1'),\n",
      " ('J2 Grande Instruct', 'ai21.j2-grande-instruct'),\n",
      " ('J2 Jumbo Instruct', 'ai21.j2-jumbo-instruct'),\n",
      " ('Jurassic-2 Mid', 'ai21.j2-mid'),\n",
      " ('Jurassic-2 Mid', 'ai21.j2-mid-v1'),\n",
      " ('Jurassic-2 Ultra', 'ai21.j2-ultra'),\n",
      " ('Jurassic-2 Ultra', 'ai21.j2-ultra-v1'),\n",
      " ('Claude Instant', 'anthropic.claude-instant-v1'),\n",
      " ('Claude', 'anthropic.claude-v1'),\n",
      " ('Claude', 'anthropic.claude-v2:1'),\n",
      " ('Claude', 'anthropic.claude-v2'),\n",
      " ('Command', 'cohere.command-text-v14'),\n",
      " ('Command Light', 'cohere.command-light-text-v14'),\n",
      " ('Embed English', 'cohere.embed-english-v3'),\n",
      " ('Embed Multilingual', 'cohere.embed-multilingual-v3'),\n",
      " ('Llama 2 Chat 13B', 'meta.llama2-13b-chat-v1'),\n",
      " ('Llama 2 Chat 70B', 'meta.llama2-70b-chat-v1')]\n"
     ]
    }
   ],
   "source": [
    "import json\n",
    "import boto3\n",
    "from pprint import pprint\n",
    "from termcolor import colored\n",
    "from utils import bedrock, print_ww\n",
    "from utils.bedrock import bedrock_info\n",
    "\n",
    "# ---- ⚠️ Un-comment and edit the below lines as needed for your AWS setup ⚠️ ----\n",
    "\n",
    "# os.environ[\"AWS_DEFAULT_REGION\"] = \"<REGION_NAME>\"  # E.g. \"us-east-1\"\n",
    "# os.environ[\"AWS_PROFILE\"] = \"<YOUR_PROFILE>\"\n",
    "# os.environ[\"BEDROCK_ASSUME_ROLE\"] = \"<YOUR_ROLE_ARN>\"  # E.g. \"arn:aws:...\"\n",
    "# os.environ[\"BEDROCK_ENDPOINT_URL\"] = \"<YOUR_ENDPOINT_URL>\"  # E.g. \"https://...\"\n",
    "\n",
    "\n",
    "boto3_bedrock = bedrock.get_bedrock_client(\n",
    "    assumed_role=os.environ.get(\"BEDROCK_ASSUME_ROLE\", None),\n",
    "    endpoint_url=os.environ.get(\"BEDROCK_ENDPOINT_URL\", None),\n",
    "    region=os.environ.get(\"AWS_DEFAULT_REGION\", None),\n",
    ")\n",
    "\n",
    "# print (colored(\"\\n== FM lists ==\", \"green\"))\n",
    "# pprint (bedrock_info.get_list_fm_models())\n",
    "\n",
    "bedrock = boto3.client(service_name='bedrock')\n",
    "model_list = bedrock.list_foundation_models()\n",
    "result = [(fm_list[\"modelName\"], fm_list[\"modelId\"]) for fm_list in model_list[\"modelSummaries\"] if fm_list['inferenceTypesSupported'] == ['ON_DEMAND']]\n",
    "pprint(result)"
   ]
  },
  {
   "cell_type": "markdown",
   "id": "16b9ad47-56b6-427d-84a6-4e792bf4f6f9",
   "metadata": {},
   "source": [
    "## Embedding 모델 선택"
   ]
  },
  {
   "cell_type": "code",
   "execution_count": 5,
   "id": "85910ba4-1eb0-4b38-8d46-aa8a3da3cd60",
   "metadata": {
    "tags": []
   },
   "outputs": [
    {
     "name": "stderr",
     "output_type": "stream",
     "text": [
      "/home/ec2-user/anaconda3/envs/python3/lib/python3.10/site-packages/pandas/core/computation/expressions.py:21: UserWarning: Pandas requires version '2.8.0' or newer of 'numexpr' (version '2.7.3' currently installed).\n",
      "  from pandas.core.computation.check import NUMEXPR_INSTALLED\n"
     ]
    }
   ],
   "source": [
    "from utils.rag import KoSimCSERobertaContentHandler, SagemakerEndpointEmbeddingsJumpStart"
   ]
  },
  {
   "cell_type": "code",
   "execution_count": 6,
   "id": "65afde2a-097b-4a00-82e4-e7bab6e2a4d1",
   "metadata": {
    "tags": []
   },
   "outputs": [],
   "source": [
    "def get_embedding_model(is_bedrock_embeddings, is_KoSimCSERobert, aws_region, endpont_name=None):\n",
    "    if is_bedrock_embeddings:\n",
    "\n",
    "        # We will be using the Titan Embeddings Model to generate our Embeddings.\n",
    "        from langchain.embeddings import BedrockEmbeddings\n",
    "\n",
    "        llm_emb = BedrockEmbeddings(\n",
    "            client=boto3_bedrock,\n",
    "            model_id=bedrock_info.get_model_id(\n",
    "                model_name=\"Titan-Embeddings-G1\"\n",
    "            )\n",
    "        )\n",
    "        print(\"Bedrock Embeddings Model Loaded\")\n",
    "        \n",
    "    elif is_KoSimCSERobert:\n",
    "        LLMEmbHandler = KoSimCSERobertaContentHandler()\n",
    "        endpoint_name_emb = endpont_name\n",
    "        llm_emb = SagemakerEndpointEmbeddingsJumpStart(\n",
    "            endpoint_name=endpoint_name_emb,\n",
    "            region_name=aws_region,\n",
    "            content_handler=LLMEmbHandler,\n",
    "        )        \n",
    "        print(\"KoSimCSERobert Embeddings Model Loaded\")\n",
    "    else:\n",
    "        llm_emb = None\n",
    "        print(\"No Embedding Model Selected\")\n",
    "    \n",
    "    return llm_emb"
   ]
  },
  {
   "cell_type": "markdown",
   "id": "1fe62c38-4b50-48ef-96de-3690361551de",
   "metadata": {},
   "source": [
    "#### [중요] is_KoSimCSERobert == True 경우,  endpoint_name 을 꼭 넣어 주세요."
   ]
  },
  {
   "cell_type": "code",
   "execution_count": 7,
   "id": "b29f58a6-a230-4aa9-994d-0a6343f72fcb",
   "metadata": {
    "tags": []
   },
   "outputs": [
    {
     "name": "stdout",
     "output_type": "stream",
     "text": [
      "Bedrock Embeddings Model Loaded\n"
     ]
    }
   ],
   "source": [
    "is_bedrock_embeddings = True\n",
    "is_KoSimCSERobert = False\n",
    "\n",
    "aws_region = os.environ.get(\"AWS_DEFAULT_REGION\", None)\n",
    "\n",
    "##############################\n",
    "# Parameters for is_KoSimCSERobert\n",
    "##############################\n",
    "if is_KoSimCSERobert: endpont_name = \"<endpoint-name>\"\n",
    "else: endpont_name = None\n",
    "##############################\n",
    "\n",
    "llm_emb = get_embedding_model(is_bedrock_embeddings, is_KoSimCSERobert, aws_region, endpont_name)    "
   ]
  },
  {
   "cell_type": "markdown",
   "id": "42c31989-edcd-42f9-aabb-2a3d17b3e8a2",
   "metadata": {},
   "source": [
    "# 2. 데이터 준비\n"
   ]
  },
  {
   "cell_type": "markdown",
   "id": "9296a37c-9f68-4a56-b8f6-9311dedc03cd",
   "metadata": {},
   "source": [
    "##  신한은행 FAQ 데이터 세트로 구현\n",
    "- [중요] 저자 및 동료가 아래의 웹사이트에서 크로링한 기준으로 구성 하였습니다.\n",
    "- 인터넷뱅킹 FAQ > 스마트뱅킹 No.1 ~ N. 89 로 구성되었습니다. \n",
    "- https://www.shinhan.com/hpe/index.jsp#050101020000"
   ]
  },
  {
   "cell_type": "code",
   "execution_count": 8,
   "id": "a16fe948-266d-41ca-bf71-cdf815e4ee15",
   "metadata": {
    "tags": []
   },
   "outputs": [],
   "source": [
    "# import pandas as pd\n",
    "# pd.options.display.max_rows = 20\n",
    "\n",
    "# data_file_path = \"data/fsi_smart_faq_ko.csv\"\n",
    "# df = pd.read_csv(data_file_path)\n",
    "# df"
   ]
  },
  {
   "cell_type": "markdown",
   "id": "da20c54a-17f4-4738-8273-f14d5c18313e",
   "metadata": {},
   "source": [
    "## 데이터 전처리\n",
    "- 여기서 no 는 제거 합니다. "
   ]
  },
  {
   "cell_type": "code",
   "execution_count": 9,
   "id": "bd8c678f-0cf2-408c-972f-2444fbbc1b8b",
   "metadata": {
    "tags": []
   },
   "outputs": [],
   "source": [
    "# os.makedirs(\"data\", exist_ok=True)"
   ]
  },
  {
   "cell_type": "code",
   "execution_count": 10,
   "id": "0570717f-210c-4e36-88b6-b9cc02288341",
   "metadata": {
    "tags": []
   },
   "outputs": [],
   "source": [
    "# def preprocess_data(df):\n",
    "\n",
    "#     ldf = df.copy()\n",
    "#     ldf.rename(columns={'Category': 'ask'}, inplace=True)\n",
    "#     df_index = ldf.drop(['no'], axis=1)\n",
    "#     df_index.to_csv(\"data/fsi_smart_faq_ko_preprocess.csv\", index=None)\n",
    "\n",
    "#     return df_index\n",
    "\n",
    "# pre_df = preprocess_data(df)\n",
    "# pre_df.head(3)"
   ]
  },
  {
   "cell_type": "markdown",
   "id": "134174ab-3855-44d3-965d-a5699f435c31",
   "metadata": {},
   "source": [
    "### CSVLoader 로 문서 로딩"
   ]
  },
  {
   "cell_type": "code",
   "execution_count": 11,
   "id": "6a5bb5cf-4f89-428c-a492-5acf2ee5b5a1",
   "metadata": {
    "tags": []
   },
   "outputs": [],
   "source": [
    "# from langchain.indexes import VectorstoreIndexCreator\n",
    "# from langchain.vectorstores import FAISS\n",
    "# from langchain.document_loaders.csv_loader import CSVLoader\n",
    "# from langchain.text_splitter import CharacterTextSplitter, RecursiveCharacterTextSplitter, SpacyTextSplitter"
   ]
  },
  {
   "cell_type": "code",
   "execution_count": 12,
   "id": "9df46261-f945-4d0d-b271-b32f2ff7d55b",
   "metadata": {
    "tags": []
   },
   "outputs": [],
   "source": [
    "# loader = CSVLoader(\n",
    "#     file_path=\"data/fsi_smart_faq_ko_preprocess.csv\",\n",
    "#     # csv_args={\n",
    "#     #     \"delimiter\": \",\",\n",
    "#     #     \"fieldnames\": [\"Category\", \"Information\", \"type\", \"Source\"],\n",
    "#     # },    \n",
    "#     source_column=\"Source\",\n",
    "#     encoding=\"utf-8\"\n",
    "# )\n",
    "# import time\n",
    "# documents_fsi = loader.load()\n"
   ]
  },
  {
   "cell_type": "markdown",
   "id": "b36b5803-7ae4-42c6-993a-eac29fa832ca",
   "metadata": {},
   "source": [
    "## 메타 데이터 생성\n",
    "- 기존 Category 컬럼을 ask 로 변경 합니다.\n",
    "- 컬럼의 type, source 는 metadata 로 생성하고, 내용에서는 삭제 합니다.\n",
    "- 타임스탬프 및 임베딩 모델의 엔드포인트 이름을 metadata 로 추가 합니다."
   ]
  },
  {
   "cell_type": "code",
   "execution_count": 13,
   "id": "70cd3c79-7863-4bef-9063-29ae51fcf58b",
   "metadata": {
    "tags": []
   },
   "outputs": [],
   "source": [
    "# import time\n",
    "# documents_fsi = loader.load()\n",
    "\n",
    "# def create_metadata(docs):\n",
    "#     # # add a custom metadata field, such as timestamp\n",
    "#     for idx, doc in enumerate(docs):\n",
    "\n",
    "#         #print (\"previous:\", doc)\n",
    "#         # type 을 메타 데이타로 저장\n",
    "#         stype = doc.page_content.split(\"type: \")[1].split(\"\\n\")[0]\n",
    "#         split_content = doc.page_content.split(\"type: \")\n",
    "#         content = split_content[0]        \n",
    "#         metadata = split_content[1]                \n",
    "#         doc.metadata['type'] = metadata.split(\"\\n\")[0]        \n",
    "#         doc.page_content = content # metadata 제외하고 content 만 저장\n",
    "#         doc.metadata['timestamp'] = time.time()\n",
    "\n",
    "# create_metadata(documents_fsi)"
   ]
  },
  {
   "cell_type": "code",
   "execution_count": 14,
   "id": "aadffa45-1e54-4731-9124-775dbf4d8543",
   "metadata": {
    "tags": []
   },
   "outputs": [],
   "source": [
    "# print (len(documents_fsi))\n",
    "# print (documents_fsi[0])"
   ]
  },
  {
   "cell_type": "markdown",
   "id": "2f588fcf-3da7-4125-8c2b-c326b6c89850",
   "metadata": {
    "tags": []
   },
   "source": [
    "## Text Spliter 로 청킹\n",
    "참고: 검색된 문서/텍스트는 질문에 대답하기에 충분한 정보를 포함할 만큼 커야 합니다. 하지만 LLM 프롬프트에 들어갈 만큼 충분히 작습니다. <BR>\n",
    "또한 임베딩 모델에는 입력 토큰 길이는 KoSimCSERobert는 512개, titanEmbedding(8,912개) 토큰으로 제한되어 있습니다. <BR>\n",
    "이 사용 사례를 위해 [RecursiveCharacterTextSplitter](https://python.langchain.com/en/latest/modules/indexes/text_splitters/examples/recursive_text_splitter.html)를 사용하여 500자가 겹치는 약 92자의 청크를 생성합니다."
   ]
  },
  {
   "cell_type": "code",
   "execution_count": 15,
   "id": "337dc9e5-3c33-4234-9ac4-edfc3cbaf8eb",
   "metadata": {
    "tags": []
   },
   "outputs": [],
   "source": [
    "# if is_bedrock_embeddings:\n",
    "#     chunk_size = 2048\n",
    "#     chunk_overlap = 50\n",
    "# elif is_KoSimCSERobert:\n",
    "#     chunk_size = 800 # This is maxumum\n",
    "#     chunk_overlap = 0\n",
    "\n",
    "\n",
    "# text_splitter = RecursiveCharacterTextSplitter(\n",
    "#     # Set a really small chunk size, just to show.\n",
    "#     chunk_size = chunk_size,\n",
    "#     chunk_overlap  = chunk_overlap,\n",
    "#     separators=[\"\\n\\n\", \"\\n\", \".\", \" \", \"\"],\n",
    "#     length_function = len,\n",
    "# )\n",
    "\n",
    "# docs = text_splitter.split_documents(documents_fsi)\n",
    "# print(f\"Number of documents after split and chunking={len(docs)}\")"
   ]
  },
  {
   "cell_type": "code",
   "execution_count": 16,
   "id": "4a1407db-0f63-4a57-aa15-0c430b9bae13",
   "metadata": {
    "tags": []
   },
   "outputs": [],
   "source": [
    "import time\n",
    "from langchain.schema import Document\n",
    "from llmsherpa.readers import LayoutPDFReader"
   ]
  },
  {
   "cell_type": "code",
   "execution_count": 17,
   "id": "dd25683c-d436-4c2a-963f-1ef7404b40e0",
   "metadata": {
    "tags": []
   },
   "outputs": [],
   "source": [
    "llmsherpa_api_url = \"https://readers.llmsherpa.com/api/document/developer/parseDocument?renderFormat=all\"\n",
    "pdf_reader = LayoutPDFReader(llmsherpa_api_url)\n",
    "# doc = pdf_reader.read_pdf(\"./data/pdf/한화생명 The스마트한 일시납종신보험_20240101~.pdf\")"
   ]
  },
  {
   "cell_type": "code",
   "execution_count": 18,
   "id": "919c614e-aa36-499b-90e3-e29ad81c853e",
   "metadata": {
    "tags": []
   },
   "outputs": [
    {
     "data": {
      "text/plain": [
       "['./data/rag_data_kr_pdf/한화생명 The스마트한 일시납종신보험_20240101~.pdf',\n",
       " './data/rag_data_kr_pdf/한화생명 The실속있는 간병치매보험_20231209~_1.pdf',\n",
       " './data/rag_data_kr_pdf/한화생명 The스마트한 일시납종신보험_1912-061~072_20230916~.pdf',\n",
       " './data/rag_data_kr_pdf/한화생명 The실속있는 간병치매보험_20240101~.pdf']"
      ]
     },
     "execution_count": 18,
     "metadata": {},
     "output_type": "execute_result"
    }
   ],
   "source": [
    "import glob\n",
    "pdf_list = glob.glob('./data/rag_data_kr_pdf/*')\n",
    "pdf_list"
   ]
  },
  {
   "cell_type": "code",
   "execution_count": 19,
   "id": "320f1ada-8158-407a-880f-abcb402acc19",
   "metadata": {
    "scrolled": true,
    "tags": []
   },
   "outputs": [],
   "source": [
    "import pdfplumber\n",
    "import glob\n",
    "from tqdm.auto import tqdm\n",
    "\n",
    "docs = []\n",
    "for current_pdf_file in glob.glob(\"./data/rag_data_kr_pdf/*.pdf\"):\n",
    "    source_name = current_pdf_file.split('/')[-1]\n",
    "    type_name = source_name.split(' ')[-1].replace('.pdf', '')\n",
    "    with pdfplumber.open(current_pdf_file) as my_pdf:\n",
    "        pages = my_pdf.pages\n",
    "        for page in pages:\n",
    "            sentences = page.extract_text()\n",
    "            if len(sentences) >= 20:\n",
    "                chunk = Document(\n",
    "                    page_content=sentences,\n",
    "                    metadata={\n",
    "                        \"source\" : source_name,\n",
    "                        \"type\": type_name,\n",
    "                        \"timestamp\": time.time()\n",
    "                    }\n",
    "                )\n",
    "                docs.append(chunk)\n",
    "\n",
    "    # break"
   ]
  },
  {
   "cell_type": "code",
   "execution_count": null,
   "id": "10d086bd-a2b0-4328-8c0c-491fe2b7c4e6",
   "metadata": {},
   "outputs": [],
   "source": []
  },
  {
   "cell_type": "code",
   "execution_count": 20,
   "id": "caf9ffcf-bf52-4c33-9f22-4280689f799a",
   "metadata": {
    "tags": []
   },
   "outputs": [],
   "source": [
    "# docs = []\n",
    "# for pdf_file in pdf_list:\n",
    "#     doc = pdf_reader.read_pdf(pdf_file)\n",
    "#     source_name = pdf_file.split('/')[-1]\n",
    "#     type_name = source_name.split(' ')[-1].replace('.pdf', '')\n",
    "#     for chunk_info in doc.chunks():\n",
    "#         sentences = \" \".join(chunk_info.sentences)\n",
    "#         if len(sentences) >= 20:\n",
    "#             chunk = Document(\n",
    "#                 page_content=sentences,\n",
    "#                 metadata={\n",
    "#                     \"source\" : source_name,\n",
    "#                     \"type\": type_name,\n",
    "#                     \"timestamp\": time.time()\n",
    "#                 }\n",
    "#             )\n",
    "#             docs.append(chunk)\n",
    "#     break"
   ]
  },
  {
   "cell_type": "code",
   "execution_count": 21,
   "id": "af6dade3-f44d-4520-b766-ed3785bc2b88",
   "metadata": {
    "scrolled": true,
    "tags": []
   },
   "outputs": [
    {
     "data": {
      "text/plain": [
       "[Document(page_content='② 이 특칙은 다음 각 호의 계약에 대하여 각 목의 조건을 모두 만족하는 경우 사망보험금 연금선지급\\n서비스를 1회에 한하여 신청할 수 있습니다.\\n1. 보장형 계약\\n가. 신청시점 피보험자 나이가 55세 이상 90세 이하인 경우(다만, 보장형계약 2종(소득보장형) 및 3\\n종(소득보장강화형)은 은퇴전 보험기간에 신청할 수 없습니다)\\n나. 보험계약일 이후 5년 이상 경과한 경우\\n다. 보험계약대출 잔액(보험계약대출의 원금과 이자 포함)이 없는 경우\\n라. 적립형 계약으로 전환 하지 않은 경우\\n마. 연금전환특약에 의해 연금전환하지 않은 경우\\n2. 스마트전환형 계약\\n가. 신청시점 피보험자 나이가 55세 이상 90세 이하인 경우\\n나. 전환일 이후 5년 이상 경과한 경우\\n다. 보험계약대출 잔액(보험계약대출의 원금과 이자 포함)이 없는 경우\\n라. 연금전환특약에 의해 연금전환하지 않은 경우\\n마. 적립형 계약으로 전환하지 않은 경우\\n제 57 조 특칙의 보험수익자의 지정\\n이 특칙에서 계약자가 보험수익자를 지정하지 않은 때에는 계약자를 보험수익자로 합니다.\\n제 58 조 특칙내용의 변경\\n① 계약자는 이 특칙의 보험기간 중 언제든지 연금선지급의 종료를 신청할 수 있으며, 이 경우 회사는\\n연금선지급을 종료합니다. 또한, 계약자는 연금선지급이 종료된 이후에 사망보험금 연금선지급서비스를\\n다시 신청할 수 없습니다.\\n② 계약자는 연금선지급 개시 이후 연금선지급 대상금액, 연금선지급기간 및 보험수익자를 변경할 수\\n없습니다.\\n제 59 조 특칙의 보험기간 중 주계약 계약내용의 변경\\n① 연금선지급금액에 해당하는 보장형 계약 또는 스마트전환형 계약의 보험가입금액은 매년 연금선지급\\n해당일에 감액됩니다.\\n② 계약자는 연금선지급 개시 이후에는 보험료의 추가납입, 적립액의 인출, 보험계약대출, 보험가입금액\\n의 감액, 적립형 계약 전환, 스마트전환형 계약 전환, 연금전환 및 선지급서비스특약에 의한 사망보험금\\n선지급 청구를 할 수 없습니다. 다만, 최종 연금선지급일까지 연금선지급이 완료되거나 제58조(특칙내용\\n의 변경) 제1항에 따라 연금선지급이 종료된 이후에는 이를 적용하지 않습니다.\\n③ 주계약의 기준보험료 총액의 납입이 완료되었으나 부가된 특약의 보험료 납입이 완료되지 않은 경우,\\n연금선지급 개시 이후에 해당 특약의 보험료(특약의 기타비용 제외)는 월대체보험료에서 제외하고, 매월\\n주계약의 월계약해당일에 해당 특약의 보험료(특약의 기타비용 포함)를 납입하여야 합니다. 다만, 최종\\n연금선지급일까지 연금선지급이 완료되거나 제58조(특칙내용의 변경) 제1항에 따라 연금선지급이 종료\\n된 경우 해당 특약의 보험료(특약의 기타비용 제외)는 월대체보험료에 포함합니다.\\n제 60 조 특칙의 보험기간\\n이 특칙의 보험기간은 연금선지급개시일부터 최종 연금선지급일까지로 합니다.\\n제 61 조 특칙의 소멸\\n① 제52조(특칙의 보험금의 지급사유)에서 정한 보험금의 지급이 완료된 경우에는 이 특칙은 더 이상\\n효력이 없습니다.\\n② 이 특칙의 보험기간 중 주계약이 사망보험금 지급사유 발생, 해지(월대체보험료를 공제할 수 없어 해\\n51\\x00/\\x00249', metadata={'source': '한화생명 The스마트한 일시납종신보험_20240101~.pdf', 'type': '일시납종신보험_20240101~', 'timestamp': 1705029851.8311243}),\n",
       " Document(page_content='지되는 경우 포함) 또는 기타 사유에 의하여 효력이 없게 되는 경우에는 연금선지급도 종료되며 이 특\\n칙은 더 이상 효력이 없습니다. 다만, 주계약 사망보험금 지급사유 발생 이후에 지급된 연금선지급 금액\\n이 있는 경우 회사가 지급할 사망보험금에서 해당 연금선지급 금액을 차감한 후 지급합니다.\\n③ 제58조(특칙내용의 변경) 제1항에 따라 계약자가 특칙의 보험기간 중 연금선지급의 종료를 신청한\\n경우 연금선지급은 종료되며 이 특칙은 더 이상 효력이 없습니다.\\n제 62 조 특칙의 보험료의 납입 및 회사의 보장개시\\n① 이 특칙의 보험료는 없습니다.\\n② 이 특칙의 보장개시일은 연급선지급 개시일로 하며, 이후 이 특칙의 매년 연금선지급 해당일에 연금\\n선지급금을 지급합니다. 다만, 해당월의 연금선지급 해당일이 없는 경우에는 해당월의 말일을 연금선지\\n급 해당일로 합니다.\\n제 63 조 주계약 약관의 준용\\n이 특칙에 정하지 않은 사항에 대하여는 주계약의 약관을 준용합니다.\\n52\\x00/\\x00249', metadata={'source': '한화생명 The스마트한 일시납종신보험_20240101~.pdf', 'type': '일시납종신보험_20240101~', 'timestamp': 1705029851.8991675}),\n",
       " Document(page_content='【 별표 1 】\\n[보장형 계약] 보험금 지급기준표\\n□ 1종(기본형)\\n급부명칭 지 급 사 유 지 급 금 액\\n사망보험금 지급사유 발생당시\\n사망보험금 보험기간 중 피보험자가 사망한 경우\\n기본보험금액\\n주) 1. 기본보험금액이라 함은 기준사망보험금과 ‘이미 납입한 보험료’ 그리고 적립액의 101% 금액 중\\n가장 큰 금액을 말합니다.\\n2. 기준사망보험금이라 함은 보험가입금액으로 합니다. 다만, 추가납입보험료 납입시에는 추가납입\\n전 기준사망보험금에서 추가납입보험료를 더한 금액으로 하며 적립액의 인출시에는 인출전 기\\n준사망보험금에서 적립액의 인출금액을 차감한 금액으로 합니다. 한편, 적립액의 인출로 인한\\n기준사망보험금의 감소는 적립액 인출 신청시점을 기준으로 계산합니다.\\n3. 향후 공시이율에 관계없이 제28조(보험료의 납입이 연체되는 경우 납입최고(독촉)와 계약의 해\\n지)에 의한 보험료의 납입최고(독촉)기간의 종료일까지 보장하는 최저한도의 사망보험금은 사망\\n보험금 지급사유 발생시점의 기본보험금액으로 합니다.\\n4. 회사는 보험기간 중 피보험자에게 상기 사망보험금 지급사유가 발생한 경우 사망보험금과 해약\\n환급금 중에서 많은 금액을 사망보험금으로 지급합니다.\\n□ 2종(소득보장형)\\n급부명칭 보험기간 지 급 사 유 지 급 금 액\\n○ 월급여금\\n지급사유 발생일을 포함하여 은퇴전 보험기간\\n은퇴전 이 끝날 때까지 매월 지급사유 발생해당일에\\n피보험자가 사망한 경우\\n사망 보험기간 보험가입금액의 1%를 지급(단, 60회 보증지급)\\n보험금 사망보험금 지급사유 발생당시\\n기본보험금액\\n은퇴후 사망보험금 지급사유 발생당시\\n피보험자가 사망한 경우\\n보험기간 기본보험금액\\n주) 1. 기본보험금액은 보험기간에 따라 다음과 같이 구분됩니다.\\n(1) 은퇴전 보험기간\\n다음중 가장 큰 금액을 말합니다.\\n- 기준사망보험금\\n- ‘이미 납입한 보험료’에서 ‘월급여금의 일시지급금’을 차감한 금액\\n- 적립액의 101%에서 ‘월급여금의 일시지급금’을 차감한 금액\\n(2) 은퇴후 보험기간\\n기준사망보험금과 ‘이미 납입한 보험료’ 그리고 적립액의 101%중 가장 큰 금액\\n2. 기준사망보험금은 다음과 같습니다.\\n은퇴전 보험기간의 경우 보험가입금액의 50%로 하며, 은퇴후 보험기간에는 보험가입금액으로 합\\n니다. 다만, 추가납입보험료 납입시에는 추가납입전 기준사망보험금에 추가납입보험료를 더한 금\\n액으로 하며, 적립액의 인출시에는 인출전 기준사망보험금에서 적립액의 인출금액을 차감한 금\\n액으로 합니다. 한편, 적립액의 인출로 인한 기준사망보험금의 감소는 적립액의 인출 신청시점을\\n기준으로 계산합니다.\\n53\\x00/\\x00249', metadata={'source': '한화생명 The스마트한 일시납종신보험_20240101~.pdf', 'type': '일시납종신보험_20240101~', 'timestamp': 1705029852.0847626}),\n",
       " Document(page_content='3. 월급여금에서 ‘보험가입금액’보다 월급여금 지급사유 발생시점 적립액의 101%가 더 큰 경우 그\\n금액을 보험가입금액으로 하여 월급여금을 계산합니다.\\n4. 월급여금에서 해당월의 지급사유 발생해당일이 없는 경우에는 해당월의 말일을 지급사유 발생\\n해당일로 합니다.\\n[사망연령별 기준사망보험금 및 월급여금 예시]\\n40세 가입, 보험가입금액 1억원(보험가입금액이 월급여급 지급사유 발생시점 적립액의 101% 이상\\n인 경우)\\n매월 100만원\\n월 급여금 매월 100만원 매월 100만원 매월 100만원\\nX\\n월급여급\\n180회\\nX X X\\n120회 60회 60회 없음\\n기 준사망\\n1억원\\n보험금\\n5천만원 5천만원 5천만원 5천만원\\n50세 계약해 55세 계약해 60세 계약해 64세 계약해 65세 계약해당\\n당일 사망 당일 사망 당일 사망 당일 사망 일 이후 사망\\n5. 향후 공시이율에 관계없이 제28조(보험료의 납입이 연체되는 경우 납입최고(독촉)와 계약의 해\\n지)에 의한 보험료의 납입최고(독촉)기간의 종료일까지 보장하는 최저한도의 사망보험금은 다음\\n과 같습니다.\\n- 은퇴전 보험기간\\n지급사유 발생시점의 월급여금(60회 보증지급) 및 기본보험금액\\n- 은퇴후 보험기간\\n지급사유 발생시점의 기본보험금액\\n6. 회사는 보험기간 중 피보험자에게 상기 사망보험금 지급사유가 발생한 경우 사망보험금과 해약\\n환급금 중에서 많은 금액을 사망보험금으로 지급합니다.\\n□ 3종(소득보장강화형)\\n급부명칭 보험기간 지 급 사 유 지 급 금 액\\n○ 월급여금\\n지급사유 발생일을 포함하여 은퇴전 보험기간\\n이 끝날 때까지 최대 240회 한도 내에서 매월\\n은퇴전\\n피보험자가 사망한 경우 지급사유 발생해당일에 보험가입금액의 2%를\\n사망 보험기간 지급(단, 60회 보증지급)\\n보험금\\n사망보험금 지급사유 발생당시\\n기본보험금액\\n은퇴후 사망보험금 지급사유 발생당시\\n피보험자가 사망한 경우\\n보험기간 기본보험금액\\n주) 1. 기본보험금액은 보험기간에 따라 다음과 같이 구분됩니다.\\n(1) 은퇴전 보험기간\\n다음중 가장 큰 금액을 말합니다.\\n- 기준사망보험금\\n54\\x00/\\x00249', metadata={'source': '한화생명 The스마트한 일시납종신보험_20240101~.pdf', 'type': '일시납종신보험_20240101~', 'timestamp': 1705029852.254085}),\n",
       " Document(page_content='- ‘이미 납입한 보험료’에서 ‘월급여금의 일시지급금’을 차감한 금액\\n- 적립액의 101%에서 ‘월급여금의 일시지급금’을 차감한 금액\\n(2) 은퇴후 보험기간\\n기준사망보험금과 ‘이미 납입한 보험료’ 그리고 적립액의 101%중 가장 큰 금액\\n2. 기준사망보험금은 다음과 같습니다.\\n은퇴전 보험기간의 경우 보험가입금액의 20%로 하며, 은퇴후 보험기간에는 보험가입금액으로 합\\n니다. 다만, 추가납입보험료 납입시에는 추가납입전 기준사망보험금에 추가납입보험료를 더한 금\\n액으로 하며, 적립액의 인출시에는 인출전 기준사망보험금에서 적립액의 인출금액을 차감한 금\\n액으로 합니다. 한편, 적립액의 인출로 인한 기준사망보험금의 감소는 적립액의 인출 신청시점을\\n기준으로 계산합니다.\\n3. 월급여금에서 ‘보험가입금액’보다 월급여금 지급사유 발생시점 적립액의 101%가 더 큰 경우 그\\n금액을 보험가입금액으로 하여 월급여금을 계산합니다.\\n4. 월급여금에서 해당월의 지급사유 발생해당일이 없는 경우에는 해당월의 말일을 지급사유 발생\\n해당일로 합니다.\\n[사망연령별 기준사망보험금 및 월급여금 예시]\\n30세 가입, 보험가입금액 1억원(보험가입금액이 월급여급 지급사유 발생시점 적립액의 101% 이상\\n인 경우)\\n매월 200만원\\n월 급여금 X 매월 200만원 매월 200만원 매월 200만원\\n월급여급\\n240회 X X X\\n180회 60회 60회 없음\\n기 준사망\\n1억원\\n보험금\\n2천만원 2천만원 2천만원 2천만원\\n40세 계약해 50세 계약해 60세 계약해 64세 계약해 65세 계약해당\\n당일 사망 당일 사망 당일 사망 당일 사망 일 이후 사망\\n5. 향후 공시이율에 관계없이 제28조(보험료의 납입이 연체되는 경우 납입최고(독촉)와 계약의 해\\n지)에 의한 보험료의 납입최고(독촉)기간의 종료일까지 보장하는 최저한도의 사망보험금은 다음\\n과 같습니다.\\n- 은퇴전 보험기간\\n지급사유 발생시점의 월급여금(최대 240회 한도. 단, 60회 보증지급) 및 기본보험금액\\n- 은퇴후 보험기간\\n지급사유 발생시점의 기본보험금액\\n6. 회사는 보험기간 중 피보험자에게 상기 사망보험금 지급사유가 발생한 경우 사망보험금과 해약\\n환급금 중에서 많은 금액을 사망보험금으로 지급합니다.\\n55\\x00/\\x00249', metadata={'source': '한화생명 The스마트한 일시납종신보험_20240101~.pdf', 'type': '일시납종신보험_20240101~', 'timestamp': 1705029852.410223}),\n",
       " Document(page_content='【 별표 2 】\\n[적립형 계약] 보험금 지급기준표\\n급부명칭 지급사유 지급금액\\n기본보험료의 6배\\n+\\n사망보험금 보험기간 중 피보험자가 사망한 경우\\n사망보험금 지급사유\\n발생당시의 적립액\\n주) 사망보험금이 이미 납입한 보험료보다 적을 경우에는 이미 납입한 보험료를 사망보험금으로 지급합\\n니다.\\n【 별표 3 】\\n[스마트전환형 계약] 보험금 지급기준표\\n급부명칭 지 급 사 유 지 급 금 액\\n사망보험금 지급사유 발생당시\\n사망보험금 보험기간 중 피보험자가 사망한 경우\\n기본보험금액\\n주) 1. 기본보험금액이라 함은 기준사망보험금과 ‘이미 납입한 보험료’ 그리고 적립액의 101% 금액 중\\n가장 큰 금액을 말합니다.\\n2. 기준사망보험금이라 함은 보험가입금액으로 합니다. 다만, 추가납입보험료 납입시에는 추가납입\\n전 기준사망보험금에서 추가납입보험료를 더한 금액으로 하며 적립액의 인출시에는 인출전 기\\n준사망보험금에서 적립액의 인출금액을 차감한 금액으로 합니다.\\n3. 최저사망보험금이라 함은 스마트전환형 계약[보증비용부과형](해약환급금 보증)의 경우 향후 공\\n시이율에 관계없이 제28조(보험료의 납입이 연체되는 경우 납입최고(독촉)와 계약의 해지)에 의\\n한 보험료의 납입최고(독촉)기간의 종료일까지 보장하는 최저한도의 사망보험금으로서 사망보험\\n금 지급사유 발생시점의 기본보험금액을 말하며, 스마트전환형 계약[보증비용부과형](해약환급금\\n미보증)의 경우 향후 공시이율에 관계없이 최저사망보험금 보증기간 동안 보장하는 최저한도의\\n사망보험금으로서 사망보험금 지급사유 발생시점의 기본보험금액을 말합니다.\\n4. 스마트전환형 계약[보증비용부과형](해약환급금 미보증)의 경우 최저사망보험금 보증기간이라 함\\n은 전환일 이후 제28조(보험료의 납입이 연체되는 경우 납입최고(독촉)와 계약의 해지)의 납입\\n최고(독촉)기간이 끝나는 날의 다음 날부터 스마트전환형 계약의 예정적립액이 ‘0’이 될 때까지\\n의 기간을 말합니다.\\n5. 스마트전환형 계약[보증비용부과형](해약환급금 보증)의 경우 회사는 보험기간 중 피보험자에게\\n상기 사망보험금 지급사유가 발생한 경우 사망보험금과 해약환급금 중에서 많은 금액을 사망보\\n험금으로 지급합니다.\\n56\\x00/\\x00249', metadata={'source': '한화생명 The스마트한 일시납종신보험_20240101~.pdf', 'type': '일시납종신보험_20240101~', 'timestamp': 1705029852.5582736}),\n",
       " Document(page_content='【 별표 4 】\\n사망보험금 연금선지급서비스특칙의 보험금 지급기준표\\n급부명칭 지급사유 지급금액\\n산출방법서에서 정한 방법에 따라 계산한 매년 감액\\n피보험자가 매년 연금선지급\\n연금선지급금 할 금액에 해당하는 해약환급금을 매년 연금선지급\\n해당일에 살아있을 경우\\n해당일에 지급\\n주) 1. 연금선지급금액에 해당하는 주계약의 보험가입금액은 매년 연금선지급 해당일에 감액됩니다.\\n2. 연금선지급금액을 매월, 매3개월, 매6개월로 분할하여 지급받을 수 있습니다.\\n3. 해당월의 연금선지급 해당일이 없는 경우에는 해당월의 말일을 연금선지급 해당일로 합니다.\\n【 별표 5 】\\n보험금을 지급할 때의 적립이율 계산\\n(제9조 제2항 및 제39조 제3항 관련)\\n구 분 기 간 지 급 이 자\\n지급기일의 다음 날부터 30일 이내 기간 보험계약대출이율\\n사망보험금\\n보험계약대출이율\\n(2종(소득보장형) 및 지급기일의 31일 이후부터 60일 이내 기간\\n+ 가산이율(4.0%)\\n3종(소득보장강화형) 제2회\\n보험계약대출이율\\n이후의 월급여금 제외) 지급기일의 61일 이후부터 90일 이내 기간\\n+ 가산이율(6.0%)\\n(제4조)\\n보험계약대출이율\\n지급기일의 91일 이후 기간\\n+ 가산이율(8.0%)\\n-1년이내:\\n2종(소득보장형) 및\\n제2회 이후의 해당 월급여금 지급예정일의 공시이율의 50%\\n3종 (소득보장강화형) 제2회\\n다음 날부터 청구일까지의 기간 -1년 초과기간:\\n이후의 월급여금\\n공시이율의 40%\\n(제4조)\\n청구일의 다음 날부터 지급일까지의 기간 보험계약대출이율\\n-1년이내:\\n지급사유가 발생한 날의 다음 날부터 청구 공시이율의 50%\\n해약환급금 일까지의 기간 -1년 초과기간:\\n(제39조 제1항) 공시이율의 40%\\n청구일의 다음 날부터 지급일까지의 기간 보험계약대출이율\\n주) 1. 지급이자 계산시 적용되는 공시이율 및 보험계약대출이율은 해당기간 동안에 회사가 매월 정한 이\\n율로 합니다.\\n2. 제2회 이후의 월급여금은 회사가 보험금의 지급시기 도래 7일 이전에 지급할 사유와 금액을 알리\\n57\\x00/\\x00249', metadata={'source': '한화생명 The스마트한 일시납종신보험_20240101~.pdf', 'type': '일시납종신보험_20240101~', 'timestamp': 1705029852.7393699}),\n",
       " Document(page_content='지 않은 경우, 지급예정일의 다음 날부터 청구일까지의 기간은 공시이율을 적용한 이자를 지급합\\n니다.\\n3. 지급이자는 연단위 복리로 일자계산하며, 소멸시효(제45조)가 완성된 이후에는 지급하지 않습니다.\\n4. 계약자 등의 책임 있는 사유로 보험금 지급이 지연된 때에는 그 해당기간에 대한 이자는 지급되\\n지 않을 수 있습니다. 다만, 회사는 계약자 등이 분쟁조정을 신청했다는 이유만으로 이자지급을\\n거절하지 않습니다.\\n5. 가산이율 적용시 제9조(보험금의 지급절차) 제3항 각 호의 어느 하나에 해당되는 사유로 지연된\\n경우에는 해당기간에 대하여 가산이율을 적용하지 않습니다.\\n6. 가산이율 적용시 금융위원회 또는 금융감독원이 정당한 사유로 인정하는 경우에는 해당 기간에\\n대하여 가산이율을 적용하지 않습니다.\\n【 별표 6 】\\n사망보험금 연금선지급서비스특칙의 보험금을 지급할 때의 적립이율 계산\\n(제55조 제2항 관련)\\n구 분 기 간 지 급 이 자\\n- 1년이내 :\\n공시이율의 50%\\n지급사유가 발생한 날의 다음 날부터 청구일까지의 기간\\n연금선지급금\\n- 1년 초과기간 :\\n(제52조)\\n공시이율의 40%\\n청구일의 다음 날부터 지급일까지의 기간 보험계약대출이율\\n주) 1. 지급이자 계산시 적용되는 공시이율 및 보험계약대출이율은 해당기간 동안에 회사가 매월 정한 이\\n율로 합니다.\\n2. 지급이자는 연단위 복리로 일자계산하며, 소멸시효(제45조)가 완성된 이후에는 지급하지 않습니다.\\n3. 계약자 등의 책임 있는 사유로 보험금 지급이 지연된 때에는 그 해당기간에 대한 이자는 지급되\\n지 않을 수 있습니다. 다만, 회사는 계약자 등이 분쟁조정을 신청했다는 이유만으로 이자지급을\\n거절하지 않습니다.\\n58\\x00/\\x00249', metadata={'source': '한화생명 The스마트한 일시납종신보험_20240101~.pdf', 'type': '일시납종신보험_20240101~', 'timestamp': 1705029852.8640153}),\n",
       " Document(page_content='【 별표 7 】\\n재해분류표\\n1. 보장대상이 되는 재해\\n다음 각 호에 해당하는 재해는 이 보험의 약관에 따라 보험금을 지급합니다.\\n① 한국표준질병·사인분류상의 (S00~Y84)에 해당하는 우발적인 외래의 사고\\n② 감염병의 예방 및 관리에 관한 법률 제2조 제2호에서 규정한 제1급감염병\\n2. 보험금을 지급하지 않는 재해\\n다음 각 호에 해당하는 경우에는 재해분류에서 제외하여 보험금을 지급하지 않습니다.\\n① 질병 또는 체질적 요인이 있는 자로서 경미한 외부 요인으로 발병하거나 그 증상이 더욱 악화된\\n경우\\n② 사고의 원인이 다음과 같은 경우\\n- 과잉노력 및 격심한 또는 반복적 운동(X50)\\n- 무중력환경에서의 장기간 체류(X52)\\n- 식량부족(X53)\\n- 물부족(X54)\\n- 상세불명의 결핍(X57)\\n- 고의적 자해(X60~X84)\\n- 법적 개입 중 법적 처형(Y35.5)\\n③ ‘외과적 및 내과적 치료 중 환자의 재난(Y60~Y69)’ 중 진료기관의 고의 또는 과실이 없는 사고(단,\\n처치 당시에는 재난에 대한 언급이 없었으나 환자의 이상반응 또는 이후 합병증의 원인이 된 외\\n과적 및 기타 내과적 처치(Y83~Y84)는 보장)\\n④ ‘자연의 힘에 노출(X30~X39)’ 중 급격한 액체손실로 인한 탈수\\n⑤ ‘우발적 익사 및 익수(W65~W74), 기타 호흡과 관련된 불의의 위협(W75~W84), 눈 또는 인체의\\n개구부를 통하여 들어온 이물(W44)’ 중 질병에 의한 호흡장해 및 삼킴장해\\n⑥ 한국표준질병·사인분류상의 (U00~U99)에 해당하는 질병\\n※ ( ) 안은 제8차 개정 한국표준질병·사인분류(통계청 고시 제2020-175호, 2021. 1. 1 시행)상의 분류번호\\n이며, 제9차 한국표준질병·사인분류 개정 이후 이 약관에서 보장하는 재해 해당여부는 피보험자가\\n진단(재해의 경우 발생)된 당시 시행하고 있는 한국표준질병·사인분류에 따라 판단합니다.\\n※ 제1항(보장대상이 되는 재해) 제②호에 해당하는 감염병은 보험사고 발생당시 시행중인 법률을 적용\\n하며, 제2항(보험금을 지급하지 않는 재해) 제⑥호에 해당하더라도 보장대상에서 제외하지 않습니다.\\n59\\x00/\\x00249', metadata={'source': '한화생명 The스마트한 일시납종신보험_20240101~.pdf', 'type': '일시납종신보험_20240101~', 'timestamp': 1705029853.0047047}),\n",
       " Document(page_content='주계약 약관\\n한화생명\\nThe스마트한\\n일시납종신보험\\n무배당[보증비용부과형]\\n(해약환급금 미보증)\\n제1관 목적 및 용어의 정의\\n제2관 보험금의 지급\\n제3관 계약자의 계약 전 알릴 의무 등\\n제4관 보험계약의 성립과 유지\\n제5관 보험료의 납입\\n제6관 계약의 해지 및 해약환급금 등\\n제7관 분쟁의 조정 등\\n주계약 약관은 보험계약 성립의 가장 기본이 되는 사항으로,\\n보험계약자와 보험회사의 권리와 의무를 규정한 중요한 내용입니다.', metadata={'source': '한화생명 The스마트한 일시납종신보험_20240101~.pdf', 'type': '일시납종신보험_20240101~', 'timestamp': 1705029853.0780265}),\n",
       " Document(page_content='한화생명 The스마트한 일시납종신보험 무배당[보증비용부과형](해약환급금 미보증)\\n주계약 약관\\n제 1 관 목적 및 용어의 정의\\n제 1 조 목적\\n이 보험계약(이하 ‘계약’이라 합니다)은 보험계약자(이하 ‘계약자’라 합니다)와 보험회사(이하 ‘회사’라 합니\\n다) 사이에 제4조(보험금의 지급사유)에 해당하는 피보험자의 위험을 보장하기 위하여 체결됩니다.\\n제 2 조 용어의 정의\\n이 계약에서 사용되는 용어의 정의는, 이 계약의 다른 조항에서 달리 정의되지 않는 한 다음과 같습니다.\\n1. 계약관계 관련 용어\\n가. 계약자: 회사와 계약을 체결하고 보험료를 납입할 의무를 지는 사람을 말합니다.\\n나. 보험수익자: 보험금 지급사유가 발생하는 때에 회사에 보험금을 청구하여 받을 수 있는 사람을 말\\n합니다.\\n다. 보험증권: 계약의 성립과 그 내용을 증명하기 위하여 회사가 계약자에게 드리는 증서를 말합니다.\\n라. 진단계약: 계약을 체결하기 위하여 피보험자가 건강진단을 받아야 하는 계약을 말합니다.\\n마. 피보험자: 보험사고의 대상이 되는 사람을 말합니다.\\n2. 지급사유 관련 용어\\n가. 재해: 별표 3 ‘재해분류표’에서 정한 재해를 말합니다.\\n나. 중요한 사항: 계약 전 알릴 의무와 관련하여 회사가 그 사실을 알았더라면 계약의 청약을 거절하\\n거나 보험가입금액 한도 제한, 일부 보장 제외, 보험금 삭감, 보험료 할증과 같이 조건부로 승낙하\\n는 등 계약 승낙에 영향을 미칠 수 있는 사항을 말합니다.\\n3. 지급금과 이자율 관련 용어\\n가. 연단위 복리: 회사가 지급할 금전에 이자를 줄 때 1년마다 마지막 날에 그 이자를 원금에 더한 금\\n액을 다음 1년의 원금으로 하는 이자 계산방법을 말합니다.\\n【 연단위 복리 예시 】\\n연시시점(1월1일) 원금 10,000원 투자, 연간 2% 이자율 적용시 계산 예시\\n· 1년차 이자 = 10,000원 × 2% = 200원\\n원금\\n· 2년차 이자 = (10,000원 + 200원) × 2% = 204원\\n원금 1년차 이자\\n나. 평균공시이율: 전체 보험회사 공시이율의 평균으로, 이 계약 체결 시점의 이율을 말하며, 평균공시\\n이율은 금융감독원 홈페이지(www.fss.or.kr)에서 확인할 수 있습니다.\\n다. 산출이율: 이 계약의 보험료 및 해약환급금 산출방법서(이하 ‘산출방법서’라 합니다)’에서 정한 보\\n험료 산출이율을 말합니다.\\n라. 해약환급금: 계약이 해지되는 때에 회사가 계약자에게 돌려주는 금액을 말합니다.\\n4. 기간과 날짜 관련 용어\\n가. 보험기간: 계약에 따라 보장을 받는 기간을 말합니다.\\n나. 영업일: 회사가 영업점에서 정상적으로 영업하는 날을 말하며, 토요일, ‘관공서의 공휴일에 관한 규\\n정’에 따른 공휴일 및 대체공휴일, 근로자의 날은 제외합니다.\\n다. 월계약해당일: 보험계약일부터 한 달씩 경과되는 매월의 계약 해당일을 말합니다. 다만, 해당월의\\n계약 해당일이 없는 경우에는 해당월의 말일을 계약 해당일로 합니다.\\n5. 보험료 관련 용어\\n가. 기준보험료 및 기본보험료: 일시납보험료\\n나. 추가납입보험료: 기본보험료 이외에 보험계약 성립 후부터 보험기간 중에 추가로 납입하는 보험료\\n61\\x00/\\x00249', metadata={'source': '한화생명 The스마트한 일시납종신보험_20240101~.pdf', 'type': '일시납종신보험_20240101~', 'timestamp': 1705029853.3185368}),\n",
       " Document(page_content='를 말합니다.\\n다. 보험료 납입한도\\n(1) 이 계약의 기본보험료와 추가납입보험료를 합하여 보험기간 중 납입할 수 있는 보험료의 납입\\n한도로서 기준보험료 총액의 2배로 하며, 1회 납입할 수 있는 보험료의 납입한도는 다음에 정\\n한 한도로 합니다.\\n- 일시납 기준보험료×(1 + 10% × 가입후 경과년수) – 이미 납입한 기본보험료 및 추가납입보\\n험료의 합계액\\n다만, 가입후 경과년수는 가입시를 1년으로 하며, 10년을 최대한도로 합니다. 또한, 특약이\\n부가된 경우에는 특약보험료는 보험료 납입한도에서 제외하며, 적립액의 인출로 인한 기준\\n사망보험금의 감소가 있는 경우에는 보험료 납입한도와는 별도로 기준사망보험금의 감소분\\n이내에서 납입이 가능합니다.\\n(2) ‘(1)’에도 불구하고 1회 납입할 수 있는 보험료의 납입한도는 시중금리 등 금융환경에 따라 회\\n사가 정한 한도로 합니다.\\n라. 이미 납입한 보험료 : 계약자가 회사에 납입한 기본보험료와 추가납입보험료를 합한 금액에서 인\\n출금액의 합계를 차감한 금액을 말하며, 특약보험료는 제외합니다. 다만, 다음에 해당하는 경우에\\n사망보험금 계산시 적용되는 이미 납입한 보험료는 계약자가 실제로 납입한 보험료와는 다르게 계\\n산하여 적용합니다.\\n- 보험가입금액의 감액이 있을 경우\\n다음의 수식과 같이 계산된 보험료와 해당 감액신청 이후 납입된 보험료의 합계를 말합니다.\\n‘감액신청’ 직후 보장형 계약의 이미 납입한 보험료\\n= 감액신청 직전 이미 납입한 보험료\\n× (감액신청 직후 보험가입금액 / 감액신청 직전 보험가입금액)\\n마. 위험보험료: 이 계약에서 정하는 보험금을 지급하기 위한 비용을 말합니다.\\n바. 계약체결비용: 보험계약의 체결과 관련되어 발생하는 비용을 말합니다.\\n사. 계약관리비용: 보험계약의 유지 및 관리 등과 관련되어 발생하는 비용을 말합니다(이하, ‘계약체결\\n비용’과 ‘계약관리비용’을 합하여 ‘계약체결 및 계약관리비용’이라 합니다). 계약관리비용은 ‘납입후\\n유지관련비용’과 ‘기타비용’으로 구분됩니다.\\n아. 월대체보험료\\n- 해당월의 위험보험료, 납입후 유지관련비용, 최저사망보험금 보증비용의 합계액으로서 매월 월\\n계약해당일에 해약환급금(보험계약대출의 원금과 이자를 차감한 금액 기준, 특약의 해약환급금\\n은 제외)에서 공제합니다.\\n- 추가납입보험료의 계약관리비용은 보험료 납입시에 납입한 추가납입보험료에서 공제합니다.\\n6. 적립액 및 보험금 관련 용어\\n가. 적립액: 장래의 보험금, 해약환급금 등의 지급을 위하여 계약자가 납입한 보험료 중 일정액을 기준\\n으로 이 계약의 산출방법서에서 정한 방법에 따라 이 계약의 공시이율로 일자 계산한 금액을 말합\\n니다.\\n나. 예정적립액: 이 계약의 산출방법서에서 정한 방법에 따라 이 계약의 예정적립이율(연복리 2.75%)로\\n일자 계산한 금액을 말합니다.\\n다. 기본보험금액\\n(1) 1종(기본형)\\n기준사망보험금과 ‘이미 납입한 보험료’ 그리고 적립액의 101% 금액 중 가장 큰 금액을 말합니\\n다.\\n(2) 2종(소득보장형) 및 3종(소득보장강화형)\\n(가) 은퇴전 보험기간\\n다음중 가장 큰 금액을 말합니다.\\n㉮ 기준사망보험금\\n62\\x00/\\x00249', metadata={'source': '한화생명 The스마트한 일시납종신보험_20240101~.pdf', 'type': '일시납종신보험_20240101~', 'timestamp': 1705029853.5165007}),\n",
       " Document(page_content='㉯ ‘이미 납입한 보험료’에서 ‘월급여금의 일시지급금’을 차감한 금액\\n㉰ 적립액의 101%에서 ‘월급여금의 일시지급금’을 차감한 금액\\n(나) 은퇴후 보험기간\\n기준사망보험금과 ‘이미 납입한 보험료’ 그리고 적립액의 101%중 가장 큰 금액\\n(다) ‘(가)’의 ‘월급여금의 일시지급금’은 월급여금 지급해당일에 지급될 월급여금을 보험금 지급\\n사유 발생일 시점으로 이 계약의 산출이율로 할인하여 계산한 금액을 말합니다.\\n라. 기준사망보험금\\n(1) 1종(기본형)\\n보험가입금액으로 합니다. 다만, 추가납입보험료 납입시에는 추가납입전 기준사망보험금에 추가\\n납입보험료를 더한 금액으로 하며, 적립액의 인출시에는 인출전 기준사망보험금에서 적립액의\\n인출금액을 차감한 금액으로 합니다. 한편, 적립액의 인출로 인한 기준사망보험금의 감소는 적\\n립액의 인출 신청시점을 기준으로 계산합니다.\\n(2) 2종(소득보장형)\\n은퇴전 보험기간의 경우 보험가입금액의 50%로 하며, 은퇴후 보험기간에는 보험가입금액으로\\n합니다. 다만, 추가납입보험료 납입시에는 추가납입전 기준사망보험금에 추가납입보험료를 더한\\n금액으로 하며, 적립액의 인출시에는 인출전 기준사망보험금에서 적립액의 인출금액을 차감한\\n금액으로 합니다. 한편, 적립액의 인출로 인한 기준사망보험금의 감소는 적립액의 인출 신청시\\n점을 기준으로 계산합니다.\\n(3) 3종(소득보장강화형)\\n은퇴전 보험기간의 경우 보험가입금액의 20%로 하며, 은퇴후 보험기간에는 보험가입금액으로\\n합니다. 다만, 추가납입보험료 납입시에는 추가납입전 기준사망보험금에 추가납입보험료를 더한\\n금액으로 하며, 적립액의 인출시에는 인출전 기준사망보험금에서 적립액의 인출금액을 차감한\\n금액으로 합니다. 한편, 적립액의 인출로 인한 기준사망보험금의 감소는 적립액의 인출 신청시\\n점을 기준으로 계산합니다.\\n마. 최저사망보험금\\n(1) 1종(기본형)\\n공시이율에 관계없이 최저사망보험금 보증기간 동안 보장하는 최저한도의 사망보험금으로서,\\n사망보험금 지급사유 발생시점의 기본보험금액을 말합니다.\\n(2) 2종(소득보장형)\\n향후 공시이율에 관계없이 최저사망보험금 보증기간 동안 보장하는 최저한도의 사망보험금으로\\n서, 다음과 같습니다.\\n- 은퇴전 보험기간\\n지급사유 발생시점의 월급여금(60회 보증지급) 및 기본보험금액\\n- 은퇴후 보험기간\\n지급사유 발생시점의 기본보험금액\\n(3) 3종(소득보장강화형)\\n향후 공시이율에 관계없이 최저사망보험금 보증기간 동안 보장하는 최저한도의 사망보험금으로\\n서, 다음과 같습니다.\\n- 은퇴전 보험기간\\n지급사유 발생시점의 월급여금(최대 240회 한도. 단, 60회 보증지급) 및 기본보험금액\\n- 은퇴후 보험기간\\n지급사유 발생시점의 기본보험금액\\n바. 최저사망보험금 보증기간: 계약일로부터 1개월 경과 이후 제28조(보험료의 납입이 연체되는 경우\\n납입최고(독촉)와 계약의 해지)의 납입최고(독촉)기간이 끝나는 날의 다음 날부터 예정적립액이 ‘0’\\n이 될 때까지의 기간을 말합니다.\\n사. 최저사망보험금 보증비용: 향후 공시이율에 관계없이 최저사망보험금의 지급을 보증하는 데 소요되\\n63\\x00/\\x00249', metadata={'source': '한화생명 The스마트한 일시납종신보험_20240101~.pdf', 'type': '일시납종신보험_20240101~', 'timestamp': 1705029853.6954792}),\n",
       " Document(page_content='는 비용을 말합니다.\\n제 2 관 보험금의 지급\\n제 3 조 한국표준질병∙사인분류 적용 기준\\n① 이 약관에서 규정하는 질병 및 재해 분류는 제8차 개정 한국표준질병·사인분류(KCD : 통계청 고시 제\\n2020-175호, 2021.1.1시행)가 기준이나, 이후 진단(재해의 경우 발생) 당시 한국표준질병·사인분류가 개정\\n된 경우에는 개정된 기준으로 최종 판단합니다.\\n② 진단(재해의 경우 발생) 당시의 한국표준질병·사인분류에 따라 이 약관에서 보장하는 질병 및 재해\\n해당여부를 판단하며, 진단(재해의 경우 발생) 이후 한국표준질병·사인분류 개정으로 질병 및 재해 분류\\n가 변경되더라도 이 약관에서 보장하는 질병 및 재해 해당 여부를 다시 판단하지 않습니다.\\n③ 제1항을 적용함에 있어 이 약관에서 진단 기준을 별도로 정한 경우에는 그에 따릅니다.\\n【예시】\\n·피보험자가 제8차 개정 한국표준질병·사인분류 기준에서는 약관에서 보장하는 질병에 해당하나, 진\\n단 당시 제9차 개정 한국표준질병·사인분류가 적용되고 그 기준으로는 약관상 보장하는 질병에 해당\\n하지 않을 경우에는 보험금을 지급하지 아니합니다.\\n·피보험자가 진단 당시의 제8차 개정 한국표준질병·사인분류 기준에서는 약관에서 보장하지 않는 질\\n병으로 보험금 청구가 되어 보험금 지급이 거절되었으나, 진단 이후 제9차 개정 한국표준질병·사인분\\n류가 적용되고 그 기준에서는 보장하는 질병에 해당된다고 하더라도 보험금을 지급하지 않습니다.\\n제 4 조 보험금의 지급사유\\n회사는 보험기간 중 피보험자가 사망한 경우에는 보험수익자에게 약정한 사망보험금(별표 1 ‘보험금 지\\n급기준표’ 참조)을 지급합니다.\\n제 5 조 보험금 지급에 관한 세부규정\\n① 제4조(보험금의 지급사유)의 ‘사망’에는 보험기간에 다음 어느 하나의 사유가 발생한 경우를 포함합니\\n다.\\n1. 실종선고를 받은 경우: 법원에서 인정한 실종기간이 끝나는 때에 사망한 것으로 봅니다.\\n【실종선고】\\n부재자 등의 생사불명 상태가 일정기간(이하 ‘실종기간’이라 합니다) 계속될 때에 이해관계인이나 검\\n사의 청구에 의하여 법원은 실종선고를 하며, 실종선고를 받은 자는 실종기간이 만료한 때 사망한\\n것으로 봅니다.\\n2. 관공서에서 수해, 화재나 그 밖의 재난을 조사하고 사망한 것으로 통보하는 경우: 가족관계등록부\\n에 기재된 사망연월일을 기준으로 합니다.\\n② 「호스피스·완화의료 및 임종과정에 있는 환자의 연명의료 결정에 관한 법률」에 따른 연명의료중단등\\n결정 및 그 이행으로 피보험자가 사망하는 경우 연명의료중단등결정 및 그 이행은 제4조(보험금의 지급\\n사유)의 ‘사망’의 원인 및 ‘사망보험금’ 지급에 영향을 미치지 않습니다.\\n③ 보험수익자와 회사가 제4조(보험금의 지급사유)에 대해 합의하지 못할 때는 보험수익자와 회사가 함\\n께 제3자를 정하고 그 제3자의 의견에 따를 수 있습니다. 제3자는 의료법 제3조(의료기관)에 규정한 종\\n합병원 소속 전문의 중에서 정하며, 보험금 지급 사유 판정에 드는 의료비용은 회사가 전액 부담합니다.\\n제 6 조 보험금을 지급하지 않는 사유\\n회사는 다음 중 어느 한 가지로 보험금 지급사유가 발생한 때에는 보험금을 지급하지 않습니다.\\n1. 피보험자가 고의로 자신을 해친 경우\\n다만, 다음 중 어느 하나에 해당하여 보험금 지급사유가 발생한 때에는 보험금을 지급하여 드립니\\n다.\\n64\\x00/\\x00249', metadata={'source': '한화생명 The스마트한 일시납종신보험_20240101~.pdf', 'type': '일시납종신보험_20240101~', 'timestamp': 1705029853.9278755}),\n",
       " Document(page_content='가. 피보험자가 심신상실 등으로 자유로운 의사결정을 할 수 없는 상태에서 자신을 해침으로 인하\\n여 보험금 지급사유가 발생한 경우\\n특히 그 결과 사망에 이르게 된 경우에는 제4조(보험금의 지급사유)에서 정한 사망보험금을 지\\n급합니다.\\n나. 계약의 보장개시일(부활(효력회복)계약의 경우는 부활(효력회복)청약일)부터 2년이 지난 후에\\n자살한 경우에는 제4조(보험금의 지급사유)에서 정한 사망보험금을 지급합니다.\\n2. 보험수익자가 고의로 피보험자를 해친 경우\\n다만, 그 보험수익자가 보험금의 일부 보험수익자인 경우에는 다른 보험수익자에 대한 보험금은 지\\n급합니다.\\n3. 계약자가 고의로 피보험자를 해친 경우\\n제 7 조 보험금 지급사유의 발생통지\\n계약자 또는 피보험자나 보험수익자는 제4조(보험금의 지급사유)에서 정한 보험금 지급사유의 발생을 안\\n때에는 지체 없이 이를 회사에 알려야 합니다.\\n제 8 조 보험금의 청구\\n① 보험수익자는 다음의 서류를 제출하고 보험금을 청구하여야 합니다.\\n1. 청구서(회사양식)\\n2. 사고증명서(사망진단서 등)\\n3. 신분증(주민등록증이나 운전면허증 등 사진이 붙은 정부기관 발행 신분증, 본인이 아닌 경우에는\\n본인의 인감증명서 또는 본인서명사실확인서를 포함하며, 이하 ‘신분증’이라 합니다)\\n4. 기타 보험수익자가 보험금 수령에 필요하여 제출하는 서류\\n② 제1항에도 불구하고 회사는 보험수익자가 의식불명 등 의사무능력상태인 경우 성년후견인이 보험수익\\n자를 대리하여 제1항 각 호의 서류와 다음의 서류를 제출하고 보험금을 청구하도록 요구할 수 있습니다.\\n1. 보험수익자가 예금주인 예금 통장 사본\\n2. 성년후견인의 보험금지급 동의서, 인감증명서, 인감도장\\n3. 보험수익자 기준 성년 후견 등기사항 증명서\\n③ 제1항 제2호의 사고증명서는 의료법 제3조(의료기관)에서 규정한 국내의 병원이나 의원 또는 국외의\\n의료관련법에서 정한 의료기관에서 발급한 것이어야 합니다.\\n제 9 조 보험금의 지급절차\\n① 회사는 제8조(보험금의 청구)에 정한 서류를 접수한 때에는 접수증을 드리고 휴대전화 문자메시지 또\\n는 전자우편 등으로도 송부하며, 그 서류를 접수한 날부터 3영업일 이내에 보험금을 지급하여 드립니다.\\n다만, 보험금 지급 사유의 조사나 확인이 필요한 때에는 접수후 10영업일 이내에 보험금을 지급하여 드\\n립니다.\\n② 회사는 제4조(보험금의 지급사유)의 사망보험금 중 2종(소득보장형) 및 3종(소득보장강화형)의 제2회\\n이후의 월급여금의 지급시기가 되면 지급시기 7일 이전에 그 사유와 회사가 지급하여야 할 금액을 보험\\n수익자에게 알려드리며, 제1항에 따라 보험금을 지급할 때 보험금 지급일까지의 기간에 대한 이자는 ‘보\\n험금을 지급할 때의 적립이율 계산’(별표 2 참조)과 같이 계산합니다.\\n③ 회사가 제1항의 지급사유를 조사∙확인하기 위하여 제1항의 지급기일 이내에 보험금을 지급하지 못할\\n것으로 예상되는 경우에는 그 구체적인 사유, 지급예정일 및 보험금 가지급 제도(회사가 추정하는 보험금\\n의 50% 이내를 지급)에 대하여 피보험자 또는 보험수익자에게 즉시 통지하여 드립니다. 다만, 지급예정\\n일은 다음 각 호의 어느 하나에 해당하는 경우를 제외하고는 제8조(보험금의 청구)에서 정한 서류를 접\\n수한 날부터 30영업일 이내에서 정합니다.\\n1. 소송제기\\n2. 분쟁조정신청\\n65\\x00/\\x00249', metadata={'source': '한화생명 The스마트한 일시납종신보험_20240101~.pdf', 'type': '일시납종신보험_20240101~', 'timestamp': 1705029854.1429281}),\n",
       " Document(page_content='3. 수사기관의 조사\\n4. 해외에서 발생한 보험사고에 대한 조사\\n5. 제5항에 따른 회사의 조사요청에 대한 동의 거부 등 계약자, 피보험자 또는 보험수익자의 책임 있\\n는 사유로 보험금 지급 사유의 조사와 확인이 지연되는 경우\\n6. 제5조(보험금 지급에 관한 세부규정) 제3항에 따라 보험금 지급 사유에 대해 제3자의 의견에 따르\\n기로 한 경우\\n【보험금 가지급 제도】\\n지급기한 내에 보험금이 지급되지 못할 것으로 판단될 경우 피보험자가 당장 필요로 하는 비용을 보\\n전해주기 위해 회사가 예상되는 보험금의 일부를 먼저 지급하는 제도\\n④ 제3항에 의하여 추가적인 조사가 이루어지는 경우, 회사는 보험수익자의 청구에 따라 회사가 추정하\\n는 보험금의 50% 상당액을 가지급보험금으로 지급합니다.\\n⑤ 계약자, 피보험자 또는 보험수익자는 제15조(계약 전 알릴 의무 위반의 효과)와 제1항 및 제3항의 보\\n험금 지급 사유의 조사와 관련하여 의료기관, 국민건강보험공단, 경찰서 등 관공서에 대한 회사의 서면\\n조사 요청에 동의하여야 합니다. 다만, 정당한 사유 없이 이에 동의하지 않을 경우에는 사실확인이 끝날\\n때까지 회사는 보험금 지급지연에 따른 이자를 지급하지 않습니다.\\n⑥ 회사는 제5항의 서면조사에 대한 동의 요청시 조사목적, 사용처 등을 명시하고 설명합니다.\\n제 10 조 보험금 받는 방법의 변경\\n① 계약자(보험금 지급사유 발생 후에는 보험수익자)는 회사의 사업방법서에서 정한 바에 따라 제4조(보\\n험금의 지급사유)에 따른 사망보험금의 전부 또는 일부에 대하여 나누어 지급받거나 일시에 지급받는 방\\n법으로 변경할 수 있습니다.\\n② 회사는 제1항에 따라 일시에 지급할 금액을 나누어 지급하는 경우에는 나중에 지급할 금액에 대하여\\n‘평균공시이율’을 연단위 복리로 계산한 금액을 더하며, 나누어 지급할 금액을 일시에 지급하는 경우에는\\n‘평균공시이율’을 연단위 복리로 할인한 금액을 지급합니다.\\n③ 제2항에도 불구하고 회사는 별표 1(‘보험금 지급기준표’)에서 정한 월급여금을 일시에 지급하는 경우에\\n한해 ‘평균공시이율을 연단위 복리로 할인한 금액’과 ‘산출이율을 연단위 복리로 할인한 금액’ 중 큰 금액\\n을 지급합니다.\\n제 11 조 주소변경통지\\n① 계약자(보험수익자가 계약자와 다른 경우 보험수익자를 포함합니다)는 주소 또는 연락처가 변경된 경\\n우에는 지체 없이 그 변경 내용을 회사에 알려야 합니다.\\n② 제1항에서 정한 대로 계약자 또는 보험수익자가 변경내용을 알리지 않은 경우에는 계약자 또는 보험\\n수익자가 회사에 알린 최종의 주소 또는 연락처로 등기우편 등 우편물에 대한 기록이 남는 방법으로 알\\n린 사항은 일반적으로 도달에 필요한 시일이 지난 때에 계약자 또는 보험수익자에게 도달된 것으로 봅니\\n다.\\n제 12 조 보험수익자의 지정\\n이 계약에서 계약자가 보험수익자를 지정하지 않은 때에는 피보험자의 법정상속인을 보험수익자로 합니\\n다.\\n제 13 조 대표자의 지정\\n① 계약자 또는 보험수익자가 2명 이상인 경우에는 각 대표자를 1명 지정하여야 합니다. 이 경우 그 대\\n표자는 각각 다른 계약자 또는 보험수익자를 대리하는 것으로 합니다.\\n② 지정된 계약자 또는 보험수익자의 소재가 확실하지 않은 경우에는 이 계약에 관하여 회사가 계약자\\n또는 보험수익자 1명에 대하여 한 행위는 각각 다른 계약자 또는 보험수익자에게도 효력이 미칩니다.\\n③ 계약자가 2명 이상인 경우에는 그 책임을 연대(連帶)로 합니다.\\n66\\x00/\\x00249', metadata={'source': '한화생명 The스마트한 일시납종신보험_20240101~.pdf', 'type': '일시납종신보험_20240101~', 'timestamp': 1705029854.3767}),\n",
       " Document(page_content='【‘계약자의 책임’의 예시】\\n제7조(보험금 지급사유의 발생통지), 제8조(보험금의 청구), 제11조(주소변경통지), 제25조(제1회 보험\\n료 및 회사의 보장개시), 제26조(제2회 이후 보험료의 납입) 등\\n【연대(連帶)】\\n2인 이상의 계약자가 각자 채무의 전부를 이행할 책임을 지는 것을 말하며(지분만큼 분할하여 책임\\n을 지는 것과는 다름), 계약자 중 1인이 책임을 이행하는 경우 나머지 계약자는 책임을 면하게 됩니\\n다.\\n제 3 관 계약자의 계약 전 알릴 의무 등\\n제 14 조 계약 전 알릴 의무\\n계약자 또는 피보험자는 청약할 때(진단계약의 경우에는 건강진단할 때를 말합니다) 청약서에서 질문한\\n사항에 대하여 알고 있는 사실을 반드시 사실대로 알려야(이하 ‘계약 전 알릴 의무’라 하며, 상법상 ‘고지\\n의무’와 같습니다)합니다. 다만, 진단계약에서 의료법 제3조(의료기관)의 규정에 따른 종합병원과 병원에\\n서 직장 또는 개인이 실시한 건강진단서 사본 등 건강상태를 판단할 수 있는 자료로 건강진단을 대신할\\n수 있습니다.\\n제 15 조 계약 전 알릴 의무 위반의 효과\\n① 회사는 계약자 또는 피보험자가 제14조(계약 전 알릴 의무)에도 불구하고 고의 또는 중대한 과실로\\n중요한 사항에 대하여 사실과 다르게 알린 경우에는 회사가 별도로 정하는 방법에 따라 계약을 해지하거\\n나 보장을 제한할 수 있습니다. 그러나 다음 중 한 가지에 해당되는 때에는 계약을 해지하거나 보장을\\n제한할 수 없습니다.\\n1. 회사가 계약 당시에 그 사실을 알았거나 과실로 인하여 알지 못하였을 때\\n2. 회사가 그 사실을 안 날부터 1개월 이상 지났거나 또는 보장개시일부터 보험금 지급사유가 발생하\\n지 않고 2년(진단계약의 경우 질병에 대하여는 1년)이 지났을 때\\n3. 계약을 체결한 날부터 3년이 지났을 때\\n4. 회사가 이 계약을 청약할 때 피보험자의 건강상태를 판단할 수 있는 기초자료(건강진단서 사본 등)\\n에 따라 승낙한 경우에 건강진단서 사본 등에 명기되어 있는 사항으로 보험금 지급사유가 발생하였\\n을 때(계약자 또는 피보험자가 회사에 제출한 기초자료의 내용 중 중요사항을 고의로 사실과 다르\\n게 작성한 때에는 계약을 해지하거나 보장을 제한할 수 있습니다)\\n5. 보험설계사 등이 계약자 또는 피보험자에게 고지할 기회를 주지 않았거나 계약자 또는 피보험자가\\n사실대로 고지하는 것을 방해한 경우, 계약자 또는 피보험자에게 사실대로 고지하지 않게 하였거나\\n부실한 고지를 권유했을 때\\n다만, 보험설계사 등의 행위가 없었다 하더라도 계약자 또는 피보험자가 사실대로 고지하지 않거나\\n부실한 고지를 했다고 인정되는 경우에는 계약을 해지하거나 보장을 제한할 수 있습니다.\\n② 회사는 제1항에 따라 계약을 해지하거나 보장을 제한할 경우에는 계약 전 알릴 의무 위반사실(계약해\\n지 등의 원인이 되는 위반사실을 구체적으로 명시)뿐만 아니라 계약 전 알릴 의무 사항이 중요한 사항에\\n해당되는 사유 및 계약의 처리결과를 “반대증거가 있는 경우 이의를 제기할 수 있습니다”라는 문구와 함\\n께 계약자에게 서면 또는 전자문서 등으로 알려 드립니다. 회사가 전자문서로 안내하고자 할 경우에는\\n계약자에게 서면 또는 「전자서명법」 제2조 제2호에 따른 전자서명으로 동의를 얻어 수신확인을 조건으\\n로 전자문서를 송신하여야 합니다. 계약자의 전자문서 수신이 확인되기 전까지는 그 전자문서는 송신되\\n지 않은 것으로 봅니다. 회사는 전자문서가 수신되지 않은 것을 확인한 경우에는 서면(등기우편 등)으로\\n다시 알려드립니다.\\n③ 제1항에 따라 계약을 해지하였을 때에는 제35조(해약환급금) 제1항에 따른 해약환급금을 드리며, 보\\n장을 제한하였을 때에는 보험료, 보험가입금액 등이 조정될 수 있습니다.\\n④ 제14조(계약 전 알릴 의무)의 계약 전 알릴 의무를 위반한 사실이 보험금 지급사유 발생에 영향을 미\\n67\\x00/\\x00249', metadata={'source': '한화생명 The스마트한 일시납종신보험_20240101~.pdf', 'type': '일시납종신보험_20240101~', 'timestamp': 1705029854.649872}),\n",
       " Document(page_content='쳤음을 회사가 증명하지 못한 경우에는 제1항에도 불구하고 계약의 해지 또는 보장을 제한하기 이전까지\\n발생한 해당 보험금을 지급합니다.\\n⑤ 회사는 다른 보험가입내역에 대한 계약 전 알릴 의무 위반을 이유로 계약을 해지하거나 보험금 지급\\n을 거절하지 않습니다.\\n【계약 전 알릴 의무 위반 사례】\\n계약을 청약하면서 보험설계사에게 고혈압이 있다고만 이야기하였을 뿐, 청약서의 계약 전 알릴 사항\\n에 아무런 기재도 하지 않을 경우에는 보험설계사에게 고혈압 병력을 이야기하였다고 하더라도 회사\\n는 계약 전 알릴 의무 위반을 이유로 계약을 해지하고 보험금을 지급하지 않을 수 있습니다.\\n제 16 조 사기에 의한 계약\\n① 계약자 또는 피보험자가 대리진단, 약물사용을 수단으로 진단절차를 통과하거나 진단서 위·변조 또는\\n청약일 이전에 암 또는 인간면역결핍바이러스(HIV) 감염의 진단 확정을 받은 후 이를 숨기고 가입하는\\n등의 뚜렷한 사기의사에 의하여 계약이 성립되었음을 회사가 증명하는 경우에는 보장개시일부터 5년 이\\n내(사기사실을 안 날부터는 1개월 이내)에 계약을 취소할 수 있습니다.\\n② 제1항에 따라 계약이 취소된 경우에는 회사는 계약자에게 이미 납입한 보험료(적립액의 인출이있을\\n경우 이를 차감한 금액)를 돌려 드립니다.\\n제 4 관 보험계약의 성립과 유지\\n제 17 조 보험계약의 성립\\n① 계약은 계약자의 청약(請約)과 회사의 승낙(承諾)으로 이루어집니다.\\n② 계약자는 계약을 청약할 때 다음 중 한 가지를 선택하여 청약하여야 합니다.\\n1. 1종(기본형)\\n2. 2종(소득보장형)\\n3. 3종(소득보장강화형)\\n③ 회사는 피보험자가 계약에 적합하지 않은 경우에는 승낙을 거절하거나 별도의 조건(보험가입금액 제\\n한, 일부보장 제외, 보험금 삭감, 보험료 할증 등)을 붙여 승낙할 수 있습니다.\\n④ 회사는 계약의 청약을 받고, 제1회 보험료를 받은 경우에 건강진단을 받지 않는 계약은 청약일, 진단\\n계약은 진단일(재진단의 경우에는 최종 진단일)부터 30일 이내에 승낙 또는 거절하여야 하며, 승낙한 때\\n에는 보험증권을 드립니다. 그러나 30일 이내에 승낙 또는 거절의 통지가 없으면 승낙된 것으로 봅니다.\\n⑤ 회사가 제1회 보험료를 받고 승낙을 거절한 경우에는 거절통지와 함께 받은 금액을 돌려 드리며, 보\\n험료를 받은 기간에 대하여 평균공시이율+1%를 연단위 복리로 계산한 금액을 더하여 지급합니다. 다만,\\n회사는 계약자가 제1회 보험료를 신용카드로 납입한 계약의 승낙을 거절하는 경우에는 신용카드의 매출\\n을 취소하며 이자를 더하여 지급하지 않습니다.\\n제 18 조 청약의 철회\\n① 계약자는 보험증권을 받은 날부터 15일 이내에 그 청약을 철회(撤回)할 수 있습니다. 다만, 다음 중 한\\n가지에 해당되는 때에는 청약을 철회할 수 없습니다.\\n1. 회사가 건강상태 진단을 지원하는 계약, 보험기간이 90일 이내인 계약 또는 전문금융소비자가 체결\\n한 계약\\n2. 청약을 한 날부터 30일을 초과한 경우. 다만, 청약시점에 만 65세 이상인 계약자가 전화를 이용하\\n여 계약을 체결한 경우 ‘청약을 한 날부터 45일을 초과한 경우’로 합니다.\\n【전문금융소비자】\\n보험계약에 관한 전문성, 자산규모 등에 비추어 보험계약에 따른 위험감수능력이 있는 자로서, 국가,\\n지방자치단체, 한국은행, 금융회사, 주권상장법인 등을 포함하며 「금융소비자 보호에 관한 법률」 제2\\n조(정의) 제9호에서 정하는 전문금융소비자를 말합니다.\\n68\\x00/\\x00249', metadata={'source': '한화생명 The스마트한 일시납종신보험_20240101~.pdf', 'type': '일시납종신보험_20240101~', 'timestamp': 1705029854.892045}),\n",
       " Document(page_content='【일반금융소비자】\\n전문금융소비자가 아닌 계약자를 말합니다.\\n② 청약철회는 계약자가 전화로 신청하거나, 철회의사를 표시하기 위한 서면, 전자우편, 휴대전화 문자메\\n시지 또는 이에 준하는 전자적 의사표시(이하 ‘서면 등’이라 합니다)를 발송한 때 효력이 발생합니다. 계\\n약자는 서면 등을 발송한 때에 그 발송 사실을 회사에 지체없이 알려야 합니다.\\n③ 계약자가 청약을 철회한 때에는 회사는 청약의 철회를 접수한 날부터 3영업일 이내에 납입한 보험료\\n전액을 돌려드리며, 보험료 반환이 늦어진 기간에 대하여는 이 계약의 보험계약대출이율(이하 ‘보험계약\\n대출이율’이라 합니다)을 연단위 복리로 계산한 금액을 더하여 지급합니다. 다만, 계약자가 제1회 보험료\\n를 신용카드로 납입한 계약의 청약을 철회하는 경우에는 회사는 청약의 철회를 접수한 날부터 3영업일\\n이내에 해당 신용카드회사로 하여금 대금청구를 하지 않도록 해야 하며, 이 경우 회사는 보험료를 반환\\n한 것으로 봅니다.\\n④ 청약을 철회할 때에 이미 보험금 지급사유가 발생하였으나 계약자가 그 보험금 지급사유가 발생한 사\\n실을 알지 못한 경우에는 청약철회의 효력은 발생하지 않습니다.\\n⑤ 제1항에서 보험증권을 받은 날에 대한 다툼이 발생한 경우 회사가 이를 증명하여야 합니다.\\n제 19 조 약관교부 및 설명의무 등\\n① 회사는 계약자가 청약할 때에 계약자에게 약관의 중요한 내용을 설명하여야 하며, 청약 후에 다음 각\\n호의 방법 중 계약자가 원하는 방법을 확인하여 지체 없이 약관 및 계약자 보관용 청약서를 제공하여 드\\n립니다. 만약, 회사가 전자우편 및 전자적 의사표시로 제공한 경우 계약자 또는 그 대리인이 약관 및 계\\n약자 보관용 청약서 등을 수신하였을 때에는 해당 문서를 드린 것으로 봅니다.\\n1. 서면교부\\n2. 우편 또는 전자우편\\n3. 휴대전화 문자메시지 또는 이에 준하는 전자적 의사표시\\n② 제1항과 관련하여 통신판매계약의 경우, 회사는 계약자가 가입한 특약만 포함한 약관을 드리며, 전화\\n를 이용하여 체결하는 계약은 계약자의 동의를 얻어 청약내용, 보험료납입, 보험기간, 계약 전 알릴 의무,\\n약관의 중요한 내용 등 계약을 체결하는 데 필요한 사항을 질문 또는 설명하는 방법으로 약관의 중요한\\n내용을 설명할 수 있습니다. 이 경우 계약자의 답변과 확인내용을 음성 녹음함으로써 약관의 중요한 내\\n용을 설명한 것으로 봅니다.\\n【통신판매계약】\\n전화\\uf09e우편\\uf09e인터넷 등 통신수단을 이용하여 체결하는 계약을 말합니다.\\n③ 회사가 제1항에 따라 제공될 약관 및 계약자 보관용 청약서를 청약할 때 계약자에게 전달하지 않거나\\n약관의 중요한 내용을 설명하지 않은 때 또는 계약을 체결할 때 계약자가 청약서에 자필서명(날인(도장\\n을 찍음) 및 「전자서명법」 제2조 제2호에 따른 전자서명을 포함합니다)을 하지 않은 때에는 계약자는 계\\n약이 성립한 날부터 3개월 이내에 계약을 취소할 수 있습니다.\\n④ 제3항에도 불구하고 전화를 이용하여 계약을 체결하는 경우 다음의 각 호의 어느 하나를 충족하는 때\\n에는 자필서명을 생략할 수 있으며, 위 제2항의 규정에 따른 음성녹음 내용을 문서화한 확인서를 계약자\\n에게 드림으로써 계약자 보관용 청약서를 전달한 것으로 봅니다.\\n1. 계약자, 피보험자 및 보험수익자가 동일한 계약의 경우\\n2. 계약자, 피보험자가 동일하고 보험수익자가 계약자의 법정상속인인 계약일 경우\\n【법정상속인】\\n피상속인의 사망으로 인하여 민법의 규정에 의한 상속순서에 따라 상속받는 자\\n⑤ 제3항에 따라 계약이 취소된 경우에는 회사는 계약자에게 이미 납입한 보험료(적립액의 인출이 있을\\n경우 이를 차감한 금액)를 돌려 드리며, 보험료를 받은 기간에 대하여 보험계약대출이율을 연단위 복리로\\n계산한 금액을 더하여 지급합니다.\\n69\\x00/\\x00249', metadata={'source': '한화생명 The스마트한 일시납종신보험_20240101~.pdf', 'type': '일시납종신보험_20240101~', 'timestamp': 1705029855.1450784}),\n",
       " Document(page_content='제 20 조 계약의 무효\\n① 다음 중 한 가지에 해당되는 경우에는 계약을 무효로 하며 계약자에게 이미 납입한 보험료(적립액의\\n인출이 있을 경우 이를 차감한 금액)를 돌려드립니다.\\n1. 타인의 사망을 보험금 지급사유로 하는 계약에서 계약을 체결할 때까지 피보험자의 서면(「전자서\\n명법」 제2조 제2호에 따른 전자서명이 있는 경우로서 상법 시행령 제44조의2에 정하는 바에 따라\\n본인 확인 및 위조·변조 방지에 대한 신뢰성을 갖춘 전자문서를 포함)에 의한 동의를 얻지 않은 경\\n우\\n다만, 단체가 규약에 따라 구성원의 전부 또는 일부를 피보험자로 하는 계약을 체결하는 경우에는\\n이를 적용하지 않습니다. 이때 단체보험의 보험수익자를 피보험자 또는 그 상속인이 아닌 자로 지\\n정할 때에는 단체의 규약에서 명시적으로 정한 경우가 아니면 이를 적용합니다.\\n2. 만 15세 미만자, 심신상실자(心神喪失者) 또는 심신박약자(心神薄弱者)를 피보험자로 하여 사망을\\n보험금 지급사유로 한 계약의 경우.\\n다만, 심신박약자(心神薄弱者)가 계약을 체결하거나 소속 단체의 규약에 따라 단체보험의 피보험자\\n가 될 때에 의사능력이 있는 경우에는 계약이 유효합니다.\\n3. 계약을 체결할 때 계약에서 정한 피보험자의 나이에 미달되었거나 초과되었을 경우. 다만, 회사가\\n나이의 착오를 발견하였을 때 이미 계약나이에 도달한 경우에는 유효한 계약으로 보나, 제2호의\\n만15세 미만자에 관한 예외가 인정되는 것은 아닙니다.\\n【심신상실자, 심신박약자】\\n정신병, 정신박약, 심한 의식장애 등의 심신장애로 인하여 사물을 변별할 능력 또는 의사를 결정할 능\\n력이 없거나 부족한 자\\n② 제1항에도 불구하고 다음 각 호의 어느 하나에 해당하는 경우에는 계약자가 보험료를 납입한 날의 다\\n음 날부터 반환일까지의 기간에 대하여 회사는 이 계약의 보험계약대출이율을 연단위 복리로 계산한 금\\n액을 더하여 돌려드립니다.\\n1. 회사의 고의 또는 과실로 계약이 무효로 된 경우\\n2. 회사가 승낙 전에 무효임을 알았거나 알 수 있었음에도 보험료를 반환하지 않은 경우\\n제 21 조 계약내용의 변경 등\\n① 계약자는 회사의 승낙을 얻어 다음의 사항을 변경할 수 있습니다. 이 경우 승낙을 서면으로 알리거나\\n보험증권의 뒷면에 기재하여 드립니다.\\n1. 보험료의 납입방법\\n2. 보험가입금액\\n3. 계약자\\n4. 기타 계약의 내용\\n② 계약자는 보험수익자를 변경할 수 있으며 이 경우에는 회사의 승낙이 필요하지 않습니다. 다만, 변경\\n된 보험수익자가 회사에 권리를 대항하기 위해서는 계약자가 보험수익자가 변경되었음을 회사에 통지하\\n여야 합니다.\\n【설명】\\n계약자가 회사에 보험수익자가 변경되었음을 통지하기 전에 보험금 지급사유가 발생한 경우 회사는\\n변경 전 보험수익자에게 보험금을 지급할 수 있습니다. 회사가 계약자로부터 보험수익자 변경에 관한\\n통지를 받지 못하여 변경 전 보험수익자에게 해당 보험금을 지급한 경우 회사는 변경된 보험수익자에\\n게 해당 보험금을 다시 지급할 책임을 부담하지 않습니다.\\n③ 회사는 계약자가 제1항 제2호에 따라 보험가입금액을 감액하고자 할 때에는 추가납입보험료도 동일한\\n비율로 감액합니다.\\n④ 회사는 계약자가 제1항 제2호에 따라 보험가입금액을 감액하고자 할 때 감액된 부분은 감액신청시 해\\n지된 것으로 보며, 이로써 회사가 지급하여야 할 해약환급금이 있을 때에는 제35조(해약환급금) 제1항에\\n따른 해약환급금을 계약자에게 지급합니다. 다만, 보험가입금액 등의 감액시 해약환급금은 최초가입시 안\\n70\\x00/\\x00249', metadata={'source': '한화생명 The스마트한 일시납종신보험_20240101~.pdf', 'type': '일시납종신보험_20240101~', 'timestamp': 1705029855.3867261}),\n",
       " Document(page_content='내한 금액보다 감소할 수 있습니다.\\n⑤ 제4항에 따라 계약자가 보험가입금액을 감액 신청한 경우 ‘적립액의 인출금액’, 사망보험금 계산시 적\\n용하는 ‘이미 납입한 보험료’ 및 ‘기준사망보험금’은 다음과 같습니다.\\n1. 감액신청 직후 ‘적립액의 인출금액’=\\n감액신청 직전 ‘적립액의 인출금액’ ×(감액신청 직후 보험가입금액/감액신청 직전 보험가입금액)\\n2. 감액신청 직후의 ‘이미 납입한 보험료’=\\n감액신청 직전 ‘이미 납입한 보험료’ × (감액신청 직후 보험가입금액/감액신청 직전 보험가입금액)\\n3. 감액신청 직후의 ‘기준사망보험금’=\\n감액신청 직전 ‘기준사망보험금’ × (감액신청 직후 보험가입금액/감액신청 직전 보험가입금액)\\n⑥ 계약자가 제2항에 따라 보험수익자를 변경하고자 할 경우에는 보험금의 지급사유가 발생하기 전에 피\\n보험자가 서면으로 동의하여야 합니다.\\n⑦ 회사는 제1항 제3호에 따라 계약자를 변경한 경우, 변경된 계약자에게 보험증권 및 약관을 교부하고\\n변경된 계약자가 요청하는 경우 약관의 중요한 내용을 설명하여 드립니다.\\n제 22 조 보험나이\\n① 이 약관에서의 피보험자의 나이는 보험나이를 기준으로 합니다. 다만, 제20조(계약의 무효) 제1항 제2\\n호의 경우에는 실제 만나이를 적용합니다.\\n② 제1항의 보험나이는 계약일 현재 피보험자의 실제 만나이를 기준으로 6개월 미만의 끝수는 버리고 6\\n개월 이상의 끝수는 1년으로 하여 계산하며, 이후 매년 계약 해당일에 나이가 증가하는 것으로 합니다.\\n【 매년 계약 해당일 】\\n제2차년도 이후 매년의 계약일과 동일한 월, 일.\\n다만, 해당 월에 동일한 일이 없는 경우에는 해당 월의 말일\\n③ 청약서류상 피보험자의 나이 또는 성별에 관한 기재사항이 신분증에 기재된 사실과 다른 경우에는 신\\n분증에 기재된 나이 또는 성별로 정정하고, 정정된 나이 또는 성별에 해당하는 보험금 및 보험료로 변경\\n합니다.\\n【보험나이 계산 예시】\\n생년월일 : 1988년 10월 2일, 현재(계약일) : 2018년 4월 13일\\n⇒ 2018년 4월 13일 - 1988년 10월 2일 = 29년 6월 11일 = 30세\\n제 23 조 보험기간의 구분\\n이 계약의 보험기간은 2종(소득보장형) 및 3종(소득보장강화형)에 한하여 아래와 같이 구분됩니다.\\n1. 은퇴전 보험기간\\n제25조(제1회 보험료 및 회사의 보장개시) 제1항에서 정한 보장개시일부터 피보험자 65세 계약해\\n당일 전일까지\\n2. 은퇴후 보험기간\\n피보험자 65세 계약 해당일부터 종신까지\\n제 24 조 계약의 소멸\\n피보험자에게 보험기간 중 제4조(보험금의 지급사유)에서 정한 사망보험금의 지급사유가 발생한 경우에\\n는 이 계약은 그때부터 효력이 없습니다.\\n제 5 관 보험료의 납입\\n제 25 조 제1회 보험료 및 회사의 보장개시\\n① 회사는 계약의 청약을 승낙하고 제1회 보험료를 받은 때부터 이 약관이 정한 바에 따라 보장을 합니\\n다. 또한, 회사가 청약과 함께 제1회 보험료를 받은 후 승낙한 경우에도 제1회 보험료를 받은 때부터 보\\n71\\x00/\\x00249', metadata={'source': '한화생명 The스마트한 일시납종신보험_20240101~.pdf', 'type': '일시납종신보험_20240101~', 'timestamp': 1705029855.6024675}),\n",
       " Document(page_content='장이 개시됩니다. 자동이체 또는 신용카드로 납입하는 경우에는 자동이체신청 또는 신용카드매출승인에\\n필요한 정보를 제공한 때를 제1회 보험료를 받은 때로 하며, 계약자의 책임 있는 사유로 자동이체 또는\\n매출승인이 불가능한 경우에는 보험료가 납입되지 않은 것으로 봅니다.\\n② 회사가 청약과 함께 제1회 보험료를 받고 청약을 승낙하기 전에 보험금 지급사유가 발생하였을 때에\\n도 보장개시일부터 이 약관이 정하는 바에 따라 보장을 합니다.\\n【보장개시일】\\n회사가 보장을 개시하는 날로서 계약이 성립되고 제1회 보험료를 받은 날을 말하나, 회사가 승낙하기\\n전이라도 청약과 함께 제1회 보험료를 받은 경우에는 제1회 보험료를 받은 날을 말합니다. 또한, 보장\\n개시일을 계약일로 봅니다.\\n③ 회사는 제2항에도 불구하고 다음 중 한 가지에 해당되는 경우에는 보장을 하지 않습니다.\\n1. 제14조(계약 전 알릴 의무)에 따라 계약자 또는 피보험자가 회사에 알린 내용 또는 건강진단 내용\\n이 보험금 지급사유의 발생에 영향을 미쳤음을 회사가 증명하는 경우\\n2. 제15조(계약 전 알릴 의무 위반의 효과)를 준용하여 회사가 보장을 하지 않을 수 있는 경우\\n3. 진단계약에서 보험금 지급사유가 발생할 때까지 진단을 받지 않은 경우\\n다만, 진단계약에서 진단을 받지 않은 경우라도 재해로 보험금 지급사유가 발생하는 경우에는 보장\\n을 해드립니다.\\n④ 청약서에 피보험자의 직업 또는 직종별로 보험가입금액의 한도액이 명시되어 있음에도 그 한도액을\\n초과하여 청약을 하고 청약을 승낙하기 전에 보험금 지급사유가 발생한 경우에는 그 초과 청약액에 대하\\n여는 보장을 하지 않습니다. 다만, 회사는 그 한도액을 초과하여 청약된 부분에 대한 보험료를 돌려 드립\\n니다.\\n제 26 조 제2회 이후 보험료의 납입\\n① 계약자는 제2회 이후의 보험료를 계약의 성립 후부터 보험료의 납입한도 내에서 보험기간 중 자유롭\\n게 납입할 수 있습니다.\\n② 회사는 계약자가 보험료를 납입한 경우에는 영수증을 발행하여 드립니다. 다만, 금융회사(우체국 포함)\\n를 통하여 보험료를 납입한 경우에는 그 금융회사 발행 증빙서류를 영수증으로 대신합니다.\\n③ 제1항에도 불구하고 계약자는 회사에 납입된 총 납입보험료가 제2조(용어의 정의) 제5호 ‘다’에서 정\\n한 보험료 납입한도에 도달한 경우에는 더 이상 보험료를 납입할 수 없습니다.\\n제 27 조 월대체보험료의 공제\\n매월 월계약해당일에 해약환급금(보험계약대출의 원금과 이자를 차감한 금액 기준, 특약의 해약환급금은\\n제외)에서 월대체보험료를 공제합니다.\\n제 28 조 보험료의 납입이 연체되는 경우 납입최고(독촉)와 계약의 해지\\n① 적립액의 인출 등의 사유로 해약환급금(보험계약대출의 원금과 이자를 차감한 금액기준, 특약의 해약\\n환급금은 제외)에서 월대체보험료를 공제할 수 없게 된 경우에는 14일(보험기간이 1년 미만인 경우에는\\n7일) 이상의 기간을 납입최고(독촉)기간(납입최고(독촉)기간의 마지막 날이 영업일이 아닌 때에는 최고(독\\n촉)기간은 그 다음 날까지로 합니다)으로 정합니다.\\n② 회사는 아래 사항에 대하여 계약자에게 서면(등기우편 등), 전화(음성녹음) 또는 전자문서 등으로 알려\\n드립니다. 다만, 해지 전에 발생한 보험금 지급사유에 대하여 회사는 보상하여 드립니다.\\n1. 계약자(보험수익자와 계약자가 다른 경우 보험수익자를 포함합니다)에게 납입최고(독촉)기간 내에\\n연체보험료를 납입하여야 한다는 내용\\n2. 납입최고(독촉)기간이 끝나는 날까지 보험료를 납입하지 않을 경우 납입최고(독촉)기간이 끝나는\\n날의 다음 날에 계약이 해지된다는 내용(이 경우 계약이 해지되는 때에는 즉시 해약환급금에서 보\\n험계약대출원금과 이자가 차감된다는 내용을 포함합니다)\\n③ 회사가 제1항 내지 제2항에 따른 납입최고(독촉) 등을 전자문서로 안내하고자 할 경우에는 계약자에\\n72\\x00/\\x00249', metadata={'source': '한화생명 The스마트한 일시납종신보험_20240101~.pdf', 'type': '일시납종신보험_20240101~', 'timestamp': 1705029855.8635387}),\n",
       " Document(page_content='게 서면 또는 「전자서명법」 제2조 제2호에 따른 전자서명으로 동의를 얻어 수신확인을 조건으로 전자문\\n서를 송신하여야 하며, 계약자가 전자문서에 대하여 수신을 확인하기 전까지는 그 전자문서는 송신되지\\n않은 것으로 봅니다. 회사는 전자문서가 수신되지 않은 것을 확인한 경우에는 제1항 내지 제2항에서 정\\n한 내용을 서면(등기우편 등) 또는 전화(음성녹음)로 다시 알려드립니다.\\n④ 제1항 내지 제2항에 따라 계약이 해지된 경우에는 제35조(해약환급금) 제1항에 따른 해약환급금을 계\\n약자에게 지급합니다.\\n⑤ 제4항에도 불구하고, 최저사망보험금 보증기간동안 최저사망보험금을 보장하며, 보험금 지급과 관련된\\n사항은 해지 전 약관에서 정한 사항을 준용합니다. 최저사망보험금 보증기간 동안에는 추가납입보험료를\\n납입할 수 없으며, 최저사망보험금 보증기간이 끝나는 날의 다음 날 이 계약은 더 이상 효력이 없습니다.\\n제 29 조 보험료의 납입연체로 인하여 해지된 계약의 부활(효력회복)\\n① 제28조(보험료의 납입이 연체되는 경우 납입최고(독촉)와 계약의 해지)에 따라 계약이 해지되었으나\\n해약환급금을 받지 않은 경우(보험계약대출 등에 따라 해약환급금이 차감되었으나 받지 않은 경우 또는\\n해약환급금이 없는 경우를 포함합니다) 계약자는 해지된 날부터 3년 이내에 회사가 정한 절차에 따라 계\\n약의 부활(효력회복)을 청약할 수 있습니다. 회사가 부활(효력회복)을 승낙한 때에 계약자는 부활(효력회\\n복)을 청약한 날까지의 연체된 월대체보험료 이상의 금액에 연체된 기간 동안의 이 계약의 공시이율로\\n계산한 금액을 더하여 납입하여야 합니다.\\n【부활(효력회복)】\\n보험료 납입연체로 계약이 해지되었으나 해약환급금을 받지 않는 경우에 회사가 정하는 소정의 절차\\n에 따라 해지된 계약을 다시 되살리는 것\\n② 제1항의 경우 회사는 미납된 월대체보험료를 공제하며, 기본보험금액은 계약이 해지된 시점의 기본보\\n험금액을 기준으로 합니다.\\n③ 제2항에 따라 해지계약을 부활(효력회복)하는 경우에는 제14조(계약 전 알릴 의무), 제15조(계약 전 알\\n릴 의무 위반의 효과), 제16조(사기에 의한 계약), 제17조(보험계약의 성립) 제3항 및 제4항, 제25조(제1회\\n보험료 및 회사의 보장개시)를 준용합니다.\\n④ 제1항에서 정한 계약의 부활이 이루어진 경우라도 계약자 또는 피보험자가 최초계약을 청약할 때 제\\n14조(계약 전 알릴 의무)를 위반한 경우에는 제15조(계약 전 알릴 의무 위반의 효과)가 적용됩니다.\\n제 30 조 강제집행 등으로 인하여 해지된 계약의 특별부활(효력회복)\\n① 회사는 계약자의 해약환급금 청구권에 대한 강제집행, 담보권실행, 국세 및 지방세 체납처분절차에 따\\n라 계약이 해지된 경우 해지 당시의 보험수익자가 계약자의 동의를 얻어 계약 해지로 회사가 채권자에게\\n지급한 금액을 회사에 지급하고 제21조(계약내용의 변경 등) 제1항의 절차에 따라 계약자 명의를 보험수\\n익자로 변경하여 계약의 특별부활(효력회복)을 청약할 수 있음을 보험수익자에게 통지하여야 합니다.\\n② 회사는 제1항에 따른 계약자 명의변경 신청 및 계약의 특별부활(효력회복) 청약을 승낙합니다.\\n③ 회사는 제1항의 통지를 지정된 보험수익자에게 하여야 합니다. 다만, 회사는 법정상속인이 보험수익자\\n로 지정된 경우에는 제1항의 통지를 계약자에게 할 수 있습니다.\\n④ 회사는 제1항의 통지를 계약이 해지된 날부터 7일 이내에 하여야 합니다.\\n⑤ 보험수익자는 통지를 받은 날(제3항에 따라 계약자에게 통지된 경우에는 계약자가 통지를 받은 날을\\n말합니다)부터 15일 이내에 제1항의 절차를 이행할 수 있습니다.\\n제 6 관 계약의 해지 및 해약환급금 등\\n제 31 조 ‘계약자의 임의해지’ 및 ‘피보험자의 서면동의 철회권’\\n① 계약자는 계약이 소멸하기 전에 언제든지 계약을 해지할 수 있으며, 이 경우 회사는 제35조(해약환급\\n금) 제1항에 따른 해약환급금을 계약자에게 지급합니다.\\n② 제20조(계약의 무효)에 따라 사망을 보험금 지급사유로 하는 계약에서 서면으로 동의를 한 피보험자\\n73\\x00/\\x00249', metadata={'source': '한화생명 The스마트한 일시납종신보험_20240101~.pdf', 'type': '일시납종신보험_20240101~', 'timestamp': 1705029856.1434567}),\n",
       " Document(page_content='는 계약의 효력이 유지되는 기간에는 언제든지 서면동의를 장래에 향하여 철회할 수 있으며, 서면동의\\n철회로 계약이 해지되어 회사가 지급하여야 할 해약환급금이 있을 때에는 제35조(해약환급금) 제1항에\\n따른 해약환급금을 계약자에게 지급합니다.\\n제 31 조의 2 위법계약의 해지\\n① 계약자는 「금융소비자 보호에 관한 법률」 제47조 및 관련규정이 정하는 바에 따라 계약체결에 대한\\n회사의 법위반사항이 있는 경우 계약체결일부터 5년 이내의 범위에서 계약자가 위반사항을 안 날부터 1\\n년 이내에 계약해지요구서에 증빙서류를 첨부하여 위법계약의 해지를 요구할 수 있습니다.\\n② 회사는 해지요구를 받은 날부터 10일 이내에 수락여부를 계약자에 통지하여야 하며, 거절할 때에는\\n거절 사유를 함께 통지하여야 합니다.\\n③ 계약자는 회사가 정당한 사유 없이 제1항의 요구를 따르지 않는 경우 해당 계약을 해지할 수 있습니\\n다.\\n④ 제1항 및 제3항에 따라 계약이 해지된 경우 회사는 제35조(해약환급금) 제5항에 따른 해약환급금을\\n계약자에게 지급합니다.\\n⑤ 계약자는 제1항에 따른 제척기간에도 불구하고 민법 등 관계 법령에서 정하는 바에 따라 법률상의 권\\n리를 행사할 수 있습니다.\\n제 32 조 중대사유로 인한 해지\\n① 회사는 아래와 같은 사실이 있을 경우에는 그 사실을 안 날부터 1개월 이내에 계약을 해지할 수 있습\\n니다.\\n1. 계약자, 피보험자 또는 보험수익자가 보험금을 지급받을 목적으로 고의로 보험금 지급사유를 발생\\n시킨 경우\\n2. 계약자, 피보험자 또는 보험수익자가 보험금 청구에 관한 서류에 고의로 사실과 다른 것을 기재하\\n였거나 그 서류 또는 증거를 위조 또는 변조한 경우. 다만, 이미 보험금 지급사유가 발생한 경우에\\n는 보험금 지급에 영향을 미치지 않습니다.\\n【예시】\\n예를 들어, 입원을 보장하는 보험상품에 가입한 피보험자가 10일간 입원하였음에도 불구하고 입원확\\n인서를 변조하여 입원일수 30일에 해당하는 보험금을 청구한 경우, 회사는 그 사실을 안 날부터 1개\\n월 이내에 계약을 해지할 수 있습니다. 다만, 이 경우에도 입원일수 10일을 기준으로 계산한 보험금\\n은 지급합니다.\\n② 회사가 제1항에 따라 계약을 해지한 경우 회사는 그 취지를 계약자에게 통지하고 제35조(해약환급금)\\n제1항에 따른 해약환급금을 지급합니다.\\n제 33 조 회사의 파산선고와 해지\\n① 회사가 파산의 선고를 받은 때에는 계약자는 계약을 해지할 수 있습니다.\\n② 제1항의 규정에 따라 해지하지 않은 계약은 파산선고 후 3개월이 지난 때에는 그 효력을 잃습니다.\\n③ 제1항의 규정에 따라 계약이 해지되거나 제2항의 규정에 따라 계약이 효력을 잃는 경우에 회사는 제\\n35조(해약환급금) 제1항에 따른 해약환급금을 계약자에게 드립니다.\\n제 34 조 공시이율의 적용 및 공시\\n① 이 계약에 적용되는 공시이율은 매월 1일 회사가 정하며 한달간 적용됩니다.\\n② 공시이율의 최저보증이율은 계약일로부터 3년 이내에는 연복리 1.0%, 3년 초과 5년 이내에는 연복리\\n0.75%, 5년 초과시 연복리 0.5%를 적용합니다.\\n③ 제1항의 공시이율은 이 보험의 사업방법서에서 정하는 바에 따라 운용자산이익률과 객관적인 외부지\\n표금리를 가중평균하여 산출된 공시기준이율에서 향후 예상수익 등을 고려한 조정률을 가감하여 결정합\\n니다.\\n74\\x00/\\x00249', metadata={'source': '한화생명 The스마트한 일시납종신보험_20240101~.pdf', 'type': '일시납종신보험_20240101~', 'timestamp': 1705029856.5973246}),\n",
       " Document(page_content='④ 회사는 제1항 내지 제3항에서 정한 공시이율 및 산출방법 등을 매월 회사의 인터넷 홈페이지 등을 통\\n해 공시합니다.\\n【공시이율】\\n회사가 장래 보험금 지급을 위하여 납입보험료의 일정 부분을 적립해 가는데, 이때 적용하는 이율을\\n의미합니다. 이 보험의 공시이율은 회사의 운용자산이익률, 객관적인 외부지표금리(국고채 수익률 등\\n시중금리) 및 향후 운용수익률 예측분을 혼합하여 일정기간마다 산출하여 공시하고 있습니다.\\n【최저보증이율】\\n운용자산이익률 및 시중금리가 하락되더라도 회사에서 보증하는 최저한도의 적용이율을 말합니다.\\n예를 들어, 공시이율을 적용하여 적립하는 금액은 공시이율이 0.25%인 경우, 공시이율(0.25%)이 아닌\\n최저보증이율(계약일로부터 3년 이내에는 연복리 1.0%, 3년 초과 5년 이내에는 연복리 0.75%, 5년 초\\n과시 연복리 0.5%)로 적립됩니다.\\n제 35 조 해약환급금\\n① 이 약관에 따른 해약환급금은 산출방법서에 따라 계산합니다.\\n② 해약환급금 계산시 적용되는 공시이율은 제34조(공시이율의 적용 및 공시)에서 정한 이율로 합니다.\\n③ 해약환급금의 지급사유가 발생한 경우 계약자는 회사에 해약환급금을 청구하여야 하며, 회사는 청구\\n를 접수한 날부터 3영업일 이내에 해약환급금을 지급합니다. 해약환급금 지급일까지의 기간에 대한 이자\\n의 계산은 ‘보험금을 지급할 때의 적립이율 계산’(별표 2 참조)에 따릅니다.\\n④ 회사는 경과기간별 해약환급금에 관한 표를 계약자에게 제공하여 드립니다.\\n⑤ 제31조의2(위법계약의 해지)에 따라 위법계약이 해지되는 경우 회사가 적립한 해지 당시의 계약자적\\n립액(적립액)을 반환하여 드립니다.\\n제 36 조 적립액의 인출\\n① 계약자는 계약일로부터 1개월 경과 이후부터 보험기간 중에 회사가 정한 기준에 따라 보험년도 기준\\n연12회까지 적립액을 인출할 수 있으며, 1회당 인출가능금액은 다음과 같습니다.\\n-해약환급금(보험계약대출의 원금과 이자를 차감한 금액 기준, 특약의 해약환급금은 제외)의 50% 범위\\n내\\n【보험년도】\\n보험계약일로부터 다음연도 보험계약일 전일까지 매1년 단위의 연도. 예를 들어, 보험계약일이 2014\\n년 7월 15일인 경우 보험년도는 7월 15일부터 다음연도 7월 14일까지 1년\\n② 인출금액은 10만원 이상에 한하여 가능하며, 총 인출금액은 계약자가 실제 납입한 보험료 총액(추가납\\n입보험료를 포함하며 특약보험료는 제외)을 초과할 수 없습니다.\\n③ 제2항에도 불구하고 2종(소득보장형)에서 은퇴전 보험기간의 경우 각 인출시점까지의 인출금액 총합\\n계는 보험가입금액의 50%를 초과할 수 없습니다.\\n④ 제2항에도 불구하고 3종(소득보장강화형)에서 은퇴전 보험기간의 경우 각 인출시점까지의 인출금액\\n총합계는 보험가입금액의 20%를 초과할 수 없습니다.\\n⑤ 인출시 수수료는 인출금액의 0.2%이내(2,000원 한도)로 합니다. 다만, 보험년도 기준 연 4회에 한해서\\n인출 수수료를 면제하여 드립니다.\\n⑥ 적립액의 인출은 추가납입보험료에 의한 적립액에서 우선적으로 가능하며, 추가납입보험료에 의한 적\\n립액이 부족한 경우에 한하여 기본보험료에 의한 적립액에서 인출이 가능합니다.\\n⑦ 제1항에 따라 적립액의 일부를 인출하기 위해서는 인출후 계약자적립액(적립액)이 보험가입금액의 10%\\n미만이 되지 않아야 합니다.\\n⑧ 적립액의 일부를 중도에 인출하는 경우 해약환급금은 적립액의 인출금액과 이자가 차감되므로 최초\\n가입시 안내한 금액보다 적어질 수 있습니다.\\n【적립액 인출 예시】\\n75\\x00/\\x00249', metadata={'source': '한화생명 The스마트한 일시납종신보험_20240101~.pdf', 'type': '일시납종신보험_20240101~', 'timestamp': 1705029856.8391213}),\n",
       " Document(page_content='예) 주계약 적립액 및 해약환급금 1,000만원, 납입한 기본보험료 및 추가납입보험료 총액이 400만원일\\n경우\\n⇒ 1,000만원의 50%는 500만원이나, 납입한 보험료 총액 한도에 따라 400만원까지 인출 가능\\n※ 다만, 인출금액에서 적립액의 인출 수수료가 차감됩니다.\\n제 37 조 보험계약대출\\n① 계약자는 이 계약의 해약환급금 범위 내에서 회사가 정한 방법에 따라 대출(이하 ‘보험계약대출’이라\\n합니다)을 받을 수 있습니다. 그러나 순수보장성보험 등 보험상품의 종류에 따라 보험계약대출이 제한될\\n수도 있습니다.\\n② 계약자는 제1항에 따른 보험계약대출금과 보험계약대출이자를 언제든지 상환할 수 있으며 상환하지\\n않은 때에는 회사는 보험금, 해약환급금 등의 지급사유가 발생한 날에 지급금에서 보험계약대출의 원금\\n과 이자를 차감할 수 있습니다.\\n③ 회사는 제28조(보험료의 납입이 연체되는 경우 납입최고(독촉)와 계약의 해지)에 따라 계약이 해지되\\n는 때에는 즉시 해약환급금에서 보험계약대출의 원금과 이자를 차감합니다.\\n④ 회사는 보험수익자에게 보험계약대출 사실을 통지할 수 있습니다.\\n제 38 조 배당금의 지급\\n이 계약은 무배당보험이므로 계약자 배당금이 없습니다.\\n제 7 관 분쟁의 조정 등\\n제 39 조 분쟁의 조정\\n① 계약에 관하여 분쟁이 있는 경우 분쟁 당사자 또는 기타 이해관계인과 회사는 금융감독원장에게 조정\\n을 신청할 수 있으며, 분쟁조정 과정에서 계약자는 관계 법령이 정하는 바에 따라 회사가 기록 및 유지･\\n관리하는 자료의 열람(사본의 제공 또는 청취를 포함합니다)을 요구할 수 있습니다.\\n② 회사는 일반금융소비자인 계약자가 조정을 통하여 주장하는 권리나 이익의 가액이 「금융소비자 보호\\n에 관한 법률」 제42조에서 정하는 일정 금액 이내인 분쟁사건에 대하여 조정절차가 개시된 경우에는 관\\n계 법령이 정하는 경우를 제외하고는 소를 제기하지 않습니다.\\n제 40 조 관할법원\\n이 계약에 관한 소송 및 민사조정은 계약자의 주소지를 관할하는 법원으로 합니다. 다만, 회사와 계약자\\n가 합의하여 관할법원을 달리 정할 수 있습니다.\\n제 41 조 소멸시효\\n① 보험금 청구권, 보험료 반환청구권, 해약환급금청구권 및 계약자적립액 반환청구권은 3년간 행사하지\\n않으면 소멸시효가 완성됩니다.\\n② 제1항의 소멸시효는 해당 청구권을 행사할 수 있는 때로부터 진행합니다.\\n【소멸시효】\\n예를들어, 제4조(보험금의 지급사유)에 따른 보험금 지급사유가 2016년 4월 1일에 발생하였음에도 보\\n험수익자가 2019년 4월 1일까지 보험금을 청구하지 않은 경우 해당 보험금에 대한 3년의 소멸시효가\\n완성되어 보험수익자는 해당 보험금 등을 지급받지 못합니다.\\n제 42 조 약관의 해석\\n① 회사는 신의성실의 원칙에 따라 공정하게 약관을 해석하여야 하며 계약자에 따라 다르게 해석하지 않\\n습니다.\\n② 회사는 약관의 뜻이 명백하지 않은 경우에는 계약자에게 유리하게 해석합니다.\\n76\\x00/\\x00249', metadata={'source': '한화생명 The스마트한 일시납종신보험_20240101~.pdf', 'type': '일시납종신보험_20240101~', 'timestamp': 1705029857.0508783}),\n",
       " Document(page_content='③ 회사는 보험금을 지급하지 않는 사유 등 계약자나 피보험자에게 불리하거나 부담을 주는 내용은 확대\\n하여 해석하지 않습니다.\\n제 43 조 설명서 교부 및 보험안내자료 등의 효력\\n① 회사는 일반금융소비자에게 청약을 권유하거나 일반금융소비자가 설명을 요청하는 경우 보험상품에\\n관한 중요한 사항을 계약자가 이해할 수 있도록 설명하고 계약자가 이해하였음을 서명(「전자서명법」 제2\\n조 제2호에 따른 전자서명을 포함), 기명날인 또는 녹취 등을 통해 확인받아야 하며, 설명서를 제공하여\\n야 합니다.\\n② 설명서, 약관, 계약자 보관용 청약서 및 보험증권의 제공 사실에 관하여 계약자와 회사간에 다툼이 있\\n는 경우에는 회사가 이를 증명하여야 합니다.\\n③ 보험설계사 등이 모집과정에서 사용한 회사 제작의 보험안내자료(계약의 청약을 권유하기 위해 만든\\n자료 등을 말합니다) 내용이 이 약관의 내용과 다른 경우에는 계약자에게 유리한 내용으로 계약이 성립\\n된 것으로 봅니다.\\n제 44 조 회사의 손해배상책임\\n① 회사는 계약과 관련하여 임직원, 보험설계사 및 대리점의 책임 있는 사유로 계약자, 피보험자 및 보험\\n수익자에게 발생된 손해에 대하여 관계 법령 등에 따라 손해배상의 책임을 집니다.\\n② 회사는 보험금 지급거절 및 지연지급의 사유가 없음을 알았거나 알 수 있었는데도 소를 제기하여 계\\n약자, 피보험자 또는 보험수익자에게 손해를 가한 경우에는 그에 따른 손해를 배상할 책임을 집니다.\\n③ 회사가 보험금 지급여부 및 지급금액에 관하여 현저하게 공정을 잃은 합의로 보험수익자에게 손해를\\n가한 경우에도 회사는 제2항에 따라 손해를 배상할 책임을 집니다.\\n【 현저하게 공정을 잃은 합의 】\\n회사가 보험수익자의 경제적·신체적·정신적인 어려움, 경솔함, 경험 부족 등을 이용하여 동일·유사 사\\n례에 비추어 보험수익자에게 매우 불합리하게 합의를 하는 것을 의미합니다.\\n제 45 조 개인정보보호\\n① 회사는 이 계약과 관련된 개인정보를 이 계약의 체결, 유지, 보험금 지급 등을 위하여「개인정보 보호\\n법」, 「신용정보의 이용 및 보호에 관한 법률」등 관계 법령에 정한 경우를 제외하고 계약자, 피보험자 또\\n는 보험수익자의 동의없이 수집, 이용, 조회 또는 제공하지 않습니다. 다만, 회사는 이 계약의 체결, 유지,\\n보험금 지급 등을 위하여 위 관계 법령에 따라 계약자 및 피보험자의 동의를 받아 다른 보험회사 및 보\\n험관련단체 등에 개인정보를 제공할 수 있습니다.\\n② 회사는 계약과 관련된 개인정보를 안전하게 관리하여야 합니다.\\n제 46 조 준거법\\n이 계약은 대한민국 법에 따라 규율되고 해석되며, 약관에서 정하지 않은 사항은 「금융소비자 보호에 관\\n한 법률」, 상법, 민법 등 관계 법령을 따릅니다.\\n제 47 조 예금보험에 의한 지급보장\\n회사가 파산 등으로 인하여 보험금 등을 지급하지 못할 경우에는 예금자보호법에서 정하는 바에 따라 그\\n지급을 보장합니다.\\n77\\x00/\\x00249', metadata={'source': '한화생명 The스마트한 일시납종신보험_20240101~.pdf', 'type': '일시납종신보험_20240101~', 'timestamp': 1705029857.2469213}),\n",
       " Document(page_content='【 별표 1 】\\n보험금 지급기준표\\n□ 1종(기본형)\\n급부명칭 지 급 사 유 지 급 금 액\\n사망보험금 지급사유 발생당시\\n사망보험금 보험기간 중 피보험자가 사망한 경우\\n기본보험금액\\n주) 1. 기본보험금액이라 함은 기준사망보험금과 ‘이미 납입한 보험료’ 그리고 적립액의 101% 금액 중\\n가장 큰 금액을 말합니다.\\n2. 기준사망보험금이라 함은 보험가입금액으로 합니다. 다만, 추가납입보험료 납입시에는 추가납입\\n전 기준사망보험금에서 추가납입보험료를 더한 금액으로 하며 적립액의 인출시에는 인출전 기\\n준사망보험금에서 적립액의 인출금액을 차감한 금액으로 합니다. 한편, 적립액의 인출로 인한\\n기준사망보험금의 감소는 적립액의 인출 신청시점을 기준으로 계산합니다.\\n3. 최저사망보험금이라 함은 향후 공시이율에 관계없이 최저사망보험금 보증기간 동안 보장하는\\n최저한도의 사망보험금으로서, 사망보험금 지급사유 발생시점의 기본보험금액을 말합니다.\\n4. 최저사망보험금 보증기간이라 함은 계약일로부터 1개월 경과 이후 제28조(보험료의 납입이 연\\n체되는 경우 납입최고(독촉)와 계약의 해지)의 납입최고(독촉)기간이 끝나는 날의 다음 날부터\\n예정적립액이 ‘0’이 될 때까지의 기간을 말합니다.\\n78\\x00/\\x00249', metadata={'source': '한화생명 The스마트한 일시납종신보험_20240101~.pdf', 'type': '일시납종신보험_20240101~', 'timestamp': 1705029857.3345191}),\n",
       " Document(page_content='□ 2종(소득보장형)\\n급부명칭 보험기간 지 급 사 유 지 급 금 액\\n○ 월급여금\\n지급사유 발생일을 포함하여 은퇴전 보험기간\\n은퇴전 이 끝날 때까지 매월 지급사유 발생해당일에\\n피보험자가 사망한 경우\\n사망 보험기간 보험가입금액의 1%를 지급(단, 60회 보증지급)\\n보험금 사망보험금 지급사유 발생당시\\n기본보험금액\\n은퇴후 사망보험금 지급사유 발생당시\\n피보험자가 사망한 경우\\n보험기간 기본보험금액\\n주) 1. 기본보험금액은 보험기간에 따라 다음과 같이 구분됩니다.\\n(1) 은퇴전 보험기간\\n다음중 가장 큰 금액을 말합니다.\\n- 기준사망보험금\\n- ‘이미 납입한 보험료’에서 ‘월급여금의 일시지급금’을 차감한 금액\\n- 적립액의 101%에서 ‘월급여금의 일시지급금’을 차감한 금액\\n(2) 은퇴후 보험기간\\n기준사망보험금과 ‘이미 납입한 보험료’ 그리고 적립액의 101%중 가장 큰 금액\\n2. 기준사망보험금은 다음과 같습니다.\\n은퇴전 보험기간의 경우 보험가입금액의 50%로 하며, 은퇴후 보험기간에는 보험가입금액으로 합\\n니다. 다만, 추가납입보험료 납입시에는 추가납입전 기준사망보험금에 추가납입보험료를 더한 금\\n액으로 하며, 적립액의 인출시에는 인출전 기준사망보험금에서 적립액의 인출금액을 차감한 금\\n액으로 합니다. 한편, 적립액의 인출로 인한 기준사망보험금의 감소는 적립액의 인출 신청시점을\\n기준으로 계산합니다.\\n3. 월급여금에서 ‘보험가입금액’보다 월급여금 지급사유 발생시점 적립액의 101%가 더 큰 경우 그\\n금액을 보험가입금액으로 하여 월급여금을 계산합니다.\\n4. 월급여금에서 해당월의 지급사유 발생해당일이 없는 경우에는 해당월의 말일을 지급사유 발생\\n해당일로 합니다.\\n[사망연령별 기준사망보험금 및 월급여금 예시]\\n40세 가입, 보험가입금액 1억원(보험가입금액이 월급여급 지급사유 발생시점 적립액의 101% 이상\\n인 경우)\\n매월 100만원\\n월 급여금 X 매월 100만원 매월 100만원 매월 100만원\\n월급여급\\n180회 X X X\\n없음\\n120회 60회 60회\\n기 준사망\\n1억원\\n보험금\\n5천만원 5천만원 5천만원 5천만원\\n50세 계약해 55세 계약해 60세 계약해 64세 계약해 65세 계약해당\\n당일 사망 당일 사망 당일 사망 당일 사망 일 이후 사망\\n5. 최저사망보험금이라 함은 향후 공시이율에 관계없이 최저사망보험금 보증기간 동안 보장하는\\n79\\x00/\\x00249', metadata={'source': '한화생명 The스마트한 일시납종신보험_20240101~.pdf', 'type': '일시납종신보험_20240101~', 'timestamp': 1705029857.5189042}),\n",
       " Document(page_content='최저한도의 사망보험금으로서, 다음과 같습니다.\\n- 은퇴전 보험기간\\n지급사유 발생시점의 월급여금(60회 보증지급) 및 기본보험금액\\n- 은퇴후 보험기간\\n지급사유 발생시점의 기본보험금액\\n6. 최저사망보험금 보증기간이라 함은 계약일로부터 1개월 경과 이후 제28조(보험료의 납입이 연\\n체되는 경우 납입최고(독촉)와 계약의 해지)의 납입최고(독촉)기간이 끝나는 날의 다음 날부터\\n예정적립액이 ‘0’이 될 때까지의 기간을 말합니다.\\n□ 3종(소득보장강화형)\\n급부명칭 보험기간 지 급 사 유 지 급 금 액\\n○ 월급여금\\n지급사유 발생일을 포함하여 은퇴전 보험기간\\n이 끝날 때까지 최대 240회 한도 내에서 매월\\n은퇴전\\n피보험자가 사망한 경우 지급사유 발생해당일에 보험가입금액의 2%를\\n사망 보험기간 지급(단, 60회 보증지급)\\n보험금\\n사망보험금 지급사유 발생당시\\n기본보험금액\\n은퇴후 사망보험금 지급사유 발생당시\\n피보험자가 사망한 경우\\n보험기간 기본보험금액\\n주) 1. 기본보험금액은 보험기간에 따라 다음과 같이 구분됩니다.\\n(1) 은퇴전 보험기간\\n다음중 가장 큰 금액을 말합니다.\\n- 기준사망보험금\\n- ‘이미 납입한 보험료’에서 ‘월급여금의 일시지급금’을 차감한 금액\\n- 적립액의 101%에서 ‘월급여금의 일시지급금’을 차감한 금액\\n(2) 은퇴후 보험기간\\n기준사망보험금과 ‘이미 납입한 보험료’ 그리고 적립액의 101%중 가장 큰 금액\\n2. 기준사망보험금은 다음과 같습니다.\\n은퇴전 보험기간의 경우 보험가입금액의 20%로 하며, 은퇴후 보험기간에는 보험가입금액으로 합\\n니다. 다만, 추가납입보험료 납입시에는 추가납입전 기준사망보험금에 추가납입보험료를 더한 금\\n액으로 하며, 적립액의 인출시에는 인출전 기준사망보험금에서 적립액의 인출금액을 차감한 금\\n액으로 합니다. 한편, 적립액의 인출로 인한 기준사망보험금의 감소는 적립액의 인출 신청시점을\\n기준으로 계산합니다.\\n3. 월급여금에서 ‘보험가입금액’보다 월급여금 지급사유 발생시점 적립액의 101%가 더 큰 경우 그\\n금액을 보험가입금액으로 하여 월급여금을 계산합니다.\\n4. 월급여금에서 해당월의 지급사유 발생해당일이 없는 경우에는 해당월의 말일을 지급사유 발생\\n해당일로 합니다.\\n80\\x00/\\x00249', metadata={'source': '한화생명 The스마트한 일시납종신보험_20240101~.pdf', 'type': '일시납종신보험_20240101~', 'timestamp': 1705029857.6735148}),\n",
       " Document(page_content='[사망연령별 기준사망보험금 및 월급여금 예시]\\n30세 가입, 보험가입금액 1억원(보험가입금액이 월급여급 지급사유 발생시점 적립액의 101% 이상\\n인 경우)\\n매월 200만원\\n월 급여금\\n매월 200만원\\n매월 200만원 매월 200만원\\nX X\\nX X\\n월급여급\\n240회\\n180회\\n60회 60회\\n없음\\n기 준사망\\n1억원\\n보험금\\n2천만원 2천만원 2천만원 2천만원\\n40세 계약해 50세 계약해 60세 계약해 64세 계약해 65세 계약해당\\n당일 사망 당일 사망 당일 사망 당일 사망 일 이후 사망\\n5. 최저사망보험금이라 함은 향후 공시이율에 관계없이 최저사망보험금 보증기간 동안 보장하는\\n최저한도의 사망보험금으로서, 다음과 같습니다.\\n- 은퇴전 보험기간\\n지급사유 발생시점의 월급여금(최대 240회 한도. 단, 60회 보증지급) 및 기본보험금액\\n- 은퇴후 보험기간\\n지급사유 발생시점의 기본보험금액\\n6. 최저사망보험금 보증기간이라 함은 계약일로부터 1개월 경과 이후 제28조(보험료의 납입이 연\\n체되는 경우 납입최고(독촉)와 계약의 해지)의 납입최고(독촉)기간이 끝나는 날의 다음 날부터\\n예정적립액이 ‘0’이 될 때까지의 기간을 말합니다.\\n81\\x00/\\x00249', metadata={'source': '한화생명 The스마트한 일시납종신보험_20240101~.pdf', 'type': '일시납종신보험_20240101~', 'timestamp': 1705029857.77078}),\n",
       " Document(page_content='【 별표 2 】\\n보험금을 지급할 때의 적립이율 계산\\n(제9조 제2항 및 제35조 제3항 관련)\\n구 분 기 간 지 급 이 자\\n지급기일의 다음 날부터 30일 이내 기간 보험계약대출이율\\n사망보험금\\n보험계약대출이율\\n(2종(소득보장형) 및 지급기일의 31일 이후부터 60일 이내 기간\\n+ 가산이율(4.0%)\\n3종(소득보장강화형) 제2회\\n보험계약대출이율\\n이후의 월급여금 제외) 지급기일의 61일 이후부터 90일 이내 기간\\n+ 가산이율(6.0%)\\n(제4조)\\n보험계약대출이율\\n지급기일의 91일 이후 기간\\n+ 가산이율(8.0%)\\n-1년이내:\\n2종(소득보장형) 및\\n제2회 이후의 해당 월급여금 지급예정일의 공시이율의 50%\\n3종(소득보장강화형) 제2회\\n다음 날부터 청구일까지의 기간 -1년 초과기간:\\n이후의 월급여금\\n공시이율의 40%\\n(제4조)\\n청구일의 다음 날부터 지급일까지의 기간 보험계약대출이율\\n-1년이내:\\n지급사유가 발생한 날의 다음 날부터 청구 공시이율의 50%\\n일까지의 기간 -1년 초과기간:\\n해약환급금\\n공시이율의 40%\\n(제35조 제1항)\\n청구일의 다음 날부터 지급일까지의 기간 보험계약대출이율\\n주).1. 지급이자 계산시 적용되는 공시이율 및 보험계약대출이율은 해당기간 동안에 회사가 매월 정한\\n이율로 합니다.\\n2. 제2회 이후의 월급여금은 회사가 보험금의 지급시기 도래 7일 이전에 지급할 사유와 금액을 알리\\n지 않은 경우, 지급예정일의 다음 날부터 청구일까지의 기간은 공시이율을 적용한 이자를 지급합\\n니다.\\n3. 지급이자는 연단위 복리로 일자계산하며, 소멸시효(제41조)가 완성된 이후에는 지급하지 않습니다.\\n4. 계약자 등의 책임 있는 사유로 보험금 지급이 지연된 때에는 그 해당기간에 대한 이자는 지급되\\n지 않을 수 있습니다. 다만, 회사는 계약자 등이 분쟁조정을 신청했다는 이유만으로 이자지급을\\n거절하지 않습니다.\\n5. 가산이율 적용시 제9조(보험금의 지급절차) 제3항 각 호의 어느 하나에 해당되는 사유로 지연된\\n경우에는 해당기간에 대하여 가산이율을 적용하지 않습니다.\\n6. 가산이율 적용시 금융위원회 또는 금융감독원이 정당한 사유로 인정하는 경우에는 해당 기간에\\n대하여 가산이율을 적용하지 않습니다.\\n82\\x00/\\x00249', metadata={'source': '한화생명 The스마트한 일시납종신보험_20240101~.pdf', 'type': '일시납종신보험_20240101~', 'timestamp': 1705029857.9537504}),\n",
       " Document(page_content='【 별표 3 】\\n재해분류표\\n1. 보장대상이 되는 재해\\n다음 각 호에 해당하는 재해는 이 보험의 약관에 따라 보험금을 지급합니다.\\n① 한국표준질병·사인분류상의 (S00~Y84)에 해당하는 우발적인 외래의 사고\\n② 감염병의 예방 및 관리에 관한 법률 제2조 제2호에서 규정한 제1급감염병\\n2. 보험금을 지급하지 않는 재해\\n다음 각 호에 해당하는 경우에는 재해분류에서 제외하여 보험금을 지급하지 않습니다.\\n① 질병 또는 체질적 요인이 있는 자로서 경미한 외부 요인으로 발병하거나 그 증상이 더욱 악화된\\n경우\\n② 사고의 원인이 다음과 같은 경우\\n- 과잉노력 및 격심한 또는 반복적 운동(X50)\\n- 무중력환경에서의 장기간 체류(X52)\\n- 식량부족(X53)\\n- 물부족(X54)\\n- 상세불명의 결핍(X57)\\n- 고의적 자해(X60~X84)\\n- 법적 개입 중 법적 처형(Y35.5)\\n③ ‘외과적 및 내과적 치료 중 환자의 재난(Y60~Y69)’ 중 진료기관의 고의 또는 과실이 없는 사고(단,\\n처치 당시에는 재난에 대한 언급이 없었으나 환자의 이상반응 또는 이후 합병증의 원인이 된 외\\n과적 및 기타 내과적 처치(Y83~Y84)는 보장)\\n④ ‘자연의 힘에 노출(X30~X39)’ 중 급격한 액체손실로 인한 탈수\\n⑤ ‘우발적 익사 및 익수(W65~W74), 기타 호흡과 관련된 불의의 위협(W75~W84), 눈 또는 인체의\\n개구부를 통하여 들어온 이물(W44)’ 중 질병에 의한 호흡장해 및 삼킴장해\\n⑥ 한국표준질병·사인분류상의 (U00~U99)에 해당하는 질병\\n※ ( ) 안은 제8차 개정 한국표준질병·사인분류(통계청 고시 제2020-175호, 2021. 1. 1 시행)상의 분류번호\\n이며, 제9차 한국표준질병·사인분류 개정 이후 이 약관에서 보장하는 재해 해당여부는 피보험자가\\n진단(재해의 경우 발생)된 당시 시행하고 있는 한국표준질병·사인분류에 따라 판단합니다.\\n※ 제1항(보장대상이 되는 재해) 제②호에 해당하는 감염병은 보험사고 발생당시 시행중인 법률을 적용\\n하며, 제2항(보험금을 지급하지 않는 재해) 제⑥호에 해당하더라도 보장대상에서 제외하지 않습니다.\\n83\\x00/\\x00249', metadata={'source': '한화생명 The스마트한 일시납종신보험_20240101~.pdf', 'type': '일시납종신보험_20240101~', 'timestamp': 1705029858.0946608}),\n",
       " Document(page_content='특별약관\\n한화생명\\nThe스마트한\\n일시납종신보험\\n무배당[보증비용부과형]\\n특별약관은 특약에 대해 보험계약자의 청약이 있고 보험회사가 이를 승낙 후,\\n해당 보험료를 납입한 경우에만 적용됩니다.', metadata={'source': '한화생명 The스마트한 일시납종신보험_20240101~.pdf', 'type': '일시납종신보험_20240101~', 'timestamp': 1705029858.1332104}),\n",
       " Document(page_content='특약 약관 구성 안내\\n1. 특약 약관의 구성\\n특약 약관은 「제1절 공통사항」 과 「제2절 개별사항」 으로 구성됩니다.\\n2. 특약 약관 구성 관련 유의사항\\n보험금 등의 청구절차, 특약의 성립과 무효에 관한 사항 등\\n제1절 공통사항\\n모든 특약에 공통적으로 적용되는 일반사항으로 구성되어 있습니다.\\n보험금의 지급사유, 보험료 납입면제 사유, 해약환급금 등\\n제2절 개별사항\\n각 특약에 개별적으로 적용되는 사항으로 구성되어 있습니다.\\n약관 해석 시 「제1절 공통사항」 과 「제2절 개별사항」 의 내용을\\n함께 고려하여야 합니다. 다만, 「제1절 공통사항」 에서 정한 내용과\\n해석 시 유의사항\\n「제2절 개별사항」 에서 정한 내용이 서로 다른 경우에는\\n「제2절 개별사항」 의 내용을 「제1절 공통사항」 의 내용에 우선하여 적용합니다.\\n3. 특약 약관의 구성 예시\\n수술보장특약 약관 특약 약관 「제1절 공통사항」 + 수술보장특약 「제2절 개별사항」\\n첫날부터입원특약 약관 특약 약관 「제1절 공통사항」 + 첫날부터입원특약 「제2절 개별사항」\\n4. 기타 주의사항\\n제도성특약 및 선택특약Ⅱ의 경우\\n약관을 「제1절 공통사항」 과 「제2절 개별사항」 으로 나누어 구성하지 않습니다.\\n제도성특약 및 선택특약Ⅱ에 해당하는 특약 목록은 특약 목차를 통해\\n확인하실 수 있습니다.', metadata={'source': '한화생명 The스마트한 일시납종신보험_20240101~.pdf', 'type': '일시납종신보험_20240101~', 'timestamp': 1705029858.377427}),\n",
       " Document(page_content='이 특약은 계약자의 선택에 의하여 해당보험료를 납입한 경우에만 적용합니다. 이 경우 전환시점의 CI연\\n금전환특약 약관, 보험요율 및 피보험자의 보험나이를 적용합니다.\\nCI연금전환특약(K6.1) 무배당 약관\\n제 1 관 목적 및 용어의 정의\\n제 1 조 목적\\n이 특약은 보험계약자(이하 ‘계약자’라 합니다)와 보험회사(이하 ‘회사’라 합니다) 사이에 제6조(보험금의\\n지급사유)에 해당하는 피보험자의 위험을 보장하기 위하여 체결됩니다.\\n제 2 조 용어의 정의\\n이 특약에서 사용되는 용어의 정의는, 이 특약의 다른 조항에서 달리 정의되지 않는 한 다음과 같습니\\n다.\\n1. 계약관계 관련 용어\\n가. 전환전계약: 주된 보험계약을 말하며, 부가특약의 포함 여부는 아래와 같습니다.\\n- 이 특약의 피보험자와 전환전계약의 피보험자가 동일한 경우: 부가특약 전부에 대한 포함 여부\\n를 계약자가 선택할 수 있습니다.\\n- 이 특약의 피보험자와 전환전계약의 피보험자가 다른 경우: 전환전계약의 부가특약 전부를 포\\n함해야 하나, 전환전계약 사업방법서에서 별도의 부가특약 포함여부를 정한 경우에는 그 조건\\n을 따릅니다.\\n나. 특약: 전환전계약에 부가하는 보험계약을 말합니다.\\n다. 계약자: 회사와 보험계약(이하 ‘계약’이라 합니다)을 체결하고 보험료를 납입할 의무를 지는 사람\\n을 말합니다.\\n라. 보험수익자: 보험금 지급사유가 발생하는 때에 회사에 보험금을 청구하여 받을 수 있는 사람을\\n말합니다.\\n마. 보험증권: 계약의 성립과 그 내용을 증명하기 위하여 회사가 계약자에게 드리는 증서를 말합니다.\\n바. 피보험자: 보험사고의 대상이 되는 사람을 말하며, 이 특약의 피보험자는 전환전 계약의 피보험자\\n(전환전계약이 2인보장보험인 경우에는 전환전 계약의 주피보험자)로 합니다. 다만, 전환전 계약\\n사업방법서에서 별도의 피보험자를 정한 경우에는 그 조건을 따릅니다.\\n2. 지급사유 관련 용어\\n가. CI: Critical Illness(중대한 질병)의 약자로 제3조(‘중대한 질병’ 및 ‘중대한 화상 및 부식(화학약품등\\n에 의한 피부 손상)’의 정의 및 진단 확정)에서 정한 ‘중대한 질병’, ‘중대한 화상 및 부식(화학약품\\n등에 의한 피부 손상)’ 또는 제4조(‘중대한 수술’의 정의)에서 정한 ‘중대한 수술’을 말합니다.\\n나. 장해: 별표 7 ‘장해분류표’에서 정한 기준에 따른 장해상태를 말합니다.\\n다. 중요한 사항: 계약 전 알릴 의무와 관련하여 회사가 그 사실을 알았더라면 계약의 청약을 거절하\\n거나 보험가입금액 한도 제한, 일부 보장 제외, 보험금 삭감, 보험료 할증과 같이 조건부로 승낙\\n하는 등 계약 승낙에 영향을 미칠 수 있는 사항을 말합니다.\\n라. 보장개시일: 이 특약의 보장개시일은 이 특약의 계약자가 신청한 연금전환일로 하며, 보장개시일\\n을 보험계약일로 봅니다.\\n마. 중대한 암 보장개시일: 연금전환일부터 그 날을 포함하여 90일이 지난 날의 다음 날로 합니다.\\n3. 지급금 관련 용어\\n연단위 복리: 회사가 지급할 금전에 이자를 줄 때 1년마다 마지막 날에 그 이자를 원금에 더한 금액\\n을 다음 1년의 원금으로 하는 이자 계산방법을 말합니다.\\n4. 기간과 날짜 관련 용어\\n가. 보험기간: 이 특약에 따라 보장을 받는 기간을 말합니다.\\n86\\x00/\\x00249', metadata={'source': '한화생명 The스마트한 일시납종신보험_20240101~.pdf', 'type': '일시납종신보험_20240101~', 'timestamp': 1705029858.5754886}),\n",
       " Document(page_content='나. 영업일: 회사가 영업점에서 정상적으로 영업하는 날을 말하며, 토요일, ‘관공서의 공휴일에 관한\\n규정’에 따른 공휴일 및 대체공휴일, 근로자의 날은 제외합니다.\\n제 2 관 보험금의 지급\\n제 3 조 ‘중대한 질병’ 및 ‘중대한 화상 및 부식(화학약품등에 의한 피부 손상)’의 정의 및 진단 확정\\n① 이 특약에 있어서 ‘중대한 질병’이라 함은 ‘중대한 질병’의 정의(별표 3 참조)에서 정한 질병 중 아래\\n와 같습니다.\\n중대한 질병\\n중대한 암, 중대한 뇌졸중, 중대한 급성심근경색증, 말기신부전증, 말기간질환, 말기 만성폐질환, 루게\\n릭병, 중증재생불량성빈혈\\n② 이 특약에 있어서 ‘유방암’이라 함은 ‘중대한 암’ 중에서 제8차 개정 한국표준질병·사인분류 중 분류\\n번호 C50(유방의 악성 신생물)에 해당하는 질병을 말합니다.\\n③ 이 특약에 있어서 ‘중대한 화상 및 부식(화학약품등에 의한 피부 손상)’이라 함은 ‘중대한 화상 및 부\\n식(화학약품등에 의한 피부 손상)’의 정의(별표 4 참조)에서 정한 ‘중대한 화상 및 부식(화학약품등에 의\\n한 피부 손상)’을 말합니다.\\n④ ‘중대한 질병’ 및 ‘중대한 화상 및 부식(화학약품등에 의한 피부 손상)’의 진단 확정은 의료법 제3조\\n(의료기관)에 규정한 국내의 병원이나 의원 또는 국외의 의료관련법에서 정한 의료기관에서 의료법 제5\\n조(의사, 치과의사 및 한의사 면허)에 규정한 의사(한의사, 치과의사 제외)의 면허를 가진 자(이하 ‘의사’\\n라 합니다)가 작성한 문서화된 기록 또는 검사결과를 기초로 하여 내려져야 합니다.\\n제 4 조 ‘중대한 수술’의 정의\\n이 특약에 있어서 ‘중대한 수술’이라 함은 ‘중대한 수술’의 정의(별표 5 참조)에서 정한 ‘관상동맥(심장동\\n맥)우회술’, ‘대동맥인조혈관치환수술’, ‘심장판막수술’, ‘5대장기이식수술’을 말합니다.\\n제 5 조 한국표준질병·사인분류 적용 기준\\n① 이 약관에서 규정하는 질병 및 재해 분류는 제8차 개정 한국표준질병·사인분류(KCD : 통계청 고시 제\\n2020-175호, 2021.1.1시행)가 기준이나, 이후 진단 당시 한국표준질병·사인분류가 개정된 경우에는 개정\\n된 기준으로 최종 판단합니다.\\n② 진단 당시의 한국표준질병·사인분류에 따라 이 약관에서 보장하는 질병 및 재해 해당여부를 판단하\\n며, 진단 이후 한국표준질병·사인분류 개정으로 질병 및 재해 분류가 변경되더라도 이 약관에서 보장하\\n는 질병 및 재해 해당 여부를 다시 판단하지 않습니다.\\n③ 제1항을 적용함에 있어 이 약관에서 진단 기준을 별도로 정한 경우에는 그에 따릅니다.\\n【예시】\\n· 피보험자가 제8차 개정 한국표준질병·사인분류 기준에서는 약관에서 보장하는 질병에 해당하나, 진\\n단 당시 제9차 개정 한국표준질병·사인분류가 적용되고 그 기준으로는 약관상 보장하는 질병에 해당\\n하지 않을 경우에는 보험금을 지급하지 아니합니다.\\n피보험자가 진단 당시의 제8차 개정 한국표준질병·사인분류 기준에서는 약관에서 보장하지 않는 질\\n병으로 보험금 청구가 되어 보험금 지급이 거절되었으나, 진단 이후 제9차 개정 한국표준질병·사인분\\n류가 적용되고 그 기준에서는 보장하는 질병에 해당된다고 하더라도 보험금을 지급하지 않습니다.\\n제 6 조 보험금의 지급사유\\n회사는 피보험자에게 다음 중 어느 하나의 사유가 발생한 경우에는 보험수익자에게 약정한 연금(별표 1\\n‘연금 지급기준표’ 참조)을 지급합니다.\\n1. 피보험자가 이 특약의 보험기간 중 매년 보험계약 해당일에 살아있을 경우: 종신연금 지급\\n2. 피보험자에게 80세 계약해당일 이전 이 특약의 보험기간 중 다음 각 목의 어느 하나의 사유가 발\\n87\\x00/\\x00249', metadata={'source': '한화생명 The스마트한 일시납종신보험_20240101~.pdf', 'type': '일시납종신보험_20240101~', 'timestamp': 1705029858.7764351}),\n",
       " Document(page_content='생하였을 경우(다만, 최초 발생 지급사유를 기준으로 지급) : CI연금 지급\\n가. ‘중대한 암 보장개시일’ 이후에 ‘중대한 암’으로 진단 확정 되었을 경우\\n나. 보장개시일 이후에 ‘중대한 암 이외의 중대한 질병’으로 진단 확정 되거나 ‘중대한 수술’을 받\\n았을 경우\\n다. 보장개시일 이후에 ‘중대한 화상 및 부식(화학약품등에 의한 피부손상)’으로 진단 확정 되었을\\n경우\\n제 7 조 보험금 지급에 관한 세부규정\\n① 연금전환일부터 1년 미만에 유방암으로 제6조(보험금의 지급사유) 제2호에서 정한 CI연금의 지급사\\n유가 발생한 경우에는 CI연금의 50%를 지급합니다.\\n② 제1항에 따라 CI연금의 지급사유가 발생한 이후 유방암을 제외한 원인으로 CI연금의 지급사유가 발\\n생한 경우에는 CI연금의 50%를 추가로 지급합니다. 다만, 보험기간 중 ‘중대한 암 보장개시일’ 이후에\\n‘유방암’으로 진단 확정된 이후 ‘유방암 이외의 암’으로 전이된 경우에는 보장하지 않습니다.\\n③ 계약자는 피보험자가 연금전환일로부터 ‘중대한 암 보장개시일’ 전일 이전에 ‘중대한 암’으로 진단 확\\n정된 경우에는 그 진단확정일로부터 그 날을 포함하여 90일 이내에 이 특약의 취소를 선택할 수 있으며,\\n이 경우 회사는 계약자에게 이미 납입한 보험료(이미 지급된 연금액 제외)를 돌려 드립니다.\\n④ 제3항에도 불구하고 계약자가 원할 경우 회사는 계약자에게 이미 납입한 보험료(이미 지급된 연금액\\n제외)를 돌려 드리지 않고 연금전환일부터 전환되지 않은 것으로 하여 전환전계약의 약관을 적용합니다.\\n⑤ 연금전환일부터 ‘중대한 암 보장개시일’ 전일 이전에 ‘중대한 암’으로 진단 확정되었으나 제3항에서\\n계약자가 이 특약의 취소를 선택하지 않은 때에는 연금전환일부터 ‘중대한 암 보장개시일’ 전일 이전에\\n진단 확정된 ‘중대한 암’이 동일하거나 다른 신체기관에 재발 또는 전이되어 ‘중대한 암’으로 제6조(보험\\n금의 지급사유) 제2호의 보험금 지급사유가 발생한 경우라도 CI연금을 지급하지 않습니다. 다만, 연금전\\n환일부터 ‘중대한 암 보장개시일’ 전일 이전에 ‘중대한 암’으로 진단 확정 받더라도 ‘중대한 암 보장개시\\n일’ 이후 5년이 지나는 동안 그 ‘중대한 암’으로 인하여 추가 진단(단순 건강검진 제외) 또는 치료 사실\\n이 없을 경우, ‘중대한 암 보장개시일’부터 5년이 지난 이후에는 제2항 및 제6조(보험금의 지급사유)에\\n따라 보장하여 드립니다.\\n⑥ 80세 계약해당일 이전 이 특약의 보험기간 중 피보험자가 보장개시일(‘중대한 암’은 ‘중대한 암 보장\\n개시일’) 이후에 사망하고, 그 후에 ‘중대한 질병’을 직접적인 원인으로 사망한 사실이 확인된 경우에는\\n그 사망일을 진단 확정일로 하여 제6조(보험금의 지급사유) 제2호에서 정한 CI연금을 지급합니다. 그러\\n나 보장개시일(‘중대한 암’은 ‘중대한 암 보장개시일’)의 전일 이전에 ‘중대한 질병’으로 진단이 확정된\\n경우에는 CI연금을 지급하지 않습니다.\\n⑦ 제6조(보험금의 지급사유)에서 ‘중대한 질병’ 중 ‘중대한 뇌졸중’의 경우, ‘중대한 뇌졸중’의 정의(별표\\n3 참조)에도 불구하고, 피보험자가 80세 계약해당일 이전 이 특약의 보험기간중 사망하고 그 후에 ‘뇌졸\\n중’을 직접적인 원인으로 사망한 사실이 확인된 경우에는 그 사망일을 진단 확정일로 하여 제6조(보험\\n금의 지급사유) 제2호에서 정한 CI연금을 지급합니다. 여기서 ‘뇌졸중’이라 함은 ‘뇌출혈 및 뇌경색증’ 분\\n류표(별표 6 참조)에서 정한 질병을 말합니다. 다만, ‘중대한 질병’의 정의(별표 3 참조)에서 정한 ‘중대\\n한 뇌졸중’을 직접적인 원인으로 사망한 경우에는 제6항을 적용합니다.\\n⑧ 보험수익자 또는 계약자와 회사가 제6조(보험금의 지급사유), 제1항 및 제2항에 대해 합의하지 못할\\n때는 보험수익자 또는 계약자와 회사가 함께 제3자를 정하고 그 제3자의 의견에 따를 수 있습니다. 제3\\n자는 의료법 제3조(의료기관)에 규정한 종합병원 소속 전문의 중에서 정하며, 보험금 지급사유 판정에\\n드는 의료비용은 회사가 전액 부담합니다.\\n제 8 조 공시이율의 적용 및 공시\\n① 이 특약에 적용되는 이율은 매월 1일 회사가 정한 공시이율(이하 ‘공시이율’이라 합니다)로 합니다.\\n공시이율의 최저보증이율은 이 특약의 계약일로부터 3년 이내에는 연복리 1.0%, 3년초과 5년이내에는\\n연복리 0.75%, 5년을 초과하는 경우에는 연복리 0.5%를 적용합니다.\\n88\\x00/\\x00249', metadata={'source': '한화생명 The스마트한 일시납종신보험_20240101~.pdf', 'type': '일시납종신보험_20240101~', 'timestamp': 1705029859.0162022}),\n",
       " Document(page_content='② 제1항의 공시이율은 이 보험의 사업방법서에서 정하는 바에 따라 운용자산이익률과 객관적인 외부지\\n표금리를 가중평균하여 산출된 공시기준이율에서 향후 예상수익 등을 고려한 조정률을 가감하여 결정합\\n니다.\\n③ 회사는 제1항 내지 제2항에서 정한 공시이율 및 산출방법 등을 매월 회사의 인터넷 홈페이지 등을\\n통해 공시합니다.\\n【 공시이율 】\\n보험회사가 장래 보험금 지급을 위하여 납입보험료의 일정 부분을 적립해 가는데, 이때 적용하는 이\\n율을 의미합니다. 이 보험의 공시이율은 회사의 운용자산이익률, 객관적인 외부지표금리(국고채 수익\\n률 등 시중금리) 및 향후 운용수익률 예측분을 혼합하여 일정기간마다 산출하여 공시하고 있습니다.\\n【 최저보증이율 】\\n운용자산이익률 및 시중금리가 하락되더라도 회사에서 보증하는 최저한도의 적용이율을 말합니다.\\n예를 들어, 공시이율을 적용하여 적립하는 금액은 공시이율이 0.25%인 경우, 공시이율(0.25%)이 아닌\\n최저보증이율(계약일로부터 3년 이내에는 연복리 1.0%, 3년초과 5년이내에는 연복리 0.75%, 5년을 초\\n과하는 경우에는 연복리 0.5%)로 적립됩니다.\\n제 9 조 보험금의 청구\\n① 보험수익자 또는 계약자는 다음의 서류를 제출하고 보험금을 청구하여야 합니다.\\n1. 청구서(회사양식)\\n2. 사고증명서[진단서(병명기입), 수술확인서, 진료기록부(검사기록지 포함) 등]\\n3. 신분증(주민등록증이나 운전면허증 등 사진이 붙은 정부기관 발행 신분증, 본인이 아닌 경우에는\\n본인의 인감증명서 또는 본인서명사실확인서 포함)\\n4. 기타 보험수익자 또는 계약자가 보험금 수령에 필요하여 제출하는 서류\\n② 제1항에도 불구하고 회사는 보험수익자가 의식불명 등 의사무능력상태인 경우 성년후견인이 보험수\\n익자를 대리하여 제1항 각 호의 서류와 다음의 서류를 제출하고 보험금을 청구하도록 요구할 수 있습니\\n다.\\n1. 보험수익자가 예금주인 예금 통장 사본\\n2. 성년후견인의 보험금지급 동의서, 인감증명서, 인감도장\\n3. 보험수익자 기준 성년 후견 등기사항 증명서\\n③ 제1항 제2호의 사고증명서는 의료법 제3조(의료기관)에서 규정한 국내의 병원이나 의원 또는 국외의\\n의료관련법에서 정한 의료기관에서 발급한 것이어야 합니다.\\n제 10 조 보험금의 지급절차\\n① 회사는 제9조(보험금의 청구)에 정한 서류를 접수한 때에는 접수증을 드리고 휴대전화 문자메시지\\n또는 전자우편 등으로도 송부하며, 그 서류를 접수한 날부터 3영업일 이내에 보험금을 지급합니다. 다만,\\n보험금의 지급사유의 조사나 확인이 필요한 때에는 접수 후 10영업일 이내에 보험금을 지급합니다.\\n② 회사는 제6조(보험금의 지급사유)에 해당하는 연금의 지급시기가 되면 지급시기 7일 이전에 그 사유\\n와 회사가 지급하여야 할 금액을 계약자 또는 보험수익자에게 알려드리며, 제1항에 따라 보험금을 지급\\n할 때 보험금 지급일까지의 기간에 대한 이자는 ‘보험금을 지급할 때의 적립이율 계산’(별표 2 참조)과\\n같이 계산합니다.\\n③ 회사가 제1항의 지급사유를 조사∙확인하기 위하여 제1항의 지급기일 이내에 보험금을 지급하지 못할\\n것으로 예상되는 경우에는 그 구체적인 사유, 지급예정일 및 보험금 가지급 제도(회사가 추정하는 보험\\n금의 50% 이내를 지급)에 대하여 피보험자 또는 보험수익자에게 즉시 통지하여 드립니다. 다만, 지급예\\n정일은 다음 각 호의 어느 하나에 해당하는 경우를 제외하고는 제9조(보험금의 청구)에서 정한 서류를\\n접수한 날부터 30영업일 이내에서 정합니다.\\n1. 소송제기\\n89\\x00/\\x00249', metadata={'source': '한화생명 The스마트한 일시납종신보험_20240101~.pdf', 'type': '일시납종신보험_20240101~', 'timestamp': 1705029859.2686036}),\n",
       " Document(page_content='2. 분쟁조정신청\\n3. 수사기관의 조사\\n4. 해외에서 발생한 보험사고에 대한 조사\\n5. 제5항에 따른 회사의 조사요청에 대한 동의 거부 등 계약자, 피보험자 또는 보험수익자의 책임 있\\n는 사유로 보험금 지급사유의 조사와 확인이 지연되는 경우\\n6. 제7조(보험금 지급에 관한 세부규정) 제8항에 따라 보험금 지급사유에 대해 제3자의 의견에 따르\\n기로 한 경우\\n【보험금 가지급 제도】\\n지급기한 내에 보험금이 지급되지 못할 것으로 판단될 경우 피보험자가 당장 필요로 하는 비용을 보\\n전 해주기 위해 회사가 예상되는 보험금의 일부를 먼저 지급하는 제도\\n④ 제3항에 의하여 추가적인 조사가 이루어지는 경우, 회사는 보험수익자의 청구에 따라 회사가 추정하\\n는 보험금의 50% 상당액을 가지급보험금으로 지급합니다.\\n⑤ 계약자, 피보험자 또는 보험수익자는 제1항 및 제3항의 보험금 지급사유의 조사와 관련하여 의료기\\n관, 국민건강보험공단, 경찰서 등 관공서에 대한 회사의 서면 조사 요청에 동의하여야 합니다. 다만, 정\\n당한 사유 없이 이에 동의하지 않을 경우에는 사실확인이 끝날 때까지 회사는 보험금 지급지연에 따른\\n이자를 지급하지 않습니다.\\n⑥ 회사는 제5항의 서면조사에 대한 동의 요청시 조사목적, 사용처 등을 명시하고 설명합니다.\\n제 11 조 보험수익자의 지정\\n이 특약에서 계약자가 보험수익자를 지정하지 않은 때에는 제6조(보험금의 지급사유) 제1호의 경우는\\n계약자를 보험수익자로 하고, 같은 조 제2호의 경우는 피보험자를 보험수익자로 합니다.\\n제 3 관 특약의 성립과 유지\\n제 12 조 특약의 성립\\n① 이 특약은 계약자의 청약(請約)과 회사의 승낙(承諾)으로 전환전계약에 부가하여 이루어 집니다. 다만,\\n회사는 피보험자가 이 특약에 적합하지 않은 경우에는 승낙을 거절할 수 있습니다.\\n② 계약자는 이 특약을 청약할 때 보증지급기간(10년, 20년, 100세보증)을 선택하여야 하며, 보험기간,\\n연금개시나이 등 세부사항은 사업방법서에서 정한 바에 따릅니다.\\n③ 회사는 전환전계약의 해약환급금, 중도인출금액 또는 만기보험금 등(중도보험금 미수령액이 있을 경\\n우 이를 포함한 금액, 이하 ‘지급금’이라 합니다)’의 지급사유 발생시 지급금의 전부 또는 일부를 계약자\\n의 신청에 따라 계약자에게 연금으로 전환하여 드립니다. 이 경우 이 특약의 보험증권을 발행하여 드립\\n니다.\\n④ 전환신청 당시 보험수익자가 별도로 지정된 지급금에 대하여는 해당 보험수익자 및 피보험자가 변경\\n된 경우에는 변경된 피보험자의 서면에 의한 동의가 있어야 제3항에 따라 전환 신청할 수 있습니다.\\n⑤ 회사는 피보험자가 이 특약에 적합하지 않은 경우에는 승낙을 거절하거나 별도의 조건(보험가입금액\\n제한, 일부보장 제외, 보험금 삭감, 보험료 할증 등)을 붙여 승낙할 수 있습니다.\\n⑥ 회사가 제5항에 따라 일부보장 제외 조건을 붙여 승낙하였더라도 연금전환일로부터 5년이 지나는 동\\n안 보장이 제외되는 질병으로 추가 진단(단순 건강검진 제외) 또는 치료 사실이 없을 경우, 연금전환일\\n로부터 5년이 지난 이후에는 제6조(보험금의 지급사유)에 따라 보장합니다.\\n제 13 조 특약의 무효\\n① 이 특약을 체결할 때 이 특약에서 정한 피보험자의 나이에 미달되었거나 초과되었을 경우(다만, 회사\\n가 나이의 착오를 발견하였을 때 이미 이 특약에서 정한 피보험자의 나이에 도달한 경우에는 유효한 계\\n약으로 봅니다)에는 이 특약을 무효로 하며 계약자에게 이미 납입한 보험료(이미 지급된 연금액 제외)를\\n돌려 드립니다.\\n90\\x00/\\x00249', metadata={'source': '한화생명 The스마트한 일시납종신보험_20240101~.pdf', 'type': '일시납종신보험_20240101~', 'timestamp': 1705029859.4607334}),\n",
       " Document(page_content='② 제1항에도 불구하고 계약자가 원할 경우 회사는 계약자에게 이미 납입한 보험료(이미 지급된 연금액\\n제외)를 돌려 드리지 않고 연금전환일부터 전환되지 않은 것으로 하여 전환전계약의 약관을 적용합니다.\\n③ 제1항에도 불구하고 다음 각 호의 어느 하나에 해당하는 경우에는 계약자가 보험료를 납입한 날의\\n다음 날부터 반환일까지의 기간에 대하여 회사는 이 특약의 보험계약대출이율을 연단위 복리로 계산한\\n금액을 더하여 돌려드립니다.\\n1. 회사의 고의 또는 과실로 이 특약이 무효로 된 경우\\n2. 회사가 승낙 전에 무효임을 알았거나 알 수 있었음에도 보험료를 반환하지 않은 경우\\n제 14 조 특약내용의 변경 등\\n계약자는 보험수익자를 변경할 수 있으며 이 경우에는 회사의 승낙이 필요하지 않습니다. 다만, 변경된\\n보험수익자가 회사에 권리를 대항하기 위해서는 계약자가 보험수익자가 변경되었음을 회사에 통지하여\\n야 합니다.\\n제 15 조 특약의 보험기간\\n이 특약의 보험기간은 보장개시일부터 종신까지로 합니다.\\n제 16 조 특약의 소멸\\n① 제6조(보험금의 지급사유)에 해당하는 연금의 지급이 완료되었거나 피보험자가 사망하였을 때에는\\n이 특약은 더 이상 효력이 없습니다.\\n② 제1항 ‘사망’에는 보험기간에 다음 어느 하나의 사유가 발생한 경우를 포함합니다.\\n1. 실종선고를 받은 경우: 법원에서 인정한 실종기간이 끝나는 때에 사망한 것으로 봅니다.\\n2. 관공서에서 수해, 화재나 그 밖의 재난을 조사하고 사망한 것으로 통보하는 경우: 가족관계등록부\\n에 기재된 사망연월일을 기준으로 합니다.\\n제 4 관 보험료의 납입\\n제 17 조 특약의 보험료 납입기간 및 보험료의 납입\\n이 특약의 보험료는 전환전계약의 지급금의 전부 또는 일부를 일시에 납입하는 것으로 합니다.\\n제 5 관 특약의 해지 및 해약환급금 등\\n제 18 조 계약자의 임의해지\\n계약자는 전환전 계약이 이 특약으로 전환된 이후에는 이 특약을 해지할 수 없습니다.\\n제 18 조의 2 위법계약의 해지\\n① 계약자는 「금융소비자 보호에 관한 법률」 제47조 및 관련규정이 정하는 바에 따라 계약체결에 대한\\n회사의 법위반사항이 있는 경우 계약체결일부터 5년 이내의 범위에서 계약자가 위반사항을 안 날부터 1\\n년 이내에 계약해지요구서에 증빙서류를 첨부하여 위법계약의 해지를 요구할 수 있습니다.\\n② 회사는 해지요구를 받은 날부터 10일 이내에 수락여부를 계약자에 통지하여야 하며, 거절할 때에는\\n거절 사유를 함께 통지하여야 합니다.\\n③ 계약자는 회사가 정당한 사유 없이 제1항의 요구를 따르지 않는 경우 해당 계약을 해지할 수 있습니\\n다.\\n④ 제1항 및 제3항에 따라 계약이 해지된 경우 회사는 제19조(해약환급금) 제2항에 따른 해약환급금을\\n계약자에게 지급합니다.\\n⑤ 계약자는 제1항에 따른 제척기간에도 불구하고 민법 등 관계 법령에서 정하는 바에 따라 법률상의\\n권리를 행사할 수 있습니다.\\n91\\x00/\\x00249', metadata={'source': '한화생명 The스마트한 일시납종신보험_20240101~.pdf', 'type': '일시납종신보험_20240101~', 'timestamp': 1705029859.6153355}),\n",
       " Document(page_content='제 19 조 해약환급금\\n① 이 특약은 해약환급금이 없습니다.\\n② 제18조의2(위법계약의 해지)에 따라 위법계약이 해지되는 경우 회사가 적립한 해지 당시의 계약자적\\n립액을 반환하여 드립니다.\\n③ 해약환급금의 지급사유가 발생한 경우 계약자는 회사에 해약환급금을 청구하여야 하며, 회사는 청구\\n를 접수한 날부터 3영업일 이내에 해약환급금을 지급합니다. 해약환급금 지급일까지의 기간에 대한 이\\n자의 계산은 ‘보험금을 지급할 때의 적립이율 계산’(별표 2 참조)에 따릅니다.\\n제 6 관 분쟁의 조정 등\\n제 20 조 소멸시효\\n① 보험금 청구권 및 보험료 반환청구권은 3년간 행사하지 않으면 소멸시효가 완성됩니다.\\n② 제1항의 소멸시효는 해당 청구권을 행사할 수 있는 때로부터 진행합니다.\\n제 7 관 기타사항 등\\n제 21 조 전환전계약 약관의 준용\\n이 특약에 정하지 않은 사항에 대하여는 전환전계약 약관을 준용합니다.\\n92\\x00/\\x00249', metadata={'source': '한화생명 The스마트한 일시납종신보험_20240101~.pdf', 'type': '일시납종신보험_20240101~', 'timestamp': 1705029859.6660757}),\n",
       " Document(page_content='【 별표 1 】\\n연금 지급기준표\\n급부명칭 지 급 내 용\\n지급사유 금 액\\n이 특약의 보험료를 기준으로\\n피보험자가 생존한 기간동안\\n종신 연금개시일 이후 피보험자가 (10년보증, 20년보증, 100세보증)\\n연금 매년 보험계약 해당일에 살아있을 경우 산출방법서에서 정한 방법에 따라\\n연금액을 분할 계산하여\\n매년 보험계약 해당일에 지급\\n연금\\n연금개시일 이후 보장개시일(‘중대한 암’\\n은 ‘중대한 암 보장개시일’)부터\\n80세 계약해당일 전일까지 피보험자가\\nCI ‘중대한 질병’으로 진단 확정 받거나 ‘중 종신연금 연금액의 1배를 10년동안\\n연금 대한 수술’을 받았을 경우 또는 ‘중대한 매년 진단 확정일에 지급(10회확정)\\n화상 및 부식(화학약품등에 의한 피부손\\n상)’으로 진단 확정을 받은 경우\\n(최초 1회한)\\n주) 1. ‘이 특약의 보험료’란 전환전계약의 사업방법서에서 정한 바에 따라 전환전계약의 지급금의 전부\\n또는 일부를 말합니다.\\n2. 이 특약의 공시이율은 사업방법서에서 정한 방법에 따라 회사가 매월 1일 결정하며, 공시이율의\\n최저보증이율은 이 특약의 계약일로부터 3년 이내에는 연복리 1.0%, 3년초과 5년이내에는 연복리\\n0.75%, 5년을 초과하는 경우에는 연복리 0.5%를 적용합니다.\\n3. 연금전환일부터 ‘중대한 암 보장개시일’ 이후 1년 미만에 유방암으로 CI연금의 지급사유가 발생한\\n경우에는 CI연금의 50%를 10년동안(10회 확정) 매년 진단 확정일에 지급합니다.\\n4. 단, 주3)에 따라 CI연금의 지급사유가 발생한 이후 유방암을 제외한 원인으로 CI연금의 지급사유\\n가 발생한 경우에는 CI연금의 50%를 추가로 10년동안(10회 확정) 매년 진단 확정일에 지급합니\\n다.\\n5. 연금액의 계산은 이 특약의 보험료를 기준으로 이 특약의 공시이율을 적용하여 보험료 및 해약환\\n급금 산출방법서(이하 ‘산출방법서’라 합니다)에서 정한 방법에 따라 계산되며, 공시이율이 변경되\\n면 실제 지급되는 연금액도 변경됩니다.\\n6. 종신연금의 경우 보증지급기간(10년, 20년, 100세 보증) 동안 지급되지 않은 종신연금액을, CI연금\\n의 경우 확정지급기간(10회 확정) 동안 지급되지 않은 CI연금액을 산출방법서에 따라 공시이율로\\n할인하여 일시금으로 선지급 받을 수 있으며, 피보험자가 사망한 경우 또한 같습니다.\\n7. 종신연금의 100세보증은 피보험자 나이를 기준으로 합니다.\\n8. CI발생시 ‘중대한 질병’, ‘중대한 수술’ 또는 ‘중대한 화상 및 부식(화학약품등에 의한 피부 손상)’\\n중 최초로 발생한 지급사유를 기준으로 CI연금을 지급합니다.\\n9. 연금은 매월, 매3개월, 매6개월로 분할하여 지급받을 수 있습니다.\\n10. 해당월의 보험계약 해당일이 없는 경우에는 해당월의 말일을 보험계약 해당일로 합니다.\\n11. 이 특약의 보장개시일은 이 특약의 계약자가 신청한 연금전환일로 합니다.\\n12. 이 특약의 ‘중대한 암 보장개시일’은 연금전환일부터 그 날을 포함하여 90일이 지난 날의 다음\\n날로 합니다.\\n93\\x00/\\x00249', metadata={'source': '한화생명 The스마트한 일시납종신보험_20240101~.pdf', 'type': '일시납종신보험_20240101~', 'timestamp': 1705029859.8473916}),\n",
       " Document(page_content='【 별표 2 】\\n보험금을 지급할 때의 적립이율 계산\\n(제10조 제2항 및 제19조 제3항 관련)\\n구 분 기 간 지급이자\\n지급기일의 다음 날부터 30일 이내 기간 보험계약대출이율\\n보험계약대출이율\\n지급기일의 31일 이후부터 60일 이내 기간\\n+ 가산이율(4.0%)\\n제1회 CI연금\\n보험계약대출이율\\n(제6조 제2호) 지급기일의 61일 이후부터 90일 이내 기간\\n+ 가산이율(6.0%)\\n보험계약대출이율\\n지급기일의 91일 이후 기간\\n+ 가산이율(8.0%)\\n보험기간 만기일(단, 이 특약이 더\\n이상의 효력을 가지지 않게 된 경우\\n공시이율\\n에는 효력을 가지지 않게 된 날) 이\\n지급사유가 발생한\\n내\\n날의 다음 날부터 청\\n보험기간 만기일(단, 이 특약이 더 - 1년이내 :\\n제2회 이후의 CI연금 구일까지의 기간\\n이상의 효력을 가지지 않게 된 경우 공시이율의 50%\\n및 종신연금 (제6조)\\n에는 효력을 가지지 않게 된 날) 이 - 1년초과 기간 :\\n후 공시이율의 40%\\n청구일의 다음 날부터 지급일까지의 기간 보험계약대출이율\\n-1년이내:\\n공시이율의 50%\\n지급사유가 발생한 날의 다음 날부터 청구일까지의 기간\\n- 1년초과 기간 :\\n해약환급금\\n공시이율의 40%\\n(제19조 제2항)\\n청구일의 다음 날부터 지급일까지의 기간 보험계약대출이율\\n주) 1. 지급이자 계산시 적용되는 공시이율 및 보험계약대출이율은 해당기간 동안에 회사가 매월 정한\\n이율로 합니다.\\n2. 연금은 회사가 보험금의 지급시기 도래 7일 이전에 지급할 사유와 금액을 알리지 않은 경우, 지\\n급사유가 발생한 날의 다음 날부터 청구일까지의 기간은 공시이율을 적용한 이자를 지급합니다.\\n3. 지급이자는 연단위 복리로 일자계산하며, 소멸시효(제20조)가 완성된 이후에는 지급하지 않습니다.\\n4. 계약자 등의 책임있는 사유로 보험금 지급이 지연된 때에는 그 해당기간에 대한 이자는 지급되지\\n않을 수 있습니다. 다만, 회사는 계약자 등이 분쟁조정을 신청했다는 사유만으로 이자지급을 거절\\n하지 않습니다.\\n5. 가산이율 적용시 제10조(보험금의 지급절차) 제3항 각 호의 어느 하나에 해당되는 사유로 지연된 경\\n우에는 해당기간에 대하여 가산이율을 적용하지 않습니다.\\n6. 가산이율 적용시 금융위원회 또는 금융감독원이 정당한 사유로 인정하는 경우에는 해당 기간에 대\\n하여 가산이율을 적용하지 않습니다.\\n94\\x00/\\x00249', metadata={'source': '한화생명 The스마트한 일시납종신보험_20240101~.pdf', 'type': '일시납종신보험_20240101~', 'timestamp': 1705029860.0105357}),\n",
       " Document(page_content=\"【 별표 3 】\\n‘중대한 질병’ 의 정의\\nⅠ. 중대한 암(Critical Cancer)\\n① ‘중대한 암’이라 함은 악성종양세포가 존재하고 또한 주위 조직으로 악성종양세포의 침윤파괴적\\n증식으로 특징 지을 수 있는 악성종양을 말하며, 다음 각 호에 해당하는 경우는 보장에서 제외\\n합니다.\\n1. 다음의 가. ~ 사.에 해당하는 악성종양\\n가. 악성흑색종(melanoma) 중에서 침범정도가 낮은 (Breslow 분류법상 그 깊이가 1.5mm 이하\\n인 경우를 말합니다) 경우\\n나. 초기전립선암(본 상품의 ‘초기 전립선암’이란 modified Jewett 병기분류상 stage B0 이하 또\\n는 TNM병기상 T1c 이하인 모든 전립선암을 말합니다)\\n다. 갑상선의 악성 신생물(C73) 또는 C77~C80(이차성 및 상세불명 부위의 악성 신생물(암))에\\n해당하는 질병 중 갑상선을 일차부위로 하는 질병\\n라. 인간면역결핍바이러스(HIV) 감염과 관련된 악성종양(단, 의료법에서 정한 의료인의 진료상\\n또는 치료중 혈액에 의한 HIV 감염으로 인한 악성종양은 해당 진료기록을 통해 객관적으로\\n확인되는 경우는 제외)\\n마. 악성흑색종(melanoma) 이외의 모든 피부암(C44)\\n바. 「중대한 암 보장개시일」 전일 이전에 발생한 암이 「중대한 암 보장개시일」이후에 재발되거\\n나 전이된 경우\\n사. 대장점막내암 (‘대장점막내암’이란 대장의 상피세포층(epithelium)에서 발생한 악성종양 세포\\n가 기저막(basement membrane)을 뚫고 내려가서 점막고유층(lamina propria) 또는 점막근층\\n(muscularis mucosae)을 침범하였으나 점막하층(submucosa)까지는 침범하지 않은 상태의 질\\n병을 말하며, 대장은 맹장, 충수, 결장, 직장을 말합니다.)\\n2. 병리학적으로 전암병소(premalignant condition or condition with malignant potential), 제자리암\\n(carcinoma in-situ), 경계성종양 등 ‘중대한 암’에 해당하지 않는 질병\\n3. 신체부위에 관계없이 병리학적으로 현재 양성종양인 경우\\n② 암의 진단 확정은 병리 또는 진단검사의학 전문의 자격증을 가진 자에 의하여 내려져야 하며,\\n이 진단은 조직(fixed tissue)검사, 미세바늘흡인검사(fine needle aspiration) 또는 혈액(hemic\\nsystem)검사에 대한 현미경 소견을 기초로 하여야 합니다.\\n③ 상기의 진단이 가능하지 않을 때(암이 전신으로 전이되어 조직검사가 불가한 경우 등을 말합니\\n다)에만 피보험자가 암으로 진단 또는 치료를 받고 있음을 증명할 만한 의사가 작성한 문서화된\\n기록(사체검안서 제외) 또는 증거가 있어야 합니다.\\n【유의사항】\\n한국표준질병∙사인분류 지침서의 ‘사망 및 질병이환의 분류부호 부여를 위한 선정준칙과 지침’에 따\\n라 C77~C80(이차성 및 상세불명 부위의 악성 신생물)의 경우 일차성 악성 신생물이 확인되는 경우\\n에는 원발부위(최초 발생한 부위)를 기준으로 분류합니다.\\n【'일반 암'과 '중대한 암'의 차이점】\\n일반 암은 한국표준질병사인분류 중 악성 신생물로 분류되는 질병을 “악성 신생물 분류표”를 근\\n거로 특정하여 보장하는 것을 말하며, 중대한 암은 “악성 신생물 분류표”를 별도 사용하지 않고\\n약관 내용과 같이 중대한 암으로 “정의”된 악성종양을 말합니다. 다만, 중대한 암에서는 “악성\\n신생물 분류표”의 악성종양이라 하여도 약관상 기술된 “제외 악성종양”에 해당되는 경우에는 중\\n대한 암에 포함되지 않는 것이 차이점입니다.\\n95\\x00/\\x00249\", metadata={'source': '한화생명 The스마트한 일시납종신보험_20240101~.pdf', 'type': '일시납종신보험_20240101~', 'timestamp': 1705029860.1834311}),\n",
       " Document(page_content=\"Ⅱ. 중대한 뇌졸중(Critical Stroke)\\n① ‘중대한 뇌졸중’이라 함은 거미막하출혈, 뇌내출혈, 기타 비외상성 두개내출혈, 뇌경색이 발생하여\\n뇌혈액 순환의 급격한 차단이 생겨 그 결과 영구적인 신경학적 결손(언어장애, 운동실조, 마비\\n등)이 나타나는 질병을 말합니다.\\n② 제1항의 ‘뇌혈액순환의 급격한 차단’은 의사가 작성한 진료기록부상의 전형적인 병력을 기초로\\n하여야 하며, ‘영구적인 신경학적 결손’이란 주관적인 자각증상(symptom)이 아니라 신경학적인\\n검사를 기초로 한 객관적인 신경학적증후(sign)로 나타난 장애로서 별표 7 장해분류표에서 정한\\n‘신경계에 장해가 남아 일상생활 기본동작에 제한을 남긴 때’의 지급률이 25% 이상인 장해상태\\n[장해분류별 판정기준 13. 신경계·정신행동 장해 가. 장해의 분류 1. 및 나. 장해판정기준 1) 신경\\n계 가), 다)에 따라 판정함]를 말합니다.\\n③ ‘중대한 뇌졸중’의 진단 확정은 뇌전산화단층촬영(Brain CT Scan), 자기공명영상(MRI), 뇌혈관조영\\n술, 양전자방출단층촬영술(PET), 단일광자전산화단층술(SPECT), 뇌척수액검사를 기초로 영구적인\\n신경학적 결손과 일치하는 ‘중대한 뇌졸중’ 에 특징적인 소견이 발병 당시 새롭게 출현함을 근거\\n로 하여야 합니다.\\n④ 일과성허혈발작(transcient ischemic attack), 가역적허혈성신경학적결손(reversible ischemic\\nneurological deficit)은 보장에서 제외합니다. 또한, 다음의 각 호에 해당하는 뇌출혈, 뇌경색은 보장\\n에서 제외합니다.\\n1. 외상에 의한 경우\\n2. 뇌종양으로 인한 경우\\n3. 뇌수술 합병증으로 인한 경우\\n4. 신경학적결손을 가져오는 안동맥(ophthalmic artery)의 폐색으로 인한 경우\\n【'뇌졸중'과 '중대한 뇌졸중'의 차이점】\\n뇌졸중은 한국표준질병사인분류 중 “뇌졸중 분류표”에 특정하여 보장하는 것을 말하며, 중대한\\n뇌졸중은 “뇌졸중 분류표”를 사용하지 않고 약관 내용과 같이 “중대한 뇌졸중의 정의”에 의거\\n뇌혈액순환의 급격한 차단 및 영구적인 신경학적 결손(일정부분의 장해상태)이 동반된 경우를\\n말합니다. 따라서, “뇌졸중 분류표”에는 해당되지만 중대한 뇌졸중으로는 인정이 되지 않는 “제외\\n뇌졸중”이 존재하는 것이 차이점입니다.\\nⅢ. 중대한 급성심근경색증(Critical Acute Myocardial Infarction)\\n① ‘중대한 급성심근경색증’이라 함은 관상동맥(심장동맥)의 폐색으로 말미암아 심근으로의 혈액공급\\n이 급격히 감소되어 전형적인 흉통의 존재와 함께 해당 심근조직의 비가역적인 괴사를 가져오는\\n질병으로서 발병 당시 다음의 두 가지 특징을 모두 보여야 합니다.\\n1. 전형적인 급성심근경색의 심전도 변화(ST분절, T파, Q파)가 새롭게 출현\\n2. CK-MB를 포함한 심근효소의 발병당시 새롭게 상승\\n② 안정협심증, 불안정협심증, 변형협심증을 포함한 모든 종류의 협심증은 보장에서 제외합니다.\\n③ 혈액 중 심근효소만으로 급성심근경색증 진단을 내린다든지 심전도검사 만으로 급성심근경색증\\n진단을 내리는 경우는 보장에서 제외되며 또한 심초음파검사나 핵의학검사, 자기공명영상(MRI),\\n양전자방출단층촬영술(PET) 등을 기초로 급성심근경색증 진단을 내리는 경우도 보장에서 제외하\\n며, 심근의 미세경색이나 작은 손상(Myocardial Microinfaction or Minimal Myocardial Damage)도\\n보장에서 제외합니다.\\n【'급성심근경색증'과 '중대한 급성심근경색증'의 차이점】\\n급성심근경색은 한국표준질병사인분류 중 “급성심근경색증 분류표”를 근거로 특정하여 보장하는\\n것을 말하며, 중대한 급성심근경색은 “급성심근경색증 분류표”를 사용하지 않고 약관과 같이 “정\\n의 등 진단방법”을 상세히 기술하여 “중대한 급성심근경색증의 특징 및 진단방법”을 명확하고\\n구체적으로 기술하였다는 점에 차이가 있습니다.\\n96\\x00/\\x00249\", metadata={'source': '한화생명 The스마트한 일시납종신보험_20240101~.pdf', 'type': '일시납종신보험_20240101~', 'timestamp': 1705029860.3775866}),\n",
       " Document(page_content='Ⅳ. 말기신부전증(End Stage Renal Disease)\\n‘말기신부전증’이라 함은 양쪽 신장 모두가 만성적으로 비가역적인 기능부전을 보이는 말기신질환\\n(End Stage Renal Disease)으로서, 보존요법으로는 치료가 불가능하여 현재 혈액투석이나 복막투석을\\n받고 있거나 받는 경우를 말하며, 일시적으로 투석치료를 필요로 하는 신부전증은 제외합니다.\\nⅤ. 말기간질환(End Stage Liver Disease)\\n① ‘말기간질환’이라 함은 간경변증을 일으키는 말기의 간질환을 말하며, 다음의 세 가지 특징을 모\\n두 보여야 합니다.\\n1. 영구적인 황달(jaundice)\\n2. 복수(ascites)\\n3. 간성뇌병증(hepatic encephalopathy)\\n② ‘말기간질환’의 진단 확정은 정기적인 이학적 검사, 혈액검사, 영상검사(초음파 등) 등을 포함한\\n검사결과, 소견서, 진료기록 등으로 확인가능하여야 합니다.\\nⅥ. 말기 만성폐질환(End Stage Chronic Lung Disease)\\n① ‘말기 만성폐질환’이라 함은 [만성폐질환 대상질병 분류표]에서 정한 질병 중에서 양쪽 폐장 모\\n두가 심한 비가역적인 기능부전을 보여서 그 결과 도보 동작이 지속적으로 현저하게 제한되고\\n평생 일상생활의 기본동작의 제한을 받아야 하는 상태로서 다음의 한 가지 기준 이상에 해당되\\n어야 합니다.\\n1. 폐기능 검사에서 최대한 노력하여 잘 불었을 때 1초간 노력성 호기량(FEV1.0)이 지속적으로\\n정상예측치의 30% 이하\\n2. 비가역적인 만성 저산소증으로서 안정상태에서의 동맥혈 가스분석검사(ABGA)상 동맥혈 산소\\n분압(PaO2)이 60㎜Hg 이하\\n[만성폐질환 대상질병 분류표 ]\\n만성폐질환으로 분류되는 질병은 제8차 개정 한국표준질병·사인분류(KCD : 통계청 고시 제2020-175\\n호, 2021. 1. 1 시행) 중 다음에 적은 질병을 말합니다.\\n대상이 되는 질병 분류번호\\n급성인지 만성인지 명시되지 않은 기관지염 J40\\n단순성 및 점액화농성 만성 기관지염 J41\\n상세불명의 만성 기관지염 J42\\n폐기종 J43\\n기타 만성 폐쇄성 폐질환 J44\\n기관지확장증 J47\\n외부요인에 의한 폐질환 J60 ~ J70\\n성인호흡곤란증후군 J80\\n폐부종 J81\\n기타 간질성 폐질환 J84\\n달리 분류되지 않은 호흡부전 J96\\n※ 제9차 한국표준질병·사인분류 개정 이후 이 약관에서 보장하는 질병 해당여부는 피보험자가 진\\n단된 당시 시행하고 있는 한국표준질병·사인분류에 따라 판단합니다.\\n97\\x00/\\x00249', metadata={'source': '한화생명 The스마트한 일시납종신보험_20240101~.pdf', 'type': '일시납종신보험_20240101~', 'timestamp': 1705029860.5035973}),\n",
       " Document(page_content='② 단, 폐기능 검사성적과 동맥혈 가스분석검사는 그 성질상 변동하기 쉬운 것이기 때문에 폐질환\\n의 경과 중에 가장 적절하게 상병을 나타내고 있다고 생각되는 검사성적에 근거하여야 합니다.\\n③ ‘말기 만성폐질환’의 진단 확정은 정기적인 폐기능 검사, 흉부X선 검사, 동맥혈가스분석 검사 등\\n을 포함한 진단서, 소견서 진료기록 등으로 확인 가능하여야 합니다.\\nⅦ. 루게릭병(근위축성측삭경화증, Amyotrophic lateral sclerosis)\\n① ‘루게릭병’이라 함은 ‘확정된(definite) 루게릭병(근위축성측삭경화증)’으로서 뇌와 척수의 운동신경\\n세포들이 선택적으로 파괴되어 그 결과 비가역적이고 진행성인 심한 근력 약화 및 근육 위축을\\n일으키는 퇴행성 운동신경원질환을 말합니다.\\n② \"확정된(definite) 루게릭병(근위축성측삭경화증)\"이라 함은 ‘상위운동원 징후 및 하위운동원 징후\\n가 3부위 이상에서 모두 존재하는 상태’ 또는 ‘상위운동원 징후 및 하위운동원 징후가 1부위 이\\n상에서 존재하면서 유전자 검사 상 양성 소견을 보이는 상태’를 말합니다.\\n③ 제1항의 ‘확정된(definite) 루게릭병(근위축성측삭경화증)’의 진단은 신경과 전문의에 의해 세계신\\n경학협회(World Federation of Neurology)의 El Escorial 개정 진단기준(1998년)을 기초로 하여 내\\n려져야 합니다.\\nⅧ. 중증재생불량성빈혈(Severe Aplastic Anemia)\\n① ‘중증재생불량성빈혈’이라 함은 골수부전의 치료를 위해 지속적으로 수혈, 골수조혈촉진인자, 면\\n역억제제 중 한 가지 항목 이상의 치료를 받아왔거나, 골수이식수술 또는 조혈모세포이식수술을\\n필요로 하는 상태의 질환을 대상으로 하며, 다음 제②항의 조건을 충족해야 합니다. 단, 일시적인\\n경우는 보장에서 제외합니다.\\n② ‘중증재생불량성빈혈’의 판단기준은 골수조직검사상 골수저세포성이고, 말초혈액 검사상 다음 세\\n가지 항목 중 두 항목 이상을 충족해야 합니다.\\n1. 절대호중구수 : 500/㎕미만\\n2. 혈소판수 : 20,000/㎕미만\\n3. 절대망상적혈구수 20,000/㎕미만 또는 교정망상적혈구수 1%미만\\n단, 골수조직검사와 말초혈액 검사성적은 그 성질상 변동하기 쉬운 것이기 때문에 ‘중증재생불\\n량성빈혈’의 경과 중에 있어서 가장 적절하게 상병을 나타내고 있다고 생각되는 검사결과에 근\\n거하여야 합니다.\\n③ ‘중증재생불량성빈혈’의 진단 확정은 해당 분야의 전문의가 작성한 문서화된 진료기록 및 골수조\\n직검사결과를 기초로 하여 내려져야 합니다.\\n제1항에서 \\'일시적인 경우\\'라 함은 제2항 제1호 내지 제3호의 수치 저하가 고착화 되지 않은 상\\n태로 일시적 현상에 의하여 저하되었다가 정상수치로 복원되는 경우를 말합니다.\\n98\\x00/\\x00249', metadata={'source': '한화생명 The스마트한 일시납종신보험_20240101~.pdf', 'type': '일시납종신보험_20240101~', 'timestamp': 1705029860.6349857}),\n",
       " Document(page_content='【 별표 4 】\\n‘중대한 화상 및 부식(화학약품등에 의한 피부손상)’ 의 정의\\n① 이 약관에서 규정하는 ‘중대한 화상 및 부식(화학약품등에 의한 피부손상)’이라 함은 화상 및 부식(화\\n학약품등에 의한 피부손상)이 ‘9의 법칙(Rule of 9’s)’ 또는 ‘룬드와 브라우더 신체 표면적 차트(Lund &\\nBrowder body surface chart)’에 의해 측정된 신체표면적으로 최소 20%이상의 3도 화상 또는 부식(화\\n학약품등에 의한 피부손상)을 입은 경우를 말합니다.\\n단, ‘9의 법칙’ 또는 ‘룬드와 브라우더 신체 표면적 차트’ 측정법처럼 표준화되고 임상학적으로 받아들\\n여지는 다른 신체표면적 차트를 사용하여 유사한 결과가 나온 것도 인정합니다.\\n② ‘중대한 화상 및 부식(화학약품 등에 의한 피부 손상)’의 진단 확정은 의료법 제3조(의료기관)에 규정\\n한 국내의 병원이나 의원 또는 국외의 의료관련법에서 정한 의료기관에서 의료법 제5조(의사, 치과의\\n사 및 한의사 면허)에 규정한 의사(한의사, 치과의사 제외)의 면허를 가진 자가 작성한 문서화된 기록\\n또는 검사결과를 기초로 하여 내려져야 합니다.\\n【‘9의 법칙’】\\n‘9의 법칙’이란 총 체표면적 중 화상을 입은 면적의 비율을 정하기 위해 보편적으로 사용하는 방법으\\n로 신체 각 부위의 체표면적 비율을 정하여 두고 화상 발생시 각 부위의 비율을 합산하여 화상비율\\n을 정하는 방법을 말합니다.\\n【‘룬드와 브라우더 신체 표면적 차트’】\\n‘룬드와 브라우더 신체 표면적 차트’는 연령에 따른 체표면적의 비율 변화를 고려하여 총 체표면적에\\n대한 각 신체부위의 비율을 세분화한 것으로 상대적으로 정확한 화상비율을 정할 때 사용하는 방법\\n입니다.\\n99\\x00/\\x00249', metadata={'source': '한화생명 The스마트한 일시납종신보험_20240101~.pdf', 'type': '일시납종신보험_20240101~', 'timestamp': 1705029860.739556}),\n",
       " Document(page_content='【 별표 5 】\\n‘중대한 수술’ 의 정의\\nⅠ. 관상동맥(심장동맥)우회술(Coronary Artery Bypass Graft, CABG)\\n① ‘관상동맥(심장동맥)우회술’이라 함은 관상동맥(심장동맥)질환(Coronary Artery Disease)의 근본적인\\n치료를 직접 목적으로 하여 개흉술을 한 후 대복재정맥(greater saphenous vein), 내유동맥(internal\\nmammary artery) 등의 자가우회도관을 협착이 있는 부위보다 원위부의 관상동맥(심장동맥)에 연\\n결하여 주는 수술을 말합니다.\\n② 그러나 카테터를 이용한 수술이나 개흉술을 동반하지 않는 수술은 모두 보장에서 제외합니다.\\n(예) 관상동맥(심장동맥)성형술(Percutaneous Transluminal Coronary Angioplasty, PTCA), 스텐트삽입\\n술(Coronary Stent), 회전죽상반절제술(Rotational Atherectomy)\\nⅡ. 대동맥인조혈관치환수술(Aorta Graft Surgery)\\n① ‘대동맥인조혈관치환수술’이라 함은 대동맥 질환의 근본적인 치료를 직접목적으로 하여 개흉술 또\\n는 개복술을 한 후 반드시 대동맥 병소를 절제(excision)하고 인조혈관(graft)으로 치환하는 두 가\\n지 수술을 해주는 것을 의미합니다. 여기에서 ‘대동맥’이라 함은 흉부 또는 복부 대동맥을 말하는\\n것으로 대동맥의 분지(branch)동맥들은 제외됩니다.\\n② 단, 하기와 같이 카테터를 이용한 수술들은 보장에서 제외합니다.\\n예) 경피적혈관내대동맥류수술(percutaneous endovascular aneurysm repair)\\nⅢ. 심장판막수술(Heart Valve Surgery)\\n① ‘심장판막수술’이라 함은 심장판막질환의 근본적인 치료를 직접목적으로 하여 다음의 두 가지 기\\n준 중 한 가지 이상에 해당하는 경우입니다.\\n1. 반드시 개흉술 및 개심술을 한 후 병변이 있는 판막을 완전히 제거한 뒤에 인공심장판막\\n또는 생체판막으로 치환하여 주는 수술\\n2. 반드시 개흉술 및 개심술을 한 후 병변이 있는 판막에 대해 판막성형술(valvuloplasty)을\\n해주는 수술\\n② 그러나, 하기와 같은 수술들은 보장에서 제외합니다.\\n1. 카테터를 이용하여 수술하는 경우\\n예) 경피적 판막성형술(percutaneous balloon valvuloplasty)\\n2. 개흉술 또는 개심술을 동반하지 않는 수술\\nⅣ. 5대장기이식수술(5 Major Organ Transplantation)\\n① ‘5대장기이식수술’이라 함은 5대장기의 만성부전상태로부터 근본적인 회복과 치료를 목적으로 관\\n련법규에 따라 정부에서 인정한 장기이식 의료기관 또는 이와 동등하다고 인정되는 의료기관에서\\n간장, 신장, 심장, 췌장, 폐장에 대하여 장기이식을 하는 것으로 타인의 내부 장기를 적출하여 장\\n기부전상태에 있는 수혜자에게 이식을 시행한 경우에 대한 수술을 말합니다.\\n② 단, 랑게르한스 소도 세포 이식수술은 보장에서 제외합니다.\\n100\\x00/\\x00249', metadata={'source': '한화생명 The스마트한 일시납종신보험_20240101~.pdf', 'type': '일시납종신보험_20240101~', 'timestamp': 1705029860.8667865})]"
      ]
     },
     "execution_count": 21,
     "metadata": {},
     "output_type": "execute_result"
    }
   ],
   "source": [
    "docs[50:100]"
   ]
  },
  {
   "cell_type": "markdown",
   "id": "187ceea4-4d80-41bf-9431-47d5f3902396",
   "metadata": {
    "tags": []
   },
   "source": [
    "# 3. OpenSearch 벡터 Indexer 생성\n",
    "### 선수 조건\n",
    "- 랭체인 오프서처 참고 자료\n",
    "    - [Langchain Opensearch](https://python.langchain.com/docs/integrations/vectorstores/opensearch)"
   ]
  },
  {
   "cell_type": "markdown",
   "id": "3a6c5796-a418-4505-ba28-0ca33c3fa9f8",
   "metadata": {},
   "source": [
    "## 오픈 서치 인덱스 유무에 따라 삭제\n",
    "오픈 서치에 해당 인덱스가 존재하면, 삭제 합니다. "
   ]
  },
  {
   "cell_type": "code",
   "execution_count": 22,
   "id": "91a04b66-f542-4c10-87b3-7612d8cc0aa7",
   "metadata": {
    "tags": []
   },
   "outputs": [],
   "source": [
    "from utils.opensearch import opensearch_utils\n",
    "http_auth = (opensearch_user_id, opensearch_user_password) # Master username, Master password\n",
    "os_client = opensearch_utils.create_aws_opensearch_client(\n",
    "    aws_region,\n",
    "    opensearch_domain_endpoint,\n",
    "    http_auth\n",
    ")"
   ]
  },
  {
   "cell_type": "code",
   "execution_count": 23,
   "id": "9cf8addb-9345-499e-b079-94c2612f88b6",
   "metadata": {
    "tags": []
   },
   "outputs": [
    {
     "name": "stdout",
     "output_type": "stream",
     "text": [
      "index_name=genai-demo-index-v1, exists=True\n",
      "\n",
      "Deleting index:\n",
      "{'acknowledged': True}\n"
     ]
    }
   ],
   "source": [
    "index_name = \"genai-demo-index-v1\"\n",
    "index_exists = opensearch_utils.check_if_index_exists(os_client, index_name)\n",
    "\n",
    "if index_exists:\n",
    "    opensearch_utils.delete_index(os_client, index_name)\n",
    "else:\n",
    "    print(\"Index does not exist\")"
   ]
  },
  {
   "cell_type": "markdown",
   "id": "56ac0292-f3fc-4ef7-a00d-becee90f0dec",
   "metadata": {},
   "source": [
    "## 인덱스 생성"
   ]
  },
  {
   "cell_type": "code",
   "execution_count": 24,
   "id": "40e6a1ae-804d-41f6-8e46-04764a8a5be3",
   "metadata": {
    "tags": []
   },
   "outputs": [],
   "source": [
    "from langchain.vectorstores import OpenSearchVectorSearch"
   ]
  },
  {
   "cell_type": "code",
   "execution_count": 25,
   "id": "591b0e0b-76e2-47c3-a921-b68257fb089f",
   "metadata": {
    "tags": []
   },
   "outputs": [
    {
     "name": "stdout",
     "output_type": "stream",
     "text": [
      "CPU times: user 4.31 s, sys: 196 ms, total: 4.51 s\n",
      "Wall time: 3min 14s\n"
     ]
    }
   ],
   "source": [
    "%%time\n",
    "# # by default langchain would create a k-NN index and the embeddings would be ingested as a k-NN vector type\n",
    "# docsearch = OpenSearchVectorSearch.from_documents(\n",
    "#     index_name=index_name,\n",
    "#     documents=docs,\n",
    "#     embedding=llm_emb,\n",
    "#     opensearch_url=opensearch_domain_endpoint,\n",
    "#     http_auth=http_auth,\n",
    "#     bulk_size=10000,\n",
    "#     timeout=60\n",
    "# )\n",
    "\n",
    "# by default langchain would create a k-NN index and the embeddings would be ingested as a k-NN vector type\n",
    "docsearch = OpenSearchVectorSearch.from_documents(\n",
    "    index_name=index_name,\n",
    "    documents=docs,\n",
    "    embedding=llm_emb,\n",
    "    opensearch_url=opensearch_domain_endpoint,\n",
    "    http_auth=http_auth,\n",
    "    bulk_size=10000,\n",
    "    timeout=60,\n",
    "    is_aoss =False,\n",
    "    engine=\"faiss\",\n",
    "    space_type=\"l2\"\n",
    ")"
   ]
  },
  {
   "cell_type": "markdown",
   "id": "fae62975-2e46-44e7-97e4-c14c2bfa632f",
   "metadata": {},
   "source": [
    "## 인덱스 확인"
   ]
  },
  {
   "cell_type": "code",
   "execution_count": 26,
   "id": "14827f89-c54b-440d-ab7f-5bb22eefc313",
   "metadata": {
    "tags": []
   },
   "outputs": [
    {
     "name": "stdout",
     "output_type": "stream",
     "text": [
      "{'genai-demo-index-v1': {'aliases': {},\n",
      "                         'mappings': {'properties': {'metadata': {'properties': {'source': {'fields': {'keyword': {'ignore_above': 256,\n",
      "                                                                                                                   'type': 'keyword'}},\n",
      "                                                                                            'type': 'text'},\n",
      "                                                                                 'timestamp': {'type': 'float'},\n",
      "                                                                                 'type': {'fields': {'keyword': {'ignore_above': 256,\n",
      "                                                                                                                 'type': 'keyword'}},\n",
      "                                                                                          'type': 'text'}}},\n",
      "                                                     'text': {'fields': {'keyword': {'ignore_above': 256,\n",
      "                                                                                     'type': 'keyword'}},\n",
      "                                                              'type': 'text'},\n",
      "                                                     'vector_field': {'dimension': 1536,\n",
      "                                                                      'method': {'engine': 'faiss',\n",
      "                                                                                 'name': 'hnsw',\n",
      "                                                                                 'parameters': {'ef_construction': 512,\n",
      "                                                                                                'm': 16},\n",
      "                                                                                 'space_type': 'l2'},\n",
      "                                                                      'type': 'knn_vector'}}},\n",
      "                         'settings': {'index': {'creation_date': '1705030321457',\n",
      "                                                'knn': 'true',\n",
      "                                                'knn.algo_param': {'ef_search': '512'},\n",
      "                                                'number_of_replicas': '2',\n",
      "                                                'number_of_shards': '5',\n",
      "                                                'provided_name': 'genai-demo-index-v1',\n",
      "                                                'replication': {'type': 'DOCUMENT'},\n",
      "                                                'uuid': 'x464sHfsS7aOIrCuMyElOQ',\n",
      "                                                'version': {'created': '136327827'}}}}}\n"
     ]
    }
   ],
   "source": [
    "index_info = os_client.indices.get(index=index_name)\n",
    "pprint(index_info)"
   ]
  },
  {
   "cell_type": "markdown",
   "id": "783076d7-61c8-4796-a91f-dac51b0723e1",
   "metadata": {
    "tags": []
   },
   "source": [
    "## 형태소 분석기 사용하기\n",
    "- 영어권의 문자들과 다르게 한글, 일본어, 중국어 등은 단순한 공백만으로는 좋은 검색 결과를 얻기 힘듭니다.\n",
    "- 출시하고라는 단어가 들어간 문서를 출시하고라는 정확히 같은 단어만으로 검색할 수 있다면 답답하겠죠?\n",
    "- 출시하고라는 단어를 출시, 출시하고 등 다양하게 검색하기 위해서는 형태소 분석기가 필요합니다.\n",
    "- OpenSearch 에서는 2개의 한국어 analyer를 제공하고 있습니다.\n",
    "    - 은전한잎 (seunjeon_tokenizer)\n",
    "        - https://catalog.us-east-1.prod.workshops.aws/workshops/de4e38cb-a0d9-4ffe-a777-bf00d498fa49/ko-KR/indexing/stemming#\n",
    "    - Nori (nori_tokenizer)\n",
    "        - 설명: https://esbook.kimjmin.net/06-text-analysis/6.7-stemming/6.7.2-nori\n",
    "    - Sample 코드에서는 \"Nori\"를 기반으로 진행합니다."
   ]
  },
  {
   "cell_type": "markdown",
   "id": "d310c188-f4d4-41dd-ba9e-722dc2490519",
   "metadata": {
    "tags": []
   },
   "source": [
    "### 인덱싱 수정하기 (형태소 분석기 사용 enablement)"
   ]
  },
  {
   "cell_type": "code",
   "execution_count": 46,
   "id": "42bfe74d-7204-4820-b8e8-949820e66c30",
   "metadata": {
    "tags": []
   },
   "outputs": [
    {
     "data": {
      "text/plain": [
       "'genai-demo-index-v1-with-tokenizer'"
      ]
     },
     "execution_count": 46,
     "metadata": {},
     "output_type": "execute_result"
    }
   ],
   "source": [
    "new_index_name = f'{index_name}-with-tokenizer'\n",
    "new_index_name"
   ]
  },
  {
   "cell_type": "markdown",
   "id": "135d0fa2-ff5e-403a-bf62-7a7e20384ab8",
   "metadata": {
    "tags": []
   },
   "source": [
    "### [TIP]\n",
    "- **token filter**\n",
    "    - Amazon OpenSearch Service에서는 나만의 필터를 토크나이저와 함께 구성해서 사용할 수 있습니다. \n",
    "    - nori_tokenizer를 사용하되, 원하는 캐릭터 필터와 토큰 필터 조합을 구성할 수 있습니다.\n",
    "    - 문장이 입력되면 캐릭터 필터(char_filter), 토크나이저(tokenizer), 토큰 필터(filter) 순으로 동작하게 됩니다.\n",
    "    - 입력문장이 \"<b>Start</b> 이천이십삼년 韓國\" 이것일 경우, \n",
    "    - 아래 샘플 코드의 옵션으로 사용한다면 <b>Start</b>의 html 코드가 html_strip에 의해 처리되고, nori_tokenizer로 토큰화됩니다.\n",
    "    - 그 후에 nori_number는 이천이십삼을 2023으로, nori_readingform은 韓國을 한국으로, lowercase는 Start를 start로 처리합니다.\n",
    "    - **토큰필터 참고자료**\n",
    "        - https://esbook.kimjmin.net/06-text-analysis/6.6-token-filter\n",
    "        - https://opensearch.org/docs/latest/analyzers/token-filters/index/\n",
    "    \n",
    "- **discard_punctuation**\n",
    "    - true(기본값), false가 있으며 문장부호 또는 구두점을 어떻게 다룰지에 대한 설정을 할 수 있습니다.\n",
    "- **decompound_mode**\n",
    "    - none, discard(기본값), mixed가 있으며 복합명사를 어떻게 다룰지에 대한 설정을 할 수 있습니다.\n",
    "    - none: 복합명사를 분리하지 않고 하나의 토큰으로 저장합니다.\n",
    "    - discard: 복합명사를 분리하여 토큰으로 저장합니다.\n",
    "    - mixed: 복합명사를 분리하지 않은 토큰과 분리한 토큰을 모두 저장합니다.\n",
    "- **신조어, 업무용어, 상표**\n",
    "     - 노리 토크나이저는 [mecab-ko-dic](https://bitbucket.org/eunjeon/mecab-ko-dic/src/master/) 을 사용하고 있지만 때로는 신조어, 업무 용어, 상표 등을 위한 사용자 사전이 필요할 수 있습니다.\n",
    "     - user_dictionary_rules를 이용해서 사용자 사전을 만들 수 있고, 아래에서 사용자 사전을 적용했을 때와 적용하지 않았을 때를 비교해 볼 수 있습니다.\n",
    "- **동의어, 불용어**\n",
    "    - Amazon OpenSearch Service에서는 Package를 이용하면 사용자사전, 동의어, 불용어를 관리할 수 있습니다. 자세한 사항은 [이곳](https://docs.aws.amazon.com/ko_kr/opensearch-service/latest/developerguide/custom-packages.html)을 참조해 주십시오. \n",
    "    - S3에 사용자 사전을 업로드 후, Package에 등록합니다. 그리고 등록된 텍스트 사전을 원하는 OpenSearch 도메인에 연결합니다.\n",
    "    - 아래와 같이 user_dictionary에 analyzers/<Package ID> 를 이용해서 적용할 수 있습니다. 이 Package ID는 OpenSearch 콘솔 화면에서 업로드한 사전의 상세 페이지에서 확인할 수 있습니다.\n"
   ]
  },
  {
   "cell_type": "code",
   "execution_count": 47,
   "id": "c61bb217-482f-4418-ad62-ff7ecc7b7c46",
   "metadata": {
    "tags": []
   },
   "outputs": [],
   "source": [
    "tokenizer = \"nori\" #[\"nori\", \"seunjeon\"]\n",
    "analyzer_config = {\n",
    "    \"tokenizer\": tokenizer, \n",
    "    \"tokenizer_type\": f'{tokenizer}_tokenizer',\n",
    "    \"char_filter\": [\"html_strip\"],\n",
    "    \"filter\": [\"nori_number\", \"nori_readingform\", \"lowercase\"],\n",
    "    \"decompound_mode\": \"mixed\",\n",
    "    \"discard_punctuation\": \"true\",\n",
    "    \"metadate_type\": \"keyword\"\n",
    "    #\"user_dictionary_rules\": [\"c++\", \"워라밸\", \"먹방\"],\n",
    "    #\"user_dictionary\": \"analyzers/F255700190\"\n",
    "}"
   ]
  },
  {
   "cell_type": "code",
   "execution_count": 50,
   "id": "35fe5d27-0c48-4cd5-904c-dae434174f02",
   "metadata": {
    "tags": []
   },
   "outputs": [],
   "source": [
    "index_info[index_name][\"settings\"][\"analysis\"] = {\n",
    "    \"tokenizer\": {\n",
    "        analyzer_config[\"tokenizer\"]: {\n",
    "            \"type\": analyzer_config[\"tokenizer_type\"],\n",
    "            \"decompound_mode\": analyzer_config[\"decompound_mode\"],\n",
    "            \"discard_punctuation\": analyzer_config[\"discard_punctuation\"],\n",
    "            #\"user_dictionary_rules\": analyzer_config[\"user_dictionary_rules\"],\n",
    "            #\"user_dictionary\": analyzer_config[\"user_dictionary\"],\n",
    "        }\n",
    "    },\n",
    "    \"analyzer\": {\n",
    "        \"my_analyzer\": {\n",
    "            \"type\": \"custom\",\n",
    "            \"tokenizer\": analyzer_config[\"tokenizer\"],\n",
    "            \"char_filter\": analyzer_config[\"char_filter\"],\n",
    "            \"filter\": analyzer_config[\"filter\"],\n",
    "        }\n",
    "    }\n",
    "}\n",
    "\n",
    "# Setting for Columns to be adapted by Tokenizer (tokenizer가 적용될 컬럼에 맞춰서 수정)\n",
    "index_info[index_name][\"mappings\"][\"properties\"][\"text\"][\"analyzer\"] = \"my_analyzer\"\n",
    "index_info[index_name][\"mappings\"][\"properties\"][\"text\"][\"search_analyzer\"] = \"my_analyzer\"\n",
    "\n",
    "# Setting for vector index column (변경 없음)\n",
    "index_info[index_name][\"settings\"][\"index\"] = {\n",
    "    \"number_of_shards\": \"5\",\n",
    "    \"knn.algo_param\": {\"ef_search\": \"512\"},\n",
    "    \"knn\": \"true\",\n",
    "    \"number_of_replicas\": \"2\"\n",
    "}\n",
    "del index_info[index_name][\"aliases\"]\n",
    "del index_info[index_name][\"mappings\"][\"properties\"][\"metadata\"][\"properties\"][\"source\"][\"fields\"]\n",
    "del index_info[index_name][\"mappings\"][\"properties\"][\"metadata\"][\"properties\"][\"type\"][\"fields\"]\n",
    "index_info[index_name][\"mappings\"][\"properties\"][\"metadata\"][\"properties\"][\"source\"][\"type\"] = analyzer_config[\"metadate_type\"]\n",
    "index_info[index_name][\"mappings\"][\"properties\"][\"metadata\"][\"properties\"][\"type\"][\"type\"] = analyzer_config[\"metadate_type\"]\n",
    "\n",
    "new_index_info = index_info[index_name]"
   ]
  },
  {
   "cell_type": "code",
   "execution_count": 51,
   "id": "2c74574e-9147-48c6-bdc0-820e0e1261ab",
   "metadata": {
    "tags": []
   },
   "outputs": [
    {
     "name": "stdout",
     "output_type": "stream",
     "text": [
      "{'mappings': {'properties': {'metadata': {'properties': {'source': {'type': 'keyword'},\n",
      "                                                         'timestamp': {'type': 'float'},\n",
      "                                                         'type': {'type': 'keyword'}}},\n",
      "                             'text': {'analyzer': 'my_analyzer',\n",
      "                                      'fields': {'keyword': {'ignore_above': 256,\n",
      "                                                             'type': 'keyword'}},\n",
      "                                      'search_analyzer': 'my_analyzer',\n",
      "                                      'type': 'text'},\n",
      "                             'vector_field': {'dimension': 1536,\n",
      "                                              'method': {'engine': 'faiss',\n",
      "                                                         'name': 'hnsw',\n",
      "                                                         'parameters': {'ef_construction': 512,\n",
      "                                                                        'm': 16},\n",
      "                                                         'space_type': 'l2'},\n",
      "                                              'type': 'knn_vector'}}},\n",
      " 'settings': {'analysis': {'analyzer': {'my_analyzer': {'char_filter': ['html_strip'],\n",
      "                                                        'filter': ['nori_number',\n",
      "                                                                   'nori_readingform',\n",
      "                                                                   'lowercase'],\n",
      "                                                        'tokenizer': 'nori',\n",
      "                                                        'type': 'custom'}},\n",
      "                           'tokenizer': {'nori': {'decompound_mode': 'mixed',\n",
      "                                                  'discard_punctuation': 'true',\n",
      "                                                  'type': 'nori_tokenizer'}}},\n",
      "              'index': {'knn': 'true',\n",
      "                        'knn.algo_param': {'ef_search': '512'},\n",
      "                        'number_of_replicas': '2',\n",
      "                        'number_of_shards': '5'}}}\n"
     ]
    }
   ],
   "source": [
    "pprint(new_index_info)"
   ]
  },
  {
   "cell_type": "markdown",
   "id": "23fa8849-7144-4579-861f-b9429e11e58f",
   "metadata": {},
   "source": [
    "### 형태소 분석기용 인덱서 생성"
   ]
  },
  {
   "cell_type": "code",
   "execution_count": 52,
   "id": "ea44de00-83b4-4af0-9347-ca1a992fc7e0",
   "metadata": {
    "tags": []
   },
   "outputs": [
    {
     "name": "stdout",
     "output_type": "stream",
     "text": [
      "index_name=genai-demo-index-v1-with-tokenizer, exists=False\n",
      "Index does not exist\n"
     ]
    }
   ],
   "source": [
    "index_exists = opensearch_utils.check_if_index_exists(os_client, new_index_name)\n",
    "if index_exists:\n",
    "    opensearch_utils.delete_index(os_client, new_index_name)\n",
    "else:\n",
    "    print(\"Index does not exist\")"
   ]
  },
  {
   "cell_type": "code",
   "execution_count": 53,
   "id": "f9004d5d-9400-4822-9769-7405a79fd94e",
   "metadata": {
    "tags": []
   },
   "outputs": [
    {
     "name": "stdout",
     "output_type": "stream",
     "text": [
      "\n",
      "Creating index:\n",
      "{'acknowledged': True, 'shards_acknowledged': True, 'index': 'genai-demo-index-v1-with-tokenizer'}\n"
     ]
    }
   ],
   "source": [
    "opensearch_utils.create_index(\n",
    "    os_client,\n",
    "    index_name=new_index_name,\n",
    "    index_body=new_index_info\n",
    ")"
   ]
  },
  {
   "cell_type": "markdown",
   "id": "9b47462d-ccce-47bc-b23d-b86f31f699dc",
   "metadata": {
    "tags": []
   },
   "source": [
    "### Re-indexing"
   ]
  },
  {
   "cell_type": "code",
   "execution_count": 54,
   "id": "70f114e7-47ea-4f54-9dc9-c4ea6e088ecc",
   "metadata": {
    "tags": []
   },
   "outputs": [
    {
     "name": "stdout",
     "output_type": "stream",
     "text": [
      "_reindex: \n",
      " {'source': {'index': 'genai-demo-index-v1'}, 'dest': {'index': 'genai-demo-index-v1-with-tokenizer'}}\n"
     ]
    }
   ],
   "source": [
    "_reindex = {\n",
    "    \"source\": {\"index\": index_name},\n",
    "    \"dest\": {\"index\": new_index_name}\n",
    "}\n",
    "print(\"_reindex: \\n\", _reindex)"
   ]
  },
  {
   "cell_type": "code",
   "execution_count": 55,
   "id": "8556a152-aff2-47ce-b00d-62afd9935baa",
   "metadata": {
    "tags": []
   },
   "outputs": [
    {
     "name": "stdout",
     "output_type": "stream",
     "text": [
      "Stored 'new_index_name' (str)\n"
     ]
    }
   ],
   "source": [
    "%store new_index_name"
   ]
  },
  {
   "cell_type": "code",
   "execution_count": 56,
   "id": "aafa1768-b98c-45bf-8063-92e9c3aa1681",
   "metadata": {
    "tags": []
   },
   "outputs": [
    {
     "data": {
      "text/plain": [
       "{'took': 3919,\n",
       " 'timed_out': False,\n",
       " 'total': 1386,\n",
       " 'updated': 0,\n",
       " 'created': 1386,\n",
       " 'deleted': 0,\n",
       " 'batches': 2,\n",
       " 'version_conflicts': 0,\n",
       " 'noops': 0,\n",
       " 'retries': {'bulk': 0, 'search': 0},\n",
       " 'throttled_millis': 0,\n",
       " 'requests_per_second': -1.0,\n",
       " 'throttled_until_millis': 0,\n",
       " 'failures': []}"
      ]
     },
     "execution_count": 56,
     "metadata": {},
     "output_type": "execute_result"
    }
   ],
   "source": [
    "os_client.reindex(_reindex)"
   ]
  },
  {
   "cell_type": "markdown",
   "id": "ed402bb8-497d-4da6-8a1b-02de77133251",
   "metadata": {},
   "source": [
    "# 6. 키워드 검색"
   ]
  },
  {
   "cell_type": "markdown",
   "id": "a7b559de-eb37-4286-8609-bdfe8ec08cdd",
   "metadata": {
    "tags": []
   },
   "source": [
    "### 'Text\" 에 \"약관, 뱅킹\" 단어를 검색합니다."
   ]
  },
  {
   "cell_type": "markdown",
   "id": "fd1cfb29-137c-4350-bb1e-99424221a5c7",
   "metadata": {},
   "source": [
    "* without tokenizer (index_name)"
   ]
  },
  {
   "cell_type": "code",
   "execution_count": 35,
   "id": "87964e9a-b4e0-45a9-98ce-7b54e6276239",
   "metadata": {
    "tags": []
   },
   "outputs": [
    {
     "name": "stdout",
     "output_type": "stream",
     "text": [
      "query:  {'query': {'bool': {'must': [{'match': {'text': {'query': '계약 전 알릴 의무는 무엇인가요', 'minimum_should_match': '0%', 'operator': 'or'}}}], 'filter': []}}}\n",
      "# of searched docs:  10\n",
      "# of display: 3\n",
      "---------------------\n",
      "_id in index:  f4d55dbe-e3ea-4f36-8145-51bcc6a1b06a\n",
      "29.122568\n",
      "4. 상황별 목차 안내\n",
      "계약의 계약에서 쓰이는\n",
      "제2조(용어의 정의)\n",
      "체결 용어를 알고 싶어요\n",
      "제14조(계약 전 알릴 의무)\n",
      "계약 전 알릴 의무는 무엇인가요\n",
      "제15조(계약 전 알릴 의무 위반의 효과)\n",
      "보장이 언제 시작되나요 제24조(제1회 보험료 및 회사의 보장개시)\n",
      "청약을 철회하고 싶어요 제18조(청약의 철회)\n",
      "계약을 취소 할 수 있나요 제19조(약관교부 및 설명의무 등)\n",
      "계약이 무효가 될 수 있나요 제20조(계약의 무효)\n",
      "보험료의 보험료 납입면제\n",
      "제6조(보험금 지급에 관한 세부규정)\n",
      "납입 사유를 알고 싶어요\n",
      "보험료 납입최고(독촉)이 제27조(보험료의 납입이 연체되는 경우\n",
      "무엇인가요 납입최고(독촉)와 계약의 해지)\n",
      "제28조(보험료의 납입연체로 인하여\n",
      "해지된 계약을 살리고 싶어요\n",
      "해지된 계약의 부활(효력회복))\n",
      "보험금의 제5조(보험금의 지급사유),\n",
      "보험금을 받을 수 있는지 궁금해요\n",
      "지급 제7조(보험금을 지급하지 않는 사유)\n",
      "제9조(보험금 등의 청구),\n",
      "보험금은 언제 지급되나요\n",
      "제10조(보험금 등의 지급절차)\n",
      "8\u0000/\u0000462\n",
      "{'source': '한화생명 The실속있는 간병치매보험_20240101~.pdf', 'type': '간병치매보험_20240101~', 'timestamp': 1705030030.4172714}\n",
      "---------------------\n",
      "_id in index:  c8938a67-5268-49d7-adbf-63f8ecb5d75a\n",
      "28.090107\n",
      "(2) 해약환급금 미보증형\n",
      "계약의 계약에서 쓰이는\n",
      "제2조(용어의 정의)\n",
      "체결 용어를 알고 싶어요\n",
      "제14조(계약 전 알릴 의무)\n",
      "계약 전 알릴 의무는 무엇인가요\n",
      "제15조(계약 전 알릴 의무 위반의 효과)\n",
      "제25조(제1회 보험료 및 회사의\n",
      "보장이 언제 시작되나요\n",
      "보장개시)\n",
      "청약을 철회하고 싶어요 제18조(청약의 철회)\n",
      "계약을 취소 할 수 있나요 제19조(약관교부 및 설명의무 등)\n",
      "계약이 무효가 될 수 있나요 제20조(계약의 무효)\n",
      "보험료의 보험료 납입면제\n",
      "제5조(보험금 지급에 관한 세부규정)\n",
      "납입 사유를 알고 싶어요\n",
      "보험료 납입최고(독촉)이 제28조(보험료의 납입이 연체되는 경우\n",
      "무엇인가요 납입최고(독촉)와 계약의 해지)\n",
      "제29조(보험료의 납입연체로 인하여\n",
      "해지된 계약을 살리고 싶어요\n",
      "해지된 계약의 부활(효력회복))\n",
      "보험금의 제4조(보험금의 지급사유),\n",
      "보험금을 받을 수 있는지 궁금해요\n",
      "지급 제6조(보험금을 지급하지 않는 사유)\n",
      "제8조(보험금의 청구),\n",
      "보험금은 언제 지급되나요\n",
      "제9조(보험금의 지급절차)\n",
      "11\u0000/\u0000235\n",
      "{'source': '한화생명 The스마트한 일시납종신보험_1912-061~072_20230916~.pdf', 'type': '일시납종신보험_1912-061~072_20230916~', 'timestamp': 1705029988.7518115}\n",
      "---------------------\n",
      "_id in index:  679932b3-af72-4e19-a458-da66ddd61cfe\n",
      "27.542261\n",
      "4. 상황별 목차 안내\n",
      "(1) 해약환급금 보증형\n",
      "계약의 계약에서 쓰이는\n",
      "제2조(용어의정의)\n",
      "체결 용어를 알고 싶어요\n",
      "제14조(계약 전 알릴 의무)\n",
      "계약 전 알릴 의무는 무엇인가요\n",
      "제15조(계약 전 알릴 의무 위반의 효과)\n",
      "보장이 언제 시작되나요 제25조(제1회 보험료 및 회사의 보장개시)\n",
      "청약을 철회하고 싶어요 제18조(청약의 철회)\n",
      "계약을 취소 할 수 있나요 제19조(약관교부 및 설명의무 등)\n",
      "계약이 무효가 될 수 있나요 제20조(계약의 무효)\n",
      "보험료의 보험료 납입면제\n",
      "제5조(보험금 지급에 관한 세부규정)\n",
      "납입 사유를 알고 싶어요\n",
      "보험료 납입최고(독촉)이 제28조(보험료의 납입이 연체되는 경우\n",
      "무엇인가요 납입최고(독촉)와 계약의 해지)\n",
      "제29조(보험료의 납입연체로 인하여\n",
      "해지된 계약을 살리고 싶어요\n",
      "해지된 계약의 부활(효력회복))\n",
      "보험금의 제4조(보험금의 지급사유),\n",
      "보험금을 받을 수 있는지 궁금해요\n",
      "지급 제6조(보험금을 지급하지 않는 사유)\n",
      "제8조(보험금의 청구),\n",
      "보험금은 언제 지급되나요\n",
      "제9조(보험금의 지급절차)\n",
      "9\u0000/\u0000249\n",
      "{'source': '한화생명 The스마트한 일시납종신보험_20240101~.pdf', 'type': '일시납종신보험_20240101~', 'timestamp': 1705029841.2342026}\n",
      "---------------------\n"
     ]
    }
   ],
   "source": [
    "query = \"계약 전 알릴 의무는 무엇인가요\"\n",
    "query = opensearch_utils.get_query(\n",
    "    query=query\n",
    ")\n",
    "\n",
    "print(\"query: \", query)\n",
    "response = opensearch_utils.search_document(os_client, query, index_name)\n",
    "opensearch_utils.parse_keyword_response(response, show_size=3)"
   ]
  },
  {
   "cell_type": "markdown",
   "id": "45407fab-031e-44c2-8758-bd6d5f6074a9",
   "metadata": {
    "tags": []
   },
   "source": [
    "* with tokenizer (new_index_name)"
   ]
  },
  {
   "cell_type": "code",
   "execution_count": 36,
   "id": "66ea8613-e2a9-4b25-adf9-bbde630b1801",
   "metadata": {
    "tags": []
   },
   "outputs": [
    {
     "name": "stdout",
     "output_type": "stream",
     "text": [
      "query:  {'query': {'bool': {'must': [{'match': {'text': {'query': \"{'query': {'bool': {'must': [{'match': {'text': {'query': '계약 전 알릴 의무는 무엇인가요', 'minimum_should_match': '0%', 'operator': 'or'}}}], 'filter': []}}}\", 'minimum_should_match': '0%', 'operator': 'or'}}}], 'filter': []}}}\n",
      "# of searched docs:  10\n",
      "# of display: 3\n",
      "---------------------\n",
      "_id in index:  f4d55dbe-e3ea-4f36-8145-51bcc6a1b06a\n",
      "33.004284\n",
      "4. 상황별 목차 안내\n",
      "계약의 계약에서 쓰이는\n",
      "제2조(용어의 정의)\n",
      "체결 용어를 알고 싶어요\n",
      "제14조(계약 전 알릴 의무)\n",
      "계약 전 알릴 의무는 무엇인가요\n",
      "제15조(계약 전 알릴 의무 위반의 효과)\n",
      "보장이 언제 시작되나요 제24조(제1회 보험료 및 회사의 보장개시)\n",
      "청약을 철회하고 싶어요 제18조(청약의 철회)\n",
      "계약을 취소 할 수 있나요 제19조(약관교부 및 설명의무 등)\n",
      "계약이 무효가 될 수 있나요 제20조(계약의 무효)\n",
      "보험료의 보험료 납입면제\n",
      "제6조(보험금 지급에 관한 세부규정)\n",
      "납입 사유를 알고 싶어요\n",
      "보험료 납입최고(독촉)이 제27조(보험료의 납입이 연체되는 경우\n",
      "무엇인가요 납입최고(독촉)와 계약의 해지)\n",
      "제28조(보험료의 납입연체로 인하여\n",
      "해지된 계약을 살리고 싶어요\n",
      "해지된 계약의 부활(효력회복))\n",
      "보험금의 제5조(보험금의 지급사유),\n",
      "보험금을 받을 수 있는지 궁금해요\n",
      "지급 제7조(보험금을 지급하지 않는 사유)\n",
      "제9조(보험금 등의 청구),\n",
      "보험금은 언제 지급되나요\n",
      "제10조(보험금 등의 지급절차)\n",
      "8\u0000/\u0000462\n",
      "{'source': '한화생명 The실속있는 간병치매보험_20240101~.pdf', 'type': '간병치매보험_20240101~', 'timestamp': 1705030030.4172714}\n",
      "---------------------\n",
      "_id in index:  679932b3-af72-4e19-a458-da66ddd61cfe\n",
      "32.932236\n",
      "4. 상황별 목차 안내\n",
      "(1) 해약환급금 보증형\n",
      "계약의 계약에서 쓰이는\n",
      "제2조(용어의정의)\n",
      "체결 용어를 알고 싶어요\n",
      "제14조(계약 전 알릴 의무)\n",
      "계약 전 알릴 의무는 무엇인가요\n",
      "제15조(계약 전 알릴 의무 위반의 효과)\n",
      "보장이 언제 시작되나요 제25조(제1회 보험료 및 회사의 보장개시)\n",
      "청약을 철회하고 싶어요 제18조(청약의 철회)\n",
      "계약을 취소 할 수 있나요 제19조(약관교부 및 설명의무 등)\n",
      "계약이 무효가 될 수 있나요 제20조(계약의 무효)\n",
      "보험료의 보험료 납입면제\n",
      "제5조(보험금 지급에 관한 세부규정)\n",
      "납입 사유를 알고 싶어요\n",
      "보험료 납입최고(독촉)이 제28조(보험료의 납입이 연체되는 경우\n",
      "무엇인가요 납입최고(독촉)와 계약의 해지)\n",
      "제29조(보험료의 납입연체로 인하여\n",
      "해지된 계약을 살리고 싶어요\n",
      "해지된 계약의 부활(효력회복))\n",
      "보험금의 제4조(보험금의 지급사유),\n",
      "보험금을 받을 수 있는지 궁금해요\n",
      "지급 제6조(보험금을 지급하지 않는 사유)\n",
      "제8조(보험금의 청구),\n",
      "보험금은 언제 지급되나요\n",
      "제9조(보험금의 지급절차)\n",
      "9\u0000/\u0000249\n",
      "{'source': '한화생명 The스마트한 일시납종신보험_20240101~.pdf', 'type': '일시납종신보험_20240101~', 'timestamp': 1705029841.2342026}\n",
      "---------------------\n",
      "_id in index:  c8938a67-5268-49d7-adbf-63f8ecb5d75a\n",
      "32.192383\n",
      "(2) 해약환급금 미보증형\n",
      "계약의 계약에서 쓰이는\n",
      "제2조(용어의 정의)\n",
      "체결 용어를 알고 싶어요\n",
      "제14조(계약 전 알릴 의무)\n",
      "계약 전 알릴 의무는 무엇인가요\n",
      "제15조(계약 전 알릴 의무 위반의 효과)\n",
      "제25조(제1회 보험료 및 회사의\n",
      "보장이 언제 시작되나요\n",
      "보장개시)\n",
      "청약을 철회하고 싶어요 제18조(청약의 철회)\n",
      "계약을 취소 할 수 있나요 제19조(약관교부 및 설명의무 등)\n",
      "계약이 무효가 될 수 있나요 제20조(계약의 무효)\n",
      "보험료의 보험료 납입면제\n",
      "제5조(보험금 지급에 관한 세부규정)\n",
      "납입 사유를 알고 싶어요\n",
      "보험료 납입최고(독촉)이 제28조(보험료의 납입이 연체되는 경우\n",
      "무엇인가요 납입최고(독촉)와 계약의 해지)\n",
      "제29조(보험료의 납입연체로 인하여\n",
      "해지된 계약을 살리고 싶어요\n",
      "해지된 계약의 부활(효력회복))\n",
      "보험금의 제4조(보험금의 지급사유),\n",
      "보험금을 받을 수 있는지 궁금해요\n",
      "지급 제6조(보험금을 지급하지 않는 사유)\n",
      "제8조(보험금의 청구),\n",
      "보험금은 언제 지급되나요\n",
      "제9조(보험금의 지급절차)\n",
      "11\u0000/\u0000235\n",
      "{'source': '한화생명 The스마트한 일시납종신보험_1912-061~072_20230916~.pdf', 'type': '일시납종신보험_1912-061~072_20230916~', 'timestamp': 1705029988.7518115}\n",
      "---------------------\n"
     ]
    }
   ],
   "source": [
    "# query = \"보험금을 지급하지 않는 재해\"\n",
    "query = opensearch_utils.get_query(\n",
    "    query=query\n",
    ")\n",
    "\n",
    "print(\"query: \", query)\n",
    "response = opensearch_utils.search_document(os_client, query, new_index_name)\n",
    "opensearch_utils.parse_keyword_response(response, show_size=3)"
   ]
  },
  {
   "cell_type": "markdown",
   "id": "672ac896-637d-4ca5-bf69-b5750aafdfda",
   "metadata": {
    "tags": []
   },
   "source": [
    "## 형태소 분석 결과 확인\n",
    "\"약관\" 또는 \"뱅킹\" 확인 <BR>\n",
    "#### [중요]:  doc_id: 위의 문서 인덱스 정보 확인 후 수정"
   ]
  },
  {
   "cell_type": "code",
   "execution_count": 37,
   "id": "57b6455e-ed40-461d-bfb2-71a4f6027525",
   "metadata": {
    "tags": []
   },
   "outputs": [],
   "source": [
    "doc_id = \"b21bf2f2-4e8e-43da-8728-f52b1bbc5bb9\"\n",
    "#doc_id = \"29b3a9bf-7edf-4893-9791-d5c05f5f20b5\" "
   ]
  },
  {
   "cell_type": "markdown",
   "id": "2085afd4-849e-4a32-8913-a9f4390bcf62",
   "metadata": {
    "tags": []
   },
   "source": [
    "* without tokenizer"
   ]
  },
  {
   "cell_type": "code",
   "execution_count": 38,
   "id": "63d7832a-be76-447c-869f-d22a451e8aa0",
   "metadata": {
    "scrolled": true,
    "tags": []
   },
   "outputs": [
    {
     "data": {
      "text/plain": [
       "{'_index': 'genai-demo-index-v1',\n",
       " '_id': 'b21bf2f2-4e8e-43da-8728-f52b1bbc5bb9',\n",
       " '_version': 0,\n",
       " 'found': False,\n",
       " 'took': 0}"
      ]
     },
     "execution_count": 38,
     "metadata": {},
     "output_type": "execute_result"
    }
   ],
   "source": [
    "os_client.termvectors(index=index_name, id=doc_id, fields='text')"
   ]
  },
  {
   "cell_type": "markdown",
   "id": "d37ede8b-c80c-417b-bd7a-cd9fb6774210",
   "metadata": {
    "tags": []
   },
   "source": [
    "* with tokenizer"
   ]
  },
  {
   "cell_type": "code",
   "execution_count": 39,
   "id": "fcebfd6b-a750-4a56-8f8c-10403389ac66",
   "metadata": {
    "scrolled": true,
    "tags": []
   },
   "outputs": [
    {
     "data": {
      "text/plain": [
       "{'_index': 'genai-demo-index-v1-with-tokenizer',\n",
       " '_id': 'b21bf2f2-4e8e-43da-8728-f52b1bbc5bb9',\n",
       " '_version': 0,\n",
       " 'found': False,\n",
       " 'took': 14}"
      ]
     },
     "execution_count": 39,
     "metadata": {},
     "output_type": "execute_result"
    }
   ],
   "source": [
    "os_client.termvectors(index=new_index_name, id=doc_id, fields='text')"
   ]
  },
  {
   "cell_type": "markdown",
   "id": "897a3428-2aae-48a8-9484-940c9ce92b55",
   "metadata": {},
   "source": [
    "## Minimum_should_match 활용\n",
    "- An optional parameter of type string that represents the minimum number of matching clauses for a document to be returned. This should only be used with “OR” operator, and is more flexible than a simple “and/or,” since users can set rules depending on the length of the phrase to be matched. \n",
    "    - **query에 있는 단어의 n%이상 존재하는 문서만 가져온다**\n",
    "    - 75% (eg. 3 out of 4 words to be matched, or 6 out of 8)\n",
    "    - 2  (minimum 2 words to be matched, irrespective of length of string)"
   ]
  },
  {
   "cell_type": "markdown",
   "id": "03126278-080c-489c-bd7e-b0520becc5eb",
   "metadata": {},
   "source": [
    "min_shoud_match를 25, 75, 100 으로 변경해 보자\n",
    " - 숫자가 작아질 수록 검색 문서가 많아진다\n",
    " - 추가정보는 아래를 참고\n",
    "     - [OpenSearch Match, Multi-Match, and Match Phrase Queries](https://opster.com/guides/opensearch/opensearch-search-apis/opensearch-match-multi-match-and-match-phrase-queries/)\n",
    "     - OpenSearch Query 에서 Filter, Must, Should, Not Mush 에 대한 설명 입니다.\n",
    "         - [OpenSearch Boolean Queries](https://opster.com/guides/opensearch/opensearch-search-apis/opensearch-boolean-queries/#:~:text=Boolean%20queries%20are%20used%20to,as%20terms%2C%20match%20and%20query_string.)"
   ]
  },
  {
   "cell_type": "markdown",
   "id": "9fb2a3f3-ab24-4c44-b3ac-9f744e732101",
   "metadata": {},
   "source": [
    "##### minimum_should_match=25"
   ]
  },
  {
   "cell_type": "code",
   "execution_count": 40,
   "id": "382a4553-c18b-4812-941b-ef2b9075cfa6",
   "metadata": {
    "tags": []
   },
   "outputs": [
    {
     "name": "stdout",
     "output_type": "stream",
     "text": [
      "query:  {'query': {'bool': {'must': [{'match': {'text': {'query': '{\\'query\\': {\\'bool\\': {\\'must\\': [{\\'match\\': {\\'text\\': {\\'query\\': \"{\\'query\\': {\\'bool\\': {\\'must\\': [{\\'match\\': {\\'text\\': {\\'query\\': \\'계약 전 알릴 의무는 무엇인가요\\', \\'minimum_should_match\\': \\'0%\\', \\'operator\\': \\'or\\'}}}], \\'filter\\': []}}}\", \\'minimum_should_match\\': \\'0%\\', \\'operator\\': \\'or\\'}}}], \\'filter\\': []}}}', 'minimum_should_match': '25%', 'operator': 'or'}}}], 'filter': []}}}\n",
      "# of searched docs:  10\n",
      "# of display: 3\n",
      "---------------------\n",
      "_id in index:  f4d55dbe-e3ea-4f36-8145-51bcc6a1b06a\n",
      "33.004284\n",
      "4. 상황별 목차 안내\n",
      "계약의 계약에서 쓰이는\n",
      "제2조(용어의 정의)\n",
      "체결 용어를 알고 싶어요\n",
      "제14조(계약 전 알릴 의무)\n",
      "계약 전 알릴 의무는 무엇인가요\n",
      "제15조(계약 전 알릴 의무 위반의 효과)\n",
      "보장이 언제 시작되나요 제24조(제1회 보험료 및 회사의 보장개시)\n",
      "청약을 철회하고 싶어요 제18조(청약의 철회)\n",
      "계약을 취소 할 수 있나요 제19조(약관교부 및 설명의무 등)\n",
      "계약이 무효가 될 수 있나요 제20조(계약의 무효)\n",
      "보험료의 보험료 납입면제\n",
      "제6조(보험금 지급에 관한 세부규정)\n",
      "납입 사유를 알고 싶어요\n",
      "보험료 납입최고(독촉)이 제27조(보험료의 납입이 연체되는 경우\n",
      "무엇인가요 납입최고(독촉)와 계약의 해지)\n",
      "제28조(보험료의 납입연체로 인하여\n",
      "해지된 계약을 살리고 싶어요\n",
      "해지된 계약의 부활(효력회복))\n",
      "보험금의 제5조(보험금의 지급사유),\n",
      "보험금을 받을 수 있는지 궁금해요\n",
      "지급 제7조(보험금을 지급하지 않는 사유)\n",
      "제9조(보험금 등의 청구),\n",
      "보험금은 언제 지급되나요\n",
      "제10조(보험금 등의 지급절차)\n",
      "8\u0000/\u0000462\n",
      "{'source': '한화생명 The실속있는 간병치매보험_20240101~.pdf', 'type': '간병치매보험_20240101~', 'timestamp': 1705030030.4172714}\n",
      "---------------------\n",
      "_id in index:  679932b3-af72-4e19-a458-da66ddd61cfe\n",
      "32.932236\n",
      "4. 상황별 목차 안내\n",
      "(1) 해약환급금 보증형\n",
      "계약의 계약에서 쓰이는\n",
      "제2조(용어의정의)\n",
      "체결 용어를 알고 싶어요\n",
      "제14조(계약 전 알릴 의무)\n",
      "계약 전 알릴 의무는 무엇인가요\n",
      "제15조(계약 전 알릴 의무 위반의 효과)\n",
      "보장이 언제 시작되나요 제25조(제1회 보험료 및 회사의 보장개시)\n",
      "청약을 철회하고 싶어요 제18조(청약의 철회)\n",
      "계약을 취소 할 수 있나요 제19조(약관교부 및 설명의무 등)\n",
      "계약이 무효가 될 수 있나요 제20조(계약의 무효)\n",
      "보험료의 보험료 납입면제\n",
      "제5조(보험금 지급에 관한 세부규정)\n",
      "납입 사유를 알고 싶어요\n",
      "보험료 납입최고(독촉)이 제28조(보험료의 납입이 연체되는 경우\n",
      "무엇인가요 납입최고(독촉)와 계약의 해지)\n",
      "제29조(보험료의 납입연체로 인하여\n",
      "해지된 계약을 살리고 싶어요\n",
      "해지된 계약의 부활(효력회복))\n",
      "보험금의 제4조(보험금의 지급사유),\n",
      "보험금을 받을 수 있는지 궁금해요\n",
      "지급 제6조(보험금을 지급하지 않는 사유)\n",
      "제8조(보험금의 청구),\n",
      "보험금은 언제 지급되나요\n",
      "제9조(보험금의 지급절차)\n",
      "9\u0000/\u0000249\n",
      "{'source': '한화생명 The스마트한 일시납종신보험_20240101~.pdf', 'type': '일시납종신보험_20240101~', 'timestamp': 1705029841.2342026}\n",
      "---------------------\n",
      "_id in index:  c8938a67-5268-49d7-adbf-63f8ecb5d75a\n",
      "32.192383\n",
      "(2) 해약환급금 미보증형\n",
      "계약의 계약에서 쓰이는\n",
      "제2조(용어의 정의)\n",
      "체결 용어를 알고 싶어요\n",
      "제14조(계약 전 알릴 의무)\n",
      "계약 전 알릴 의무는 무엇인가요\n",
      "제15조(계약 전 알릴 의무 위반의 효과)\n",
      "제25조(제1회 보험료 및 회사의\n",
      "보장이 언제 시작되나요\n",
      "보장개시)\n",
      "청약을 철회하고 싶어요 제18조(청약의 철회)\n",
      "계약을 취소 할 수 있나요 제19조(약관교부 및 설명의무 등)\n",
      "계약이 무효가 될 수 있나요 제20조(계약의 무효)\n",
      "보험료의 보험료 납입면제\n",
      "제5조(보험금 지급에 관한 세부규정)\n",
      "납입 사유를 알고 싶어요\n",
      "보험료 납입최고(독촉)이 제28조(보험료의 납입이 연체되는 경우\n",
      "무엇인가요 납입최고(독촉)와 계약의 해지)\n",
      "제29조(보험료의 납입연체로 인하여\n",
      "해지된 계약을 살리고 싶어요\n",
      "해지된 계약의 부활(효력회복))\n",
      "보험금의 제4조(보험금의 지급사유),\n",
      "보험금을 받을 수 있는지 궁금해요\n",
      "지급 제6조(보험금을 지급하지 않는 사유)\n",
      "제8조(보험금의 청구),\n",
      "보험금은 언제 지급되나요\n",
      "제9조(보험금의 지급절차)\n",
      "11\u0000/\u0000235\n",
      "{'source': '한화생명 The스마트한 일시납종신보험_1912-061~072_20230916~.pdf', 'type': '일시납종신보험_1912-061~072_20230916~', 'timestamp': 1705029988.7518115}\n",
      "---------------------\n"
     ]
    }
   ],
   "source": [
    "# query = \"인터넷 뱅킹으로 예적금 해약\"\n",
    "query = opensearch_utils.get_query(\n",
    "    query=query,\n",
    "    minimum_should_match=25\n",
    ")\n",
    "\n",
    "print(\"query: \", query)\n",
    "response = opensearch_utils.search_document(os_client, query, new_index_name)\n",
    "opensearch_utils.parse_keyword_response(response, show_size=3)"
   ]
  },
  {
   "cell_type": "markdown",
   "id": "4bb5a050-e322-4299-8868-cc20f90a2ac9",
   "metadata": {},
   "source": [
    "##### minimum_should_match=75"
   ]
  },
  {
   "cell_type": "code",
   "execution_count": 41,
   "id": "d0c01d4b-bfb2-4299-b09d-6eb426a11af0",
   "metadata": {
    "tags": []
   },
   "outputs": [
    {
     "name": "stdout",
     "output_type": "stream",
     "text": [
      "query:  {'query': {'bool': {'must': [{'match': {'text': {'query': '{\\'query\\': {\\'bool\\': {\\'must\\': [{\\'match\\': {\\'text\\': {\\'query\\': \\'{\\\\\\'query\\\\\\': {\\\\\\'bool\\\\\\': {\\\\\\'must\\\\\\': [{\\\\\\'match\\\\\\': {\\\\\\'text\\\\\\': {\\\\\\'query\\\\\\': \"{\\\\\\'query\\\\\\': {\\\\\\'bool\\\\\\': {\\\\\\'must\\\\\\': [{\\\\\\'match\\\\\\': {\\\\\\'text\\\\\\': {\\\\\\'query\\\\\\': \\\\\\'계약 전 알릴 의무는 무엇인가요\\\\\\', \\\\\\'minimum_should_match\\\\\\': \\\\\\'0%\\\\\\', \\\\\\'operator\\\\\\': \\\\\\'or\\\\\\'}}}], \\\\\\'filter\\\\\\': []}}}\", \\\\\\'minimum_should_match\\\\\\': \\\\\\'0%\\\\\\', \\\\\\'operator\\\\\\': \\\\\\'or\\\\\\'}}}], \\\\\\'filter\\\\\\': []}}}\\', \\'minimum_should_match\\': \\'25%\\', \\'operator\\': \\'or\\'}}}], \\'filter\\': []}}}', 'minimum_should_match': '75%', 'operator': 'or'}}}], 'filter': []}}}\n",
      "There is no response\n"
     ]
    }
   ],
   "source": [
    "# query = \"인터넷 뱅킹으로 예적금 해약\"\n",
    "query = opensearch_utils.get_query(\n",
    "    query=query,\n",
    "    minimum_should_match=75\n",
    ")\n",
    "\n",
    "print(\"query: \", query)\n",
    "response = opensearch_utils.search_document(os_client, query, new_index_name)\n",
    "opensearch_utils.parse_keyword_response(response, show_size=3)"
   ]
  },
  {
   "cell_type": "markdown",
   "id": "63a7a41c-8b6d-46d4-bba7-c73e6540032f",
   "metadata": {
    "tags": []
   },
   "source": [
    "##### minimum_should_match=100"
   ]
  },
  {
   "cell_type": "code",
   "execution_count": 42,
   "id": "0b3eaf3d-1636-447d-9e0a-9674370f85a2",
   "metadata": {
    "tags": []
   },
   "outputs": [
    {
     "name": "stdout",
     "output_type": "stream",
     "text": [
      "query:  {'query': {'bool': {'must': [{'match': {'text': {'query': '{\\'query\\': {\\'bool\\': {\\'must\\': [{\\'match\\': {\\'text\\': {\\'query\\': \\'{\\\\\\'query\\\\\\': {\\\\\\'bool\\\\\\': {\\\\\\'must\\\\\\': [{\\\\\\'match\\\\\\': {\\\\\\'text\\\\\\': {\\\\\\'query\\\\\\': \\\\\\'{\\\\\\\\\\\\\\'query\\\\\\\\\\\\\\': {\\\\\\\\\\\\\\'bool\\\\\\\\\\\\\\': {\\\\\\\\\\\\\\'must\\\\\\\\\\\\\\': [{\\\\\\\\\\\\\\'match\\\\\\\\\\\\\\': {\\\\\\\\\\\\\\'text\\\\\\\\\\\\\\': {\\\\\\\\\\\\\\'query\\\\\\\\\\\\\\': \"{\\\\\\\\\\\\\\'query\\\\\\\\\\\\\\': {\\\\\\\\\\\\\\'bool\\\\\\\\\\\\\\': {\\\\\\\\\\\\\\'must\\\\\\\\\\\\\\': [{\\\\\\\\\\\\\\'match\\\\\\\\\\\\\\': {\\\\\\\\\\\\\\'text\\\\\\\\\\\\\\': {\\\\\\\\\\\\\\'query\\\\\\\\\\\\\\': \\\\\\\\\\\\\\'계약 전 알릴 의무는 무엇인가요\\\\\\\\\\\\\\', \\\\\\\\\\\\\\'minimum_should_match\\\\\\\\\\\\\\': \\\\\\\\\\\\\\'0%\\\\\\\\\\\\\\', \\\\\\\\\\\\\\'operator\\\\\\\\\\\\\\': \\\\\\\\\\\\\\'or\\\\\\\\\\\\\\'}}}], \\\\\\\\\\\\\\'filter\\\\\\\\\\\\\\': []}}}\", \\\\\\\\\\\\\\'minimum_should_match\\\\\\\\\\\\\\': \\\\\\\\\\\\\\'0%\\\\\\\\\\\\\\', \\\\\\\\\\\\\\'operator\\\\\\\\\\\\\\': \\\\\\\\\\\\\\'or\\\\\\\\\\\\\\'}}}], \\\\\\\\\\\\\\'filter\\\\\\\\\\\\\\': []}}}\\\\\\', \\\\\\'minimum_should_match\\\\\\': \\\\\\'25%\\\\\\', \\\\\\'operator\\\\\\': \\\\\\'or\\\\\\'}}}], \\\\\\'filter\\\\\\': []}}}\\', \\'minimum_should_match\\': \\'75%\\', \\'operator\\': \\'or\\'}}}], \\'filter\\': []}}}', 'minimum_should_match': '100%', 'operator': 'or'}}}], 'filter': []}}}\n",
      "There is no response\n"
     ]
    }
   ],
   "source": [
    "# query = \"인터넷 뱅킹으로 예적금 해약\"\n",
    "query = opensearch_utils.get_query(\n",
    "    query=query,\n",
    "    minimum_should_match=100\n",
    ")\n",
    "\n",
    "print(\"query: \", query)\n",
    "response = opensearch_utils.search_document(os_client, query, new_index_name)\n",
    "opensearch_utils.parse_keyword_response(response, show_size=3)"
   ]
  },
  {
   "cell_type": "markdown",
   "id": "ef366161-656e-4a4a-a800-c7b4a32bdb9e",
   "metadata": {
    "tags": []
   },
   "source": [
    "## Filter 활용\n",
    "- document내 metadata를 활용하여 search space를 줄일 수 있다.\n",
    "- 특히 filter의 경우 search 전에 수행되기 때문에, 검색 속도 향상을 기대할 수 있다\n",
    "- syntax\n",
    "    - filter=[{\"term\"**[고정]**: {\"metadata.source\"**[메타데이터 이름, 혹은 메타데이터 아니여도 상관없음]**: \"신한은행\"**[조건명]**}},]\n",
    "    - list 형식으로 복수개 filter 설정 가능"
   ]
  },
  {
   "cell_type": "code",
   "execution_count": 43,
   "id": "23e178cf-014c-49e2-89e2-9f2191583f17",
   "metadata": {
    "tags": []
   },
   "outputs": [
    {
     "name": "stdout",
     "output_type": "stream",
     "text": [
      "query:  {'query': {'bool': {'must': [{'match': {'text': {'query': '{\\'query\\': {\\'bool\\': {\\'must\\': [{\\'match\\': {\\'text\\': {\\'query\\': \\'{\\\\\\'query\\\\\\': {\\\\\\'bool\\\\\\': {\\\\\\'must\\\\\\': [{\\\\\\'match\\\\\\': {\\\\\\'text\\\\\\': {\\\\\\'query\\\\\\': \\\\\\'{\\\\\\\\\\\\\\'query\\\\\\\\\\\\\\': {\\\\\\\\\\\\\\'bool\\\\\\\\\\\\\\': {\\\\\\\\\\\\\\'must\\\\\\\\\\\\\\': [{\\\\\\\\\\\\\\'match\\\\\\\\\\\\\\': {\\\\\\\\\\\\\\'text\\\\\\\\\\\\\\': {\\\\\\\\\\\\\\'query\\\\\\\\\\\\\\': \\\\\\\\\\\\\\'{\\\\\\\\\\\\\\\\\\\\\\\\\\\\\\'query\\\\\\\\\\\\\\\\\\\\\\\\\\\\\\': {\\\\\\\\\\\\\\\\\\\\\\\\\\\\\\'bool\\\\\\\\\\\\\\\\\\\\\\\\\\\\\\': {\\\\\\\\\\\\\\\\\\\\\\\\\\\\\\'must\\\\\\\\\\\\\\\\\\\\\\\\\\\\\\': [{\\\\\\\\\\\\\\\\\\\\\\\\\\\\\\'match\\\\\\\\\\\\\\\\\\\\\\\\\\\\\\': {\\\\\\\\\\\\\\\\\\\\\\\\\\\\\\'text\\\\\\\\\\\\\\\\\\\\\\\\\\\\\\': {\\\\\\\\\\\\\\\\\\\\\\\\\\\\\\'query\\\\\\\\\\\\\\\\\\\\\\\\\\\\\\': \"{\\\\\\\\\\\\\\\\\\\\\\\\\\\\\\'query\\\\\\\\\\\\\\\\\\\\\\\\\\\\\\': {\\\\\\\\\\\\\\\\\\\\\\\\\\\\\\'bool\\\\\\\\\\\\\\\\\\\\\\\\\\\\\\': {\\\\\\\\\\\\\\\\\\\\\\\\\\\\\\'must\\\\\\\\\\\\\\\\\\\\\\\\\\\\\\': [{\\\\\\\\\\\\\\\\\\\\\\\\\\\\\\'match\\\\\\\\\\\\\\\\\\\\\\\\\\\\\\': {\\\\\\\\\\\\\\\\\\\\\\\\\\\\\\'text\\\\\\\\\\\\\\\\\\\\\\\\\\\\\\': {\\\\\\\\\\\\\\\\\\\\\\\\\\\\\\'query\\\\\\\\\\\\\\\\\\\\\\\\\\\\\\': \\\\\\\\\\\\\\\\\\\\\\\\\\\\\\'계약 전 알릴 의무는 무엇인가요\\\\\\\\\\\\\\\\\\\\\\\\\\\\\\', \\\\\\\\\\\\\\\\\\\\\\\\\\\\\\'minimum_should_match\\\\\\\\\\\\\\\\\\\\\\\\\\\\\\': \\\\\\\\\\\\\\\\\\\\\\\\\\\\\\'0%\\\\\\\\\\\\\\\\\\\\\\\\\\\\\\', \\\\\\\\\\\\\\\\\\\\\\\\\\\\\\'operator\\\\\\\\\\\\\\\\\\\\\\\\\\\\\\': \\\\\\\\\\\\\\\\\\\\\\\\\\\\\\'or\\\\\\\\\\\\\\\\\\\\\\\\\\\\\\'}}}], \\\\\\\\\\\\\\\\\\\\\\\\\\\\\\'filter\\\\\\\\\\\\\\\\\\\\\\\\\\\\\\': []}}}\", \\\\\\\\\\\\\\\\\\\\\\\\\\\\\\'minimum_should_match\\\\\\\\\\\\\\\\\\\\\\\\\\\\\\': \\\\\\\\\\\\\\\\\\\\\\\\\\\\\\'0%\\\\\\\\\\\\\\\\\\\\\\\\\\\\\\', \\\\\\\\\\\\\\\\\\\\\\\\\\\\\\'operator\\\\\\\\\\\\\\\\\\\\\\\\\\\\\\': \\\\\\\\\\\\\\\\\\\\\\\\\\\\\\'or\\\\\\\\\\\\\\\\\\\\\\\\\\\\\\'}}}], \\\\\\\\\\\\\\\\\\\\\\\\\\\\\\'filter\\\\\\\\\\\\\\\\\\\\\\\\\\\\\\': []}}}\\\\\\\\\\\\\\', \\\\\\\\\\\\\\'minimum_should_match\\\\\\\\\\\\\\': \\\\\\\\\\\\\\'25%\\\\\\\\\\\\\\', \\\\\\\\\\\\\\'operator\\\\\\\\\\\\\\': \\\\\\\\\\\\\\'or\\\\\\\\\\\\\\'}}}], \\\\\\\\\\\\\\'filter\\\\\\\\\\\\\\': []}}}\\\\\\', \\\\\\'minimum_should_match\\\\\\': \\\\\\'75%\\\\\\', \\\\\\'operator\\\\\\': \\\\\\'or\\\\\\'}}}], \\\\\\'filter\\\\\\': []}}}\\', \\'minimum_should_match\\': \\'100%\\', \\'operator\\': \\'or\\'}}}], \\'filter\\': []}}}', 'minimum_should_match': '0%', 'operator': 'or'}}}], 'filter': [{'term': {'metadata.source': '한화생명 The스마트한 일시납종신보험_20240101~.pdf'}}, {'term': {'metadata.type': '일시납종신보험_20240101~'}}]}}}\n",
      "# of searched docs:  10\n",
      "# of display: 3\n",
      "---------------------\n",
      "_id in index:  679932b3-af72-4e19-a458-da66ddd61cfe\n",
      "32.932236\n",
      "4. 상황별 목차 안내\n",
      "(1) 해약환급금 보증형\n",
      "계약의 계약에서 쓰이는\n",
      "제2조(용어의정의)\n",
      "체결 용어를 알고 싶어요\n",
      "제14조(계약 전 알릴 의무)\n",
      "계약 전 알릴 의무는 무엇인가요\n",
      "제15조(계약 전 알릴 의무 위반의 효과)\n",
      "보장이 언제 시작되나요 제25조(제1회 보험료 및 회사의 보장개시)\n",
      "청약을 철회하고 싶어요 제18조(청약의 철회)\n",
      "계약을 취소 할 수 있나요 제19조(약관교부 및 설명의무 등)\n",
      "계약이 무효가 될 수 있나요 제20조(계약의 무효)\n",
      "보험료의 보험료 납입면제\n",
      "제5조(보험금 지급에 관한 세부규정)\n",
      "납입 사유를 알고 싶어요\n",
      "보험료 납입최고(독촉)이 제28조(보험료의 납입이 연체되는 경우\n",
      "무엇인가요 납입최고(독촉)와 계약의 해지)\n",
      "제29조(보험료의 납입연체로 인하여\n",
      "해지된 계약을 살리고 싶어요\n",
      "해지된 계약의 부활(효력회복))\n",
      "보험금의 제4조(보험금의 지급사유),\n",
      "보험금을 받을 수 있는지 궁금해요\n",
      "지급 제6조(보험금을 지급하지 않는 사유)\n",
      "제8조(보험금의 청구),\n",
      "보험금은 언제 지급되나요\n",
      "제9조(보험금의 지급절차)\n",
      "9\u0000/\u0000249\n",
      "{'source': '한화생명 The스마트한 일시납종신보험_20240101~.pdf', 'type': '일시납종신보험_20240101~', 'timestamp': 1705029841.2342026}\n",
      "---------------------\n",
      "_id in index:  3c5a17e3-ba52-4312-9862-556a6975d30a\n",
      "31.997046\n",
      "(2) 해약환급금 미보증형\n",
      "계약의 계약에서 쓰이는\n",
      "제2조(용어의 정의)\n",
      "체결 용어를 알고 싶어요\n",
      "제14조(계약 전 알릴 의무)\n",
      "계약 전 알릴 의무는 무엇인가요\n",
      "제15조(계약 전 알릴 의무 위반의 효과)\n",
      "제25조(제1회 보험료 및 회사의\n",
      "보장이 언제 시작되나요\n",
      "보장개시)\n",
      "청약을 철회하고 싶어요 제18조(청약의 철회)\n",
      "계약을 취소 할 수 있나요 제19조(약관교부 및 설명의무 등)\n",
      "계약이 무효가 될 수 있나요 제20조(계약의 무효)\n",
      "보험료의 보험료 납입면제\n",
      "제5조(보험금 지급에 관한 세부규정)\n",
      "납입 사유를 알고 싶어요\n",
      "보험료 납입최고(독촉)이 제28조(보험료의 납입이 연체되는 경우\n",
      "무엇인가요 납입최고(독촉)와 계약의 해지)\n",
      "제29조(보험료의 납입연체로 인하여\n",
      "해지된 계약을 살리고 싶어요\n",
      "해지된 계약의 부활(효력회복))\n",
      "보험금의 제4조(보험금의 지급사유),\n",
      "보험금을 받을 수 있는지 궁금해요\n",
      "지급 제6조(보험금을 지급하지 않는 사유)\n",
      "제8조(보험금의 청구),\n",
      "보험금은 언제 지급되나요\n",
      "제9조(보험금의 지급절차)\n",
      "11\u0000/\u0000249\n",
      "{'source': '한화생명 The스마트한 일시납종신보험_20240101~.pdf', 'type': '일시납종신보험_20240101~', 'timestamp': 1705029841.4403694}\n",
      "---------------------\n",
      "_id in index:  822d37f5-2e84-4f64-9438-24fdbb5494d0\n",
      "30.730938\n",
      "한화생명 The스마트한 일시납종신보험 무배당[보증비용부과형](해약환급금 미보증)\n",
      "주계약 약관\n",
      "제 1 관 목적 및 용어의 정의\n",
      "제 1 조 목적\n",
      "이 보험계약(이하 ‘계약’이라 합니다)은 보험계약자(이하 ‘계약자’라 합니다)와 보험회사(이하 ‘회사’라 합니\n",
      "다) 사이에 제4조(보험금의 지급사유)에 해당하는 피보험자의 위험을 보장하기 위하여 체결됩니다.\n",
      "제 2 조 용어의 정의\n",
      "이 계약에서 사용되는 용어의 정의는, 이 계약의 다른 조항에서 달리 정의되지 않는 한 다음과 같습니다.\n",
      "1. 계약관계 관련 용어\n",
      "가. 계약자: 회사와 계약을 체결하고 보험료를 납입할 의무를 지는 사람을 말합니다.\n",
      "나. 보험수익자: 보험금 지급사유가 발생하는 때에 회사에 보험금을 청구하여 받을 수 있는 사람을 말\n",
      "합니다.\n",
      "다. 보험증권: 계약의 성립과 그 내용을 증명하기 위하여 회사가 계약자에게 드리는 증서를 말합니다.\n",
      "라. 진단계약: 계약을 체결하기 위하여 피보험자가 건강진단을 받아야 하는 계약을 말합니다.\n",
      "마. 피보험자: 보험사고의 대상이 되는 사람을 말합니다.\n",
      "2. 지급사유 관련 용어\n",
      "가. 재해: 별표 3 ‘재해분류표’에서 정한 재해를 말합니다.\n",
      "나. 중요한 사항: 계약 전 알릴 의무와 관련하여 회사가 그 사실을 알았더라면 계약의 청약을 거절하\n",
      "거나 보험가입금액 한도 제한, 일부 보장 제외, 보험금 삭감, 보험료 할증과 같이 조건부로 승낙하\n",
      "는 등 계약 승낙에 영향을 미칠 수 있는 사항을 말합니다.\n",
      "3. 지급금과 이자율 관련 용어\n",
      "가. 연단위 복리: 회사가 지급할 금전에 이자를 줄 때 1년마다 마지막 날에 그 이자를 원금에 더한 금\n",
      "액을 다음 1년의 원금으로 하는 이자 계산방법을 말합니다.\n",
      "【 연단위 복리 예시 】\n",
      "연시시점(1월1일) 원금 10,000원 투자, 연간 2% 이자율 적용시 계산 예시\n",
      "· 1년차 이자 = 10,000원 × 2% = 200원\n",
      "원금\n",
      "· 2년차 이자 = (10,000원 + 200원) × 2% = 204원\n",
      "원금 1년차 이자\n",
      "나. 평균공시이율: 전체 보험회사 공시이율의 평균으로, 이 계약 체결 시점의 이율을 말하며, 평균공시\n",
      "이율은 금융감독원 홈페이지(www.fss.or.kr)에서 확인할 수 있습니다.\n",
      "다. 산출이율: 이 계약의 보험료 및 해약환급금 산출방법서(이하 ‘산출방법서’라 합니다)’에서 정한 보\n",
      "험료 산출이율을 말합니다.\n",
      "라. 해약환급금: 계약이 해지되는 때에 회사가 계약자에게 돌려주는 금액을 말합니다.\n",
      "4. 기간과 날짜 관련 용어\n",
      "가. 보험기간: 계약에 따라 보장을 받는 기간을 말합니다.\n",
      "나. 영업일: 회사가 영업점에서 정상적으로 영업하는 날을 말하며, 토요일, ‘관공서의 공휴일에 관한 규\n",
      "정’에 따른 공휴일 및 대체공휴일, 근로자의 날은 제외합니다.\n",
      "다. 월계약해당일: 보험계약일부터 한 달씩 경과되는 매월의 계약 해당일을 말합니다. 다만, 해당월의\n",
      "계약 해당일이 없는 경우에는 해당월의 말일을 계약 해당일로 합니다.\n",
      "5. 보험료 관련 용어\n",
      "가. 기준보험료 및 기본보험료: 일시납보험료\n",
      "나. 추가납입보험료: 기본보험료 이외에 보험계약 성립 후부터 보험기간 중에 추가로 납입하는 보험료\n",
      "61\u0000/\u0000249\n",
      "{'source': '한화생명 The스마트한 일시납종신보험_20240101~.pdf', 'type': '일시납종신보험_20240101~', 'timestamp': 1705029853.3185368}\n",
      "---------------------\n"
     ]
    }
   ],
   "source": [
    "# query = \"인터넷 뱅킹으로 예적금 해약\"\n",
    "query = opensearch_utils.get_query(\n",
    "    query=query,\n",
    "    minimum_should_match=0,\n",
    "    filter=[\n",
    "        {\"term\": {\"metadata.source\": \"한화생명 The스마트한 일시납종신보험_20240101~.pdf\"}},\n",
    "        {\"term\": {\"metadata.type\": \"일시납종신보험_20240101~\"}},\n",
    "    ]\n",
    ")\n",
    "\n",
    "print(\"query: \", query)\n",
    "response = opensearch_utils.search_document(os_client, query, new_index_name)\n",
    "opensearch_utils.parse_keyword_response(response, show_size=3)"
   ]
  },
  {
   "cell_type": "markdown",
   "id": "8be2605d-4e07-4163-808e-9315777215b8",
   "metadata": {},
   "source": [
    "## tokenized index example (참고용)"
   ]
  },
  {
   "cell_type": "code",
   "execution_count": 44,
   "id": "e031809c-75e9-4f0d-a430-ae983fed1c80",
   "metadata": {
    "tags": []
   },
   "outputs": [],
   "source": [
    "test_index_info = {\n",
    "    \"settings\": {\n",
    "        \"index\": {\n",
    "            \"number_of_shards\": \"5\",\n",
    "            \"knn.algo_param\": {\"ef_search\": \"512\"},\n",
    "            \"knn\": \"true\",\n",
    "            \"number_of_replicas\": \"2\"\n",
    "        },\n",
    "        \"analysis\": {\n",
    "            \"tokenizer\": {\n",
    "                \"nori\": {\n",
    "                    \"type\": \"nori_tokenizer\"\n",
    "                }\n",
    "            },\n",
    "            \"analyzer\": {\n",
    "                \"my_analyzer\": {\n",
    "                    \"type\": \"custom\",\n",
    "                    \"tokenizer\": \"nori\"\n",
    "                }\n",
    "            }\n",
    "        }\n",
    "    },\n",
    "    \"mappings\": {\n",
    "        \"properties\": {\n",
    "            \"metadata\": {\n",
    "                \"properties\": {\n",
    "                    \"row\": {\"type\": \"long\"},\n",
    "                    \"source\": {\n",
    "                        \"type\": \"text\",\n",
    "                        \"fields\": {\n",
    "                            \"keyword\": {\n",
    "                                \"type\": \"keyword\",\n",
    "                                \"ignore_above\": 256\n",
    "                            }\n",
    "                        }\n",
    "                    },\n",
    "                    \"timestamp\": {\"type\": \"float\"},\n",
    "                    \"type\": {\n",
    "                        \"type\": \"text\",\n",
    "                        \"fields\": {\n",
    "                            \"keyword\": {\n",
    "                                \"type\": \"keyword\",\n",
    "                                \"ignore_above\": 256\n",
    "                            }\n",
    "                        }\n",
    "                    }\n",
    "                }\n",
    "            },\n",
    "            \"text\": {\n",
    "                \"type\": \"text\",\n",
    "                \"analyzer\": \"my_analyzer\",\n",
    "                \"search_analyzer\": \"my_analyzer\",\n",
    "                \"fields\": {\n",
    "                    \"keyword\": {\n",
    "                        \"type\": \"keyword\",\n",
    "                        \"ignore_above\": 256\n",
    "                    }\n",
    "                }\n",
    "            },\n",
    "            \"vector_field\": {\n",
    "                \"type\": \"knn_vector\",\n",
    "                \"dimension\": 1536,\n",
    "                \"method\": {\n",
    "                    \"engine\": \"nmslib\",\n",
    "                    \"space_type\": \"l2\",\n",
    "                    \"name\": \"hnsw\",\n",
    "                    \"parameters\": {\n",
    "                        \"ef_construction\": 512,\n",
    "                        \"m\": 16\n",
    "                    }\n",
    "                }\n",
    "            }\n",
    "        }\n",
    "    }\n",
    "}"
   ]
  },
  {
   "cell_type": "code",
   "execution_count": null,
   "id": "1fff9486-cd90-4117-8019-76e0524c69cd",
   "metadata": {},
   "outputs": [],
   "source": []
  }
 ],
 "metadata": {
  "availableInstances": [
   {
    "_defaultOrder": 0,
    "_isFastLaunch": true,
    "category": "General purpose",
    "gpuNum": 0,
    "hideHardwareSpecs": false,
    "memoryGiB": 4,
    "name": "ml.t3.medium",
    "vcpuNum": 2
   },
   {
    "_defaultOrder": 1,
    "_isFastLaunch": false,
    "category": "General purpose",
    "gpuNum": 0,
    "hideHardwareSpecs": false,
    "memoryGiB": 8,
    "name": "ml.t3.large",
    "vcpuNum": 2
   },
   {
    "_defaultOrder": 2,
    "_isFastLaunch": false,
    "category": "General purpose",
    "gpuNum": 0,
    "hideHardwareSpecs": false,
    "memoryGiB": 16,
    "name": "ml.t3.xlarge",
    "vcpuNum": 4
   },
   {
    "_defaultOrder": 3,
    "_isFastLaunch": false,
    "category": "General purpose",
    "gpuNum": 0,
    "hideHardwareSpecs": false,
    "memoryGiB": 32,
    "name": "ml.t3.2xlarge",
    "vcpuNum": 8
   },
   {
    "_defaultOrder": 4,
    "_isFastLaunch": true,
    "category": "General purpose",
    "gpuNum": 0,
    "hideHardwareSpecs": false,
    "memoryGiB": 8,
    "name": "ml.m5.large",
    "vcpuNum": 2
   },
   {
    "_defaultOrder": 5,
    "_isFastLaunch": false,
    "category": "General purpose",
    "gpuNum": 0,
    "hideHardwareSpecs": false,
    "memoryGiB": 16,
    "name": "ml.m5.xlarge",
    "vcpuNum": 4
   },
   {
    "_defaultOrder": 6,
    "_isFastLaunch": false,
    "category": "General purpose",
    "gpuNum": 0,
    "hideHardwareSpecs": false,
    "memoryGiB": 32,
    "name": "ml.m5.2xlarge",
    "vcpuNum": 8
   },
   {
    "_defaultOrder": 7,
    "_isFastLaunch": false,
    "category": "General purpose",
    "gpuNum": 0,
    "hideHardwareSpecs": false,
    "memoryGiB": 64,
    "name": "ml.m5.4xlarge",
    "vcpuNum": 16
   },
   {
    "_defaultOrder": 8,
    "_isFastLaunch": false,
    "category": "General purpose",
    "gpuNum": 0,
    "hideHardwareSpecs": false,
    "memoryGiB": 128,
    "name": "ml.m5.8xlarge",
    "vcpuNum": 32
   },
   {
    "_defaultOrder": 9,
    "_isFastLaunch": false,
    "category": "General purpose",
    "gpuNum": 0,
    "hideHardwareSpecs": false,
    "memoryGiB": 192,
    "name": "ml.m5.12xlarge",
    "vcpuNum": 48
   },
   {
    "_defaultOrder": 10,
    "_isFastLaunch": false,
    "category": "General purpose",
    "gpuNum": 0,
    "hideHardwareSpecs": false,
    "memoryGiB": 256,
    "name": "ml.m5.16xlarge",
    "vcpuNum": 64
   },
   {
    "_defaultOrder": 11,
    "_isFastLaunch": false,
    "category": "General purpose",
    "gpuNum": 0,
    "hideHardwareSpecs": false,
    "memoryGiB": 384,
    "name": "ml.m5.24xlarge",
    "vcpuNum": 96
   },
   {
    "_defaultOrder": 12,
    "_isFastLaunch": false,
    "category": "General purpose",
    "gpuNum": 0,
    "hideHardwareSpecs": false,
    "memoryGiB": 8,
    "name": "ml.m5d.large",
    "vcpuNum": 2
   },
   {
    "_defaultOrder": 13,
    "_isFastLaunch": false,
    "category": "General purpose",
    "gpuNum": 0,
    "hideHardwareSpecs": false,
    "memoryGiB": 16,
    "name": "ml.m5d.xlarge",
    "vcpuNum": 4
   },
   {
    "_defaultOrder": 14,
    "_isFastLaunch": false,
    "category": "General purpose",
    "gpuNum": 0,
    "hideHardwareSpecs": false,
    "memoryGiB": 32,
    "name": "ml.m5d.2xlarge",
    "vcpuNum": 8
   },
   {
    "_defaultOrder": 15,
    "_isFastLaunch": false,
    "category": "General purpose",
    "gpuNum": 0,
    "hideHardwareSpecs": false,
    "memoryGiB": 64,
    "name": "ml.m5d.4xlarge",
    "vcpuNum": 16
   },
   {
    "_defaultOrder": 16,
    "_isFastLaunch": false,
    "category": "General purpose",
    "gpuNum": 0,
    "hideHardwareSpecs": false,
    "memoryGiB": 128,
    "name": "ml.m5d.8xlarge",
    "vcpuNum": 32
   },
   {
    "_defaultOrder": 17,
    "_isFastLaunch": false,
    "category": "General purpose",
    "gpuNum": 0,
    "hideHardwareSpecs": false,
    "memoryGiB": 192,
    "name": "ml.m5d.12xlarge",
    "vcpuNum": 48
   },
   {
    "_defaultOrder": 18,
    "_isFastLaunch": false,
    "category": "General purpose",
    "gpuNum": 0,
    "hideHardwareSpecs": false,
    "memoryGiB": 256,
    "name": "ml.m5d.16xlarge",
    "vcpuNum": 64
   },
   {
    "_defaultOrder": 19,
    "_isFastLaunch": false,
    "category": "General purpose",
    "gpuNum": 0,
    "hideHardwareSpecs": false,
    "memoryGiB": 384,
    "name": "ml.m5d.24xlarge",
    "vcpuNum": 96
   },
   {
    "_defaultOrder": 20,
    "_isFastLaunch": false,
    "category": "General purpose",
    "gpuNum": 0,
    "hideHardwareSpecs": true,
    "memoryGiB": 0,
    "name": "ml.geospatial.interactive",
    "supportedImageNames": [
     "sagemaker-geospatial-v1-0"
    ],
    "vcpuNum": 0
   },
   {
    "_defaultOrder": 21,
    "_isFastLaunch": true,
    "category": "Compute optimized",
    "gpuNum": 0,
    "hideHardwareSpecs": false,
    "memoryGiB": 4,
    "name": "ml.c5.large",
    "vcpuNum": 2
   },
   {
    "_defaultOrder": 22,
    "_isFastLaunch": false,
    "category": "Compute optimized",
    "gpuNum": 0,
    "hideHardwareSpecs": false,
    "memoryGiB": 8,
    "name": "ml.c5.xlarge",
    "vcpuNum": 4
   },
   {
    "_defaultOrder": 23,
    "_isFastLaunch": false,
    "category": "Compute optimized",
    "gpuNum": 0,
    "hideHardwareSpecs": false,
    "memoryGiB": 16,
    "name": "ml.c5.2xlarge",
    "vcpuNum": 8
   },
   {
    "_defaultOrder": 24,
    "_isFastLaunch": false,
    "category": "Compute optimized",
    "gpuNum": 0,
    "hideHardwareSpecs": false,
    "memoryGiB": 32,
    "name": "ml.c5.4xlarge",
    "vcpuNum": 16
   },
   {
    "_defaultOrder": 25,
    "_isFastLaunch": false,
    "category": "Compute optimized",
    "gpuNum": 0,
    "hideHardwareSpecs": false,
    "memoryGiB": 72,
    "name": "ml.c5.9xlarge",
    "vcpuNum": 36
   },
   {
    "_defaultOrder": 26,
    "_isFastLaunch": false,
    "category": "Compute optimized",
    "gpuNum": 0,
    "hideHardwareSpecs": false,
    "memoryGiB": 96,
    "name": "ml.c5.12xlarge",
    "vcpuNum": 48
   },
   {
    "_defaultOrder": 27,
    "_isFastLaunch": false,
    "category": "Compute optimized",
    "gpuNum": 0,
    "hideHardwareSpecs": false,
    "memoryGiB": 144,
    "name": "ml.c5.18xlarge",
    "vcpuNum": 72
   },
   {
    "_defaultOrder": 28,
    "_isFastLaunch": false,
    "category": "Compute optimized",
    "gpuNum": 0,
    "hideHardwareSpecs": false,
    "memoryGiB": 192,
    "name": "ml.c5.24xlarge",
    "vcpuNum": 96
   },
   {
    "_defaultOrder": 29,
    "_isFastLaunch": true,
    "category": "Accelerated computing",
    "gpuNum": 1,
    "hideHardwareSpecs": false,
    "memoryGiB": 16,
    "name": "ml.g4dn.xlarge",
    "vcpuNum": 4
   },
   {
    "_defaultOrder": 30,
    "_isFastLaunch": false,
    "category": "Accelerated computing",
    "gpuNum": 1,
    "hideHardwareSpecs": false,
    "memoryGiB": 32,
    "name": "ml.g4dn.2xlarge",
    "vcpuNum": 8
   },
   {
    "_defaultOrder": 31,
    "_isFastLaunch": false,
    "category": "Accelerated computing",
    "gpuNum": 1,
    "hideHardwareSpecs": false,
    "memoryGiB": 64,
    "name": "ml.g4dn.4xlarge",
    "vcpuNum": 16
   },
   {
    "_defaultOrder": 32,
    "_isFastLaunch": false,
    "category": "Accelerated computing",
    "gpuNum": 1,
    "hideHardwareSpecs": false,
    "memoryGiB": 128,
    "name": "ml.g4dn.8xlarge",
    "vcpuNum": 32
   },
   {
    "_defaultOrder": 33,
    "_isFastLaunch": false,
    "category": "Accelerated computing",
    "gpuNum": 4,
    "hideHardwareSpecs": false,
    "memoryGiB": 192,
    "name": "ml.g4dn.12xlarge",
    "vcpuNum": 48
   },
   {
    "_defaultOrder": 34,
    "_isFastLaunch": false,
    "category": "Accelerated computing",
    "gpuNum": 1,
    "hideHardwareSpecs": false,
    "memoryGiB": 256,
    "name": "ml.g4dn.16xlarge",
    "vcpuNum": 64
   },
   {
    "_defaultOrder": 35,
    "_isFastLaunch": false,
    "category": "Accelerated computing",
    "gpuNum": 1,
    "hideHardwareSpecs": false,
    "memoryGiB": 61,
    "name": "ml.p3.2xlarge",
    "vcpuNum": 8
   },
   {
    "_defaultOrder": 36,
    "_isFastLaunch": false,
    "category": "Accelerated computing",
    "gpuNum": 4,
    "hideHardwareSpecs": false,
    "memoryGiB": 244,
    "name": "ml.p3.8xlarge",
    "vcpuNum": 32
   },
   {
    "_defaultOrder": 37,
    "_isFastLaunch": false,
    "category": "Accelerated computing",
    "gpuNum": 8,
    "hideHardwareSpecs": false,
    "memoryGiB": 488,
    "name": "ml.p3.16xlarge",
    "vcpuNum": 64
   },
   {
    "_defaultOrder": 38,
    "_isFastLaunch": false,
    "category": "Accelerated computing",
    "gpuNum": 8,
    "hideHardwareSpecs": false,
    "memoryGiB": 768,
    "name": "ml.p3dn.24xlarge",
    "vcpuNum": 96
   },
   {
    "_defaultOrder": 39,
    "_isFastLaunch": false,
    "category": "Memory Optimized",
    "gpuNum": 0,
    "hideHardwareSpecs": false,
    "memoryGiB": 16,
    "name": "ml.r5.large",
    "vcpuNum": 2
   },
   {
    "_defaultOrder": 40,
    "_isFastLaunch": false,
    "category": "Memory Optimized",
    "gpuNum": 0,
    "hideHardwareSpecs": false,
    "memoryGiB": 32,
    "name": "ml.r5.xlarge",
    "vcpuNum": 4
   },
   {
    "_defaultOrder": 41,
    "_isFastLaunch": false,
    "category": "Memory Optimized",
    "gpuNum": 0,
    "hideHardwareSpecs": false,
    "memoryGiB": 64,
    "name": "ml.r5.2xlarge",
    "vcpuNum": 8
   },
   {
    "_defaultOrder": 42,
    "_isFastLaunch": false,
    "category": "Memory Optimized",
    "gpuNum": 0,
    "hideHardwareSpecs": false,
    "memoryGiB": 128,
    "name": "ml.r5.4xlarge",
    "vcpuNum": 16
   },
   {
    "_defaultOrder": 43,
    "_isFastLaunch": false,
    "category": "Memory Optimized",
    "gpuNum": 0,
    "hideHardwareSpecs": false,
    "memoryGiB": 256,
    "name": "ml.r5.8xlarge",
    "vcpuNum": 32
   },
   {
    "_defaultOrder": 44,
    "_isFastLaunch": false,
    "category": "Memory Optimized",
    "gpuNum": 0,
    "hideHardwareSpecs": false,
    "memoryGiB": 384,
    "name": "ml.r5.12xlarge",
    "vcpuNum": 48
   },
   {
    "_defaultOrder": 45,
    "_isFastLaunch": false,
    "category": "Memory Optimized",
    "gpuNum": 0,
    "hideHardwareSpecs": false,
    "memoryGiB": 512,
    "name": "ml.r5.16xlarge",
    "vcpuNum": 64
   },
   {
    "_defaultOrder": 46,
    "_isFastLaunch": false,
    "category": "Memory Optimized",
    "gpuNum": 0,
    "hideHardwareSpecs": false,
    "memoryGiB": 768,
    "name": "ml.r5.24xlarge",
    "vcpuNum": 96
   },
   {
    "_defaultOrder": 47,
    "_isFastLaunch": false,
    "category": "Accelerated computing",
    "gpuNum": 1,
    "hideHardwareSpecs": false,
    "memoryGiB": 16,
    "name": "ml.g5.xlarge",
    "vcpuNum": 4
   },
   {
    "_defaultOrder": 48,
    "_isFastLaunch": false,
    "category": "Accelerated computing",
    "gpuNum": 1,
    "hideHardwareSpecs": false,
    "memoryGiB": 32,
    "name": "ml.g5.2xlarge",
    "vcpuNum": 8
   },
   {
    "_defaultOrder": 49,
    "_isFastLaunch": false,
    "category": "Accelerated computing",
    "gpuNum": 1,
    "hideHardwareSpecs": false,
    "memoryGiB": 64,
    "name": "ml.g5.4xlarge",
    "vcpuNum": 16
   },
   {
    "_defaultOrder": 50,
    "_isFastLaunch": false,
    "category": "Accelerated computing",
    "gpuNum": 1,
    "hideHardwareSpecs": false,
    "memoryGiB": 128,
    "name": "ml.g5.8xlarge",
    "vcpuNum": 32
   },
   {
    "_defaultOrder": 51,
    "_isFastLaunch": false,
    "category": "Accelerated computing",
    "gpuNum": 1,
    "hideHardwareSpecs": false,
    "memoryGiB": 256,
    "name": "ml.g5.16xlarge",
    "vcpuNum": 64
   },
   {
    "_defaultOrder": 52,
    "_isFastLaunch": false,
    "category": "Accelerated computing",
    "gpuNum": 4,
    "hideHardwareSpecs": false,
    "memoryGiB": 192,
    "name": "ml.g5.12xlarge",
    "vcpuNum": 48
   },
   {
    "_defaultOrder": 53,
    "_isFastLaunch": false,
    "category": "Accelerated computing",
    "gpuNum": 4,
    "hideHardwareSpecs": false,
    "memoryGiB": 384,
    "name": "ml.g5.24xlarge",
    "vcpuNum": 96
   },
   {
    "_defaultOrder": 54,
    "_isFastLaunch": false,
    "category": "Accelerated computing",
    "gpuNum": 8,
    "hideHardwareSpecs": false,
    "memoryGiB": 768,
    "name": "ml.g5.48xlarge",
    "vcpuNum": 192
   },
   {
    "_defaultOrder": 55,
    "_isFastLaunch": false,
    "category": "Accelerated computing",
    "gpuNum": 8,
    "hideHardwareSpecs": false,
    "memoryGiB": 1152,
    "name": "ml.p4d.24xlarge",
    "vcpuNum": 96
   },
   {
    "_defaultOrder": 56,
    "_isFastLaunch": false,
    "category": "Accelerated computing",
    "gpuNum": 8,
    "hideHardwareSpecs": false,
    "memoryGiB": 1152,
    "name": "ml.p4de.24xlarge",
    "vcpuNum": 96
   }
  ],
  "instance_type": "ml.m5.2xlarge",
  "kernelspec": {
   "display_name": "conda_python3",
   "language": "python",
   "name": "conda_python3"
  },
  "language_info": {
   "codemirror_mode": {
    "name": "ipython",
    "version": 3
   },
   "file_extension": ".py",
   "mimetype": "text/x-python",
   "name": "python",
   "nbconvert_exporter": "python",
   "pygments_lexer": "ipython3",
   "version": "3.10.13"
  },
  "vscode": {
   "interpreter": {
    "hash": "4b8e647a79df62bf31906a725b05de775d285962ac600487339d38c51a5c07b1"
   }
  }
 },
 "nbformat": 4,
 "nbformat_minor": 5
}
