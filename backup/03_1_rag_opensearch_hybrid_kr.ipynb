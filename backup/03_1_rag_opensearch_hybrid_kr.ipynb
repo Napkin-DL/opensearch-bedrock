{
 "cells": [
  {
   "cell_type": "markdown",
   "id": "66d8ea21-3477-4e3d-ad9e-0944aa956a13",
   "metadata": {
    "tags": []
   },
   "source": [
    "# OpenSearch Hybrid 검색을 통한 RAG\n",
    ">이 노트북은,\n",
    "> - SageMaker Studio* **`Data Science 3.0`** kernel 및 ml.t3.medium 인스턴스에서 테스트 되었습니다.\n",
    "> - SageMaker Notebook **`conda_python3`** 에서 테스트 되었습니다.\n",
    "\n",
    "\n",
    "---\n",
    "### 중요\n",
    "- 이 노트북은 Anthropic 의 Claude-v2 모델 접근 가능한 분만 실행 가능합니다. \n",
    "- 접근이 안되시는 분은 노트북의 코드와 결과 만을 확인 하시면 좋겠습니다.\n",
    "- 만일 실행시에는 **\"과금\"** 이 발생이 되는 부분 유념 해주시기 바랍니다.\n",
    "\n",
    "### 선수조건\n",
    "- 이 노트북은 이전 노트북인 \"02_1_KR_RAG_OpenSearch_Keyword.ipynb\" 이 완료 되었다고 가정 합니다.\n",
    "    - 오픈서치 인텍스 관련 정보를 참조 합니다.\n",
    "\n",
    "### Methods and Resources for Hybrid search with Re-ranking \n",
    "- Score Normalization\n",
    "    - [MinMax based](https://towardsdatascience.com/text-search-vs-vector-search-better-together-3bd48eb6132a)\n",
    "    - [z-socre based](https://towardsdatascience.com/hybrid-search-2-0-the-pursuit-of-better-search-ce44d6f20c08)\n",
    "- Reciprocal Rank Fusion (RRF)\n",
    "    - [Paper](https://plg.uwaterloo.ca/~gvcormac/cormacksigir09-rrf.pdf)\n",
    "    - [Description](https://medium.com/@sowmiyajaganathan/hybrid-search-with-re-ranking-ff120c8a426d)\n",
    "- [LangChain API for Ensemble Retriever](https://python.langchain.com/docs/modules/data_connection/retrievers/ensemble)"
   ]
  },
  {
   "cell_type": "markdown",
   "id": "8c44d5e2-9a9b-442d-837b-9f11a04abc83",
   "metadata": {},
   "source": [
    "### 설정\n",
    "\n",
    "이 노트북의 나머지 부분을 실행하기 전에 아래 셀을 실행하여 (필요한 라이브러리가 설치되어 있는지 확인하고) Bedrock에 연결해야 합니다\n"
   ]
  },
  {
   "cell_type": "code",
   "execution_count": 3,
   "id": "4080f1c3",
   "metadata": {
    "tags": []
   },
   "outputs": [],
   "source": [
    "import boto3\n",
    "region = boto3.Session().region_name\n",
    "opensearch = boto3.client('opensearch', region)\n",
    "\n",
    "%store -r opensearch_user_id opensearch_user_password domain_name opensearch_domain_endpoint new_index_name\n",
    "\n",
    "try:\n",
    "    opensearch_user_id\n",
    "    opensearch_user_password\n",
    "    domain_name\n",
    "    opensearch_domain_endpoint\n",
    "   \n",
    "except NameError:\n",
    "    print(\"++++++++++++++++++++++++++++++++++++++++++++++++++++++++++++++++++++++++++++\")\n",
    "    print(\"[ERROR] Run 00_setup notebook first or Create Your Own OpenSearch Domain\")\n",
    "    print(\"++++++++++++++++++++++++++++++++++++++++++++++++++++++++++++++++++++++++++++\")"
   ]
  },
  {
   "cell_type": "code",
   "execution_count": 4,
   "id": "1f02e5a4-7de5-4eb2-abb2-37e2c4036295",
   "metadata": {
    "tags": []
   },
   "outputs": [
    {
     "name": "stdout",
     "output_type": "stream",
     "text": [
      "The autoreload extension is already loaded. To reload it, use:\n",
      "  %reload_ext autoreload\n"
     ]
    }
   ],
   "source": [
    "%load_ext autoreload\n",
    "%autoreload 2\n",
    "\n",
    "import sys, os\n",
    "module_path = \"..\"\n",
    "sys.path.append(os.path.abspath(module_path))"
   ]
  },
  {
   "cell_type": "markdown",
   "id": "7ffeb0e6-b8ce-4fc0-8371-cad833146d66",
   "metadata": {
    "tags": []
   },
   "source": [
    "# 1. Bedrock Client 생성"
   ]
  },
  {
   "cell_type": "code",
   "execution_count": 5,
   "id": "33e8e72e-d6bc-4a0a-b7f5-99abfd674a3c",
   "metadata": {
    "tags": []
   },
   "outputs": [
    {
     "name": "stdout",
     "output_type": "stream",
     "text": [
      "Create new client\n",
      "  Using region: None\n",
      "  Using profile: None\n",
      "boto3 Bedrock client successfully created!\n",
      "bedrock-runtime(https://bedrock-runtime.us-west-2.amazonaws.com)\n",
      "\u001b[32m\n",
      "== FM lists ==\u001b[0m\n",
      "{'Claude-Instant-V1': 'anthropic.claude-instant-v1',\n",
      " 'Claude-V1': 'anthropic.claude-v1',\n",
      " 'Claude-V2': 'anthropic.claude-v2',\n",
      " 'Claude-V2-1': 'anthropic.claude-v2:1',\n",
      " 'Cohere-Embeddings-En': 'cohere.embed-english-v3',\n",
      " 'Cohere-Embeddings-Multilingual': 'cohere.embed-multilingual-v3',\n",
      " 'Command': 'cohere.command-text-v14',\n",
      " 'Command-Light': 'cohere.command-light-text-v14',\n",
      " 'Jurassic-2-Mid': 'ai21.j2-mid-v1',\n",
      " 'Jurassic-2-Ultra': 'ai21.j2-ultra-v1',\n",
      " 'Llama2-13b-Chat': 'meta.llama2-13b-chat-v1',\n",
      " 'Titan-Embeddings-G1': 'amazon.titan-embed-text-v1',\n",
      " 'Titan-Text-G1': 'amazon.titan-text-express-v1',\n",
      " 'Titan-Text-G1-Light': 'amazon.titan-text-lite-v1'}\n"
     ]
    }
   ],
   "source": [
    "import json\n",
    "import boto3\n",
    "from pprint import pprint\n",
    "from termcolor import colored\n",
    "from utils import bedrock, print_ww\n",
    "from utils.bedrock import bedrock_info\n",
    "\n",
    "# ---- ⚠️ Un-comment and edit the below lines as needed for your AWS setup ⚠️ ----\n",
    "\n",
    "# os.environ[\"AWS_DEFAULT_REGION\"] = \"<REGION_NAME>\"  # E.g. \"us-east-1\"\n",
    "# os.environ[\"AWS_PROFILE\"] = \"<YOUR_PROFILE>\"\n",
    "# os.environ[\"BEDROCK_ASSUME_ROLE\"] = \"<YOUR_ROLE_ARN>\"  # E.g. \"arn:aws:...\"\n",
    "# os.environ[\"BEDROCK_ENDPOINT_URL\"] = \"<YOUR_ENDPOINT_URL>\"  # E.g. \"https://...\"\n",
    "\n",
    "\n",
    "boto3_bedrock = bedrock.get_bedrock_client(\n",
    "    assumed_role=os.environ.get(\"BEDROCK_ASSUME_ROLE\", None),\n",
    "    endpoint_url=os.environ.get(\"BEDROCK_ENDPOINT_URL\", None),\n",
    "    region=os.environ.get(\"AWS_DEFAULT_REGION\", None),\n",
    ")\n",
    "\n",
    "print (colored(\"\\n== FM lists ==\", \"green\"))\n",
    "pprint (bedrock_info.get_list_fm_models())"
   ]
  },
  {
   "cell_type": "markdown",
   "id": "d1d9f671-0306-4960-b532-25647ce64d97",
   "metadata": {},
   "source": [
    "# 2. Titan Embedding 및 LLM 인 Claude-v2 모델 로딩"
   ]
  },
  {
   "cell_type": "markdown",
   "id": "6171f58d-fc04-408b-9ca5-e25e0f916929",
   "metadata": {},
   "source": [
    "## LLM 로딩 (Claude-v2.1)"
   ]
  },
  {
   "cell_type": "code",
   "execution_count": 6,
   "id": "8b497a63-128c-4c7c-96ac-6f266c3bbd2c",
   "metadata": {
    "tags": []
   },
   "outputs": [],
   "source": [
    "from langchain.llms.bedrock import Bedrock\n",
    "from langchain.callbacks.streaming_stdout import StreamingStdOutCallbackHandler"
   ]
  },
  {
   "cell_type": "code",
   "execution_count": 7,
   "id": "1a6afc9a-0502-40cd-be9e-7b3151f3ad71",
   "metadata": {
    "tags": []
   },
   "outputs": [
    {
     "data": {
      "text/plain": [
       "Bedrock(client=<botocore.client.BedrockRuntime object at 0x7f78537708e0>, model_id='anthropic.claude-v2:1', model_kwargs={'max_tokens_to_sample': 512}, streaming=True, callbacks=[<langchain_core.callbacks.streaming_stdout.StreamingStdOutCallbackHandler object at 0x7f7881742a10>])"
      ]
     },
     "execution_count": 7,
     "metadata": {},
     "output_type": "execute_result"
    }
   ],
   "source": [
    "# - create the Anthropic Model\n",
    "llm_text = Bedrock(\n",
    "    model_id=bedrock_info.get_model_id(model_name=\"Claude-V2-1\"),\n",
    "    client=boto3_bedrock,\n",
    "    model_kwargs={\n",
    "        \"max_tokens_to_sample\": 512\n",
    "    },\n",
    "    streaming=True,\n",
    "    callbacks=[StreamingStdOutCallbackHandler()]\n",
    ")\n",
    "llm_text"
   ]
  },
  {
   "cell_type": "markdown",
   "id": "dca0867f-4a42-49b3-9801-d169bb176918",
   "metadata": {},
   "source": [
    "## Embedding 모델 선택"
   ]
  },
  {
   "cell_type": "code",
   "execution_count": 8,
   "id": "19277289-b417-467a-bfdf-9c710cc7f0ba",
   "metadata": {
    "tags": []
   },
   "outputs": [
    {
     "name": "stderr",
     "output_type": "stream",
     "text": [
      "/home/ec2-user/anaconda3/envs/python3/lib/python3.10/site-packages/pandas/core/computation/expressions.py:21: UserWarning: Pandas requires version '2.8.0' or newer of 'numexpr' (version '2.7.3' currently installed).\n",
      "  from pandas.core.computation.check import NUMEXPR_INSTALLED\n"
     ]
    }
   ],
   "source": [
    "from utils.rag import KoSimCSERobertaContentHandler, SagemakerEndpointEmbeddingsJumpStart\n",
    "\n",
    "def get_embedding_model(is_bedrock_embeddings, is_KoSimCSERobert, aws_region, endpont_name=None):\n",
    "    if is_bedrock_embeddings:\n",
    "\n",
    "        # We will be using the Titan Embeddings Model to generate our Embeddings.\n",
    "        from langchain.embeddings import BedrockEmbeddings\n",
    "        llm_emb = BedrockEmbeddings(\n",
    "            client=boto3_bedrock,\n",
    "            model_id=bedrock_info.get_model_id(\n",
    "                model_name=\"Titan-Embeddings-G1\"\n",
    "            )\n",
    "        )\n",
    "        print(\"Bedrock Embeddings Model Loaded\")\n",
    "\n",
    "    elif is_KoSimCSERobert:\n",
    "        LLMEmbHandler = KoSimCSERobertaContentHandler()\n",
    "        endpoint_name_emb = endpont_name\n",
    "        llm_emb = SagemakerEndpointEmbeddingsJumpStart(\n",
    "            endpoint_name=endpoint_name_emb,\n",
    "            region_name=aws_region,\n",
    "            content_handler=LLMEmbHandler,\n",
    "        )        \n",
    "        print(\"KoSimCSERobert Embeddings Model Loaded\")\n",
    "    else:\n",
    "        llm_emb = None\n",
    "        print(\"No Embedding Model Selected\")\n",
    "    \n",
    "    return llm_emb"
   ]
  },
  {
   "cell_type": "markdown",
   "id": "456492cc-edee-4ad9-ac14-bee9f24109f6",
   "metadata": {},
   "source": [
    "#### [중요] is_KoSimCSERobert == True 일시에 endpoint_name 을 꼭 넣어 주세요."
   ]
  },
  {
   "cell_type": "code",
   "execution_count": 11,
   "id": "548af020-92ad-48d2-bf2d-773e3fb98398",
   "metadata": {
    "tags": []
   },
   "outputs": [
    {
     "name": "stdout",
     "output_type": "stream",
     "text": [
      "Bedrock Embeddings Model Loaded\n"
     ]
    }
   ],
   "source": [
    "is_bedrock_embeddings = True\n",
    "is_KoSimCSERobert = False\n",
    "\n",
    "aws_region = os.environ.get(\"AWS_DEFAULT_REGION\", None)\n",
    "\n",
    "##############################\n",
    "# Parameters for is_KoSimCSERobert\n",
    "##############################\n",
    "if is_KoSimCSERobert: endpont_name = \"<endpoint-name>\"\n",
    "else: endpont_name = None\n",
    "##############################\n",
    "\n",
    "llm_emb = get_embedding_model(is_bedrock_embeddings, is_KoSimCSERobert, aws_region, endpont_name)    "
   ]
  },
  {
   "cell_type": "markdown",
   "id": "d32bac51-d495-44a6-8c8e-10b62c4780e9",
   "metadata": {
    "tags": []
   },
   "source": [
    "# 3. LangChain OpenSearch VectorStore 생성 \n",
    "## 선수 조건\n",
    "- 이전 노트북 02_1_KR_RAG_OpenSearch_Keyword.ipynb 또는 02_1_KR_RAG_OpenSearch_Semantic.ipynb를 통해서 OpenSearch Index 가 생성이 되어 있어야 합니다."
   ]
  },
  {
   "cell_type": "markdown",
   "id": "e33dd908-116d-4726-bd40-b473216f169c",
   "metadata": {},
   "source": [
    "## 오픈 서치 도메인 및 인증 정보 세팅\n",
    "\n",
    "- [langchain.vectorstores.opensearch_vector_search.OpenSearchVectorSearch](https://api.python.langchain.com/en/latest/vectorstores/langchain.vectorstores.opensearch_vector_search.OpenSearchVectorSearch.html)"
   ]
  },
  {
   "cell_type": "markdown",
   "id": "eee1be0a-aefc-46f6-827f-2f711a262f0e",
   "metadata": {},
   "source": [
    "#### [중요] 02_1_rag_opensearch_lexical_kr.ipynb를 통해 opensearch의 \"genai-demo-index-v1-with-tokenizer\" 인덱스가 생성되어 있어야 합니다."
   ]
  },
  {
   "cell_type": "code",
   "execution_count": 12,
   "id": "5600464b-0e54-4e4b-be13-12fdcecee02c",
   "metadata": {
    "tags": []
   },
   "outputs": [],
   "source": [
    "http_auth = (opensearch_user_id, opensearch_user_password) # Master username, Master password\n",
    "index_name = \"genai-demo-index-v1-with-tokenizer\""
   ]
  },
  {
   "cell_type": "markdown",
   "id": "739c0cbc-547a-4f1c-80a2-de30149641a2",
   "metadata": {
    "tags": []
   },
   "source": [
    "## LangChain OpenSearch VectorStore 생성"
   ]
  },
  {
   "cell_type": "code",
   "execution_count": 13,
   "id": "92a97a8d-0949-4a72-a0b9-c83003cfbd44",
   "metadata": {
    "tags": []
   },
   "outputs": [],
   "source": [
    "from langchain.vectorstores import OpenSearchVectorSearch\n",
    "vector_db = OpenSearchVectorSearch(\n",
    "    index_name=index_name,\n",
    "    opensearch_url=opensearch_domain_endpoint,\n",
    "    embedding_function=llm_emb,\n",
    "    http_auth=http_auth, # http_auth\n",
    "    is_aoss =False,\n",
    "    engine=\"faiss\",\n",
    "    space_type=\"l2\"\n",
    ")"
   ]
  },
  {
   "cell_type": "markdown",
   "id": "f5eb9b0f-b62b-412a-a6dd-351e23d93cea",
   "metadata": {},
   "source": [
    "## OpenSearch Client 생성"
   ]
  },
  {
   "cell_type": "code",
   "execution_count": 14,
   "id": "52ad59ce-768d-49f3-b032-97d2364c66fe",
   "metadata": {
    "tags": []
   },
   "outputs": [],
   "source": [
    "from utils.opensearch import opensearch_utils\n",
    "os_client = opensearch_utils.create_aws_opensearch_client(\n",
    "    aws_region,\n",
    "    opensearch_domain_endpoint,\n",
    "    http_auth\n",
    ")"
   ]
  },
  {
   "cell_type": "markdown",
   "id": "55c17e66-f19f-4260-adbe-42ef3751cd18",
   "metadata": {
    "tags": []
   },
   "source": [
    "## 형태소 분석기 (nori_tokenizer) 사용하기 in Opensearch\n",
    "- 형태소 분석기에 대한 자세한 사항은 02_1_KR_RAG_OpenSearch_Keyword.ipynb 참고"
   ]
  },
  {
   "cell_type": "markdown",
   "id": "0d5bf7b7-d003-46d5-b3b7-bdde9ad5191e",
   "metadata": {},
   "source": [
    "### 인덱스 확인 (tokenization 확인)"
   ]
  },
  {
   "cell_type": "code",
   "execution_count": 15,
   "id": "f5f4620e-0720-4d04-96f9-828888ffa9bc",
   "metadata": {
    "tags": []
   },
   "outputs": [
    {
     "name": "stdout",
     "output_type": "stream",
     "text": [
      "{'genai-demo-index-v1-with-tokenizer': {'aliases': {},\n",
      "                                        'mappings': {'properties': {'metadata': {'properties': {'source': {'type': 'keyword'},\n",
      "                                                                                                'timestamp': {'type': 'float'},\n",
      "                                                                                                'type': {'type': 'keyword'}}},\n",
      "                                                                    'text': {'analyzer': 'my_analyzer',\n",
      "                                                                             'fields': {'keyword': {'ignore_above': 256,\n",
      "                                                                                                    'type': 'keyword'}},\n",
      "                                                                             'type': 'text'},\n",
      "                                                                    'vector_field': {'dimension': 1536,\n",
      "                                                                                     'method': {'engine': 'faiss',\n",
      "                                                                                                'name': 'hnsw',\n",
      "                                                                                                'parameters': {'ef_construction': 512,\n",
      "                                                                                                               'm': 16},\n",
      "                                                                                                'space_type': 'l2'},\n",
      "                                                                                     'type': 'knn_vector'}}},\n",
      "                                        'settings': {'index': {'analysis': {'analyzer': {'my_analyzer': {'char_filter': ['html_strip'],\n",
      "                                                                                                         'filter': ['nori_number',\n",
      "                                                                                                                    'nori_readingform',\n",
      "                                                                                                                    'lowercase'],\n",
      "                                                                                                         'tokenizer': 'nori',\n",
      "                                                                                                         'type': 'custom'}},\n",
      "                                                                            'tokenizer': {'nori': {'decompound_mode': 'mixed',\n",
      "                                                                                                   'discard_punctuation': 'true',\n",
      "                                                                                                   'type': 'nori_tokenizer'}}},\n",
      "                                                               'creation_date': '1705042667379',\n",
      "                                                               'knn': 'true',\n",
      "                                                               'knn.algo_param': {'ef_search': '512'},\n",
      "                                                               'number_of_replicas': '2',\n",
      "                                                               'number_of_shards': '5',\n",
      "                                                               'provided_name': 'genai-demo-index-v1-with-tokenizer',\n",
      "                                                               'replication': {'type': 'DOCUMENT'},\n",
      "                                                               'uuid': 'GHBKEFfiRiOc3DX5TxjiEQ',\n",
      "                                                               'version': {'created': '136327827'}}}}}\n"
     ]
    }
   ],
   "source": [
    "index_info = os_client.indices.get(index=index_name)\n",
    "pprint(index_info)"
   ]
  },
  {
   "cell_type": "markdown",
   "id": "83a8087c-8285-469d-af4b-e0f0afb7e95a",
   "metadata": {
    "tags": []
   },
   "source": [
    "# 4. 오픈 서치에 \"유사 서치\" 검색\n",
    "- query 를 제공해서 실제로 유사한 내용이 검색이 되는지를 확인 합니다.\n",
    "\n"
   ]
  },
  {
   "cell_type": "markdown",
   "id": "1507daa4-7642-4288-9c87-df37d54958b0",
   "metadata": {},
   "source": [
    "- similarity_search_with_score API 정보\n",
    "    - [API: similarity_search_with_score](https://api.python.langchain.com/en/latest/vectorstores/langchain.vectorstores.opensearch_vector_search.OpenSearchVectorSearch.html#langchain.vectorstores.opensearch_vector_search.OpenSearchVectorSearch.similarity_search)"
   ]
  },
  {
   "cell_type": "code",
   "execution_count": 16,
   "id": "5ab42354-7478-4d4b-9f07-782ba701617f",
   "metadata": {
    "tags": []
   },
   "outputs": [],
   "source": [
    "import copy\n",
    "from langchain.schema import Document\n",
    "from langchain import PromptTemplate\n",
    "from operator import itemgetter"
   ]
  },
  {
   "cell_type": "markdown",
   "id": "c5d67b3b-0e7f-427e-b7e6-9bcbce12fe4e",
   "metadata": {},
   "source": [
    "## (1) OpenSearch Vector 검색"
   ]
  },
  {
   "cell_type": "markdown",
   "id": "ef54c091-f018-47ed-b1eb-d7c31a1f9343",
   "metadata": {},
   "source": [
    "### 프로프트 템플릿 생성"
   ]
  },
  {
   "cell_type": "code",
   "execution_count": 17,
   "id": "942c11cb-b9a2-4601-b7b3-3b1c119dc6f9",
   "metadata": {
    "tags": []
   },
   "outputs": [],
   "source": [
    "from utils.rag import run_RetrievalQA, show_context_used\n",
    "from langchain.prompts import PromptTemplate"
   ]
  },
  {
   "cell_type": "markdown",
   "id": "a435c89b-e096-468d-baa2-6d2035458bd6",
   "metadata": {},
   "source": [
    "### [TIP] Prompt의 instruction의 경우 한글보다 **영어**로 했을 때 더 좋은 결과를 얻을 수 있습니다."
   ]
  },
  {
   "cell_type": "code",
   "execution_count": 18,
   "id": "ca6fd51a-ae36-46f3-82be-2a6787d00e0c",
   "metadata": {
    "tags": []
   },
   "outputs": [],
   "source": [
    "# prompt_template = \"\"\"\n",
    "# \\n\\nHuman: 다음 문맥의 Information을 사용하여 고객 서비스 센터 직원처럼, 마지막 질문에 대한 목차 형식으로 답변을 제공하세요. 응답을 모르면 모른다고 말하고 응답을 만들려고 하지 마세요.\n",
    "\n",
    "# {context}\n",
    "\n",
    "# Question: {question}\n",
    "# \\n\\nAssistant:\"\"\"\n",
    "\n",
    "prompt_template = \"\"\"\n",
    "\n",
    "\n",
    "Human: Here is the context, inside <context></context> XML tags.\n",
    "\n",
    "<context>\n",
    "{context}\n",
    "</context>\n",
    "\n",
    "Only using the contex as above, answer the following question with the rules as below:\n",
    "    - Don't insert XML tag such as <context> and </context> when answering.\n",
    "    - Write as much as you can\n",
    "    - Be courteous and polite\n",
    "    - Only answer the question if you can find the answer in the context with certainty.\n",
    "\n",
    "Question:\n",
    "{question}\n",
    "\n",
    "If the answer is not in the context, just say \"주어진 내용에서 관련 답변을 찾을 수 없습니다.\"\n",
    "\n",
    "\n",
    "Assistant:\"\"\"\n",
    "\n",
    "PROMPT = PromptTemplate(\n",
    "    template=prompt_template, input_variables=[\"context\", \"question\"]\n",
    ")\n"
   ]
  },
  {
   "cell_type": "markdown",
   "id": "805f86f7-9177-4f3b-9931-2056250210e2",
   "metadata": {},
   "source": [
    "### 필터 생성"
   ]
  },
  {
   "cell_type": "code",
   "execution_count": 24,
   "id": "04e47cb1-c213-47a3-bb39-c682db5af4bc",
   "metadata": {
    "tags": []
   },
   "outputs": [
    {
     "name": "stdout",
     "output_type": "stream",
     "text": [
      "[{'term': {'metadata.type': '간병치매보험_20240101~'}},\n",
      " {'term': {'metadata.source': '한화생명 The실속있는 '\n",
      "                              '간병치매보험_20240101~.pdf'}}]\n"
     ]
    }
   ],
   "source": [
    "filter01 = '간병치매보험_20240101~'\n",
    "filter02 = '한화생명 The실속있는 간병치매보험_20240101~.pdf'\n",
    "\n",
    "query = \"계약 전 알릴 의무는 무엇인가요\"\n",
    "\n",
    "boolean_filter = [\n",
    "    {\"term\": {\"metadata.type\": filter01}},\n",
    "    {\"term\": {\"metadata.source\": filter02}},\n",
    "]\n",
    "\n",
    "pprint(boolean_filter)"
   ]
  },
  {
   "cell_type": "markdown",
   "id": "39bf26f0-2a8c-4e2f-9fbb-fb8a5c3bf227",
   "metadata": {},
   "source": [
    "### LangChain RetrievalQA 를 통해 실행\n",
    "- 아래와 같이 top_k = 5 를 실행하면 해당 관련 Context 를 가져오지 못하고 , \"주어진 내용에서 찾을 수 없습니다\" 라고 답변 함."
   ]
  },
  {
   "cell_type": "code",
   "execution_count": 25,
   "id": "19ef0a3e-ab46-4a6e-b7ad-520781484038",
   "metadata": {
    "tags": []
   },
   "outputs": [
    {
     "name": "stdout",
     "output_type": "stream",
     "text": [
      "\n",
      "\n",
      "\u001b[1m> Entering new RetrievalQA chain...\u001b[0m\n",
      "\n",
      "\n",
      "\u001b[1m> Entering new StuffDocumentsChain chain...\u001b[0m\n",
      "\n",
      "\n",
      "\u001b[1m> Entering new LLMChain chain...\u001b[0m\n",
      "Prompt after formatting:\n",
      "\u001b[32;1m\u001b[1;3m\n",
      "\n",
      "\n",
      "Human: Here is the context, inside <context></context> XML tags.\n",
      "\n",
      "<context>\n",
      "다.\n",
      "제 3 관 계약자의 계약 전 알릴 의무 등\n",
      "제 14 조 계약 전 알릴 의무\n",
      "계약자 또는 피보험자는 청약할 때(진단계약의 경우에는 건강진단할 때를 말합니다) 청약서에서 질문한\n",
      "사항에 대하여 알고 있는 사실을 반드시 사실대로 알려야(이하 ‘계약 전 알릴 의무’라 하며, 상법상 ‘고\n",
      "지의무’와 같습니다)합니다. 다만, 진단계약에서 의료법 제3조(의료기관)의 규정에 따른 종합병원과 병원\n",
      "에서 직장 또는 개인이 실시한 건강진단서 사본 등 건강상태를 판단할 수 있는 자료로 건강진단을 대신\n",
      "할 수 있습니다.\n",
      "【계약 전 알릴 의무】\n",
      "상법 제651조(고지의무 위반으로 인한 계약해지)에서 정하고 있는 의무. 보험계약자나 피보험자는 청\n",
      "약시에 보험회사가 질문한 중요한 사항에 대해 사실대로 알려야 하며, 위반시 보험계약의 해지 또는\n",
      "보험금 부지급 등 불이익을 당할 수 있습니다.\n",
      "제 15 조 계약 전 알릴 의무 위반의 효과\n",
      "① 회사는 계약자 또는 피보험자가 제14조(계약 전 알릴 의무)에도 불구하고 고의 또는 중대한 과실로\n",
      "중요한 사항에 대하여 사실과 다르게 알린 경우에는 회사가 별도로 정하는 방법에 따라 계약을 해지하\n",
      "거나 보장을 제한할 수 있습니다. 그러나 다음 중 한 가지에 해당되는 때에는 계약을 해지하거나 보장\n",
      "을 제한할 수 없습니다.\n",
      "1. 회사가 계약 당시에 그 사실을 알았거나 과실로 인하여 알지 못하였을 때\n",
      "2. 회사가 그 사실을 안 날부터 1개월 이상 지났거나 또는 보장개시일부터 보험금 지급사유가 발생하\n",
      "지 않고 2년(진단계약의 경우 질병에 대하여는 1년)이 지났을 때\n",
      "3. 계약을 체결한 날부터 3년이 지났을 때\n",
      "4. 회사가 이 계약을 청약할 때 피보험자의 건강상태를 판단할 수 있는 기초자료(건강진단서 사본 등)\n",
      "에 따라 승낙한 경우에 건강진단서 사본 등에 명기되어 있는 사항으로 보험금 지급사유가 발생하였\n",
      "을 때(계약자 또는 피보험자가 회사에 제출한 기초자료의 내용 중 중요사항을 고의로 사실과 다르\n",
      "게 작성한 때에는 계약을 해지하거나 보장을 제한할 수 있습니다)\n",
      "5. 보험설계사 등이 계약자 또는 피보험자에게 고지할 기회를 주지 않았거나 계약자 또는 피보험자가\n",
      "사실대로 고지하는 것을 방해한 경우, 계약자 또는 피보험자에게 사실대로 고지하지 않게 하였거나\n",
      "부실한 고지를 권유했을 때\n",
      "다만, 보험설계사 등의 행위가 없었다 하더라도 계약자 또는 피보험자가 사실대로 고지하지 않거나\n",
      "부실한 고지를 했다고 인정되는 경우에는 계약을 해지하거나 보장을 제한할 수 있습니다.\n",
      "② 회사는 제1항에 따라 계약을 해지하거나 보장을 제한할 경우에는 계약 전 알릴 의무 위반사실(계약\n",
      "해지 등의 원인이 되는 위반사실을 구체적으로 명시)뿐만 아니라 계약 전 알릴 의무 사항이 중요한 사\n",
      "항에 해당되는 사유 및 계약의 처리결과를 ‘반대증거가 있는 경우 이의를 제기할 수 있습니다’라는 문구\n",
      "와 함께 계약자에게 서면 또는 전자문서 등으로 알려 드립니다. 회사가 전자문서로 안내하고자 할 경우\n",
      "에는 계약자에게 서면 또는 「전자서명법」 제2조 제2호에 따른 전자서명으로 동의를 얻어 수신확인을\n",
      "조건으로 전자문서를 송신하여야 합니다. 계약자의 전자문서 수신이 확인되기 전까지는 그 전자문서는\n",
      "송신되지 않은 것으로 봅니다. 회사는 전자문서가 수신되지 않은 것을 확인한 경우에는 서면(등기우편\n",
      "등)으로 다시 알려드립니다.\n",
      "③ 제1항에 따라 계약을 해지하였을 때에는 제33조(해약환급금) 제1항 및 제2항에 따른 해약환급금을\n",
      "드리며, 보장을 제한하였을 때에는 보험료, 보험가입금액 등이 조정될 수 있습니다.\n",
      "④ 제14조(계약 전 알릴 의무)의 계약 전 알릴 의무를 위반한 사실이 보험금 지급사유 발생에 영향을\n",
      "미쳤음을 회사가 증명하지 못한 경우에는 제1항에도 불구하고 계약의 해지 또는 보장을 제한하기 이전\n",
      "까지 발생한 해당 보험금을 지급합니다.\n",
      "37\u0000/\u0000462\n",
      "</context>\n",
      "\n",
      "Only using the contex as above, answer the following question with the rules as below:\n",
      "    - Don't insert XML tag such as <context> and </context> when answering.\n",
      "    - Write as much as you can\n",
      "    - Be courteous and polite\n",
      "    - Only answer the question if you can find the answer in the context with certainty.\n",
      "\n",
      "Question:\n",
      "계약 전 알릴 의무는 무엇인가요\n",
      "\n",
      "If the answer is not in the context, just say \"주어진 내용에서 관련 답변을 찾을 수 없습니다.\"\n",
      "\n",
      "\n",
      "Assistant:\u001b[0m\n",
      " 계약 전 알릴 의무란 청약할 때(진단계약의 경우에는 건강진단할 때를 말합니다) 청약서에서 질문한 사항에 대하여 알고 있는 사실을 반드시 사실대로 알려야 하는 의무를 말합니다. \n",
      "\u001b[1m> Finished chain.\u001b[0m\n",
      "\n",
      "\u001b[1m> Finished chain.\u001b[0m\n",
      "\n",
      "\u001b[1m> Finished chain.\u001b[0m\n",
      "##################################\n",
      "query:  계약 전 알릴 의무는 무엇인가요\n",
      "boolean_filter:  [{'term': {'metadata.type': '간병치매보험_20240101~'}}, {'term': {'metadata.source': '한화생명 The실속있는 간병치매보험_20240101~.pdf'}}]\n",
      "##################################\n",
      "\u001b[34m\n",
      "\n",
      "### Answer ###\u001b[0m\n",
      " 계약 전 알릴 의무란 청약할 때(진단계약의 경우에는 건강진단할 때를 말합니다) 청약서에서 질문한 사항에 대하여 알고 있는 사실을 반드시 사실대로 알려야 하는 의무를 말합니다.\n",
      "\u001b[32m\n",
      "\n",
      "### Contexts ###\u001b[0m\n",
      "-----------------------------------------------\n",
      "1. Chunk: 1873 Characters\n",
      "-----------------------------------------------\n",
      "다.\n",
      "제 3 관 계약자의 계약 전 알릴 의무 등\n",
      "제 14 조 계약 전 알릴 의무\n",
      "계약자 또는 피보험자는 청약할 때(진단계약의 경우에는 건강진단할 때를 말합니다) 청약서에서 질문한\n",
      "사항에 대하여 알고 있는 사실을 반드시 사실대로 알려야(이하 ‘계약 전 알릴 의무’라 하며, 상법상 ‘고\n",
      "지의무’와 같습니다)합니다. 다만, 진단계약에서 의료법 제3조(의료기관)의 규정에 따른 종합병원과 병원\n",
      "에서 직장 또는 개인이 실시한 건강진단서 사본 등 건강상태를 판단할 수 있는 자료로 건강진단을 대신\n",
      "할 수 있습니다.\n",
      "【계약 전 알릴 의무】\n",
      "상법 제651조(고지의무 위반으로 인한 계약해지)에서 정하고 있는 의무. 보험계약자나 피보험자는 청\n",
      "약시에 보험회사가 질문한 중요한 사항에 대해 사실대로 알려야 하며, 위반시 보험계약의 해지 또는\n",
      "보험금 부지급 등 불이익을 당할 수 있습니다.\n",
      "제 15 조 계약 전 알릴 의무 위반의 효과\n",
      "① 회사는 계약자 또는 피보험자가 제14조(계약 전 알릴 의무)에도 불구하고 고의 또는 중대한 과실로\n",
      "중요한 사항에 대하여 사실과 다르게 알린 경우에는 회사가 별도로 정하는 방법에 따라 계약을 해지하\n",
      "거나 보장을 제한할 수 있습니다. 그러나 다음 중 한 가지에 해당되는 때에는 계약을 해지하거나 보장\n",
      "을 제한할 수 없습니다.\n",
      "1. 회사가 계약 당시에 그 사실을 알았거나 과실로 인하여 알지 못하였을 때\n",
      "2. 회사가 그 사실을 안 날부터 1개월 이상 지났거나 또는 보장개시일부터 보험금 지급사유가 발생하\n",
      "지 않고 2년(진단계약의 경우 질병에 대하여는 1년)이 지났을 때\n",
      "3. 계약을 체결한 날부터 3년이 지났을 때\n",
      "4. 회사가 이 계약을 청약할 때 피보험자의 건강상태를 판단할 수 있는 기초자료(건강진단서 사본 등)\n",
      "에 따라 승낙한 경우에 건강진단서 사본 등에 명기되어 있는 사항으로 보험금 지급사유가 발생하였\n",
      "을 때(계약자 또는 피보험자가 회사에 제출한 기초자료의 내용 중 중요사항을 고의로 사실과 다르\n",
      "게 작성한 때에는 계약을 해지하거나 보장을 제한할 수 있습니다)\n",
      "5. 보험설계사 등이 계약자 또는 피보험자에게 고지할 기회를 주지 않았거나 계약자 또는 피보험자가\n",
      "사실대로 고지하는 것을 방해한 경우, 계약자 또는 피보험자에게 사실대로 고지하지 않게 하였거나\n",
      "부실한 고지를 권유했을 때\n",
      "다만, 보험설계사 등의 행위가 없었다 하더라도 계약자 또는 피보험자가 사실대로 고지하지 않거나\n",
      "부실한 고지를 했다고 인정되는 경우에는 계약을 해지하거나 보장을 제한할 수 있습니다.\n",
      "② 회사는 제1항에 따라 계약을 해지하거나 보장을 제한할 경우에는 계약 전 알릴 의무 위반사실(계약\n",
      "해지 등의 원인이 되는 위반사실을 구체적으로 명시)뿐만 아니라 계약 전 알릴 의무 사항이 중요한 사\n",
      "항에 해당되는 사유 및 계약의 처리결과를 ‘반대증거가 있는 경우 이의를 제기할 수 있습니다’라는 문구\n",
      "와 함께 계약자에게 서면 또는 전자문서 등으로 알려 드립니다. 회사가 전자문서로 안내하고자 할 경우\n",
      "에는 계약자에게 서면 또는 「전자서명법」 제2조 제2호에 따른 전자서명으로 동의를 얻어 수신확인을\n",
      "조건으로 전자문서를 송신하여야 합니다. 계약자의 전자문서 수신이 확인되기 전까지는 그 전자문서는\n",
      "송신되지 않은 것으로 봅니다. 회사는 전자문서가 수신되지 않은 것을 확인한 경우에는 서면(등기우편\n",
      "등)으로 다시 알려드립니다.\n",
      "③ 제1항에 따라 계약을 해지하였을 때에는 제33조(해약환급금) 제1항 및 제2항에 따른 해약환급금을\n",
      "드리며, 보장을 제한하였을 때에는 보험료, 보험가입금액 등이 조정될 수 있습니다.\n",
      "④ 제14조(계약 전 알릴 의무)의 계약 전 알릴 의무를 위반한 사실이 보험금 지급사유 발생에 영향을\n",
      "미쳤음을 회사가 증명하지 못한 경우에는 제1항에도 불구하고 계약의 해지 또는 보장을 제한하기 이전\n",
      "까지 발생한 해당 보험금을 지급합니다.\n",
      "37\u0000/\u0000462\n",
      "metadata:\n",
      " {'source': '한화생명 The실속있는 간병치매보험_20240101~.pdf', 'type':\n",
      "'간병치매보험_20240101~', 'timestamp': 1705041896.1948419}\n"
     ]
    }
   ],
   "source": [
    "result = run_RetrievalQA(\n",
    "    query=query,\n",
    "    boolean_filter=boolean_filter,\n",
    "    llm=llm_text,\n",
    "    prompt=PROMPT,\n",
    "    vector_db=vector_db,\n",
    "    verbose=True,\n",
    "    k=1\n",
    ")\n",
    "\n",
    "print(\"##################################\")\n",
    "print(\"query: \", query)\n",
    "print(\"boolean_filter: \", boolean_filter)\n",
    "print(\"##################################\")\n",
    "\n",
    "print (colored(\"\\n\\n### Answer ###\", \"blue\"))\n",
    "print_ww(result['result'])\n",
    "\n",
    "print (colored(\"\\n\\n### Contexts ###\", \"green\"))\n",
    "show_context_used(result['source_documents'])"
   ]
  },
  {
   "cell_type": "markdown",
   "id": "4b652850-90b9-4fb3-8fa8-e7f590844ed9",
   "metadata": {},
   "source": [
    "## (2) OpenSearch Keyword 검색\n",
    "- \"minimum_should_match=50\" 세팅을 하고, 관련 컨텍스트를 찾아 오지 못합니다."
   ]
  },
  {
   "cell_type": "code",
   "execution_count": 26,
   "id": "ad1bcb21",
   "metadata": {
    "tags": []
   },
   "outputs": [],
   "source": [
    "from utils.rag import retriever_utils"
   ]
  },
  {
   "cell_type": "code",
   "execution_count": 27,
   "id": "233684b4-70fa-4342-bd58-8ba3d41502a6",
   "metadata": {
    "tags": []
   },
   "outputs": [],
   "source": [
    "from utils.opensearch import opensearch_utils\n",
    "from langchain.chains.question_answering import load_qa_chain"
   ]
  },
  {
   "cell_type": "code",
   "execution_count": 28,
   "id": "aeff3cd0-99c9-4e48-9250-3ec1e45f1bbd",
   "metadata": {
    "tags": []
   },
   "outputs": [
    {
     "name": "stdout",
     "output_type": "stream",
     "text": [
      "[Document(page_content='4. 상황별 목차 안내\\n계약의 계약에서 쓰이는\\n제2조(용어의 정의)\\n체결 용어를 알고 싶어요\\n제14조(계약 전 알릴 의무)\\n계약 전 알릴 의무는 무엇인가요\\n제15조(계약 전 알릴 의무 위반의 효과)\\n보장이 언제 시작되나요 제24조(제1회 보험료 및 회사의 보장개시)\\n청약을 철회하고 싶어요 제18조(청약의 철회)\\n계약을 취소 할 수 있나요 제19조(약관교부 및 설명의무 등)\\n계약이 무효가 될 수 있나요 제20조(계약의 무효)\\n보험료의 보험료 납입면제\\n제6조(보험금 지급에 관한 세부규정)\\n납입 사유를 알고 싶어요\\n보험료 납입최고(독촉)이 제27조(보험료의 납입이 연체되는 경우\\n무엇인가요 납입최고(독촉)와 계약의 해지)\\n제28조(보험료의 납입연체로 인하여\\n해지된 계약을 살리고 싶어요\\n해지된 계약의 부활(효력회복))\\n보험금의 제5조(보험금의 지급사유),\\n보험금을 받을 수 있는지 궁금해요\\n지급 제7조(보험금을 지급하지 않는 사유)\\n제9조(보험금 등의 청구),\\n보험금은 언제 지급되나요\\n제10조(보험금 등의 지급절차)\\n8\\x00/\\x00462', metadata={'source': '한화생명 The실속있는 간병치매보험_20240101~.pdf', 'type': '간병치매보험_20240101~', 'timestamp': 1705041884.7105389, 'id': '20918d64-7b43-4476-a112-6980043bbe9a'})]\n"
     ]
    }
   ],
   "source": [
    "search_keyword_result = retriever_utils.get_lexical_similar_docs(\n",
    "    query=query,\n",
    "    minimum_should_match=0,\n",
    "    filter=[\n",
    "        {\"term\": {\"metadata.type\": filter01}},\n",
    "        {\"term\": {\"metadata.source\": filter02}},\n",
    "    ],\n",
    "    index_name=index_name,\n",
    "    os_client=os_client,\n",
    "    k=1,\n",
    "    hybrid=False\n",
    ")\n",
    "print(search_keyword_result)"
   ]
  },
  {
   "cell_type": "code",
   "execution_count": 29,
   "id": "ba3d39ae-0ecf-485c-a1de-bae28674e4fd",
   "metadata": {
    "tags": []
   },
   "outputs": [
    {
     "name": "stdout",
     "output_type": "stream",
     "text": [
      "\n",
      "\n",
      "\u001b[1m> Entering new StuffDocumentsChain chain...\u001b[0m\n",
      "\n",
      "\n",
      "\u001b[1m> Entering new LLMChain chain...\u001b[0m\n",
      "Prompt after formatting:\n",
      "\u001b[32;1m\u001b[1;3m\n",
      "\n",
      "\n",
      "Human: Here is the context, inside <context></context> XML tags.\n",
      "\n",
      "<context>\n",
      "4. 상황별 목차 안내\n",
      "계약의 계약에서 쓰이는\n",
      "제2조(용어의 정의)\n",
      "체결 용어를 알고 싶어요\n",
      "제14조(계약 전 알릴 의무)\n",
      "계약 전 알릴 의무는 무엇인가요\n",
      "제15조(계약 전 알릴 의무 위반의 효과)\n",
      "보장이 언제 시작되나요 제24조(제1회 보험료 및 회사의 보장개시)\n",
      "청약을 철회하고 싶어요 제18조(청약의 철회)\n",
      "계약을 취소 할 수 있나요 제19조(약관교부 및 설명의무 등)\n",
      "계약이 무효가 될 수 있나요 제20조(계약의 무효)\n",
      "보험료의 보험료 납입면제\n",
      "제6조(보험금 지급에 관한 세부규정)\n",
      "납입 사유를 알고 싶어요\n",
      "보험료 납입최고(독촉)이 제27조(보험료의 납입이 연체되는 경우\n",
      "무엇인가요 납입최고(독촉)와 계약의 해지)\n",
      "제28조(보험료의 납입연체로 인하여\n",
      "해지된 계약을 살리고 싶어요\n",
      "해지된 계약의 부활(효력회복))\n",
      "보험금의 제5조(보험금의 지급사유),\n",
      "보험금을 받을 수 있는지 궁금해요\n",
      "지급 제7조(보험금을 지급하지 않는 사유)\n",
      "제9조(보험금 등의 청구),\n",
      "보험금은 언제 지급되나요\n",
      "제10조(보험금 등의 지급절차)\n",
      "8\u0000/\u0000462\n",
      "</context>\n",
      "\n",
      "Only using the contex as above, answer the following question with the rules as below:\n",
      "    - Don't insert XML tag such as <context> and </context> when answering.\n",
      "    - Write as much as you can\n",
      "    - Be courteous and polite\n",
      "    - Only answer the question if you can find the answer in the context with certainty.\n",
      "\n",
      "Question:\n",
      "계약 전 알릴 의무는 무엇인가요\n",
      "\n",
      "If the answer is not in the context, just say \"주어진 내용에서 관련 답변을 찾을 수 없습니다.\"\n",
      "\n",
      "\n",
      "Assistant:\u001b[0m\n",
      " 주어진 내용에 다음과 같이 제14조(계약 전 알릴 의무)에 계약 전 알릴 의무에 대한 설명이 있습니다:\n",
      "\n",
      "계약자 또는 피보험자는 청약할 때(진단계약의 경우에는 건강진단할 때를 말합니다) 청약서에서 질문한 사항에 대하여 알고 있는 사실을 반드시 사실대로 알려야 합니다. 다만, 진단계약의 경우 의료법 제3조(의료기관)의 규정에 따른 종합병원과 병원에서 직장이나 개인이 실시한 건강진단서 사본 등 건강상태를 판단할 수 있는 자료로 건강진단을 대신할 수 있습니다.\n",
      "\u001b[1m> Finished chain.\u001b[0m\n",
      "\n",
      "\u001b[1m> Finished chain.\u001b[0m\n",
      "##############################\n",
      "query: \n",
      " 계약 전 알릴 의무는 무엇인가요\n",
      "answer: \n",
      "  주어진 내용에 다음과 같이 제14조(계약 전 알릴 의무)에 계약 전 알릴 의무에 대한 설명이 있습니다:\n",
      "\n",
      "계약자 또는 피보험자는 청약할 때(진단계약의 경우에는 건강진단할 때를 말합니다) 청약서에서 질문한 사항에 대하여 알고 있는 사실을 반드시 사실대로 알려야 합니다. 다만, 진단계약의 경우 의료법 제3조(의료기관)의 규정에 따른 종합병원과 병원에서 직장이나 개인이 실시한 건강진단서 사본 등 건강상태를 판단할 수 있는 자료로 건강진단을 대신할 수 있습니다.\n"
     ]
    }
   ],
   "source": [
    "chain = load_qa_chain(\n",
    "    llm=llm_text,\n",
    "    chain_type=\"stuff\",\n",
    "    prompt=PROMPT,\n",
    "    verbose=True\n",
    ")\n",
    "\n",
    "answer = chain.run(\n",
    "    input_documents=search_keyword_result,\n",
    "    question=query\n",
    ")\n",
    "\n",
    "print(\"##############################\")\n",
    "print(\"query: \\n\", query)\n",
    "print(\"answer: \\n\", answer)"
   ]
  },
  {
   "cell_type": "markdown",
   "id": "5d4c2835-355a-4ce5-bbdf-64e3b69f3fd9",
   "metadata": {
    "tags": []
   },
   "source": [
    "### 키워드 검색 결과 (search_keyword_result)\n",
    "bm25 score는 max_value로 normalization 되어 있음 (score range 0 - 1)"
   ]
  },
  {
   "cell_type": "code",
   "execution_count": 30,
   "id": "705d287f-2dee-4a01-a7a1-cf39922c5ad0",
   "metadata": {
    "tags": []
   },
   "outputs": [
    {
     "data": {
      "text/plain": [
       "[Document(page_content='4. 상황별 목차 안내\\n계약의 계약에서 쓰이는\\n제2조(용어의 정의)\\n체결 용어를 알고 싶어요\\n제14조(계약 전 알릴 의무)\\n계약 전 알릴 의무는 무엇인가요\\n제15조(계약 전 알릴 의무 위반의 효과)\\n보장이 언제 시작되나요 제24조(제1회 보험료 및 회사의 보장개시)\\n청약을 철회하고 싶어요 제18조(청약의 철회)\\n계약을 취소 할 수 있나요 제19조(약관교부 및 설명의무 등)\\n계약이 무효가 될 수 있나요 제20조(계약의 무효)\\n보험료의 보험료 납입면제\\n제6조(보험금 지급에 관한 세부규정)\\n납입 사유를 알고 싶어요\\n보험료 납입최고(독촉)이 제27조(보험료의 납입이 연체되는 경우\\n무엇인가요 납입최고(독촉)와 계약의 해지)\\n제28조(보험료의 납입연체로 인하여\\n해지된 계약을 살리고 싶어요\\n해지된 계약의 부활(효력회복))\\n보험금의 제5조(보험금의 지급사유),\\n보험금을 받을 수 있는지 궁금해요\\n지급 제7조(보험금을 지급하지 않는 사유)\\n제9조(보험금 등의 청구),\\n보험금은 언제 지급되나요\\n제10조(보험금 등의 지급절차)\\n8\\x00/\\x00462', metadata={'source': '한화생명 The실속있는 간병치매보험_20240101~.pdf', 'type': '간병치매보험_20240101~', 'timestamp': 1705041884.7105389, 'id': '20918d64-7b43-4476-a112-6980043bbe9a'})]"
      ]
     },
     "execution_count": 30,
     "metadata": {},
     "output_type": "execute_result"
    }
   ],
   "source": [
    "search_keyword_result"
   ]
  },
  {
   "cell_type": "markdown",
   "id": "a67677f4-2e37-44a2-b11f-2ba338651c85",
   "metadata": {
    "tags": []
   },
   "source": [
    "## (3) OpenSearch Hybrid 검색\n",
    "- 아래는 결론적으로 query = \"홈페이지 이용자아이디 여러 개 사용할 수 있나요?\" 에 답변을 제공 합니다.\n",
    "    - 시멘티 서치에서 LangChain 의 RetrievalQA 사용 대신에 , LangChain OpenSearch Vector Store의 similarity_search_with_score 를 사용 하여 제일 첫번재에 해당 답변이 검색이 됩니다.\n",
    "    - 키워드 검색에서는 해당 qeury 가 검색이 되지 않습니다.\n",
    "    - 이후에 시멘틱 검색, 키워드 검색에 가중치를 [0.3 , 0.5] 를 주어서 Ensembe 을 하여 랭킹을 하면, top_k = 5 에서 5번재로 Context 로 포함이 되어서 , 최종 검색이 됩니다."
   ]
  },
  {
   "cell_type": "markdown",
   "id": "28b1978e-de8d-41a6-84e1-36c8efdaf7ec",
   "metadata": {
    "tags": []
   },
   "source": [
    "#### OpenSearch Hybrid 는 아래와 같은 방식으로 작동합니다.\n",
    "- (1) \"Vector 서치\" 하여 스코어를 얻은 후에 표준화를 하여 스코어를 구함. \n",
    "    - 전체 결과에서 가장 높은 스코어는 표준화 과정을 통하여 스코어가 1.0 이 됨.\n",
    "- (2) Keyword 서치도 동일하게 함.\n",
    "- (3) 위의 두 개의 결과에 랭킹 알고리즘 (\"RRF\" 혹은 \"simple_weighted\"] 을 통해, 스코어를 계산하여 정렬하여 제공 함.\n",
    "    - 여기서는 simple_weighted 사용 함."
   ]
  },
  {
   "cell_type": "markdown",
   "id": "08264189-2886-4923-a3da-d0cd94f58d0a",
   "metadata": {},
   "source": [
    "스코어 표준화 예시\n",
    "\n",
    "<pre>\n",
    "Docs    Score\t    Normalized-Score\n",
    "\n",
    "Doc1: \t0.0083\t\t1.0\n",
    "\n",
    "Doc2: \t0.0074\t\t0.8900\n",
    "\n",
    "Doc3: \t0.0071\t\t0.8585\n",
    "\n",
    "Example: 0.0074 / 0.0083 = 0.8900\n",
    "</pre>"
   ]
  },
  {
   "cell_type": "code",
   "execution_count": 31,
   "id": "02bf59e1-efb2-4fca-a3dc-47322d31387a",
   "metadata": {
    "tags": []
   },
   "outputs": [],
   "source": [
    "from functools import partial\n",
    "from multiprocessing.pool import ThreadPool\n",
    "#from utils.rag import get_semantic_similar_docs, get_lexical_similar_docs, get_ensemble_results, get_rerank_docs"
   ]
  },
  {
   "cell_type": "code",
   "execution_count": 32,
   "id": "e85e5d94-567f-4a2c-9674-06613e09656e",
   "metadata": {
    "tags": []
   },
   "outputs": [
    {
     "name": "stdout",
     "output_type": "stream",
     "text": [
      "##############################\n",
      "async_mode\n",
      "##############################\n",
      "True\n",
      "##############################\n",
      "reranker\n",
      "##############################\n",
      "False\n",
      "##############################\n",
      "rag_fusion\n",
      "##############################\n",
      "False\n",
      "##############################\n",
      "HyDE\n",
      "##############################\n",
      "False\n",
      "##############################\n",
      "parent_document\n",
      "##############################\n",
      "False\n",
      "##############################\n",
      "similar_docs_semantic\n",
      "##############################\n",
      "[(Document(page_content='다.\\n제 3 관 계약자의 계약 전 알릴 의무 등\\n제 14 조 계약 전 알릴 의무\\n계약자 또는 피보험자는 청약할 때(진단계약의 경우에는 건강진단할 때를 말합니다) 청약서에서 질문한\\n사항에 대하여 알고 있는 사실을 반드시 사실대로 알려야(이하 ‘계약 전 알릴 의무’라 하며, 상법상 ‘고\\n지의무’와 같습니다)합니다. 다만, 진단계약에서 의료법 제3조(의료기관)의 규정에 따른 종합병원과 병원\\n에서 직장 또는 개인이 실시한 건강진단서 사본 등 건강상태를 판단할 수 있는 자료로 건강진단을 대신\\n할 수 있습니다.\\n【계약 전 알릴 의무】\\n상법 제651조(고지의무 위반으로 인한 계약해지)에서 정하고 있는 의무. 보험계약자나 피보험자는 청\\n약시에 보험회사가 질문한 중요한 사항에 대해 사실대로 알려야 하며, 위반시 보험계약의 해지 또는\\n보험금 부지급 등 불이익을 당할 수 있습니다.\\n제 15 조 계약 전 알릴 의무 위반의 효과\\n① 회사는 계약자 또는 피보험자가 제14조(계약 전 알릴 의무)에도 불구하고 고의 또는 중대한 과실로\\n중요한 사항에 대하여 사실과 다르게 알린 경우에는 회사가 별도로 정하는 방법에 따라 계약을 해지하\\n거나 보장을 제한할 수 있습니다. 그러나 다음 중 한 가지에 해당되는 때에는 계약을 해지하거나 보장\\n을 제한할 수 없습니다.\\n1. 회사가 계약 당시에 그 사실을 알았거나 과실로 인하여 알지 못하였을 때\\n2. 회사가 그 사실을 안 날부터 1개월 이상 지났거나 또는 보장개시일부터 보험금 지급사유가 발생하\\n지 않고 2년(진단계약의 경우 질병에 대하여는 1년)이 지났을 때\\n3. 계약을 체결한 날부터 3년이 지났을 때\\n4. 회사가 이 계약을 청약할 때 피보험자의 건강상태를 판단할 수 있는 기초자료(건강진단서 사본 등)\\n에 따라 승낙한 경우에 건강진단서 사본 등에 명기되어 있는 사항으로 보험금 지급사유가 발생하였\\n을 때(계약자 또는 피보험자가 회사에 제출한 기초자료의 내용 중 중요사항을 고의로 사실과 다르\\n게 작성한 때에는 계약을 해지하거나 보장을 제한할 수 있습니다)\\n5. 보험설계사 등이 계약자 또는 피보험자에게 고지할 기회를 주지 않았거나 계약자 또는 피보험자가\\n사실대로 고지하는 것을 방해한 경우, 계약자 또는 피보험자에게 사실대로 고지하지 않게 하였거나\\n부실한 고지를 권유했을 때\\n다만, 보험설계사 등의 행위가 없었다 하더라도 계약자 또는 피보험자가 사실대로 고지하지 않거나\\n부실한 고지를 했다고 인정되는 경우에는 계약을 해지하거나 보장을 제한할 수 있습니다.\\n② 회사는 제1항에 따라 계약을 해지하거나 보장을 제한할 경우에는 계약 전 알릴 의무 위반사실(계약\\n해지 등의 원인이 되는 위반사실을 구체적으로 명시)뿐만 아니라 계약 전 알릴 의무 사항이 중요한 사\\n항에 해당되는 사유 및 계약의 처리결과를 ‘반대증거가 있는 경우 이의를 제기할 수 있습니다’라는 문구\\n와 함께 계약자에게 서면 또는 전자문서 등으로 알려 드립니다. 회사가 전자문서로 안내하고자 할 경우\\n에는 계약자에게 서면 또는 「전자서명법」 제2조 제2호에 따른 전자서명으로 동의를 얻어 수신확인을\\n조건으로 전자문서를 송신하여야 합니다. 계약자의 전자문서 수신이 확인되기 전까지는 그 전자문서는\\n송신되지 않은 것으로 봅니다. 회사는 전자문서가 수신되지 않은 것을 확인한 경우에는 서면(등기우편\\n등)으로 다시 알려드립니다.\\n③ 제1항에 따라 계약을 해지하였을 때에는 제33조(해약환급금) 제1항 및 제2항에 따른 해약환급금을\\n드리며, 보장을 제한하였을 때에는 보험료, 보험가입금액 등이 조정될 수 있습니다.\\n④ 제14조(계약 전 알릴 의무)의 계약 전 알릴 의무를 위반한 사실이 보험금 지급사유 발생에 영향을\\n미쳤음을 회사가 증명하지 못한 경우에는 제1항에도 불구하고 계약의 해지 또는 보장을 제한하기 이전\\n까지 발생한 해당 보험금을 지급합니다.\\n37\\x00/\\x00462', metadata={'source': '한화생명 The실속있는 간병치매보험_20240101~.pdf', 'type': '간병치매보험_20240101~', 'timestamp': 1705041896.1948419, 'id': '1bb9f645-1fb0-4843-a88a-932f4ae48da4'}), 1.0), (Document(page_content='(4) 보험계약 전 보험계약자 또는 피보험자는 보험계약을 청약할 때 청약서의 질문사항(중요사항)에\\n알릴의무 대하여 사실대로 알려야 합니다.\\n위반 시 효과\\n고의 또는 중과실로\\n사실과 다르게 알린 경우\\n보험계약자 또는 피보험자 보험회사는 계약 해지 또는 보장 제한 가능\\n[주의 사항]\\n청약철회가 불가능한 경우,\\n① 청약서의 질문사항에 대하여 보험설계사에게만 구두로 알렸을 경우\\n▶ 보험계약 전 알릴의무를 이행한 것으로 볼 수 없습니다.\\n② 전화 등 통신수단을 통한 보험계약의 경우\\n▶ 보험회사 상담원의 질문이 청약서의 질문사항을 대신하므로 상담원의 질문에\\n사실대로 답변하여야 합니다.\\n[민원 사례]\\nA씨는 고지혈증, 당뇨병으로 90일간 투약처방 받은 사실을 보험설계사에게만\\n알려주고, 청약서에 기재하지 않은 채 00질병보험에 가입하였으며, 가입 이후 1년간\\n당뇨병으로 통원치료를 받아 보험금을 청구\\n▶ 보험회사는 보험계약이 해지됨과 동시에 보험금 지급이 어려움을 안내\\n[법률 지식]\\n일반적으로 보험설계사는 독자적으로 보험회사를 대리하여 보험계약을 체결할 권한\\n이나 고지의무를 수령할 권한이 없음(대법원 2007. 6. 28. 선고 2006다59837)\\n(5) 보험계약 후 보험계약자 등은 피보험자의 직업·직무 변경 등이 발생한 경우 지체없이 보험회사에\\n알릴의무 알려야 하며, 이를 위반하는 경우 보험금 지급이 제한될 수 있습니다.\\n위반 시 불이익\\n보험회사는 피보험자의 직업·직무 변경 등으로 인해,\\n① 위험이 감소한 경우 ▶ 보험료를 감액하고 정산금액을 환급하여 드립니다.\\n② 위험이 증가한 경우 ▶ 보험료가 증액되고 정산금액의 추가 납입이 필요할 수\\n있습니다.\\n회사에 위험 증가 시 보험료 증액, 정산금액 추가납입\\n알린 경우 위험 감소 시 보험료 감액, 정산금액 환급\\n회사에 위험 증가 시 보험금 지급 제한 또는 삭감 가능\\n알리지 않은 경우 위험 감소 시 보험료 감액, 정산금액 환급 불가\\n29\\x00/\\x00462', metadata={'source': '한화생명 The실속있는 간병치매보험_20240101~.pdf', 'type': '간병치매보험_20240101~', 'timestamp': 1705041894.2213655, 'id': '060e3c2b-bcad-4b66-92ed-18f0088b28b1'}), 0.7888081215706316), (Document(page_content='⑤ 회사는 다른 보험가입내역에 대한 계약 전 알릴 의무 위반을 이유로 계약을 해지하거나 보험금 지급\\n을 거절하지 않습니다.\\n【계약 전 알릴 의무 위반 사례】\\n계약을 청약하면서 보험설계사에게 고혈압이 있다고만 이야기하였을 뿐, 청약서의 계약 전 알릴 사항\\n에 아무런 기재도 하지 않을 경우에는 보험설계사에게 고혈압 병력을 이야기하였다고 하더라도 회사\\n는 계약 전 알릴 의무 위반을 이유로 계약을 해지하고 보험금을 지급하지 않을 수 있습니다.\\n제 16 조 사기에 의한 계약\\n① 계약자 또는 피보험자가 대리진단, 약물사용을 수단으로 진단절차를 통과하거나 진단서 위·변조 또는\\n청약일 이전에 암 또는 인간면역결핍바이러스(HIV) 감염의 진단 확정을 받은 후 이를 숨기고 가입하는\\n등의 뚜렷한 사기의사에 의하여 계약이 성립되었음을 회사가 증명하는 경우에는 보장개시일부터 5년 이\\n내(사기사실을 안 날부터는 1개월 이내)에 계약을 취소할 수 있습니다.\\n② 제1항에 따라 계약이 취소된 경우에는 회사는 계약자에게 이미 납입한 보험료를 돌려 드립니다.\\n제 4 관 보험계약의 성립과 유지\\n제 17 조 보험계약의 성립\\n① 계약은 계약자의 청약(請約)과 회사의 승낙(承諾)으로 이루어집니다.\\n② 회사는 피보험자가 계약에 적합하지 않은 경우에는 승낙을 거절하거나 별도의 조건(보험가입금액 제\\n한, 일부보장 제외, 보험금 삭감, 보험료 할증 등)을 붙여 승낙할 수 있습니다.\\n③ 회사는 계약의 청약을 받고, 제1회 보험료를 받은 경우에 건강진단을 받지 않는 계약은 청약일, 진단\\n계약은 진단일(재진단의 경우에는 최종 진단일)부터 30일 이내에 승낙 또는 거절하여야 하며, 승낙한 때\\n에는 보험증권을 드립니다. 그러나 30일 이내에 승낙 또는 거절의 통지가 없으면 승낙된 것으로 봅니다.\\n④ 회사가 제1회 보험료를 받고 승낙을 거절한 경우에는 거절통지와 함께 받은 금액을 돌려 드리며, 보\\n험료를 받은 기간에 대하여 평균공시이율+1%를 연단위 복리로 계산한 금액을 더하여 지급합니다. 다만,\\n회사는 계약자가 제1회 보험료를 신용카드로 납입한 계약의 승낙을 거절하는 경우에는 신용카드의 매출\\n을 취소하며 이자를 더하여 지급하지 않습니다.\\n⑤ 회사가 제2항에 따라 일부보장 제외 조건을 붙여 승낙하였더라도 청약일로부터 5년이 지나는 동안\\n보장이 제외되는 질병으로 추가진단(단순 건강검진 제외) 또는 치료 사실이 없을 경우, 청약일로부터 5\\n년이 지난 이후에는 제5조(보험금의 지급사유)에 따라 보장하여 드립니다.\\n⑥ 제5항의 ‘청약일로부터 5년이 지나는 동안’이라 함은 제27조(보험료의 납입이 연체되는 경우 납입최\\n고(독촉)와 계약의 해지)에서 정한 계약의 해지가 발생하지 않은 경우를 말합니다.\\n⑦ 제28조(보험료의 납입연체로 인하여 해지된 계약의 부활(효력회복))에서 정한 계약의 부활(효력회복)\\n이 이루어진 경우 부활(효력회복)을 청약한 날을 제5항의 청약일로 하여 적용합니다.\\n제 18 조 청약의 철회\\n① 계약자는 보험증권을 받은 날부터 15일 이내에 그 청약을 철회(撤回)할 수 있습니다. 다만, 다음 중\\n한 가지에 해당되는 때에는 청약을 철회할 수 없습니다.\\n1. 회사가 건강상태 진단을 지원하는 계약, 보험기간이 90일 이내인 계약 또는 전문금융소비자가 체결\\n한 계약\\n2. 청약을 한 날부터 30일을 초과한 경우. 다만, 청약시점에 만 65세 이상인 계약자가 전화를 이용하\\n여 계약을 체결한 경우 ‘청약을 한 날부터 45일을 초과한 경우’로 합니다.\\n【 전문금융소비자 】\\n보험계약에 관한 전문성, 자산규모 등에 비추어 보험계약에 따른 위험감수능력이 있는 자로서, 국가,\\n지방자치단체, 한국은행, 금융회사, 주권상장법인 등을 포함하며 「금융소비자 보호에 관한 법률」 제2\\n조(정의) 제9호에서 정하는 전문금융소비자를 말합니다.\\n38\\x00/\\x00462', metadata={'source': '한화생명 The실속있는 간병치매보험_20240101~.pdf', 'type': '간병치매보험_20240101~', 'timestamp': 1705041896.4572663, 'id': '9619644c-728f-428e-9556-6999da8d9665'}), 0.7875891652066096), (Document(page_content='를 접수한 날부터 3영업일 이내에 해약환급금을 지급합니다. 해약환급금 지급일까지의 기간에 대한 이\\n자의 계산은 ‘보험금을 지급할 때의 적립이율 계산’(별표 2 참조)에 따릅니다.\\n⑥ 회사는 경과기간별 해약환급금에 관한 표를 계약자에게 제공하여 드립니다.\\n⑦ 제30조의2(위법계약의 해지)에 따라 위법계약이 해지되는 경우 회사가 적립한 해지 당시의 계약자적\\n립액을 반환하여 드립니다.\\n제 34 조 보험계약대출\\n① 계약자는 이 계약의 해약환급금 범위 내에서 회사가 정한 방법에 따라 대출(이하 ‘보험계약대출’이라\\n합니다)을 받을 수 있습니다. 그러나 순수보장성보험 등 보험상품의 종류에 따라 보험계약대출이 제한될\\n수도 있습니다.\\n② 계약자는 제1항에 따른 보험계약대출금과 보험계약대출이자를 언제든지 상환할 수 있으며 상환하지\\n않은 때에는 회사는 보험금, 계약자적립액 또는 해약환급금 등의 지급사유가 발생한 날에 지급금에서\\n보험계약대출의 원금과 이자를 차감할 수 있습니다.\\n③ 회사는 제27조(보험료의 납입이 연체되는 경우 납입최고(독촉)와 계약의 해지)에 따라 계약이 해지되\\n는 때에는 즉시 해약환급금에서 보험계약대출의 원금과 이자를 차감합니다.\\n④ 회사는 보험수익자에게 보험계약대출 사실을 통지할 수 있습니다.\\n제 35 조 배당금의 지급\\n이 계약은 무배당보험이므로 계약자 배당금이 없습니다.\\n제 7 관 분쟁의 조정 등\\n제 36 조 분쟁의 조정\\n① 계약에 관하여 분쟁이 있는 경우 분쟁 당사자 또는 기타 이해관계인과 회사는 금융감독원장에게 조\\n정을 신청할 수 있으며, 분쟁조정 과정에서 계약자는 관계 법령이 정하는 바에 따라 회사가 기록 및 유\\n지･관리하는 자료의 열람(사본의 제공 또는 청취를 포함합니다)을 요구할 수 있습니다.\\n② 회사는 일반금융소비자인 계약자가 조정을 통하여 주장하는 권리나 이익의 가액이 「금융소비자 보호\\n에 관한 법률」 제42조에서 정하는 일정 금액 이내인 분쟁사건에 대하여 조정절차가 개시된 경우에는 관\\n계 법령이 정하는 경우를 제외하고는 소를 제기하지 않습니다.\\n제 37 조 관할법원\\n이 계약에 관한 소송 및 민사조정은 계약자의 주소지를 관할하는 법원으로 합니다. 다만, 회사와 계약자\\n가 합의하여 관할법원을 달리 정할 수 있습니다.\\n제 38 조 소멸시효\\n① 보험금 청구권, 보험료 반환청구권, 해약환급금청구권, 계약자적립액 반환청구권은 3년간 행사하지\\n않으면 소멸시효가 완성됩니다.\\n② 제1항의 소멸시효는 해당 청구권을 행사할 수 있는 때로부터 진행합니다.\\n【소멸시효】\\n예를들어, 제5조(보험금의 지급사유)에 따른 보험금 지급사유가 2016년 4월 1일에 발생하였음에도 보\\n험수익자가 2019년 4월 1일까지 보험금을 청구하지 않은 경우 해당 보험금에 대한 3년의 소멸시효가\\n완성되어 보험수익자는 해당 보험금 등을 지급받지 못합니다.\\n제 39 조 약관의 해석\\n① 회사는 신의성실의 원칙에 따라 공정하게 약관을 해석하여야 하며 계약자에 따라 다르게 해석하지\\n않습니다.\\n45\\x00/\\x00462', metadata={'source': '한화생명 The실속있는 간병치매보험_20240101~.pdf', 'type': '간병치매보험_20240101~', 'timestamp': 1705041898.1359146, 'id': 'd4674000-37f1-4be2-80f1-8399b6dcba39'}), 0.6968515414276969), (Document(page_content='제 23 조 계약의 소멸\\n① 피보험자가 보험기간 중 사망한 경우에는 계약자에게 사망 당시의 계약자적립액을 지급하여 드리고\\n이 계약은 그 때부터 효력이 없습니다.\\n② 제1항의 계약자적립액 지급사유가 발생한 경우 계약자는 제9조(보험금 등의 청구) 제1항의 서류 중\\n계약자적립액 지급과 관련된 서류를 제출하고 계약자적립액을 청구하여야 합니다. 계약자적립액의 지급\\n절차 및 지급기일의 다음 날부터 지급일까지의 기간에 대한 이자의 계산 등에 관한 사항은 제10조(보험\\n금 등의 지급절차)의 규정을 따릅니다.\\n③ ‘사망’은 보험기간에 다음 어느 하나의 사유가 발생한 경우를 포함합니다.\\n1. 실종선고를 받은 경우: 법원에서 인정한 실종기간이 끝나는 때에 사망한 것으로 봅니다.\\n2. 관공서에서 수해, 화재나 그 밖의 재난을 조사하고 사망한 것으로 통보하는 경우: 가족관계등록부\\n에 기재된 사망연월일을 기준으로 합니다.\\n④ 보험기간 중 피보험자에게 제5조(보험금의 지급사유)에서 정한 보험금의 지급사유가 발생한 경우에는\\n이 계약은 그때부터 효력이 없습니다.\\n【실종선고】\\n부재자 등의 생사불명 상태가 일정기간(이하 ‘실종기간’이라 합니다) 계속될 때에 이해관계인이나 검\\n사의 청구에 의하여 법원은 실종선고를 하며, 실종선고를 받은 자는 실종기간이 만료한 때 사망한\\n것으로 봅니다.\\n제 5 관 보험료의 납입\\n제 24 조 제1회 보험료 및 회사의 보장개시\\n① 회사는 계약의 청약을 승낙하고 제1회 보험료를 받은 때부터 이 약관이 정한 바에 따라 보장을 합니\\n다. 또한, 회사가 청약과 함께 제1회 보험료를 받은 후 승낙한 경우에도 제1회 보험료를 받은 때부터 보\\n장이 개시됩니다. 자동이체 또는 신용카드로 납입하는 경우에는 자동이체신청 또는 신용카드매출승인에\\n필요한 정보를 제공한 때를 제1회 보험료를 받은 때로 하며, 계약자의 책임 있는 사유로 자동이체 또는\\n매출승인이 불가능한 경우에는 보험료가 납입되지 않은 것으로 봅니다.\\n② 회사가 청약과 함께 제1회 보험료를 받고 청약을 승낙하기 전에 보험금 지급사유가 발생하였을 때에\\n도 보장개시일부터 이 약관이 정하는 바에 따라 보장을 합니다.\\n【보장개시일】\\n회사가 보장을 개시하는 날로서 계약이 성립되고 제1회 보험료를 받은 날을 말하나, 회사가 승낙하기\\n전이라도 청약과 함께 제1회 보험료를 받은 경우에는 제1회 보험료를 받은 날을 말합니다. 또한, 보장\\n개시일을 계약일로 봅니다.\\n③ 회사는 제2항에도 불구하고 다음 중 한 가지에 해당되는 경우에는 보장을 하지 않습니다.\\n1. 제14조(계약 전 알릴 의무)에 따라 계약자 또는 피보험자가 회사에 알린 내용이나 건강진단 내용\\n이 보험금 지급사유의 발생에 영향을 미쳤음을 회사가 증명하는 경우\\n2. 제15조(계약 전 알릴 의무 위반의 효과)를 준용하여 회사가 보장을 하지 않을 수 있는 경우\\n3. 진단계약에서 보험금 지급사유가 발생할 때까지 진단을 받지 않은 경우\\n다만, 진단계약에서 진단을 받지 않은 경우라도 재해로 보험금 지급사유가 발생하는 경우에는 보\\n장을 해드립니다.\\n④ 청약서에 피보험자의 직업 또는 직종별로 보험가입금액의 한도액이 명시되어 있음에도 그 한도액을\\n초과하여 청약을 하고 청약을 승낙하기 전에 보험금 지급사유가 발생한 경우에는 그 초과 청약액에 대\\n하여는 보장을 하지 않습니다. 다만, 회사는 그 한도액을 초과하여 청약된 부분에 대한 보험료를 돌려\\n드립니다.\\n제 25 조 제2회 이후 보험료의 납입\\n41\\x00/\\x00462', metadata={'source': '한화생명 The실속있는 간병치매보험_20240101~.pdf', 'type': '간병치매보험_20240101~', 'timestamp': 1705041897.1721332, 'id': 'adf7939c-4661-4dcf-a5d3-dedb1b0c3f0a'}), 0.6820583006690969)]\n",
      "##############################\n",
      "similar_docs_keyword\n",
      "##############################\n",
      "[(Document(page_content='4. 상황별 목차 안내\\n계약의 계약에서 쓰이는\\n제2조(용어의 정의)\\n체결 용어를 알고 싶어요\\n제14조(계약 전 알릴 의무)\\n계약 전 알릴 의무는 무엇인가요\\n제15조(계약 전 알릴 의무 위반의 효과)\\n보장이 언제 시작되나요 제24조(제1회 보험료 및 회사의 보장개시)\\n청약을 철회하고 싶어요 제18조(청약의 철회)\\n계약을 취소 할 수 있나요 제19조(약관교부 및 설명의무 등)\\n계약이 무효가 될 수 있나요 제20조(계약의 무효)\\n보험료의 보험료 납입면제\\n제6조(보험금 지급에 관한 세부규정)\\n납입 사유를 알고 싶어요\\n보험료 납입최고(독촉)이 제27조(보험료의 납입이 연체되는 경우\\n무엇인가요 납입최고(독촉)와 계약의 해지)\\n제28조(보험료의 납입연체로 인하여\\n해지된 계약을 살리고 싶어요\\n해지된 계약의 부활(효력회복))\\n보험금의 제5조(보험금의 지급사유),\\n보험금을 받을 수 있는지 궁금해요\\n지급 제7조(보험금을 지급하지 않는 사유)\\n제9조(보험금 등의 청구),\\n보험금은 언제 지급되나요\\n제10조(보험금 등의 지급절차)\\n8\\x00/\\x00462', metadata={'source': '한화생명 The실속있는 간병치매보험_20240101~.pdf', 'type': '간병치매보험_20240101~', 'timestamp': 1705041884.7105389, 'id': '20918d64-7b43-4476-a112-6980043bbe9a'}), 1.0), (Document(page_content='다.\\n제 3 관 계약자의 계약 전 알릴 의무 등\\n제 14 조 계약 전 알릴 의무\\n계약자 또는 피보험자는 청약할 때(진단계약의 경우에는 건강진단할 때를 말합니다) 청약서에서 질문한\\n사항에 대하여 알고 있는 사실을 반드시 사실대로 알려야(이하 ‘계약 전 알릴 의무’라 하며, 상법상 ‘고\\n지의무’와 같습니다)합니다. 다만, 진단계약에서 의료법 제3조(의료기관)의 규정에 따른 종합병원과 병원\\n에서 직장 또는 개인이 실시한 건강진단서 사본 등 건강상태를 판단할 수 있는 자료로 건강진단을 대신\\n할 수 있습니다.\\n【계약 전 알릴 의무】\\n상법 제651조(고지의무 위반으로 인한 계약해지)에서 정하고 있는 의무. 보험계약자나 피보험자는 청\\n약시에 보험회사가 질문한 중요한 사항에 대해 사실대로 알려야 하며, 위반시 보험계약의 해지 또는\\n보험금 부지급 등 불이익을 당할 수 있습니다.\\n제 15 조 계약 전 알릴 의무 위반의 효과\\n① 회사는 계약자 또는 피보험자가 제14조(계약 전 알릴 의무)에도 불구하고 고의 또는 중대한 과실로\\n중요한 사항에 대하여 사실과 다르게 알린 경우에는 회사가 별도로 정하는 방법에 따라 계약을 해지하\\n거나 보장을 제한할 수 있습니다. 그러나 다음 중 한 가지에 해당되는 때에는 계약을 해지하거나 보장\\n을 제한할 수 없습니다.\\n1. 회사가 계약 당시에 그 사실을 알았거나 과실로 인하여 알지 못하였을 때\\n2. 회사가 그 사실을 안 날부터 1개월 이상 지났거나 또는 보장개시일부터 보험금 지급사유가 발생하\\n지 않고 2년(진단계약의 경우 질병에 대하여는 1년)이 지났을 때\\n3. 계약을 체결한 날부터 3년이 지났을 때\\n4. 회사가 이 계약을 청약할 때 피보험자의 건강상태를 판단할 수 있는 기초자료(건강진단서 사본 등)\\n에 따라 승낙한 경우에 건강진단서 사본 등에 명기되어 있는 사항으로 보험금 지급사유가 발생하였\\n을 때(계약자 또는 피보험자가 회사에 제출한 기초자료의 내용 중 중요사항을 고의로 사실과 다르\\n게 작성한 때에는 계약을 해지하거나 보장을 제한할 수 있습니다)\\n5. 보험설계사 등이 계약자 또는 피보험자에게 고지할 기회를 주지 않았거나 계약자 또는 피보험자가\\n사실대로 고지하는 것을 방해한 경우, 계약자 또는 피보험자에게 사실대로 고지하지 않게 하였거나\\n부실한 고지를 권유했을 때\\n다만, 보험설계사 등의 행위가 없었다 하더라도 계약자 또는 피보험자가 사실대로 고지하지 않거나\\n부실한 고지를 했다고 인정되는 경우에는 계약을 해지하거나 보장을 제한할 수 있습니다.\\n② 회사는 제1항에 따라 계약을 해지하거나 보장을 제한할 경우에는 계약 전 알릴 의무 위반사실(계약\\n해지 등의 원인이 되는 위반사실을 구체적으로 명시)뿐만 아니라 계약 전 알릴 의무 사항이 중요한 사\\n항에 해당되는 사유 및 계약의 처리결과를 ‘반대증거가 있는 경우 이의를 제기할 수 있습니다’라는 문구\\n와 함께 계약자에게 서면 또는 전자문서 등으로 알려 드립니다. 회사가 전자문서로 안내하고자 할 경우\\n에는 계약자에게 서면 또는 「전자서명법」 제2조 제2호에 따른 전자서명으로 동의를 얻어 수신확인을\\n조건으로 전자문서를 송신하여야 합니다. 계약자의 전자문서 수신이 확인되기 전까지는 그 전자문서는\\n송신되지 않은 것으로 봅니다. 회사는 전자문서가 수신되지 않은 것을 확인한 경우에는 서면(등기우편\\n등)으로 다시 알려드립니다.\\n③ 제1항에 따라 계약을 해지하였을 때에는 제33조(해약환급금) 제1항 및 제2항에 따른 해약환급금을\\n드리며, 보장을 제한하였을 때에는 보험료, 보험가입금액 등이 조정될 수 있습니다.\\n④ 제14조(계약 전 알릴 의무)의 계약 전 알릴 의무를 위반한 사실이 보험금 지급사유 발생에 영향을\\n미쳤음을 회사가 증명하지 못한 경우에는 제1항에도 불구하고 계약의 해지 또는 보장을 제한하기 이전\\n까지 발생한 해당 보험금을 지급합니다.\\n37\\x00/\\x00462', metadata={'source': '한화생명 The실속있는 간병치매보험_20240101~.pdf', 'type': '간병치매보험_20240101~', 'timestamp': 1705041896.1948419, 'id': '1bb9f645-1fb0-4843-a88a-932f4ae48da4'}), 0.43863152387617854), (Document(page_content='(4) 보험계약 전 보험계약자 또는 피보험자는 보험계약을 청약할 때 청약서의 질문사항(중요사항)에\\n알릴의무 대하여 사실대로 알려야 합니다.\\n위반 시 효과\\n고의 또는 중과실로\\n사실과 다르게 알린 경우\\n보험계약자 또는 피보험자 보험회사는 계약 해지 또는 보장 제한 가능\\n[주의 사항]\\n청약철회가 불가능한 경우,\\n① 청약서의 질문사항에 대하여 보험설계사에게만 구두로 알렸을 경우\\n▶ 보험계약 전 알릴의무를 이행한 것으로 볼 수 없습니다.\\n② 전화 등 통신수단을 통한 보험계약의 경우\\n▶ 보험회사 상담원의 질문이 청약서의 질문사항을 대신하므로 상담원의 질문에\\n사실대로 답변하여야 합니다.\\n[민원 사례]\\nA씨는 고지혈증, 당뇨병으로 90일간 투약처방 받은 사실을 보험설계사에게만\\n알려주고, 청약서에 기재하지 않은 채 00질병보험에 가입하였으며, 가입 이후 1년간\\n당뇨병으로 통원치료를 받아 보험금을 청구\\n▶ 보험회사는 보험계약이 해지됨과 동시에 보험금 지급이 어려움을 안내\\n[법률 지식]\\n일반적으로 보험설계사는 독자적으로 보험회사를 대리하여 보험계약을 체결할 권한\\n이나 고지의무를 수령할 권한이 없음(대법원 2007. 6. 28. 선고 2006다59837)\\n(5) 보험계약 후 보험계약자 등은 피보험자의 직업·직무 변경 등이 발생한 경우 지체없이 보험회사에\\n알릴의무 알려야 하며, 이를 위반하는 경우 보험금 지급이 제한될 수 있습니다.\\n위반 시 불이익\\n보험회사는 피보험자의 직업·직무 변경 등으로 인해,\\n① 위험이 감소한 경우 ▶ 보험료를 감액하고 정산금액을 환급하여 드립니다.\\n② 위험이 증가한 경우 ▶ 보험료가 증액되고 정산금액의 추가 납입이 필요할 수\\n있습니다.\\n회사에 위험 증가 시 보험료 증액, 정산금액 추가납입\\n알린 경우 위험 감소 시 보험료 감액, 정산금액 환급\\n회사에 위험 증가 시 보험금 지급 제한 또는 삭감 가능\\n알리지 않은 경우 위험 감소 시 보험료 감액, 정산금액 환급 불가\\n29\\x00/\\x00462', metadata={'source': '한화생명 The실속있는 간병치매보험_20240101~.pdf', 'type': '간병치매보험_20240101~', 'timestamp': 1705041894.2213655, 'id': '060e3c2b-bcad-4b66-92ed-18f0088b28b1'}), 0.4073781092008636), (Document(page_content='해약환급금을 받지 않은 경우(보험계약대출 등에 따라 해약환급금이 차감되었으나 받지 않은 경우 또는\\n해약환급금이 없는 경우를 포함합니다) 계약자는 해지된 날부터 3년 이내에 회사가 정한 절차에 따라\\n계약의 부활(효력회복)을 청약할 수 있습니다. 회사가 부활(효력회복)을 승낙한 때에 계약자는 부활(효력\\n회복)을 청약한 날까지의 연체된 보험료에 평균공시이율+1% 범위 내에서 회사가 정하는 이율로 계산한\\n금액을 더하여 납입하여야 합니다.\\n【부활(효력회복)】\\n보험료 납입연체로 계약이 해지되었으나 해약환급금을 받지 않는 경우에 회사가 정하는 소정의 절차\\n에 따라 해지된 계약을 다시 되살리는 것\\n② 제1항에 따라 해지계약을 부활(효력회복)하는 경우에는 제14조(계약 전 알릴 의무), 제15조(계약 전\\n알릴 의무 위반의 효과) 및 제16조(사기에 의한 계약), 제17조(보험계약의 성립) 제2항 및 제3항, 제24조\\n(제1회 보험료 및 회사의 보장개시)를 준용합니다.\\n③ 제1항에서 정한 계약의 부활(효력회복)이 이루어진 경우라도 계약자 또는 피보험자가 계약을 청약할\\n때 제14조(계약 전 알릴 의무)를 위반한 경우에는 제15조(계약 전 알릴 의무 위반의 효과)가 적용됩니다.\\n④ 이 계약을 부활(효력회복)하는 경우의 보장개시일은 부활(효력회복)일로 합니다.\\n제 29 조 강제집행 등으로 인하여 해지된 계약의 특별부활(효력회복)\\n① 회사는 계약자의 해약환급금 청구권에 대한 강제집행, 담보권실행, 국세 및 지방세 체납처분절차에\\n따라 계약이 해지된 경우 해지 당시의 보험수익자가 계약자의 동의를 얻어 계약 해지로 회사가 채권자\\n에게 지급한 금액을 회사에 지급하고 제21조(계약내용의 변경 등) 제1항의 절차에 따라 계약자 명의를\\n보험수익자로 변경하여 계약의 특별부활(효력회복)을 청약할 수 있음을 보험수익자에게 통지하여야 합니\\n다.\\n② 회사는 제1항에 따른 계약자 명의변경 신청 및 계약의 특별부활(효력회복) 청약을 승낙합니다.\\n③ 회사는 제1항의 통지를 지정된 보험수익자에게 하여야 합니다. 다만, 회사는 법정상속인이 보험수익\\n자로 지정된 경우에는 제1항의 통지를 계약자에게 할 수 있습니다.\\n④ 회사는 제1항의 통지를 계약이 해지된 날부터 7일 이내에 하여야 합니다.\\n⑤ 보험수익자는 통지를 받은 날(제3항에 따라 계약자에게 통지된 경우에는 계약자가 통지를 받은 날을\\n말합니다)부터 15일 이내에 제1항의 절차를 이행할 수 있습니다.\\n제 6 관 계약의 해지 및 해약환급금 등\\n제 30 조 계약자의 임의해지\\n계약자는 계약이 소멸하기 전에 언제든지 계약을 해지할 수 있으며, 이 경우 회사는 제33조(해약환급금)\\n제1항 및 제2항에 따른 해약환급금을 계약자에게 지급합니다.\\n제 30 조의 2 위법계약의 해지\\n① 계약자는 「금융소비자 보호에 관한 법률」 제47조 및 관련규정이 정하는 바에 따라 계약체결에 대한\\n회사의 법위반사항이 있는 경우 계약체결일부터 5년 이내의 범위에서 계약자가 위반사항을 안 날부터 1\\n년 이내에 계약해지요구서에 증빙서류를 첨부하여 위법계약의 해지를 요구할 수 있습니다.\\n② 회사는 해지요구를 받은 날부터 10일 이내에 수락여부를 계약자에 통지하여야 하며, 거절할 때에는\\n거절 사유를 함께 통지하여야 합니다.\\n③ 계약자는 회사가 정당한 사유 없이 제1항의 요구를 따르지 않는 경우 해당 계약을 해지할 수 있습니\\n다.\\n④ 제1항 및 제3항에 따라 계약이 해지된 경우 회사는 제33조(해약환급금) 제8항에 따른 해약환급금을\\n계약자에게 지급합니다.\\n⑤ 계약자는 제1항에 따른 제척기간에도 불구하고 민법 등 관계 법령에서 정하는 바에 따라 법률상의\\n권리를 행사할 수 있습니다.\\n43\\x00/\\x00462', metadata={'source': '한화생명 The실속있는 간병치매보험_20240101~.pdf', 'type': '간병치매보험_20240101~', 'timestamp': 1705041897.6862323, 'id': '147e0ba7-2d2c-49f4-b1b1-dffdaa6e8fa7'}), 0.3894608033435842), (Document(page_content='⑤ 회사는 다른 보험가입내역에 대한 계약 전 알릴 의무 위반을 이유로 계약을 해지하거나 보험금 지급\\n을 거절하지 않습니다.\\n【계약 전 알릴 의무 위반 사례】\\n계약을 청약하면서 보험설계사에게 고혈압이 있다고만 이야기하였을 뿐, 청약서의 계약 전 알릴 사항\\n에 아무런 기재도 하지 않을 경우에는 보험설계사에게 고혈압 병력을 이야기하였다고 하더라도 회사\\n는 계약 전 알릴 의무 위반을 이유로 계약을 해지하고 보험금을 지급하지 않을 수 있습니다.\\n제 16 조 사기에 의한 계약\\n① 계약자 또는 피보험자가 대리진단, 약물사용을 수단으로 진단절차를 통과하거나 진단서 위·변조 또는\\n청약일 이전에 암 또는 인간면역결핍바이러스(HIV) 감염의 진단 확정을 받은 후 이를 숨기고 가입하는\\n등의 뚜렷한 사기의사에 의하여 계약이 성립되었음을 회사가 증명하는 경우에는 보장개시일부터 5년 이\\n내(사기사실을 안 날부터는 1개월 이내)에 계약을 취소할 수 있습니다.\\n② 제1항에 따라 계약이 취소된 경우에는 회사는 계약자에게 이미 납입한 보험료를 돌려 드립니다.\\n제 4 관 보험계약의 성립과 유지\\n제 17 조 보험계약의 성립\\n① 계약은 계약자의 청약(請約)과 회사의 승낙(承諾)으로 이루어집니다.\\n② 회사는 피보험자가 계약에 적합하지 않은 경우에는 승낙을 거절하거나 별도의 조건(보험가입금액 제\\n한, 일부보장 제외, 보험금 삭감, 보험료 할증 등)을 붙여 승낙할 수 있습니다.\\n③ 회사는 계약의 청약을 받고, 제1회 보험료를 받은 경우에 건강진단을 받지 않는 계약은 청약일, 진단\\n계약은 진단일(재진단의 경우에는 최종 진단일)부터 30일 이내에 승낙 또는 거절하여야 하며, 승낙한 때\\n에는 보험증권을 드립니다. 그러나 30일 이내에 승낙 또는 거절의 통지가 없으면 승낙된 것으로 봅니다.\\n④ 회사가 제1회 보험료를 받고 승낙을 거절한 경우에는 거절통지와 함께 받은 금액을 돌려 드리며, 보\\n험료를 받은 기간에 대하여 평균공시이율+1%를 연단위 복리로 계산한 금액을 더하여 지급합니다. 다만,\\n회사는 계약자가 제1회 보험료를 신용카드로 납입한 계약의 승낙을 거절하는 경우에는 신용카드의 매출\\n을 취소하며 이자를 더하여 지급하지 않습니다.\\n⑤ 회사가 제2항에 따라 일부보장 제외 조건을 붙여 승낙하였더라도 청약일로부터 5년이 지나는 동안\\n보장이 제외되는 질병으로 추가진단(단순 건강검진 제외) 또는 치료 사실이 없을 경우, 청약일로부터 5\\n년이 지난 이후에는 제5조(보험금의 지급사유)에 따라 보장하여 드립니다.\\n⑥ 제5항의 ‘청약일로부터 5년이 지나는 동안’이라 함은 제27조(보험료의 납입이 연체되는 경우 납입최\\n고(독촉)와 계약의 해지)에서 정한 계약의 해지가 발생하지 않은 경우를 말합니다.\\n⑦ 제28조(보험료의 납입연체로 인하여 해지된 계약의 부활(효력회복))에서 정한 계약의 부활(효력회복)\\n이 이루어진 경우 부활(효력회복)을 청약한 날을 제5항의 청약일로 하여 적용합니다.\\n제 18 조 청약의 철회\\n① 계약자는 보험증권을 받은 날부터 15일 이내에 그 청약을 철회(撤回)할 수 있습니다. 다만, 다음 중\\n한 가지에 해당되는 때에는 청약을 철회할 수 없습니다.\\n1. 회사가 건강상태 진단을 지원하는 계약, 보험기간이 90일 이내인 계약 또는 전문금융소비자가 체결\\n한 계약\\n2. 청약을 한 날부터 30일을 초과한 경우. 다만, 청약시점에 만 65세 이상인 계약자가 전화를 이용하\\n여 계약을 체결한 경우 ‘청약을 한 날부터 45일을 초과한 경우’로 합니다.\\n【 전문금융소비자 】\\n보험계약에 관한 전문성, 자산규모 등에 비추어 보험계약에 따른 위험감수능력이 있는 자로서, 국가,\\n지방자치단체, 한국은행, 금융회사, 주권상장법인 등을 포함하며 「금융소비자 보호에 관한 법률」 제2\\n조(정의) 제9호에서 정하는 전문금융소비자를 말합니다.\\n38\\x00/\\x00462', metadata={'source': '한화생명 The실속있는 간병치매보험_20240101~.pdf', 'type': '간병치매보험_20240101~', 'timestamp': 1705041896.4572663, 'id': '9619644c-728f-428e-9556-6999da8d9665'}), 0.3594204460681994)]\n",
      "##############################\n",
      "similar_docs\n",
      "##############################\n",
      "[(Document(page_content='다.\\n제 3 관 계약자의 계약 전 알릴 의무 등\\n제 14 조 계약 전 알릴 의무\\n계약자 또는 피보험자는 청약할 때(진단계약의 경우에는 건강진단할 때를 말합니다) 청약서에서 질문한\\n사항에 대하여 알고 있는 사실을 반드시 사실대로 알려야(이하 ‘계약 전 알릴 의무’라 하며, 상법상 ‘고\\n지의무’와 같습니다)합니다. 다만, 진단계약에서 의료법 제3조(의료기관)의 규정에 따른 종합병원과 병원\\n에서 직장 또는 개인이 실시한 건강진단서 사본 등 건강상태를 판단할 수 있는 자료로 건강진단을 대신\\n할 수 있습니다.\\n【계약 전 알릴 의무】\\n상법 제651조(고지의무 위반으로 인한 계약해지)에서 정하고 있는 의무. 보험계약자나 피보험자는 청\\n약시에 보험회사가 질문한 중요한 사항에 대해 사실대로 알려야 하며, 위반시 보험계약의 해지 또는\\n보험금 부지급 등 불이익을 당할 수 있습니다.\\n제 15 조 계약 전 알릴 의무 위반의 효과\\n① 회사는 계약자 또는 피보험자가 제14조(계약 전 알릴 의무)에도 불구하고 고의 또는 중대한 과실로\\n중요한 사항에 대하여 사실과 다르게 알린 경우에는 회사가 별도로 정하는 방법에 따라 계약을 해지하\\n거나 보장을 제한할 수 있습니다. 그러나 다음 중 한 가지에 해당되는 때에는 계약을 해지하거나 보장\\n을 제한할 수 없습니다.\\n1. 회사가 계약 당시에 그 사실을 알았거나 과실로 인하여 알지 못하였을 때\\n2. 회사가 그 사실을 안 날부터 1개월 이상 지났거나 또는 보장개시일부터 보험금 지급사유가 발생하\\n지 않고 2년(진단계약의 경우 질병에 대하여는 1년)이 지났을 때\\n3. 계약을 체결한 날부터 3년이 지났을 때\\n4. 회사가 이 계약을 청약할 때 피보험자의 건강상태를 판단할 수 있는 기초자료(건강진단서 사본 등)\\n에 따라 승낙한 경우에 건강진단서 사본 등에 명기되어 있는 사항으로 보험금 지급사유가 발생하였\\n을 때(계약자 또는 피보험자가 회사에 제출한 기초자료의 내용 중 중요사항을 고의로 사실과 다르\\n게 작성한 때에는 계약을 해지하거나 보장을 제한할 수 있습니다)\\n5. 보험설계사 등이 계약자 또는 피보험자에게 고지할 기회를 주지 않았거나 계약자 또는 피보험자가\\n사실대로 고지하는 것을 방해한 경우, 계약자 또는 피보험자에게 사실대로 고지하지 않게 하였거나\\n부실한 고지를 권유했을 때\\n다만, 보험설계사 등의 행위가 없었다 하더라도 계약자 또는 피보험자가 사실대로 고지하지 않거나\\n부실한 고지를 했다고 인정되는 경우에는 계약을 해지하거나 보장을 제한할 수 있습니다.\\n② 회사는 제1항에 따라 계약을 해지하거나 보장을 제한할 경우에는 계약 전 알릴 의무 위반사실(계약\\n해지 등의 원인이 되는 위반사실을 구체적으로 명시)뿐만 아니라 계약 전 알릴 의무 사항이 중요한 사\\n항에 해당되는 사유 및 계약의 처리결과를 ‘반대증거가 있는 경우 이의를 제기할 수 있습니다’라는 문구\\n와 함께 계약자에게 서면 또는 전자문서 등으로 알려 드립니다. 회사가 전자문서로 안내하고자 할 경우\\n에는 계약자에게 서면 또는 「전자서명법」 제2조 제2호에 따른 전자서명으로 동의를 얻어 수신확인을\\n조건으로 전자문서를 송신하여야 합니다. 계약자의 전자문서 수신이 확인되기 전까지는 그 전자문서는\\n송신되지 않은 것으로 봅니다. 회사는 전자문서가 수신되지 않은 것을 확인한 경우에는 서면(등기우편\\n등)으로 다시 알려드립니다.\\n③ 제1항에 따라 계약을 해지하였을 때에는 제33조(해약환급금) 제1항 및 제2항에 따른 해약환급금을\\n드리며, 보장을 제한하였을 때에는 보험료, 보험가입금액 등이 조정될 수 있습니다.\\n④ 제14조(계약 전 알릴 의무)의 계약 전 알릴 의무를 위반한 사실이 보험금 지급사유 발생에 영향을\\n미쳤음을 회사가 증명하지 못한 경우에는 제1항에도 불구하고 계약의 해지 또는 보장을 제한하기 이전\\n까지 발생한 해당 보험금을 지급합니다.\\n37\\x00/\\x00462', metadata={'source': '한화생명 The실속있는 간병치매보험_20240101~.pdf', 'type': '간병치매보험_20240101~', 'timestamp': 1705041896.1948419, 'id': '1bb9f645-1fb0-4843-a88a-932f4ae48da4'}), 0.01626123744050767), (Document(page_content='(4) 보험계약 전 보험계약자 또는 피보험자는 보험계약을 청약할 때 청약서의 질문사항(중요사항)에\\n알릴의무 대하여 사실대로 알려야 합니다.\\n위반 시 효과\\n고의 또는 중과실로\\n사실과 다르게 알린 경우\\n보험계약자 또는 피보험자 보험회사는 계약 해지 또는 보장 제한 가능\\n[주의 사항]\\n청약철회가 불가능한 경우,\\n① 청약서의 질문사항에 대하여 보험설계사에게만 구두로 알렸을 경우\\n▶ 보험계약 전 알릴의무를 이행한 것으로 볼 수 없습니다.\\n② 전화 등 통신수단을 통한 보험계약의 경우\\n▶ 보험회사 상담원의 질문이 청약서의 질문사항을 대신하므로 상담원의 질문에\\n사실대로 답변하여야 합니다.\\n[민원 사례]\\nA씨는 고지혈증, 당뇨병으로 90일간 투약처방 받은 사실을 보험설계사에게만\\n알려주고, 청약서에 기재하지 않은 채 00질병보험에 가입하였으며, 가입 이후 1년간\\n당뇨병으로 통원치료를 받아 보험금을 청구\\n▶ 보험회사는 보험계약이 해지됨과 동시에 보험금 지급이 어려움을 안내\\n[법률 지식]\\n일반적으로 보험설계사는 독자적으로 보험회사를 대리하여 보험계약을 체결할 권한\\n이나 고지의무를 수령할 권한이 없음(대법원 2007. 6. 28. 선고 2006다59837)\\n(5) 보험계약 후 보험계약자 등은 피보험자의 직업·직무 변경 등이 발생한 경우 지체없이 보험회사에\\n알릴의무 알려야 하며, 이를 위반하는 경우 보험금 지급이 제한될 수 있습니다.\\n위반 시 불이익\\n보험회사는 피보험자의 직업·직무 변경 등으로 인해,\\n① 위험이 감소한 경우 ▶ 보험료를 감액하고 정산금액을 환급하여 드립니다.\\n② 위험이 증가한 경우 ▶ 보험료가 증액되고 정산금액의 추가 납입이 필요할 수\\n있습니다.\\n회사에 위험 증가 시 보험료 증액, 정산금액 추가납입\\n알린 경우 위험 감소 시 보험료 감액, 정산금액 환급\\n회사에 위험 증가 시 보험금 지급 제한 또는 삭감 가능\\n알리지 않은 경우 위험 감소 시 보험료 감액, 정산금액 환급 불가\\n29\\x00/\\x00462', metadata={'source': '한화생명 The실속있는 간병치매보험_20240101~.pdf', 'type': '간병치매보험_20240101~', 'timestamp': 1705041894.2213655, 'id': '060e3c2b-bcad-4b66-92ed-18f0088b28b1'}), 0.016001024065540194), (Document(page_content='⑤ 회사는 다른 보험가입내역에 대한 계약 전 알릴 의무 위반을 이유로 계약을 해지하거나 보험금 지급\\n을 거절하지 않습니다.\\n【계약 전 알릴 의무 위반 사례】\\n계약을 청약하면서 보험설계사에게 고혈압이 있다고만 이야기하였을 뿐, 청약서의 계약 전 알릴 사항\\n에 아무런 기재도 하지 않을 경우에는 보험설계사에게 고혈압 병력을 이야기하였다고 하더라도 회사\\n는 계약 전 알릴 의무 위반을 이유로 계약을 해지하고 보험금을 지급하지 않을 수 있습니다.\\n제 16 조 사기에 의한 계약\\n① 계약자 또는 피보험자가 대리진단, 약물사용을 수단으로 진단절차를 통과하거나 진단서 위·변조 또는\\n청약일 이전에 암 또는 인간면역결핍바이러스(HIV) 감염의 진단 확정을 받은 후 이를 숨기고 가입하는\\n등의 뚜렷한 사기의사에 의하여 계약이 성립되었음을 회사가 증명하는 경우에는 보장개시일부터 5년 이\\n내(사기사실을 안 날부터는 1개월 이내)에 계약을 취소할 수 있습니다.\\n② 제1항에 따라 계약이 취소된 경우에는 회사는 계약자에게 이미 납입한 보험료를 돌려 드립니다.\\n제 4 관 보험계약의 성립과 유지\\n제 17 조 보험계약의 성립\\n① 계약은 계약자의 청약(請約)과 회사의 승낙(承諾)으로 이루어집니다.\\n② 회사는 피보험자가 계약에 적합하지 않은 경우에는 승낙을 거절하거나 별도의 조건(보험가입금액 제\\n한, 일부보장 제외, 보험금 삭감, 보험료 할증 등)을 붙여 승낙할 수 있습니다.\\n③ 회사는 계약의 청약을 받고, 제1회 보험료를 받은 경우에 건강진단을 받지 않는 계약은 청약일, 진단\\n계약은 진단일(재진단의 경우에는 최종 진단일)부터 30일 이내에 승낙 또는 거절하여야 하며, 승낙한 때\\n에는 보험증권을 드립니다. 그러나 30일 이내에 승낙 또는 거절의 통지가 없으면 승낙된 것으로 봅니다.\\n④ 회사가 제1회 보험료를 받고 승낙을 거절한 경우에는 거절통지와 함께 받은 금액을 돌려 드리며, 보\\n험료를 받은 기간에 대하여 평균공시이율+1%를 연단위 복리로 계산한 금액을 더하여 지급합니다. 다만,\\n회사는 계약자가 제1회 보험료를 신용카드로 납입한 계약의 승낙을 거절하는 경우에는 신용카드의 매출\\n을 취소하며 이자를 더하여 지급하지 않습니다.\\n⑤ 회사가 제2항에 따라 일부보장 제외 조건을 붙여 승낙하였더라도 청약일로부터 5년이 지나는 동안\\n보장이 제외되는 질병으로 추가진단(단순 건강검진 제외) 또는 치료 사실이 없을 경우, 청약일로부터 5\\n년이 지난 이후에는 제5조(보험금의 지급사유)에 따라 보장하여 드립니다.\\n⑥ 제5항의 ‘청약일로부터 5년이 지나는 동안’이라 함은 제27조(보험료의 납입이 연체되는 경우 납입최\\n고(독촉)와 계약의 해지)에서 정한 계약의 해지가 발생하지 않은 경우를 말합니다.\\n⑦ 제28조(보험료의 납입연체로 인하여 해지된 계약의 부활(효력회복))에서 정한 계약의 부활(효력회복)\\n이 이루어진 경우 부활(효력회복)을 청약한 날을 제5항의 청약일로 하여 적용합니다.\\n제 18 조 청약의 철회\\n① 계약자는 보험증권을 받은 날부터 15일 이내에 그 청약을 철회(撤回)할 수 있습니다. 다만, 다음 중\\n한 가지에 해당되는 때에는 청약을 철회할 수 없습니다.\\n1. 회사가 건강상태 진단을 지원하는 계약, 보험기간이 90일 이내인 계약 또는 전문금융소비자가 체결\\n한 계약\\n2. 청약을 한 날부터 30일을 초과한 경우. 다만, 청약시점에 만 65세 이상인 계약자가 전화를 이용하\\n여 계약을 체결한 경우 ‘청약을 한 날부터 45일을 초과한 경우’로 합니다.\\n【 전문금융소비자 】\\n보험계약에 관한 전문성, 자산규모 등에 비추어 보험계약에 따른 위험감수능력이 있는 자로서, 국가,\\n지방자치단체, 한국은행, 금융회사, 주권상장법인 등을 포함하며 「금융소비자 보호에 관한 법률」 제2\\n조(정의) 제9호에서 정하는 전문금융소비자를 말합니다.\\n38\\x00/\\x00462', metadata={'source': '한화생명 The실속있는 간병치매보험_20240101~.pdf', 'type': '간병치매보험_20240101~', 'timestamp': 1705041896.4572663, 'id': '9619644c-728f-428e-9556-6999da8d9665'}), 0.01562881562881563), (Document(page_content='4. 상황별 목차 안내\\n계약의 계약에서 쓰이는\\n제2조(용어의 정의)\\n체결 용어를 알고 싶어요\\n제14조(계약 전 알릴 의무)\\n계약 전 알릴 의무는 무엇인가요\\n제15조(계약 전 알릴 의무 위반의 효과)\\n보장이 언제 시작되나요 제24조(제1회 보험료 및 회사의 보장개시)\\n청약을 철회하고 싶어요 제18조(청약의 철회)\\n계약을 취소 할 수 있나요 제19조(약관교부 및 설명의무 등)\\n계약이 무효가 될 수 있나요 제20조(계약의 무효)\\n보험료의 보험료 납입면제\\n제6조(보험금 지급에 관한 세부규정)\\n납입 사유를 알고 싶어요\\n보험료 납입최고(독촉)이 제27조(보험료의 납입이 연체되는 경우\\n무엇인가요 납입최고(독촉)와 계약의 해지)\\n제28조(보험료의 납입연체로 인하여\\n해지된 계약을 살리고 싶어요\\n해지된 계약의 부활(효력회복))\\n보험금의 제5조(보험금의 지급사유),\\n보험금을 받을 수 있는지 궁금해요\\n지급 제7조(보험금을 지급하지 않는 사유)\\n제9조(보험금 등의 청구),\\n보험금은 언제 지급되나요\\n제10조(보험금 등의 지급절차)\\n8\\x00/\\x00462', metadata={'source': '한화생명 The실속있는 간병치매보험_20240101~.pdf', 'type': '간병치매보험_20240101~', 'timestamp': 1705041884.7105389, 'id': '20918d64-7b43-4476-a112-6980043bbe9a'}), 0.00819672131147541), (Document(page_content='를 접수한 날부터 3영업일 이내에 해약환급금을 지급합니다. 해약환급금 지급일까지의 기간에 대한 이\\n자의 계산은 ‘보험금을 지급할 때의 적립이율 계산’(별표 2 참조)에 따릅니다.\\n⑥ 회사는 경과기간별 해약환급금에 관한 표를 계약자에게 제공하여 드립니다.\\n⑦ 제30조의2(위법계약의 해지)에 따라 위법계약이 해지되는 경우 회사가 적립한 해지 당시의 계약자적\\n립액을 반환하여 드립니다.\\n제 34 조 보험계약대출\\n① 계약자는 이 계약의 해약환급금 범위 내에서 회사가 정한 방법에 따라 대출(이하 ‘보험계약대출’이라\\n합니다)을 받을 수 있습니다. 그러나 순수보장성보험 등 보험상품의 종류에 따라 보험계약대출이 제한될\\n수도 있습니다.\\n② 계약자는 제1항에 따른 보험계약대출금과 보험계약대출이자를 언제든지 상환할 수 있으며 상환하지\\n않은 때에는 회사는 보험금, 계약자적립액 또는 해약환급금 등의 지급사유가 발생한 날에 지급금에서\\n보험계약대출의 원금과 이자를 차감할 수 있습니다.\\n③ 회사는 제27조(보험료의 납입이 연체되는 경우 납입최고(독촉)와 계약의 해지)에 따라 계약이 해지되\\n는 때에는 즉시 해약환급금에서 보험계약대출의 원금과 이자를 차감합니다.\\n④ 회사는 보험수익자에게 보험계약대출 사실을 통지할 수 있습니다.\\n제 35 조 배당금의 지급\\n이 계약은 무배당보험이므로 계약자 배당금이 없습니다.\\n제 7 관 분쟁의 조정 등\\n제 36 조 분쟁의 조정\\n① 계약에 관하여 분쟁이 있는 경우 분쟁 당사자 또는 기타 이해관계인과 회사는 금융감독원장에게 조\\n정을 신청할 수 있으며, 분쟁조정 과정에서 계약자는 관계 법령이 정하는 바에 따라 회사가 기록 및 유\\n지･관리하는 자료의 열람(사본의 제공 또는 청취를 포함합니다)을 요구할 수 있습니다.\\n② 회사는 일반금융소비자인 계약자가 조정을 통하여 주장하는 권리나 이익의 가액이 「금융소비자 보호\\n에 관한 법률」 제42조에서 정하는 일정 금액 이내인 분쟁사건에 대하여 조정절차가 개시된 경우에는 관\\n계 법령이 정하는 경우를 제외하고는 소를 제기하지 않습니다.\\n제 37 조 관할법원\\n이 계약에 관한 소송 및 민사조정은 계약자의 주소지를 관할하는 법원으로 합니다. 다만, 회사와 계약자\\n가 합의하여 관할법원을 달리 정할 수 있습니다.\\n제 38 조 소멸시효\\n① 보험금 청구권, 보험료 반환청구권, 해약환급금청구권, 계약자적립액 반환청구권은 3년간 행사하지\\n않으면 소멸시효가 완성됩니다.\\n② 제1항의 소멸시효는 해당 청구권을 행사할 수 있는 때로부터 진행합니다.\\n【소멸시효】\\n예를들어, 제5조(보험금의 지급사유)에 따른 보험금 지급사유가 2016년 4월 1일에 발생하였음에도 보\\n험수익자가 2019년 4월 1일까지 보험금을 청구하지 않은 경우 해당 보험금에 대한 3년의 소멸시효가\\n완성되어 보험수익자는 해당 보험금 등을 지급받지 못합니다.\\n제 39 조 약관의 해석\\n① 회사는 신의성실의 원칙에 따라 공정하게 약관을 해석하여야 하며 계약자에 따라 다르게 해석하지\\n않습니다.\\n45\\x00/\\x00462', metadata={'source': '한화생명 The실속있는 간병치매보험_20240101~.pdf', 'type': '간병치매보험_20240101~', 'timestamp': 1705041898.1359146, 'id': 'd4674000-37f1-4be2-80f1-8399b6dcba39'}), 0.0078125)]\n",
      "\n",
      "\n",
      "\u001b[1m> Entering new StuffDocumentsChain chain...\u001b[0m\n",
      "\n",
      "\n",
      "\u001b[1m> Entering new LLMChain chain...\u001b[0m\n",
      "Prompt after formatting:\n",
      "\u001b[32;1m\u001b[1;3m\n",
      "\n",
      "\n",
      "Human: Here is the context, inside <context></context> XML tags.\n",
      "\n",
      "<context>\n",
      "다.\n",
      "제 3 관 계약자의 계약 전 알릴 의무 등\n",
      "제 14 조 계약 전 알릴 의무\n",
      "계약자 또는 피보험자는 청약할 때(진단계약의 경우에는 건강진단할 때를 말합니다) 청약서에서 질문한\n",
      "사항에 대하여 알고 있는 사실을 반드시 사실대로 알려야(이하 ‘계약 전 알릴 의무’라 하며, 상법상 ‘고\n",
      "지의무’와 같습니다)합니다. 다만, 진단계약에서 의료법 제3조(의료기관)의 규정에 따른 종합병원과 병원\n",
      "에서 직장 또는 개인이 실시한 건강진단서 사본 등 건강상태를 판단할 수 있는 자료로 건강진단을 대신\n",
      "할 수 있습니다.\n",
      "【계약 전 알릴 의무】\n",
      "상법 제651조(고지의무 위반으로 인한 계약해지)에서 정하고 있는 의무. 보험계약자나 피보험자는 청\n",
      "약시에 보험회사가 질문한 중요한 사항에 대해 사실대로 알려야 하며, 위반시 보험계약의 해지 또는\n",
      "보험금 부지급 등 불이익을 당할 수 있습니다.\n",
      "제 15 조 계약 전 알릴 의무 위반의 효과\n",
      "① 회사는 계약자 또는 피보험자가 제14조(계약 전 알릴 의무)에도 불구하고 고의 또는 중대한 과실로\n",
      "중요한 사항에 대하여 사실과 다르게 알린 경우에는 회사가 별도로 정하는 방법에 따라 계약을 해지하\n",
      "거나 보장을 제한할 수 있습니다. 그러나 다음 중 한 가지에 해당되는 때에는 계약을 해지하거나 보장\n",
      "을 제한할 수 없습니다.\n",
      "1. 회사가 계약 당시에 그 사실을 알았거나 과실로 인하여 알지 못하였을 때\n",
      "2. 회사가 그 사실을 안 날부터 1개월 이상 지났거나 또는 보장개시일부터 보험금 지급사유가 발생하\n",
      "지 않고 2년(진단계약의 경우 질병에 대하여는 1년)이 지났을 때\n",
      "3. 계약을 체결한 날부터 3년이 지났을 때\n",
      "4. 회사가 이 계약을 청약할 때 피보험자의 건강상태를 판단할 수 있는 기초자료(건강진단서 사본 등)\n",
      "에 따라 승낙한 경우에 건강진단서 사본 등에 명기되어 있는 사항으로 보험금 지급사유가 발생하였\n",
      "을 때(계약자 또는 피보험자가 회사에 제출한 기초자료의 내용 중 중요사항을 고의로 사실과 다르\n",
      "게 작성한 때에는 계약을 해지하거나 보장을 제한할 수 있습니다)\n",
      "5. 보험설계사 등이 계약자 또는 피보험자에게 고지할 기회를 주지 않았거나 계약자 또는 피보험자가\n",
      "사실대로 고지하는 것을 방해한 경우, 계약자 또는 피보험자에게 사실대로 고지하지 않게 하였거나\n",
      "부실한 고지를 권유했을 때\n",
      "다만, 보험설계사 등의 행위가 없었다 하더라도 계약자 또는 피보험자가 사실대로 고지하지 않거나\n",
      "부실한 고지를 했다고 인정되는 경우에는 계약을 해지하거나 보장을 제한할 수 있습니다.\n",
      "② 회사는 제1항에 따라 계약을 해지하거나 보장을 제한할 경우에는 계약 전 알릴 의무 위반사실(계약\n",
      "해지 등의 원인이 되는 위반사실을 구체적으로 명시)뿐만 아니라 계약 전 알릴 의무 사항이 중요한 사\n",
      "항에 해당되는 사유 및 계약의 처리결과를 ‘반대증거가 있는 경우 이의를 제기할 수 있습니다’라는 문구\n",
      "와 함께 계약자에게 서면 또는 전자문서 등으로 알려 드립니다. 회사가 전자문서로 안내하고자 할 경우\n",
      "에는 계약자에게 서면 또는 「전자서명법」 제2조 제2호에 따른 전자서명으로 동의를 얻어 수신확인을\n",
      "조건으로 전자문서를 송신하여야 합니다. 계약자의 전자문서 수신이 확인되기 전까지는 그 전자문서는\n",
      "송신되지 않은 것으로 봅니다. 회사는 전자문서가 수신되지 않은 것을 확인한 경우에는 서면(등기우편\n",
      "등)으로 다시 알려드립니다.\n",
      "③ 제1항에 따라 계약을 해지하였을 때에는 제33조(해약환급금) 제1항 및 제2항에 따른 해약환급금을\n",
      "드리며, 보장을 제한하였을 때에는 보험료, 보험가입금액 등이 조정될 수 있습니다.\n",
      "④ 제14조(계약 전 알릴 의무)의 계약 전 알릴 의무를 위반한 사실이 보험금 지급사유 발생에 영향을\n",
      "미쳤음을 회사가 증명하지 못한 경우에는 제1항에도 불구하고 계약의 해지 또는 보장을 제한하기 이전\n",
      "까지 발생한 해당 보험금을 지급합니다.\n",
      "37\u0000/\u0000462\n",
      "\n",
      "(4) 보험계약 전 보험계약자 또는 피보험자는 보험계약을 청약할 때 청약서의 질문사항(중요사항)에\n",
      "알릴의무 대하여 사실대로 알려야 합니다.\n",
      "위반 시 효과\n",
      "고의 또는 중과실로\n",
      "사실과 다르게 알린 경우\n",
      "보험계약자 또는 피보험자 보험회사는 계약 해지 또는 보장 제한 가능\n",
      "[주의 사항]\n",
      "청약철회가 불가능한 경우,\n",
      "① 청약서의 질문사항에 대하여 보험설계사에게만 구두로 알렸을 경우\n",
      "▶ 보험계약 전 알릴의무를 이행한 것으로 볼 수 없습니다.\n",
      "② 전화 등 통신수단을 통한 보험계약의 경우\n",
      "▶ 보험회사 상담원의 질문이 청약서의 질문사항을 대신하므로 상담원의 질문에\n",
      "사실대로 답변하여야 합니다.\n",
      "[민원 사례]\n",
      "A씨는 고지혈증, 당뇨병으로 90일간 투약처방 받은 사실을 보험설계사에게만\n",
      "알려주고, 청약서에 기재하지 않은 채 00질병보험에 가입하였으며, 가입 이후 1년간\n",
      "당뇨병으로 통원치료를 받아 보험금을 청구\n",
      "▶ 보험회사는 보험계약이 해지됨과 동시에 보험금 지급이 어려움을 안내\n",
      "[법률 지식]\n",
      "일반적으로 보험설계사는 독자적으로 보험회사를 대리하여 보험계약을 체결할 권한\n",
      "이나 고지의무를 수령할 권한이 없음(대법원 2007. 6. 28. 선고 2006다59837)\n",
      "(5) 보험계약 후 보험계약자 등은 피보험자의 직업·직무 변경 등이 발생한 경우 지체없이 보험회사에\n",
      "알릴의무 알려야 하며, 이를 위반하는 경우 보험금 지급이 제한될 수 있습니다.\n",
      "위반 시 불이익\n",
      "보험회사는 피보험자의 직업·직무 변경 등으로 인해,\n",
      "① 위험이 감소한 경우 ▶ 보험료를 감액하고 정산금액을 환급하여 드립니다.\n",
      "② 위험이 증가한 경우 ▶ 보험료가 증액되고 정산금액의 추가 납입이 필요할 수\n",
      "있습니다.\n",
      "회사에 위험 증가 시 보험료 증액, 정산금액 추가납입\n",
      "알린 경우 위험 감소 시 보험료 감액, 정산금액 환급\n",
      "회사에 위험 증가 시 보험금 지급 제한 또는 삭감 가능\n",
      "알리지 않은 경우 위험 감소 시 보험료 감액, 정산금액 환급 불가\n",
      "29\u0000/\u0000462\n",
      "\n",
      "⑤ 회사는 다른 보험가입내역에 대한 계약 전 알릴 의무 위반을 이유로 계약을 해지하거나 보험금 지급\n",
      "을 거절하지 않습니다.\n",
      "【계약 전 알릴 의무 위반 사례】\n",
      "계약을 청약하면서 보험설계사에게 고혈압이 있다고만 이야기하였을 뿐, 청약서의 계약 전 알릴 사항\n",
      "에 아무런 기재도 하지 않을 경우에는 보험설계사에게 고혈압 병력을 이야기하였다고 하더라도 회사\n",
      "는 계약 전 알릴 의무 위반을 이유로 계약을 해지하고 보험금을 지급하지 않을 수 있습니다.\n",
      "제 16 조 사기에 의한 계약\n",
      "① 계약자 또는 피보험자가 대리진단, 약물사용을 수단으로 진단절차를 통과하거나 진단서 위·변조 또는\n",
      "청약일 이전에 암 또는 인간면역결핍바이러스(HIV) 감염의 진단 확정을 받은 후 이를 숨기고 가입하는\n",
      "등의 뚜렷한 사기의사에 의하여 계약이 성립되었음을 회사가 증명하는 경우에는 보장개시일부터 5년 이\n",
      "내(사기사실을 안 날부터는 1개월 이내)에 계약을 취소할 수 있습니다.\n",
      "② 제1항에 따라 계약이 취소된 경우에는 회사는 계약자에게 이미 납입한 보험료를 돌려 드립니다.\n",
      "제 4 관 보험계약의 성립과 유지\n",
      "제 17 조 보험계약의 성립\n",
      "① 계약은 계약자의 청약(請約)과 회사의 승낙(承諾)으로 이루어집니다.\n",
      "② 회사는 피보험자가 계약에 적합하지 않은 경우에는 승낙을 거절하거나 별도의 조건(보험가입금액 제\n",
      "한, 일부보장 제외, 보험금 삭감, 보험료 할증 등)을 붙여 승낙할 수 있습니다.\n",
      "③ 회사는 계약의 청약을 받고, 제1회 보험료를 받은 경우에 건강진단을 받지 않는 계약은 청약일, 진단\n",
      "계약은 진단일(재진단의 경우에는 최종 진단일)부터 30일 이내에 승낙 또는 거절하여야 하며, 승낙한 때\n",
      "에는 보험증권을 드립니다. 그러나 30일 이내에 승낙 또는 거절의 통지가 없으면 승낙된 것으로 봅니다.\n",
      "④ 회사가 제1회 보험료를 받고 승낙을 거절한 경우에는 거절통지와 함께 받은 금액을 돌려 드리며, 보\n",
      "험료를 받은 기간에 대하여 평균공시이율+1%를 연단위 복리로 계산한 금액을 더하여 지급합니다. 다만,\n",
      "회사는 계약자가 제1회 보험료를 신용카드로 납입한 계약의 승낙을 거절하는 경우에는 신용카드의 매출\n",
      "을 취소하며 이자를 더하여 지급하지 않습니다.\n",
      "⑤ 회사가 제2항에 따라 일부보장 제외 조건을 붙여 승낙하였더라도 청약일로부터 5년이 지나는 동안\n",
      "보장이 제외되는 질병으로 추가진단(단순 건강검진 제외) 또는 치료 사실이 없을 경우, 청약일로부터 5\n",
      "년이 지난 이후에는 제5조(보험금의 지급사유)에 따라 보장하여 드립니다.\n",
      "⑥ 제5항의 ‘청약일로부터 5년이 지나는 동안’이라 함은 제27조(보험료의 납입이 연체되는 경우 납입최\n",
      "고(독촉)와 계약의 해지)에서 정한 계약의 해지가 발생하지 않은 경우를 말합니다.\n",
      "⑦ 제28조(보험료의 납입연체로 인하여 해지된 계약의 부활(효력회복))에서 정한 계약의 부활(효력회복)\n",
      "이 이루어진 경우 부활(효력회복)을 청약한 날을 제5항의 청약일로 하여 적용합니다.\n",
      "제 18 조 청약의 철회\n",
      "① 계약자는 보험증권을 받은 날부터 15일 이내에 그 청약을 철회(撤回)할 수 있습니다. 다만, 다음 중\n",
      "한 가지에 해당되는 때에는 청약을 철회할 수 없습니다.\n",
      "1. 회사가 건강상태 진단을 지원하는 계약, 보험기간이 90일 이내인 계약 또는 전문금융소비자가 체결\n",
      "한 계약\n",
      "2. 청약을 한 날부터 30일을 초과한 경우. 다만, 청약시점에 만 65세 이상인 계약자가 전화를 이용하\n",
      "여 계약을 체결한 경우 ‘청약을 한 날부터 45일을 초과한 경우’로 합니다.\n",
      "【 전문금융소비자 】\n",
      "보험계약에 관한 전문성, 자산규모 등에 비추어 보험계약에 따른 위험감수능력이 있는 자로서, 국가,\n",
      "지방자치단체, 한국은행, 금융회사, 주권상장법인 등을 포함하며 「금융소비자 보호에 관한 법률」 제2\n",
      "조(정의) 제9호에서 정하는 전문금융소비자를 말합니다.\n",
      "38\u0000/\u0000462\n",
      "\n",
      "4. 상황별 목차 안내\n",
      "계약의 계약에서 쓰이는\n",
      "제2조(용어의 정의)\n",
      "체결 용어를 알고 싶어요\n",
      "제14조(계약 전 알릴 의무)\n",
      "계약 전 알릴 의무는 무엇인가요\n",
      "제15조(계약 전 알릴 의무 위반의 효과)\n",
      "보장이 언제 시작되나요 제24조(제1회 보험료 및 회사의 보장개시)\n",
      "청약을 철회하고 싶어요 제18조(청약의 철회)\n",
      "계약을 취소 할 수 있나요 제19조(약관교부 및 설명의무 등)\n",
      "계약이 무효가 될 수 있나요 제20조(계약의 무효)\n",
      "보험료의 보험료 납입면제\n",
      "제6조(보험금 지급에 관한 세부규정)\n",
      "납입 사유를 알고 싶어요\n",
      "보험료 납입최고(독촉)이 제27조(보험료의 납입이 연체되는 경우\n",
      "무엇인가요 납입최고(독촉)와 계약의 해지)\n",
      "제28조(보험료의 납입연체로 인하여\n",
      "해지된 계약을 살리고 싶어요\n",
      "해지된 계약의 부활(효력회복))\n",
      "보험금의 제5조(보험금의 지급사유),\n",
      "보험금을 받을 수 있는지 궁금해요\n",
      "지급 제7조(보험금을 지급하지 않는 사유)\n",
      "제9조(보험금 등의 청구),\n",
      "보험금은 언제 지급되나요\n",
      "제10조(보험금 등의 지급절차)\n",
      "8\u0000/\u0000462\n",
      "\n",
      "를 접수한 날부터 3영업일 이내에 해약환급금을 지급합니다. 해약환급금 지급일까지의 기간에 대한 이\n",
      "자의 계산은 ‘보험금을 지급할 때의 적립이율 계산’(별표 2 참조)에 따릅니다.\n",
      "⑥ 회사는 경과기간별 해약환급금에 관한 표를 계약자에게 제공하여 드립니다.\n",
      "⑦ 제30조의2(위법계약의 해지)에 따라 위법계약이 해지되는 경우 회사가 적립한 해지 당시의 계약자적\n",
      "립액을 반환하여 드립니다.\n",
      "제 34 조 보험계약대출\n",
      "① 계약자는 이 계약의 해약환급금 범위 내에서 회사가 정한 방법에 따라 대출(이하 ‘보험계약대출’이라\n",
      "합니다)을 받을 수 있습니다. 그러나 순수보장성보험 등 보험상품의 종류에 따라 보험계약대출이 제한될\n",
      "수도 있습니다.\n",
      "② 계약자는 제1항에 따른 보험계약대출금과 보험계약대출이자를 언제든지 상환할 수 있으며 상환하지\n",
      "않은 때에는 회사는 보험금, 계약자적립액 또는 해약환급금 등의 지급사유가 발생한 날에 지급금에서\n",
      "보험계약대출의 원금과 이자를 차감할 수 있습니다.\n",
      "③ 회사는 제27조(보험료의 납입이 연체되는 경우 납입최고(독촉)와 계약의 해지)에 따라 계약이 해지되\n",
      "는 때에는 즉시 해약환급금에서 보험계약대출의 원금과 이자를 차감합니다.\n",
      "④ 회사는 보험수익자에게 보험계약대출 사실을 통지할 수 있습니다.\n",
      "제 35 조 배당금의 지급\n",
      "이 계약은 무배당보험이므로 계약자 배당금이 없습니다.\n",
      "제 7 관 분쟁의 조정 등\n",
      "제 36 조 분쟁의 조정\n",
      "① 계약에 관하여 분쟁이 있는 경우 분쟁 당사자 또는 기타 이해관계인과 회사는 금융감독원장에게 조\n",
      "정을 신청할 수 있으며, 분쟁조정 과정에서 계약자는 관계 법령이 정하는 바에 따라 회사가 기록 및 유\n",
      "지･관리하는 자료의 열람(사본의 제공 또는 청취를 포함합니다)을 요구할 수 있습니다.\n",
      "② 회사는 일반금융소비자인 계약자가 조정을 통하여 주장하는 권리나 이익의 가액이 「금융소비자 보호\n",
      "에 관한 법률」 제42조에서 정하는 일정 금액 이내인 분쟁사건에 대하여 조정절차가 개시된 경우에는 관\n",
      "계 법령이 정하는 경우를 제외하고는 소를 제기하지 않습니다.\n",
      "제 37 조 관할법원\n",
      "이 계약에 관한 소송 및 민사조정은 계약자의 주소지를 관할하는 법원으로 합니다. 다만, 회사와 계약자\n",
      "가 합의하여 관할법원을 달리 정할 수 있습니다.\n",
      "제 38 조 소멸시효\n",
      "① 보험금 청구권, 보험료 반환청구권, 해약환급금청구권, 계약자적립액 반환청구권은 3년간 행사하지\n",
      "않으면 소멸시효가 완성됩니다.\n",
      "② 제1항의 소멸시효는 해당 청구권을 행사할 수 있는 때로부터 진행합니다.\n",
      "【소멸시효】\n",
      "예를들어, 제5조(보험금의 지급사유)에 따른 보험금 지급사유가 2016년 4월 1일에 발생하였음에도 보\n",
      "험수익자가 2019년 4월 1일까지 보험금을 청구하지 않은 경우 해당 보험금에 대한 3년의 소멸시효가\n",
      "완성되어 보험수익자는 해당 보험금 등을 지급받지 못합니다.\n",
      "제 39 조 약관의 해석\n",
      "① 회사는 신의성실의 원칙에 따라 공정하게 약관을 해석하여야 하며 계약자에 따라 다르게 해석하지\n",
      "않습니다.\n",
      "45\u0000/\u0000462\n",
      "</context>\n",
      "\n",
      "Only using the contex as above, answer the following question with the rules as below:\n",
      "    - Don't insert XML tag such as <context> and </context> when answering.\n",
      "    - Write as much as you can\n",
      "    - Be courteous and polite\n",
      "    - Only answer the question if you can find the answer in the context with certainty.\n",
      "\n",
      "Question:\n",
      "계약 전 알릴 의무는 무엇인가요\n",
      "\n",
      "If the answer is not in the context, just say \"주어진 내용에서 관련 답변을 찾을 수 없습니다.\"\n",
      "\n",
      "\n",
      "Assistant:\u001b[0m\n",
      " 주어진 내용에서 계약 전 알릴 의무에 대한 설명은 다음과 같습니다.\n",
      "\n",
      "계약자 또는 피보험자는 청약할 때(진단계약의 경우에는 건강진단할 때를 말합니다) 청약서에서 질문한 사항에 대하여 알고 있는 사실을 반드시 사실대로 알려야 합니다. 이를 계약 전 알릴 의무라 하며, 상법상 고지의무와 같습니다. \n",
      "\n",
      "계약 전 알릴 의무를 위반하여 사실과 다르게 알린 경우, 회사는 계약을 해지하거나 보장을 제한할 수 있습니다.\n",
      "\u001b[1m> Finished chain.\u001b[0m\n",
      "\n",
      "\u001b[1m> Finished chain.\u001b[0m\n",
      "CPU times: user 65.3 ms, sys: 4.44 ms, total: 69.7 ms\n",
      "Wall time: 18.8 s\n"
     ]
    }
   ],
   "source": [
    "%%time\n",
    "search_hybrid_result = retriever_utils.search_hybrid(\n",
    "    query=query,\n",
    "    llm_emb=llm_emb,\n",
    "    vector_db=vector_db,\n",
    "    k=5,\n",
    "    index_name=index_name,\n",
    "    os_client=os_client,\n",
    "    filter=[\n",
    "        {\"term\": {\"metadata.type\": filter01}},\n",
    "        {\"term\": {\"metadata.source\": filter02}},\n",
    "    ],\n",
    "    fusion_algorithm=\"RRF\", # [\"RRF\", \"simple_weighted\"]\n",
    "    ensemble_weights=[.5, .5], # 시멘트 서치에 가중치 0.5 , 키워드 서치 가중치 0.5 부여.\n",
    "    verbose=True\n",
    ")\n",
    "\n",
    "answer = chain.run(\n",
    "    input_documents=search_hybrid_result,\n",
    "    question=query\n",
    ")"
   ]
  },
  {
   "cell_type": "code",
   "execution_count": 33,
   "id": "92313609-5682-45ca-8eeb-8cf87bfb4270",
   "metadata": {
    "tags": []
   },
   "outputs": [
    {
     "name": "stdout",
     "output_type": "stream",
     "text": [
      "question: 계약 전 알릴 의무는 무엇인가요\n",
      "response:  주어진 내용에서 계약 전 알릴 의무에 대한 설명은 다음과 같습니다.\n",
      "\n",
      "계약자 또는 피보험자는 청약할 때(진단계약의 경우에는 건강진단할 때를 말합니다) 청약서에서 질문한 사항에 대하여 알고 있는 사실을 반드시 사실대로 알려야 합니다. 이를 계약 전 알릴 의무라 하며, 상법상 고지의무와 같습니다. \n",
      "\n",
      "계약 전 알릴 의무를 위반하여 사실과 다르게 알린 경우, 회사는 계약을 해지하거나 보장을 제한할 수 있습니다.\n"
     ]
    }
   ],
   "source": [
    "print(f'question: {query}')\n",
    "print(f'response: {answer}')"
   ]
  },
  {
   "cell_type": "code",
   "execution_count": null,
   "id": "ea770e58-4b62-477e-a6ac-961d1021eaf4",
   "metadata": {},
   "outputs": [],
   "source": []
  }
 ],
 "metadata": {
  "availableInstances": [
   {
    "_defaultOrder": 0,
    "_isFastLaunch": true,
    "category": "General purpose",
    "gpuNum": 0,
    "hideHardwareSpecs": false,
    "memoryGiB": 4,
    "name": "ml.t3.medium",
    "vcpuNum": 2
   },
   {
    "_defaultOrder": 1,
    "_isFastLaunch": false,
    "category": "General purpose",
    "gpuNum": 0,
    "hideHardwareSpecs": false,
    "memoryGiB": 8,
    "name": "ml.t3.large",
    "vcpuNum": 2
   },
   {
    "_defaultOrder": 2,
    "_isFastLaunch": false,
    "category": "General purpose",
    "gpuNum": 0,
    "hideHardwareSpecs": false,
    "memoryGiB": 16,
    "name": "ml.t3.xlarge",
    "vcpuNum": 4
   },
   {
    "_defaultOrder": 3,
    "_isFastLaunch": false,
    "category": "General purpose",
    "gpuNum": 0,
    "hideHardwareSpecs": false,
    "memoryGiB": 32,
    "name": "ml.t3.2xlarge",
    "vcpuNum": 8
   },
   {
    "_defaultOrder": 4,
    "_isFastLaunch": true,
    "category": "General purpose",
    "gpuNum": 0,
    "hideHardwareSpecs": false,
    "memoryGiB": 8,
    "name": "ml.m5.large",
    "vcpuNum": 2
   },
   {
    "_defaultOrder": 5,
    "_isFastLaunch": false,
    "category": "General purpose",
    "gpuNum": 0,
    "hideHardwareSpecs": false,
    "memoryGiB": 16,
    "name": "ml.m5.xlarge",
    "vcpuNum": 4
   },
   {
    "_defaultOrder": 6,
    "_isFastLaunch": false,
    "category": "General purpose",
    "gpuNum": 0,
    "hideHardwareSpecs": false,
    "memoryGiB": 32,
    "name": "ml.m5.2xlarge",
    "vcpuNum": 8
   },
   {
    "_defaultOrder": 7,
    "_isFastLaunch": false,
    "category": "General purpose",
    "gpuNum": 0,
    "hideHardwareSpecs": false,
    "memoryGiB": 64,
    "name": "ml.m5.4xlarge",
    "vcpuNum": 16
   },
   {
    "_defaultOrder": 8,
    "_isFastLaunch": false,
    "category": "General purpose",
    "gpuNum": 0,
    "hideHardwareSpecs": false,
    "memoryGiB": 128,
    "name": "ml.m5.8xlarge",
    "vcpuNum": 32
   },
   {
    "_defaultOrder": 9,
    "_isFastLaunch": false,
    "category": "General purpose",
    "gpuNum": 0,
    "hideHardwareSpecs": false,
    "memoryGiB": 192,
    "name": "ml.m5.12xlarge",
    "vcpuNum": 48
   },
   {
    "_defaultOrder": 10,
    "_isFastLaunch": false,
    "category": "General purpose",
    "gpuNum": 0,
    "hideHardwareSpecs": false,
    "memoryGiB": 256,
    "name": "ml.m5.16xlarge",
    "vcpuNum": 64
   },
   {
    "_defaultOrder": 11,
    "_isFastLaunch": false,
    "category": "General purpose",
    "gpuNum": 0,
    "hideHardwareSpecs": false,
    "memoryGiB": 384,
    "name": "ml.m5.24xlarge",
    "vcpuNum": 96
   },
   {
    "_defaultOrder": 12,
    "_isFastLaunch": false,
    "category": "General purpose",
    "gpuNum": 0,
    "hideHardwareSpecs": false,
    "memoryGiB": 8,
    "name": "ml.m5d.large",
    "vcpuNum": 2
   },
   {
    "_defaultOrder": 13,
    "_isFastLaunch": false,
    "category": "General purpose",
    "gpuNum": 0,
    "hideHardwareSpecs": false,
    "memoryGiB": 16,
    "name": "ml.m5d.xlarge",
    "vcpuNum": 4
   },
   {
    "_defaultOrder": 14,
    "_isFastLaunch": false,
    "category": "General purpose",
    "gpuNum": 0,
    "hideHardwareSpecs": false,
    "memoryGiB": 32,
    "name": "ml.m5d.2xlarge",
    "vcpuNum": 8
   },
   {
    "_defaultOrder": 15,
    "_isFastLaunch": false,
    "category": "General purpose",
    "gpuNum": 0,
    "hideHardwareSpecs": false,
    "memoryGiB": 64,
    "name": "ml.m5d.4xlarge",
    "vcpuNum": 16
   },
   {
    "_defaultOrder": 16,
    "_isFastLaunch": false,
    "category": "General purpose",
    "gpuNum": 0,
    "hideHardwareSpecs": false,
    "memoryGiB": 128,
    "name": "ml.m5d.8xlarge",
    "vcpuNum": 32
   },
   {
    "_defaultOrder": 17,
    "_isFastLaunch": false,
    "category": "General purpose",
    "gpuNum": 0,
    "hideHardwareSpecs": false,
    "memoryGiB": 192,
    "name": "ml.m5d.12xlarge",
    "vcpuNum": 48
   },
   {
    "_defaultOrder": 18,
    "_isFastLaunch": false,
    "category": "General purpose",
    "gpuNum": 0,
    "hideHardwareSpecs": false,
    "memoryGiB": 256,
    "name": "ml.m5d.16xlarge",
    "vcpuNum": 64
   },
   {
    "_defaultOrder": 19,
    "_isFastLaunch": false,
    "category": "General purpose",
    "gpuNum": 0,
    "hideHardwareSpecs": false,
    "memoryGiB": 384,
    "name": "ml.m5d.24xlarge",
    "vcpuNum": 96
   },
   {
    "_defaultOrder": 20,
    "_isFastLaunch": false,
    "category": "General purpose",
    "gpuNum": 0,
    "hideHardwareSpecs": true,
    "memoryGiB": 0,
    "name": "ml.geospatial.interactive",
    "supportedImageNames": [
     "sagemaker-geospatial-v1-0"
    ],
    "vcpuNum": 0
   },
   {
    "_defaultOrder": 21,
    "_isFastLaunch": true,
    "category": "Compute optimized",
    "gpuNum": 0,
    "hideHardwareSpecs": false,
    "memoryGiB": 4,
    "name": "ml.c5.large",
    "vcpuNum": 2
   },
   {
    "_defaultOrder": 22,
    "_isFastLaunch": false,
    "category": "Compute optimized",
    "gpuNum": 0,
    "hideHardwareSpecs": false,
    "memoryGiB": 8,
    "name": "ml.c5.xlarge",
    "vcpuNum": 4
   },
   {
    "_defaultOrder": 23,
    "_isFastLaunch": false,
    "category": "Compute optimized",
    "gpuNum": 0,
    "hideHardwareSpecs": false,
    "memoryGiB": 16,
    "name": "ml.c5.2xlarge",
    "vcpuNum": 8
   },
   {
    "_defaultOrder": 24,
    "_isFastLaunch": false,
    "category": "Compute optimized",
    "gpuNum": 0,
    "hideHardwareSpecs": false,
    "memoryGiB": 32,
    "name": "ml.c5.4xlarge",
    "vcpuNum": 16
   },
   {
    "_defaultOrder": 25,
    "_isFastLaunch": false,
    "category": "Compute optimized",
    "gpuNum": 0,
    "hideHardwareSpecs": false,
    "memoryGiB": 72,
    "name": "ml.c5.9xlarge",
    "vcpuNum": 36
   },
   {
    "_defaultOrder": 26,
    "_isFastLaunch": false,
    "category": "Compute optimized",
    "gpuNum": 0,
    "hideHardwareSpecs": false,
    "memoryGiB": 96,
    "name": "ml.c5.12xlarge",
    "vcpuNum": 48
   },
   {
    "_defaultOrder": 27,
    "_isFastLaunch": false,
    "category": "Compute optimized",
    "gpuNum": 0,
    "hideHardwareSpecs": false,
    "memoryGiB": 144,
    "name": "ml.c5.18xlarge",
    "vcpuNum": 72
   },
   {
    "_defaultOrder": 28,
    "_isFastLaunch": false,
    "category": "Compute optimized",
    "gpuNum": 0,
    "hideHardwareSpecs": false,
    "memoryGiB": 192,
    "name": "ml.c5.24xlarge",
    "vcpuNum": 96
   },
   {
    "_defaultOrder": 29,
    "_isFastLaunch": true,
    "category": "Accelerated computing",
    "gpuNum": 1,
    "hideHardwareSpecs": false,
    "memoryGiB": 16,
    "name": "ml.g4dn.xlarge",
    "vcpuNum": 4
   },
   {
    "_defaultOrder": 30,
    "_isFastLaunch": false,
    "category": "Accelerated computing",
    "gpuNum": 1,
    "hideHardwareSpecs": false,
    "memoryGiB": 32,
    "name": "ml.g4dn.2xlarge",
    "vcpuNum": 8
   },
   {
    "_defaultOrder": 31,
    "_isFastLaunch": false,
    "category": "Accelerated computing",
    "gpuNum": 1,
    "hideHardwareSpecs": false,
    "memoryGiB": 64,
    "name": "ml.g4dn.4xlarge",
    "vcpuNum": 16
   },
   {
    "_defaultOrder": 32,
    "_isFastLaunch": false,
    "category": "Accelerated computing",
    "gpuNum": 1,
    "hideHardwareSpecs": false,
    "memoryGiB": 128,
    "name": "ml.g4dn.8xlarge",
    "vcpuNum": 32
   },
   {
    "_defaultOrder": 33,
    "_isFastLaunch": false,
    "category": "Accelerated computing",
    "gpuNum": 4,
    "hideHardwareSpecs": false,
    "memoryGiB": 192,
    "name": "ml.g4dn.12xlarge",
    "vcpuNum": 48
   },
   {
    "_defaultOrder": 34,
    "_isFastLaunch": false,
    "category": "Accelerated computing",
    "gpuNum": 1,
    "hideHardwareSpecs": false,
    "memoryGiB": 256,
    "name": "ml.g4dn.16xlarge",
    "vcpuNum": 64
   },
   {
    "_defaultOrder": 35,
    "_isFastLaunch": false,
    "category": "Accelerated computing",
    "gpuNum": 1,
    "hideHardwareSpecs": false,
    "memoryGiB": 61,
    "name": "ml.p3.2xlarge",
    "vcpuNum": 8
   },
   {
    "_defaultOrder": 36,
    "_isFastLaunch": false,
    "category": "Accelerated computing",
    "gpuNum": 4,
    "hideHardwareSpecs": false,
    "memoryGiB": 244,
    "name": "ml.p3.8xlarge",
    "vcpuNum": 32
   },
   {
    "_defaultOrder": 37,
    "_isFastLaunch": false,
    "category": "Accelerated computing",
    "gpuNum": 8,
    "hideHardwareSpecs": false,
    "memoryGiB": 488,
    "name": "ml.p3.16xlarge",
    "vcpuNum": 64
   },
   {
    "_defaultOrder": 38,
    "_isFastLaunch": false,
    "category": "Accelerated computing",
    "gpuNum": 8,
    "hideHardwareSpecs": false,
    "memoryGiB": 768,
    "name": "ml.p3dn.24xlarge",
    "vcpuNum": 96
   },
   {
    "_defaultOrder": 39,
    "_isFastLaunch": false,
    "category": "Memory Optimized",
    "gpuNum": 0,
    "hideHardwareSpecs": false,
    "memoryGiB": 16,
    "name": "ml.r5.large",
    "vcpuNum": 2
   },
   {
    "_defaultOrder": 40,
    "_isFastLaunch": false,
    "category": "Memory Optimized",
    "gpuNum": 0,
    "hideHardwareSpecs": false,
    "memoryGiB": 32,
    "name": "ml.r5.xlarge",
    "vcpuNum": 4
   },
   {
    "_defaultOrder": 41,
    "_isFastLaunch": false,
    "category": "Memory Optimized",
    "gpuNum": 0,
    "hideHardwareSpecs": false,
    "memoryGiB": 64,
    "name": "ml.r5.2xlarge",
    "vcpuNum": 8
   },
   {
    "_defaultOrder": 42,
    "_isFastLaunch": false,
    "category": "Memory Optimized",
    "gpuNum": 0,
    "hideHardwareSpecs": false,
    "memoryGiB": 128,
    "name": "ml.r5.4xlarge",
    "vcpuNum": 16
   },
   {
    "_defaultOrder": 43,
    "_isFastLaunch": false,
    "category": "Memory Optimized",
    "gpuNum": 0,
    "hideHardwareSpecs": false,
    "memoryGiB": 256,
    "name": "ml.r5.8xlarge",
    "vcpuNum": 32
   },
   {
    "_defaultOrder": 44,
    "_isFastLaunch": false,
    "category": "Memory Optimized",
    "gpuNum": 0,
    "hideHardwareSpecs": false,
    "memoryGiB": 384,
    "name": "ml.r5.12xlarge",
    "vcpuNum": 48
   },
   {
    "_defaultOrder": 45,
    "_isFastLaunch": false,
    "category": "Memory Optimized",
    "gpuNum": 0,
    "hideHardwareSpecs": false,
    "memoryGiB": 512,
    "name": "ml.r5.16xlarge",
    "vcpuNum": 64
   },
   {
    "_defaultOrder": 46,
    "_isFastLaunch": false,
    "category": "Memory Optimized",
    "gpuNum": 0,
    "hideHardwareSpecs": false,
    "memoryGiB": 768,
    "name": "ml.r5.24xlarge",
    "vcpuNum": 96
   },
   {
    "_defaultOrder": 47,
    "_isFastLaunch": false,
    "category": "Accelerated computing",
    "gpuNum": 1,
    "hideHardwareSpecs": false,
    "memoryGiB": 16,
    "name": "ml.g5.xlarge",
    "vcpuNum": 4
   },
   {
    "_defaultOrder": 48,
    "_isFastLaunch": false,
    "category": "Accelerated computing",
    "gpuNum": 1,
    "hideHardwareSpecs": false,
    "memoryGiB": 32,
    "name": "ml.g5.2xlarge",
    "vcpuNum": 8
   },
   {
    "_defaultOrder": 49,
    "_isFastLaunch": false,
    "category": "Accelerated computing",
    "gpuNum": 1,
    "hideHardwareSpecs": false,
    "memoryGiB": 64,
    "name": "ml.g5.4xlarge",
    "vcpuNum": 16
   },
   {
    "_defaultOrder": 50,
    "_isFastLaunch": false,
    "category": "Accelerated computing",
    "gpuNum": 1,
    "hideHardwareSpecs": false,
    "memoryGiB": 128,
    "name": "ml.g5.8xlarge",
    "vcpuNum": 32
   },
   {
    "_defaultOrder": 51,
    "_isFastLaunch": false,
    "category": "Accelerated computing",
    "gpuNum": 1,
    "hideHardwareSpecs": false,
    "memoryGiB": 256,
    "name": "ml.g5.16xlarge",
    "vcpuNum": 64
   },
   {
    "_defaultOrder": 52,
    "_isFastLaunch": false,
    "category": "Accelerated computing",
    "gpuNum": 4,
    "hideHardwareSpecs": false,
    "memoryGiB": 192,
    "name": "ml.g5.12xlarge",
    "vcpuNum": 48
   },
   {
    "_defaultOrder": 53,
    "_isFastLaunch": false,
    "category": "Accelerated computing",
    "gpuNum": 4,
    "hideHardwareSpecs": false,
    "memoryGiB": 384,
    "name": "ml.g5.24xlarge",
    "vcpuNum": 96
   },
   {
    "_defaultOrder": 54,
    "_isFastLaunch": false,
    "category": "Accelerated computing",
    "gpuNum": 8,
    "hideHardwareSpecs": false,
    "memoryGiB": 768,
    "name": "ml.g5.48xlarge",
    "vcpuNum": 192
   },
   {
    "_defaultOrder": 55,
    "_isFastLaunch": false,
    "category": "Accelerated computing",
    "gpuNum": 8,
    "hideHardwareSpecs": false,
    "memoryGiB": 1152,
    "name": "ml.p4d.24xlarge",
    "vcpuNum": 96
   },
   {
    "_defaultOrder": 56,
    "_isFastLaunch": false,
    "category": "Accelerated computing",
    "gpuNum": 8,
    "hideHardwareSpecs": false,
    "memoryGiB": 1152,
    "name": "ml.p4de.24xlarge",
    "vcpuNum": 96
   }
  ],
  "instance_type": "ml.m5.2xlarge",
  "kernelspec": {
   "display_name": "conda_python3",
   "language": "python",
   "name": "conda_python3"
  },
  "language_info": {
   "codemirror_mode": {
    "name": "ipython",
    "version": 3
   },
   "file_extension": ".py",
   "mimetype": "text/x-python",
   "name": "python",
   "nbconvert_exporter": "python",
   "pygments_lexer": "ipython3",
   "version": "3.10.13"
  },
  "vscode": {
   "interpreter": {
    "hash": "4b8e647a79df62bf31906a725b05de775d285962ac600487339d38c51a5c07b1"
   }
  }
 },
 "nbformat": 4,
 "nbformat_minor": 5
}
