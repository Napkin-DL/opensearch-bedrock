{
 "cells": [
  {
   "cell_type": "markdown",
   "id": "66d8ea21-3477-4e3d-ad9e-0944aa956a13",
   "metadata": {
    "tags": []
   },
   "source": [
    "# OpenSearch Hybrid 검색을 통한 RAG\n",
    "> 이 노트북은  SageMaker Studio* **`Data Science 3.0`** kernel 및 ml.t3.medium 인스턴스에서 테스트 되었습니다.\n",
    "---\n",
    "### 중요\n",
    "- 이 노트북은 Anthropic 의 Claude-v2 모델 접근 가능한 분만 실행 가능합니다. \n",
    "- 접근이 안되시는 분은 노트북의 코드와 결과 만을 확인 하시면 좋겠습니다.\n",
    "- 만일 실행시에는 **\"과금\"** 이 발생이 되는 부분 유념 해주시기 바랍니다.\n",
    "\n",
    "### 선수조건\n",
    "- 이 노트북은 이전 노트북인 \"02_1_KR_RAG_OpenSearch_Keyword.ipynb\" 이 완료 되었다고 가정 합니다.\n",
    "    - 오픈서치 인텍스 관련 정보를 참조 합니다.\n",
    "\n",
    "### Methods and Resources for Hybrid search with Re-ranking \n",
    "- Score Normalization\n",
    "    - [MinMax based](https://towardsdatascience.com/text-search-vs-vector-search-better-together-3bd48eb6132a)\n",
    "    - [z-socre based](https://towardsdatascience.com/hybrid-search-2-0-the-pursuit-of-better-search-ce44d6f20c08)\n",
    "- Reciprocal Rank Fusion (RRF)\n",
    "    - [Paper](https://plg.uwaterloo.ca/~gvcormac/cormacksigir09-rrf.pdf)\n",
    "    - [Description](https://medium.com/@sowmiyajaganathan/hybrid-search-with-re-ranking-ff120c8a426d)\n",
    "- [LangChain API for Ensemble Retriever](https://python.langchain.com/docs/modules/data_connection/retrievers/ensemble)"
   ]
  },
  {
   "cell_type": "markdown",
   "id": "8c44d5e2-9a9b-442d-837b-9f11a04abc83",
   "metadata": {},
   "source": [
    "### 설정\n",
    "\n",
    "이 노트북의 나머지 부분을 실행하기 전에 아래 셀을 실행하여 (필요한 라이브러리가 설치되어 있는지 확인하고) Bedrock에 연결해야 합니다\n"
   ]
  },
  {
   "cell_type": "code",
   "execution_count": 1,
   "id": "4080f1c3",
   "metadata": {
    "tags": []
   },
   "outputs": [],
   "source": [
    "import boto3\n",
    "region = boto3.Session().region_name\n",
    "opensearch = boto3.client('opensearch', region)\n",
    "\n",
    "%store -r opensearch_user_id opensearch_user_password domain_name opensearch_domain_endpoint\n",
    "\n",
    "try:\n",
    "    opensearch_user_id\n",
    "    opensearch_user_password\n",
    "    domain_name\n",
    "    opensearch_domain_endpoint\n",
    "   \n",
    "except NameError:\n",
    "    print(\"++++++++++++++++++++++++++++++++++++++++++++++++++++++++++++++++++++++++++++\")\n",
    "    print(\"[ERROR] Run 00_setup notebook first or Create Your Own OpenSearch Domain\")\n",
    "    print(\"++++++++++++++++++++++++++++++++++++++++++++++++++++++++++++++++++++++++++++\")"
   ]
  },
  {
   "cell_type": "code",
   "execution_count": 2,
   "id": "645f742a",
   "metadata": {
    "tags": []
   },
   "outputs": [],
   "source": [
    "opensearch_user_id = 'raguser'\n",
    "opensearch_user_password = 'MarsEarth1!'\n",
    "domain_name = \"rag-hol-871cbabb\"\n",
    "opensearch_domain_endpoint = \"https://search-rag-hol-871cbabb-u3mzw575hng5fi6i3ys2q2253a.us-east-1.es.amazonaws.com\""
   ]
  },
  {
   "cell_type": "code",
   "execution_count": 3,
   "id": "1f02e5a4-7de5-4eb2-abb2-37e2c4036295",
   "metadata": {
    "tags": []
   },
   "outputs": [],
   "source": [
    "%load_ext autoreload\n",
    "%autoreload 2\n",
    "\n",
    "import sys, os\n",
    "module_path = \"..\"\n",
    "sys.path.append(os.path.abspath(module_path))"
   ]
  },
  {
   "cell_type": "markdown",
   "id": "7ffeb0e6-b8ce-4fc0-8371-cad833146d66",
   "metadata": {
    "tags": []
   },
   "source": [
    "# 1. Bedrock Client 생성"
   ]
  },
  {
   "cell_type": "code",
   "execution_count": 4,
   "id": "33e8e72e-d6bc-4a0a-b7f5-99abfd674a3c",
   "metadata": {
    "tags": []
   },
   "outputs": [
    {
     "name": "stdout",
     "output_type": "stream",
     "text": [
      "Create new client\n",
      "  Using region: None\n",
      "  Using profile: None\n",
      "boto3 Bedrock client successfully created!\n",
      "bedrock-runtime(https://bedrock-runtime.us-west-2.amazonaws.com)\n",
      "\u001b[32m\n",
      "== FM lists ==\u001b[0m\n",
      "{'Claude-Instant-V1': 'anthropic.claude-instant-v1',\n",
      " 'Claude-V1': 'anthropic.claude-v1',\n",
      " 'Claude-V2': 'anthropic.claude-v2',\n",
      " 'Claude-V2-1': 'anthropic.claude-v2:1',\n",
      " 'Cohere-Embeddings-En': 'cohere.embed-english-v3',\n",
      " 'Cohere-Embeddings-Multilingual': 'cohere.embed-multilingual-v3',\n",
      " 'Command': 'cohere.command-text-v14',\n",
      " 'Command-Light': 'cohere.command-light-text-v14',\n",
      " 'Jurassic-2-Mid': 'ai21.j2-mid-v1',\n",
      " 'Jurassic-2-Ultra': 'ai21.j2-ultra-v1',\n",
      " 'Llama2-13b-Chat': 'meta.llama2-13b-chat-v1',\n",
      " 'Titan-Embeddings-G1': 'amazon.titan-embed-text-v1',\n",
      " 'Titan-Text-G1': 'amazon.titan-text-express-v1',\n",
      " 'Titan-Text-G1-Light': 'amazon.titan-text-lite-v1'}\n"
     ]
    }
   ],
   "source": [
    "import json\n",
    "import boto3\n",
    "from pprint import pprint\n",
    "from termcolor import colored\n",
    "from utils import bedrock, print_ww\n",
    "from utils.bedrock import bedrock_info\n",
    "\n",
    "# ---- ⚠️ Un-comment and edit the below lines as needed for your AWS setup ⚠️ ----\n",
    "\n",
    "# os.environ[\"AWS_DEFAULT_REGION\"] = \"<REGION_NAME>\"  # E.g. \"us-east-1\"\n",
    "# os.environ[\"AWS_PROFILE\"] = \"<YOUR_PROFILE>\"\n",
    "# os.environ[\"BEDROCK_ASSUME_ROLE\"] = \"<YOUR_ROLE_ARN>\"  # E.g. \"arn:aws:...\"\n",
    "# os.environ[\"BEDROCK_ENDPOINT_URL\"] = \"<YOUR_ENDPOINT_URL>\"  # E.g. \"https://...\"\n",
    "\n",
    "\n",
    "boto3_bedrock = bedrock.get_bedrock_client(\n",
    "    assumed_role=os.environ.get(\"BEDROCK_ASSUME_ROLE\", None),\n",
    "    endpoint_url=os.environ.get(\"BEDROCK_ENDPOINT_URL\", None),\n",
    "    region=os.environ.get(\"AWS_DEFAULT_REGION\", None),\n",
    ")\n",
    "\n",
    "print (colored(\"\\n== FM lists ==\", \"green\"))\n",
    "pprint (bedrock_info.get_list_fm_models())"
   ]
  },
  {
   "cell_type": "markdown",
   "id": "d1d9f671-0306-4960-b532-25647ce64d97",
   "metadata": {},
   "source": [
    "# 2. Titan Embedding 및 LLM 인 Claude-v2 모델 로딩"
   ]
  },
  {
   "cell_type": "markdown",
   "id": "6171f58d-fc04-408b-9ca5-e25e0f916929",
   "metadata": {},
   "source": [
    "## LLM 로딩 (Claude-v2.1)"
   ]
  },
  {
   "cell_type": "code",
   "execution_count": 5,
   "id": "8b497a63-128c-4c7c-96ac-6f266c3bbd2c",
   "metadata": {
    "tags": []
   },
   "outputs": [],
   "source": [
    "from langchain.llms.bedrock import Bedrock\n",
    "from langchain.callbacks.streaming_stdout import StreamingStdOutCallbackHandler"
   ]
  },
  {
   "cell_type": "code",
   "execution_count": 6,
   "id": "1a6afc9a-0502-40cd-be9e-7b3151f3ad71",
   "metadata": {
    "tags": []
   },
   "outputs": [
    {
     "data": {
      "text/plain": [
       "Bedrock(client=<botocore.client.BedrockRuntime object at 0x7fdeebe4c490>, model_id='anthropic.claude-v2:1', model_kwargs={'max_tokens_to_sample': 512}, streaming=True, callbacks=[<langchain_core.callbacks.streaming_stdout.StreamingStdOutCallbackHandler object at 0x7fdf1580df30>])"
      ]
     },
     "execution_count": 6,
     "metadata": {},
     "output_type": "execute_result"
    }
   ],
   "source": [
    "# - create the Anthropic Model\n",
    "llm_text = Bedrock(\n",
    "    model_id=bedrock_info.get_model_id(model_name=\"Claude-V2-1\"),\n",
    "    client=boto3_bedrock,\n",
    "    model_kwargs={\n",
    "        \"max_tokens_to_sample\": 512\n",
    "    },\n",
    "    streaming=True,\n",
    "    callbacks=[StreamingStdOutCallbackHandler()]\n",
    ")\n",
    "llm_text"
   ]
  },
  {
   "cell_type": "markdown",
   "id": "dca0867f-4a42-49b3-9801-d169bb176918",
   "metadata": {},
   "source": [
    "## Embedding 모델 선택"
   ]
  },
  {
   "cell_type": "code",
   "execution_count": 7,
   "id": "19277289-b417-467a-bfdf-9c710cc7f0ba",
   "metadata": {
    "tags": []
   },
   "outputs": [
    {
     "name": "stderr",
     "output_type": "stream",
     "text": [
      "/home/ec2-user/anaconda3/envs/python3/lib/python3.10/site-packages/pandas/core/computation/expressions.py:21: UserWarning: Pandas requires version '2.8.0' or newer of 'numexpr' (version '2.7.3' currently installed).\n",
      "  from pandas.core.computation.check import NUMEXPR_INSTALLED\n"
     ]
    }
   ],
   "source": [
    "from utils.rag import KoSimCSERobertaContentHandler, SagemakerEndpointEmbeddingsJumpStart\n",
    "\n",
    "def get_embedding_model(is_bedrock_embeddings, is_KoSimCSERobert, aws_region, endpont_name=None):\n",
    "    if is_bedrock_embeddings:\n",
    "\n",
    "        # We will be using the Titan Embeddings Model to generate our Embeddings.\n",
    "        from langchain.embeddings import BedrockEmbeddings\n",
    "        llm_emb = BedrockEmbeddings(\n",
    "            client=boto3_bedrock,\n",
    "            model_id=bedrock_info.get_model_id(\n",
    "                model_name=\"Titan-Embeddings-G1\"\n",
    "            )\n",
    "        )\n",
    "        print(\"Bedrock Embeddings Model Loaded\")\n",
    "\n",
    "    elif is_KoSimCSERobert:\n",
    "        LLMEmbHandler = KoSimCSERobertaContentHandler()\n",
    "        endpoint_name_emb = endpont_name\n",
    "        llm_emb = SagemakerEndpointEmbeddingsJumpStart(\n",
    "            endpoint_name=endpoint_name_emb,\n",
    "            region_name=aws_region,\n",
    "            content_handler=LLMEmbHandler,\n",
    "        )        \n",
    "        print(\"KoSimCSERobert Embeddings Model Loaded\")\n",
    "    else:\n",
    "        llm_emb = None\n",
    "        print(\"No Embedding Model Selected\")\n",
    "    \n",
    "    return llm_emb"
   ]
  },
  {
   "cell_type": "markdown",
   "id": "456492cc-edee-4ad9-ac14-bee9f24109f6",
   "metadata": {},
   "source": [
    "#### [중요] is_KoSimCSERobert == True 일시에 endpoint_name 을 꼭 넣어 주세요."
   ]
  },
  {
   "cell_type": "code",
   "execution_count": 8,
   "id": "548af020-92ad-48d2-bf2d-773e3fb98398",
   "metadata": {
    "tags": []
   },
   "outputs": [
    {
     "name": "stdout",
     "output_type": "stream",
     "text": [
      "Bedrock Embeddings Model Loaded\n"
     ]
    }
   ],
   "source": [
    "is_bedrock_embeddings = True\n",
    "is_KoSimCSERobert = False\n",
    "\n",
    "aws_region = os.environ.get(\"AWS_DEFAULT_REGION\", None)\n",
    "\n",
    "##############################\n",
    "# Parameters for is_KoSimCSERobert\n",
    "##############################\n",
    "if is_KoSimCSERobert: endpont_name = \"<endpoint-name>\"\n",
    "else: endpont_name = None\n",
    "##############################\n",
    "\n",
    "llm_emb = get_embedding_model(is_bedrock_embeddings, is_KoSimCSERobert, aws_region, endpont_name)    "
   ]
  },
  {
   "cell_type": "markdown",
   "id": "d32bac51-d495-44a6-8c8e-10b62c4780e9",
   "metadata": {
    "tags": []
   },
   "source": [
    "# 3. LangChain OpenSearch VectorStore 생성 \n",
    "## 선수 조건\n",
    "- 이전 노트북 02_1_KR_RAG_OpenSearch_Keyword.ipynb 또는 02_1_KR_RAG_OpenSearch_Semantic.ipynb를 통해서 OpenSearch Index 가 생성이 되어 있어야 합니다."
   ]
  },
  {
   "cell_type": "markdown",
   "id": "e33dd908-116d-4726-bd40-b473216f169c",
   "metadata": {},
   "source": [
    "## 오픈 서치 도메인 및 인증 정보 세팅\n",
    "\n",
    "- [langchain.vectorstores.opensearch_vector_search.OpenSearchVectorSearch](https://api.python.langchain.com/en/latest/vectorstores/langchain.vectorstores.opensearch_vector_search.OpenSearchVectorSearch.html)"
   ]
  },
  {
   "cell_type": "markdown",
   "id": "eee1be0a-aefc-46f6-827f-2f711a262f0e",
   "metadata": {},
   "source": [
    "#### [중요] 02_1_rag_opensearch_lexical_kr.ipynb를 통해 opensearch의 \"genai-demo-index-v1-with-tokenizer\" 인덱스가 생성되어 있어야 합니다."
   ]
  },
  {
   "cell_type": "code",
   "execution_count": 9,
   "id": "5600464b-0e54-4e4b-be13-12fdcecee02c",
   "metadata": {
    "tags": []
   },
   "outputs": [],
   "source": [
    "http_auth = (opensearch_user_id, opensearch_user_password) # Master username, Master password\n",
    "index_name = \"genai-demo-index-v1-with-tokenizer\""
   ]
  },
  {
   "cell_type": "markdown",
   "id": "739c0cbc-547a-4f1c-80a2-de30149641a2",
   "metadata": {
    "tags": []
   },
   "source": [
    "## LangChain OpenSearch VectorStore 생성"
   ]
  },
  {
   "cell_type": "code",
   "execution_count": 10,
   "id": "92a97a8d-0949-4a72-a0b9-c83003cfbd44",
   "metadata": {
    "tags": []
   },
   "outputs": [],
   "source": [
    "from langchain.vectorstores import OpenSearchVectorSearch\n",
    "vector_db = OpenSearchVectorSearch(\n",
    "    index_name=index_name,\n",
    "    opensearch_url=opensearch_domain_endpoint,\n",
    "    embedding_function=llm_emb,\n",
    "    http_auth=http_auth, # http_auth\n",
    "    is_aoss =False,\n",
    "    engine=\"faiss\",\n",
    "    space_type=\"l2\"\n",
    ")"
   ]
  },
  {
   "cell_type": "markdown",
   "id": "f5eb9b0f-b62b-412a-a6dd-351e23d93cea",
   "metadata": {},
   "source": [
    "## OpenSearch Client 생성"
   ]
  },
  {
   "cell_type": "code",
   "execution_count": 11,
   "id": "52ad59ce-768d-49f3-b032-97d2364c66fe",
   "metadata": {
    "tags": []
   },
   "outputs": [],
   "source": [
    "from utils.opensearch import opensearch_utils\n",
    "os_client = opensearch_utils.create_aws_opensearch_client(\n",
    "    aws_region,\n",
    "    opensearch_domain_endpoint,\n",
    "    http_auth\n",
    ")"
   ]
  },
  {
   "cell_type": "markdown",
   "id": "55c17e66-f19f-4260-adbe-42ef3751cd18",
   "metadata": {
    "tags": []
   },
   "source": [
    "## 형태소 분석기 (nori_tokenizer) 사용하기 in Opensearch\n",
    "- 형태소 분석기에 대한 자세한 사항은 02_1_KR_RAG_OpenSearch_Keyword.ipynb 참고"
   ]
  },
  {
   "cell_type": "markdown",
   "id": "0d5bf7b7-d003-46d5-b3b7-bdde9ad5191e",
   "metadata": {},
   "source": [
    "### 인덱스 확인 (tokenization 확인)"
   ]
  },
  {
   "cell_type": "code",
   "execution_count": 12,
   "id": "f5f4620e-0720-4d04-96f9-828888ffa9bc",
   "metadata": {
    "tags": []
   },
   "outputs": [
    {
     "name": "stdout",
     "output_type": "stream",
     "text": [
      "{'genai-demo-index-v1-with-tokenizer': {'aliases': {},\n",
      "                                        'mappings': {'properties': {'metadata': {'properties': {'row': {'type': 'long'},\n",
      "                                                                                                'source': {'type': 'keyword'},\n",
      "                                                                                                'timestamp': {'type': 'float'},\n",
      "                                                                                                'type': {'type': 'keyword'}}},\n",
      "                                                                    'text': {'analyzer': 'my_analyzer',\n",
      "                                                                             'fields': {'keyword': {'ignore_above': 256,\n",
      "                                                                                                    'type': 'keyword'}},\n",
      "                                                                             'type': 'text'},\n",
      "                                                                    'vector_field': {'dimension': 1536,\n",
      "                                                                                     'method': {'engine': 'nmslib',\n",
      "                                                                                                'name': 'hnsw',\n",
      "                                                                                                'parameters': {'ef_construction': 512,\n",
      "                                                                                                               'm': 16},\n",
      "                                                                                                'space_type': 'l2'},\n",
      "                                                                                     'type': 'knn_vector'}}},\n",
      "                                        'settings': {'index': {'analysis': {'analyzer': {'my_analyzer': {'char_filter': ['html_strip'],\n",
      "                                                                                                         'filter': ['nori_number',\n",
      "                                                                                                                    'nori_readingform',\n",
      "                                                                                                                    'lowercase'],\n",
      "                                                                                                         'tokenizer': 'nori',\n",
      "                                                                                                         'type': 'custom'}},\n",
      "                                                                            'tokenizer': {'nori': {'decompound_mode': 'mixed',\n",
      "                                                                                                   'discard_punctuation': 'true',\n",
      "                                                                                                   'type': 'nori_tokenizer'}}},\n",
      "                                                               'creation_date': '1702378573390',\n",
      "                                                               'knn': 'true',\n",
      "                                                               'knn.algo_param': {'ef_search': '512'},\n",
      "                                                               'number_of_replicas': '2',\n",
      "                                                               'number_of_shards': '5',\n",
      "                                                               'provided_name': 'genai-demo-index-v1-with-tokenizer',\n",
      "                                                               'uuid': '9YvlvxKkSBWQK5MzaBV20A',\n",
      "                                                               'version': {'created': '136307827'}}}}}\n"
     ]
    }
   ],
   "source": [
    "index_info = os_client.indices.get(index=index_name)\n",
    "pprint(index_info)"
   ]
  },
  {
   "cell_type": "markdown",
   "id": "83a8087c-8285-469d-af4b-e0f0afb7e95a",
   "metadata": {
    "tags": []
   },
   "source": [
    "# 4. 오픈 서치에 \"유사 서치\" 검색\n",
    "- query 를 제공해서 실제로 유사한 내용이 검색이 되는지를 확인 합니다.\n",
    "\n"
   ]
  },
  {
   "cell_type": "markdown",
   "id": "1507daa4-7642-4288-9c87-df37d54958b0",
   "metadata": {},
   "source": [
    "- similarity_search_with_score API 정보\n",
    "    - [API: similarity_search_with_score](https://api.python.langchain.com/en/latest/vectorstores/langchain.vectorstores.opensearch_vector_search.OpenSearchVectorSearch.html#langchain.vectorstores.opensearch_vector_search.OpenSearchVectorSearch.similarity_search)"
   ]
  },
  {
   "cell_type": "code",
   "execution_count": 13,
   "id": "5ab42354-7478-4d4b-9f07-782ba701617f",
   "metadata": {
    "tags": []
   },
   "outputs": [],
   "source": [
    "import copy\n",
    "from langchain.schema import Document\n",
    "from langchain import PromptTemplate\n",
    "from operator import itemgetter"
   ]
  },
  {
   "cell_type": "markdown",
   "id": "c5d67b3b-0e7f-427e-b7e6-9bcbce12fe4e",
   "metadata": {},
   "source": [
    "## (1) OpenSearch Vector 검색"
   ]
  },
  {
   "cell_type": "markdown",
   "id": "ef54c091-f018-47ed-b1eb-d7c31a1f9343",
   "metadata": {},
   "source": [
    "### 프로프트 템플릿 생성"
   ]
  },
  {
   "cell_type": "code",
   "execution_count": 14,
   "id": "942c11cb-b9a2-4601-b7b3-3b1c119dc6f9",
   "metadata": {
    "tags": []
   },
   "outputs": [],
   "source": [
    "from utils.rag import run_RetrievalQA, show_context_used\n",
    "from langchain.prompts import PromptTemplate"
   ]
  },
  {
   "cell_type": "markdown",
   "id": "a435c89b-e096-468d-baa2-6d2035458bd6",
   "metadata": {},
   "source": [
    "### [TIP] Prompt의 instruction의 경우 한글보다 **영어**로 했을 때 더 좋은 결과를 얻을 수 있습니다."
   ]
  },
  {
   "cell_type": "code",
   "execution_count": 15,
   "id": "ca6fd51a-ae36-46f3-82be-2a6787d00e0c",
   "metadata": {
    "tags": []
   },
   "outputs": [],
   "source": [
    "# prompt_template = \"\"\"\n",
    "# \\n\\nHuman: 다음 문맥의 Information을 사용하여 고객 서비스 센터 직원처럼, 마지막 질문에 대한 목차 형식으로 답변을 제공하세요. 응답을 모르면 모른다고 말하고 응답을 만들려고 하지 마세요.\n",
    "\n",
    "# {context}\n",
    "\n",
    "# Question: {question}\n",
    "# \\n\\nAssistant:\"\"\"\n",
    "\n",
    "prompt_template = \"\"\"\n",
    "\n",
    "\n",
    "Human: Here is the context, inside <context></context> XML tags.\n",
    "\n",
    "<context>\n",
    "{context}\n",
    "</context>\n",
    "\n",
    "Only using the contex as above, answer the following question with the rules as below:\n",
    "    - Don't insert XML tag such as <context> and </context> when answering.\n",
    "    - Write as much as you can\n",
    "    - Be courteous and polite\n",
    "    - Only answer the question if you can find the answer in the context with certainty.\n",
    "\n",
    "Question:\n",
    "{question}\n",
    "\n",
    "If the answer is not in the context, just say \"주어진 내용에서 관련 답변을 찾을 수 없습니다.\"\n",
    "\n",
    "\n",
    "Assistant:\"\"\"\n",
    "\n",
    "PROMPT = PromptTemplate(\n",
    "    template=prompt_template, input_variables=[\"context\", \"question\"]\n",
    ")\n"
   ]
  },
  {
   "cell_type": "markdown",
   "id": "805f86f7-9177-4f3b-9931-2056250210e2",
   "metadata": {},
   "source": [
    "### 필터 생성"
   ]
  },
  {
   "cell_type": "code",
   "execution_count": 16,
   "id": "04e47cb1-c213-47a3-bb39-c682db5af4bc",
   "metadata": {
    "tags": []
   },
   "outputs": [
    {
     "name": "stdout",
     "output_type": "stream",
     "text": [
      "[{'term': {'metadata.type': '인터넷뱅킹'}}, {'term': {'metadata.source': '신한은행'}}]\n"
     ]
    }
   ],
   "source": [
    "filter01 = \"인터넷뱅킹\"\n",
    "filter02 = \"신한은행\"\n",
    "query = \"중지된 경우 이체\"\n",
    "\n",
    "boolean_filter = [\n",
    "    {\"term\": {\"metadata.type\": filter01}},\n",
    "    {\"term\": {\"metadata.source\": filter02}},\n",
    "]\n",
    "\n",
    "pprint(boolean_filter)"
   ]
  },
  {
   "cell_type": "markdown",
   "id": "39bf26f0-2a8c-4e2f-9fbb-fb8a5c3bf227",
   "metadata": {},
   "source": [
    "### LangChain RetrievalQA 를 통해 실행\n",
    "- 아래와 같이 top_k = 5 를 실행하면 해당 관련 Context 를 가져오지 못하고 , \"주어진 내용에서 찾을 수 없습니다\" 라고 답변 함."
   ]
  },
  {
   "cell_type": "code",
   "execution_count": 17,
   "id": "19ef0a3e-ab46-4a6e-b7ad-520781484038",
   "metadata": {
    "tags": []
   },
   "outputs": [
    {
     "name": "stdout",
     "output_type": "stream",
     "text": [
      "\n",
      "\n",
      "\u001b[1m> Entering new RetrievalQA chain...\u001b[0m\n",
      "\n",
      "\n",
      "\u001b[1m> Entering new StuffDocumentsChain chain...\u001b[0m\n",
      "\n",
      "\n",
      "\u001b[1m> Entering new LLMChain chain...\u001b[0m\n",
      "Prompt after formatting:\n",
      "\u001b[32;1m\u001b[1;3m\n",
      "\n",
      "\n",
      "Human: Here is the context, inside <context></context> XML tags.\n",
      "\n",
      "<context>\n",
      "ask: 이체한도란 무엇인가요?\n",
      "Information: 이체한도란 인터넷뱅킹, 폰뱅킹, 모바일뱅킹 등을 통하여 이체할 수 있는 거래한도를 말합니다. ① 1일/1회 이체한도 1일 이체한도란 하루에 거래할 수 있는 이체금액의 합을 말하여, 1회 이체한도란 1회에 이체하실 수 있는 금액의 한도를 말합니다. ② 통합이체한도 인터넷뱅킹, 폰뱅킹, 모바일뱅킹 등을 고객님이 사용하시는 경우 고객님이 1일 또는 1회에 이체하실 수 있는 이체한도를 말합니다. 인터넷뱅킹, 폰뱅킹, 모바일뱅킹 등에서 고객님이 거래하신 이체금액의 합이 통합이체한도의 범위를 초과할 수 없습니다. ③ 최고이체한도 금융감독원에서는 개인의 전자금융 시 이용할 수 있는 이체한도의 가이드라인을 정하고 있습니다.(인터넷뱅킹 : 1일 5억원, 1회 1억원 이내)\n",
      "</context>\n",
      "\n",
      "Only using the contex as above, answer the following question with the rules as below:\n",
      "    - Don't insert XML tag such as <context> and </context> when answering.\n",
      "    - Write as much as you can\n",
      "    - Be courteous and polite\n",
      "    - Only answer the question if you can find the answer in the context with certainty.\n",
      "\n",
      "Question:\n",
      "중지된 경우 이체\n",
      "\n",
      "If the answer is not in the context, just say \"주어진 내용에서 관련 답변을 찾을 수 없습니다.\"\n",
      "\n",
      "\n",
      "Assistant:\u001b[0m\n",
      " 주어진 맥락에서 \"중지된 경우 이체\"에 대한 정보를 찾을 수 없습니다. 맥락은 주로 이체한도에 대한 정의와 종류들에 대해 설명하고 있습니다. \n",
      "\n",
      "\"1일/1회 이체한도\", \"통합이체한도\", \"최고이체한도\" 등 이체한도의 개념들이 언급되어 있지만, \"중지된 경우 이체\"와 관련된 내용은 포함되어 있지 않습니다. \n",
      "\n",
      "죄송합니다. 주어진 정보만으로는 질문에 대한 답변을 드리기 어렵습니다.\n",
      "\u001b[1m> Finished chain.\u001b[0m\n",
      "\n",
      "\u001b[1m> Finished chain.\u001b[0m\n",
      "\n",
      "\u001b[1m> Finished chain.\u001b[0m\n",
      "##################################\n",
      "query:  중지된 경우 이체\n",
      "boolean_filter:  [{'term': {'metadata.type': '인터넷뱅킹'}}, {'term': {'metadata.source': '신한은행'}}]\n",
      "##################################\n",
      "\u001b[34m\n",
      "\n",
      "### Answer ###\u001b[0m\n",
      " 주어진 맥락에서 \"중지된 경우 이체\"에 대한 정보를 찾을 수 없습니다. 맥락은 주로 이체한도에 대한 정의와 종류들에 대해 설명하고 있습니다.\n",
      "\n",
      "\"1일/1회 이체한도\", \"통합이체한도\", \"최고이체한도\" 등 이체한도의 개념들이 언급되어 있지만, \"중지된 경우 이체\"와 관련된 내용은 포함되어 있지 않습니다.\n",
      "\n",
      "죄송합니다. 주어진 정보만으로는 질문에 대한 답변을 드리기 어렵습니다.\n",
      "\u001b[32m\n",
      "\n",
      "### Contexts ###\u001b[0m\n",
      "-----------------------------------------------\n",
      "1. Chunk: 402 Characters\n",
      "-----------------------------------------------\n",
      "ask: 이체한도란 무엇인가요?\n",
      "Information: 이체한도란 인터넷뱅킹, 폰뱅킹, 모바일뱅킹 등을 통하여 이체할 수 있는 거래한도를 말합니다. ① 1일/1회 이체한도 1일 이체한도란 하루에 거래할 수 있는\n",
      "이체금액의 합을 말하여, 1회 이체한도란 1회에 이체하실 수 있는 금액의 한도를 말합니다. ② 통합이체한도 인터넷뱅킹, 폰뱅킹, 모바일뱅킹 등을 고객님이 사용하시는 경우 고객님이\n",
      "1일 또는 1회에 이체하실 수 있는 이체한도를 말합니다. 인터넷뱅킹, 폰뱅킹, 모바일뱅킹 등에서 고객님이 거래하신 이체금액의 합이 통합이체한도의 범위를 초과할 수 없습니다. ③\n",
      "최고이체한도 금융감독원에서는 개인의 전자금융 시 이용할 수 있는 이체한도의 가이드라인을 정하고 있습니다.(인터넷뱅킹 : 1일 5억원, 1회 1억원 이내)\n",
      "metadata:\n",
      " {'source': '신한은행', 'row': 39, 'type': '인터넷뱅킹', 'timestamp': 1702378552.5638924}\n"
     ]
    }
   ],
   "source": [
    "result = run_RetrievalQA(\n",
    "    query=query,\n",
    "    boolean_filter=boolean_filter,\n",
    "    llm=llm_text,\n",
    "    prompt=PROMPT,\n",
    "    vector_db=vector_db,\n",
    "    verbose=True,\n",
    "    k=1\n",
    ")\n",
    "\n",
    "print(\"##################################\")\n",
    "print(\"query: \", query)\n",
    "print(\"boolean_filter: \", boolean_filter)\n",
    "print(\"##################################\")\n",
    "\n",
    "print (colored(\"\\n\\n### Answer ###\", \"blue\"))\n",
    "print_ww(result['result'])\n",
    "\n",
    "print (colored(\"\\n\\n### Contexts ###\", \"green\"))\n",
    "show_context_used(result['source_documents'])"
   ]
  },
  {
   "cell_type": "markdown",
   "id": "4b652850-90b9-4fb3-8fa8-e7f590844ed9",
   "metadata": {},
   "source": [
    "## (2) OpenSearch Keyword 검색\n",
    "- \"minimum_should_match=50\" 세팅을 하고, 관련 컨텍스트를 찾아 오지 못합니다."
   ]
  },
  {
   "cell_type": "code",
   "execution_count": 18,
   "id": "ad1bcb21",
   "metadata": {
    "tags": []
   },
   "outputs": [],
   "source": [
    "from utils.rag import retriever_utils"
   ]
  },
  {
   "cell_type": "code",
   "execution_count": 19,
   "id": "233684b4-70fa-4342-bd58-8ba3d41502a6",
   "metadata": {
    "tags": []
   },
   "outputs": [],
   "source": [
    "from utils.opensearch import opensearch_utils\n",
    "from langchain.chains.question_answering import load_qa_chain"
   ]
  },
  {
   "cell_type": "code",
   "execution_count": 20,
   "id": "aeff3cd0-99c9-4e48-9250-3ec1e45f1bbd",
   "metadata": {
    "tags": []
   },
   "outputs": [
    {
     "name": "stdout",
     "output_type": "stream",
     "text": [
      "[Document(page_content='ask: 예약이체를 했는데 이체일에 송금이 안된 경우는?\\nInformation: 모든 예약이체 등록건은 예약이체 지정일 지정된 시간(오전 7시, 오전 9시, 오전 11시, 오후 1시, 오후 3시, 오후 5시, 오후 7시, 오후 9시) 이전에 출금할 계좌에 송금액이 입금이 되어야 이체가 실행될 수 있습니다.\\r\\n이체가 되지 않았다고 판단되실 경우에는 반드시 먼저 \"예약이체처리결과조회\" 또는 \"계좌 거래내역\"을 확인 하시어 이체여부 및 출금여부를 확인하시기 바랍니다. 또한 예약이체 신청시 SMS 결과통보신청을 하셨다면 요청하신 휴대폰번호로 수신된 문자를 확인해주시기 바라며, 정해진 시간에 이체되지 않은 경우 신한은행 고객상담센터 ☎ 1599-8000번으로 문의 주시기 바랍니다.', metadata={'source': '신한은행', 'row': 37, 'type': '인터넷뱅킹', 'timestamp': 1702378552.563887, 'id': 'e3d5a802-1424-43fc-89e1-f4e3875b8ffb'})]\n"
     ]
    }
   ],
   "source": [
    "filter01 = \"인터넷뱅킹\"\n",
    "filter02 = \"신한은행\"\n",
    "query = \"중지된 경우 이체\"\n",
    "\n",
    "search_keyword_result = retriever_utils.get_lexical_similar_docs(\n",
    "    query=query,\n",
    "    minimum_should_match=0,\n",
    "    filter=[\n",
    "        {\"term\": {\"metadata.type\": filter01}},\n",
    "        {\"term\": {\"metadata.source\": filter02}},\n",
    "    ],\n",
    "    index_name=index_name,\n",
    "    os_client=os_client,\n",
    "    k=1,\n",
    "    hybrid=False\n",
    ")\n",
    "print(search_keyword_result)"
   ]
  },
  {
   "cell_type": "code",
   "execution_count": 21,
   "id": "ba3d39ae-0ecf-485c-a1de-bae28674e4fd",
   "metadata": {
    "tags": []
   },
   "outputs": [
    {
     "name": "stdout",
     "output_type": "stream",
     "text": [
      "\n",
      "\n",
      "\u001b[1m> Entering new StuffDocumentsChain chain...\u001b[0m\n",
      "\n",
      "\n",
      "\u001b[1m> Entering new LLMChain chain...\u001b[0m\n",
      "Prompt after formatting:\n",
      "\u001b[32;1m\u001b[1;3m\n",
      "\n",
      "\n",
      "Human: Here is the context, inside <context></context> XML tags.\n",
      "\n",
      "<context>\n",
      "ask: 예약이체를 했는데 이체일에 송금이 안된 경우는?\n",
      "Information: 모든 예약이체 등록건은 예약이체 지정일 지정된 시간(오전 7시, 오전 9시, 오전 11시, 오후 1시, 오후 3시, 오후 5시, 오후 7시, 오후 9시) 이전에 출금할 계좌에 송금액이 입금이 되어야 이체가 실행될 수 있습니다.\n",
      "이체가 되지 않았다고 판단되실 경우에는 반드시 먼저 \"예약이체처리결과조회\" 또는 \"계좌 거래내역\"을 확인 하시어 이체여부 및 출금여부를 확인하시기 바랍니다. 또한 예약이체 신청시 SMS 결과통보신청을 하셨다면 요청하신 휴대폰번호로 수신된 문자를 확인해주시기 바라며, 정해진 시간에 이체되지 않은 경우 신한은행 고객상담센터 ☎ 1599-8000번으로 문의 주시기 바랍니다.\n",
      "</context>\n",
      "\n",
      "Only using the contex as above, answer the following question with the rules as below:\n",
      "    - Don't insert XML tag such as <context> and </context> when answering.\n",
      "    - Write as much as you can\n",
      "    - Be courteous and polite\n",
      "    - Only answer the question if you can find the answer in the context with certainty.\n",
      "\n",
      "Question:\n",
      "중지된 경우 이체\n",
      "\n",
      "If the answer is not in the context, just say \"주어진 내용에서 관련 답변을 찾을 수 없습니다.\"\n",
      "\n",
      "\n",
      "Assistant:\u001b[0m\n",
      " 주어진 내용에는 예약이체가 중지된 경우에 대한 내용이 포함되어 있지 않습니다. 다만, 예약이체 실행을 위한 필수 조건으로 지정일 지정 시간 이전에 송금액이 입금되어야 함을 설명하고 있습니다. 이체 실행 여부 확인을 위해 '예약이체처리결과조회'나 '계좌 거래내역' 확인을 권고하고 있습니다. 중지에 대한 직접적인 설명은 없는 것으로 보입니다. \n",
      "\n",
      "주어진 내용에서 관련 답변을 찾을 수 없습니다.\n",
      "\u001b[1m> Finished chain.\u001b[0m\n",
      "\n",
      "\u001b[1m> Finished chain.\u001b[0m\n",
      "##############################\n",
      "query: \n",
      " 중지된 경우 이체\n",
      "answer: \n",
      "  주어진 내용에는 예약이체가 중지된 경우에 대한 내용이 포함되어 있지 않습니다. 다만, 예약이체 실행을 위한 필수 조건으로 지정일 지정 시간 이전에 송금액이 입금되어야 함을 설명하고 있습니다. 이체 실행 여부 확인을 위해 '예약이체처리결과조회'나 '계좌 거래내역' 확인을 권고하고 있습니다. 중지에 대한 직접적인 설명은 없는 것으로 보입니다. \n",
      "\n",
      "주어진 내용에서 관련 답변을 찾을 수 없습니다.\n"
     ]
    }
   ],
   "source": [
    "chain = load_qa_chain(\n",
    "    llm=llm_text,\n",
    "    chain_type=\"stuff\",\n",
    "    prompt=PROMPT,\n",
    "    verbose=True\n",
    ")\n",
    "\n",
    "answer = chain.run(\n",
    "    input_documents=search_keyword_result,\n",
    "    question=query\n",
    ")\n",
    "\n",
    "print(\"##############################\")\n",
    "print(\"query: \\n\", query)\n",
    "print(\"answer: \\n\", answer)"
   ]
  },
  {
   "cell_type": "markdown",
   "id": "5d4c2835-355a-4ce5-bbdf-64e3b69f3fd9",
   "metadata": {
    "tags": []
   },
   "source": [
    "### 키워드 검색 결과 (search_keyword_result)\n",
    "bm25 score는 max_value로 normalization 되어 있음 (score range 0 - 1)"
   ]
  },
  {
   "cell_type": "code",
   "execution_count": 22,
   "id": "705d287f-2dee-4a01-a7a1-cf39922c5ad0",
   "metadata": {
    "tags": []
   },
   "outputs": [
    {
     "data": {
      "text/plain": [
       "[Document(page_content='ask: 예약이체를 했는데 이체일에 송금이 안된 경우는?\\nInformation: 모든 예약이체 등록건은 예약이체 지정일 지정된 시간(오전 7시, 오전 9시, 오전 11시, 오후 1시, 오후 3시, 오후 5시, 오후 7시, 오후 9시) 이전에 출금할 계좌에 송금액이 입금이 되어야 이체가 실행될 수 있습니다.\\r\\n이체가 되지 않았다고 판단되실 경우에는 반드시 먼저 \"예약이체처리결과조회\" 또는 \"계좌 거래내역\"을 확인 하시어 이체여부 및 출금여부를 확인하시기 바랍니다. 또한 예약이체 신청시 SMS 결과통보신청을 하셨다면 요청하신 휴대폰번호로 수신된 문자를 확인해주시기 바라며, 정해진 시간에 이체되지 않은 경우 신한은행 고객상담센터 ☎ 1599-8000번으로 문의 주시기 바랍니다.', metadata={'source': '신한은행', 'row': 37, 'type': '인터넷뱅킹', 'timestamp': 1702378552.563887, 'id': 'e3d5a802-1424-43fc-89e1-f4e3875b8ffb'})]"
      ]
     },
     "execution_count": 22,
     "metadata": {},
     "output_type": "execute_result"
    }
   ],
   "source": [
    "search_keyword_result"
   ]
  },
  {
   "cell_type": "markdown",
   "id": "a67677f4-2e37-44a2-b11f-2ba338651c85",
   "metadata": {
    "tags": []
   },
   "source": [
    "## (3) OpenSearch Hybrid 검색\n",
    "- 아래는 결론적으로 query = \"홈페이지 이용자아이디 여러 개 사용할 수 있나요?\" 에 답변을 제공 합니다.\n",
    "    - 시멘티 서치에서 LangChain 의 RetrievalQA 사용 대신에 , LangChain OpenSearch Vector Store의 similarity_search_with_score 를 사용 하여 제일 첫번재에 해당 답변이 검색이 됩니다.\n",
    "    - 키워드 검색에서는 해당 qeury 가 검색이 되지 않습니다.\n",
    "    - 이후에 시멘틱 검색, 키워드 검색에 가중치를 [0.3 , 0.5] 를 주어서 Ensembe 을 하여 랭킹을 하면, top_k = 5 에서 5번재로 Context 로 포함이 되어서 , 최종 검색이 됩니다."
   ]
  },
  {
   "cell_type": "markdown",
   "id": "28b1978e-de8d-41a6-84e1-36c8efdaf7ec",
   "metadata": {
    "tags": []
   },
   "source": [
    "#### OpenSearch Hybrid 는 아래와 같은 방식으로 작동합니다.\n",
    "- (1) \"Vector 서치\" 하여 스코어를 얻은 후에 표준화를 하여 스코어를 구함. \n",
    "    - 전체 결과에서 가장 높은 스코어는 표준화 과정을 통하여 스코어가 1.0 이 됨.\n",
    "- (2) Keyword 서치도 동일하게 함.\n",
    "- (3) 위의 두 개의 결과에 랭킹 알고리즘 (\"RRF\" 혹은 \"simple_weighted\"] 을 통해, 스코어를 계산하여 정렬하여 제공 함.\n",
    "    - 여기서는 simple_weighted 사용 함."
   ]
  },
  {
   "cell_type": "markdown",
   "id": "08264189-2886-4923-a3da-d0cd94f58d0a",
   "metadata": {},
   "source": [
    "스코어 표준화 예시\n",
    "\n",
    "<pre>\n",
    "Docs    Score\t    Normalized-Score\n",
    "\n",
    "Doc1: \t0.0083\t\t1.0\n",
    "\n",
    "Doc2: \t0.0074\t\t0.8900\n",
    "\n",
    "Doc3: \t0.0071\t\t0.8585\n",
    "\n",
    "Example: 0.0074 / 0.0083 = 0.8900\n",
    "</pre>"
   ]
  },
  {
   "cell_type": "code",
   "execution_count": 23,
   "id": "02bf59e1-efb2-4fca-a3dc-47322d31387a",
   "metadata": {
    "tags": []
   },
   "outputs": [],
   "source": [
    "from functools import partial\n",
    "from multiprocessing.pool import ThreadPool\n",
    "#from utils.rag import get_semantic_similar_docs, get_lexical_similar_docs, get_ensemble_results, get_rerank_docs"
   ]
  },
  {
   "cell_type": "code",
   "execution_count": 24,
   "id": "e85e5d94-567f-4a2c-9674-06613e09656e",
   "metadata": {
    "tags": []
   },
   "outputs": [
    {
     "name": "stdout",
     "output_type": "stream",
     "text": [
      "##############################\n",
      "async_mode\n",
      "##############################\n",
      "True\n",
      "##############################\n",
      "reranker\n",
      "##############################\n",
      "False\n",
      "##############################\n",
      "rag_fusion\n",
      "##############################\n",
      "False\n",
      "##############################\n",
      "HyDE\n",
      "##############################\n",
      "False\n",
      "##############################\n",
      "parent_document\n",
      "##############################\n",
      "False\n",
      "##############################\n",
      "similar_docs_semantic\n",
      "##############################\n",
      "[(Document(page_content='ask: 이체한도란 무엇인가요?\\nInformation: 이체한도란 인터넷뱅킹, 폰뱅킹, 모바일뱅킹 등을 통하여 이체할 수 있는 거래한도를 말합니다. ① 1일/1회 이체한도 1일 이체한도란 하루에 거래할 수 있는 이체금액의 합을 말하여, 1회 이체한도란 1회에 이체하실 수 있는 금액의 한도를 말합니다. ② 통합이체한도 인터넷뱅킹, 폰뱅킹, 모바일뱅킹 등을 고객님이 사용하시는 경우 고객님이 1일 또는 1회에 이체하실 수 있는 이체한도를 말합니다. 인터넷뱅킹, 폰뱅킹, 모바일뱅킹 등에서 고객님이 거래하신 이체금액의 합이 통합이체한도의 범위를 초과할 수 없습니다. ③ 최고이체한도 금융감독원에서는 개인의 전자금융 시 이용할 수 있는 이체한도의 가이드라인을 정하고 있습니다.(인터넷뱅킹 : 1일 5억원, 1회 1억원 이내)', metadata={'source': '신한은행', 'row': 39, 'type': '인터넷뱅킹', 'timestamp': 1702378552.5638924, 'id': 'b712e6b1-260a-4d0d-8d7d-bdb95de64f55'}), 1.0), (Document(page_content='ask: 온라인 서비스 신청시 구비서류는?\\nInformation: 온라인 서비스 신규는 본인만 가능하고 가입시 필요서류는 다음과 같습니다. 온라인 서비스 신규 시 필요서류 : 본인 신분증. 신분증 : 국가기관 또는 지방자치단체, 교육법에 의한 학교의 장이 발급한 것으로서 성명, 주민등록번호가 기재되어 있고 부착된 사진에 의하여 본인임을 확인할 수 있는 증표 (주민등록증, 운전면허증, 공무증, 여권, 노인복지카드(경로우대증), 장애인복지카드(장애인등록증 포함), 국가 유공자증, 학생증, 외국인등록증, 국내거소신고증 등). 만14세 미만 미성년자. 만 14세 미만 미성년자는 법정대리인에 의한 신청한 가능합니다. 1. 부모가 혼인중인 경우 부 또는 모 신분증, 미성년자 기준으로 발급된 특정기본증명서, 미성년자 기준으로 발급된 상세가족관계증명서. 2. 친권자나 후견인이 지정된 경우 친권자 또는 후견인의 신분증, 미성년자 기준으로 발급된 특정 기본 증명서, 미성년 자녀 기준으로 발급된 일반 가족관계증명서(후견인은 생략). 발급서류는 3개월이내 발급된 원본으로 주민등록번호 13자리가 모두 표기된 서류로 준비부탁드립니다.', metadata={'source': '신한은행', 'row': 51, 'type': '인터넷뱅킹', 'timestamp': 1702378552.5639296, 'id': '5c287060-e39e-400e-a3c6-ecc9d0016fe7'}), 0.9867655890642212), (Document(page_content='ask: 이체한도 증액은 어떻게 하나요?\\nInformation: 영업점 방문하지 않아도 모바일뱅킹 신한 쏠(SOL) 에서 비대면실명 인증후 통합이체한도 증액 가능합니다. 통합이체한도는 이용하시는 보안매체에 따라, 보안등급별 최고 한도내에서 증액가능합니다.\\r\\nOTP카드 창구 발급 시 5,000원(카드형 10,000원)의 수수료가 부과됩니다. 당행에서만 사용가능한 모바일OTP는 영업점 방문없이 신한 쏠(SOL) 에서 무료로 발급가능합니다. \\r\\n※ 모바일OTP를 이용하시는 경우 쏠(SOL)에서 이체한도 증액은 1회 1천만원 이하, 1일 5천만원 이하로 증액 가능합니다. \\r\\n※ 만 14세 미만의 경우 법정대리인(부모/친권자/후견인)에 의해 영업점 방문하여 증액 가능하며 1일, 1회 1백만원 이하로 이체한도 제한됩니다. \\r\\n통합한도란 인터넷뱅킹/신한 쏠(SOL)/폰뱅킹 등을 사용하는 경우 1일 또는 1회에 이체 가능한 통합 이체한도를 말합니다.\\r\\n* 인터넷뱅킹/신한 쏠(SOL)/폰뱅킹에서 거래한 이체금액의 합이 통합이체한도의 범위를 초과할 수 없습니다.\\r\\n기타 궁금하신 내용은 신한은행 고객센터 1599-8000로 문의하여 주시기 바랍니다.', metadata={'source': '신한은행', 'row': 33, 'type': '인터넷뱅킹', 'timestamp': 1702378552.5638757, 'id': '39006fad-9539-4883-8f0d-8c4425c50215'}), 0.9828080875907614), (Document(page_content='ask: 인터넷에서 이체한 거래의 상세내역 및 영수증을 인쇄하고 싶어요\\nInformation: 인터넷상에서 이체한 거래의 경우 인터넷상에서 제공하는 영수증은 없으며, 거래의 참고용으로 단지 조회일자 및 출금 계좌번호 등으로 상세내역(이체 확인증 목록)을 조회하거나 그 내역을 인쇄만 가능합니다. 인터넷뱅킹 거래 상세내역(이체확인증 목록)및 입금증(이체확인증) 인쇄 방법은 다음과 같습니다. ① 인터넷뱅킹에 접속하여 로그인 ② 이체 → 즉시이체 → 이체결과조회 ③ 조회구분, 출금계좌번호, 조회일자등 상세내역을 조회 ④ 입금확인증목록을 인쇄하시려면 조회된 내역 왼쪽 상단에 보이는 [이체목록인쇄] 버튼을 클릭하면 해당 거래내역을 출력할 수 있으며, 입금확인증을 인쇄하시려면 해당 이체건의 오른쪽에 있는 [인쇄] 버튼을 클릭하시면 됩니다. ※ 참고 : 즉시이체 후에도 이체확인증 목록 및 이체확인증을 출력하실 수 있습니다.', metadata={'source': '신한은행', 'row': 87, 'type': '인터넷뱅킹', 'timestamp': 1702378552.5640326, 'id': 'ccbbad3d-03bc-46a7-ba41-25ab6aab9d48'}), 0.957192667044217), (Document(page_content='ask: 예약이체를 했는데 이체일에 송금이 안된 경우는?\\nInformation: 모든 예약이체 등록건은 예약이체 지정일 지정된 시간(오전 7시, 오전 9시, 오전 11시, 오후 1시, 오후 3시, 오후 5시, 오후 7시, 오후 9시) 이전에 출금할 계좌에 송금액이 입금이 되어야 이체가 실행될 수 있습니다.\\r\\n이체가 되지 않았다고 판단되실 경우에는 반드시 먼저 \"예약이체처리결과조회\" 또는 \"계좌 거래내역\"을 확인 하시어 이체여부 및 출금여부를 확인하시기 바랍니다. 또한 예약이체 신청시 SMS 결과통보신청을 하셨다면 요청하신 휴대폰번호로 수신된 문자를 확인해주시기 바라며, 정해진 시간에 이체되지 않은 경우 신한은행 고객상담센터 ☎ 1599-8000번으로 문의 주시기 바랍니다.', metadata={'source': '신한은행', 'row': 37, 'type': '인터넷뱅킹', 'timestamp': 1702378552.563887, 'id': 'e3d5a802-1424-43fc-89e1-f4e3875b8ffb'}), 0.9527316214066185)]\n",
      "##############################\n",
      "similar_docs_keyword\n",
      "##############################\n",
      "[(Document(page_content='ask: 예약이체를 했는데 이체일에 송금이 안된 경우는?\\nInformation: 모든 예약이체 등록건은 예약이체 지정일 지정된 시간(오전 7시, 오전 9시, 오전 11시, 오후 1시, 오후 3시, 오후 5시, 오후 7시, 오후 9시) 이전에 출금할 계좌에 송금액이 입금이 되어야 이체가 실행될 수 있습니다.\\r\\n이체가 되지 않았다고 판단되실 경우에는 반드시 먼저 \"예약이체처리결과조회\" 또는 \"계좌 거래내역\"을 확인 하시어 이체여부 및 출금여부를 확인하시기 바랍니다. 또한 예약이체 신청시 SMS 결과통보신청을 하셨다면 요청하신 휴대폰번호로 수신된 문자를 확인해주시기 바라며, 정해진 시간에 이체되지 않은 경우 신한은행 고객상담센터 ☎ 1599-8000번으로 문의 주시기 바랍니다.', metadata={'source': '신한은행', 'row': 37, 'type': '인터넷뱅킹', 'timestamp': 1702378552.563887, 'id': 'e3d5a802-1424-43fc-89e1-f4e3875b8ffb'}), 1.0), (Document(page_content='ask: 12개월 장기미이체로 이체서비스가 중지된 경우 어떻게 해제하나요?\\nInformation: 최근 12개월동안 인터넷뱅킹/폰뱅킹/모바일뱅킹에서 이체서비스를 이용하지 않은 경우 고객님의 금융자산 보호를 위하여 이체서비스가 중단됩니다. 다시 이체를 원하시는 경우에는 인터넷뱅킹/폰뱅킹/신한쏠(SOL)에서 이체정지 해제를 하실 수 있습니다.(단, 인터넷뱅킹 출금계좌가 등록되어 있는 경우) [경로] ① 당행 고객정보에 등록되어있는 연락처로 ARS 추가인증 가능한 경우: - 인터넷뱅킹 로그인→ 사용자관리→ 인터넷뱅킹관리→ 장기미사용 정지해제 (또는) - 쏠(SOL) 로그인→ 전체메뉴→ 이체 → 이체관리→ 장기미사용정지 해제 ② ARS 추가인증이 불가한 경우 (해외체류 고객등) : - 인터넷뱅킹에서는 해제 어려우며, 쏠 (SOL)에서 해제 가능합니다. 쏠(SOL)의 경로는 위와 동일하며, 비대면 실명인증후 해제 가능합니다. 비대면실명인증 - 만 14세이상 가능 - 신분증확인 (주민등록증 또는 운전면허증 또는 여권) - 본인확인 (본인명의 계좌인증 또는 영상통화) 진행 기타 궁금하신 내용은 신한은행 고객센터 1599-8000로 문의하여 주시기 바랍니다', metadata={'source': '신한은행', 'row': 40, 'type': '인터넷뱅킹', 'timestamp': 1702378552.5638962, 'id': '9e1cdab1-b3c6-44d3-8240-478d5ee18026'}), 0.9720851459070925), (Document(page_content='ask: 온라인 서비스 신청시 구비서류는?\\nInformation: 온라인 서비스 신규는 본인만 가능하고 가입시 필요서류는 다음과 같습니다. 온라인 서비스 신규 시 필요서류 : 본인 신분증. 신분증 : 국가기관 또는 지방자치단체, 교육법에 의한 학교의 장이 발급한 것으로서 성명, 주민등록번호가 기재되어 있고 부착된 사진에 의하여 본인임을 확인할 수 있는 증표 (주민등록증, 운전면허증, 공무증, 여권, 노인복지카드(경로우대증), 장애인복지카드(장애인등록증 포함), 국가 유공자증, 학생증, 외국인등록증, 국내거소신고증 등). 만14세 미만 미성년자. 만 14세 미만 미성년자는 법정대리인에 의한 신청한 가능합니다. 1. 부모가 혼인중인 경우 부 또는 모 신분증, 미성년자 기준으로 발급된 특정기본증명서, 미성년자 기준으로 발급된 상세가족관계증명서. 2. 친권자나 후견인이 지정된 경우 친권자 또는 후견인의 신분증, 미성년자 기준으로 발급된 특정 기본 증명서, 미성년 자녀 기준으로 발급된 일반 가족관계증명서(후견인은 생략). 발급서류는 3개월이내 발급된 원본으로 주민등록번호 13자리가 모두 표기된 서류로 준비부탁드립니다.', metadata={'source': '신한은행', 'row': 51, 'type': '인터넷뱅킹', 'timestamp': 1702378552.5639296, 'id': '5c287060-e39e-400e-a3c6-ecc9d0016fe7'}), 0.8162594518964567), (Document(page_content='ask: 타행으로 자동이체를 신청하고 싶은데요\\nInformation: 인터넷뱅킹을 통한 타은행 계좌로의 자동이체(납부자 자동이체)신청이 가능하며 수수료는 건당 300원 입니다. 자동이체를 신청하시려면 인터넷뱅킹에 로그인 하신후 [이체] > [자동이체] > [자동이체 등록] 메뉴를 선택하시면 타행으로의 자동이체 등록을 하실 수 있습니다. ※ 주의: 타은행 자동이체는 이체 지정일 전영업일에 고객님의 계좌에서 인출하여 이체지정일자(지정일이 휴일인 경우에는 익영업일)에 타은행 계좌로 입금됩니다. 그러므로 예금잔액이 없으면 이체처리가 안되며, 이후잔액이 채워져도 재처리를 하지 않습니다. 따라서 고객님께서 자동이체를 신청하실 때에는 충분한 잔액이 있는지 확인하시기 바랍니다.', metadata={'source': '신한은행', 'row': 88, 'type': '인터넷뱅킹', 'timestamp': 1702378552.5640357, 'id': 'bce5df11-1c7e-40d9-8d06-f03d5bfc620e'}), 0.5831891248636695), (Document(page_content='ask: 인터넷뱅킹의 출금계좌 추가 삭제 방법 알려줘.\\nInformation: 인터넷뱅킹, 신한쏠(SOL)에서 출금계좌의 추가/삭제가 가능합니다. 단, 인터넷뱅킹 신청시 또는 그 이후에 영업점에서 \"출금계좌 인터넷추가등록 동의\" 를 하신 경우에는 인터넷뱅킹, 신한 쏠 에서 추가등록이 가능하며 동의하지 않은 경우엔 신한 쏠 에서 비대면으로 신분증 확인후 출금계좌 추가등록이 가능합니다. (출금계좌 삭제는 동의여부와 관계없이 모두 가능함)\\r\\n[경로]\\r\\n- 인터넷뱅킹 로그인→ 사용자관리→ 계좌관리→ 출금계좌관리\\r\\n- 신한 쏠(SOL) 로그인→전체메뉴→이체→이체관리→출금계좌관리\\r\\n기타 궁금하신 내용은 신한은행 고객센터 1599-8000로 문의하여 주시기 바랍니다.', metadata={'source': '신한은행', 'row': 74, 'type': '인터넷뱅킹', 'timestamp': 1702378552.5639973, 'id': '947e4020-f4f6-4817-9b48-b49215bd8722'}), 0.5288695335840209)]\n",
      "##############################\n",
      "similar_docs\n",
      "##############################\n",
      "[(Document(page_content='ask: 온라인 서비스 신청시 구비서류는?\\nInformation: 온라인 서비스 신규는 본인만 가능하고 가입시 필요서류는 다음과 같습니다. 온라인 서비스 신규 시 필요서류 : 본인 신분증. 신분증 : 국가기관 또는 지방자치단체, 교육법에 의한 학교의 장이 발급한 것으로서 성명, 주민등록번호가 기재되어 있고 부착된 사진에 의하여 본인임을 확인할 수 있는 증표 (주민등록증, 운전면허증, 공무증, 여권, 노인복지카드(경로우대증), 장애인복지카드(장애인등록증 포함), 국가 유공자증, 학생증, 외국인등록증, 국내거소신고증 등). 만14세 미만 미성년자. 만 14세 미만 미성년자는 법정대리인에 의한 신청한 가능합니다. 1. 부모가 혼인중인 경우 부 또는 모 신분증, 미성년자 기준으로 발급된 특정기본증명서, 미성년자 기준으로 발급된 상세가족관계증명서. 2. 친권자나 후견인이 지정된 경우 친권자 또는 후견인의 신분증, 미성년자 기준으로 발급된 특정 기본 증명서, 미성년 자녀 기준으로 발급된 일반 가족관계증명서(후견인은 생략). 발급서류는 3개월이내 발급된 원본으로 주민등록번호 13자리가 모두 표기된 서류로 준비부탁드립니다.', metadata={'source': '신한은행', 'row': 51, 'type': '인터넷뱅킹', 'timestamp': 1702378552.5639296, 'id': '5c287060-e39e-400e-a3c6-ecc9d0016fe7'}), 0.016001024065540194), (Document(page_content='ask: 예약이체를 했는데 이체일에 송금이 안된 경우는?\\nInformation: 모든 예약이체 등록건은 예약이체 지정일 지정된 시간(오전 7시, 오전 9시, 오전 11시, 오후 1시, 오후 3시, 오후 5시, 오후 7시, 오후 9시) 이전에 출금할 계좌에 송금액이 입금이 되어야 이체가 실행될 수 있습니다.\\r\\n이체가 되지 않았다고 판단되실 경우에는 반드시 먼저 \"예약이체처리결과조회\" 또는 \"계좌 거래내역\"을 확인 하시어 이체여부 및 출금여부를 확인하시기 바랍니다. 또한 예약이체 신청시 SMS 결과통보신청을 하셨다면 요청하신 휴대폰번호로 수신된 문자를 확인해주시기 바라며, 정해진 시간에 이체되지 않은 경우 신한은행 고객상담센터 ☎ 1599-8000번으로 문의 주시기 바랍니다.', metadata={'source': '신한은행', 'row': 37, 'type': '인터넷뱅킹', 'timestamp': 1702378552.563887, 'id': 'e3d5a802-1424-43fc-89e1-f4e3875b8ffb'}), 0.015889029003783105), (Document(page_content='ask: 이체한도란 무엇인가요?\\nInformation: 이체한도란 인터넷뱅킹, 폰뱅킹, 모바일뱅킹 등을 통하여 이체할 수 있는 거래한도를 말합니다. ① 1일/1회 이체한도 1일 이체한도란 하루에 거래할 수 있는 이체금액의 합을 말하여, 1회 이체한도란 1회에 이체하실 수 있는 금액의 한도를 말합니다. ② 통합이체한도 인터넷뱅킹, 폰뱅킹, 모바일뱅킹 등을 고객님이 사용하시는 경우 고객님이 1일 또는 1회에 이체하실 수 있는 이체한도를 말합니다. 인터넷뱅킹, 폰뱅킹, 모바일뱅킹 등에서 고객님이 거래하신 이체금액의 합이 통합이체한도의 범위를 초과할 수 없습니다. ③ 최고이체한도 금융감독원에서는 개인의 전자금융 시 이용할 수 있는 이체한도의 가이드라인을 정하고 있습니다.(인터넷뱅킹 : 1일 5억원, 1회 1억원 이내)', metadata={'source': '신한은행', 'row': 39, 'type': '인터넷뱅킹', 'timestamp': 1702378552.5638924, 'id': 'b712e6b1-260a-4d0d-8d7d-bdb95de64f55'}), 0.00819672131147541), (Document(page_content='ask: 12개월 장기미이체로 이체서비스가 중지된 경우 어떻게 해제하나요?\\nInformation: 최근 12개월동안 인터넷뱅킹/폰뱅킹/모바일뱅킹에서 이체서비스를 이용하지 않은 경우 고객님의 금융자산 보호를 위하여 이체서비스가 중단됩니다. 다시 이체를 원하시는 경우에는 인터넷뱅킹/폰뱅킹/신한쏠(SOL)에서 이체정지 해제를 하실 수 있습니다.(단, 인터넷뱅킹 출금계좌가 등록되어 있는 경우) [경로] ① 당행 고객정보에 등록되어있는 연락처로 ARS 추가인증 가능한 경우: - 인터넷뱅킹 로그인→ 사용자관리→ 인터넷뱅킹관리→ 장기미사용 정지해제 (또는) - 쏠(SOL) 로그인→ 전체메뉴→ 이체 → 이체관리→ 장기미사용정지 해제 ② ARS 추가인증이 불가한 경우 (해외체류 고객등) : - 인터넷뱅킹에서는 해제 어려우며, 쏠 (SOL)에서 해제 가능합니다. 쏠(SOL)의 경로는 위와 동일하며, 비대면 실명인증후 해제 가능합니다. 비대면실명인증 - 만 14세이상 가능 - 신분증확인 (주민등록증 또는 운전면허증 또는 여권) - 본인확인 (본인명의 계좌인증 또는 영상통화) 진행 기타 궁금하신 내용은 신한은행 고객센터 1599-8000로 문의하여 주시기 바랍니다', metadata={'source': '신한은행', 'row': 40, 'type': '인터넷뱅킹', 'timestamp': 1702378552.5638962, 'id': '9e1cdab1-b3c6-44d3-8240-478d5ee18026'}), 0.008064516129032258), (Document(page_content='ask: 이체한도 증액은 어떻게 하나요?\\nInformation: 영업점 방문하지 않아도 모바일뱅킹 신한 쏠(SOL) 에서 비대면실명 인증후 통합이체한도 증액 가능합니다. 통합이체한도는 이용하시는 보안매체에 따라, 보안등급별 최고 한도내에서 증액가능합니다.\\r\\nOTP카드 창구 발급 시 5,000원(카드형 10,000원)의 수수료가 부과됩니다. 당행에서만 사용가능한 모바일OTP는 영업점 방문없이 신한 쏠(SOL) 에서 무료로 발급가능합니다. \\r\\n※ 모바일OTP를 이용하시는 경우 쏠(SOL)에서 이체한도 증액은 1회 1천만원 이하, 1일 5천만원 이하로 증액 가능합니다. \\r\\n※ 만 14세 미만의 경우 법정대리인(부모/친권자/후견인)에 의해 영업점 방문하여 증액 가능하며 1일, 1회 1백만원 이하로 이체한도 제한됩니다. \\r\\n통합한도란 인터넷뱅킹/신한 쏠(SOL)/폰뱅킹 등을 사용하는 경우 1일 또는 1회에 이체 가능한 통합 이체한도를 말합니다.\\r\\n* 인터넷뱅킹/신한 쏠(SOL)/폰뱅킹에서 거래한 이체금액의 합이 통합이체한도의 범위를 초과할 수 없습니다.\\r\\n기타 궁금하신 내용은 신한은행 고객센터 1599-8000로 문의하여 주시기 바랍니다.', metadata={'source': '신한은행', 'row': 33, 'type': '인터넷뱅킹', 'timestamp': 1702378552.5638757, 'id': '39006fad-9539-4883-8f0d-8c4425c50215'}), 0.007936507936507936)]\n",
      "\n",
      "\n",
      "\u001b[1m> Entering new StuffDocumentsChain chain...\u001b[0m\n",
      "\n",
      "\n",
      "\u001b[1m> Entering new LLMChain chain...\u001b[0m\n",
      "Prompt after formatting:\n",
      "\u001b[32;1m\u001b[1;3m\n",
      "\n",
      "\n",
      "Human: Here is the context, inside <context></context> XML tags.\n",
      "\n",
      "<context>\n",
      "ask: 온라인 서비스 신청시 구비서류는?\n",
      "Information: 온라인 서비스 신규는 본인만 가능하고 가입시 필요서류는 다음과 같습니다. 온라인 서비스 신규 시 필요서류 : 본인 신분증. 신분증 : 국가기관 또는 지방자치단체, 교육법에 의한 학교의 장이 발급한 것으로서 성명, 주민등록번호가 기재되어 있고 부착된 사진에 의하여 본인임을 확인할 수 있는 증표 (주민등록증, 운전면허증, 공무증, 여권, 노인복지카드(경로우대증), 장애인복지카드(장애인등록증 포함), 국가 유공자증, 학생증, 외국인등록증, 국내거소신고증 등). 만14세 미만 미성년자. 만 14세 미만 미성년자는 법정대리인에 의한 신청한 가능합니다. 1. 부모가 혼인중인 경우 부 또는 모 신분증, 미성년자 기준으로 발급된 특정기본증명서, 미성년자 기준으로 발급된 상세가족관계증명서. 2. 친권자나 후견인이 지정된 경우 친권자 또는 후견인의 신분증, 미성년자 기준으로 발급된 특정 기본 증명서, 미성년 자녀 기준으로 발급된 일반 가족관계증명서(후견인은 생략). 발급서류는 3개월이내 발급된 원본으로 주민등록번호 13자리가 모두 표기된 서류로 준비부탁드립니다.\n",
      "\n",
      "ask: 예약이체를 했는데 이체일에 송금이 안된 경우는?\n",
      "Information: 모든 예약이체 등록건은 예약이체 지정일 지정된 시간(오전 7시, 오전 9시, 오전 11시, 오후 1시, 오후 3시, 오후 5시, 오후 7시, 오후 9시) 이전에 출금할 계좌에 송금액이 입금이 되어야 이체가 실행될 수 있습니다.\n",
      "이체가 되지 않았다고 판단되실 경우에는 반드시 먼저 \"예약이체처리결과조회\" 또는 \"계좌 거래내역\"을 확인 하시어 이체여부 및 출금여부를 확인하시기 바랍니다. 또한 예약이체 신청시 SMS 결과통보신청을 하셨다면 요청하신 휴대폰번호로 수신된 문자를 확인해주시기 바라며, 정해진 시간에 이체되지 않은 경우 신한은행 고객상담센터 ☎ 1599-8000번으로 문의 주시기 바랍니다.\n",
      "\n",
      "ask: 이체한도란 무엇인가요?\n",
      "Information: 이체한도란 인터넷뱅킹, 폰뱅킹, 모바일뱅킹 등을 통하여 이체할 수 있는 거래한도를 말합니다. ① 1일/1회 이체한도 1일 이체한도란 하루에 거래할 수 있는 이체금액의 합을 말하여, 1회 이체한도란 1회에 이체하실 수 있는 금액의 한도를 말합니다. ② 통합이체한도 인터넷뱅킹, 폰뱅킹, 모바일뱅킹 등을 고객님이 사용하시는 경우 고객님이 1일 또는 1회에 이체하실 수 있는 이체한도를 말합니다. 인터넷뱅킹, 폰뱅킹, 모바일뱅킹 등에서 고객님이 거래하신 이체금액의 합이 통합이체한도의 범위를 초과할 수 없습니다. ③ 최고이체한도 금융감독원에서는 개인의 전자금융 시 이용할 수 있는 이체한도의 가이드라인을 정하고 있습니다.(인터넷뱅킹 : 1일 5억원, 1회 1억원 이내)\n",
      "\n",
      "ask: 12개월 장기미이체로 이체서비스가 중지된 경우 어떻게 해제하나요?\n",
      "Information: 최근 12개월동안 인터넷뱅킹/폰뱅킹/모바일뱅킹에서 이체서비스를 이용하지 않은 경우 고객님의 금융자산 보호를 위하여 이체서비스가 중단됩니다. 다시 이체를 원하시는 경우에는 인터넷뱅킹/폰뱅킹/신한쏠(SOL)에서 이체정지 해제를 하실 수 있습니다.(단, 인터넷뱅킹 출금계좌가 등록되어 있는 경우) [경로] ① 당행 고객정보에 등록되어있는 연락처로 ARS 추가인증 가능한 경우: - 인터넷뱅킹 로그인→ 사용자관리→ 인터넷뱅킹관리→ 장기미사용 정지해제 (또는) - 쏠(SOL) 로그인→ 전체메뉴→ 이체 → 이체관리→ 장기미사용정지 해제 ② ARS 추가인증이 불가한 경우 (해외체류 고객등) : - 인터넷뱅킹에서는 해제 어려우며, 쏠 (SOL)에서 해제 가능합니다. 쏠(SOL)의 경로는 위와 동일하며, 비대면 실명인증후 해제 가능합니다. 비대면실명인증 - 만 14세이상 가능 - 신분증확인 (주민등록증 또는 운전면허증 또는 여권) - 본인확인 (본인명의 계좌인증 또는 영상통화) 진행 기타 궁금하신 내용은 신한은행 고객센터 1599-8000로 문의하여 주시기 바랍니다\n",
      "\n",
      "ask: 이체한도 증액은 어떻게 하나요?\n",
      "Information: 영업점 방문하지 않아도 모바일뱅킹 신한 쏠(SOL) 에서 비대면실명 인증후 통합이체한도 증액 가능합니다. 통합이체한도는 이용하시는 보안매체에 따라, 보안등급별 최고 한도내에서 증액가능합니다.\n",
      "OTP카드 창구 발급 시 5,000원(카드형 10,000원)의 수수료가 부과됩니다. 당행에서만 사용가능한 모바일OTP는 영업점 방문없이 신한 쏠(SOL) 에서 무료로 발급가능합니다. \n",
      "※ 모바일OTP를 이용하시는 경우 쏠(SOL)에서 이체한도 증액은 1회 1천만원 이하, 1일 5천만원 이하로 증액 가능합니다. \n",
      "※ 만 14세 미만의 경우 법정대리인(부모/친권자/후견인)에 의해 영업점 방문하여 증액 가능하며 1일, 1회 1백만원 이하로 이체한도 제한됩니다. \n",
      "통합한도란 인터넷뱅킹/신한 쏠(SOL)/폰뱅킹 등을 사용하는 경우 1일 또는 1회에 이체 가능한 통합 이체한도를 말합니다.\n",
      "* 인터넷뱅킹/신한 쏠(SOL)/폰뱅킹에서 거래한 이체금액의 합이 통합이체한도의 범위를 초과할 수 없습니다.\n",
      "기타 궁금하신 내용은 신한은행 고객센터 1599-8000로 문의하여 주시기 바랍니다.\n",
      "</context>\n",
      "\n",
      "Only using the contex as above, answer the following question with the rules as below:\n",
      "    - Don't insert XML tag such as <context> and </context> when answering.\n",
      "    - Write as much as you can\n",
      "    - Be courteous and polite\n",
      "    - Only answer the question if you can find the answer in the context with certainty.\n",
      "\n",
      "Question:\n",
      "중지된 경우 이체\n",
      "\n",
      "If the answer is not in the context, just say \"주어진 내용에서 관련 답변을 찾을 수 없습니다.\"\n",
      "\n",
      "\n",
      "Assistant:\u001b[0m\n",
      " 주어진 내용에서, \n",
      "\n",
      "12개월 장기미이체로 이체서비스가 중지된 경우 어떻게 해제하나요?\n",
      "\n",
      "라는 질문에 대한 답변이 있습니다.\n",
      "\n",
      "최근 12개월동안 이체서비스를 사용하지 않은 경우 이체서비스가 중단되며, 이체를 원하시는 경우 인터넷뱅킹, 폰뱅킹, 신한쏠(SOL)에서 이체정지 해제를 하실 수 있습니다. \n",
      "\n",
      "1) ARS 추가인증 가능한 경우 - 인터넷뱅킹이나 쏠(SOL)에서 '장기미사용 정지해제' 메뉴를 통해 해제\n",
      "2) ARS 추가인증 불가한 경우 - 쏠(SOL)에서 비대면 실명인증 후 해제\n",
      "\n",
      "이와 같이 중지된 이체서비스를 해제할 수 있습니다.\n",
      "\u001b[1m> Finished chain.\u001b[0m\n",
      "\n",
      "\u001b[1m> Finished chain.\u001b[0m\n",
      "CPU times: user 76.2 ms, sys: 6.32 ms, total: 82.5 ms\n",
      "Wall time: 12.9 s\n"
     ]
    }
   ],
   "source": [
    "%%time\n",
    "\n",
    "filter01 = \"인터넷뱅킹\"\n",
    "filter02 = \"신한은행\"\n",
    "query = \"중지된 경우 이체\"\n",
    "\n",
    "search_hybrid_result = retriever_utils.search_hybrid(\n",
    "    query=query,\n",
    "    llm_emb=llm_emb,\n",
    "    vector_db=vector_db,\n",
    "    k=5,\n",
    "    index_name=index_name,\n",
    "    os_client=os_client,\n",
    "    filter=[\n",
    "        {\"term\": {\"metadata.type\": filter01}},\n",
    "        {\"term\": {\"metadata.source\": filter02}},\n",
    "    ],\n",
    "    fusion_algorithm=\"RRF\", # [\"RRF\", \"simple_weighted\"]\n",
    "    ensemble_weights=[.5, .5], # 시멘트 서치에 가중치 0.5 , 키워드 서치 가중치 0.5 부여.\n",
    "    verbose=True\n",
    ")\n",
    "\n",
    "answer = chain.run(\n",
    "    input_documents=search_hybrid_result,\n",
    "    question=query\n",
    ")"
   ]
  },
  {
   "cell_type": "code",
   "execution_count": 25,
   "id": "92313609-5682-45ca-8eeb-8cf87bfb4270",
   "metadata": {
    "tags": []
   },
   "outputs": [
    {
     "name": "stdout",
     "output_type": "stream",
     "text": [
      "question: 중지된 경우 이체\n",
      "response:  주어진 내용에서, \n",
      "\n",
      "12개월 장기미이체로 이체서비스가 중지된 경우 어떻게 해제하나요?\n",
      "\n",
      "라는 질문에 대한 답변이 있습니다.\n",
      "\n",
      "최근 12개월동안 이체서비스를 사용하지 않은 경우 이체서비스가 중단되며, 이체를 원하시는 경우 인터넷뱅킹, 폰뱅킹, 신한쏠(SOL)에서 이체정지 해제를 하실 수 있습니다. \n",
      "\n",
      "1) ARS 추가인증 가능한 경우 - 인터넷뱅킹이나 쏠(SOL)에서 '장기미사용 정지해제' 메뉴를 통해 해제\n",
      "2) ARS 추가인증 불가한 경우 - 쏠(SOL)에서 비대면 실명인증 후 해제\n",
      "\n",
      "이와 같이 중지된 이체서비스를 해제할 수 있습니다.\n"
     ]
    }
   ],
   "source": [
    "print(f'question: {query}')\n",
    "print(f'response: {answer}')"
   ]
  },
  {
   "cell_type": "code",
   "execution_count": null,
   "id": "ea770e58-4b62-477e-a6ac-961d1021eaf4",
   "metadata": {},
   "outputs": [],
   "source": []
  }
 ],
 "metadata": {
  "availableInstances": [
   {
    "_defaultOrder": 0,
    "_isFastLaunch": true,
    "category": "General purpose",
    "gpuNum": 0,
    "hideHardwareSpecs": false,
    "memoryGiB": 4,
    "name": "ml.t3.medium",
    "vcpuNum": 2
   },
   {
    "_defaultOrder": 1,
    "_isFastLaunch": false,
    "category": "General purpose",
    "gpuNum": 0,
    "hideHardwareSpecs": false,
    "memoryGiB": 8,
    "name": "ml.t3.large",
    "vcpuNum": 2
   },
   {
    "_defaultOrder": 2,
    "_isFastLaunch": false,
    "category": "General purpose",
    "gpuNum": 0,
    "hideHardwareSpecs": false,
    "memoryGiB": 16,
    "name": "ml.t3.xlarge",
    "vcpuNum": 4
   },
   {
    "_defaultOrder": 3,
    "_isFastLaunch": false,
    "category": "General purpose",
    "gpuNum": 0,
    "hideHardwareSpecs": false,
    "memoryGiB": 32,
    "name": "ml.t3.2xlarge",
    "vcpuNum": 8
   },
   {
    "_defaultOrder": 4,
    "_isFastLaunch": true,
    "category": "General purpose",
    "gpuNum": 0,
    "hideHardwareSpecs": false,
    "memoryGiB": 8,
    "name": "ml.m5.large",
    "vcpuNum": 2
   },
   {
    "_defaultOrder": 5,
    "_isFastLaunch": false,
    "category": "General purpose",
    "gpuNum": 0,
    "hideHardwareSpecs": false,
    "memoryGiB": 16,
    "name": "ml.m5.xlarge",
    "vcpuNum": 4
   },
   {
    "_defaultOrder": 6,
    "_isFastLaunch": false,
    "category": "General purpose",
    "gpuNum": 0,
    "hideHardwareSpecs": false,
    "memoryGiB": 32,
    "name": "ml.m5.2xlarge",
    "vcpuNum": 8
   },
   {
    "_defaultOrder": 7,
    "_isFastLaunch": false,
    "category": "General purpose",
    "gpuNum": 0,
    "hideHardwareSpecs": false,
    "memoryGiB": 64,
    "name": "ml.m5.4xlarge",
    "vcpuNum": 16
   },
   {
    "_defaultOrder": 8,
    "_isFastLaunch": false,
    "category": "General purpose",
    "gpuNum": 0,
    "hideHardwareSpecs": false,
    "memoryGiB": 128,
    "name": "ml.m5.8xlarge",
    "vcpuNum": 32
   },
   {
    "_defaultOrder": 9,
    "_isFastLaunch": false,
    "category": "General purpose",
    "gpuNum": 0,
    "hideHardwareSpecs": false,
    "memoryGiB": 192,
    "name": "ml.m5.12xlarge",
    "vcpuNum": 48
   },
   {
    "_defaultOrder": 10,
    "_isFastLaunch": false,
    "category": "General purpose",
    "gpuNum": 0,
    "hideHardwareSpecs": false,
    "memoryGiB": 256,
    "name": "ml.m5.16xlarge",
    "vcpuNum": 64
   },
   {
    "_defaultOrder": 11,
    "_isFastLaunch": false,
    "category": "General purpose",
    "gpuNum": 0,
    "hideHardwareSpecs": false,
    "memoryGiB": 384,
    "name": "ml.m5.24xlarge",
    "vcpuNum": 96
   },
   {
    "_defaultOrder": 12,
    "_isFastLaunch": false,
    "category": "General purpose",
    "gpuNum": 0,
    "hideHardwareSpecs": false,
    "memoryGiB": 8,
    "name": "ml.m5d.large",
    "vcpuNum": 2
   },
   {
    "_defaultOrder": 13,
    "_isFastLaunch": false,
    "category": "General purpose",
    "gpuNum": 0,
    "hideHardwareSpecs": false,
    "memoryGiB": 16,
    "name": "ml.m5d.xlarge",
    "vcpuNum": 4
   },
   {
    "_defaultOrder": 14,
    "_isFastLaunch": false,
    "category": "General purpose",
    "gpuNum": 0,
    "hideHardwareSpecs": false,
    "memoryGiB": 32,
    "name": "ml.m5d.2xlarge",
    "vcpuNum": 8
   },
   {
    "_defaultOrder": 15,
    "_isFastLaunch": false,
    "category": "General purpose",
    "gpuNum": 0,
    "hideHardwareSpecs": false,
    "memoryGiB": 64,
    "name": "ml.m5d.4xlarge",
    "vcpuNum": 16
   },
   {
    "_defaultOrder": 16,
    "_isFastLaunch": false,
    "category": "General purpose",
    "gpuNum": 0,
    "hideHardwareSpecs": false,
    "memoryGiB": 128,
    "name": "ml.m5d.8xlarge",
    "vcpuNum": 32
   },
   {
    "_defaultOrder": 17,
    "_isFastLaunch": false,
    "category": "General purpose",
    "gpuNum": 0,
    "hideHardwareSpecs": false,
    "memoryGiB": 192,
    "name": "ml.m5d.12xlarge",
    "vcpuNum": 48
   },
   {
    "_defaultOrder": 18,
    "_isFastLaunch": false,
    "category": "General purpose",
    "gpuNum": 0,
    "hideHardwareSpecs": false,
    "memoryGiB": 256,
    "name": "ml.m5d.16xlarge",
    "vcpuNum": 64
   },
   {
    "_defaultOrder": 19,
    "_isFastLaunch": false,
    "category": "General purpose",
    "gpuNum": 0,
    "hideHardwareSpecs": false,
    "memoryGiB": 384,
    "name": "ml.m5d.24xlarge",
    "vcpuNum": 96
   },
   {
    "_defaultOrder": 20,
    "_isFastLaunch": false,
    "category": "General purpose",
    "gpuNum": 0,
    "hideHardwareSpecs": true,
    "memoryGiB": 0,
    "name": "ml.geospatial.interactive",
    "supportedImageNames": [
     "sagemaker-geospatial-v1-0"
    ],
    "vcpuNum": 0
   },
   {
    "_defaultOrder": 21,
    "_isFastLaunch": true,
    "category": "Compute optimized",
    "gpuNum": 0,
    "hideHardwareSpecs": false,
    "memoryGiB": 4,
    "name": "ml.c5.large",
    "vcpuNum": 2
   },
   {
    "_defaultOrder": 22,
    "_isFastLaunch": false,
    "category": "Compute optimized",
    "gpuNum": 0,
    "hideHardwareSpecs": false,
    "memoryGiB": 8,
    "name": "ml.c5.xlarge",
    "vcpuNum": 4
   },
   {
    "_defaultOrder": 23,
    "_isFastLaunch": false,
    "category": "Compute optimized",
    "gpuNum": 0,
    "hideHardwareSpecs": false,
    "memoryGiB": 16,
    "name": "ml.c5.2xlarge",
    "vcpuNum": 8
   },
   {
    "_defaultOrder": 24,
    "_isFastLaunch": false,
    "category": "Compute optimized",
    "gpuNum": 0,
    "hideHardwareSpecs": false,
    "memoryGiB": 32,
    "name": "ml.c5.4xlarge",
    "vcpuNum": 16
   },
   {
    "_defaultOrder": 25,
    "_isFastLaunch": false,
    "category": "Compute optimized",
    "gpuNum": 0,
    "hideHardwareSpecs": false,
    "memoryGiB": 72,
    "name": "ml.c5.9xlarge",
    "vcpuNum": 36
   },
   {
    "_defaultOrder": 26,
    "_isFastLaunch": false,
    "category": "Compute optimized",
    "gpuNum": 0,
    "hideHardwareSpecs": false,
    "memoryGiB": 96,
    "name": "ml.c5.12xlarge",
    "vcpuNum": 48
   },
   {
    "_defaultOrder": 27,
    "_isFastLaunch": false,
    "category": "Compute optimized",
    "gpuNum": 0,
    "hideHardwareSpecs": false,
    "memoryGiB": 144,
    "name": "ml.c5.18xlarge",
    "vcpuNum": 72
   },
   {
    "_defaultOrder": 28,
    "_isFastLaunch": false,
    "category": "Compute optimized",
    "gpuNum": 0,
    "hideHardwareSpecs": false,
    "memoryGiB": 192,
    "name": "ml.c5.24xlarge",
    "vcpuNum": 96
   },
   {
    "_defaultOrder": 29,
    "_isFastLaunch": true,
    "category": "Accelerated computing",
    "gpuNum": 1,
    "hideHardwareSpecs": false,
    "memoryGiB": 16,
    "name": "ml.g4dn.xlarge",
    "vcpuNum": 4
   },
   {
    "_defaultOrder": 30,
    "_isFastLaunch": false,
    "category": "Accelerated computing",
    "gpuNum": 1,
    "hideHardwareSpecs": false,
    "memoryGiB": 32,
    "name": "ml.g4dn.2xlarge",
    "vcpuNum": 8
   },
   {
    "_defaultOrder": 31,
    "_isFastLaunch": false,
    "category": "Accelerated computing",
    "gpuNum": 1,
    "hideHardwareSpecs": false,
    "memoryGiB": 64,
    "name": "ml.g4dn.4xlarge",
    "vcpuNum": 16
   },
   {
    "_defaultOrder": 32,
    "_isFastLaunch": false,
    "category": "Accelerated computing",
    "gpuNum": 1,
    "hideHardwareSpecs": false,
    "memoryGiB": 128,
    "name": "ml.g4dn.8xlarge",
    "vcpuNum": 32
   },
   {
    "_defaultOrder": 33,
    "_isFastLaunch": false,
    "category": "Accelerated computing",
    "gpuNum": 4,
    "hideHardwareSpecs": false,
    "memoryGiB": 192,
    "name": "ml.g4dn.12xlarge",
    "vcpuNum": 48
   },
   {
    "_defaultOrder": 34,
    "_isFastLaunch": false,
    "category": "Accelerated computing",
    "gpuNum": 1,
    "hideHardwareSpecs": false,
    "memoryGiB": 256,
    "name": "ml.g4dn.16xlarge",
    "vcpuNum": 64
   },
   {
    "_defaultOrder": 35,
    "_isFastLaunch": false,
    "category": "Accelerated computing",
    "gpuNum": 1,
    "hideHardwareSpecs": false,
    "memoryGiB": 61,
    "name": "ml.p3.2xlarge",
    "vcpuNum": 8
   },
   {
    "_defaultOrder": 36,
    "_isFastLaunch": false,
    "category": "Accelerated computing",
    "gpuNum": 4,
    "hideHardwareSpecs": false,
    "memoryGiB": 244,
    "name": "ml.p3.8xlarge",
    "vcpuNum": 32
   },
   {
    "_defaultOrder": 37,
    "_isFastLaunch": false,
    "category": "Accelerated computing",
    "gpuNum": 8,
    "hideHardwareSpecs": false,
    "memoryGiB": 488,
    "name": "ml.p3.16xlarge",
    "vcpuNum": 64
   },
   {
    "_defaultOrder": 38,
    "_isFastLaunch": false,
    "category": "Accelerated computing",
    "gpuNum": 8,
    "hideHardwareSpecs": false,
    "memoryGiB": 768,
    "name": "ml.p3dn.24xlarge",
    "vcpuNum": 96
   },
   {
    "_defaultOrder": 39,
    "_isFastLaunch": false,
    "category": "Memory Optimized",
    "gpuNum": 0,
    "hideHardwareSpecs": false,
    "memoryGiB": 16,
    "name": "ml.r5.large",
    "vcpuNum": 2
   },
   {
    "_defaultOrder": 40,
    "_isFastLaunch": false,
    "category": "Memory Optimized",
    "gpuNum": 0,
    "hideHardwareSpecs": false,
    "memoryGiB": 32,
    "name": "ml.r5.xlarge",
    "vcpuNum": 4
   },
   {
    "_defaultOrder": 41,
    "_isFastLaunch": false,
    "category": "Memory Optimized",
    "gpuNum": 0,
    "hideHardwareSpecs": false,
    "memoryGiB": 64,
    "name": "ml.r5.2xlarge",
    "vcpuNum": 8
   },
   {
    "_defaultOrder": 42,
    "_isFastLaunch": false,
    "category": "Memory Optimized",
    "gpuNum": 0,
    "hideHardwareSpecs": false,
    "memoryGiB": 128,
    "name": "ml.r5.4xlarge",
    "vcpuNum": 16
   },
   {
    "_defaultOrder": 43,
    "_isFastLaunch": false,
    "category": "Memory Optimized",
    "gpuNum": 0,
    "hideHardwareSpecs": false,
    "memoryGiB": 256,
    "name": "ml.r5.8xlarge",
    "vcpuNum": 32
   },
   {
    "_defaultOrder": 44,
    "_isFastLaunch": false,
    "category": "Memory Optimized",
    "gpuNum": 0,
    "hideHardwareSpecs": false,
    "memoryGiB": 384,
    "name": "ml.r5.12xlarge",
    "vcpuNum": 48
   },
   {
    "_defaultOrder": 45,
    "_isFastLaunch": false,
    "category": "Memory Optimized",
    "gpuNum": 0,
    "hideHardwareSpecs": false,
    "memoryGiB": 512,
    "name": "ml.r5.16xlarge",
    "vcpuNum": 64
   },
   {
    "_defaultOrder": 46,
    "_isFastLaunch": false,
    "category": "Memory Optimized",
    "gpuNum": 0,
    "hideHardwareSpecs": false,
    "memoryGiB": 768,
    "name": "ml.r5.24xlarge",
    "vcpuNum": 96
   },
   {
    "_defaultOrder": 47,
    "_isFastLaunch": false,
    "category": "Accelerated computing",
    "gpuNum": 1,
    "hideHardwareSpecs": false,
    "memoryGiB": 16,
    "name": "ml.g5.xlarge",
    "vcpuNum": 4
   },
   {
    "_defaultOrder": 48,
    "_isFastLaunch": false,
    "category": "Accelerated computing",
    "gpuNum": 1,
    "hideHardwareSpecs": false,
    "memoryGiB": 32,
    "name": "ml.g5.2xlarge",
    "vcpuNum": 8
   },
   {
    "_defaultOrder": 49,
    "_isFastLaunch": false,
    "category": "Accelerated computing",
    "gpuNum": 1,
    "hideHardwareSpecs": false,
    "memoryGiB": 64,
    "name": "ml.g5.4xlarge",
    "vcpuNum": 16
   },
   {
    "_defaultOrder": 50,
    "_isFastLaunch": false,
    "category": "Accelerated computing",
    "gpuNum": 1,
    "hideHardwareSpecs": false,
    "memoryGiB": 128,
    "name": "ml.g5.8xlarge",
    "vcpuNum": 32
   },
   {
    "_defaultOrder": 51,
    "_isFastLaunch": false,
    "category": "Accelerated computing",
    "gpuNum": 1,
    "hideHardwareSpecs": false,
    "memoryGiB": 256,
    "name": "ml.g5.16xlarge",
    "vcpuNum": 64
   },
   {
    "_defaultOrder": 52,
    "_isFastLaunch": false,
    "category": "Accelerated computing",
    "gpuNum": 4,
    "hideHardwareSpecs": false,
    "memoryGiB": 192,
    "name": "ml.g5.12xlarge",
    "vcpuNum": 48
   },
   {
    "_defaultOrder": 53,
    "_isFastLaunch": false,
    "category": "Accelerated computing",
    "gpuNum": 4,
    "hideHardwareSpecs": false,
    "memoryGiB": 384,
    "name": "ml.g5.24xlarge",
    "vcpuNum": 96
   },
   {
    "_defaultOrder": 54,
    "_isFastLaunch": false,
    "category": "Accelerated computing",
    "gpuNum": 8,
    "hideHardwareSpecs": false,
    "memoryGiB": 768,
    "name": "ml.g5.48xlarge",
    "vcpuNum": 192
   },
   {
    "_defaultOrder": 55,
    "_isFastLaunch": false,
    "category": "Accelerated computing",
    "gpuNum": 8,
    "hideHardwareSpecs": false,
    "memoryGiB": 1152,
    "name": "ml.p4d.24xlarge",
    "vcpuNum": 96
   },
   {
    "_defaultOrder": 56,
    "_isFastLaunch": false,
    "category": "Accelerated computing",
    "gpuNum": 8,
    "hideHardwareSpecs": false,
    "memoryGiB": 1152,
    "name": "ml.p4de.24xlarge",
    "vcpuNum": 96
   }
  ],
  "instance_type": "ml.m5.2xlarge",
  "kernelspec": {
   "display_name": "conda_python3",
   "language": "python",
   "name": "conda_python3"
  },
  "language_info": {
   "codemirror_mode": {
    "name": "ipython",
    "version": 3
   },
   "file_extension": ".py",
   "mimetype": "text/x-python",
   "name": "python",
   "nbconvert_exporter": "python",
   "pygments_lexer": "ipython3",
   "version": "3.10.13"
  },
  "vscode": {
   "interpreter": {
    "hash": "4b8e647a79df62bf31906a725b05de775d285962ac600487339d38c51a5c07b1"
   }
  }
 },
 "nbformat": 4,
 "nbformat_minor": 5
}
