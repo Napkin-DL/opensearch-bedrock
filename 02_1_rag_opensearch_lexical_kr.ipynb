{
 "cells": [
  {
   "cell_type": "markdown",
   "id": "fb017ab4-a16a-4c67-b875-a29eed6aa5bd",
   "metadata": {
    "tags": []
   },
   "source": [
    "# OpenSearch 한글 형태소 분석기 통한 키워드 검색 \n",
    ">이 노트북은,\n",
    "> - SageMaker Studio* **`Data Science 3.0`** kernel 및 ml.t3.medium 인스턴스에서 테스트 되었습니다.\n",
    "> - SageMaker Notebook **`conda_python3`** 에서 테스트 되었습니다.\n",
    "\n",
    "\n",
    "여기서는 OpenSearch 가 설치된 것을 가정하고, 한글 형태소 분석기의 사용하는 법을 알려 드립니다.\n",
    "\n",
    "---\n",
    "\n",
    "### [중요]\n",
    "- 이 노트북은 Bedrock Titan Embedding Model 을 기본으로 사용합니다. KoSIMCSERoberta 를 세이지 메이커 엔드포인트로 사용하신다면 아래의 선수 조건을 확인하세요.\n",
    "\n",
    "#### 선수조건 (KoSIMCSERoberta 사용시)\n",
    "- 임베딩 모델의 세이지 메이커 엔드포인트가 액티브 된 상태를 가정 합니다.\n",
    "    - 세이지 메이커 엔드포인트에 배포하기 위해서는 아래 노트북을 실행하시고, Endpoint Name 만을 복사 하시면 됩니다.\n",
    "    - [KoSIMCSERoberta Embedding Model 배포](https://github.com/gonsoomoon-ml/Kor-LLM-On-SageMaker/blob/main/1-Lab01-Deploy-LLM/4.Kor-Embedding-Model.ipynb)\n",
    "    - SageMaker Endpoint 에 대해서는 공식 개발자 문서를 참조하세요 --> [Create your endpoint and deploy your model](https://docs.aws.amazon.com/sagemaker/latest/dg/realtime-endpoints-deployment.html)\n",
    "- 오픈 서치 서비스가 액티브 된 상태를 가정 합니다.\n",
    "\n",
    "\n",
    "---\n",
    "## Ref: \n",
    "- [Amazon OpenSearch Service로 검색 구현하기](https://catalog.us-east-1.prod.workshops.aws/workshops/de4e38cb-a0d9-4ffe-a777-bf00d498fa49/ko-KR/indexing/blog-reindex)\n",
    "- [OpenSearch Python Client](https://opensearch.org/docs/1.3/clients/python-high-level/)\n",
    "- [OpenSearch Match, Multi-Match, and Match Phrase Queries](https://opster.com/guides/opensearch/opensearch-search-apis/opensearch-match-multi-match-and-match-phrase-queries/)\n",
    "- OpenSearch Query 에서 Filter, Must, Should, Not Mush 에 대한 설명 입니다.\n",
    "    - [OpenSearch Boolean Queries](https://opster.com/guides/opensearch/opensearch-search-apis/opensearch-boolean-queries/#:~:text=Boolean%20queries%20are%20used%20to,as%20terms%2C%20match%20and%20query_string.)\n",
    "- [OpenSearch Query Description (한글)](https://esbook.kimjmin.net/05-search)\n"
   ]
  },
  {
   "cell_type": "markdown",
   "id": "8a2f9c19-c43c-435c-944d-77984b54a6d8",
   "metadata": {},
   "source": [
    "# 1. 환경 세팅"
   ]
  },
  {
   "cell_type": "code",
   "execution_count": 1,
   "id": "6a20ae24-5c42-4e67-b2cb-8db675e180bc",
   "metadata": {
    "tags": []
   },
   "outputs": [],
   "source": [
    "import boto3\n",
    "region = boto3.Session().region_name\n",
    "opensearch = boto3.client('opensearch', region)\n",
    "\n",
    "%store -r opensearch_user_id opensearch_user_password domain_name opensearch_domain_endpoint\n",
    "\n",
    "try:\n",
    "    opensearch_user_id\n",
    "    opensearch_user_password\n",
    "    domain_name\n",
    "    opensearch_domain_endpoint\n",
    "   \n",
    "except NameError:\n",
    "    print(\"++++++++++++++++++++++++++++++++++++++++++++++++++++++++++++++++++++++++++++\")\n",
    "    print(\"[ERROR] Run 00_setup notebook first or Create Your Own OpenSearch Domain\")\n",
    "    print(\"++++++++++++++++++++++++++++++++++++++++++++++++++++++++++++++++++++++++++++\")"
   ]
  },
  {
   "cell_type": "code",
   "execution_count": 44,
   "id": "787df0f0-7fd9-47ca-a0c3-91b3037d6a10",
   "metadata": {
    "tags": []
   },
   "outputs": [
    {
     "name": "stdout",
     "output_type": "stream",
     "text": [
      "The autoreload extension is already loaded. To reload it, use:\n",
      "  %reload_ext autoreload\n"
     ]
    }
   ],
   "source": [
    "%load_ext autoreload\n",
    "%autoreload 2\n",
    "\n",
    "import sys, os\n",
    "module_path = \"..\"\n",
    "sys.path.append(os.path.abspath(module_path))"
   ]
  },
  {
   "cell_type": "markdown",
   "id": "950cf3b9-26a3-4096-a6e4-4b9a39d2e82f",
   "metadata": {
    "tags": []
   },
   "source": [
    "## Bedrock Client 생성\n",
    "### 선수 지식\n",
    "아래의 노트북을 먼저 실행해서, Bedrock 에 접근 가능하게 합니다.\n",
    "- amazon-bedrock-workshop-webinar-kr/00_Setup/setup.ipynb"
   ]
  },
  {
   "cell_type": "code",
   "execution_count": 3,
   "id": "ee268417-f4cf-448f-be1f-aae7f9a81c6c",
   "metadata": {
    "tags": []
   },
   "outputs": [
    {
     "name": "stdout",
     "output_type": "stream",
     "text": [
      "Create new client\n",
      "  Using region: None\n",
      "  Using profile: None\n",
      "boto3 Bedrock client successfully created!\n",
      "bedrock-runtime(https://bedrock-runtime.us-west-2.amazonaws.com)\n",
      "[('Titan Text Large', 'amazon.titan-tg1-large'),\n",
      " ('Titan Text Embeddings v2', 'amazon.titan-embed-g1-text-02'),\n",
      " ('Titan Text G1 - Lite', 'amazon.titan-text-lite-v1'),\n",
      " ('Titan Text G1 - Express', 'amazon.titan-text-express-v1'),\n",
      " ('Titan Embeddings G1 - Text', 'amazon.titan-embed-text-v1'),\n",
      " ('Titan Multimodal Embeddings G1', 'amazon.titan-embed-image-v1'),\n",
      " ('Titan Image Generator G1', 'amazon.titan-image-generator-v1'),\n",
      " ('SDXL 0.8', 'stability.stable-diffusion-xl'),\n",
      " ('SDXL 0.8', 'stability.stable-diffusion-xl-v0'),\n",
      " ('SDXL 1.0', 'stability.stable-diffusion-xl-v1'),\n",
      " ('J2 Grande Instruct', 'ai21.j2-grande-instruct'),\n",
      " ('J2 Jumbo Instruct', 'ai21.j2-jumbo-instruct'),\n",
      " ('Jurassic-2 Mid', 'ai21.j2-mid'),\n",
      " ('Jurassic-2 Mid', 'ai21.j2-mid-v1'),\n",
      " ('Jurassic-2 Ultra', 'ai21.j2-ultra'),\n",
      " ('Jurassic-2 Ultra', 'ai21.j2-ultra-v1'),\n",
      " ('Claude Instant', 'anthropic.claude-instant-v1'),\n",
      " ('Claude', 'anthropic.claude-v1'),\n",
      " ('Claude', 'anthropic.claude-v2:1'),\n",
      " ('Claude', 'anthropic.claude-v2'),\n",
      " ('Command', 'cohere.command-text-v14'),\n",
      " ('Command Light', 'cohere.command-light-text-v14'),\n",
      " ('Embed English', 'cohere.embed-english-v3'),\n",
      " ('Embed Multilingual', 'cohere.embed-multilingual-v3'),\n",
      " ('Llama 2 Chat 13B', 'meta.llama2-13b-chat-v1'),\n",
      " ('Llama 2 Chat 70B', 'meta.llama2-70b-chat-v1')]\n"
     ]
    }
   ],
   "source": [
    "import json\n",
    "import boto3\n",
    "from pprint import pprint\n",
    "from termcolor import colored\n",
    "from utils import bedrock, print_ww\n",
    "from utils.bedrock import bedrock_info\n",
    "\n",
    "# ---- ⚠️ Un-comment and edit the below lines as needed for your AWS setup ⚠️ ----\n",
    "\n",
    "# os.environ[\"AWS_DEFAULT_REGION\"] = \"<REGION_NAME>\"  # E.g. \"us-east-1\"\n",
    "# os.environ[\"AWS_PROFILE\"] = \"<YOUR_PROFILE>\"\n",
    "# os.environ[\"BEDROCK_ASSUME_ROLE\"] = \"<YOUR_ROLE_ARN>\"  # E.g. \"arn:aws:...\"\n",
    "# os.environ[\"BEDROCK_ENDPOINT_URL\"] = \"<YOUR_ENDPOINT_URL>\"  # E.g. \"https://...\"\n",
    "\n",
    "\n",
    "boto3_bedrock = bedrock.get_bedrock_client(\n",
    "    assumed_role=os.environ.get(\"BEDROCK_ASSUME_ROLE\", None),\n",
    "    endpoint_url=os.environ.get(\"BEDROCK_ENDPOINT_URL\", None),\n",
    "    region=os.environ.get(\"AWS_DEFAULT_REGION\", None),\n",
    ")\n",
    "\n",
    "# print (colored(\"\\n== FM lists ==\", \"green\"))\n",
    "# pprint (bedrock_info.get_list_fm_models())\n",
    "\n",
    "bedrock = boto3.client(service_name='bedrock')\n",
    "model_list = bedrock.list_foundation_models()\n",
    "result = [(fm_list[\"modelName\"], fm_list[\"modelId\"]) for fm_list in model_list[\"modelSummaries\"] if fm_list['inferenceTypesSupported'] == ['ON_DEMAND']]\n",
    "pprint(result)"
   ]
  },
  {
   "cell_type": "markdown",
   "id": "16b9ad47-56b6-427d-84a6-4e792bf4f6f9",
   "metadata": {},
   "source": [
    "## Embedding 모델 선택"
   ]
  },
  {
   "cell_type": "code",
   "execution_count": 4,
   "id": "85910ba4-1eb0-4b38-8d46-aa8a3da3cd60",
   "metadata": {
    "tags": []
   },
   "outputs": [
    {
     "name": "stderr",
     "output_type": "stream",
     "text": [
      "/home/ec2-user/anaconda3/envs/python3/lib/python3.10/site-packages/pandas/core/computation/expressions.py:21: UserWarning: Pandas requires version '2.8.0' or newer of 'numexpr' (version '2.7.3' currently installed).\n",
      "  from pandas.core.computation.check import NUMEXPR_INSTALLED\n"
     ]
    }
   ],
   "source": [
    "from utils.rag import KoSimCSERobertaContentHandler, SagemakerEndpointEmbeddingsJumpStart"
   ]
  },
  {
   "cell_type": "code",
   "execution_count": 5,
   "id": "65afde2a-097b-4a00-82e4-e7bab6e2a4d1",
   "metadata": {
    "tags": []
   },
   "outputs": [],
   "source": [
    "def get_embedding_model(is_bedrock_embeddings, is_KoSimCSERobert, aws_region, endpont_name=None):\n",
    "    if is_bedrock_embeddings:\n",
    "\n",
    "        # We will be using the Titan Embeddings Model to generate our Embeddings.\n",
    "        from langchain.embeddings import BedrockEmbeddings\n",
    "\n",
    "        llm_emb = BedrockEmbeddings(\n",
    "            client=boto3_bedrock,\n",
    "            model_id=bedrock_info.get_model_id(\n",
    "                model_name=\"Titan-Embeddings-G1\"\n",
    "            )\n",
    "        )\n",
    "        print(\"Bedrock Embeddings Model Loaded\")\n",
    "        \n",
    "    elif is_KoSimCSERobert:\n",
    "        LLMEmbHandler = KoSimCSERobertaContentHandler()\n",
    "        endpoint_name_emb = endpont_name\n",
    "        llm_emb = SagemakerEndpointEmbeddingsJumpStart(\n",
    "            endpoint_name=endpoint_name_emb,\n",
    "            region_name=aws_region,\n",
    "            content_handler=LLMEmbHandler,\n",
    "        )        \n",
    "        print(\"KoSimCSERobert Embeddings Model Loaded\")\n",
    "    else:\n",
    "        llm_emb = None\n",
    "        print(\"No Embedding Model Selected\")\n",
    "    \n",
    "    return llm_emb"
   ]
  },
  {
   "cell_type": "markdown",
   "id": "1fe62c38-4b50-48ef-96de-3690361551de",
   "metadata": {},
   "source": [
    "#### [중요] is_KoSimCSERobert == True 경우,  endpoint_name 을 꼭 넣어 주세요."
   ]
  },
  {
   "cell_type": "code",
   "execution_count": 6,
   "id": "b29f58a6-a230-4aa9-994d-0a6343f72fcb",
   "metadata": {
    "tags": []
   },
   "outputs": [
    {
     "name": "stdout",
     "output_type": "stream",
     "text": [
      "Bedrock Embeddings Model Loaded\n"
     ]
    }
   ],
   "source": [
    "is_bedrock_embeddings = True\n",
    "is_KoSimCSERobert = False\n",
    "\n",
    "aws_region = os.environ.get(\"AWS_DEFAULT_REGION\", None)\n",
    "\n",
    "##############################\n",
    "# Parameters for is_KoSimCSERobert\n",
    "##############################\n",
    "if is_KoSimCSERobert: endpont_name = \"<endpoint-name>\"\n",
    "else: endpont_name = None\n",
    "##############################\n",
    "\n",
    "llm_emb = get_embedding_model(is_bedrock_embeddings, is_KoSimCSERobert, aws_region, endpont_name)    "
   ]
  },
  {
   "cell_type": "markdown",
   "id": "42c31989-edcd-42f9-aabb-2a3d17b3e8a2",
   "metadata": {},
   "source": [
    "# 2. 데이터 준비\n"
   ]
  },
  {
   "cell_type": "markdown",
   "id": "9296a37c-9f68-4a56-b8f6-9311dedc03cd",
   "metadata": {},
   "source": [
    "##  한화생명 보험 약관 데이터 세트로 구현"
   ]
  },
  {
   "cell_type": "code",
   "execution_count": 8,
   "id": "4a1407db-0f63-4a57-aa15-0c430b9bae13",
   "metadata": {
    "tags": []
   },
   "outputs": [],
   "source": [
    "import time\n",
    "from langchain.schema import Document\n",
    "from llmsherpa.readers import LayoutPDFReader"
   ]
  },
  {
   "cell_type": "code",
   "execution_count": 10,
   "id": "919c614e-aa36-499b-90e3-e29ad81c853e",
   "metadata": {
    "tags": []
   },
   "outputs": [
    {
     "data": {
      "text/plain": [
       "['./data/rag_data_kr_pdf/한화생명 The스마트한 일시납종신보험_20240101~.pdf',\n",
       " './data/rag_data_kr_pdf/한화생명 The실속있는 간병치매보험_20231209~_1.pdf',\n",
       " './data/rag_data_kr_pdf/한화생명 The스마트한 일시납종신보험_1912-061~072_20230916~.pdf',\n",
       " './data/rag_data_kr_pdf/한화생명 The실속있는 간병치매보험_20240101~.pdf']"
      ]
     },
     "execution_count": 10,
     "metadata": {},
     "output_type": "execute_result"
    }
   ],
   "source": [
    "import glob\n",
    "pdf_list = glob.glob('./data/rag_data_kr_pdf/*')\n",
    "pdf_list"
   ]
  },
  {
   "cell_type": "markdown",
   "id": "87d61f16-0d79-48e1-bed6-f9af9d58e922",
   "metadata": {},
   "source": [
    "### 2-1. PDF 처리 방법 (LLM Sherpa)\n",
    " - https://github.com/nlmatics/llmsherpa"
   ]
  },
  {
   "cell_type": "code",
   "execution_count": 11,
   "id": "dd25683c-d436-4c2a-963f-1ef7404b40e0",
   "metadata": {
    "tags": []
   },
   "outputs": [],
   "source": [
    "# llmsherpa_api_url = \"https://readers.llmsherpa.com/api/document/developer/parseDocument?renderFormat=all\"\n",
    "# pdf_reader = LayoutPDFReader(llmsherpa_api_url)\n",
    "# # doc = pdf_reader.read_pdf(\"./data/pdf/한화생명 The스마트한 일시납종신보험_20240101~.pdf\")"
   ]
  },
  {
   "cell_type": "code",
   "execution_count": null,
   "id": "3f3fe0ac-2525-412d-85bc-b622dff13104",
   "metadata": {},
   "outputs": [],
   "source": [
    "# docs = []\n",
    "# for pdf_file in pdf_list:\n",
    "#     doc = pdf_reader.read_pdf(pdf_file)\n",
    "#     source_name = pdf_file.split('/')[-1]\n",
    "#     type_name = source_name.split(' ')[-1].replace('.pdf', '')\n",
    "#     for chunk_info in doc.chunks():\n",
    "#         sentences = \" \".join(chunk_info.sentences)\n",
    "#         if len(sentences) >= 20:\n",
    "#             chunk = Document(\n",
    "#                 page_content=sentences,\n",
    "#                 metadata={\n",
    "#                     \"source\" : source_name,\n",
    "#                     \"type\": type_name,\n",
    "#                     \"timestamp\": time.time()\n",
    "#                 }\n",
    "#             )\n",
    "#             docs.append(chunk)"
   ]
  },
  {
   "cell_type": "markdown",
   "id": "65a2ecde-69ad-4ed7-b152-321a33a056ce",
   "metadata": {},
   "source": [
    "### 2-2. PDF 처리 방법 (pdfplumber)\n",
    " - https://github.com/jsvine/pdfplumber"
   ]
  },
  {
   "cell_type": "code",
   "execution_count": 12,
   "id": "320f1ada-8158-407a-880f-abcb402acc19",
   "metadata": {
    "scrolled": true,
    "tags": []
   },
   "outputs": [],
   "source": [
    "import pdfplumber\n",
    "import glob\n",
    "from tqdm.auto import tqdm\n",
    "\n",
    "docs = []\n",
    "for current_pdf_file in glob.glob(\"./data/rag_data_kr_pdf/*.pdf\"):\n",
    "    source_name = current_pdf_file.split('/')[-1]\n",
    "    type_name = source_name.split(' ')[-1].replace('.pdf', '')\n",
    "    with pdfplumber.open(current_pdf_file) as my_pdf:\n",
    "        pages = my_pdf.pages\n",
    "        for page in pages:\n",
    "            sentences = page.extract_text()\n",
    "            if len(sentences) >= 20:\n",
    "                chunk = Document(\n",
    "                    page_content=sentences,\n",
    "                    metadata={\n",
    "                        \"source\" : source_name,\n",
    "                        \"type\": type_name,\n",
    "                        \"timestamp\": time.time()\n",
    "                    }\n",
    "                )\n",
    "                docs.append(chunk)\n",
    "    # break"
   ]
  },
  {
   "cell_type": "markdown",
   "id": "870c2e0b-0046-4d65-a9f0-cba540edb577",
   "metadata": {},
   "source": [
    "### 2-3. PDF 처리 방법 (pypdf)\n",
    " - https://pypi.org/project/pypdf/"
   ]
  },
  {
   "cell_type": "markdown",
   "id": "160f25b2-8b20-4b57-bc66-bf2b6004cc1c",
   "metadata": {
    "tags": []
   },
   "source": [
    "-------------------"
   ]
  },
  {
   "cell_type": "code",
   "execution_count": 13,
   "id": "af6dade3-f44d-4520-b766-ed3785bc2b88",
   "metadata": {
    "scrolled": true,
    "tags": []
   },
   "outputs": [
    {
     "data": {
      "text/plain": [
       "[Document(page_content='② 이 특칙은 다음 각 호의 계약에 대하여 각 목의 조건을 모두 만족하는 경우 사망보험금 연금선지급\\n서비스를 1회에 한하여 신청할 수 있습니다.\\n1. 보장형 계약\\n가. 신청시점 피보험자 나이가 55세 이상 90세 이하인 경우(다만, 보장형계약 2종(소득보장형) 및 3\\n종(소득보장강화형)은 은퇴전 보험기간에 신청할 수 없습니다)\\n나. 보험계약일 이후 5년 이상 경과한 경우\\n다. 보험계약대출 잔액(보험계약대출의 원금과 이자 포함)이 없는 경우\\n라. 적립형 계약으로 전환 하지 않은 경우\\n마. 연금전환특약에 의해 연금전환하지 않은 경우\\n2. 스마트전환형 계약\\n가. 신청시점 피보험자 나이가 55세 이상 90세 이하인 경우\\n나. 전환일 이후 5년 이상 경과한 경우\\n다. 보험계약대출 잔액(보험계약대출의 원금과 이자 포함)이 없는 경우\\n라. 연금전환특약에 의해 연금전환하지 않은 경우\\n마. 적립형 계약으로 전환하지 않은 경우\\n제 57 조 특칙의 보험수익자의 지정\\n이 특칙에서 계약자가 보험수익자를 지정하지 않은 때에는 계약자를 보험수익자로 합니다.\\n제 58 조 특칙내용의 변경\\n① 계약자는 이 특칙의 보험기간 중 언제든지 연금선지급의 종료를 신청할 수 있으며, 이 경우 회사는\\n연금선지급을 종료합니다. 또한, 계약자는 연금선지급이 종료된 이후에 사망보험금 연금선지급서비스를\\n다시 신청할 수 없습니다.\\n② 계약자는 연금선지급 개시 이후 연금선지급 대상금액, 연금선지급기간 및 보험수익자를 변경할 수\\n없습니다.\\n제 59 조 특칙의 보험기간 중 주계약 계약내용의 변경\\n① 연금선지급금액에 해당하는 보장형 계약 또는 스마트전환형 계약의 보험가입금액은 매년 연금선지급\\n해당일에 감액됩니다.\\n② 계약자는 연금선지급 개시 이후에는 보험료의 추가납입, 적립액의 인출, 보험계약대출, 보험가입금액\\n의 감액, 적립형 계약 전환, 스마트전환형 계약 전환, 연금전환 및 선지급서비스특약에 의한 사망보험금\\n선지급 청구를 할 수 없습니다. 다만, 최종 연금선지급일까지 연금선지급이 완료되거나 제58조(특칙내용\\n의 변경) 제1항에 따라 연금선지급이 종료된 이후에는 이를 적용하지 않습니다.\\n③ 주계약의 기준보험료 총액의 납입이 완료되었으나 부가된 특약의 보험료 납입이 완료되지 않은 경우,\\n연금선지급 개시 이후에 해당 특약의 보험료(특약의 기타비용 제외)는 월대체보험료에서 제외하고, 매월\\n주계약의 월계약해당일에 해당 특약의 보험료(특약의 기타비용 포함)를 납입하여야 합니다. 다만, 최종\\n연금선지급일까지 연금선지급이 완료되거나 제58조(특칙내용의 변경) 제1항에 따라 연금선지급이 종료\\n된 경우 해당 특약의 보험료(특약의 기타비용 제외)는 월대체보험료에 포함합니다.\\n제 60 조 특칙의 보험기간\\n이 특칙의 보험기간은 연금선지급개시일부터 최종 연금선지급일까지로 합니다.\\n제 61 조 특칙의 소멸\\n① 제52조(특칙의 보험금의 지급사유)에서 정한 보험금의 지급이 완료된 경우에는 이 특칙은 더 이상\\n효력이 없습니다.\\n② 이 특칙의 보험기간 중 주계약이 사망보험금 지급사유 발생, 해지(월대체보험료를 공제할 수 없어 해\\n51\\x00/\\x00249', metadata={'source': '한화생명 The스마트한 일시납종신보험_20240101~.pdf', 'type': '일시납종신보험_20240101~', 'timestamp': 1705041706.8242276}),\n",
       " Document(page_content='지되는 경우 포함) 또는 기타 사유에 의하여 효력이 없게 되는 경우에는 연금선지급도 종료되며 이 특\\n칙은 더 이상 효력이 없습니다. 다만, 주계약 사망보험금 지급사유 발생 이후에 지급된 연금선지급 금액\\n이 있는 경우 회사가 지급할 사망보험금에서 해당 연금선지급 금액을 차감한 후 지급합니다.\\n③ 제58조(특칙내용의 변경) 제1항에 따라 계약자가 특칙의 보험기간 중 연금선지급의 종료를 신청한\\n경우 연금선지급은 종료되며 이 특칙은 더 이상 효력이 없습니다.\\n제 62 조 특칙의 보험료의 납입 및 회사의 보장개시\\n① 이 특칙의 보험료는 없습니다.\\n② 이 특칙의 보장개시일은 연급선지급 개시일로 하며, 이후 이 특칙의 매년 연금선지급 해당일에 연금\\n선지급금을 지급합니다. 다만, 해당월의 연금선지급 해당일이 없는 경우에는 해당월의 말일을 연금선지\\n급 해당일로 합니다.\\n제 63 조 주계약 약관의 준용\\n이 특칙에 정하지 않은 사항에 대하여는 주계약의 약관을 준용합니다.\\n52\\x00/\\x00249', metadata={'source': '한화생명 The스마트한 일시납종신보험_20240101~.pdf', 'type': '일시납종신보험_20240101~', 'timestamp': 1705041707.1019676}),\n",
       " Document(page_content='【 별표 1 】\\n[보장형 계약] 보험금 지급기준표\\n□ 1종(기본형)\\n급부명칭 지 급 사 유 지 급 금 액\\n사망보험금 지급사유 발생당시\\n사망보험금 보험기간 중 피보험자가 사망한 경우\\n기본보험금액\\n주) 1. 기본보험금액이라 함은 기준사망보험금과 ‘이미 납입한 보험료’ 그리고 적립액의 101% 금액 중\\n가장 큰 금액을 말합니다.\\n2. 기준사망보험금이라 함은 보험가입금액으로 합니다. 다만, 추가납입보험료 납입시에는 추가납입\\n전 기준사망보험금에서 추가납입보험료를 더한 금액으로 하며 적립액의 인출시에는 인출전 기\\n준사망보험금에서 적립액의 인출금액을 차감한 금액으로 합니다. 한편, 적립액의 인출로 인한\\n기준사망보험금의 감소는 적립액 인출 신청시점을 기준으로 계산합니다.\\n3. 향후 공시이율에 관계없이 제28조(보험료의 납입이 연체되는 경우 납입최고(독촉)와 계약의 해\\n지)에 의한 보험료의 납입최고(독촉)기간의 종료일까지 보장하는 최저한도의 사망보험금은 사망\\n보험금 지급사유 발생시점의 기본보험금액으로 합니다.\\n4. 회사는 보험기간 중 피보험자에게 상기 사망보험금 지급사유가 발생한 경우 사망보험금과 해약\\n환급금 중에서 많은 금액을 사망보험금으로 지급합니다.\\n□ 2종(소득보장형)\\n급부명칭 보험기간 지 급 사 유 지 급 금 액\\n○ 월급여금\\n지급사유 발생일을 포함하여 은퇴전 보험기간\\n은퇴전 이 끝날 때까지 매월 지급사유 발생해당일에\\n피보험자가 사망한 경우\\n사망 보험기간 보험가입금액의 1%를 지급(단, 60회 보증지급)\\n보험금 사망보험금 지급사유 발생당시\\n기본보험금액\\n은퇴후 사망보험금 지급사유 발생당시\\n피보험자가 사망한 경우\\n보험기간 기본보험금액\\n주) 1. 기본보험금액은 보험기간에 따라 다음과 같이 구분됩니다.\\n(1) 은퇴전 보험기간\\n다음중 가장 큰 금액을 말합니다.\\n- 기준사망보험금\\n- ‘이미 납입한 보험료’에서 ‘월급여금의 일시지급금’을 차감한 금액\\n- 적립액의 101%에서 ‘월급여금의 일시지급금’을 차감한 금액\\n(2) 은퇴후 보험기간\\n기준사망보험금과 ‘이미 납입한 보험료’ 그리고 적립액의 101%중 가장 큰 금액\\n2. 기준사망보험금은 다음과 같습니다.\\n은퇴전 보험기간의 경우 보험가입금액의 50%로 하며, 은퇴후 보험기간에는 보험가입금액으로 합\\n니다. 다만, 추가납입보험료 납입시에는 추가납입전 기준사망보험금에 추가납입보험료를 더한 금\\n액으로 하며, 적립액의 인출시에는 인출전 기준사망보험금에서 적립액의 인출금액을 차감한 금\\n액으로 합니다. 한편, 적립액의 인출로 인한 기준사망보험금의 감소는 적립액의 인출 신청시점을\\n기준으로 계산합니다.\\n53\\x00/\\x00249', metadata={'source': '한화생명 The스마트한 일시납종신보험_20240101~.pdf', 'type': '일시납종신보험_20240101~', 'timestamp': 1705041707.2846298}),\n",
       " Document(page_content='3. 월급여금에서 ‘보험가입금액’보다 월급여금 지급사유 발생시점 적립액의 101%가 더 큰 경우 그\\n금액을 보험가입금액으로 하여 월급여금을 계산합니다.\\n4. 월급여금에서 해당월의 지급사유 발생해당일이 없는 경우에는 해당월의 말일을 지급사유 발생\\n해당일로 합니다.\\n[사망연령별 기준사망보험금 및 월급여금 예시]\\n40세 가입, 보험가입금액 1억원(보험가입금액이 월급여급 지급사유 발생시점 적립액의 101% 이상\\n인 경우)\\n매월 100만원\\n월 급여금 매월 100만원 매월 100만원 매월 100만원\\nX\\n월급여급\\n180회\\nX X X\\n120회 60회 60회 없음\\n기 준사망\\n1억원\\n보험금\\n5천만원 5천만원 5천만원 5천만원\\n50세 계약해 55세 계약해 60세 계약해 64세 계약해 65세 계약해당\\n당일 사망 당일 사망 당일 사망 당일 사망 일 이후 사망\\n5. 향후 공시이율에 관계없이 제28조(보험료의 납입이 연체되는 경우 납입최고(독촉)와 계약의 해\\n지)에 의한 보험료의 납입최고(독촉)기간의 종료일까지 보장하는 최저한도의 사망보험금은 다음\\n과 같습니다.\\n- 은퇴전 보험기간\\n지급사유 발생시점의 월급여금(60회 보증지급) 및 기본보험금액\\n- 은퇴후 보험기간\\n지급사유 발생시점의 기본보험금액\\n6. 회사는 보험기간 중 피보험자에게 상기 사망보험금 지급사유가 발생한 경우 사망보험금과 해약\\n환급금 중에서 많은 금액을 사망보험금으로 지급합니다.\\n□ 3종(소득보장강화형)\\n급부명칭 보험기간 지 급 사 유 지 급 금 액\\n○ 월급여금\\n지급사유 발생일을 포함하여 은퇴전 보험기간\\n이 끝날 때까지 최대 240회 한도 내에서 매월\\n은퇴전\\n피보험자가 사망한 경우 지급사유 발생해당일에 보험가입금액의 2%를\\n사망 보험기간 지급(단, 60회 보증지급)\\n보험금\\n사망보험금 지급사유 발생당시\\n기본보험금액\\n은퇴후 사망보험금 지급사유 발생당시\\n피보험자가 사망한 경우\\n보험기간 기본보험금액\\n주) 1. 기본보험금액은 보험기간에 따라 다음과 같이 구분됩니다.\\n(1) 은퇴전 보험기간\\n다음중 가장 큰 금액을 말합니다.\\n- 기준사망보험금\\n54\\x00/\\x00249', metadata={'source': '한화생명 The스마트한 일시납종신보험_20240101~.pdf', 'type': '일시납종신보험_20240101~', 'timestamp': 1705041707.4512868}),\n",
       " Document(page_content='- ‘이미 납입한 보험료’에서 ‘월급여금의 일시지급금’을 차감한 금액\\n- 적립액의 101%에서 ‘월급여금의 일시지급금’을 차감한 금액\\n(2) 은퇴후 보험기간\\n기준사망보험금과 ‘이미 납입한 보험료’ 그리고 적립액의 101%중 가장 큰 금액\\n2. 기준사망보험금은 다음과 같습니다.\\n은퇴전 보험기간의 경우 보험가입금액의 20%로 하며, 은퇴후 보험기간에는 보험가입금액으로 합\\n니다. 다만, 추가납입보험료 납입시에는 추가납입전 기준사망보험금에 추가납입보험료를 더한 금\\n액으로 하며, 적립액의 인출시에는 인출전 기준사망보험금에서 적립액의 인출금액을 차감한 금\\n액으로 합니다. 한편, 적립액의 인출로 인한 기준사망보험금의 감소는 적립액의 인출 신청시점을\\n기준으로 계산합니다.\\n3. 월급여금에서 ‘보험가입금액’보다 월급여금 지급사유 발생시점 적립액의 101%가 더 큰 경우 그\\n금액을 보험가입금액으로 하여 월급여금을 계산합니다.\\n4. 월급여금에서 해당월의 지급사유 발생해당일이 없는 경우에는 해당월의 말일을 지급사유 발생\\n해당일로 합니다.\\n[사망연령별 기준사망보험금 및 월급여금 예시]\\n30세 가입, 보험가입금액 1억원(보험가입금액이 월급여급 지급사유 발생시점 적립액의 101% 이상\\n인 경우)\\n매월 200만원\\n월 급여금 X 매월 200만원 매월 200만원 매월 200만원\\n월급여급\\n240회 X X X\\n180회 60회 60회 없음\\n기 준사망\\n1억원\\n보험금\\n2천만원 2천만원 2천만원 2천만원\\n40세 계약해 50세 계약해 60세 계약해 64세 계약해 65세 계약해당\\n당일 사망 당일 사망 당일 사망 당일 사망 일 이후 사망\\n5. 향후 공시이율에 관계없이 제28조(보험료의 납입이 연체되는 경우 납입최고(독촉)와 계약의 해\\n지)에 의한 보험료의 납입최고(독촉)기간의 종료일까지 보장하는 최저한도의 사망보험금은 다음\\n과 같습니다.\\n- 은퇴전 보험기간\\n지급사유 발생시점의 월급여금(최대 240회 한도. 단, 60회 보증지급) 및 기본보험금액\\n- 은퇴후 보험기간\\n지급사유 발생시점의 기본보험금액\\n6. 회사는 보험기간 중 피보험자에게 상기 사망보험금 지급사유가 발생한 경우 사망보험금과 해약\\n환급금 중에서 많은 금액을 사망보험금으로 지급합니다.\\n55\\x00/\\x00249', metadata={'source': '한화생명 The스마트한 일시납종신보험_20240101~.pdf', 'type': '일시납종신보험_20240101~', 'timestamp': 1705041707.608616}),\n",
       " Document(page_content='【 별표 2 】\\n[적립형 계약] 보험금 지급기준표\\n급부명칭 지급사유 지급금액\\n기본보험료의 6배\\n+\\n사망보험금 보험기간 중 피보험자가 사망한 경우\\n사망보험금 지급사유\\n발생당시의 적립액\\n주) 사망보험금이 이미 납입한 보험료보다 적을 경우에는 이미 납입한 보험료를 사망보험금으로 지급합\\n니다.\\n【 별표 3 】\\n[스마트전환형 계약] 보험금 지급기준표\\n급부명칭 지 급 사 유 지 급 금 액\\n사망보험금 지급사유 발생당시\\n사망보험금 보험기간 중 피보험자가 사망한 경우\\n기본보험금액\\n주) 1. 기본보험금액이라 함은 기준사망보험금과 ‘이미 납입한 보험료’ 그리고 적립액의 101% 금액 중\\n가장 큰 금액을 말합니다.\\n2. 기준사망보험금이라 함은 보험가입금액으로 합니다. 다만, 추가납입보험료 납입시에는 추가납입\\n전 기준사망보험금에서 추가납입보험료를 더한 금액으로 하며 적립액의 인출시에는 인출전 기\\n준사망보험금에서 적립액의 인출금액을 차감한 금액으로 합니다.\\n3. 최저사망보험금이라 함은 스마트전환형 계약[보증비용부과형](해약환급금 보증)의 경우 향후 공\\n시이율에 관계없이 제28조(보험료의 납입이 연체되는 경우 납입최고(독촉)와 계약의 해지)에 의\\n한 보험료의 납입최고(독촉)기간의 종료일까지 보장하는 최저한도의 사망보험금으로서 사망보험\\n금 지급사유 발생시점의 기본보험금액을 말하며, 스마트전환형 계약[보증비용부과형](해약환급금\\n미보증)의 경우 향후 공시이율에 관계없이 최저사망보험금 보증기간 동안 보장하는 최저한도의\\n사망보험금으로서 사망보험금 지급사유 발생시점의 기본보험금액을 말합니다.\\n4. 스마트전환형 계약[보증비용부과형](해약환급금 미보증)의 경우 최저사망보험금 보증기간이라 함\\n은 전환일 이후 제28조(보험료의 납입이 연체되는 경우 납입최고(독촉)와 계약의 해지)의 납입\\n최고(독촉)기간이 끝나는 날의 다음 날부터 스마트전환형 계약의 예정적립액이 ‘0’이 될 때까지\\n의 기간을 말합니다.\\n5. 스마트전환형 계약[보증비용부과형](해약환급금 보증)의 경우 회사는 보험기간 중 피보험자에게\\n상기 사망보험금 지급사유가 발생한 경우 사망보험금과 해약환급금 중에서 많은 금액을 사망보\\n험금으로 지급합니다.\\n56\\x00/\\x00249', metadata={'source': '한화생명 The스마트한 일시납종신보험_20240101~.pdf', 'type': '일시납종신보험_20240101~', 'timestamp': 1705041707.7548397}),\n",
       " Document(page_content='【 별표 4 】\\n사망보험금 연금선지급서비스특칙의 보험금 지급기준표\\n급부명칭 지급사유 지급금액\\n산출방법서에서 정한 방법에 따라 계산한 매년 감액\\n피보험자가 매년 연금선지급\\n연금선지급금 할 금액에 해당하는 해약환급금을 매년 연금선지급\\n해당일에 살아있을 경우\\n해당일에 지급\\n주) 1. 연금선지급금액에 해당하는 주계약의 보험가입금액은 매년 연금선지급 해당일에 감액됩니다.\\n2. 연금선지급금액을 매월, 매3개월, 매6개월로 분할하여 지급받을 수 있습니다.\\n3. 해당월의 연금선지급 해당일이 없는 경우에는 해당월의 말일을 연금선지급 해당일로 합니다.\\n【 별표 5 】\\n보험금을 지급할 때의 적립이율 계산\\n(제9조 제2항 및 제39조 제3항 관련)\\n구 분 기 간 지 급 이 자\\n지급기일의 다음 날부터 30일 이내 기간 보험계약대출이율\\n사망보험금\\n보험계약대출이율\\n(2종(소득보장형) 및 지급기일의 31일 이후부터 60일 이내 기간\\n+ 가산이율(4.0%)\\n3종(소득보장강화형) 제2회\\n보험계약대출이율\\n이후의 월급여금 제외) 지급기일의 61일 이후부터 90일 이내 기간\\n+ 가산이율(6.0%)\\n(제4조)\\n보험계약대출이율\\n지급기일의 91일 이후 기간\\n+ 가산이율(8.0%)\\n-1년이내:\\n2종(소득보장형) 및\\n제2회 이후의 해당 월급여금 지급예정일의 공시이율의 50%\\n3종 (소득보장강화형) 제2회\\n다음 날부터 청구일까지의 기간 -1년 초과기간:\\n이후의 월급여금\\n공시이율의 40%\\n(제4조)\\n청구일의 다음 날부터 지급일까지의 기간 보험계약대출이율\\n-1년이내:\\n지급사유가 발생한 날의 다음 날부터 청구 공시이율의 50%\\n해약환급금 일까지의 기간 -1년 초과기간:\\n(제39조 제1항) 공시이율의 40%\\n청구일의 다음 날부터 지급일까지의 기간 보험계약대출이율\\n주) 1. 지급이자 계산시 적용되는 공시이율 및 보험계약대출이율은 해당기간 동안에 회사가 매월 정한 이\\n율로 합니다.\\n2. 제2회 이후의 월급여금은 회사가 보험금의 지급시기 도래 7일 이전에 지급할 사유와 금액을 알리\\n57\\x00/\\x00249', metadata={'source': '한화생명 The스마트한 일시납종신보험_20240101~.pdf', 'type': '일시납종신보험_20240101~', 'timestamp': 1705041707.9300637}),\n",
       " Document(page_content='지 않은 경우, 지급예정일의 다음 날부터 청구일까지의 기간은 공시이율을 적용한 이자를 지급합\\n니다.\\n3. 지급이자는 연단위 복리로 일자계산하며, 소멸시효(제45조)가 완성된 이후에는 지급하지 않습니다.\\n4. 계약자 등의 책임 있는 사유로 보험금 지급이 지연된 때에는 그 해당기간에 대한 이자는 지급되\\n지 않을 수 있습니다. 다만, 회사는 계약자 등이 분쟁조정을 신청했다는 이유만으로 이자지급을\\n거절하지 않습니다.\\n5. 가산이율 적용시 제9조(보험금의 지급절차) 제3항 각 호의 어느 하나에 해당되는 사유로 지연된\\n경우에는 해당기간에 대하여 가산이율을 적용하지 않습니다.\\n6. 가산이율 적용시 금융위원회 또는 금융감독원이 정당한 사유로 인정하는 경우에는 해당 기간에\\n대하여 가산이율을 적용하지 않습니다.\\n【 별표 6 】\\n사망보험금 연금선지급서비스특칙의 보험금을 지급할 때의 적립이율 계산\\n(제55조 제2항 관련)\\n구 분 기 간 지 급 이 자\\n- 1년이내 :\\n공시이율의 50%\\n지급사유가 발생한 날의 다음 날부터 청구일까지의 기간\\n연금선지급금\\n- 1년 초과기간 :\\n(제52조)\\n공시이율의 40%\\n청구일의 다음 날부터 지급일까지의 기간 보험계약대출이율\\n주) 1. 지급이자 계산시 적용되는 공시이율 및 보험계약대출이율은 해당기간 동안에 회사가 매월 정한 이\\n율로 합니다.\\n2. 지급이자는 연단위 복리로 일자계산하며, 소멸시효(제45조)가 완성된 이후에는 지급하지 않습니다.\\n3. 계약자 등의 책임 있는 사유로 보험금 지급이 지연된 때에는 그 해당기간에 대한 이자는 지급되\\n지 않을 수 있습니다. 다만, 회사는 계약자 등이 분쟁조정을 신청했다는 이유만으로 이자지급을\\n거절하지 않습니다.\\n58\\x00/\\x00249', metadata={'source': '한화생명 The스마트한 일시납종신보험_20240101~.pdf', 'type': '일시납종신보험_20240101~', 'timestamp': 1705041708.0535064}),\n",
       " Document(page_content='【 별표 7 】\\n재해분류표\\n1. 보장대상이 되는 재해\\n다음 각 호에 해당하는 재해는 이 보험의 약관에 따라 보험금을 지급합니다.\\n① 한국표준질병·사인분류상의 (S00~Y84)에 해당하는 우발적인 외래의 사고\\n② 감염병의 예방 및 관리에 관한 법률 제2조 제2호에서 규정한 제1급감염병\\n2. 보험금을 지급하지 않는 재해\\n다음 각 호에 해당하는 경우에는 재해분류에서 제외하여 보험금을 지급하지 않습니다.\\n① 질병 또는 체질적 요인이 있는 자로서 경미한 외부 요인으로 발병하거나 그 증상이 더욱 악화된\\n경우\\n② 사고의 원인이 다음과 같은 경우\\n- 과잉노력 및 격심한 또는 반복적 운동(X50)\\n- 무중력환경에서의 장기간 체류(X52)\\n- 식량부족(X53)\\n- 물부족(X54)\\n- 상세불명의 결핍(X57)\\n- 고의적 자해(X60~X84)\\n- 법적 개입 중 법적 처형(Y35.5)\\n③ ‘외과적 및 내과적 치료 중 환자의 재난(Y60~Y69)’ 중 진료기관의 고의 또는 과실이 없는 사고(단,\\n처치 당시에는 재난에 대한 언급이 없었으나 환자의 이상반응 또는 이후 합병증의 원인이 된 외\\n과적 및 기타 내과적 처치(Y83~Y84)는 보장)\\n④ ‘자연의 힘에 노출(X30~X39)’ 중 급격한 액체손실로 인한 탈수\\n⑤ ‘우발적 익사 및 익수(W65~W74), 기타 호흡과 관련된 불의의 위협(W75~W84), 눈 또는 인체의\\n개구부를 통하여 들어온 이물(W44)’ 중 질병에 의한 호흡장해 및 삼킴장해\\n⑥ 한국표준질병·사인분류상의 (U00~U99)에 해당하는 질병\\n※ ( ) 안은 제8차 개정 한국표준질병·사인분류(통계청 고시 제2020-175호, 2021. 1. 1 시행)상의 분류번호\\n이며, 제9차 한국표준질병·사인분류 개정 이후 이 약관에서 보장하는 재해 해당여부는 피보험자가\\n진단(재해의 경우 발생)된 당시 시행하고 있는 한국표준질병·사인분류에 따라 판단합니다.\\n※ 제1항(보장대상이 되는 재해) 제②호에 해당하는 감염병은 보험사고 발생당시 시행중인 법률을 적용\\n하며, 제2항(보험금을 지급하지 않는 재해) 제⑥호에 해당하더라도 보장대상에서 제외하지 않습니다.\\n59\\x00/\\x00249', metadata={'source': '한화생명 The스마트한 일시납종신보험_20240101~.pdf', 'type': '일시납종신보험_20240101~', 'timestamp': 1705041708.1929297}),\n",
       " Document(page_content='주계약 약관\\n한화생명\\nThe스마트한\\n일시납종신보험\\n무배당[보증비용부과형]\\n(해약환급금 미보증)\\n제1관 목적 및 용어의 정의\\n제2관 보험금의 지급\\n제3관 계약자의 계약 전 알릴 의무 등\\n제4관 보험계약의 성립과 유지\\n제5관 보험료의 납입\\n제6관 계약의 해지 및 해약환급금 등\\n제7관 분쟁의 조정 등\\n주계약 약관은 보험계약 성립의 가장 기본이 되는 사항으로,\\n보험계약자와 보험회사의 권리와 의무를 규정한 중요한 내용입니다.', metadata={'source': '한화생명 The스마트한 일시납종신보험_20240101~.pdf', 'type': '일시납종신보험_20240101~', 'timestamp': 1705041708.264858})]"
      ]
     },
     "execution_count": 13,
     "metadata": {},
     "output_type": "execute_result"
    }
   ],
   "source": [
    "docs[50:60]"
   ]
  },
  {
   "cell_type": "markdown",
   "id": "187ceea4-4d80-41bf-9431-47d5f3902396",
   "metadata": {
    "tags": []
   },
   "source": [
    "# 3. OpenSearch 벡터 Indexer 생성\n",
    "### 선수 조건\n",
    "- 랭체인 오프서처 참고 자료\n",
    "    - [Langchain Opensearch](https://python.langchain.com/docs/integrations/vectorstores/opensearch)"
   ]
  },
  {
   "cell_type": "markdown",
   "id": "3a6c5796-a418-4505-ba28-0ca33c3fa9f8",
   "metadata": {},
   "source": [
    "## 오픈 서치 인덱스 유무에 따라 삭제\n",
    "오픈 서치에 해당 인덱스가 존재하면, 삭제 합니다. "
   ]
  },
  {
   "cell_type": "code",
   "execution_count": 20,
   "id": "91a04b66-f542-4c10-87b3-7612d8cc0aa7",
   "metadata": {
    "tags": []
   },
   "outputs": [],
   "source": [
    "from utils.opensearch import opensearch_utils\n",
    "http_auth = (opensearch_user_id, opensearch_user_password) # Master username, Master password\n",
    "os_client = opensearch_utils.create_aws_opensearch_client(\n",
    "    aws_region,\n",
    "    opensearch_domain_endpoint,\n",
    "    http_auth\n",
    ")"
   ]
  },
  {
   "cell_type": "code",
   "execution_count": 21,
   "id": "9cf8addb-9345-499e-b079-94c2612f88b6",
   "metadata": {
    "tags": []
   },
   "outputs": [
    {
     "name": "stdout",
     "output_type": "stream",
     "text": [
      "index_name=genai-demo-index-v1, exists=False\n",
      "Index does not exist\n"
     ]
    }
   ],
   "source": [
    "index_name = \"genai-demo-index-v1\"\n",
    "index_exists = opensearch_utils.check_if_index_exists(os_client, index_name)\n",
    "\n",
    "if index_exists:\n",
    "    opensearch_utils.delete_index(os_client, index_name)\n",
    "else:\n",
    "    print(\"Index does not exist\")"
   ]
  },
  {
   "cell_type": "markdown",
   "id": "56ac0292-f3fc-4ef7-a00d-becee90f0dec",
   "metadata": {},
   "source": [
    "## 인덱스 생성"
   ]
  },
  {
   "cell_type": "code",
   "execution_count": 22,
   "id": "40e6a1ae-804d-41f6-8e46-04764a8a5be3",
   "metadata": {
    "tags": []
   },
   "outputs": [],
   "source": [
    "from langchain.vectorstores import OpenSearchVectorSearch"
   ]
  },
  {
   "cell_type": "code",
   "execution_count": 23,
   "id": "591b0e0b-76e2-47c3-a921-b68257fb089f",
   "metadata": {
    "tags": []
   },
   "outputs": [
    {
     "name": "stdout",
     "output_type": "stream",
     "text": [
      "CPU times: user 4.38 s, sys: 140 ms, total: 4.52 s\n",
      "Wall time: 3min 15s\n"
     ]
    }
   ],
   "source": [
    "%%time\n",
    "# by default langchain would create a k-NN index and the embeddings would be ingested as a k-NN vector type\n",
    "docsearch = OpenSearchVectorSearch.from_documents(\n",
    "    index_name=index_name,\n",
    "    documents=docs,\n",
    "    embedding=llm_emb,\n",
    "    opensearch_url=opensearch_domain_endpoint,\n",
    "    http_auth=http_auth,\n",
    "    bulk_size=10000,\n",
    "    timeout=60,\n",
    "    is_aoss =False,\n",
    "    engine=\"faiss\",\n",
    "    space_type=\"l2\"\n",
    ")"
   ]
  },
  {
   "cell_type": "markdown",
   "id": "fae62975-2e46-44e7-97e4-c14c2bfa632f",
   "metadata": {},
   "source": [
    "## 인덱스 확인"
   ]
  },
  {
   "cell_type": "code",
   "execution_count": 24,
   "id": "14827f89-c54b-440d-ab7f-5bb22eefc313",
   "metadata": {
    "tags": []
   },
   "outputs": [
    {
     "name": "stdout",
     "output_type": "stream",
     "text": [
      "{'genai-demo-index-v1': {'aliases': {},\n",
      "                         'mappings': {'properties': {'metadata': {'properties': {'source': {'fields': {'keyword': {'ignore_above': 256,\n",
      "                                                                                                                   'type': 'keyword'}},\n",
      "                                                                                            'type': 'text'},\n",
      "                                                                                 'timestamp': {'type': 'float'},\n",
      "                                                                                 'type': {'fields': {'keyword': {'ignore_above': 256,\n",
      "                                                                                                                 'type': 'keyword'}},\n",
      "                                                                                          'type': 'text'}}},\n",
      "                                                     'text': {'fields': {'keyword': {'ignore_above': 256,\n",
      "                                                                                     'type': 'keyword'}},\n",
      "                                                              'type': 'text'},\n",
      "                                                     'vector_field': {'dimension': 1536,\n",
      "                                                                      'method': {'engine': 'faiss',\n",
      "                                                                                 'name': 'hnsw',\n",
      "                                                                                 'parameters': {'ef_construction': 512,\n",
      "                                                                                                'm': 16},\n",
      "                                                                                 'space_type': 'l2'},\n",
      "                                                                      'type': 'knn_vector'}}},\n",
      "                         'settings': {'index': {'creation_date': '1705042648127',\n",
      "                                                'knn': 'true',\n",
      "                                                'knn.algo_param': {'ef_search': '512'},\n",
      "                                                'number_of_replicas': '2',\n",
      "                                                'number_of_shards': '5',\n",
      "                                                'provided_name': 'genai-demo-index-v1',\n",
      "                                                'replication': {'type': 'DOCUMENT'},\n",
      "                                                'uuid': 'HNowCFHqQX2ZEYQleIWSQQ',\n",
      "                                                'version': {'created': '136327827'}}}}}\n"
     ]
    }
   ],
   "source": [
    "index_info = os_client.indices.get(index=index_name)\n",
    "pprint(index_info)"
   ]
  },
  {
   "cell_type": "markdown",
   "id": "783076d7-61c8-4796-a91f-dac51b0723e1",
   "metadata": {
    "tags": []
   },
   "source": [
    "## 형태소 분석기 사용하기\n",
    "- 영어권의 문자들과 다르게 한글, 일본어, 중국어 등은 단순한 공백만으로는 좋은 검색 결과를 얻기 힘듭니다.\n",
    "- 출시하고라는 단어가 들어간 문서를 출시하고라는 정확히 같은 단어만으로 검색할 수 있다면 답답하겠죠?\n",
    "- 출시하고라는 단어를 출시, 출시하고 등 다양하게 검색하기 위해서는 형태소 분석기가 필요합니다.\n",
    "- OpenSearch 에서는 2개의 한국어 analyer를 제공하고 있습니다.\n",
    "    - 은전한잎 (seunjeon_tokenizer)\n",
    "        - https://catalog.us-east-1.prod.workshops.aws/workshops/de4e38cb-a0d9-4ffe-a777-bf00d498fa49/ko-KR/indexing/stemming#\n",
    "    - Nori (nori_tokenizer)\n",
    "        - 설명: https://esbook.kimjmin.net/06-text-analysis/6.7-stemming/6.7.2-nori\n",
    "    - Sample 코드에서는 \"Nori\"를 기반으로 진행합니다."
   ]
  },
  {
   "cell_type": "markdown",
   "id": "d310c188-f4d4-41dd-ba9e-722dc2490519",
   "metadata": {
    "tags": []
   },
   "source": [
    "### 인덱싱 수정하기 (형태소 분석기 사용 enablement)"
   ]
  },
  {
   "cell_type": "code",
   "execution_count": 25,
   "id": "42bfe74d-7204-4820-b8e8-949820e66c30",
   "metadata": {
    "tags": []
   },
   "outputs": [
    {
     "data": {
      "text/plain": [
       "'genai-demo-index-v1-with-tokenizer'"
      ]
     },
     "execution_count": 25,
     "metadata": {},
     "output_type": "execute_result"
    }
   ],
   "source": [
    "new_index_name = f'{index_name}-with-tokenizer'\n",
    "new_index_name"
   ]
  },
  {
   "cell_type": "markdown",
   "id": "135d0fa2-ff5e-403a-bf62-7a7e20384ab8",
   "metadata": {
    "tags": []
   },
   "source": [
    "### [TIP]\n",
    "- **token filter**\n",
    "    - Amazon OpenSearch Service에서는 나만의 필터를 토크나이저와 함께 구성해서 사용할 수 있습니다. \n",
    "    - nori_tokenizer를 사용하되, 원하는 캐릭터 필터와 토큰 필터 조합을 구성할 수 있습니다.\n",
    "    - 문장이 입력되면 캐릭터 필터(char_filter), 토크나이저(tokenizer), 토큰 필터(filter) 순으로 동작하게 됩니다.\n",
    "    - 입력문장이 \"<b>Start</b> 이천이십삼년 韓國\" 이것일 경우, \n",
    "    - 아래 샘플 코드의 옵션으로 사용한다면 <b>Start</b>의 html 코드가 html_strip에 의해 처리되고, nori_tokenizer로 토큰화됩니다.\n",
    "    - 그 후에 nori_number는 이천이십삼을 2023으로, nori_readingform은 韓國을 한국으로, lowercase는 Start를 start로 처리합니다.\n",
    "    - **토큰필터 참고자료**\n",
    "        - https://esbook.kimjmin.net/06-text-analysis/6.6-token-filter\n",
    "        - https://opensearch.org/docs/latest/analyzers/token-filters/index/\n",
    "    \n",
    "- **discard_punctuation**\n",
    "    - true(기본값), false가 있으며 문장부호 또는 구두점을 어떻게 다룰지에 대한 설정을 할 수 있습니다.\n",
    "- **decompound_mode**\n",
    "    - none, discard(기본값), mixed가 있으며 복합명사를 어떻게 다룰지에 대한 설정을 할 수 있습니다.\n",
    "    - none: 복합명사를 분리하지 않고 하나의 토큰으로 저장합니다.\n",
    "    - discard: 복합명사를 분리하여 토큰으로 저장합니다.\n",
    "    - mixed: 복합명사를 분리하지 않은 토큰과 분리한 토큰을 모두 저장합니다.\n",
    "- **신조어, 업무용어, 상표**\n",
    "     - 노리 토크나이저는 [mecab-ko-dic](https://bitbucket.org/eunjeon/mecab-ko-dic/src/master/) 을 사용하고 있지만 때로는 신조어, 업무 용어, 상표 등을 위한 사용자 사전이 필요할 수 있습니다.\n",
    "     - user_dictionary_rules를 이용해서 사용자 사전을 만들 수 있고, 아래에서 사용자 사전을 적용했을 때와 적용하지 않았을 때를 비교해 볼 수 있습니다.\n",
    "- **동의어, 불용어**\n",
    "    - Amazon OpenSearch Service에서는 Package를 이용하면 사용자사전, 동의어, 불용어를 관리할 수 있습니다. 자세한 사항은 [이곳](https://docs.aws.amazon.com/ko_kr/opensearch-service/latest/developerguide/custom-packages.html)을 참조해 주십시오. \n",
    "    - S3에 사용자 사전을 업로드 후, Package에 등록합니다. 그리고 등록된 텍스트 사전을 원하는 OpenSearch 도메인에 연결합니다.\n",
    "    - 아래와 같이 user_dictionary에 analyzers/<Package ID> 를 이용해서 적용할 수 있습니다. 이 Package ID는 OpenSearch 콘솔 화면에서 업로드한 사전의 상세 페이지에서 확인할 수 있습니다.\n"
   ]
  },
  {
   "cell_type": "code",
   "execution_count": 26,
   "id": "c61bb217-482f-4418-ad62-ff7ecc7b7c46",
   "metadata": {
    "tags": []
   },
   "outputs": [],
   "source": [
    "tokenizer = \"nori\" #[\"nori\", \"seunjeon\"]\n",
    "analyzer_config = {\n",
    "    \"tokenizer\": tokenizer, \n",
    "    \"tokenizer_type\": f'{tokenizer}_tokenizer',\n",
    "    \"char_filter\": [\"html_strip\"],\n",
    "    \"filter\": [\"nori_number\", \"nori_readingform\", \"lowercase\"],\n",
    "    \"decompound_mode\": \"mixed\",\n",
    "    \"discard_punctuation\": \"true\",\n",
    "    \"metadate_type\": \"keyword\"\n",
    "}"
   ]
  },
  {
   "cell_type": "code",
   "execution_count": 27,
   "id": "35fe5d27-0c48-4cd5-904c-dae434174f02",
   "metadata": {
    "tags": []
   },
   "outputs": [],
   "source": [
    "index_info[index_name][\"settings\"][\"analysis\"] = {\n",
    "    \"tokenizer\": {\n",
    "        analyzer_config[\"tokenizer\"]: {\n",
    "            \"type\": analyzer_config[\"tokenizer_type\"],\n",
    "            \"decompound_mode\": analyzer_config[\"decompound_mode\"],\n",
    "            \"discard_punctuation\": analyzer_config[\"discard_punctuation\"],\n",
    "        }\n",
    "    },\n",
    "    \"analyzer\": {\n",
    "        \"my_analyzer\": {\n",
    "            \"type\": \"custom\",\n",
    "            \"tokenizer\": analyzer_config[\"tokenizer\"],\n",
    "            \"char_filter\": analyzer_config[\"char_filter\"],\n",
    "            \"filter\": analyzer_config[\"filter\"],\n",
    "        }\n",
    "    }\n",
    "}\n",
    "\n",
    "# Setting for Columns to be adapted by Tokenizer (tokenizer가 적용될 컬럼에 맞춰서 수정)\n",
    "index_info[index_name][\"mappings\"][\"properties\"][\"text\"][\"analyzer\"] = \"my_analyzer\"\n",
    "index_info[index_name][\"mappings\"][\"properties\"][\"text\"][\"search_analyzer\"] = \"my_analyzer\"\n",
    "\n",
    "# Setting for vector index column (변경 없음)\n",
    "index_info[index_name][\"settings\"][\"index\"] = {\n",
    "    \"number_of_shards\": \"5\",\n",
    "    \"knn.algo_param\": {\"ef_search\": \"512\"},\n",
    "    \"knn\": \"true\",\n",
    "    \"number_of_replicas\": \"2\"\n",
    "}\n",
    "del index_info[index_name][\"aliases\"]\n",
    "del index_info[index_name][\"mappings\"][\"properties\"][\"metadata\"][\"properties\"][\"source\"][\"fields\"]\n",
    "del index_info[index_name][\"mappings\"][\"properties\"][\"metadata\"][\"properties\"][\"type\"][\"fields\"]\n",
    "index_info[index_name][\"mappings\"][\"properties\"][\"metadata\"][\"properties\"][\"source\"][\"type\"] = analyzer_config[\"metadate_type\"]\n",
    "index_info[index_name][\"mappings\"][\"properties\"][\"metadata\"][\"properties\"][\"type\"][\"type\"] = analyzer_config[\"metadate_type\"]\n",
    "\n",
    "new_index_info = index_info[index_name]"
   ]
  },
  {
   "cell_type": "code",
   "execution_count": 28,
   "id": "2c74574e-9147-48c6-bdc0-820e0e1261ab",
   "metadata": {
    "tags": []
   },
   "outputs": [
    {
     "name": "stdout",
     "output_type": "stream",
     "text": [
      "{'mappings': {'properties': {'metadata': {'properties': {'source': {'type': 'keyword'},\n",
      "                                                         'timestamp': {'type': 'float'},\n",
      "                                                         'type': {'type': 'keyword'}}},\n",
      "                             'text': {'analyzer': 'my_analyzer',\n",
      "                                      'fields': {'keyword': {'ignore_above': 256,\n",
      "                                                             'type': 'keyword'}},\n",
      "                                      'search_analyzer': 'my_analyzer',\n",
      "                                      'type': 'text'},\n",
      "                             'vector_field': {'dimension': 1536,\n",
      "                                              'method': {'engine': 'faiss',\n",
      "                                                         'name': 'hnsw',\n",
      "                                                         'parameters': {'ef_construction': 512,\n",
      "                                                                        'm': 16},\n",
      "                                                         'space_type': 'l2'},\n",
      "                                              'type': 'knn_vector'}}},\n",
      " 'settings': {'analysis': {'analyzer': {'my_analyzer': {'char_filter': ['html_strip'],\n",
      "                                                        'filter': ['nori_number',\n",
      "                                                                   'nori_readingform',\n",
      "                                                                   'lowercase'],\n",
      "                                                        'tokenizer': 'nori',\n",
      "                                                        'type': 'custom'}},\n",
      "                           'tokenizer': {'nori': {'decompound_mode': 'mixed',\n",
      "                                                  'discard_punctuation': 'true',\n",
      "                                                  'type': 'nori_tokenizer'}}},\n",
      "              'index': {'knn': 'true',\n",
      "                        'knn.algo_param': {'ef_search': '512'},\n",
      "                        'number_of_replicas': '2',\n",
      "                        'number_of_shards': '5'}}}\n"
     ]
    }
   ],
   "source": [
    "pprint(new_index_info)"
   ]
  },
  {
   "cell_type": "markdown",
   "id": "23fa8849-7144-4579-861f-b9429e11e58f",
   "metadata": {},
   "source": [
    "### 형태소 분석기용 인덱서 생성"
   ]
  },
  {
   "cell_type": "code",
   "execution_count": 29,
   "id": "ea44de00-83b4-4af0-9347-ca1a992fc7e0",
   "metadata": {
    "tags": []
   },
   "outputs": [
    {
     "name": "stdout",
     "output_type": "stream",
     "text": [
      "index_name=genai-demo-index-v1-with-tokenizer, exists=False\n",
      "Index does not exist\n"
     ]
    }
   ],
   "source": [
    "index_exists = opensearch_utils.check_if_index_exists(os_client, new_index_name)\n",
    "if index_exists:\n",
    "    opensearch_utils.delete_index(os_client, new_index_name)\n",
    "else:\n",
    "    print(\"Index does not exist\")"
   ]
  },
  {
   "cell_type": "code",
   "execution_count": 30,
   "id": "f9004d5d-9400-4822-9769-7405a79fd94e",
   "metadata": {
    "tags": []
   },
   "outputs": [
    {
     "name": "stdout",
     "output_type": "stream",
     "text": [
      "\n",
      "Creating index:\n",
      "{'acknowledged': True, 'shards_acknowledged': True, 'index': 'genai-demo-index-v1-with-tokenizer'}\n"
     ]
    }
   ],
   "source": [
    "opensearch_utils.create_index(\n",
    "    os_client,\n",
    "    index_name=new_index_name,\n",
    "    index_body=new_index_info\n",
    ")"
   ]
  },
  {
   "cell_type": "markdown",
   "id": "9b47462d-ccce-47bc-b23d-b86f31f699dc",
   "metadata": {
    "tags": []
   },
   "source": [
    "### Re-indexing"
   ]
  },
  {
   "cell_type": "code",
   "execution_count": 31,
   "id": "70f114e7-47ea-4f54-9dc9-c4ea6e088ecc",
   "metadata": {
    "tags": []
   },
   "outputs": [
    {
     "name": "stdout",
     "output_type": "stream",
     "text": [
      "_reindex: \n",
      " {'source': {'index': 'genai-demo-index-v1'}, 'dest': {'index': 'genai-demo-index-v1-with-tokenizer'}}\n"
     ]
    }
   ],
   "source": [
    "_reindex = {\n",
    "    \"source\": {\"index\": index_name},\n",
    "    \"dest\": {\"index\": new_index_name}\n",
    "}\n",
    "print(\"_reindex: \\n\", _reindex)"
   ]
  },
  {
   "cell_type": "code",
   "execution_count": 32,
   "id": "8556a152-aff2-47ce-b00d-62afd9935baa",
   "metadata": {
    "tags": []
   },
   "outputs": [
    {
     "name": "stdout",
     "output_type": "stream",
     "text": [
      "Stored 'new_index_name' (str)\n"
     ]
    }
   ],
   "source": [
    "%store new_index_name"
   ]
  },
  {
   "cell_type": "code",
   "execution_count": 33,
   "id": "aafa1768-b98c-45bf-8063-92e9c3aa1681",
   "metadata": {
    "tags": []
   },
   "outputs": [
    {
     "data": {
      "text/plain": [
       "{'took': 8764,\n",
       " 'timed_out': False,\n",
       " 'total': 1386,\n",
       " 'updated': 0,\n",
       " 'created': 1386,\n",
       " 'deleted': 0,\n",
       " 'batches': 2,\n",
       " 'version_conflicts': 0,\n",
       " 'noops': 0,\n",
       " 'retries': {'bulk': 0, 'search': 0},\n",
       " 'throttled_millis': 0,\n",
       " 'requests_per_second': -1.0,\n",
       " 'throttled_until_millis': 0,\n",
       " 'failures': []}"
      ]
     },
     "execution_count": 33,
     "metadata": {},
     "output_type": "execute_result"
    }
   ],
   "source": [
    "os_client.reindex(_reindex)"
   ]
  },
  {
   "cell_type": "markdown",
   "id": "ed402bb8-497d-4da6-8a1b-02de77133251",
   "metadata": {},
   "source": [
    "# 6. 키워드 검색"
   ]
  },
  {
   "cell_type": "markdown",
   "id": "a7b559de-eb37-4286-8609-bdfe8ec08cdd",
   "metadata": {
    "tags": []
   },
   "source": [
    "### 'Text\" 에 \"약관, 뱅킹\" 단어를 검색합니다."
   ]
  },
  {
   "cell_type": "markdown",
   "id": "fd1cfb29-137c-4350-bb1e-99424221a5c7",
   "metadata": {},
   "source": [
    "* without tokenizer (index_name)"
   ]
  },
  {
   "cell_type": "code",
   "execution_count": 34,
   "id": "87964e9a-b4e0-45a9-98ce-7b54e6276239",
   "metadata": {
    "tags": []
   },
   "outputs": [
    {
     "name": "stdout",
     "output_type": "stream",
     "text": [
      "query:  {'query': {'bool': {'must': [{'match': {'text': {'query': '계약 전 알릴 의무는 무엇인가요', 'minimum_should_match': '0%', 'operator': 'or'}}}], 'filter': []}}}\n",
      "# of searched docs:  10\n",
      "# of display: 3\n",
      "---------------------\n",
      "_id in index:  74732e1b-efcc-4a3c-8447-e43da77b7659\n",
      "28.521563\n",
      "(2) 해약환급금 미보증형\n",
      "계약의 계약에서 쓰이는\n",
      "제2조(용어의 정의)\n",
      "체결 용어를 알고 싶어요\n",
      "제14조(계약 전 알릴 의무)\n",
      "계약 전 알릴 의무는 무엇인가요\n",
      "제15조(계약 전 알릴 의무 위반의 효과)\n",
      "제25조(제1회 보험료 및 회사의\n",
      "보장이 언제 시작되나요\n",
      "보장개시)\n",
      "청약을 철회하고 싶어요 제18조(청약의 철회)\n",
      "계약을 취소 할 수 있나요 제19조(약관교부 및 설명의무 등)\n",
      "계약이 무효가 될 수 있나요 제20조(계약의 무효)\n",
      "보험료의 보험료 납입면제\n",
      "제5조(보험금 지급에 관한 세부규정)\n",
      "납입 사유를 알고 싶어요\n",
      "보험료 납입최고(독촉)이 제28조(보험료의 납입이 연체되는 경우\n",
      "무엇인가요 납입최고(독촉)와 계약의 해지)\n",
      "제29조(보험료의 납입연체로 인하여\n",
      "해지된 계약을 살리고 싶어요\n",
      "해지된 계약의 부활(효력회복))\n",
      "보험금의 제4조(보험금의 지급사유),\n",
      "보험금을 받을 수 있는지 궁금해요\n",
      "지급 제6조(보험금을 지급하지 않는 사유)\n",
      "제8조(보험금의 청구),\n",
      "보험금은 언제 지급되나요\n",
      "제9조(보험금의 지급절차)\n",
      "11\u0000/\u0000249\n",
      "{'source': '한화생명 The스마트한 일시납종신보험_20240101~.pdf', 'type': '일시납종신보험_20240101~', 'timestamp': 1705041696.807892}\n",
      "---------------------\n",
      "_id in index:  5f93cb71-a9a1-4ed5-842b-ac7d412cda2c\n",
      "25.449745\n",
      "4. 상황별 목차 안내\n",
      "(1) 해약환급금 보증형\n",
      "계약의 계약에서 쓰이는\n",
      "제2조(용어의정의)\n",
      "체결 용어를 알고 싶어요\n",
      "제14조(계약 전 알릴 의무)\n",
      "계약 전 알릴 의무는 무엇인가요\n",
      "제15조(계약 전 알릴 의무 위반의 효과)\n",
      "보장이 언제 시작되나요 제25조(제1회 보험료 및 회사의 보장개시)\n",
      "청약을 철회하고 싶어요 제18조(청약의 철회)\n",
      "계약을 취소 할 수 있나요 제19조(약관교부 및 설명의무 등)\n",
      "계약이 무효가 될 수 있나요 제20조(계약의 무효)\n",
      "보험료의 보험료 납입면제\n",
      "제5조(보험금 지급에 관한 세부규정)\n",
      "납입 사유를 알고 싶어요\n",
      "보험료 납입최고(독촉)이 제28조(보험료의 납입이 연체되는 경우\n",
      "무엇인가요 납입최고(독촉)와 계약의 해지)\n",
      "제29조(보험료의 납입연체로 인하여\n",
      "해지된 계약을 살리고 싶어요\n",
      "해지된 계약의 부활(효력회복))\n",
      "보험금의 제4조(보험금의 지급사유),\n",
      "보험금을 받을 수 있는지 궁금해요\n",
      "지급 제6조(보험금을 지급하지 않는 사유)\n",
      "제8조(보험금의 청구),\n",
      "보험금은 언제 지급되나요\n",
      "제9조(보험금의 지급절차)\n",
      "9\u0000/\u0000249\n",
      "{'source': '한화생명 The스마트한 일시납종신보험_20240101~.pdf', 'type': '일시납종신보험_20240101~', 'timestamp': 1705041696.6058886}\n",
      "---------------------\n",
      "_id in index:  20918d64-7b43-4476-a112-6980043bbe9a\n",
      "25.449745\n",
      "4. 상황별 목차 안내\n",
      "계약의 계약에서 쓰이는\n",
      "제2조(용어의 정의)\n",
      "체결 용어를 알고 싶어요\n",
      "제14조(계약 전 알릴 의무)\n",
      "계약 전 알릴 의무는 무엇인가요\n",
      "제15조(계약 전 알릴 의무 위반의 효과)\n",
      "보장이 언제 시작되나요 제24조(제1회 보험료 및 회사의 보장개시)\n",
      "청약을 철회하고 싶어요 제18조(청약의 철회)\n",
      "계약을 취소 할 수 있나요 제19조(약관교부 및 설명의무 등)\n",
      "계약이 무효가 될 수 있나요 제20조(계약의 무효)\n",
      "보험료의 보험료 납입면제\n",
      "제6조(보험금 지급에 관한 세부규정)\n",
      "납입 사유를 알고 싶어요\n",
      "보험료 납입최고(독촉)이 제27조(보험료의 납입이 연체되는 경우\n",
      "무엇인가요 납입최고(독촉)와 계약의 해지)\n",
      "제28조(보험료의 납입연체로 인하여\n",
      "해지된 계약을 살리고 싶어요\n",
      "해지된 계약의 부활(효력회복))\n",
      "보험금의 제5조(보험금의 지급사유),\n",
      "보험금을 받을 수 있는지 궁금해요\n",
      "지급 제7조(보험금을 지급하지 않는 사유)\n",
      "제9조(보험금 등의 청구),\n",
      "보험금은 언제 지급되나요\n",
      "제10조(보험금 등의 지급절차)\n",
      "8\u0000/\u0000462\n",
      "{'source': '한화생명 The실속있는 간병치매보험_20240101~.pdf', 'type': '간병치매보험_20240101~', 'timestamp': 1705041884.7105389}\n",
      "---------------------\n"
     ]
    }
   ],
   "source": [
    "query = \"계약 전 알릴 의무는 무엇인가요\"\n",
    "query = opensearch_utils.get_query(\n",
    "    query=query\n",
    ")\n",
    "\n",
    "print(\"query: \", query)\n",
    "response = opensearch_utils.search_document(os_client, query, index_name)\n",
    "opensearch_utils.parse_keyword_response(response, show_size=3)"
   ]
  },
  {
   "cell_type": "markdown",
   "id": "45407fab-031e-44c2-8758-bd6d5f6074a9",
   "metadata": {
    "tags": []
   },
   "source": [
    "* with tokenizer (new_index_name)"
   ]
  },
  {
   "cell_type": "code",
   "execution_count": 35,
   "id": "66ea8613-e2a9-4b25-adf9-bbde630b1801",
   "metadata": {
    "tags": []
   },
   "outputs": [
    {
     "name": "stdout",
     "output_type": "stream",
     "text": [
      "query:  {'query': {'bool': {'must': [{'match': {'text': {'query': \"{'query': {'bool': {'must': [{'match': {'text': {'query': '계약 전 알릴 의무는 무엇인가요', 'minimum_should_match': '0%', 'operator': 'or'}}}], 'filter': []}}}\", 'minimum_should_match': '0%', 'operator': 'or'}}}], 'filter': []}}}\n",
      "# of searched docs:  10\n",
      "# of display: 3\n",
      "---------------------\n",
      "_id in index:  74732e1b-efcc-4a3c-8447-e43da77b7659\n",
      "33.337044\n",
      "(2) 해약환급금 미보증형\n",
      "계약의 계약에서 쓰이는\n",
      "제2조(용어의 정의)\n",
      "체결 용어를 알고 싶어요\n",
      "제14조(계약 전 알릴 의무)\n",
      "계약 전 알릴 의무는 무엇인가요\n",
      "제15조(계약 전 알릴 의무 위반의 효과)\n",
      "제25조(제1회 보험료 및 회사의\n",
      "보장이 언제 시작되나요\n",
      "보장개시)\n",
      "청약을 철회하고 싶어요 제18조(청약의 철회)\n",
      "계약을 취소 할 수 있나요 제19조(약관교부 및 설명의무 등)\n",
      "계약이 무효가 될 수 있나요 제20조(계약의 무효)\n",
      "보험료의 보험료 납입면제\n",
      "제5조(보험금 지급에 관한 세부규정)\n",
      "납입 사유를 알고 싶어요\n",
      "보험료 납입최고(독촉)이 제28조(보험료의 납입이 연체되는 경우\n",
      "무엇인가요 납입최고(독촉)와 계약의 해지)\n",
      "제29조(보험료의 납입연체로 인하여\n",
      "해지된 계약을 살리고 싶어요\n",
      "해지된 계약의 부활(효력회복))\n",
      "보험금의 제4조(보험금의 지급사유),\n",
      "보험금을 받을 수 있는지 궁금해요\n",
      "지급 제6조(보험금을 지급하지 않는 사유)\n",
      "제8조(보험금의 청구),\n",
      "보험금은 언제 지급되나요\n",
      "제9조(보험금의 지급절차)\n",
      "11\u0000/\u0000249\n",
      "{'source': '한화생명 The스마트한 일시납종신보험_20240101~.pdf', 'type': '일시납종신보험_20240101~', 'timestamp': 1705041696.807892}\n",
      "---------------------\n",
      "_id in index:  20918d64-7b43-4476-a112-6980043bbe9a\n",
      "30.494322\n",
      "4. 상황별 목차 안내\n",
      "계약의 계약에서 쓰이는\n",
      "제2조(용어의 정의)\n",
      "체결 용어를 알고 싶어요\n",
      "제14조(계약 전 알릴 의무)\n",
      "계약 전 알릴 의무는 무엇인가요\n",
      "제15조(계약 전 알릴 의무 위반의 효과)\n",
      "보장이 언제 시작되나요 제24조(제1회 보험료 및 회사의 보장개시)\n",
      "청약을 철회하고 싶어요 제18조(청약의 철회)\n",
      "계약을 취소 할 수 있나요 제19조(약관교부 및 설명의무 등)\n",
      "계약이 무효가 될 수 있나요 제20조(계약의 무효)\n",
      "보험료의 보험료 납입면제\n",
      "제6조(보험금 지급에 관한 세부규정)\n",
      "납입 사유를 알고 싶어요\n",
      "보험료 납입최고(독촉)이 제27조(보험료의 납입이 연체되는 경우\n",
      "무엇인가요 납입최고(독촉)와 계약의 해지)\n",
      "제28조(보험료의 납입연체로 인하여\n",
      "해지된 계약을 살리고 싶어요\n",
      "해지된 계약의 부활(효력회복))\n",
      "보험금의 제5조(보험금의 지급사유),\n",
      "보험금을 받을 수 있는지 궁금해요\n",
      "지급 제7조(보험금을 지급하지 않는 사유)\n",
      "제9조(보험금 등의 청구),\n",
      "보험금은 언제 지급되나요\n",
      "제10조(보험금 등의 지급절차)\n",
      "8\u0000/\u0000462\n",
      "{'source': '한화생명 The실속있는 간병치매보험_20240101~.pdf', 'type': '간병치매보험_20240101~', 'timestamp': 1705041884.7105389}\n",
      "---------------------\n",
      "_id in index:  5f93cb71-a9a1-4ed5-842b-ac7d412cda2c\n",
      "30.254818\n",
      "4. 상황별 목차 안내\n",
      "(1) 해약환급금 보증형\n",
      "계약의 계약에서 쓰이는\n",
      "제2조(용어의정의)\n",
      "체결 용어를 알고 싶어요\n",
      "제14조(계약 전 알릴 의무)\n",
      "계약 전 알릴 의무는 무엇인가요\n",
      "제15조(계약 전 알릴 의무 위반의 효과)\n",
      "보장이 언제 시작되나요 제25조(제1회 보험료 및 회사의 보장개시)\n",
      "청약을 철회하고 싶어요 제18조(청약의 철회)\n",
      "계약을 취소 할 수 있나요 제19조(약관교부 및 설명의무 등)\n",
      "계약이 무효가 될 수 있나요 제20조(계약의 무효)\n",
      "보험료의 보험료 납입면제\n",
      "제5조(보험금 지급에 관한 세부규정)\n",
      "납입 사유를 알고 싶어요\n",
      "보험료 납입최고(독촉)이 제28조(보험료의 납입이 연체되는 경우\n",
      "무엇인가요 납입최고(독촉)와 계약의 해지)\n",
      "제29조(보험료의 납입연체로 인하여\n",
      "해지된 계약을 살리고 싶어요\n",
      "해지된 계약의 부활(효력회복))\n",
      "보험금의 제4조(보험금의 지급사유),\n",
      "보험금을 받을 수 있는지 궁금해요\n",
      "지급 제6조(보험금을 지급하지 않는 사유)\n",
      "제8조(보험금의 청구),\n",
      "보험금은 언제 지급되나요\n",
      "제9조(보험금의 지급절차)\n",
      "9\u0000/\u0000249\n",
      "{'source': '한화생명 The스마트한 일시납종신보험_20240101~.pdf', 'type': '일시납종신보험_20240101~', 'timestamp': 1705041696.6058886}\n",
      "---------------------\n"
     ]
    }
   ],
   "source": [
    "# query = \"보험금을 지급하지 않는 재해\"\n",
    "query = opensearch_utils.get_query(\n",
    "    query=query\n",
    ")\n",
    "\n",
    "print(\"query: \", query)\n",
    "response = opensearch_utils.search_document(os_client, query, new_index_name)\n",
    "opensearch_utils.parse_keyword_response(response, show_size=3)"
   ]
  },
  {
   "cell_type": "markdown",
   "id": "672ac896-637d-4ca5-bf69-b5750aafdfda",
   "metadata": {
    "tags": []
   },
   "source": [
    "## 형태소 분석 결과 확인\n",
    "\"약관\" 또는 \"뱅킹\" 확인 <BR>\n",
    "#### [중요]:  doc_id: 위의 문서 인덱스 정보 확인 후 수정"
   ]
  },
  {
   "cell_type": "code",
   "execution_count": 36,
   "id": "57b6455e-ed40-461d-bfb2-71a4f6027525",
   "metadata": {
    "tags": []
   },
   "outputs": [],
   "source": [
    "doc_id = \"b21bf2f2-4e8e-43da-8728-f52b1bbc5bb9\"\n",
    "#doc_id = \"29b3a9bf-7edf-4893-9791-d5c05f5f20b5\" "
   ]
  },
  {
   "cell_type": "markdown",
   "id": "2085afd4-849e-4a32-8913-a9f4390bcf62",
   "metadata": {
    "tags": []
   },
   "source": [
    "* without tokenizer"
   ]
  },
  {
   "cell_type": "code",
   "execution_count": 37,
   "id": "63d7832a-be76-447c-869f-d22a451e8aa0",
   "metadata": {
    "scrolled": true,
    "tags": []
   },
   "outputs": [
    {
     "data": {
      "text/plain": [
       "{'_index': 'genai-demo-index-v1',\n",
       " '_id': 'b21bf2f2-4e8e-43da-8728-f52b1bbc5bb9',\n",
       " '_version': 0,\n",
       " 'found': False,\n",
       " 'took': 1}"
      ]
     },
     "execution_count": 37,
     "metadata": {},
     "output_type": "execute_result"
    }
   ],
   "source": [
    "os_client.termvectors(index=index_name, id=doc_id, fields='text')"
   ]
  },
  {
   "cell_type": "markdown",
   "id": "d37ede8b-c80c-417b-bd7a-cd9fb6774210",
   "metadata": {
    "tags": []
   },
   "source": [
    "* with tokenizer"
   ]
  },
  {
   "cell_type": "code",
   "execution_count": 38,
   "id": "fcebfd6b-a750-4a56-8f8c-10403389ac66",
   "metadata": {
    "scrolled": true,
    "tags": []
   },
   "outputs": [
    {
     "data": {
      "text/plain": [
       "{'_index': 'genai-demo-index-v1-with-tokenizer',\n",
       " '_id': 'b21bf2f2-4e8e-43da-8728-f52b1bbc5bb9',\n",
       " '_version': 0,\n",
       " 'found': False,\n",
       " 'took': 0}"
      ]
     },
     "execution_count": 38,
     "metadata": {},
     "output_type": "execute_result"
    }
   ],
   "source": [
    "os_client.termvectors(index=new_index_name, id=doc_id, fields='text')"
   ]
  },
  {
   "cell_type": "markdown",
   "id": "897a3428-2aae-48a8-9484-940c9ce92b55",
   "metadata": {},
   "source": [
    "## Minimum_should_match 활용\n",
    "- An optional parameter of type string that represents the minimum number of matching clauses for a document to be returned. This should only be used with “OR” operator, and is more flexible than a simple “and/or,” since users can set rules depending on the length of the phrase to be matched. \n",
    "    - **query에 있는 단어의 n%이상 존재하는 문서만 가져온다**\n",
    "    - 75% (eg. 3 out of 4 words to be matched, or 6 out of 8)\n",
    "    - 2  (minimum 2 words to be matched, irrespective of length of string)"
   ]
  },
  {
   "cell_type": "markdown",
   "id": "03126278-080c-489c-bd7e-b0520becc5eb",
   "metadata": {},
   "source": [
    "min_shoud_match를 25, 75, 100 으로 변경해 보자\n",
    " - 숫자가 작아질 수록 검색 문서가 많아진다\n",
    " - 추가정보는 아래를 참고\n",
    "     - [OpenSearch Match, Multi-Match, and Match Phrase Queries](https://opster.com/guides/opensearch/opensearch-search-apis/opensearch-match-multi-match-and-match-phrase-queries/)\n",
    "     - OpenSearch Query 에서 Filter, Must, Should, Not Mush 에 대한 설명 입니다.\n",
    "         - [OpenSearch Boolean Queries](https://opster.com/guides/opensearch/opensearch-search-apis/opensearch-boolean-queries/#:~:text=Boolean%20queries%20are%20used%20to,as%20terms%2C%20match%20and%20query_string.)"
   ]
  },
  {
   "cell_type": "markdown",
   "id": "9fb2a3f3-ab24-4c44-b3ac-9f744e732101",
   "metadata": {},
   "source": [
    "##### minimum_should_match=25"
   ]
  },
  {
   "cell_type": "code",
   "execution_count": 39,
   "id": "382a4553-c18b-4812-941b-ef2b9075cfa6",
   "metadata": {
    "tags": []
   },
   "outputs": [
    {
     "name": "stdout",
     "output_type": "stream",
     "text": [
      "query:  {'query': {'bool': {'must': [{'match': {'text': {'query': '{\\'query\\': {\\'bool\\': {\\'must\\': [{\\'match\\': {\\'text\\': {\\'query\\': \"{\\'query\\': {\\'bool\\': {\\'must\\': [{\\'match\\': {\\'text\\': {\\'query\\': \\'계약 전 알릴 의무는 무엇인가요\\', \\'minimum_should_match\\': \\'0%\\', \\'operator\\': \\'or\\'}}}], \\'filter\\': []}}}\", \\'minimum_should_match\\': \\'0%\\', \\'operator\\': \\'or\\'}}}], \\'filter\\': []}}}', 'minimum_should_match': '25%', 'operator': 'or'}}}], 'filter': []}}}\n",
      "# of searched docs:  10\n",
      "# of display: 3\n",
      "---------------------\n",
      "_id in index:  74732e1b-efcc-4a3c-8447-e43da77b7659\n",
      "33.337044\n",
      "(2) 해약환급금 미보증형\n",
      "계약의 계약에서 쓰이는\n",
      "제2조(용어의 정의)\n",
      "체결 용어를 알고 싶어요\n",
      "제14조(계약 전 알릴 의무)\n",
      "계약 전 알릴 의무는 무엇인가요\n",
      "제15조(계약 전 알릴 의무 위반의 효과)\n",
      "제25조(제1회 보험료 및 회사의\n",
      "보장이 언제 시작되나요\n",
      "보장개시)\n",
      "청약을 철회하고 싶어요 제18조(청약의 철회)\n",
      "계약을 취소 할 수 있나요 제19조(약관교부 및 설명의무 등)\n",
      "계약이 무효가 될 수 있나요 제20조(계약의 무효)\n",
      "보험료의 보험료 납입면제\n",
      "제5조(보험금 지급에 관한 세부규정)\n",
      "납입 사유를 알고 싶어요\n",
      "보험료 납입최고(독촉)이 제28조(보험료의 납입이 연체되는 경우\n",
      "무엇인가요 납입최고(독촉)와 계약의 해지)\n",
      "제29조(보험료의 납입연체로 인하여\n",
      "해지된 계약을 살리고 싶어요\n",
      "해지된 계약의 부활(효력회복))\n",
      "보험금의 제4조(보험금의 지급사유),\n",
      "보험금을 받을 수 있는지 궁금해요\n",
      "지급 제6조(보험금을 지급하지 않는 사유)\n",
      "제8조(보험금의 청구),\n",
      "보험금은 언제 지급되나요\n",
      "제9조(보험금의 지급절차)\n",
      "11\u0000/\u0000249\n",
      "{'source': '한화생명 The스마트한 일시납종신보험_20240101~.pdf', 'type': '일시납종신보험_20240101~', 'timestamp': 1705041696.807892}\n",
      "---------------------\n",
      "_id in index:  20918d64-7b43-4476-a112-6980043bbe9a\n",
      "30.494324\n",
      "4. 상황별 목차 안내\n",
      "계약의 계약에서 쓰이는\n",
      "제2조(용어의 정의)\n",
      "체결 용어를 알고 싶어요\n",
      "제14조(계약 전 알릴 의무)\n",
      "계약 전 알릴 의무는 무엇인가요\n",
      "제15조(계약 전 알릴 의무 위반의 효과)\n",
      "보장이 언제 시작되나요 제24조(제1회 보험료 및 회사의 보장개시)\n",
      "청약을 철회하고 싶어요 제18조(청약의 철회)\n",
      "계약을 취소 할 수 있나요 제19조(약관교부 및 설명의무 등)\n",
      "계약이 무효가 될 수 있나요 제20조(계약의 무효)\n",
      "보험료의 보험료 납입면제\n",
      "제6조(보험금 지급에 관한 세부규정)\n",
      "납입 사유를 알고 싶어요\n",
      "보험료 납입최고(독촉)이 제27조(보험료의 납입이 연체되는 경우\n",
      "무엇인가요 납입최고(독촉)와 계약의 해지)\n",
      "제28조(보험료의 납입연체로 인하여\n",
      "해지된 계약을 살리고 싶어요\n",
      "해지된 계약의 부활(효력회복))\n",
      "보험금의 제5조(보험금의 지급사유),\n",
      "보험금을 받을 수 있는지 궁금해요\n",
      "지급 제7조(보험금을 지급하지 않는 사유)\n",
      "제9조(보험금 등의 청구),\n",
      "보험금은 언제 지급되나요\n",
      "제10조(보험금 등의 지급절차)\n",
      "8\u0000/\u0000462\n",
      "{'source': '한화생명 The실속있는 간병치매보험_20240101~.pdf', 'type': '간병치매보험_20240101~', 'timestamp': 1705041884.7105389}\n",
      "---------------------\n",
      "_id in index:  5f93cb71-a9a1-4ed5-842b-ac7d412cda2c\n",
      "30.254818\n",
      "4. 상황별 목차 안내\n",
      "(1) 해약환급금 보증형\n",
      "계약의 계약에서 쓰이는\n",
      "제2조(용어의정의)\n",
      "체결 용어를 알고 싶어요\n",
      "제14조(계약 전 알릴 의무)\n",
      "계약 전 알릴 의무는 무엇인가요\n",
      "제15조(계약 전 알릴 의무 위반의 효과)\n",
      "보장이 언제 시작되나요 제25조(제1회 보험료 및 회사의 보장개시)\n",
      "청약을 철회하고 싶어요 제18조(청약의 철회)\n",
      "계약을 취소 할 수 있나요 제19조(약관교부 및 설명의무 등)\n",
      "계약이 무효가 될 수 있나요 제20조(계약의 무효)\n",
      "보험료의 보험료 납입면제\n",
      "제5조(보험금 지급에 관한 세부규정)\n",
      "납입 사유를 알고 싶어요\n",
      "보험료 납입최고(독촉)이 제28조(보험료의 납입이 연체되는 경우\n",
      "무엇인가요 납입최고(독촉)와 계약의 해지)\n",
      "제29조(보험료의 납입연체로 인하여\n",
      "해지된 계약을 살리고 싶어요\n",
      "해지된 계약의 부활(효력회복))\n",
      "보험금의 제4조(보험금의 지급사유),\n",
      "보험금을 받을 수 있는지 궁금해요\n",
      "지급 제6조(보험금을 지급하지 않는 사유)\n",
      "제8조(보험금의 청구),\n",
      "보험금은 언제 지급되나요\n",
      "제9조(보험금의 지급절차)\n",
      "9\u0000/\u0000249\n",
      "{'source': '한화생명 The스마트한 일시납종신보험_20240101~.pdf', 'type': '일시납종신보험_20240101~', 'timestamp': 1705041696.6058886}\n",
      "---------------------\n"
     ]
    }
   ],
   "source": [
    "# query = \"인터넷 뱅킹으로 예적금 해약\"\n",
    "query = opensearch_utils.get_query(\n",
    "    query=query,\n",
    "    minimum_should_match=25\n",
    ")\n",
    "\n",
    "print(\"query: \", query)\n",
    "response = opensearch_utils.search_document(os_client, query, new_index_name)\n",
    "opensearch_utils.parse_keyword_response(response, show_size=3)"
   ]
  },
  {
   "cell_type": "markdown",
   "id": "4bb5a050-e322-4299-8868-cc20f90a2ac9",
   "metadata": {},
   "source": [
    "##### minimum_should_match=75"
   ]
  },
  {
   "cell_type": "code",
   "execution_count": 40,
   "id": "d0c01d4b-bfb2-4299-b09d-6eb426a11af0",
   "metadata": {
    "tags": []
   },
   "outputs": [
    {
     "name": "stdout",
     "output_type": "stream",
     "text": [
      "query:  {'query': {'bool': {'must': [{'match': {'text': {'query': '{\\'query\\': {\\'bool\\': {\\'must\\': [{\\'match\\': {\\'text\\': {\\'query\\': \\'{\\\\\\'query\\\\\\': {\\\\\\'bool\\\\\\': {\\\\\\'must\\\\\\': [{\\\\\\'match\\\\\\': {\\\\\\'text\\\\\\': {\\\\\\'query\\\\\\': \"{\\\\\\'query\\\\\\': {\\\\\\'bool\\\\\\': {\\\\\\'must\\\\\\': [{\\\\\\'match\\\\\\': {\\\\\\'text\\\\\\': {\\\\\\'query\\\\\\': \\\\\\'계약 전 알릴 의무는 무엇인가요\\\\\\', \\\\\\'minimum_should_match\\\\\\': \\\\\\'0%\\\\\\', \\\\\\'operator\\\\\\': \\\\\\'or\\\\\\'}}}], \\\\\\'filter\\\\\\': []}}}\", \\\\\\'minimum_should_match\\\\\\': \\\\\\'0%\\\\\\', \\\\\\'operator\\\\\\': \\\\\\'or\\\\\\'}}}], \\\\\\'filter\\\\\\': []}}}\\', \\'minimum_should_match\\': \\'25%\\', \\'operator\\': \\'or\\'}}}], \\'filter\\': []}}}', 'minimum_should_match': '75%', 'operator': 'or'}}}], 'filter': []}}}\n",
      "There is no response\n"
     ]
    }
   ],
   "source": [
    "# query = \"인터넷 뱅킹으로 예적금 해약\"\n",
    "query = opensearch_utils.get_query(\n",
    "    query=query,\n",
    "    minimum_should_match=75\n",
    ")\n",
    "\n",
    "print(\"query: \", query)\n",
    "response = opensearch_utils.search_document(os_client, query, new_index_name)\n",
    "opensearch_utils.parse_keyword_response(response, show_size=3)"
   ]
  },
  {
   "cell_type": "markdown",
   "id": "63a7a41c-8b6d-46d4-bba7-c73e6540032f",
   "metadata": {
    "tags": []
   },
   "source": [
    "##### minimum_should_match=100"
   ]
  },
  {
   "cell_type": "code",
   "execution_count": 41,
   "id": "0b3eaf3d-1636-447d-9e0a-9674370f85a2",
   "metadata": {
    "tags": []
   },
   "outputs": [
    {
     "name": "stdout",
     "output_type": "stream",
     "text": [
      "query:  {'query': {'bool': {'must': [{'match': {'text': {'query': '{\\'query\\': {\\'bool\\': {\\'must\\': [{\\'match\\': {\\'text\\': {\\'query\\': \\'{\\\\\\'query\\\\\\': {\\\\\\'bool\\\\\\': {\\\\\\'must\\\\\\': [{\\\\\\'match\\\\\\': {\\\\\\'text\\\\\\': {\\\\\\'query\\\\\\': \\\\\\'{\\\\\\\\\\\\\\'query\\\\\\\\\\\\\\': {\\\\\\\\\\\\\\'bool\\\\\\\\\\\\\\': {\\\\\\\\\\\\\\'must\\\\\\\\\\\\\\': [{\\\\\\\\\\\\\\'match\\\\\\\\\\\\\\': {\\\\\\\\\\\\\\'text\\\\\\\\\\\\\\': {\\\\\\\\\\\\\\'query\\\\\\\\\\\\\\': \"{\\\\\\\\\\\\\\'query\\\\\\\\\\\\\\': {\\\\\\\\\\\\\\'bool\\\\\\\\\\\\\\': {\\\\\\\\\\\\\\'must\\\\\\\\\\\\\\': [{\\\\\\\\\\\\\\'match\\\\\\\\\\\\\\': {\\\\\\\\\\\\\\'text\\\\\\\\\\\\\\': {\\\\\\\\\\\\\\'query\\\\\\\\\\\\\\': \\\\\\\\\\\\\\'계약 전 알릴 의무는 무엇인가요\\\\\\\\\\\\\\', \\\\\\\\\\\\\\'minimum_should_match\\\\\\\\\\\\\\': \\\\\\\\\\\\\\'0%\\\\\\\\\\\\\\', \\\\\\\\\\\\\\'operator\\\\\\\\\\\\\\': \\\\\\\\\\\\\\'or\\\\\\\\\\\\\\'}}}], \\\\\\\\\\\\\\'filter\\\\\\\\\\\\\\': []}}}\", \\\\\\\\\\\\\\'minimum_should_match\\\\\\\\\\\\\\': \\\\\\\\\\\\\\'0%\\\\\\\\\\\\\\', \\\\\\\\\\\\\\'operator\\\\\\\\\\\\\\': \\\\\\\\\\\\\\'or\\\\\\\\\\\\\\'}}}], \\\\\\\\\\\\\\'filter\\\\\\\\\\\\\\': []}}}\\\\\\', \\\\\\'minimum_should_match\\\\\\': \\\\\\'25%\\\\\\', \\\\\\'operator\\\\\\': \\\\\\'or\\\\\\'}}}], \\\\\\'filter\\\\\\': []}}}\\', \\'minimum_should_match\\': \\'75%\\', \\'operator\\': \\'or\\'}}}], \\'filter\\': []}}}', 'minimum_should_match': '100%', 'operator': 'or'}}}], 'filter': []}}}\n",
      "There is no response\n"
     ]
    }
   ],
   "source": [
    "# query = \"인터넷 뱅킹으로 예적금 해약\"\n",
    "query = opensearch_utils.get_query(\n",
    "    query=query,\n",
    "    minimum_should_match=100\n",
    ")\n",
    "\n",
    "print(\"query: \", query)\n",
    "response = opensearch_utils.search_document(os_client, query, new_index_name)\n",
    "opensearch_utils.parse_keyword_response(response, show_size=3)"
   ]
  },
  {
   "cell_type": "markdown",
   "id": "ef366161-656e-4a4a-a800-c7b4a32bdb9e",
   "metadata": {
    "tags": []
   },
   "source": [
    "## Filter 활용\n",
    "- document내 metadata를 활용하여 search space를 줄일 수 있다.\n",
    "- 특히 filter의 경우 search 전에 수행되기 때문에, 검색 속도 향상을 기대할 수 있다\n",
    "- syntax\n",
    "    - filter=[{\"term\"**[고정]**: {\"metadata.source\"**[메타데이터 이름, 혹은 메타데이터 아니여도 상관없음]**: \"신한은행\"**[조건명]**}},]\n",
    "    - list 형식으로 복수개 filter 설정 가능"
   ]
  },
  {
   "cell_type": "code",
   "execution_count": 42,
   "id": "23e178cf-014c-49e2-89e2-9f2191583f17",
   "metadata": {
    "tags": []
   },
   "outputs": [
    {
     "name": "stdout",
     "output_type": "stream",
     "text": [
      "query:  {'query': {'bool': {'must': [{'match': {'text': {'query': '{\\'query\\': {\\'bool\\': {\\'must\\': [{\\'match\\': {\\'text\\': {\\'query\\': \\'{\\\\\\'query\\\\\\': {\\\\\\'bool\\\\\\': {\\\\\\'must\\\\\\': [{\\\\\\'match\\\\\\': {\\\\\\'text\\\\\\': {\\\\\\'query\\\\\\': \\\\\\'{\\\\\\\\\\\\\\'query\\\\\\\\\\\\\\': {\\\\\\\\\\\\\\'bool\\\\\\\\\\\\\\': {\\\\\\\\\\\\\\'must\\\\\\\\\\\\\\': [{\\\\\\\\\\\\\\'match\\\\\\\\\\\\\\': {\\\\\\\\\\\\\\'text\\\\\\\\\\\\\\': {\\\\\\\\\\\\\\'query\\\\\\\\\\\\\\': \\\\\\\\\\\\\\'{\\\\\\\\\\\\\\\\\\\\\\\\\\\\\\'query\\\\\\\\\\\\\\\\\\\\\\\\\\\\\\': {\\\\\\\\\\\\\\\\\\\\\\\\\\\\\\'bool\\\\\\\\\\\\\\\\\\\\\\\\\\\\\\': {\\\\\\\\\\\\\\\\\\\\\\\\\\\\\\'must\\\\\\\\\\\\\\\\\\\\\\\\\\\\\\': [{\\\\\\\\\\\\\\\\\\\\\\\\\\\\\\'match\\\\\\\\\\\\\\\\\\\\\\\\\\\\\\': {\\\\\\\\\\\\\\\\\\\\\\\\\\\\\\'text\\\\\\\\\\\\\\\\\\\\\\\\\\\\\\': {\\\\\\\\\\\\\\\\\\\\\\\\\\\\\\'query\\\\\\\\\\\\\\\\\\\\\\\\\\\\\\': \"{\\\\\\\\\\\\\\\\\\\\\\\\\\\\\\'query\\\\\\\\\\\\\\\\\\\\\\\\\\\\\\': {\\\\\\\\\\\\\\\\\\\\\\\\\\\\\\'bool\\\\\\\\\\\\\\\\\\\\\\\\\\\\\\': {\\\\\\\\\\\\\\\\\\\\\\\\\\\\\\'must\\\\\\\\\\\\\\\\\\\\\\\\\\\\\\': [{\\\\\\\\\\\\\\\\\\\\\\\\\\\\\\'match\\\\\\\\\\\\\\\\\\\\\\\\\\\\\\': {\\\\\\\\\\\\\\\\\\\\\\\\\\\\\\'text\\\\\\\\\\\\\\\\\\\\\\\\\\\\\\': {\\\\\\\\\\\\\\\\\\\\\\\\\\\\\\'query\\\\\\\\\\\\\\\\\\\\\\\\\\\\\\': \\\\\\\\\\\\\\\\\\\\\\\\\\\\\\'계약 전 알릴 의무는 무엇인가요\\\\\\\\\\\\\\\\\\\\\\\\\\\\\\', \\\\\\\\\\\\\\\\\\\\\\\\\\\\\\'minimum_should_match\\\\\\\\\\\\\\\\\\\\\\\\\\\\\\': \\\\\\\\\\\\\\\\\\\\\\\\\\\\\\'0%\\\\\\\\\\\\\\\\\\\\\\\\\\\\\\', \\\\\\\\\\\\\\\\\\\\\\\\\\\\\\'operator\\\\\\\\\\\\\\\\\\\\\\\\\\\\\\': \\\\\\\\\\\\\\\\\\\\\\\\\\\\\\'or\\\\\\\\\\\\\\\\\\\\\\\\\\\\\\'}}}], \\\\\\\\\\\\\\\\\\\\\\\\\\\\\\'filter\\\\\\\\\\\\\\\\\\\\\\\\\\\\\\': []}}}\", \\\\\\\\\\\\\\\\\\\\\\\\\\\\\\'minimum_should_match\\\\\\\\\\\\\\\\\\\\\\\\\\\\\\': \\\\\\\\\\\\\\\\\\\\\\\\\\\\\\'0%\\\\\\\\\\\\\\\\\\\\\\\\\\\\\\', \\\\\\\\\\\\\\\\\\\\\\\\\\\\\\'operator\\\\\\\\\\\\\\\\\\\\\\\\\\\\\\': \\\\\\\\\\\\\\\\\\\\\\\\\\\\\\'or\\\\\\\\\\\\\\\\\\\\\\\\\\\\\\'}}}], \\\\\\\\\\\\\\\\\\\\\\\\\\\\\\'filter\\\\\\\\\\\\\\\\\\\\\\\\\\\\\\': []}}}\\\\\\\\\\\\\\', \\\\\\\\\\\\\\'minimum_should_match\\\\\\\\\\\\\\': \\\\\\\\\\\\\\'25%\\\\\\\\\\\\\\', \\\\\\\\\\\\\\'operator\\\\\\\\\\\\\\': \\\\\\\\\\\\\\'or\\\\\\\\\\\\\\'}}}], \\\\\\\\\\\\\\'filter\\\\\\\\\\\\\\': []}}}\\\\\\', \\\\\\'minimum_should_match\\\\\\': \\\\\\'75%\\\\\\', \\\\\\'operator\\\\\\': \\\\\\'or\\\\\\'}}}], \\\\\\'filter\\\\\\': []}}}\\', \\'minimum_should_match\\': \\'100%\\', \\'operator\\': \\'or\\'}}}], \\'filter\\': []}}}', 'minimum_should_match': '0%', 'operator': 'or'}}}], 'filter': [{'term': {'metadata.source': '한화생명 The스마트한 일시납종신보험_20240101~.pdf'}}, {'term': {'metadata.type': '일시납종신보험_20240101~'}}]}}}\n",
      "# of searched docs:  10\n",
      "# of display: 3\n",
      "---------------------\n",
      "_id in index:  74732e1b-efcc-4a3c-8447-e43da77b7659\n",
      "33.337044\n",
      "(2) 해약환급금 미보증형\n",
      "계약의 계약에서 쓰이는\n",
      "제2조(용어의 정의)\n",
      "체결 용어를 알고 싶어요\n",
      "제14조(계약 전 알릴 의무)\n",
      "계약 전 알릴 의무는 무엇인가요\n",
      "제15조(계약 전 알릴 의무 위반의 효과)\n",
      "제25조(제1회 보험료 및 회사의\n",
      "보장이 언제 시작되나요\n",
      "보장개시)\n",
      "청약을 철회하고 싶어요 제18조(청약의 철회)\n",
      "계약을 취소 할 수 있나요 제19조(약관교부 및 설명의무 등)\n",
      "계약이 무효가 될 수 있나요 제20조(계약의 무효)\n",
      "보험료의 보험료 납입면제\n",
      "제5조(보험금 지급에 관한 세부규정)\n",
      "납입 사유를 알고 싶어요\n",
      "보험료 납입최고(독촉)이 제28조(보험료의 납입이 연체되는 경우\n",
      "무엇인가요 납입최고(독촉)와 계약의 해지)\n",
      "제29조(보험료의 납입연체로 인하여\n",
      "해지된 계약을 살리고 싶어요\n",
      "해지된 계약의 부활(효력회복))\n",
      "보험금의 제4조(보험금의 지급사유),\n",
      "보험금을 받을 수 있는지 궁금해요\n",
      "지급 제6조(보험금을 지급하지 않는 사유)\n",
      "제8조(보험금의 청구),\n",
      "보험금은 언제 지급되나요\n",
      "제9조(보험금의 지급절차)\n",
      "11\u0000/\u0000249\n",
      "{'source': '한화생명 The스마트한 일시납종신보험_20240101~.pdf', 'type': '일시납종신보험_20240101~', 'timestamp': 1705041696.807892}\n",
      "---------------------\n",
      "_id in index:  5f93cb71-a9a1-4ed5-842b-ac7d412cda2c\n",
      "30.254818\n",
      "4. 상황별 목차 안내\n",
      "(1) 해약환급금 보증형\n",
      "계약의 계약에서 쓰이는\n",
      "제2조(용어의정의)\n",
      "체결 용어를 알고 싶어요\n",
      "제14조(계약 전 알릴 의무)\n",
      "계약 전 알릴 의무는 무엇인가요\n",
      "제15조(계약 전 알릴 의무 위반의 효과)\n",
      "보장이 언제 시작되나요 제25조(제1회 보험료 및 회사의 보장개시)\n",
      "청약을 철회하고 싶어요 제18조(청약의 철회)\n",
      "계약을 취소 할 수 있나요 제19조(약관교부 및 설명의무 등)\n",
      "계약이 무효가 될 수 있나요 제20조(계약의 무효)\n",
      "보험료의 보험료 납입면제\n",
      "제5조(보험금 지급에 관한 세부규정)\n",
      "납입 사유를 알고 싶어요\n",
      "보험료 납입최고(독촉)이 제28조(보험료의 납입이 연체되는 경우\n",
      "무엇인가요 납입최고(독촉)와 계약의 해지)\n",
      "제29조(보험료의 납입연체로 인하여\n",
      "해지된 계약을 살리고 싶어요\n",
      "해지된 계약의 부활(효력회복))\n",
      "보험금의 제4조(보험금의 지급사유),\n",
      "보험금을 받을 수 있는지 궁금해요\n",
      "지급 제6조(보험금을 지급하지 않는 사유)\n",
      "제8조(보험금의 청구),\n",
      "보험금은 언제 지급되나요\n",
      "제9조(보험금의 지급절차)\n",
      "9\u0000/\u0000249\n",
      "{'source': '한화생명 The스마트한 일시납종신보험_20240101~.pdf', 'type': '일시납종신보험_20240101~', 'timestamp': 1705041696.6058886}\n",
      "---------------------\n",
      "_id in index:  5826d56c-e35f-4472-bce9-ffefbb4ced84\n",
      "30.21278\n",
      "한화생명 The스마트한 일시납종신보험 무배당[보증비용부과형](해약환급금 미보증)\n",
      "주계약 약관\n",
      "제 1 관 목적 및 용어의 정의\n",
      "제 1 조 목적\n",
      "이 보험계약(이하 ‘계약’이라 합니다)은 보험계약자(이하 ‘계약자’라 합니다)와 보험회사(이하 ‘회사’라 합니\n",
      "다) 사이에 제4조(보험금의 지급사유)에 해당하는 피보험자의 위험을 보장하기 위하여 체결됩니다.\n",
      "제 2 조 용어의 정의\n",
      "이 계약에서 사용되는 용어의 정의는, 이 계약의 다른 조항에서 달리 정의되지 않는 한 다음과 같습니다.\n",
      "1. 계약관계 관련 용어\n",
      "가. 계약자: 회사와 계약을 체결하고 보험료를 납입할 의무를 지는 사람을 말합니다.\n",
      "나. 보험수익자: 보험금 지급사유가 발생하는 때에 회사에 보험금을 청구하여 받을 수 있는 사람을 말\n",
      "합니다.\n",
      "다. 보험증권: 계약의 성립과 그 내용을 증명하기 위하여 회사가 계약자에게 드리는 증서를 말합니다.\n",
      "라. 진단계약: 계약을 체결하기 위하여 피보험자가 건강진단을 받아야 하는 계약을 말합니다.\n",
      "마. 피보험자: 보험사고의 대상이 되는 사람을 말합니다.\n",
      "2. 지급사유 관련 용어\n",
      "가. 재해: 별표 3 ‘재해분류표’에서 정한 재해를 말합니다.\n",
      "나. 중요한 사항: 계약 전 알릴 의무와 관련하여 회사가 그 사실을 알았더라면 계약의 청약을 거절하\n",
      "거나 보험가입금액 한도 제한, 일부 보장 제외, 보험금 삭감, 보험료 할증과 같이 조건부로 승낙하\n",
      "는 등 계약 승낙에 영향을 미칠 수 있는 사항을 말합니다.\n",
      "3. 지급금과 이자율 관련 용어\n",
      "가. 연단위 복리: 회사가 지급할 금전에 이자를 줄 때 1년마다 마지막 날에 그 이자를 원금에 더한 금\n",
      "액을 다음 1년의 원금으로 하는 이자 계산방법을 말합니다.\n",
      "【 연단위 복리 예시 】\n",
      "연시시점(1월1일) 원금 10,000원 투자, 연간 2% 이자율 적용시 계산 예시\n",
      "· 1년차 이자 = 10,000원 × 2% = 200원\n",
      "원금\n",
      "· 2년차 이자 = (10,000원 + 200원) × 2% = 204원\n",
      "원금 1년차 이자\n",
      "나. 평균공시이율: 전체 보험회사 공시이율의 평균으로, 이 계약 체결 시점의 이율을 말하며, 평균공시\n",
      "이율은 금융감독원 홈페이지(www.fss.or.kr)에서 확인할 수 있습니다.\n",
      "다. 산출이율: 이 계약의 보험료 및 해약환급금 산출방법서(이하 ‘산출방법서’라 합니다)’에서 정한 보\n",
      "험료 산출이율을 말합니다.\n",
      "라. 해약환급금: 계약이 해지되는 때에 회사가 계약자에게 돌려주는 금액을 말합니다.\n",
      "4. 기간과 날짜 관련 용어\n",
      "가. 보험기간: 계약에 따라 보장을 받는 기간을 말합니다.\n",
      "나. 영업일: 회사가 영업점에서 정상적으로 영업하는 날을 말하며, 토요일, ‘관공서의 공휴일에 관한 규\n",
      "정’에 따른 공휴일 및 대체공휴일, 근로자의 날은 제외합니다.\n",
      "다. 월계약해당일: 보험계약일부터 한 달씩 경과되는 매월의 계약 해당일을 말합니다. 다만, 해당월의\n",
      "계약 해당일이 없는 경우에는 해당월의 말일을 계약 해당일로 합니다.\n",
      "5. 보험료 관련 용어\n",
      "가. 기준보험료 및 기본보험료: 일시납보험료\n",
      "나. 추가납입보험료: 기본보험료 이외에 보험계약 성립 후부터 보험기간 중에 추가로 납입하는 보험료\n",
      "61\u0000/\u0000249\n",
      "{'source': '한화생명 The스마트한 일시납종신보험_20240101~.pdf', 'type': '일시납종신보험_20240101~', 'timestamp': 1705041708.5118208}\n",
      "---------------------\n"
     ]
    }
   ],
   "source": [
    "# query = \"인터넷 뱅킹으로 예적금 해약\"\n",
    "query = opensearch_utils.get_query(\n",
    "    query=query,\n",
    "    minimum_should_match=0,\n",
    "    filter=[\n",
    "        {\"term\": {\"metadata.source\": \"한화생명 The스마트한 일시납종신보험_20240101~.pdf\"}},\n",
    "        {\"term\": {\"metadata.type\": \"일시납종신보험_20240101~\"}},\n",
    "    ]\n",
    ")\n",
    "\n",
    "print(\"query: \", query)\n",
    "response = opensearch_utils.search_document(os_client, query, new_index_name)\n",
    "opensearch_utils.parse_keyword_response(response, show_size=3)"
   ]
  },
  {
   "cell_type": "markdown",
   "id": "8be2605d-4e07-4163-808e-9315777215b8",
   "metadata": {},
   "source": [
    "## tokenized index example (참고용)"
   ]
  },
  {
   "cell_type": "code",
   "execution_count": 43,
   "id": "e031809c-75e9-4f0d-a430-ae983fed1c80",
   "metadata": {
    "tags": []
   },
   "outputs": [],
   "source": [
    "test_index_info = {\n",
    "    \"settings\": {\n",
    "        \"index\": {\n",
    "            \"number_of_shards\": \"5\",\n",
    "            \"knn.algo_param\": {\"ef_search\": \"512\"},\n",
    "            \"knn\": \"true\",\n",
    "            \"number_of_replicas\": \"2\"\n",
    "        },\n",
    "        \"analysis\": {\n",
    "            \"tokenizer\": {\n",
    "                \"nori\": {\n",
    "                    \"type\": \"nori_tokenizer\"\n",
    "                }\n",
    "            },\n",
    "            \"analyzer\": {\n",
    "                \"my_analyzer\": {\n",
    "                    \"type\": \"custom\",\n",
    "                    \"tokenizer\": \"nori\"\n",
    "                }\n",
    "            }\n",
    "        }\n",
    "    },\n",
    "    \"mappings\": {\n",
    "        \"properties\": {\n",
    "            \"metadata\": {\n",
    "                \"properties\": {\n",
    "                    \"row\": {\"type\": \"long\"},\n",
    "                    \"source\": {\n",
    "                        \"type\": \"text\",\n",
    "                        \"fields\": {\n",
    "                            \"keyword\": {\n",
    "                                \"type\": \"keyword\",\n",
    "                                \"ignore_above\": 256\n",
    "                            }\n",
    "                        }\n",
    "                    },\n",
    "                    \"timestamp\": {\"type\": \"float\"},\n",
    "                    \"type\": {\n",
    "                        \"type\": \"text\",\n",
    "                        \"fields\": {\n",
    "                            \"keyword\": {\n",
    "                                \"type\": \"keyword\",\n",
    "                                \"ignore_above\": 256\n",
    "                            }\n",
    "                        }\n",
    "                    }\n",
    "                }\n",
    "            },\n",
    "            \"text\": {\n",
    "                \"type\": \"text\",\n",
    "                \"analyzer\": \"my_analyzer\",\n",
    "                \"search_analyzer\": \"my_analyzer\",\n",
    "                \"fields\": {\n",
    "                    \"keyword\": {\n",
    "                        \"type\": \"keyword\",\n",
    "                        \"ignore_above\": 256\n",
    "                    }\n",
    "                }\n",
    "            },\n",
    "            \"vector_field\": {\n",
    "                \"type\": \"knn_vector\",\n",
    "                \"dimension\": 1536,\n",
    "                \"method\": {\n",
    "                    \"engine\": \"nmslib\",\n",
    "                    \"space_type\": \"l2\",\n",
    "                    \"name\": \"hnsw\",\n",
    "                    \"parameters\": {\n",
    "                        \"ef_construction\": 512,\n",
    "                        \"m\": 16\n",
    "                    }\n",
    "                }\n",
    "            }\n",
    "        }\n",
    "    }\n",
    "}"
   ]
  },
  {
   "cell_type": "code",
   "execution_count": null,
   "id": "1fff9486-cd90-4117-8019-76e0524c69cd",
   "metadata": {},
   "outputs": [],
   "source": []
  }
 ],
 "metadata": {
  "availableInstances": [
   {
    "_defaultOrder": 0,
    "_isFastLaunch": true,
    "category": "General purpose",
    "gpuNum": 0,
    "hideHardwareSpecs": false,
    "memoryGiB": 4,
    "name": "ml.t3.medium",
    "vcpuNum": 2
   },
   {
    "_defaultOrder": 1,
    "_isFastLaunch": false,
    "category": "General purpose",
    "gpuNum": 0,
    "hideHardwareSpecs": false,
    "memoryGiB": 8,
    "name": "ml.t3.large",
    "vcpuNum": 2
   },
   {
    "_defaultOrder": 2,
    "_isFastLaunch": false,
    "category": "General purpose",
    "gpuNum": 0,
    "hideHardwareSpecs": false,
    "memoryGiB": 16,
    "name": "ml.t3.xlarge",
    "vcpuNum": 4
   },
   {
    "_defaultOrder": 3,
    "_isFastLaunch": false,
    "category": "General purpose",
    "gpuNum": 0,
    "hideHardwareSpecs": false,
    "memoryGiB": 32,
    "name": "ml.t3.2xlarge",
    "vcpuNum": 8
   },
   {
    "_defaultOrder": 4,
    "_isFastLaunch": true,
    "category": "General purpose",
    "gpuNum": 0,
    "hideHardwareSpecs": false,
    "memoryGiB": 8,
    "name": "ml.m5.large",
    "vcpuNum": 2
   },
   {
    "_defaultOrder": 5,
    "_isFastLaunch": false,
    "category": "General purpose",
    "gpuNum": 0,
    "hideHardwareSpecs": false,
    "memoryGiB": 16,
    "name": "ml.m5.xlarge",
    "vcpuNum": 4
   },
   {
    "_defaultOrder": 6,
    "_isFastLaunch": false,
    "category": "General purpose",
    "gpuNum": 0,
    "hideHardwareSpecs": false,
    "memoryGiB": 32,
    "name": "ml.m5.2xlarge",
    "vcpuNum": 8
   },
   {
    "_defaultOrder": 7,
    "_isFastLaunch": false,
    "category": "General purpose",
    "gpuNum": 0,
    "hideHardwareSpecs": false,
    "memoryGiB": 64,
    "name": "ml.m5.4xlarge",
    "vcpuNum": 16
   },
   {
    "_defaultOrder": 8,
    "_isFastLaunch": false,
    "category": "General purpose",
    "gpuNum": 0,
    "hideHardwareSpecs": false,
    "memoryGiB": 128,
    "name": "ml.m5.8xlarge",
    "vcpuNum": 32
   },
   {
    "_defaultOrder": 9,
    "_isFastLaunch": false,
    "category": "General purpose",
    "gpuNum": 0,
    "hideHardwareSpecs": false,
    "memoryGiB": 192,
    "name": "ml.m5.12xlarge",
    "vcpuNum": 48
   },
   {
    "_defaultOrder": 10,
    "_isFastLaunch": false,
    "category": "General purpose",
    "gpuNum": 0,
    "hideHardwareSpecs": false,
    "memoryGiB": 256,
    "name": "ml.m5.16xlarge",
    "vcpuNum": 64
   },
   {
    "_defaultOrder": 11,
    "_isFastLaunch": false,
    "category": "General purpose",
    "gpuNum": 0,
    "hideHardwareSpecs": false,
    "memoryGiB": 384,
    "name": "ml.m5.24xlarge",
    "vcpuNum": 96
   },
   {
    "_defaultOrder": 12,
    "_isFastLaunch": false,
    "category": "General purpose",
    "gpuNum": 0,
    "hideHardwareSpecs": false,
    "memoryGiB": 8,
    "name": "ml.m5d.large",
    "vcpuNum": 2
   },
   {
    "_defaultOrder": 13,
    "_isFastLaunch": false,
    "category": "General purpose",
    "gpuNum": 0,
    "hideHardwareSpecs": false,
    "memoryGiB": 16,
    "name": "ml.m5d.xlarge",
    "vcpuNum": 4
   },
   {
    "_defaultOrder": 14,
    "_isFastLaunch": false,
    "category": "General purpose",
    "gpuNum": 0,
    "hideHardwareSpecs": false,
    "memoryGiB": 32,
    "name": "ml.m5d.2xlarge",
    "vcpuNum": 8
   },
   {
    "_defaultOrder": 15,
    "_isFastLaunch": false,
    "category": "General purpose",
    "gpuNum": 0,
    "hideHardwareSpecs": false,
    "memoryGiB": 64,
    "name": "ml.m5d.4xlarge",
    "vcpuNum": 16
   },
   {
    "_defaultOrder": 16,
    "_isFastLaunch": false,
    "category": "General purpose",
    "gpuNum": 0,
    "hideHardwareSpecs": false,
    "memoryGiB": 128,
    "name": "ml.m5d.8xlarge",
    "vcpuNum": 32
   },
   {
    "_defaultOrder": 17,
    "_isFastLaunch": false,
    "category": "General purpose",
    "gpuNum": 0,
    "hideHardwareSpecs": false,
    "memoryGiB": 192,
    "name": "ml.m5d.12xlarge",
    "vcpuNum": 48
   },
   {
    "_defaultOrder": 18,
    "_isFastLaunch": false,
    "category": "General purpose",
    "gpuNum": 0,
    "hideHardwareSpecs": false,
    "memoryGiB": 256,
    "name": "ml.m5d.16xlarge",
    "vcpuNum": 64
   },
   {
    "_defaultOrder": 19,
    "_isFastLaunch": false,
    "category": "General purpose",
    "gpuNum": 0,
    "hideHardwareSpecs": false,
    "memoryGiB": 384,
    "name": "ml.m5d.24xlarge",
    "vcpuNum": 96
   },
   {
    "_defaultOrder": 20,
    "_isFastLaunch": false,
    "category": "General purpose",
    "gpuNum": 0,
    "hideHardwareSpecs": true,
    "memoryGiB": 0,
    "name": "ml.geospatial.interactive",
    "supportedImageNames": [
     "sagemaker-geospatial-v1-0"
    ],
    "vcpuNum": 0
   },
   {
    "_defaultOrder": 21,
    "_isFastLaunch": true,
    "category": "Compute optimized",
    "gpuNum": 0,
    "hideHardwareSpecs": false,
    "memoryGiB": 4,
    "name": "ml.c5.large",
    "vcpuNum": 2
   },
   {
    "_defaultOrder": 22,
    "_isFastLaunch": false,
    "category": "Compute optimized",
    "gpuNum": 0,
    "hideHardwareSpecs": false,
    "memoryGiB": 8,
    "name": "ml.c5.xlarge",
    "vcpuNum": 4
   },
   {
    "_defaultOrder": 23,
    "_isFastLaunch": false,
    "category": "Compute optimized",
    "gpuNum": 0,
    "hideHardwareSpecs": false,
    "memoryGiB": 16,
    "name": "ml.c5.2xlarge",
    "vcpuNum": 8
   },
   {
    "_defaultOrder": 24,
    "_isFastLaunch": false,
    "category": "Compute optimized",
    "gpuNum": 0,
    "hideHardwareSpecs": false,
    "memoryGiB": 32,
    "name": "ml.c5.4xlarge",
    "vcpuNum": 16
   },
   {
    "_defaultOrder": 25,
    "_isFastLaunch": false,
    "category": "Compute optimized",
    "gpuNum": 0,
    "hideHardwareSpecs": false,
    "memoryGiB": 72,
    "name": "ml.c5.9xlarge",
    "vcpuNum": 36
   },
   {
    "_defaultOrder": 26,
    "_isFastLaunch": false,
    "category": "Compute optimized",
    "gpuNum": 0,
    "hideHardwareSpecs": false,
    "memoryGiB": 96,
    "name": "ml.c5.12xlarge",
    "vcpuNum": 48
   },
   {
    "_defaultOrder": 27,
    "_isFastLaunch": false,
    "category": "Compute optimized",
    "gpuNum": 0,
    "hideHardwareSpecs": false,
    "memoryGiB": 144,
    "name": "ml.c5.18xlarge",
    "vcpuNum": 72
   },
   {
    "_defaultOrder": 28,
    "_isFastLaunch": false,
    "category": "Compute optimized",
    "gpuNum": 0,
    "hideHardwareSpecs": false,
    "memoryGiB": 192,
    "name": "ml.c5.24xlarge",
    "vcpuNum": 96
   },
   {
    "_defaultOrder": 29,
    "_isFastLaunch": true,
    "category": "Accelerated computing",
    "gpuNum": 1,
    "hideHardwareSpecs": false,
    "memoryGiB": 16,
    "name": "ml.g4dn.xlarge",
    "vcpuNum": 4
   },
   {
    "_defaultOrder": 30,
    "_isFastLaunch": false,
    "category": "Accelerated computing",
    "gpuNum": 1,
    "hideHardwareSpecs": false,
    "memoryGiB": 32,
    "name": "ml.g4dn.2xlarge",
    "vcpuNum": 8
   },
   {
    "_defaultOrder": 31,
    "_isFastLaunch": false,
    "category": "Accelerated computing",
    "gpuNum": 1,
    "hideHardwareSpecs": false,
    "memoryGiB": 64,
    "name": "ml.g4dn.4xlarge",
    "vcpuNum": 16
   },
   {
    "_defaultOrder": 32,
    "_isFastLaunch": false,
    "category": "Accelerated computing",
    "gpuNum": 1,
    "hideHardwareSpecs": false,
    "memoryGiB": 128,
    "name": "ml.g4dn.8xlarge",
    "vcpuNum": 32
   },
   {
    "_defaultOrder": 33,
    "_isFastLaunch": false,
    "category": "Accelerated computing",
    "gpuNum": 4,
    "hideHardwareSpecs": false,
    "memoryGiB": 192,
    "name": "ml.g4dn.12xlarge",
    "vcpuNum": 48
   },
   {
    "_defaultOrder": 34,
    "_isFastLaunch": false,
    "category": "Accelerated computing",
    "gpuNum": 1,
    "hideHardwareSpecs": false,
    "memoryGiB": 256,
    "name": "ml.g4dn.16xlarge",
    "vcpuNum": 64
   },
   {
    "_defaultOrder": 35,
    "_isFastLaunch": false,
    "category": "Accelerated computing",
    "gpuNum": 1,
    "hideHardwareSpecs": false,
    "memoryGiB": 61,
    "name": "ml.p3.2xlarge",
    "vcpuNum": 8
   },
   {
    "_defaultOrder": 36,
    "_isFastLaunch": false,
    "category": "Accelerated computing",
    "gpuNum": 4,
    "hideHardwareSpecs": false,
    "memoryGiB": 244,
    "name": "ml.p3.8xlarge",
    "vcpuNum": 32
   },
   {
    "_defaultOrder": 37,
    "_isFastLaunch": false,
    "category": "Accelerated computing",
    "gpuNum": 8,
    "hideHardwareSpecs": false,
    "memoryGiB": 488,
    "name": "ml.p3.16xlarge",
    "vcpuNum": 64
   },
   {
    "_defaultOrder": 38,
    "_isFastLaunch": false,
    "category": "Accelerated computing",
    "gpuNum": 8,
    "hideHardwareSpecs": false,
    "memoryGiB": 768,
    "name": "ml.p3dn.24xlarge",
    "vcpuNum": 96
   },
   {
    "_defaultOrder": 39,
    "_isFastLaunch": false,
    "category": "Memory Optimized",
    "gpuNum": 0,
    "hideHardwareSpecs": false,
    "memoryGiB": 16,
    "name": "ml.r5.large",
    "vcpuNum": 2
   },
   {
    "_defaultOrder": 40,
    "_isFastLaunch": false,
    "category": "Memory Optimized",
    "gpuNum": 0,
    "hideHardwareSpecs": false,
    "memoryGiB": 32,
    "name": "ml.r5.xlarge",
    "vcpuNum": 4
   },
   {
    "_defaultOrder": 41,
    "_isFastLaunch": false,
    "category": "Memory Optimized",
    "gpuNum": 0,
    "hideHardwareSpecs": false,
    "memoryGiB": 64,
    "name": "ml.r5.2xlarge",
    "vcpuNum": 8
   },
   {
    "_defaultOrder": 42,
    "_isFastLaunch": false,
    "category": "Memory Optimized",
    "gpuNum": 0,
    "hideHardwareSpecs": false,
    "memoryGiB": 128,
    "name": "ml.r5.4xlarge",
    "vcpuNum": 16
   },
   {
    "_defaultOrder": 43,
    "_isFastLaunch": false,
    "category": "Memory Optimized",
    "gpuNum": 0,
    "hideHardwareSpecs": false,
    "memoryGiB": 256,
    "name": "ml.r5.8xlarge",
    "vcpuNum": 32
   },
   {
    "_defaultOrder": 44,
    "_isFastLaunch": false,
    "category": "Memory Optimized",
    "gpuNum": 0,
    "hideHardwareSpecs": false,
    "memoryGiB": 384,
    "name": "ml.r5.12xlarge",
    "vcpuNum": 48
   },
   {
    "_defaultOrder": 45,
    "_isFastLaunch": false,
    "category": "Memory Optimized",
    "gpuNum": 0,
    "hideHardwareSpecs": false,
    "memoryGiB": 512,
    "name": "ml.r5.16xlarge",
    "vcpuNum": 64
   },
   {
    "_defaultOrder": 46,
    "_isFastLaunch": false,
    "category": "Memory Optimized",
    "gpuNum": 0,
    "hideHardwareSpecs": false,
    "memoryGiB": 768,
    "name": "ml.r5.24xlarge",
    "vcpuNum": 96
   },
   {
    "_defaultOrder": 47,
    "_isFastLaunch": false,
    "category": "Accelerated computing",
    "gpuNum": 1,
    "hideHardwareSpecs": false,
    "memoryGiB": 16,
    "name": "ml.g5.xlarge",
    "vcpuNum": 4
   },
   {
    "_defaultOrder": 48,
    "_isFastLaunch": false,
    "category": "Accelerated computing",
    "gpuNum": 1,
    "hideHardwareSpecs": false,
    "memoryGiB": 32,
    "name": "ml.g5.2xlarge",
    "vcpuNum": 8
   },
   {
    "_defaultOrder": 49,
    "_isFastLaunch": false,
    "category": "Accelerated computing",
    "gpuNum": 1,
    "hideHardwareSpecs": false,
    "memoryGiB": 64,
    "name": "ml.g5.4xlarge",
    "vcpuNum": 16
   },
   {
    "_defaultOrder": 50,
    "_isFastLaunch": false,
    "category": "Accelerated computing",
    "gpuNum": 1,
    "hideHardwareSpecs": false,
    "memoryGiB": 128,
    "name": "ml.g5.8xlarge",
    "vcpuNum": 32
   },
   {
    "_defaultOrder": 51,
    "_isFastLaunch": false,
    "category": "Accelerated computing",
    "gpuNum": 1,
    "hideHardwareSpecs": false,
    "memoryGiB": 256,
    "name": "ml.g5.16xlarge",
    "vcpuNum": 64
   },
   {
    "_defaultOrder": 52,
    "_isFastLaunch": false,
    "category": "Accelerated computing",
    "gpuNum": 4,
    "hideHardwareSpecs": false,
    "memoryGiB": 192,
    "name": "ml.g5.12xlarge",
    "vcpuNum": 48
   },
   {
    "_defaultOrder": 53,
    "_isFastLaunch": false,
    "category": "Accelerated computing",
    "gpuNum": 4,
    "hideHardwareSpecs": false,
    "memoryGiB": 384,
    "name": "ml.g5.24xlarge",
    "vcpuNum": 96
   },
   {
    "_defaultOrder": 54,
    "_isFastLaunch": false,
    "category": "Accelerated computing",
    "gpuNum": 8,
    "hideHardwareSpecs": false,
    "memoryGiB": 768,
    "name": "ml.g5.48xlarge",
    "vcpuNum": 192
   },
   {
    "_defaultOrder": 55,
    "_isFastLaunch": false,
    "category": "Accelerated computing",
    "gpuNum": 8,
    "hideHardwareSpecs": false,
    "memoryGiB": 1152,
    "name": "ml.p4d.24xlarge",
    "vcpuNum": 96
   },
   {
    "_defaultOrder": 56,
    "_isFastLaunch": false,
    "category": "Accelerated computing",
    "gpuNum": 8,
    "hideHardwareSpecs": false,
    "memoryGiB": 1152,
    "name": "ml.p4de.24xlarge",
    "vcpuNum": 96
   }
  ],
  "instance_type": "ml.m5.2xlarge",
  "kernelspec": {
   "display_name": "conda_python3",
   "language": "python",
   "name": "conda_python3"
  },
  "language_info": {
   "codemirror_mode": {
    "name": "ipython",
    "version": 3
   },
   "file_extension": ".py",
   "mimetype": "text/x-python",
   "name": "python",
   "nbconvert_exporter": "python",
   "pygments_lexer": "ipython3",
   "version": "3.10.13"
  },
  "vscode": {
   "interpreter": {
    "hash": "4b8e647a79df62bf31906a725b05de775d285962ac600487339d38c51a5c07b1"
   }
  }
 },
 "nbformat": 4,
 "nbformat_minor": 5
}
