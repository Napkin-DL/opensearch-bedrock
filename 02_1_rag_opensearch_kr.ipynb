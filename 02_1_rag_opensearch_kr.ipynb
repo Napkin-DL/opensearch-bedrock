{
 "cells": [
  {
   "cell_type": "markdown",
   "id": "fb017ab4-a16a-4c67-b875-a29eed6aa5bd",
   "metadata": {
    "tags": []
   },
   "source": [
    "# OpenSearch 한글 형태소 분석기 통한 키워드 검색 \n",
    ">이 노트북은,\n",
    "> - SageMaker Studio* **`Data Science 3.0`** kernel 및 ml.t3.medium 인스턴스에서 테스트 되었습니다.\n",
    "> - SageMaker Notebook **`conda_python3`** 에서 테스트 되었습니다.\n",
    "\n",
    "\n",
    "여기서는 OpenSearch 가 설치된 것을 가정하고, 한글 형태소 분석기의 사용하는 법을 알려 드립니다.\n",
    "\n",
    "---\n",
    "\n",
    "### [중요]\n",
    "- 이 노트북은 Bedrock Titan Embedding Model 을 기본으로 사용합니다. KoSIMCSERoberta 를 세이지 메이커 엔드포인트로 사용하신다면 아래의 선수 조건을 확인하세요.\n",
    "\n",
    "#### 선수조건 (KoSIMCSERoberta 사용시)\n",
    "- 임베딩 모델의 세이지 메이커 엔드포인트가 액티브 된 상태를 가정 합니다.\n",
    "    - 세이지 메이커 엔드포인트에 배포하기 위해서는 아래 노트북을 실행하시고, Endpoint Name 만을 복사 하시면 됩니다.\n",
    "    - [KoSIMCSERoberta Embedding Model 배포](https://github.com/gonsoomoon-ml/Kor-LLM-On-SageMaker/blob/main/1-Lab01-Deploy-LLM/4.Kor-Embedding-Model.ipynb)\n",
    "    - SageMaker Endpoint 에 대해서는 공식 개발자 문서를 참조하세요 --> [Create your endpoint and deploy your model](https://docs.aws.amazon.com/sagemaker/latest/dg/realtime-endpoints-deployment.html)\n",
    "- 오픈 서치 서비스가 액티브 된 상태를 가정 합니다.\n",
    "\n",
    "\n",
    "---\n",
    "## Ref: \n",
    "- [Amazon OpenSearch Service로 검색 구현하기](https://catalog.us-east-1.prod.workshops.aws/workshops/de4e38cb-a0d9-4ffe-a777-bf00d498fa49/ko-KR/indexing/blog-reindex)\n",
    "- [OpenSearch Python Client](https://opensearch.org/docs/1.3/clients/python-high-level/)\n",
    "- [OpenSearch Match, Multi-Match, and Match Phrase Queries](https://opster.com/guides/opensearch/opensearch-search-apis/opensearch-match-multi-match-and-match-phrase-queries/)\n",
    "- OpenSearch Query 에서 Filter, Must, Should, Not Mush 에 대한 설명 입니다.\n",
    "    - [OpenSearch Boolean Queries](https://opster.com/guides/opensearch/opensearch-search-apis/opensearch-boolean-queries/#:~:text=Boolean%20queries%20are%20used%20to,as%20terms%2C%20match%20and%20query_string.)\n",
    "- [OpenSearch Query Description (한글)](https://esbook.kimjmin.net/05-search)\n"
   ]
  },
  {
   "cell_type": "markdown",
   "id": "8a2f9c19-c43c-435c-944d-77984b54a6d8",
   "metadata": {},
   "source": [
    "# 1. 환경 세팅"
   ]
  },
  {
   "cell_type": "code",
   "execution_count": 1,
   "id": "6a20ae24-5c42-4e67-b2cb-8db675e180bc",
   "metadata": {
    "tags": []
   },
   "outputs": [],
   "source": [
    "import boto3\n",
    "region = boto3.Session().region_name\n",
    "opensearch = boto3.client('opensearch', region)\n",
    "\n",
    "%store -r opensearch_user_id opensearch_user_password domain_name opensearch_domain_endpoint\n",
    "\n",
    "try:\n",
    "    opensearch_user_id\n",
    "    opensearch_user_password\n",
    "    domain_name\n",
    "    opensearch_domain_endpoint\n",
    "   \n",
    "except NameError:\n",
    "    print(\"++++++++++++++++++++++++++++++++++++++++++++++++++++++++++++++++++++++++++++\")\n",
    "    print(\"[ERROR] Run 00_setup notebook first or Create Your Own OpenSearch Domain\")\n",
    "    print(\"++++++++++++++++++++++++++++++++++++++++++++++++++++++++++++++++++++++++++++\")"
   ]
  },
  {
   "cell_type": "code",
   "execution_count": 2,
   "id": "787df0f0-7fd9-47ca-a0c3-91b3037d6a10",
   "metadata": {
    "tags": []
   },
   "outputs": [],
   "source": [
    "%load_ext autoreload\n",
    "%autoreload 2\n",
    "\n",
    "import sys, os\n",
    "module_path = \"..\"\n",
    "sys.path.append(os.path.abspath(module_path))"
   ]
  },
  {
   "cell_type": "markdown",
   "id": "950cf3b9-26a3-4096-a6e4-4b9a39d2e82f",
   "metadata": {
    "tags": []
   },
   "source": [
    "## Bedrock Client 생성\n",
    "### 선수 지식\n",
    "아래의 노트북을 먼저 실행해서, Bedrock 에 접근 가능하게 합니다.\n",
    "- amazon-bedrock-workshop-webinar-kr/00_Setup/setup.ipynb"
   ]
  },
  {
   "cell_type": "code",
   "execution_count": 3,
   "id": "ee268417-f4cf-448f-be1f-aae7f9a81c6c",
   "metadata": {
    "tags": []
   },
   "outputs": [
    {
     "name": "stdout",
     "output_type": "stream",
     "text": [
      "Create new client\n",
      "  Using region: None\n",
      "  Using profile: None\n",
      "boto3 Bedrock client successfully created!\n",
      "bedrock-runtime(https://bedrock-runtime.us-west-2.amazonaws.com)\n",
      "[('Titan Text Large', 'amazon.titan-tg1-large'),\n",
      " ('Titan Text Embeddings v2', 'amazon.titan-embed-g1-text-02'),\n",
      " ('Titan Text G1 - Lite', 'amazon.titan-text-lite-v1'),\n",
      " ('Titan Text G1 - Express', 'amazon.titan-text-express-v1'),\n",
      " ('Titan Embeddings G1 - Text', 'amazon.titan-embed-text-v1'),\n",
      " ('Titan Multimodal Embeddings G1', 'amazon.titan-embed-image-v1'),\n",
      " ('Titan Image Generator G1', 'amazon.titan-image-generator-v1'),\n",
      " ('SDXL 0.8', 'stability.stable-diffusion-xl'),\n",
      " ('SDXL 0.8', 'stability.stable-diffusion-xl-v0'),\n",
      " ('SDXL 1.0', 'stability.stable-diffusion-xl-v1'),\n",
      " ('J2 Grande Instruct', 'ai21.j2-grande-instruct'),\n",
      " ('J2 Jumbo Instruct', 'ai21.j2-jumbo-instruct'),\n",
      " ('Jurassic-2 Mid', 'ai21.j2-mid'),\n",
      " ('Jurassic-2 Mid', 'ai21.j2-mid-v1'),\n",
      " ('Jurassic-2 Ultra', 'ai21.j2-ultra'),\n",
      " ('Jurassic-2 Ultra', 'ai21.j2-ultra-v1'),\n",
      " ('Claude Instant', 'anthropic.claude-instant-v1'),\n",
      " ('Claude', 'anthropic.claude-v1'),\n",
      " ('Claude', 'anthropic.claude-v2:1'),\n",
      " ('Claude', 'anthropic.claude-v2'),\n",
      " ('Command', 'cohere.command-text-v14'),\n",
      " ('Command Light', 'cohere.command-light-text-v14'),\n",
      " ('Embed English', 'cohere.embed-english-v3'),\n",
      " ('Embed Multilingual', 'cohere.embed-multilingual-v3'),\n",
      " ('Llama 2 Chat 13B', 'meta.llama2-13b-chat-v1'),\n",
      " ('Llama 2 Chat 70B', 'meta.llama2-70b-chat-v1')]\n"
     ]
    }
   ],
   "source": [
    "import json\n",
    "import boto3\n",
    "from pprint import pprint\n",
    "from termcolor import colored\n",
    "from utils import bedrock, print_ww\n",
    "from utils.bedrock import bedrock_info\n",
    "\n",
    "# ---- ⚠️ Un-comment and edit the below lines as needed for your AWS setup ⚠️ ----\n",
    "\n",
    "# os.environ[\"AWS_DEFAULT_REGION\"] = \"<REGION_NAME>\"  # E.g. \"us-east-1\"\n",
    "# os.environ[\"AWS_PROFILE\"] = \"<YOUR_PROFILE>\"\n",
    "# os.environ[\"BEDROCK_ASSUME_ROLE\"] = \"<YOUR_ROLE_ARN>\"  # E.g. \"arn:aws:...\"\n",
    "# os.environ[\"BEDROCK_ENDPOINT_URL\"] = \"<YOUR_ENDPOINT_URL>\"  # E.g. \"https://...\"\n",
    "\n",
    "\n",
    "boto3_bedrock = bedrock.get_bedrock_client(\n",
    "    assumed_role=os.environ.get(\"BEDROCK_ASSUME_ROLE\", None),\n",
    "    endpoint_url=os.environ.get(\"BEDROCK_ENDPOINT_URL\", None),\n",
    "    region=os.environ.get(\"AWS_DEFAULT_REGION\", None),\n",
    ")\n",
    "\n",
    "# print (colored(\"\\n== FM lists ==\", \"green\"))\n",
    "# pprint (bedrock_info.get_list_fm_models())\n",
    "\n",
    "bedrock = boto3.client(service_name='bedrock')\n",
    "model_list = bedrock.list_foundation_models()\n",
    "result = [(fm_list[\"modelName\"], fm_list[\"modelId\"]) for fm_list in model_list[\"modelSummaries\"] if fm_list['inferenceTypesSupported'] == ['ON_DEMAND']]\n",
    "pprint(result)"
   ]
  },
  {
   "cell_type": "markdown",
   "id": "7ec7b1ce-4407-4164-b28e-84cfde5f32f7",
   "metadata": {},
   "source": [
    "# 2. Titan Embedding 및 LLM 인 Claude-v2 모델 로딩"
   ]
  },
  {
   "cell_type": "markdown",
   "id": "f4292e3a-e33e-469d-b73d-3904919ab08b",
   "metadata": {},
   "source": [
    "## LLM 로딩 (Claude-v2.1)"
   ]
  },
  {
   "cell_type": "code",
   "execution_count": 36,
   "id": "bc5d7ac7-f528-4ed3-a855-cdd519ddc17b",
   "metadata": {
    "tags": []
   },
   "outputs": [],
   "source": [
    "from langchain.llms.bedrock import Bedrock\n",
    "from langchain.callbacks.streaming_stdout import StreamingStdOutCallbackHandler"
   ]
  },
  {
   "cell_type": "code",
   "execution_count": 37,
   "id": "f0b77439-95e3-47a5-a65c-f1c3059acb24",
   "metadata": {
    "tags": []
   },
   "outputs": [
    {
     "data": {
      "text/plain": [
       "Bedrock(client=<botocore.client.BedrockRuntime object at 0x7f987be08520>, model_id='anthropic.claude-v2:1', model_kwargs={'max_tokens_to_sample': 512}, streaming=True, callbacks=[<langchain_core.callbacks.streaming_stdout.StreamingStdOutCallbackHandler object at 0x7f979768a560>])"
      ]
     },
     "execution_count": 37,
     "metadata": {},
     "output_type": "execute_result"
    }
   ],
   "source": [
    "# - create the Anthropic Model\n",
    "llm_text = Bedrock(\n",
    "    model_id=bedrock_info.get_model_id(model_name=\"Claude-V2-1\"),\n",
    "    client=boto3_bedrock,\n",
    "    model_kwargs={\n",
    "        \"max_tokens_to_sample\": 512\n",
    "    },\n",
    "    streaming=True,\n",
    "    callbacks=[StreamingStdOutCallbackHandler()]\n",
    ")\n",
    "llm_text"
   ]
  },
  {
   "cell_type": "markdown",
   "id": "16b9ad47-56b6-427d-84a6-4e792bf4f6f9",
   "metadata": {},
   "source": [
    "## Embedding 모델 선택"
   ]
  },
  {
   "cell_type": "code",
   "execution_count": 4,
   "id": "85910ba4-1eb0-4b38-8d46-aa8a3da3cd60",
   "metadata": {
    "tags": []
   },
   "outputs": [
    {
     "name": "stderr",
     "output_type": "stream",
     "text": [
      "/home/ec2-user/anaconda3/envs/python3/lib/python3.10/site-packages/pandas/core/computation/expressions.py:21: UserWarning: Pandas requires version '2.8.0' or newer of 'numexpr' (version '2.7.3' currently installed).\n",
      "  from pandas.core.computation.check import NUMEXPR_INSTALLED\n"
     ]
    }
   ],
   "source": [
    "from utils.rag import KoSimCSERobertaContentHandler, SagemakerEndpointEmbeddingsJumpStart"
   ]
  },
  {
   "cell_type": "code",
   "execution_count": 5,
   "id": "65afde2a-097b-4a00-82e4-e7bab6e2a4d1",
   "metadata": {
    "tags": []
   },
   "outputs": [],
   "source": [
    "def get_embedding_model(is_bedrock_embeddings, is_KoSimCSERobert, aws_region, endpont_name=None):\n",
    "    if is_bedrock_embeddings:\n",
    "\n",
    "        # We will be using the Titan Embeddings Model to generate our Embeddings.\n",
    "        from langchain.embeddings import BedrockEmbeddings\n",
    "\n",
    "        llm_emb = BedrockEmbeddings(\n",
    "            client=boto3_bedrock,\n",
    "            # model_id=\"cohere.embed-multilingual-v3\"\n",
    "            model_id=\"amazon.titan-embed-g1-text-02\"\n",
    "        )\n",
    "        print(\"Bedrock Embeddings Model Loaded\")\n",
    "        \n",
    "    elif is_KoSimCSERobert:\n",
    "        LLMEmbHandler = KoSimCSERobertaContentHandler()\n",
    "        endpoint_name_emb = endpont_name\n",
    "        llm_emb = SagemakerEndpointEmbeddingsJumpStart(\n",
    "            endpoint_name=endpoint_name_emb,\n",
    "            region_name=aws_region,\n",
    "            content_handler=LLMEmbHandler,\n",
    "        )        \n",
    "        print(\"KoSimCSERobert Embeddings Model Loaded\")\n",
    "    else:\n",
    "        llm_emb = None\n",
    "        print(\"No Embedding Model Selected\")\n",
    "    \n",
    "    return llm_emb"
   ]
  },
  {
   "cell_type": "markdown",
   "id": "1fe62c38-4b50-48ef-96de-3690361551de",
   "metadata": {},
   "source": [
    "#### [중요] is_KoSimCSERobert == True 경우,  endpoint_name 을 꼭 넣어 주세요."
   ]
  },
  {
   "cell_type": "code",
   "execution_count": 6,
   "id": "b29f58a6-a230-4aa9-994d-0a6343f72fcb",
   "metadata": {
    "tags": []
   },
   "outputs": [
    {
     "name": "stdout",
     "output_type": "stream",
     "text": [
      "Bedrock Embeddings Model Loaded\n"
     ]
    }
   ],
   "source": [
    "is_bedrock_embeddings = True\n",
    "is_KoSimCSERobert = False\n",
    "\n",
    "aws_region = os.environ.get(\"AWS_DEFAULT_REGION\", None)\n",
    "\n",
    "##############################\n",
    "# Parameters for is_KoSimCSERobert\n",
    "##############################\n",
    "if is_KoSimCSERobert: endpont_name = \"<endpoint-name>\"\n",
    "else: endpont_name = None\n",
    "##############################\n",
    "\n",
    "llm_emb = get_embedding_model(is_bedrock_embeddings, is_KoSimCSERobert, aws_region, endpont_name)    "
   ]
  },
  {
   "cell_type": "markdown",
   "id": "160f25b2-8b20-4b57-bc66-bf2b6004cc1c",
   "metadata": {
    "tags": []
   },
   "source": [
    "-------------------"
   ]
  },
  {
   "cell_type": "markdown",
   "id": "187ceea4-4d80-41bf-9431-47d5f3902396",
   "metadata": {
    "tags": []
   },
   "source": [
    "# 3. OpenSearch 벡터 Indexer 생성\n",
    "### 선수 조건\n",
    "- 랭체인 오프서처 참고 자료\n",
    "    - [Langchain Opensearch](https://python.langchain.com/docs/integrations/vectorstores/opensearch)"
   ]
  },
  {
   "cell_type": "markdown",
   "id": "3a6c5796-a418-4505-ba28-0ca33c3fa9f8",
   "metadata": {},
   "source": [
    "## 오픈 서치 인덱스 유무에 따라 삭제\n",
    "오픈 서치에 해당 인덱스가 존재하면, 삭제 합니다. "
   ]
  },
  {
   "cell_type": "code",
   "execution_count": 7,
   "id": "b441a96e-6a2b-42d2-8b27-db78d5dd97d1",
   "metadata": {
    "tags": []
   },
   "outputs": [],
   "source": [
    "from opensearchpy import OpenSearch, RequestsHttpConnection\n",
    "http_auth = (opensearch_user_id, opensearch_user_password)\n",
    "os_client = OpenSearch(\n",
    "            hosts=[\n",
    "                {'host': opensearch_domain_endpoint.replace(\"https://\", \"\"),\n",
    "                 'port': 443\n",
    "                }\n",
    "            ],\n",
    "            http_auth=http_auth, # Master username, Master password,\n",
    "            use_ssl=True,\n",
    "            verify_certs=True,\n",
    "            connection_class=RequestsHttpConnection\n",
    "        )"
   ]
  },
  {
   "cell_type": "markdown",
   "id": "488a3756-f8af-4a8b-ba8e-b0e552b05369",
   "metadata": {
    "tags": []
   },
   "source": [
    "## 형태소 분석기 사용하기\n",
    "- 영어권의 문자들과 다르게 한글, 일본어, 중국어 등은 단순한 공백만으로는 좋은 검색 결과를 얻기 힘듭니다.\n",
    "- 출시하고라는 단어가 들어간 문서를 출시하고라는 정확히 같은 단어만으로 검색할 수 있다면 답답하겠죠?\n",
    "- 출시하고라는 단어를 출시, 출시하고 등 다양하게 검색하기 위해서는 형태소 분석기가 필요합니다.\n",
    "- OpenSearch 에서는 2개의 한국어 analyer를 제공하고 있습니다.\n",
    "    - 은전한잎 (seunjeon_tokenizer)\n",
    "        - https://catalog.us-east-1.prod.workshops.aws/workshops/de4e38cb-a0d9-4ffe-a777-bf00d498fa49/ko-KR/indexing/stemming#\n",
    "    - Nori (nori_tokenizer)\n",
    "        - 설명: https://esbook.kimjmin.net/06-text-analysis/6.7-stemming/6.7.2-nori\n",
    "    - Sample 코드에서는 \"Nori\"를 기반으로 진행합니다."
   ]
  },
  {
   "cell_type": "markdown",
   "id": "dc21d1fb-d563-43eb-95cc-57efaea8d8b9",
   "metadata": {
    "tags": []
   },
   "source": [
    "### [TIP]\n",
    "- **token filter**\n",
    "    - Amazon OpenSearch Service에서는 나만의 필터를 토크나이저와 함께 구성해서 사용할 수 있습니다. \n",
    "    - nori_tokenizer를 사용하되, 원하는 캐릭터 필터와 토큰 필터 조합을 구성할 수 있습니다.\n",
    "    - 문장이 입력되면 캐릭터 필터(char_filter), 토크나이저(tokenizer), 토큰 필터(filter) 순으로 동작하게 됩니다.\n",
    "    - 입력문장이 \"<b>Start</b> 이천이십삼년 韓國\" 이것일 경우, \n",
    "    - 아래 샘플 코드의 옵션으로 사용한다면 <b>Start</b>의 html 코드가 html_strip에 의해 처리되고, nori_tokenizer로 토큰화됩니다.\n",
    "    - 그 후에 nori_number는 이천이십삼을 2023으로, nori_readingform은 韓國을 한국으로, lowercase는 Start를 start로 처리합니다.\n",
    "    - **토큰필터 참고자료**\n",
    "        - https://esbook.kimjmin.net/06-text-analysis/6.6-token-filter\n",
    "        - https://opensearch.org/docs/latest/analyzers/token-filters/index/\n",
    "    \n",
    "- **discard_punctuation**\n",
    "    - true(기본값), false가 있으며 문장부호 또는 구두점을 어떻게 다룰지에 대한 설정을 할 수 있습니다.\n",
    "- **decompound_mode**\n",
    "    - none, discard(기본값), mixed가 있으며 복합명사를 어떻게 다룰지에 대한 설정을 할 수 있습니다.\n",
    "    - none: 복합명사를 분리하지 않고 하나의 토큰으로 저장합니다.\n",
    "    - discard: 복합명사를 분리하여 토큰으로 저장합니다.\n",
    "    - mixed: 복합명사를 분리하지 않은 토큰과 분리한 토큰을 모두 저장합니다.\n",
    "- **신조어, 업무용어, 상표**\n",
    "     - 노리 토크나이저는 [mecab-ko-dic](https://bitbucket.org/eunjeon/mecab-ko-dic/src/master/) 을 사용하고 있지만 때로는 신조어, 업무 용어, 상표 등을 위한 사용자 사전이 필요할 수 있습니다.\n",
    "     - user_dictionary_rules를 이용해서 사용자 사전을 만들 수 있고, 아래에서 사용자 사전을 적용했을 때와 적용하지 않았을 때를 비교해 볼 수 있습니다.\n",
    "- **동의어, 불용어**\n",
    "    - Amazon OpenSearch Service에서는 Package를 이용하면 사용자사전, 동의어, 불용어를 관리할 수 있습니다. 자세한 사항은 [이곳](https://docs.aws.amazon.com/ko_kr/opensearch-service/latest/developerguide/custom-packages.html)을 참조해 주십시오. \n",
    "    - S3에 사용자 사전을 업로드 후, Package에 등록합니다. 그리고 등록된 텍스트 사전을 원하는 OpenSearch 도메인에 연결합니다.\n",
    "    - 아래와 같이 user_dictionary에 analyzers/<Package ID> 를 이용해서 적용할 수 있습니다. 이 Package ID는 OpenSearch 콘솔 화면에서 업로드한 사전의 상세 페이지에서 확인할 수 있습니다.\n"
   ]
  },
  {
   "cell_type": "markdown",
   "id": "56ac0292-f3fc-4ef7-a00d-becee90f0dec",
   "metadata": {
    "tags": []
   },
   "source": [
    "## 인덱스 생성"
   ]
  },
  {
   "cell_type": "code",
   "execution_count": 8,
   "id": "818bec59-9f17-4250-b133-a82767d79657",
   "metadata": {
    "scrolled": true,
    "tags": []
   },
   "outputs": [
    {
     "name": "stdout",
     "output_type": "stream",
     "text": [
      "Index is deleted\n"
     ]
    }
   ],
   "source": [
    "index_name = \"genai-demo-index-v1\"\n",
    "exists = os_client.indices.exists(index_name)\n",
    "\n",
    "if exists:\n",
    "    os_client.indices.delete(index=index_name)\n",
    "    print(\"Index is deleted\")\n",
    "else:\n",
    "    print(\"Index does not exist\")"
   ]
  },
  {
   "cell_type": "code",
   "execution_count": 9,
   "id": "25ad62cb-22ff-4031-b301-0baec1e5608d",
   "metadata": {
    "tags": []
   },
   "outputs": [
    {
     "data": {
      "text/plain": [
       "{'mappings': {'properties': {'metadata': {'properties': {'source': {'type': 'keyword'},\n",
       "     'timestamp': {'type': 'float'},\n",
       "     'type': {'type': 'keyword'}}},\n",
       "   'text': {'analyzer': 'custom_analyzer',\n",
       "    'fields': {'keyword': {'ignore_above': 256, 'type': 'keyword'}},\n",
       "    'search_analyzer': 'custom_analyzer',\n",
       "    'type': 'text'},\n",
       "   'vector_field': {'dimension': 1536,\n",
       "    'method': {'engine': 'faiss',\n",
       "     'name': 'hnsw',\n",
       "     'parameters': {'ef_construction': 512, 'm': 16},\n",
       "     'space_type': 'l2'},\n",
       "    'type': 'knn_vector'}}},\n",
       " 'settings': {'analysis': {'analyzer': {'custom_analyzer': {'char_filter': ['html_strip'],\n",
       "     'filter': ['nori_number', 'nori_readingform', 'lowercase'],\n",
       "     'tokenizer': 'nori',\n",
       "     'type': 'custom'}},\n",
       "   'tokenizer': {'nori': {'decompound_mode': 'mixed',\n",
       "     'discard_punctuation': 'true',\n",
       "     'type': 'nori_tokenizer'}}},\n",
       "  'index': {'knn': 'true',\n",
       "   'knn.algo_param': {'ef_search': '512'},\n",
       "   'number_of_replicas': '2',\n",
       "   'number_of_shards': '5'}}}"
      ]
     },
     "execution_count": 9,
     "metadata": {},
     "output_type": "execute_result"
    }
   ],
   "source": [
    "### model에 따라 dimension 사이즈 변경 필요 (Titan : 1536, Cohere : 1024)\n",
    "import json\n",
    "\n",
    "with open('index_body.json', 'r') as f:\n",
    "    index_body = json.load(f)\n",
    "\n",
    "index_body"
   ]
  },
  {
   "cell_type": "code",
   "execution_count": 10,
   "id": "66746526-4e79-4e41-a985-79697b5bb8ec",
   "metadata": {
    "tags": []
   },
   "outputs": [
    {
     "data": {
      "text/plain": [
       "{'acknowledged': True,\n",
       " 'shards_acknowledged': True,\n",
       " 'index': 'genai-demo-index-v1'}"
      ]
     },
     "execution_count": 10,
     "metadata": {},
     "output_type": "execute_result"
    }
   ],
   "source": [
    "os_client.indices.create(index_name, body=index_body)"
   ]
  },
  {
   "cell_type": "code",
   "execution_count": 11,
   "id": "bb4971b6-777d-48a1-82dd-668a38e48587",
   "metadata": {
    "tags": []
   },
   "outputs": [
    {
     "name": "stdout",
     "output_type": "stream",
     "text": [
      "CPU times: user 258 µs, sys: 40 µs, total: 298 µs\n",
      "Wall time: 305 µs\n"
     ]
    }
   ],
   "source": [
    "%%time\n",
    "from langchain.vectorstores import OpenSearchVectorSearch\n",
    "\n",
    "vector_db = OpenSearchVectorSearch(\n",
    "    index_name=index_name,\n",
    "    opensearch_url=opensearch_domain_endpoint,\n",
    "    embedding_function=llm_emb,\n",
    "    http_auth=http_auth, # http_auth\n",
    ")"
   ]
  },
  {
   "cell_type": "markdown",
   "id": "8c7070c1-8640-40cb-969d-1bc1a413d3f2",
   "metadata": {},
   "source": [
    "# 4. 데이터 준비\n"
   ]
  },
  {
   "cell_type": "markdown",
   "id": "7281c676-d75a-423f-8f9b-fd5838d3b269",
   "metadata": {},
   "source": [
    "##  한화생명 보험 약관 데이터 세트로 구현"
   ]
  },
  {
   "cell_type": "code",
   "execution_count": 12,
   "id": "4a1407db-0f63-4a57-aa15-0c430b9bae13",
   "metadata": {
    "tags": []
   },
   "outputs": [],
   "source": [
    "import time\n",
    "from langchain.schema import Document\n",
    "from llmsherpa.readers import LayoutPDFReader"
   ]
  },
  {
   "cell_type": "code",
   "execution_count": 13,
   "id": "919c614e-aa36-499b-90e3-e29ad81c853e",
   "metadata": {
    "tags": []
   },
   "outputs": [
    {
     "data": {
      "text/plain": [
       "['./data/rag_data_kr_pdf/한화생명 간편가입 H튼튼 보장보험_20240101~.pdf',\n",
       " './data/rag_data_kr_pdf/한화생명 간편가입 H튼튼 보장보험_20230601~.pdf',\n",
       " './data/rag_data_kr_pdf/한화생명 The스마트한 일시납종신보험_20230916~.pdf',\n",
       " './data/rag_data_kr_pdf/한화생명 간편가입 웰다잉 종신보험_20240101~.pdf',\n",
       " './data/rag_data_kr_pdf/한화생명 The스마트한 일시납종신보험_20240101~.pdf',\n",
       " './data/rag_data_kr_pdf/한화생명 The실속있는 간병치매보험_20231209~_1.pdf',\n",
       " './data/rag_data_kr_pdf/한화생명 간편가입 웰다잉 종신보험_20230901~.pdf',\n",
       " './data/rag_data_kr_pdf/한화생명 간편가입 웰다잉 종신보험_20230916~.pdf',\n",
       " './data/rag_data_kr_pdf/한화생명 The실속있는 간병치매보험_20240101~.pdf']"
      ]
     },
     "execution_count": 13,
     "metadata": {},
     "output_type": "execute_result"
    }
   ],
   "source": [
    "import glob\n",
    "pdf_list = glob.glob('./data/rag_data_kr_pdf/*')\n",
    "pdf_list"
   ]
  },
  {
   "cell_type": "markdown",
   "id": "bbb12758-dec4-4403-854b-8c0175058e62",
   "metadata": {},
   "source": [
    "### 1. PDF 처리 방법 (LLM Sherpa)\n",
    " - https://github.com/nlmatics/llmsherpa"
   ]
  },
  {
   "cell_type": "code",
   "execution_count": 14,
   "id": "dd25683c-d436-4c2a-963f-1ef7404b40e0",
   "metadata": {
    "tags": []
   },
   "outputs": [],
   "source": [
    "# llmsherpa_api_url = \"https://readers.llmsherpa.com/api/document/developer/parseDocument?renderFormat=all\"\n",
    "# pdf_reader = LayoutPDFReader(llmsherpa_api_url)\n",
    "# # doc = pdf_reader.read_pdf(\"./data/pdf/한화생명 The스마트한 일시납종신보험_20240101~.pdf\")"
   ]
  },
  {
   "cell_type": "code",
   "execution_count": 15,
   "id": "3f3fe0ac-2525-412d-85bc-b622dff13104",
   "metadata": {},
   "outputs": [],
   "source": [
    "# docs = []\n",
    "# for pdf_file in pdf_list:\n",
    "#     doc = pdf_reader.read_pdf(pdf_file)\n",
    "#     source_name = pdf_file.split('/')[-1]\n",
    "#     type_name = source_name.split(' ')[-1].replace('.pdf', '')\n",
    "#     for chunk_info in doc.chunks():\n",
    "#         sentences = \" \".join(chunk_info.sentences)\n",
    "#         if len(sentences) >= 20:\n",
    "#             chunk = Document(\n",
    "#                 page_content=sentences,\n",
    "#                 metadata={\n",
    "#                     \"source\" : source_name,\n",
    "#                     \"type\": type_name,\n",
    "#                     \"timestamp\": time.time()\n",
    "#                 }\n",
    "#             )\n",
    "#             docs.append(chunk)"
   ]
  },
  {
   "cell_type": "markdown",
   "id": "54ba201c-b567-44b0-92f4-120701e12b29",
   "metadata": {},
   "source": [
    "### 2. PDF 처리 방법 (pypdf)\n",
    " - https://pypi.org/project/pypdf/"
   ]
  },
  {
   "cell_type": "markdown",
   "id": "566f8db1-b17f-41bd-aa74-7366aa180ca3",
   "metadata": {},
   "source": [
    "### 3. PDF 처리 방법 (pdfplumber)\n",
    " - https://github.com/jsvine/pdfplumber"
   ]
  },
  {
   "cell_type": "code",
   "execution_count": 16,
   "id": "fdfd0bc1-5267-4a21-a6c0-197493bd37ab",
   "metadata": {
    "tags": []
   },
   "outputs": [],
   "source": [
    "from multiprocessing.pool import ThreadPool\n",
    "from multiprocessing import  Manager\n",
    "\n",
    "import pdfplumber\n",
    "import glob"
   ]
  },
  {
   "cell_type": "code",
   "execution_count": 17,
   "id": "a6218e4f-de77-4c25-aa02-7084fd2f73f6",
   "metadata": {
    "tags": []
   },
   "outputs": [],
   "source": [
    "def read_pdf(param):\n",
    "    vector_db = param[0]\n",
    "    current_pdf_file = param[1]\n",
    "    print(f\"current_pdf_file : {current_pdf_file}\")\n",
    "    docs = []\n",
    "    source_name = current_pdf_file.split('/')[-1]\n",
    "    type_name = source_name.split(' ')[-1].replace('.pdf', '')\n",
    "    with pdfplumber.open(current_pdf_file) as my_pdf:\n",
    "        pages = my_pdf.pages\n",
    "        for page in pages:\n",
    "            sentences = page.extract_text()\n",
    "            if len(sentences) >= 20:\n",
    "                chunk = Document(\n",
    "                    page_content=sentences,\n",
    "                    metadata={\n",
    "                        \"source\" : source_name,\n",
    "                        \"type\": type_name,\n",
    "                        \"timestamp\": time.time()\n",
    "                    }\n",
    "                )\n",
    "                # print(f\"chunk : {chunk}\")\n",
    "                docs.append(chunk)\n",
    "    vector_db.add_documents(docs)"
   ]
  },
  {
   "cell_type": "code",
   "execution_count": 18,
   "id": "4e8e4638-2043-49ff-af9e-2ae8584e841c",
   "metadata": {
    "tags": []
   },
   "outputs": [
    {
     "name": "stdout",
     "output_type": "stream",
     "text": [
      "current_pdf_file : ./data/rag_data_kr_pdf/한화생명 간편가입 H튼튼 보장보험_20240101~.pdf\n",
      "current_pdf_file : ./data/rag_data_kr_pdf/한화생명 간편가입 H튼튼 보장보험_20230601~.pdf\n",
      "current_pdf_file : ./data/rag_data_kr_pdf/한화생명 The스마트한 일시납종신보험_20230916~.pdf\n",
      "current_pdf_file : ./data/rag_data_kr_pdf/한화생명 간편가입 웰다잉 종신보험_20240101~.pdf\n",
      "current_pdf_file : ./data/rag_data_kr_pdf/한화생명 The스마트한 일시납종신보험_20240101~.pdf\n",
      "current_pdf_file : ./data/rag_data_kr_pdf/한화생명 The실속있는 간병치매보험_20231209~_1.pdf\n",
      "current_pdf_file : ./data/rag_data_kr_pdf/한화생명 간편가입 웰다잉 종신보험_20230901~.pdf\n",
      "current_pdf_file : ./data/rag_data_kr_pdf/한화생명 간편가입 웰다잉 종신보험_20230916~.pdf\n",
      "current_pdf_file : ./data/rag_data_kr_pdf/한화생명 The실속있는 간병치매보험_20240101~.pdf\n"
     ]
    }
   ],
   "source": [
    "manager = Manager()\n",
    "result_dict = manager.dict()\n",
    "\n",
    "param = [(vector_db, current_pdf_file)for current_pdf_file in glob.glob(\"./data/rag_data_kr_pdf/*.pdf\")]\n",
    "\n",
    "with ThreadPool(processes=4) as pool:\n",
    "    pool.map(read_pdf, param)\n",
    "    pool.close()\n",
    "    pool.join()"
   ]
  },
  {
   "cell_type": "code",
   "execution_count": 19,
   "id": "320f1ada-8158-407a-880f-abcb402acc19",
   "metadata": {
    "scrolled": true,
    "tags": []
   },
   "outputs": [],
   "source": [
    "# import pdfplumber\n",
    "# import glob\n",
    "# from tqdm.auto import tqdm\n",
    "\n",
    "# docs = []\n",
    "# for current_pdf_file in glob.glob(\"./data/rag_data_kr_pdf/*.pdf\"):\n",
    "#     source_name = current_pdf_file.split('/')[-1]\n",
    "#     type_name = source_name.split(' ')[-1].replace('.pdf', '')\n",
    "#     with pdfplumber.open(current_pdf_file) as my_pdf:\n",
    "#         pages = my_pdf.pages\n",
    "#         for page in pages:\n",
    "#             sentences = page.extract_text()\n",
    "#             if len(sentences) >= 20:\n",
    "#                 chunk = Document(\n",
    "#                     page_content=sentences,\n",
    "#                     metadata={\n",
    "#                         \"source\" : source_name,\n",
    "#                         \"type\": type_name,\n",
    "#                         \"timestamp\": time.time()\n",
    "#                     }\n",
    "#                 )\n",
    "#                 docs.append(chunk)\n",
    "#     break"
   ]
  },
  {
   "cell_type": "markdown",
   "id": "fae62975-2e46-44e7-97e4-c14c2bfa632f",
   "metadata": {},
   "source": [
    "## 인덱스 확인"
   ]
  },
  {
   "cell_type": "code",
   "execution_count": 20,
   "id": "14827f89-c54b-440d-ab7f-5bb22eefc313",
   "metadata": {
    "tags": []
   },
   "outputs": [
    {
     "name": "stdout",
     "output_type": "stream",
     "text": [
      "{'genai-demo-index-v1': {'aliases': {},\n",
      "                         'mappings': {'properties': {'metadata': {'properties': {'source': {'type': 'keyword'},\n",
      "                                                                                 'timestamp': {'type': 'float'},\n",
      "                                                                                 'type': {'type': 'keyword'}}},\n",
      "                                                     'text': {'analyzer': 'custom_analyzer',\n",
      "                                                              'fields': {'keyword': {'ignore_above': 256,\n",
      "                                                                                     'type': 'keyword'}},\n",
      "                                                              'type': 'text'},\n",
      "                                                     'vector_field': {'dimension': 1536,\n",
      "                                                                      'method': {'engine': 'faiss',\n",
      "                                                                                 'name': 'hnsw',\n",
      "                                                                                 'parameters': {'ef_construction': 512,\n",
      "                                                                                                'm': 16},\n",
      "                                                                                 'space_type': 'l2'},\n",
      "                                                                      'type': 'knn_vector'}}},\n",
      "                         'settings': {'index': {'analysis': {'analyzer': {'custom_analyzer': {'char_filter': ['html_strip'],\n",
      "                                                                                              'filter': ['nori_number',\n",
      "                                                                                                         'nori_readingform',\n",
      "                                                                                                         'lowercase'],\n",
      "                                                                                              'tokenizer': 'nori',\n",
      "                                                                                              'type': 'custom'}},\n",
      "                                                             'tokenizer': {'nori': {'decompound_mode': 'mixed',\n",
      "                                                                                    'discard_punctuation': 'true',\n",
      "                                                                                    'type': 'nori_tokenizer'}}},\n",
      "                                                'creation_date': '1705642659159',\n",
      "                                                'knn': 'true',\n",
      "                                                'knn.algo_param': {'ef_search': '512'},\n",
      "                                                'number_of_replicas': '2',\n",
      "                                                'number_of_shards': '5',\n",
      "                                                'provided_name': 'genai-demo-index-v1',\n",
      "                                                'replication': {'type': 'DOCUMENT'},\n",
      "                                                'uuid': 'avm0lAS9SaGx8C4DYp6PXw',\n",
      "                                                'version': {'created': '136327827'}}}}}\n"
     ]
    }
   ],
   "source": [
    "index_info = os_client.indices.get(index=index_name)\n",
    "pprint(index_info)"
   ]
  },
  {
   "cell_type": "markdown",
   "id": "ed402bb8-497d-4da6-8a1b-02de77133251",
   "metadata": {},
   "source": [
    "# 4. 키워드 검색"
   ]
  },
  {
   "cell_type": "markdown",
   "id": "a7b559de-eb37-4286-8609-bdfe8ec08cdd",
   "metadata": {
    "tags": []
   },
   "source": [
    "### 'Text\" 에 \"보험\" 단어를 검색합니다."
   ]
  },
  {
   "cell_type": "code",
   "execution_count": 21,
   "id": "2305c9b8-4c14-4e81-b741-91f59506d7c3",
   "metadata": {
    "tags": []
   },
   "outputs": [],
   "source": [
    "from opensearch_dsl import Search"
   ]
  },
  {
   "cell_type": "code",
   "execution_count": 22,
   "id": "32fcdd61-8910-4509-bebc-1e3ab0484fb2",
   "metadata": {
    "tags": []
   },
   "outputs": [],
   "source": [
    "def result_to_dataframe(response):\n",
    "    import pandas as pd\n",
    "\n",
    "    pd.set_option('display.max_columns', 150)\n",
    "    pd.set_option('display.max_colwidth', 200)\n",
    "    result = []\n",
    "    for res in response['hits']['hits']:\n",
    "        # print(res.keys())\n",
    "        result.append([res['_index'], round(res['_score'], 4), res['_source']['metadata']['type'], res['_source']['text']])\n",
    "    return pd.DataFrame(result, columns=['index_name', 'score', 'type', 'text'])"
   ]
  },
  {
   "cell_type": "code",
   "execution_count": 23,
   "id": "58ca704f-e3d7-4f63-b7d6-dd780064a392",
   "metadata": {
    "tags": []
   },
   "outputs": [],
   "source": [
    "def query_lexical(query, filter=[], k=5):\n",
    "    QUERY_TEMPLATE = {\n",
    "        \"size\": k,\n",
    "        \"query\": {\n",
    "            \"bool\": {\n",
    "                \"must\": [\n",
    "                    {\n",
    "                        \"match\": {\n",
    "                            \"text\": {\n",
    "                                \"query\": query,\n",
    "                                \"operator\":  \"or\"\n",
    "                            }\n",
    "                        }\n",
    "                    }\n",
    "                ],\n",
    "                \"filter\": filter\n",
    "            }\n",
    "        }\n",
    "    }\n",
    "    if len(filter) > 0:\n",
    "        QUERY_TEMPLATE[\"query\"][\"bool\"][\"filter\"].extend(filter)\n",
    "    return QUERY_TEMPLATE"
   ]
  },
  {
   "cell_type": "code",
   "execution_count": 25,
   "id": "60636aef-eaba-4636-8b59-91525b05af8e",
   "metadata": {
    "tags": []
   },
   "outputs": [
    {
     "data": {
      "text/html": [
       "<div>\n",
       "<style scoped>\n",
       "    .dataframe tbody tr th:only-of-type {\n",
       "        vertical-align: middle;\n",
       "    }\n",
       "\n",
       "    .dataframe tbody tr th {\n",
       "        vertical-align: top;\n",
       "    }\n",
       "\n",
       "    .dataframe thead th {\n",
       "        text-align: right;\n",
       "    }\n",
       "</style>\n",
       "<table border=\"1\" class=\"dataframe\">\n",
       "  <thead>\n",
       "    <tr style=\"text-align: right;\">\n",
       "      <th></th>\n",
       "      <th>index_name</th>\n",
       "      <th>score</th>\n",
       "      <th>type</th>\n",
       "      <th>text</th>\n",
       "    </tr>\n",
       "  </thead>\n",
       "  <tbody>\n",
       "    <tr>\n",
       "      <th>0</th>\n",
       "      <td>genai-demo-index-v1</td>\n",
       "      <td>30.9541</td>\n",
       "      <td>종신보험_20230901~</td>\n",
       "      <td>4. 상황별 목차 안내\\n계약의 계약에서 쓰이는\\n제2조(용어의 정의)\\n체결 용어를 알고 싶어요\\n제14조(계약 전 알릴 의무)\\n계약 전 알릴 의무는 무엇인가요\\n제15조(계약 전 알릴 의무 위반의 효과)\\n보장이 언제 시작되나요 제24조(제1회 보험료 및 회사의 보장개시)\\n청약을 철회하고 싶어요 제18조(청약의 철회)\\n계약을 취소 할 수 있...</td>\n",
       "    </tr>\n",
       "    <tr>\n",
       "      <th>1</th>\n",
       "      <td>genai-demo-index-v1</td>\n",
       "      <td>30.9541</td>\n",
       "      <td>종신보험_20230916~</td>\n",
       "      <td>4. 상황별 목차 안내\\n계약의 계약에서 쓰이는\\n제2조(용어의 정의)\\n체결 용어를 알고 싶어요\\n제14조(계약 전 알릴 의무)\\n계약 전 알릴 의무는 무엇인가요\\n제15조(계약 전 알릴 의무 위반의 효과)\\n보장이 언제 시작되나요 제24조(제1회 보험료 및 회사의 보장개시)\\n청약을 철회하고 싶어요 제18조(청약의 철회)\\n계약을 취소 할 수 있...</td>\n",
       "    </tr>\n",
       "    <tr>\n",
       "      <th>2</th>\n",
       "      <td>genai-demo-index-v1</td>\n",
       "      <td>29.9808</td>\n",
       "      <td>일시납종신보험_20230916~</td>\n",
       "      <td>(2) 해약환급금 미보증형\\n계약의 계약에서 쓰이는\\n제2조(용어의 정의)\\n체결 용어를 알고 싶어요\\n제14조(계약 전 알릴 의무)\\n계약 전 알릴 의무는 무엇인가요\\n제15조(계약 전 알릴 의무 위반의 효과)\\n제25조(제1회 보험료 및 회사의\\n보장이 언제 시작되나요\\n보장개시)\\n청약을 철회하고 싶어요 제18조(청약의 철회)\\n계약을 취소 할...</td>\n",
       "    </tr>\n",
       "    <tr>\n",
       "      <th>3</th>\n",
       "      <td>genai-demo-index-v1</td>\n",
       "      <td>29.9808</td>\n",
       "      <td>보장보험_20240101~</td>\n",
       "      <td>4. 상황별 목차 안내\\n계약의 계약에서 쓰이는\\n제2조(용어의정의)\\n체결 용어를 알고 싶어요\\n제16조(계약 전 알릴 의무)\\n계약 전 알릴 의무는 무엇인가요\\n제17조(계약 전 알릴 의무 위반의 효과)\\n보장이 언제 시작되나요 제26조(제1회 보험료 및 회사의 보장개시)\\n청약을 철회하고 싶어요 제20조(청약의 철회)\\n계약을 취소 할 수 있나...</td>\n",
       "    </tr>\n",
       "    <tr>\n",
       "      <th>4</th>\n",
       "      <td>genai-demo-index-v1</td>\n",
       "      <td>29.9808</td>\n",
       "      <td>간병치매보험_20231209~_1</td>\n",
       "      <td>4. 상황별 목차 안내\\n계약의 계약에서 쓰이는\\n제2조(용어의 정의)\\n체결 용어를 알고 싶어요\\n제14조(계약 전 알릴 의무)\\n계약 전 알릴 의무는 무엇인가요\\n제15조(계약 전 알릴 의무 위반의 효과)\\n보장이 언제 시작되나요 제24조(제1회 보험료 및 회사의 보장개시)\\n청약을 철회하고 싶어요 제18조(청약의 철회)\\n계약을 취소 할 수 있...</td>\n",
       "    </tr>\n",
       "  </tbody>\n",
       "</table>\n",
       "</div>"
      ],
      "text/plain": [
       "            index_name    score                           type  \\\n",
       "0  genai-demo-index-v1  30.9541          종신보험_20230901~   \n",
       "1  genai-demo-index-v1  30.9541          종신보험_20230916~   \n",
       "2  genai-demo-index-v1  29.9808  일시납종신보험_20230916~   \n",
       "3  genai-demo-index-v1  29.9808           보장보험_20240101~   \n",
       "4  genai-demo-index-v1  29.9808    간병치매보험_20231209~_1   \n",
       "\n",
       "                                                                                                                                                                                                      text  \n",
       "0  4. 상황별 목차 안내\\n계약의 계약에서 쓰이는\\n제2조(용어의 정의)\\n체결 용어를 알고 싶어요\\n제14조(계약 전 알릴 의무)\\n계약 전 알릴 의무는 무엇인가요\\n제15조(계약 전 알릴 의무 위반의 효과)\\n보장이 언제 시작되나요 제24조(제1회 보험료 및 회사의 보장개시)\\n청약을 철회하고 싶어요 제18조(청약의 철회)\\n계약을 취소 할 수 있...  \n",
       "1  4. 상황별 목차 안내\\n계약의 계약에서 쓰이는\\n제2조(용어의 정의)\\n체결 용어를 알고 싶어요\\n제14조(계약 전 알릴 의무)\\n계약 전 알릴 의무는 무엇인가요\\n제15조(계약 전 알릴 의무 위반의 효과)\\n보장이 언제 시작되나요 제24조(제1회 보험료 및 회사의 보장개시)\\n청약을 철회하고 싶어요 제18조(청약의 철회)\\n계약을 취소 할 수 있...  \n",
       "2  (2) 해약환급금 미보증형\\n계약의 계약에서 쓰이는\\n제2조(용어의 정의)\\n체결 용어를 알고 싶어요\\n제14조(계약 전 알릴 의무)\\n계약 전 알릴 의무는 무엇인가요\\n제15조(계약 전 알릴 의무 위반의 효과)\\n제25조(제1회 보험료 및 회사의\\n보장이 언제 시작되나요\\n보장개시)\\n청약을 철회하고 싶어요 제18조(청약의 철회)\\n계약을 취소 할...  \n",
       "3  4. 상황별 목차 안내\\n계약의 계약에서 쓰이는\\n제2조(용어의정의)\\n체결 용어를 알고 싶어요\\n제16조(계약 전 알릴 의무)\\n계약 전 알릴 의무는 무엇인가요\\n제17조(계약 전 알릴 의무 위반의 효과)\\n보장이 언제 시작되나요 제26조(제1회 보험료 및 회사의 보장개시)\\n청약을 철회하고 싶어요 제20조(청약의 철회)\\n계약을 취소 할 수 있나...  \n",
       "4  4. 상황별 목차 안내\\n계약의 계약에서 쓰이는\\n제2조(용어의 정의)\\n체결 용어를 알고 싶어요\\n제14조(계약 전 알릴 의무)\\n계약 전 알릴 의무는 무엇인가요\\n제15조(계약 전 알릴 의무 위반의 효과)\\n보장이 언제 시작되나요 제24조(제1회 보험료 및 회사의 보장개시)\\n청약을 철회하고 싶어요 제18조(청약의 철회)\\n계약을 취소 할 수 있...  "
      ]
     },
     "execution_count": 25,
     "metadata": {},
     "output_type": "execute_result"
    }
   ],
   "source": [
    "query = \"계약 전 의무 사항은 무엇인가요\"\n",
    "\n",
    "response = os_client.search(\n",
    "    body=query_lexical(query),\n",
    "    index=index_name\n",
    ")\n",
    "result_to_dataframe(response)"
   ]
  },
  {
   "cell_type": "markdown",
   "id": "ef366161-656e-4a4a-a800-c7b4a32bdb9e",
   "metadata": {
    "tags": []
   },
   "source": [
    "## 5. Filter 활용\n",
    "- document내 metadata를 활용하여 search space를 줄일 수 있다.\n",
    "- 특히 filter의 경우 search 전에 수행되기 때문에, 검색 속도 향상을 기대할 수 있다\n",
    "- syntax\n",
    "    - filter=[{\"term\"**[고정]**: {\"metadata.source\"**[메타데이터 이름, 혹은 메타데이터 아니여도 상관없음]**: \"신한은행\"**[조건명]**}},]\n",
    "    - list 형식으로 복수개 filter 설정 가능"
   ]
  },
  {
   "cell_type": "code",
   "execution_count": 26,
   "id": "23e178cf-014c-49e2-89e2-9f2191583f17",
   "metadata": {
    "tags": []
   },
   "outputs": [
    {
     "data": {
      "text/html": [
       "<div>\n",
       "<style scoped>\n",
       "    .dataframe tbody tr th:only-of-type {\n",
       "        vertical-align: middle;\n",
       "    }\n",
       "\n",
       "    .dataframe tbody tr th {\n",
       "        vertical-align: top;\n",
       "    }\n",
       "\n",
       "    .dataframe thead th {\n",
       "        text-align: right;\n",
       "    }\n",
       "</style>\n",
       "<table border=\"1\" class=\"dataframe\">\n",
       "  <thead>\n",
       "    <tr style=\"text-align: right;\">\n",
       "      <th></th>\n",
       "      <th>index_name</th>\n",
       "      <th>score</th>\n",
       "      <th>type</th>\n",
       "      <th>text</th>\n",
       "    </tr>\n",
       "  </thead>\n",
       "  <tbody>\n",
       "    <tr>\n",
       "      <th>0</th>\n",
       "      <td>genai-demo-index-v1</td>\n",
       "      <td>29.8904</td>\n",
       "      <td>일시납종신보험_20240101~</td>\n",
       "      <td>(2) 해약환급금 미보증형\\n계약의 계약에서 쓰이는\\n제2조(용어의 정의)\\n체결 용어를 알고 싶어요\\n제14조(계약 전 알릴 의무)\\n계약 전 알릴 의무는 무엇인가요\\n제15조(계약 전 알릴 의무 위반의 효과)\\n제25조(제1회 보험료 및 회사의\\n보장이 언제 시작되나요\\n보장개시)\\n청약을 철회하고 싶어요 제18조(청약의 철회)\\n계약을 취소 할...</td>\n",
       "    </tr>\n",
       "    <tr>\n",
       "      <th>1</th>\n",
       "      <td>genai-demo-index-v1</td>\n",
       "      <td>29.6042</td>\n",
       "      <td>일시납종신보험_20240101~</td>\n",
       "      <td>4. 상황별 목차 안내\\n(1) 해약환급금 보증형\\n계약의 계약에서 쓰이는\\n제2조(용어의정의)\\n체결 용어를 알고 싶어요\\n제14조(계약 전 알릴 의무)\\n계약 전 알릴 의무는 무엇인가요\\n제15조(계약 전 알릴 의무 위반의 효과)\\n보장이 언제 시작되나요 제25조(제1회 보험료 및 회사의 보장개시)\\n청약을 철회하고 싶어요 제18조(청약의 철회)...</td>\n",
       "    </tr>\n",
       "    <tr>\n",
       "      <th>2</th>\n",
       "      <td>genai-demo-index-v1</td>\n",
       "      <td>9.1513</td>\n",
       "      <td>일시납종신보험_20240101~</td>\n",
       "      <td>수 있습니다.\\n제 15 조 계약 전 알릴 의무 위반의 효과\\n① 회사는 계약자 또는 피보험자가 제14조(계약 전 알릴 의무)에도 불구하고 고의 또는 중대한 과실로\\n중요한 사항에 대하여 사실과 다르게 알린 경우에는 회사가 별도로 정하는 방법에 따라 계약을 해지하거\\n나 보장을 제한할 수 있습니다. 그러나 다음 중 한 가지에 해당되는 때에는 계약을 ...</td>\n",
       "    </tr>\n",
       "    <tr>\n",
       "      <th>3</th>\n",
       "      <td>genai-demo-index-v1</td>\n",
       "      <td>8.8277</td>\n",
       "      <td>일시납종신보험_20240101~</td>\n",
       "      <td>【‘계약자의 책임’의 예시】\\n제7조(보험금 지급사유의 발생통지), 제8조(보험금의 청구), 제11조(주소변경통지), 제25조(제1회 보험\\n료 및 회사의 보장개시), 제26조(제2회 이후 보험료의 납입) 등\\n【연대(連帶)】\\n2인 이상의 계약자가 각자 채무의 전부를 이행할 책임을 지는 것을 말하며(지분만큼 분할하여 책임\\n을 지는 것과는 다름),...</td>\n",
       "    </tr>\n",
       "    <tr>\n",
       "      <th>4</th>\n",
       "      <td>genai-demo-index-v1</td>\n",
       "      <td>8.3660</td>\n",
       "      <td>일시납종신보험_20240101~</td>\n",
       "      <td>약관\u0000목차\\n보험약관\u0000가이드북 7\\nⅠ.\u0000약관\u0000이용\u0000안내 8\\nⅡ.\u0000약관\u0000요약서 15\\nⅢ.\u0000보험계약\u0000일반사항 20\\n한화생명\u0000The스마트한\u0000일시납종신보험\u0000무배당[보증비용부과형](해약환급금\u0000보증)\u0000\u0000주계약\u0000약관\u0000[보장형\u0000 25\\n계약,\u0000적립형\u0000계약,\u0000스마트전환형\u0000계약]\u0000\\n제\u00001\u0000관\u0000목적\u0000및\u0000용어의\u0000정의 제\u00001\u0000조\u0000\u0000목적 25\\n제\u00002\u0000조\u0000\u0000용어의\u0000...</td>\n",
       "    </tr>\n",
       "  </tbody>\n",
       "</table>\n",
       "</div>"
      ],
      "text/plain": [
       "            index_name    score                           type  \\\n",
       "0  genai-demo-index-v1  29.8904  일시납종신보험_20240101~   \n",
       "1  genai-demo-index-v1  29.6042  일시납종신보험_20240101~   \n",
       "2  genai-demo-index-v1   9.1513  일시납종신보험_20240101~   \n",
       "3  genai-demo-index-v1   8.8277  일시납종신보험_20240101~   \n",
       "4  genai-demo-index-v1   8.3660  일시납종신보험_20240101~   \n",
       "\n",
       "                                                                                                                                                                                                      text  \n",
       "0  (2) 해약환급금 미보증형\\n계약의 계약에서 쓰이는\\n제2조(용어의 정의)\\n체결 용어를 알고 싶어요\\n제14조(계약 전 알릴 의무)\\n계약 전 알릴 의무는 무엇인가요\\n제15조(계약 전 알릴 의무 위반의 효과)\\n제25조(제1회 보험료 및 회사의\\n보장이 언제 시작되나요\\n보장개시)\\n청약을 철회하고 싶어요 제18조(청약의 철회)\\n계약을 취소 할...  \n",
       "1  4. 상황별 목차 안내\\n(1) 해약환급금 보증형\\n계약의 계약에서 쓰이는\\n제2조(용어의정의)\\n체결 용어를 알고 싶어요\\n제14조(계약 전 알릴 의무)\\n계약 전 알릴 의무는 무엇인가요\\n제15조(계약 전 알릴 의무 위반의 효과)\\n보장이 언제 시작되나요 제25조(제1회 보험료 및 회사의 보장개시)\\n청약을 철회하고 싶어요 제18조(청약의 철회)...  \n",
       "2  수 있습니다.\\n제 15 조 계약 전 알릴 의무 위반의 효과\\n① 회사는 계약자 또는 피보험자가 제14조(계약 전 알릴 의무)에도 불구하고 고의 또는 중대한 과실로\\n중요한 사항에 대하여 사실과 다르게 알린 경우에는 회사가 별도로 정하는 방법에 따라 계약을 해지하거\\n나 보장을 제한할 수 있습니다. 그러나 다음 중 한 가지에 해당되는 때에는 계약을 ...  \n",
       "3  【‘계약자의 책임’의 예시】\\n제7조(보험금 지급사유의 발생통지), 제8조(보험금의 청구), 제11조(주소변경통지), 제25조(제1회 보험\\n료 및 회사의 보장개시), 제26조(제2회 이후 보험료의 납입) 등\\n【연대(連帶)】\\n2인 이상의 계약자가 각자 채무의 전부를 이행할 책임을 지는 것을 말하며(지분만큼 분할하여 책임\\n을 지는 것과는 다름),...  \n",
       "4  약관\u0000목차\\n보험약관\u0000가이드북 7\\nⅠ.\u0000약관\u0000이용\u0000안내 8\\nⅡ.\u0000약관\u0000요약서 15\\nⅢ.\u0000보험계약\u0000일반사항 20\\n한화생명\u0000The스마트한\u0000일시납종신보험\u0000무배당[보증비용부과형](해약환급금\u0000보증)\u0000\u0000주계약\u0000약관\u0000[보장형\u0000 25\\n계약,\u0000적립형\u0000계약,\u0000스마트전환형\u0000계약]\u0000\\n제\u00001\u0000관\u0000목적\u0000및\u0000용어의\u0000정의 제\u00001\u0000조\u0000\u0000목적 25\\n제\u00002\u0000조\u0000\u0000용어의\u0000...  "
      ]
     },
     "execution_count": 26,
     "metadata": {},
     "output_type": "execute_result"
    }
   ],
   "source": [
    "query = \"계약 전 의무 사항은 무엇인가요\"\n",
    "\n",
    "filter = [\n",
    "    {\"term\": {\"metadata.source\": \"한화생명 The스마트한 일시납종신보험_20240101~.pdf\"}},\n",
    "    {\"term\": {\"metadata.type\": \"일시납종신보험_20240101~\"}},\n",
    "]\n",
    "\n",
    "\n",
    "response = os_client.search(\n",
    "    body=query_lexical(query, filter),\n",
    "    index=index_name\n",
    ")\n",
    "result_to_dataframe(response)"
   ]
  },
  {
   "cell_type": "markdown",
   "id": "61bb0cb8-6f3f-4464-a728-a5d3657d6a8e",
   "metadata": {},
   "source": [
    "# 6. 오픈 서치에 \"유사 서치\" 검색\n",
    "- query 를 제공해서 실제로 유사한 내용이 검색이 되는지를 확인 합니다."
   ]
  },
  {
   "cell_type": "code",
   "execution_count": 38,
   "id": "9e02d8d9-e177-4f95-b104-e154622cb971",
   "metadata": {
    "tags": []
   },
   "outputs": [],
   "source": [
    "def query_semantic(vector, filter=[], k=5):\n",
    "    QUERY_TEMPLATE = {\n",
    "        \"size\": k,\n",
    "        \"query\": {\n",
    "            \"bool\": {\n",
    "                \"must\": [\n",
    "                    {\n",
    "                        \"knn\": {\n",
    "                            \"vector_field\": {\n",
    "                                \"vector\": vector,\n",
    "                                \"k\": k \n",
    "                            }\n",
    "                        }\n",
    "                    }\n",
    "                ],\n",
    "                \"filter\": filter\n",
    "            }\n",
    "        }\n",
    "    }\n",
    "    if len(filter) > 0:\n",
    "        QUERY_TEMPLATE[\"query\"][\"bool\"][\"filter\"].extend(filter)\n",
    "    return QUERY_TEMPLATE"
   ]
  },
  {
   "cell_type": "code",
   "execution_count": 39,
   "id": "70a92d0b-e0df-4cf5-ab26-44e1886061db",
   "metadata": {
    "tags": []
   },
   "outputs": [
    {
     "data": {
      "text/html": [
       "<div>\n",
       "<style scoped>\n",
       "    .dataframe tbody tr th:only-of-type {\n",
       "        vertical-align: middle;\n",
       "    }\n",
       "\n",
       "    .dataframe tbody tr th {\n",
       "        vertical-align: top;\n",
       "    }\n",
       "\n",
       "    .dataframe thead th {\n",
       "        text-align: right;\n",
       "    }\n",
       "</style>\n",
       "<table border=\"1\" class=\"dataframe\">\n",
       "  <thead>\n",
       "    <tr style=\"text-align: right;\">\n",
       "      <th></th>\n",
       "      <th>index_name</th>\n",
       "      <th>score</th>\n",
       "      <th>type</th>\n",
       "      <th>text</th>\n",
       "    </tr>\n",
       "  </thead>\n",
       "  <tbody>\n",
       "    <tr>\n",
       "      <th>0</th>\n",
       "      <td>genai-demo-index-v1</td>\n",
       "      <td>0.0054</td>\n",
       "      <td>종신보험_20230901~</td>\n",
       "      <td>게 작성한 때에는 계약을 해지하거나 보장을 제한할 수 있습니다)\\n5. 보험설계사 등이 계약자 또는 피보험자에게 고지할 기회를 주지 않았거나 계약자 또는 피보험자가\\n사실대로 고지하는 것을 방해한 경우, 계약자 또는 피보험자에게 사실대로 고지하지 않게 하였거나\\n부실한 고지를 권유했을 때\\n다만, 보험설계사 등의 행위가 없었다 하더라도 계약자 또는 ...</td>\n",
       "    </tr>\n",
       "    <tr>\n",
       "      <th>1</th>\n",
       "      <td>genai-demo-index-v1</td>\n",
       "      <td>0.0054</td>\n",
       "      <td>종신보험_20230916~</td>\n",
       "      <td>게 작성한 때에는 계약을 해지하거나 보장을 제한할 수 있습니다)\\n5. 보험설계사 등이 계약자 또는 피보험자에게 고지할 기회를 주지 않았거나 계약자 또는 피보험자가\\n사실대로 고지하는 것을 방해한 경우, 계약자 또는 피보험자에게 사실대로 고지하지 않게 하였거나\\n부실한 고지를 권유했을 때\\n다만, 보험설계사 등의 행위가 없었다 하더라도 계약자 또는 ...</td>\n",
       "    </tr>\n",
       "    <tr>\n",
       "      <th>2</th>\n",
       "      <td>genai-demo-index-v1</td>\n",
       "      <td>0.0054</td>\n",
       "      <td>종신보험_20240101~</td>\n",
       "      <td>게 작성한 때에는 계약을 해지하거나 보장을 제한할 수 있습니다)\\n5. 보험설계사 등이 계약자 또는 피보험자에게 고지할 기회를 주지 않았거나 계약자 또는 피보험자가\\n사실대로 고지하는 것을 방해한 경우, 계약자 또는 피보험자에게 사실대로 고지하지 않게 하였거나\\n부실한 고지를 권유했을 때\\n다만, 보험설계사 등의 행위가 없었다 하더라도 계약자 또는 ...</td>\n",
       "    </tr>\n",
       "    <tr>\n",
       "      <th>3</th>\n",
       "      <td>genai-demo-index-v1</td>\n",
       "      <td>0.0053</td>\n",
       "      <td>종신보험_20240101~</td>\n",
       "      <td>를 이용하여 체결하는 계약은 계약자의 동의를 얻어 청약내용, 보험료납입, 보험기간, 계약 전 알릴 의\\n무, 약관의 중요한 내용 등 계약을 체결하는 데 필요한 사항을 질문 또는 설명하는 방법으로 약관의 중\\n요한 내용을 설명할 수 있습니다. 이 경우 계약자의 답변과 확인내용을 음성 녹음함으로써 약관의 중요\\n한 내용을 설명한 것으로 봅니다.\\n【통신...</td>\n",
       "    </tr>\n",
       "    <tr>\n",
       "      <th>4</th>\n",
       "      <td>genai-demo-index-v1</td>\n",
       "      <td>0.0053</td>\n",
       "      <td>종신보험_20230916~</td>\n",
       "      <td>를 이용하여 체결하는 계약은 계약자의 동의를 얻어 청약내용, 보험료납입, 보험기간, 계약 전 알릴 의\\n무, 약관의 중요한 내용 등 계약을 체결하는 데 필요한 사항을 질문 또는 설명하는 방법으로 약관의 중\\n요한 내용을 설명할 수 있습니다. 이 경우 계약자의 답변과 확인내용을 음성 녹음함으로써 약관의 중요\\n한 내용을 설명한 것으로 봅니다.\\n【통신...</td>\n",
       "    </tr>\n",
       "  </tbody>\n",
       "</table>\n",
       "</div>"
      ],
      "text/plain": [
       "            index_name   score                   type  \\\n",
       "0  genai-demo-index-v1  0.0054  종신보험_20230901~   \n",
       "1  genai-demo-index-v1  0.0054  종신보험_20230916~   \n",
       "2  genai-demo-index-v1  0.0054  종신보험_20240101~   \n",
       "3  genai-demo-index-v1  0.0053  종신보험_20240101~   \n",
       "4  genai-demo-index-v1  0.0053  종신보험_20230916~   \n",
       "\n",
       "                                                                                                                                                                                                      text  \n",
       "0  게 작성한 때에는 계약을 해지하거나 보장을 제한할 수 있습니다)\\n5. 보험설계사 등이 계약자 또는 피보험자에게 고지할 기회를 주지 않았거나 계약자 또는 피보험자가\\n사실대로 고지하는 것을 방해한 경우, 계약자 또는 피보험자에게 사실대로 고지하지 않게 하였거나\\n부실한 고지를 권유했을 때\\n다만, 보험설계사 등의 행위가 없었다 하더라도 계약자 또는 ...  \n",
       "1  게 작성한 때에는 계약을 해지하거나 보장을 제한할 수 있습니다)\\n5. 보험설계사 등이 계약자 또는 피보험자에게 고지할 기회를 주지 않았거나 계약자 또는 피보험자가\\n사실대로 고지하는 것을 방해한 경우, 계약자 또는 피보험자에게 사실대로 고지하지 않게 하였거나\\n부실한 고지를 권유했을 때\\n다만, 보험설계사 등의 행위가 없었다 하더라도 계약자 또는 ...  \n",
       "2  게 작성한 때에는 계약을 해지하거나 보장을 제한할 수 있습니다)\\n5. 보험설계사 등이 계약자 또는 피보험자에게 고지할 기회를 주지 않았거나 계약자 또는 피보험자가\\n사실대로 고지하는 것을 방해한 경우, 계약자 또는 피보험자에게 사실대로 고지하지 않게 하였거나\\n부실한 고지를 권유했을 때\\n다만, 보험설계사 등의 행위가 없었다 하더라도 계약자 또는 ...  \n",
       "3  를 이용하여 체결하는 계약은 계약자의 동의를 얻어 청약내용, 보험료납입, 보험기간, 계약 전 알릴 의\\n무, 약관의 중요한 내용 등 계약을 체결하는 데 필요한 사항을 질문 또는 설명하는 방법으로 약관의 중\\n요한 내용을 설명할 수 있습니다. 이 경우 계약자의 답변과 확인내용을 음성 녹음함으로써 약관의 중요\\n한 내용을 설명한 것으로 봅니다.\\n【통신...  \n",
       "4  를 이용하여 체결하는 계약은 계약자의 동의를 얻어 청약내용, 보험료납입, 보험기간, 계약 전 알릴 의\\n무, 약관의 중요한 내용 등 계약을 체결하는 데 필요한 사항을 질문 또는 설명하는 방법으로 약관의 중\\n요한 내용을 설명할 수 있습니다. 이 경우 계약자의 답변과 확인내용을 음성 녹음함으로써 약관의 중요\\n한 내용을 설명한 것으로 봅니다.\\n【통신...  "
      ]
     },
     "execution_count": 39,
     "metadata": {},
     "output_type": "execute_result"
    }
   ],
   "source": [
    "query = \"계약 전 의무 사항은 무엇인가요\"\n",
    "\n",
    "response = os_client.search(\n",
    "    body=query_semantic(llm_emb.embed_query(query)),\n",
    "    index=index_name\n",
    ")\n",
    "result_to_dataframe(response)"
   ]
  },
  {
   "cell_type": "markdown",
   "id": "bd365f81-d6f4-47d6-9fd2-e3452ed900c9",
   "metadata": {},
   "source": [
    "- langchain의 similarity_search_with_score API를 활용하는 방법\n",
    "    - [API: similarity_search_with_score](https://api.python.langchain.com/en/latest/vectorstores/langchain.vectorstores.opensearch_vector_search.OpenSearchVectorSearch.html#langchain.vectorstores.opensearch_vector_search.OpenSearchVectorSearch.similarity_search)\n"
   ]
  },
  {
   "cell_type": "code",
   "execution_count": 40,
   "id": "fe18b33c-8ed6-4023-acfd-abcc612b9b84",
   "metadata": {
    "tags": []
   },
   "outputs": [],
   "source": [
    "from langchain.chains.question_answering import load_qa_chain"
   ]
  },
  {
   "cell_type": "code",
   "execution_count": 41,
   "id": "0b5b7dc7-6ad2-4921-b214-a34412a52eb1",
   "metadata": {
    "tags": []
   },
   "outputs": [],
   "source": [
    "# search_types = [\"approximate_search\", \"script_scoring\", \"painless_scripting\"]\n",
    "# space_types = [\"l2\", \"l1\", \"linf\", \"cosinesimil\", \"innerproduct\", \"hammingbit\"]\n",
    "results = vector_db.similarity_search_with_score(\n",
    "    query=query,\n",
    "    k=5,\n",
    "    search_type=\"approximate_search\",\n",
    "    space_type=\"l2\",\n",
    "    boolean_filter={\n",
    "        \"bool\": {\n",
    "            \"filter\": []\n",
    "        }\n",
    "    }\n",
    ")"
   ]
  },
  {
   "cell_type": "code",
   "execution_count": 42,
   "id": "fafc7e5d-66ad-4c32-a3c6-236b70da9581",
   "metadata": {
    "tags": []
   },
   "outputs": [
    {
     "data": {
      "text/plain": [
       "[(Document(page_content='게 작성한 때에는 계약을 해지하거나 보장을 제한할 수 있습니다)\\n5. 보험설계사 등이 계약자 또는 피보험자에게 고지할 기회를 주지 않았거나 계약자 또는 피보험자가\\n사실대로 고지하는 것을 방해한 경우, 계약자 또는 피보험자에게 사실대로 고지하지 않게 하였거나\\n부실한 고지를 권유했을 때\\n다만, 보험설계사 등의 행위가 없었다 하더라도 계약자 또는 피보험자가 사실대로 고지하지 않거나\\n부실한 고지를 했다고 인정되는 경우에는 계약을 해지하거나 보장을 제한할 수 있습니다.\\n② 회사는 제1항에 따라 계약을 해지하거나 보장을 제한할 경우에는 계약 전 알릴 의무 위반사실(계약\\n해지 등의 원인이 되는 위반사실을 구체적으로 명시)뿐만 아니라 계약 전 알릴 의무 사항이 중요한 사\\n항에 해당되는 사유 및 계약의 처리결과를 “반대증거가 있는 경우 이의를 제기할 수 있습니다”라는 문\\n구와 함께 계약자에게 서면 또는 전자문서 등으로 알려 드립니다. 회사가 전자문서로 안내하고자 할 경\\n우에는 계약자에게 서면 또는 「전자서명법」 제2조 제2호에 따른 전자서명으로 동의를 얻어 수신확인을\\n조건으로 전자문서를 송신하여야 합니다. 계약자의 전자문서 수신이 확인되기 전까지는 그 전자문서는\\n송신되지 않은 것으로 봅니다. 회사는 전자문서가 수신되지 않은 것을 확인한 경우에는 서면(등기우편\\n등)으로 다시 알려드립니다.\\n③ 제1항에 따라 계약을 해지하였을 때에는 제33조(해약환급금) 제1항 및 제2항에 따른 해약환급금을\\n드리며, 보장을 제한하였을 때에는 보험료, 보험가입금액 등이 조정될 수 있습니다.\\n④ 제14조(계약 전 알릴 의무)의 계약 전 알릴 의무를 위반한 사실이 보험금 지급사유 발생에 영향을\\n미쳤음을 회사가 증명하지 못한 경우에는 제1항에도 불구하고 계약의 해지 또는 보장을 제한하기 이전\\n까지 발생한 해당 보험금을 지급합니다.\\n⑤ 회사는 다른 보험가입내역에 대한 계약 전 알릴 의무 위반을 이유로 계약을 해지하거나 보험금 지급\\n을 거절하지 않습니다.\\n【계약 전 알릴 의무 위반 사례】\\n계약을 청약하면서 보험설계사에게 암이 있다고만 이야기하였을 뿐, 청약서의 계약 전 알릴 사항에 아\\n무런 기재도 하지 않을 경우에는 보험설계사에게 암 병력을 이야기하였다고 하더라도 회사는 계약 전\\n알릴 의무 위반을 이유로 계약을 해지하고 보험금을 지급하지 않을 수 있습니다.\\n제 16 조 사기에 의한 계약\\n① 계약자 또는 피보험자가 대리진단, 약물사용을 수단으로 진단절차를 통과하거나 진단서 위·변조 또는\\n청약일 이전에 암 또는 인간면역결핍바이러스(HIV) 감염의 진단 확정을 받은 후 이를 숨기고 가입하는\\n등의 뚜렷한 사기의사에 의하여 계약이 성립되었음을 회사가 증명하는 경우에는 보장개시일부터 5년 이\\n내(사기사실을 안 날부터는 1개월 이내)에 계약을 취소할 수 있습니다.\\n② 제1항에 따라 계약이 취소된 경우에는 회사는 계약자에게 이미 납입한 보험료를 돌려드립니다.\\n③ 보험료 납입이 면제된 경우, 제2항의 ‘이미 납입한 보험료’는 계약자가 실제로 납입한 보험료로 합니\\n다.\\n제 4 관 보험계약의 성립과 유지\\n제 17 조 보험계약의 성립\\n① 계약은 계약자의 청약(請約)과 회사의 승낙(承諾)으로 이루어집니다.\\n② 회사는 피보험자가 계약에 적합하지 않은 경우에는 승낙을 거절하거나 별도의 조건(보험가입금액 제\\n한, 일부보장 제외, 보험금 삭감, 보험료 할증 등)을 붙여 승낙할 수 있습니다.\\n③ 회사는 계약의 청약을 받고, 제1회 보험료를 받은 경우에 건강진단을 받지 않는 계약은 청약일, 진단\\n계약은 진단일(재진단의 경우에는 최종 진단일)부터 30일 이내에 승낙 또는 거절하여야 하며, 승낙한 때\\n에는 보험증권을 드립니다. 그러나 30일 이내에 승낙 또는 거절의 통지가 없으면 승낙된 것으로 봅니다.\\n④ 회사가 제1회 보험료를 받고 승낙을 거절한 경우에는 거절통지와 함께 받은 금액을 돌려 드리며, 보\\n험료를 받은 기간에 대하여 평균공시이율+1%를 연단위 복리로 계산한 금액을 더하여 지급합니다. 다만,\\n45\\x00/\\x00165', metadata={'source': '한화생명 간편가입 웰다잉 종신보험_20230901~.pdf', 'type': '종신보험_20230901~', 'timestamp': 1705642986.4487002}),\n",
       "  0.0054428717),\n",
       " (Document(page_content='게 작성한 때에는 계약을 해지하거나 보장을 제한할 수 있습니다)\\n5. 보험설계사 등이 계약자 또는 피보험자에게 고지할 기회를 주지 않았거나 계약자 또는 피보험자가\\n사실대로 고지하는 것을 방해한 경우, 계약자 또는 피보험자에게 사실대로 고지하지 않게 하였거나\\n부실한 고지를 권유했을 때\\n다만, 보험설계사 등의 행위가 없었다 하더라도 계약자 또는 피보험자가 사실대로 고지하지 않거나\\n부실한 고지를 했다고 인정되는 경우에는 계약을 해지하거나 보장을 제한할 수 있습니다.\\n② 회사는 제1항에 따라 계약을 해지하거나 보장을 제한할 경우에는 계약 전 알릴 의무 위반사실(계약\\n해지 등의 원인이 되는 위반사실을 구체적으로 명시)뿐만 아니라 계약 전 알릴 의무 사항이 중요한 사\\n항에 해당되는 사유 및 계약의 처리결과를 “반대증거가 있는 경우 이의를 제기할 수 있습니다”라는 문\\n구와 함께 계약자에게 서면 또는 전자문서 등으로 알려 드립니다. 회사가 전자문서로 안내하고자 할 경\\n우에는 계약자에게 서면 또는 「전자서명법」 제2조 제2호에 따른 전자서명으로 동의를 얻어 수신확인을\\n조건으로 전자문서를 송신하여야 합니다. 계약자의 전자문서 수신이 확인되기 전까지는 그 전자문서는\\n송신되지 않은 것으로 봅니다. 회사는 전자문서가 수신되지 않은 것을 확인한 경우에는 서면(등기우편\\n등)으로 다시 알려드립니다.\\n③ 제1항에 따라 계약을 해지하였을 때에는 제33조(해약환급금) 제1항 및 제2항에 따른 해약환급금을\\n드리며, 보장을 제한하였을 때에는 보험료, 보험가입금액 등이 조정될 수 있습니다.\\n④ 제14조(계약 전 알릴 의무)의 계약 전 알릴 의무를 위반한 사실이 보험금 지급사유 발생에 영향을\\n미쳤음을 회사가 증명하지 못한 경우에는 제1항에도 불구하고 계약의 해지 또는 보장을 제한하기 이전\\n까지 발생한 해당 보험금을 지급합니다.\\n⑤ 회사는 다른 보험가입내역에 대한 계약 전 알릴 의무 위반을 이유로 계약을 해지하거나 보험금 지급\\n을 거절하지 않습니다.\\n【계약 전 알릴 의무 위반 사례】\\n계약을 청약하면서 보험설계사에게 암이 있다고만 이야기하였을 뿐, 청약서의 계약 전 알릴 사항에 아\\n무런 기재도 하지 않을 경우에는 보험설계사에게 암 병력을 이야기하였다고 하더라도 회사는 계약 전\\n알릴 의무 위반을 이유로 계약을 해지하고 보험금을 지급하지 않을 수 있습니다.\\n제 16 조 사기에 의한 계약\\n① 계약자 또는 피보험자가 대리진단, 약물사용을 수단으로 진단절차를 통과하거나 진단서 위·변조 또는\\n청약일 이전에 암 또는 인간면역결핍바이러스(HIV) 감염의 진단 확정을 받은 후 이를 숨기고 가입하는\\n등의 뚜렷한 사기의사에 의하여 계약이 성립되었음을 회사가 증명하는 경우에는 보장개시일부터 5년 이\\n내(사기사실을 안 날부터는 1개월 이내)에 계약을 취소할 수 있습니다.\\n② 제1항에 따라 계약이 취소된 경우에는 회사는 계약자에게 이미 납입한 보험료를 돌려드립니다.\\n③ 보험료 납입이 면제된 경우, 제2항의 ‘이미 납입한 보험료’는 계약자가 실제로 납입한 보험료로 합니\\n다.\\n제 4 관 보험계약의 성립과 유지\\n제 17 조 보험계약의 성립\\n① 계약은 계약자의 청약(請約)과 회사의 승낙(承諾)으로 이루어집니다.\\n② 회사는 피보험자가 계약에 적합하지 않은 경우에는 승낙을 거절하거나 별도의 조건(보험가입금액 제\\n한, 일부보장 제외, 보험금 삭감, 보험료 할증 등)을 붙여 승낙할 수 있습니다.\\n③ 회사는 계약의 청약을 받고, 제1회 보험료를 받은 경우에 건강진단을 받지 않는 계약은 청약일, 진단\\n계약은 진단일(재진단의 경우에는 최종 진단일)부터 30일 이내에 승낙 또는 거절하여야 하며, 승낙한 때\\n에는 보험증권을 드립니다. 그러나 30일 이내에 승낙 또는 거절의 통지가 없으면 승낙된 것으로 봅니다.\\n④ 회사가 제1회 보험료를 받고 승낙을 거절한 경우에는 거절통지와 함께 받은 금액을 돌려 드리며, 보\\n험료를 받은 기간에 대하여 평균공시이율+1%를 연단위 복리로 계산한 금액을 더하여 지급합니다. 다만,\\n45\\x00/\\x00165', metadata={'source': '한화생명 간편가입 웰다잉 종신보험_20230916~.pdf', 'type': '종신보험_20230916~', 'timestamp': 1705642997.7209675}),\n",
       "  0.0054428717),\n",
       " (Document(page_content='게 작성한 때에는 계약을 해지하거나 보장을 제한할 수 있습니다)\\n5. 보험설계사 등이 계약자 또는 피보험자에게 고지할 기회를 주지 않았거나 계약자 또는 피보험자가\\n사실대로 고지하는 것을 방해한 경우, 계약자 또는 피보험자에게 사실대로 고지하지 않게 하였거나\\n부실한 고지를 권유했을 때\\n다만, 보험설계사 등의 행위가 없었다 하더라도 계약자 또는 피보험자가 사실대로 고지하지 않거나\\n부실한 고지를 했다고 인정되는 경우에는 계약을 해지하거나 보장을 제한할 수 있습니다.\\n② 회사는 제1항에 따라 계약을 해지하거나 보장을 제한할 경우에는 계약 전 알릴 의무 위반사실(계약\\n해지 등의 원인이 되는 위반사실을 구체적으로 명시)뿐만 아니라 계약 전 알릴 의무 사항이 중요한 사\\n항에 해당되는 사유 및 계약의 처리결과를 “반대증거가 있는 경우 이의를 제기할 수 있습니다”라는 문\\n구와 함께 계약자에게 서면 또는 전자문서 등으로 알려 드립니다. 회사가 전자문서로 안내하고자 할 경\\n우에는 계약자에게 서면 또는 「전자서명법」 제2조 제2호에 따른 전자서명으로 동의를 얻어 수신확인을\\n조건으로 전자문서를 송신하여야 합니다. 계약자의 전자문서 수신이 확인되기 전까지는 그 전자문서는\\n송신되지 않은 것으로 봅니다. 회사는 전자문서가 수신되지 않은 것을 확인한 경우에는 서면(등기우편\\n등)으로 다시 알려드립니다.\\n③ 제1항에 따라 계약을 해지하였을 때에는 제33조(해약환급금) 제1항 및 제2항에 따른 해약환급금을\\n드리며, 보장을 제한하였을 때에는 보험료, 보험가입금액 등이 조정될 수 있습니다.\\n④ 제14조(계약 전 알릴 의무)의 계약 전 알릴 의무를 위반한 사실이 보험금 지급사유 발생에 영향을\\n미쳤음을 회사가 증명하지 못한 경우에는 제1항에도 불구하고 계약의 해지 또는 보장을 제한하기 이전\\n까지 발생한 해당 보험금을 지급합니다.\\n⑤ 회사는 다른 보험가입내역에 대한 계약 전 알릴 의무 위반을 이유로 계약을 해지하거나 보험금 지급\\n을 거절하지 않습니다.\\n【계약 전 알릴 의무 위반 사례】\\n계약을 청약하면서 보험설계사에게 암이 있다고만 이야기하였을 뿐, 청약서의 계약 전 알릴 사항에 아\\n무런 기재도 하지 않을 경우에는 보험설계사에게 암 병력을 이야기하였다고 하더라도 회사는 계약 전\\n알릴 의무 위반을 이유로 계약을 해지하고 보험금을 지급하지 않을 수 있습니다.\\n제 16 조 사기에 의한 계약\\n① 계약자 또는 피보험자가 대리진단, 약물사용을 수단으로 진단절차를 통과하거나 진단서 위·변조 또는\\n청약일 이전에 암 또는 인간면역결핍바이러스(HIV) 감염의 진단 확정을 받은 후 이를 숨기고 가입하는\\n등의 뚜렷한 사기의사에 의하여 계약이 성립되었음을 회사가 증명하는 경우에는 보장개시일부터 5년 이\\n내(사기사실을 안 날부터는 1개월 이내)에 계약을 취소할 수 있습니다.\\n② 제1항에 따라 계약이 취소된 경우에는 회사는 계약자에게 이미 납입한 보험료를 돌려드립니다.\\n③ 보험료 납입이 면제된 경우, 제2항의 ‘이미 납입한 보험료’는 계약자가 실제로 납입한 보험료로 합니\\n다.\\n제 4 관 보험계약의 성립과 유지\\n제 17 조 보험계약의 성립\\n① 계약은 계약자의 청약(請約)과 회사의 승낙(承諾)으로 이루어집니다.\\n② 회사는 피보험자가 계약에 적합하지 않은 경우에는 승낙을 거절하거나 별도의 조건(보험가입금액 제\\n한, 일부보장 제외, 보험금 삭감, 보험료 할증 등)을 붙여 승낙할 수 있습니다.\\n③ 회사는 계약의 청약을 받고, 제1회 보험료를 받은 경우에 건강진단을 받지 않는 계약은 청약일, 진단\\n계약은 진단일(재진단의 경우에는 최종 진단일)부터 30일 이내에 승낙 또는 거절하여야 하며, 승낙한 때\\n에는 보험증권을 드립니다. 그러나 30일 이내에 승낙 또는 거절의 통지가 없으면 승낙된 것으로 봅니다.\\n④ 회사가 제1회 보험료를 받고 승낙을 거절한 경우에는 거절통지와 함께 받은 금액을 돌려 드리며, 보\\n험료를 받은 기간에 대하여 평균공시이율+1%를 연단위 복리로 계산한 금액을 더하여 지급합니다. 다만,\\n45\\x00/\\x00179', metadata={'source': '한화생명 간편가입 웰다잉 종신보험_20240101~.pdf', 'type': '종신보험_20240101~', 'timestamp': 1705642702.1088817}),\n",
       "  0.0054417322)]"
      ]
     },
     "execution_count": 42,
     "metadata": {},
     "output_type": "execute_result"
    }
   ],
   "source": [
    "results[:3]"
   ]
  },
  {
   "cell_type": "markdown",
   "id": "5b4660f6-90b1-423c-9209-143afe28d6ec",
   "metadata": {},
   "source": [
    "# 7.사용자 정의 가능한 옵션\n",
    "이제 벡터 저장소가 준비되었으므로 질문을 시작할 수 있습니다.\n",
    "\n",
    "Vector Store를 둘러싸서 LLM 입력을 받는 LangChain에서 제공하는 래퍼를 사용할 수 있습니다.\n",
    "이 래퍼는 뒤에서 다음 단계를 수행합니다.\n",
    "- 질문을 입력합니다.\n",
    "- 질문 임베딩 생성\n",
    "- 관련 문서 가져오기\n",
    "- 프롬프트에 문서와 질문을 채워 넣습니다.\n",
    "- 프롬프트로 모델을 호출하고 사람이 읽을 수 있는 방식으로 답변을 생성합니다.\n",
    "\n",
    "위 시나리오에서는 질문에 대한 상황 인식 답변을 빠르고 쉽게 얻을 수 있는 방법을 탐색했습니다. 이제 문서를 가져오는 방법을 사용자 정의할 수 있는 [RetrievalQA](https://python.langchain.com/en/latest/modules/chains/index_examples/Vector_db_qa.html)의 도움으로 더 사용자 정의 가능한 옵션을 살펴보겠습니다. `chain_type` 매개변수를 사용하여 프롬프트에 추가해야 합니다. 또한 검색해야 하는 관련 문서 수를 제어하려면 아래 셀에서 'k' 매개변수를 변경하여 다른 출력을 확인하세요. 많은 시나리오에서 LLM이 답변을 생성하는 데 사용한 소스 문서가 무엇인지 알고 싶을 수 있습니다. LLM 프롬프트의 컨텍스트에 추가된 문서를 반환하는 `return_source_documents`를 사용하여 출력에서 ​​해당 문서를 가져올 수 있습니다. 'RetrievalQA'를 사용하면 모델에 특정한 사용자 정의 [프롬프트 템플릿](https://python.langchain.com/en/latest/modules/prompts/prompt_templates/getting_started.html)을 제공할 수도 있습니다.\n",
    "\n",
    "참고: 이 예에서는 Amazon Bedrock에서 LLM으로 Anthropic Claude를 사용하고 있습니다. 이 특정 모델은 입력이 'Human:' 아래에 제공되고 모델이 'Assistant:' 다음에 출력을 생성하도록 요청되는 경우 가장 잘 수행됩니다. 아래 셀에는 LLM이 기본 상태를 유지하고 컨텍스트 외부에서 응답하지 않도록 프롬프트를 제어하는 ​​방법의 예가 나와 있습니다."
   ]
  },
  {
   "cell_type": "markdown",
   "id": "273e3f99-3016-410b-939e-33f7821fe5d3",
   "metadata": {},
   "source": [
    "### [[REF] Using langchain for Question Answering on Own Data](https://medium.com/@onkarmishra/using-langchain-for-question-answering-on-own-data-3af0a82789ed)"
   ]
  },
  {
   "cell_type": "code",
   "execution_count": 43,
   "id": "0af45b12-c497-4496-8b5d-91e28d8a0491",
   "metadata": {
    "tags": []
   },
   "outputs": [],
   "source": [
    "from langchain.schema import BaseRetriever\n",
    "from typing import Any, Dict, List, Optional, List, Tuple\n",
    "from langchain.callbacks.manager import CallbackManagerForRetrieverRun\n",
    "\n",
    "# lexical(keyword) search based (using Amazon OpenSearch)\n",
    "class OpenSearchLexicalSearchRetriever(BaseRetriever):\n",
    "    os_client: Any\n",
    "    index_name: str\n",
    "    k = 3\n",
    "    filter = []\n",
    "\n",
    "    def normalize_search_results(self, search_results):\n",
    "        hits = (search_results[\"hits\"][\"hits\"])\n",
    "        max_score = float(search_results[\"hits\"][\"max_score\"])\n",
    "        for hit in hits:\n",
    "            hit[\"_score\"] = float(hit[\"_score\"]) / max_score\n",
    "        search_results[\"hits\"][\"max_score\"] = hits[0][\"_score\"]\n",
    "        search_results[\"hits\"][\"hits\"] = hits\n",
    "        return search_results\n",
    "\n",
    "    def update_search_params(self, **kwargs):\n",
    "        self.k = kwargs.get(\"k\", 3)\n",
    "        self.filter = kwargs.get(\"filter\", [])\n",
    "        self.index_name = kwargs.get(\"index_name\", self.index_name)\n",
    "\n",
    "    def _reset_search_params(self, ):\n",
    "        self.k = 3\n",
    "        self.filter = []\n",
    "        \n",
    "    def query_lexical(self, query, filter=[], k=5):\n",
    "        QUERY_TEMPLATE = {\n",
    "            \"size\": k,\n",
    "            \"query\": {\n",
    "                \"bool\": {\n",
    "                    \"must\": [\n",
    "                        {\n",
    "                            \"match\": {\n",
    "                                \"text\": {\n",
    "                                    \"query\": query,\n",
    "                                    \"operator\":  \"or\"\n",
    "                                }\n",
    "                            }\n",
    "                        }\n",
    "                    ],\n",
    "                    \"filter\": filter\n",
    "                }\n",
    "            }\n",
    "        }\n",
    "        \n",
    "        if len(filter) > 0:\n",
    "            QUERY_TEMPLATE[\"query\"][\"bool\"][\"filter\"].extend(filter)\n",
    "            \n",
    "        return QUERY_TEMPLATE\n",
    "    \n",
    "\n",
    "    def _get_relevant_documents(\n",
    "        self, query: str, *, run_manager: CallbackManagerForRetrieverRun) -> List[Document]:\n",
    "        \n",
    "        query = self.query_lexical(\n",
    "            query=query,\n",
    "            filter=self.filter,\n",
    "            k=self.k\n",
    "        )\n",
    "\n",
    "        # print (\"lexical search query: \")\n",
    "        # print(query)\n",
    "        \n",
    "        search_results = self.os_client.search(\n",
    "            body=query,\n",
    "            index=self.index_name\n",
    "        )\n",
    "\n",
    "        results = []\n",
    "        if search_results[\"hits\"][\"hits\"]:\n",
    "            search_results = self.normalize_search_results(search_results)\n",
    "            for res in search_results[\"hits\"][\"hits\"]:\n",
    "\n",
    "                metadata = res[\"_source\"][\"metadata\"]\n",
    "                metadata[\"id\"] = res[\"_id\"]\n",
    "\n",
    "                doc = Document(\n",
    "                    page_content=res[\"_source\"][\"text\"],\n",
    "                    metadata=metadata\n",
    "                )\n",
    "                results.append((doc))\n",
    "\n",
    "        self._reset_search_params()\n",
    "\n",
    "        return results[:self.k]\n"
   ]
  },
  {
   "cell_type": "code",
   "execution_count": 44,
   "id": "6a1a82af-e218-4504-8073-91e40a46c5e2",
   "metadata": {
    "tags": []
   },
   "outputs": [],
   "source": [
    "from langchain.chains import RetrievalQA\n",
    "from langchain.prompts import PromptTemplate\n",
    "from utils.rag import run_RetrievalQA, show_context_used"
   ]
  },
  {
   "cell_type": "code",
   "execution_count": 45,
   "id": "c0cc9871-9693-4fef-9f77-d8a1aa929475",
   "metadata": {
    "tags": []
   },
   "outputs": [],
   "source": [
    "# prompt_template = \"\"\"\n",
    "# \\n\\nHuman: 다음 문맥의 Information을 사용하여 고객 서비스 센터 직원처럼, 마지막 질문에 대한 목차 형식으로 답변을 제공하세요. 응답을 모르면 모른다고 말하고 응답을 만들려고 하지 마세요.\n",
    "\n",
    "# {context}\n",
    "\n",
    "# Question: {question}\n",
    "# \\n\\nAssistant:\"\"\"\n",
    "\n",
    "prompt_template = \"\"\"\n",
    "\\n\\nHuman: Use the following pieces of context to provide a concise answer to the question at the end.\n",
    "If you don't know the answer, just say that you don't know, don't try to make up an answer.\n",
    "\n",
    "{context}\n",
    "\n",
    "Question: {question}\n",
    "\n",
    "\\n\\nAssistant:\"\"\"\n",
    "\n",
    "\n",
    "PROMPT = PromptTemplate(\n",
    "    template=prompt_template,\n",
    "    input_variables=[\"context\", \"question\"]\n",
    ")"
   ]
  },
  {
   "cell_type": "code",
   "execution_count": 46,
   "id": "0d0bfe29-176d-4356-982e-2babfa7dd756",
   "metadata": {
    "tags": []
   },
   "outputs": [],
   "source": [
    "chain = load_qa_chain(\n",
    "    llm=llm_text,\n",
    "    chain_type=\"stuff\",\n",
    "    prompt=PROMPT,\n",
    "    verbose=True\n",
    ")"
   ]
  },
  {
   "cell_type": "code",
   "execution_count": 47,
   "id": "e39efd83-a928-4f35-9219-65aa89548fcf",
   "metadata": {
    "tags": []
   },
   "outputs": [],
   "source": [
    "boolean_filter = []\n",
    "boolean_filter = [\n",
    "    {\"term\": {\"metadata.source\": \"한화생명 The스마트한 일시납종신보험_20240101~.pdf\"}},\n",
    "    {\"term\": {\"metadata.type\": \"일시납종신보험_20240101~\"}},\n",
    "]"
   ]
  },
  {
   "cell_type": "code",
   "execution_count": 48,
   "id": "32ae3ed7-32bd-4247-929d-0179bc119034",
   "metadata": {
    "tags": []
   },
   "outputs": [],
   "source": [
    "opensearch_lexical_retriever = OpenSearchLexicalSearchRetriever(\n",
    "    os_client=os_client,\n",
    "    index_name=index_name,\n",
    "    k=3,\n",
    "    filter=boolean_filter\n",
    ")"
   ]
  },
  {
   "cell_type": "code",
   "execution_count": 49,
   "id": "6323abc4-fd9c-43c1-9972-3030d39d1a0f",
   "metadata": {
    "tags": []
   },
   "outputs": [
    {
     "name": "stdout",
     "output_type": "stream",
     "text": [
      "self.input_keys : ['input_documents', 'question']\n",
      "\n",
      "\n",
      "\u001b[1m> Entering new StuffDocumentsChain chain...\u001b[0m\n",
      "self.input_keys : ['context', 'question']\n",
      "\n",
      "\n",
      "\u001b[1m> Entering new LLMChain chain...\u001b[0m\n",
      "Prompt after formatting:\n",
      "\u001b[32;1m\u001b[1;3m\n",
      "\n",
      "\n",
      "Human: Use the following pieces of context to provide a concise answer to the question at the end.\n",
      "If you don't know the answer, just say that you don't know, don't try to make up an answer.\n",
      "\n",
      "(2) 해약환급금 미보증형\n",
      "계약의 계약에서 쓰이는\n",
      "제2조(용어의 정의)\n",
      "체결 용어를 알고 싶어요\n",
      "제14조(계약 전 알릴 의무)\n",
      "계약 전 알릴 의무는 무엇인가요\n",
      "제15조(계약 전 알릴 의무 위반의 효과)\n",
      "제25조(제1회 보험료 및 회사의\n",
      "보장이 언제 시작되나요\n",
      "보장개시)\n",
      "청약을 철회하고 싶어요 제18조(청약의 철회)\n",
      "계약을 취소 할 수 있나요 제19조(약관교부 및 설명의무 등)\n",
      "계약이 무효가 될 수 있나요 제20조(계약의 무효)\n",
      "보험료의 보험료 납입면제\n",
      "제5조(보험금 지급에 관한 세부규정)\n",
      "납입 사유를 알고 싶어요\n",
      "보험료 납입최고(독촉)이 제28조(보험료의 납입이 연체되는 경우\n",
      "무엇인가요 납입최고(독촉)와 계약의 해지)\n",
      "제29조(보험료의 납입연체로 인하여\n",
      "해지된 계약을 살리고 싶어요\n",
      "해지된 계약의 부활(효력회복))\n",
      "보험금의 제4조(보험금의 지급사유),\n",
      "보험금을 받을 수 있는지 궁금해요\n",
      "지급 제6조(보험금을 지급하지 않는 사유)\n",
      "제8조(보험금의 청구),\n",
      "보험금은 언제 지급되나요\n",
      "제9조(보험금의 지급절차)\n",
      "11\u0000/\u0000249\n",
      "\n",
      "4. 상황별 목차 안내\n",
      "(1) 해약환급금 보증형\n",
      "계약의 계약에서 쓰이는\n",
      "제2조(용어의정의)\n",
      "체결 용어를 알고 싶어요\n",
      "제14조(계약 전 알릴 의무)\n",
      "계약 전 알릴 의무는 무엇인가요\n",
      "제15조(계약 전 알릴 의무 위반의 효과)\n",
      "보장이 언제 시작되나요 제25조(제1회 보험료 및 회사의 보장개시)\n",
      "청약을 철회하고 싶어요 제18조(청약의 철회)\n",
      "계약을 취소 할 수 있나요 제19조(약관교부 및 설명의무 등)\n",
      "계약이 무효가 될 수 있나요 제20조(계약의 무효)\n",
      "보험료의 보험료 납입면제\n",
      "제5조(보험금 지급에 관한 세부규정)\n",
      "납입 사유를 알고 싶어요\n",
      "보험료 납입최고(독촉)이 제28조(보험료의 납입이 연체되는 경우\n",
      "무엇인가요 납입최고(독촉)와 계약의 해지)\n",
      "제29조(보험료의 납입연체로 인하여\n",
      "해지된 계약을 살리고 싶어요\n",
      "해지된 계약의 부활(효력회복))\n",
      "보험금의 제4조(보험금의 지급사유),\n",
      "보험금을 받을 수 있는지 궁금해요\n",
      "지급 제6조(보험금을 지급하지 않는 사유)\n",
      "제8조(보험금의 청구),\n",
      "보험금은 언제 지급되나요\n",
      "제9조(보험금의 지급절차)\n",
      "9\u0000/\u0000249\n",
      "\n",
      "수 있습니다.\n",
      "제 15 조 계약 전 알릴 의무 위반의 효과\n",
      "① 회사는 계약자 또는 피보험자가 제14조(계약 전 알릴 의무)에도 불구하고 고의 또는 중대한 과실로\n",
      "중요한 사항에 대하여 사실과 다르게 알린 경우에는 회사가 별도로 정하는 방법에 따라 계약을 해지하거\n",
      "나 보장을 제한할 수 있습니다. 그러나 다음 중 한 가지에 해당되는 때에는 계약을 해지하거나 보장을\n",
      "제한할 수 없습니다.\n",
      "1. 회사가 계약 당시에 그 사실을 알았거나 과실로 인하여 알지 못하였을 때\n",
      "2. 회사가 그 사실을 안 날부터 1개월 이상 지났거나 또는 보장개시일부터 보험금 지급사유가 발생하\n",
      "지 않고 2년(진단계약의 경우 질병에 대하여는 1년)이 지났을 때\n",
      "3. 계약을 체결한 날부터 3년이 지났을 때\n",
      "4. 회사가 이 계약을 청약할 때 피보험자의 건강상태를 판단할 수 있는 기초자료(건강진단서 사본 등)\n",
      "에 따라 승낙한 경우에 건강진단서 사본 등에 명기되어 있는 사항으로 보험금 지급사유가 발생하였\n",
      "을 때(계약자 또는 피보험자가 회사에 제출한 기초자료의 내용 중 중요사항을 고의로 사실과 다르\n",
      "게 작성한 때에는 계약을 해지하거나 보장을 제한할 수 있습니다)\n",
      "5. 보험설계사 등이 계약자 또는 피보험자에게 고지할 기회를 주지 않았거나 계약자 또는 피보험자가\n",
      "사실대로 고지하는 것을 방해한 경우, 계약자 또는 피보험자에게 사실대로 고지하지 않게 하였거나\n",
      "부실한 고지를 권유했을 때\n",
      "다만, 보험설계사 등의 행위가 없었다 하더라도 계약자 또는 피보험자가 사실대로 고지하지 않거나\n",
      "부실한 고지를 했다고 인정되는 경우에는 계약을 해지하거나 보장을 제한할 수 있습니다.\n",
      "② 회사는 제1항에 따라 계약을 해지하거나 보장을 제한할 경우에는 계약 전 알릴 의무 위반사실(계약해\n",
      "지 등의 원인이 되는 위반사실을 구체적으로 명시)뿐만 아니라 계약 전 알릴 의무 사항이 중요한 사항에\n",
      "해당되는 사유 및 계약의 처리결과를 “반대증거가 있는 경우 이의를 제기할 수 있습니다”라는 문구와 함\n",
      "께 계약자에게 서면 또는 전자문서 등으로 알려 드립니다. 회사가 전자문서로 안내하고자 할 경우에는\n",
      "계약자에게 서면 또는 「전자서명법」 제2조 제2호에 따른 전자서명으로 동의를 얻어 수신확인을 조건으\n",
      "로 전자문서를 송신하여야 합니다. 계약자의 전자문서 수신이 확인되기 전까지는 그 전자문서는 송신되\n",
      "지 않은 것으로 봅니다. 회사는 전자문서가 수신되지 않은 것을 확인한 경우에는 서면(등기우편 등)으로\n",
      "다시 알려드립니다.\n",
      "③ 제1항에 따라 계약을 해지하였을 때에는 제39조(해약환급금) 제1항에 따른 해약환급금을 드리며, 보\n",
      "장을 제한하였을 때에는 보험료, 보험가입금액 등이 조정될 수 있습니다.\n",
      "④ 제14조(계약 전 알릴 의무)의 계약 전 알릴 의무를 위반한 사실이 보험금 지급사유 발생에 영향을 미\n",
      "쳤음을 회사가 증명하지 못한 경우에는 제1항에도 불구하고 계약의 해지 또는 보장을 제한하기 이전까지\n",
      "발생한 해당 보험금을 지급합니다.\n",
      "⑤ 회사는 다른 보험가입내역에 대한 계약 전 알릴 의무 위반을 이유로 계약을 해지하거나 보험금 지급\n",
      "을 거절하지 않습니다.\n",
      "【계약 전 알릴 의무 위반 사례】\n",
      "계약을 청약하면서 보험설계사에게 고혈압이 있다고만 이야기하였을 뿐, 청약서의 계약 전 알릴 사항\n",
      "에 아무런 기재도 하지 않을 경우에는 보험설계사에게 고혈압 병력을 이야기하였다고 하더라도 회사\n",
      "는 계약 전 알릴 의무 위반을 이유로 계약을 해지하고 보험금을 지급하지 않을 수 있습니다.\n",
      "제 16 조 사기에 의한 계약\n",
      "① 계약자 또는 피보험자가 대리진단, 약물사용을 수단으로 진단절차를 통과하거나 진단서 위·변조 또는\n",
      "청약일 이전에 암 또는 인간면역결핍바이러스(HIV) 감염의 진단 확정을 받은 후 이를 숨기고 가입하는\n",
      "등의 뚜렷한 사기의사에 의하여 계약이 성립되었음을 회사가 증명하는 경우에는 보장개시일부터 5년 이\n",
      "내(사기사실을 안 날부터는 1개월 이내)에 계약을 취소할 수 있습니다.\n",
      "② 제1항에 따라 계약이 취소된 경우에는 회사는 계약자에게 이미 납입한 보험료(적립액의 인출이있을\n",
      "35\u0000/\u0000249\n",
      "\n",
      "Question: 계약 전 의무 사항은 무엇인가요\n",
      "\n",
      "\n",
      "\n",
      "Assistant:\u001b[0m\n",
      " 제 14조(계약 전 알릴 의무)에 계약 전 알릴 의무가 규정되어 있습니다.\n",
      "\n",
      "요약하면 계약자나 피보험자는 청약 시에 회사가 서면으로 질문한 중요한 사항에 대하여 사실대로 알려야 할 의무가 있습니다. \n",
      "\n",
      "중요한 사항이란 피보험자의 직업, 현재의 건강상태 등 보험금 지급이나 보험료 산정에 영향을 미칠 만한 사항을 말합니다. \n",
      "\n",
      "이 의무를 위반하면 제15조에 따라 계약 해지나 보장 제한 등 불이익을 받을 수 있습니다. \n",
      "\n",
      "다만 의무 위반 사실이 보험금 지급사유 발생에 영향을 미치지 않았다면 보험금은 지급합니다.\n",
      "\u001b[1m> Finished chain.\u001b[0m\n",
      "\n",
      "\u001b[1m> Finished chain.\u001b[0m\n"
     ]
    }
   ],
   "source": [
    "answer = chain.run(\n",
    "    input_documents=opensearch_lexical_retriever.get_relevant_documents(query),\n",
    "    question=query\n",
    ")"
   ]
  },
  {
   "cell_type": "code",
   "execution_count": 50,
   "id": "62d97334-60c6-4a34-b875-a3c25894fabe",
   "metadata": {
    "tags": []
   },
   "outputs": [],
   "source": [
    "opensearch_semantic_retriever = vector_db.as_retriever(\n",
    "    search_type=\"similarity\",\n",
    "    search_kwargs={\n",
    "        \"k\": 5,\n",
    "        \"boolean_filter\": boolean_filter\n",
    "    }\n",
    ")"
   ]
  },
  {
   "cell_type": "code",
   "execution_count": 51,
   "id": "cbea8a2e-01e1-48a6-81f5-4230e6346f5b",
   "metadata": {
    "tags": []
   },
   "outputs": [
    {
     "name": "stdout",
     "output_type": "stream",
     "text": [
      "self.input_keys : ['input_documents', 'question']\n",
      "\n",
      "\n",
      "\u001b[1m> Entering new StuffDocumentsChain chain...\u001b[0m\n",
      "self.input_keys : ['context', 'question']\n",
      "\n",
      "\n",
      "\u001b[1m> Entering new LLMChain chain...\u001b[0m\n",
      "Prompt after formatting:\n",
      "\u001b[32;1m\u001b[1;3m\n",
      "\n",
      "\n",
      "Human: Use the following pieces of context to provide a concise answer to the question at the end.\n",
      "If you don't know the answer, just say that you don't know, don't try to make up an answer.\n",
      "\n",
      "【‘계약자의 책임’의 예시】\n",
      "제7조(보험금 지급사유의 발생통지), 제8조(보험금의 청구), 제11조(주소변경통지), 제25조(제1회 보험\n",
      "료 및 회사의 보장개시), 제26조(제2회 이후 보험료의 납입) 등\n",
      "【연대(連帶)】\n",
      "2인 이상의 계약자가 각자 채무의 전부를 이행할 책임을 지는 것을 말하며(지분만큼 분할하여 책임\n",
      "을 지는 것과는 다름), 계약자 중 1인이 책임을 이행하는 경우 나머지 계약자는 책임을 면하게 됩니\n",
      "다.\n",
      "제 3 관 계약자의 계약 전 알릴 의무 등\n",
      "제 14 조 계약 전 알릴 의무\n",
      "계약자 또는 피보험자는 청약할 때(진단계약의 경우에는 건강진단할 때를 말합니다) 청약서에서 질문한\n",
      "사항에 대하여 알고 있는 사실을 반드시 사실대로 알려야(이하 ‘계약 전 알릴 의무’라 하며, 상법상 ‘고지\n",
      "의무’와 같습니다)합니다. 다만, 진단계약에서 의료법 제3조(의료기관)의 규정에 따른 종합병원과 병원에\n",
      "서 직장 또는 개인이 실시한 건강진단서 사본 등 건강상태를 판단할 수 있는 자료로 건강진단을 대신할\n",
      "수 있습니다.\n",
      "제 15 조 계약 전 알릴 의무 위반의 효과\n",
      "① 회사는 계약자 또는 피보험자가 제14조(계약 전 알릴 의무)에도 불구하고 고의 또는 중대한 과실로\n",
      "중요한 사항에 대하여 사실과 다르게 알린 경우에는 회사가 별도로 정하는 방법에 따라 계약을 해지하거\n",
      "나 보장을 제한할 수 있습니다. 그러나 다음 중 한 가지에 해당되는 때에는 계약을 해지하거나 보장을\n",
      "제한할 수 없습니다.\n",
      "1. 회사가 계약 당시에 그 사실을 알았거나 과실로 인하여 알지 못하였을 때\n",
      "2. 회사가 그 사실을 안 날부터 1개월 이상 지났거나 또는 보장개시일부터 보험금 지급사유가 발생하\n",
      "지 않고 2년(진단계약의 경우 질병에 대하여는 1년)이 지났을 때\n",
      "3. 계약을 체결한 날부터 3년이 지났을 때\n",
      "4. 회사가 이 계약을 청약할 때 피보험자의 건강상태를 판단할 수 있는 기초자료(건강진단서 사본 등)\n",
      "에 따라 승낙한 경우에 건강진단서 사본 등에 명기되어 있는 사항으로 보험금 지급사유가 발생하였\n",
      "을 때(계약자 또는 피보험자가 회사에 제출한 기초자료의 내용 중 중요사항을 고의로 사실과 다르\n",
      "게 작성한 때에는 계약을 해지하거나 보장을 제한할 수 있습니다)\n",
      "5. 보험설계사 등이 계약자 또는 피보험자에게 고지할 기회를 주지 않았거나 계약자 또는 피보험자가\n",
      "사실대로 고지하는 것을 방해한 경우, 계약자 또는 피보험자에게 사실대로 고지하지 않게 하였거나\n",
      "부실한 고지를 권유했을 때\n",
      "다만, 보험설계사 등의 행위가 없었다 하더라도 계약자 또는 피보험자가 사실대로 고지하지 않거나\n",
      "부실한 고지를 했다고 인정되는 경우에는 계약을 해지하거나 보장을 제한할 수 있습니다.\n",
      "② 회사는 제1항에 따라 계약을 해지하거나 보장을 제한할 경우에는 계약 전 알릴 의무 위반사실(계약해\n",
      "지 등의 원인이 되는 위반사실을 구체적으로 명시)뿐만 아니라 계약 전 알릴 의무 사항이 중요한 사항에\n",
      "해당되는 사유 및 계약의 처리결과를 “반대증거가 있는 경우 이의를 제기할 수 있습니다”라는 문구와 함\n",
      "께 계약자에게 서면 또는 전자문서 등으로 알려 드립니다. 회사가 전자문서로 안내하고자 할 경우에는\n",
      "계약자에게 서면 또는 「전자서명법」 제2조 제2호에 따른 전자서명으로 동의를 얻어 수신확인을 조건으\n",
      "로 전자문서를 송신하여야 합니다. 계약자의 전자문서 수신이 확인되기 전까지는 그 전자문서는 송신되\n",
      "지 않은 것으로 봅니다. 회사는 전자문서가 수신되지 않은 것을 확인한 경우에는 서면(등기우편 등)으로\n",
      "다시 알려드립니다.\n",
      "③ 제1항에 따라 계약을 해지하였을 때에는 제35조(해약환급금) 제1항에 따른 해약환급금을 드리며, 보\n",
      "장을 제한하였을 때에는 보험료, 보험가입금액 등이 조정될 수 있습니다.\n",
      "④ 제14조(계약 전 알릴 의무)의 계약 전 알릴 의무를 위반한 사실이 보험금 지급사유 발생에 영향을 미\n",
      "67\u0000/\u0000249\n",
      "\n",
      "【일반금융소비자】\n",
      "전문금융소비자가 아닌 계약자를 말합니다.\n",
      "② 청약철회는 계약자가 전화로 신청하거나, 철회의사를 표시하기 위한 서면, 전자우편, 휴대전화 문자메\n",
      "시지 또는 이에 준하는 전자적 의사표시(이하 ‘서면 등’이라 합니다)를 발송한 때 효력이 발생합니다. 계\n",
      "약자는 서면 등을 발송한 때에 그 발송 사실을 회사에 지체없이 알려야 합니다.\n",
      "③ 계약자가 청약을 철회한 때에는 회사는 청약의 철회를 접수한 날부터 3영업일 이내에 납입한 보험료\n",
      "전액을 돌려드리며, 보험료 반환이 늦어진 기간에 대하여는 이 계약의 보험계약대출이율(이하 ‘보험계약\n",
      "대출이율’이라 합니다)을 연단위 복리로 계산한 금액을 더하여 지급합니다. 다만, 계약자가 제1회 보험료\n",
      "를 신용카드로 납입한 계약의 청약을 철회하는 경우에는 회사는 청약의 철회를 접수한 날부터 3영업일\n",
      "이내에 해당 신용카드회사로 하여금 대금청구를 하지 않도록 해야 하며, 이 경우 회사는 보험료를 반환\n",
      "한 것으로 봅니다.\n",
      "④ 청약을 철회할 때에 이미 보험금 지급사유가 발생하였으나 계약자가 그 보험금 지급사유가 발생한 사\n",
      "실을 알지 못한 경우에는 청약철회의 효력은 발생하지 않습니다.\n",
      "⑤ 제1항에서 보험증권을 받은 날에 대한 다툼이 발생한 경우 회사가 이를 증명하여야 합니다.\n",
      "제 19 조 약관교부 및 설명의무 등\n",
      "① 회사는 계약자가 청약할 때에 계약자에게 약관의 중요한 내용을 설명하여야 하며, 청약 후에 다음 각\n",
      "호의 방법 중 계약자가 원하는 방법을 확인하여 지체 없이 약관 및 계약자 보관용 청약서를 제공하여 드\n",
      "립니다. 만약, 회사가 전자우편 및 전자적 의사표시로 제공한 경우 계약자 또는 그 대리인이 약관 및 계\n",
      "약자 보관용 청약서 등을 수신하였을 때에는 해당 문서를 드린 것으로 봅니다.\n",
      "1. 서면교부\n",
      "2. 우편 또는 전자우편\n",
      "3. 휴대전화 문자메시지 또는 이에 준하는 전자적 의사표시\n",
      "② 제1항과 관련하여 통신판매계약의 경우, 회사는 계약자가 가입한 특약만 포함한 약관을 드리며, 전화\n",
      "를 이용하여 체결하는 계약은 계약자의 동의를 얻어 청약내용, 보험료납입, 보험기간, 계약 전 알릴 의무,\n",
      "약관의 중요한 내용 등 계약을 체결하는 데 필요한 사항을 질문 또는 설명하는 방법으로 약관의 중요한\n",
      "내용을 설명할 수 있습니다. 이 경우 계약자의 답변과 확인내용을 음성 녹음함으로써 약관의 중요한 내\n",
      "용을 설명한 것으로 봅니다.\n",
      "【통신판매계약】\n",
      "전화우편인터넷 등 통신수단을 이용하여 체결하는 계약을 말합니다.\n",
      "③ 회사가 제1항에 따라 제공될 약관 및 계약자 보관용 청약서를 청약할 때 계약자에게 전달하지 않거나\n",
      "약관의 중요한 내용을 설명하지 않은 때 또는 계약을 체결할 때 계약자가 청약서에 자필서명(날인(도장\n",
      "을 찍음) 및 「전자서명법」 제2조 제2호에 따른 전자서명을 포함합니다)을 하지 않은 때에는 계약자는 계\n",
      "약이 성립한 날부터 3개월 이내에 계약을 취소할 수 있습니다.\n",
      "④ 제3항에도 불구하고 전화를 이용하여 계약을 체결하는 경우 다음의 각 호의 어느 하나를 충족하는 때\n",
      "에는 자필서명을 생략할 수 있으며, 위 제2항의 규정에 따른 음성녹음 내용을 문서화한 확인서를 계약자\n",
      "에게 드림으로써 계약자 보관용 청약서를 전달한 것으로 봅니다.\n",
      "1. 계약자, 피보험자 및 보험수익자가 동일한 계약의 경우\n",
      "2. 계약자, 피보험자가 동일하고 보험수익자가 계약자의 법정상속인인 계약일 경우\n",
      "【법정상속인】\n",
      "피상속인의 사망으로 인하여 민법의 규정에 의한 상속순서에 따라 상속받는 자\n",
      "⑤ 제3항에 따라 계약이 취소된 경우에는 회사는 계약자에게 이미 납입한 보험료(적립액의 인출이 있을\n",
      "경우 이를 차감한 금액)를 돌려 드리며, 보험료를 받은 기간에 대하여 보험계약대출이율을 연단위 복리로\n",
      "계산한 금액을 더하여 지급합니다.\n",
      "69\u0000/\u0000249\n",
      "\n",
      "계 법령이 정하는 경우를 제외하고는 소를 제기하지 않습니다.\n",
      "제 44 조 관할법원\n",
      "이 계약에 관한 소송 및 민사조정은 계약자의 주소지를 관할하는 법원으로 합니다. 다만, 회사와 계약자\n",
      "가 합의하여 관할법원을 달리 정할 수 있습니다.\n",
      "제 45 조 소멸시효\n",
      "① 보험금 청구권, 보험료 반환청구권, 해약환급금청구권 및 계약자적립액 반환청구권은 3년간 행사하지\n",
      "않으면 소멸시효가 완성됩니다.\n",
      "② 제1항의 소멸시효는 해당 청구권을 행사할 수 있는 때로부터 진행합니다.\n",
      "【소멸시효】\n",
      "예를들어, 제4조(보험금의 지급사유)에 따른 보험금 지급사유가 2016년 4월 1일에 발생하였음에도\n",
      "보험수익자가 2019년 4월 1일까지 보험금을 청구하지 않은 경우 해당 보험금에 대한 3년의 소멸시\n",
      "효가 완성되어 보험수익자는 해당 보험금 등을 지급받지 못합니다.\n",
      "제 46 조 약관의 해석\n",
      "① 회사는 신의성실의 원칙에 따라 공정하게 약관을 해석하여야 하며 계약자에 따라 다르게 해석하지 않\n",
      "습니다.\n",
      "② 회사는 약관의 뜻이 명백하지 않은 경우에는 계약자에게 유리하게 해석합니다.\n",
      "③ 회사는 보험금을 지급하지 않는 사유 등 계약자나 피보험자에게 불리하거나 부담을 주는 내용은 확대\n",
      "하여 해석하지 않습니다.\n",
      "제 47 조 설명서 교부 및 보험안내자료 등의 효력\n",
      "① 회사는 일반금융소비자에게 청약을 권유하거나 일반금융소비자가 설명을 요청하는 경우 보험상품에\n",
      "관한 중요한 사항을 계약자가 이해할 수 있도록 설명하고 계약자가 이해하였음을 서명(「전자서명법」 제2\n",
      "조 제2호에 따른 전자서명을 포함), 기명날인 또는 녹취 등을 통해 확인받아야 하며, 설명서를 제공하여\n",
      "야 합니다.\n",
      "② 설명서, 약관, 계약자 보관용 청약서 및 보험증권의 제공 사실에 관하여 계약자와 회사간에 다툼이 있\n",
      "는 경우에는 회사가 이를 증명하여야 합니다.\n",
      "③ 보험설계사 등이 모집과정에서 사용한 회사 제작의 보험안내자료(계약의 청약을 권유하기 위해 만든\n",
      "자료 등을 말합니다) 내용이 이 약관의 내용과 다른 경우에는 계약자에게 유리한 내용으로 계약이 성립\n",
      "된 것으로 봅니다.\n",
      "제 48 조 회사의 손해배상책임\n",
      "① 회사는 계약과 관련하여 임직원, 보험설계사 및 대리점의 책임 있는 사유로 계약자, 피보험자 및 보험\n",
      "수익자에게 발생된 손해에 대하여 관계 법령 등에 따라 손해배상의 책임을 집니다.\n",
      "② 회사는 보험금 지급거절 및 지연지급의 사유가 없음을 알았거나 알 수 있었는데도 소를 제기하여 계\n",
      "약자, 피보험자 또는 보험수익자에게 손해를 가한 경우에는 그에 따른 손해를 배상할 책임을 집니다.\n",
      "③ 회사가 보험금 지급여부 및 지급금액에 관하여 현저하게 공정을 잃은 합의로 보험수익자에게 손해를\n",
      "가한 경우에도 회사는 제2항에 따라 손해를 배상할 책임을 집니다.\n",
      "【 현저하게 공정을 잃은 합의 】\n",
      "회사가 보험수익자의 경제적·신체적·정신적인 어려움, 경솔함, 경험 부족 등을 이용하여 동일·유사 사\n",
      "례에 비추어 보험수익자에게 매우 불합리하게 합의를 하는 것을 의미합니다.\n",
      "제 49 조 개인정보보호\n",
      "① 회사는 이 계약과 관련된 개인정보를 이 계약의 체결, 유지, 보험금 지급 등을 위하여「개인정보 보호\n",
      "49\u0000/\u0000249\n",
      "\n",
      "⑤ 제1항에서 보험증권을 받은 날에 대한 다툼이 발생한 경우 회사가 이를 증명하여야 합니다.\n",
      "제 19 조 약관교부 및 설명의무 등\n",
      "① 회사는 계약자가 청약할 때에 계약자에게 약관의 중요한 내용을 설명하여야 하며, 청약 후에 다음 각\n",
      "호의 방법 중 계약자가 원하는 방법을 확인하여 지체 없이 약관 및 계약자 보관용 청약서를 제공하여 드\n",
      "립니다. 만약, 회사가 전자우편 및 전자적 의사표시로 제공한 경우 계약자 또는 그 대리인이 약관 및 계\n",
      "약자 보관용 청약서 등을 수신하였을 때에는 해당 문서를 드린 것으로 봅니다.\n",
      "1. 서면교부\n",
      "2. 우편 또는 전자우편\n",
      "3. 휴대전화 문자메시지 또는 이에 준하는 전자적 의사표시\n",
      "② 제1항과 관련하여 통신판매계약의 경우, 회사는 계약자가 가입한 특약만 포함한 약관을 드리며, 전화\n",
      "를 이용하여 체결하는 계약은 계약자의 동의를 얻어 청약내용, 보험료납입, 보험기간, 계약 전 알릴 의무,\n",
      "약관의 중요한 내용 등 계약을 체결하는 데 필요한 사항을 질문 또는 설명하는 방법으로 약관의 중요한\n",
      "내용을 설명할 수 있습니다. 이 경우 계약자의 답변과 확인내용을 음성 녹음함으로써 약관의 중요한 내\n",
      "용을 설명한 것으로 봅니다.\n",
      "【통신판매계약】\n",
      "전화우편인터넷 등 통신수단을 이용하여 체결하는 계약을 말합니다.\n",
      "③ 회사가 제1항에 따라 제공될 약관 및 계약자 보관용 청약서를 청약할 때 계약자에게 전달하지 않거나\n",
      "약관의 중요한 내용을 설명하지 않은 때 또는 계약을 체결할 때 계약자가 청약서에 자필서명(날인(도장\n",
      "을 찍음) 및 「전자서명법」 제2조 제2호에 따른 전자서명을 포함합니다)을 하지 않은 때에는 계약자는 계\n",
      "약이 성립한 날부터 3개월 이내에 계약을 취소할 수 있습니다.\n",
      "④ 제3항에도 불구하고 전화를 이용하여 계약을 체결하는 경우 다음의 각 호의 어느 하나를 충족하는 때\n",
      "에는 자필서명을 생략할 수 있으며, 위 제2항의 규정에 따른 음성녹음 내용을 문서화한 확인서를 계약자\n",
      "에게 드림으로써 계약자 보관용 청약서를 전달한 것으로 봅니다.\n",
      "1. 계약자, 피보험자 및 보험수익자가 동일한 계약의 경우\n",
      "2. 계약자, 피보험자가 동일하고 보험수익자가 계약자의 법정상속인인 계약일 경우\n",
      "【법정상속인】\n",
      "피상속인의 사망으로 인하여 민법의 규정에 의한 상속순서에 따라 상속받는 자\n",
      "⑤ 제3항에 따라 계약이 취소된 경우에는 회사는 계약자에게 이미 납입한 보험료(적립액의 인출이 있을\n",
      "경우 이를 차감한 금액)를 돌려 드리며, 보험료를 받은 기간에 대하여 보험계약대출이율을 연단위 복리로\n",
      "계산한 금액을 더하여 지급합니다.\n",
      "제 20 조 계약의 무효\n",
      "① 다음 중 한 가지에 해당되는 경우에는 계약을 무효로 하며 계약자에게 이미 납입한 보험료(적립액의\n",
      "인출이 있을 경우 이를 차감한 금액)를 돌려드립니다.\n",
      "1. 타인의 사망을 보험금 지급사유로 하는 계약에서 계약을 체결할 때까지 피보험자의 서면(「전자서\n",
      "명법」 제2조 제2호에 따른 전자서명이 있는 경우로서 상법 시행령 제44조의2에 정하는 바에 따라\n",
      "본인 확인 및 위조·변조 방지에 대한 신뢰성을 갖춘 전자문서를 포함)에 의한 동의를 얻지 않은 경\n",
      "우\n",
      "다만, 단체가 규약에 따라 구성원의 전부 또는 일부를 피보험자로 하는 계약을 체결하는 경우에는\n",
      "이를 적용하지 않습니다. 이때 단체보험의 보험수익자를 피보험자 또는 그 상속인이 아닌 자로 지\n",
      "정할 때에는 단체의 규약에서 명시적으로 정한 경우가 아니면 이를 적용합니다.\n",
      "2. 만 15세 미만자, 심신상실자(心神喪失者) 또는 심신박약자(心神薄弱者)를 피보험자로 하여 사망을\n",
      "보험금 지급사유로 한 계약의 경우.\n",
      "다만, 심신박약자(心神薄弱者)가 계약을 체결하거나 소속 단체의 규약에 따라 단체보험의 피보험자\n",
      "가 될 때에 의사능력이 있는 경우에는 계약이 유효합니다.\n",
      "37\u0000/\u0000249\n",
      "\n",
      "쳤음을 회사가 증명하지 못한 경우에는 제1항에도 불구하고 계약의 해지 또는 보장을 제한하기 이전까지\n",
      "발생한 해당 보험금을 지급합니다.\n",
      "⑤ 회사는 다른 보험가입내역에 대한 계약 전 알릴 의무 위반을 이유로 계약을 해지하거나 보험금 지급\n",
      "을 거절하지 않습니다.\n",
      "【계약 전 알릴 의무 위반 사례】\n",
      "계약을 청약하면서 보험설계사에게 고혈압이 있다고만 이야기하였을 뿐, 청약서의 계약 전 알릴 사항\n",
      "에 아무런 기재도 하지 않을 경우에는 보험설계사에게 고혈압 병력을 이야기하였다고 하더라도 회사\n",
      "는 계약 전 알릴 의무 위반을 이유로 계약을 해지하고 보험금을 지급하지 않을 수 있습니다.\n",
      "제 16 조 사기에 의한 계약\n",
      "① 계약자 또는 피보험자가 대리진단, 약물사용을 수단으로 진단절차를 통과하거나 진단서 위·변조 또는\n",
      "청약일 이전에 암 또는 인간면역결핍바이러스(HIV) 감염의 진단 확정을 받은 후 이를 숨기고 가입하는\n",
      "등의 뚜렷한 사기의사에 의하여 계약이 성립되었음을 회사가 증명하는 경우에는 보장개시일부터 5년 이\n",
      "내(사기사실을 안 날부터는 1개월 이내)에 계약을 취소할 수 있습니다.\n",
      "② 제1항에 따라 계약이 취소된 경우에는 회사는 계약자에게 이미 납입한 보험료(적립액의 인출이있을\n",
      "경우 이를 차감한 금액)를 돌려 드립니다.\n",
      "제 4 관 보험계약의 성립과 유지\n",
      "제 17 조 보험계약의 성립\n",
      "① 계약은 계약자의 청약(請約)과 회사의 승낙(承諾)으로 이루어집니다.\n",
      "② 계약자는 계약을 청약할 때 다음 중 한 가지를 선택하여 청약하여야 합니다.\n",
      "1. 1종(기본형)\n",
      "2. 2종(소득보장형)\n",
      "3. 3종(소득보장강화형)\n",
      "③ 회사는 피보험자가 계약에 적합하지 않은 경우에는 승낙을 거절하거나 별도의 조건(보험가입금액 제\n",
      "한, 일부보장 제외, 보험금 삭감, 보험료 할증 등)을 붙여 승낙할 수 있습니다.\n",
      "④ 회사는 계약의 청약을 받고, 제1회 보험료를 받은 경우에 건강진단을 받지 않는 계약은 청약일, 진단\n",
      "계약은 진단일(재진단의 경우에는 최종 진단일)부터 30일 이내에 승낙 또는 거절하여야 하며, 승낙한 때\n",
      "에는 보험증권을 드립니다. 그러나 30일 이내에 승낙 또는 거절의 통지가 없으면 승낙된 것으로 봅니다.\n",
      "⑤ 회사가 제1회 보험료를 받고 승낙을 거절한 경우에는 거절통지와 함께 받은 금액을 돌려 드리며, 보\n",
      "험료를 받은 기간에 대하여 평균공시이율+1%를 연단위 복리로 계산한 금액을 더하여 지급합니다. 다만,\n",
      "회사는 계약자가 제1회 보험료를 신용카드로 납입한 계약의 승낙을 거절하는 경우에는 신용카드의 매출\n",
      "을 취소하며 이자를 더하여 지급하지 않습니다.\n",
      "제 18 조 청약의 철회\n",
      "① 계약자는 보험증권을 받은 날부터 15일 이내에 그 청약을 철회(撤回)할 수 있습니다. 다만, 다음 중 한\n",
      "가지에 해당되는 때에는 청약을 철회할 수 없습니다.\n",
      "1. 회사가 건강상태 진단을 지원하는 계약, 보험기간이 90일 이내인 계약 또는 전문금융소비자가 체결\n",
      "한 계약\n",
      "2. 청약을 한 날부터 30일을 초과한 경우. 다만, 청약시점에 만 65세 이상인 계약자가 전화를 이용하\n",
      "여 계약을 체결한 경우 ‘청약을 한 날부터 45일을 초과한 경우’로 합니다.\n",
      "【전문금융소비자】\n",
      "보험계약에 관한 전문성, 자산규모 등에 비추어 보험계약에 따른 위험감수능력이 있는 자로서, 국가,\n",
      "지방자치단체, 한국은행, 금융회사, 주권상장법인 등을 포함하며 「금융소비자 보호에 관한 법률」 제2\n",
      "조(정의) 제9호에서 정하는 전문금융소비자를 말합니다.\n",
      "68\u0000/\u0000249\n",
      "\n",
      "Question: 계약 전 의무 사항은 무엇인가요\n",
      "\n",
      "\n",
      "\n",
      "Assistant:\u001b[0m\n",
      " 계약 전 알릴 의무에 대해 제14조(계약 전 알릴 의무)와 제15조(계약 전 알릴 의무 위반의 효과)에 잘 설명되어 있습니다. \n",
      "\n",
      "요약하면,\n",
      "\n",
      "1) 계약자나 피보험자는 청약할 때(진단계약의 경우 건강진단할 때) 청약서에서 질문한 사항에 대해 사실대로 알려야 합니다. \n",
      "\n",
      "2) 중요한 사항에 대해 고의 또는 중대한 과실로 사실과 다르게 알린 경우, 회사는 계약을 해지하거나 보장을 제한할 수 있습니다. \n",
      "\n",
      "3) 다만 진단금 조항, 회사가 알았거나 과실로 알 수 없었던 경우, 알게 된 지 1개월 경과, 계약 체결 후 3년 경과 등의 경우에는 계약을 해지하거나 보장을 제한할 수 없습니다.\n",
      "\n",
      "4) 보험설계사 등이 고지할 기회를 주지 않았거나 고지하지 않도록 한 경우에도 계약을 해지하거나 보장을 제한할 수 있습니다.\n",
      "\n",
      "이와 같이 계약 전 알릴 의무를 위반하는 경우 계약 해지나 보장 제한의 불이익을 받을 수 있으므로 청약 시 사실대로 알리는 것이 중요합니다.\n",
      "\u001b[1m> Finished chain.\u001b[0m\n",
      "\n",
      "\u001b[1m> Finished chain.\u001b[0m\n"
     ]
    }
   ],
   "source": [
    "answer = chain.run(\n",
    "    input_documents=opensearch_semantic_retriever.get_relevant_documents(query),\n",
    "    question=query\n",
    ")"
   ]
  },
  {
   "cell_type": "markdown",
   "id": "caf67e77-15d5-4a8f-b0b5-a6d69baab68c",
   "metadata": {},
   "source": [
    "# 8. OpenSearch Hybrid 검색"
   ]
  },
  {
   "cell_type": "markdown",
   "id": "8caa5119-13da-4e6a-a6f2-e6a1cba826ee",
   "metadata": {},
   "source": [
    "OpenSearch Hybrid 는 아래와 같은 방식으로 작동합니다.\n",
    "- (1) \"Vector 서치\" 하여 스코어를 얻은 후에 표준화를 하여 스코어를 구함. \n",
    "    - 전체 결과에서 가장 높은 스코어는 표준화 과정을 통하여 스코어가 1.0 이 됨.\n",
    "- (2) Keyword 서치도 동일하게 함.\n",
    "- (3) Reciprocal Rank Fusion (RRF) 기반 Re-rank\n",
    "    - Paper: https://plg.uwaterloo.ca/~gvcormac/cormacksigir09-rrf.pdf\n",
    "    - Desc: https://medium.com/@sowmiyajaganathan/hybrid-search-with-re-ranking-ff120c8a426d\n",
    "    - **RRF의 경우 score가 아닌 ranking 정보를 활용, 때문에 score normalization이 필요 없음**\n",
    "\n",
    "RRF는 langchain에서 \"Ensemble Retriever\" 이름으로 api를 제공합니다. \n",
    "- https://python.langchain.com/docs/modules/data_connection/retrievers/ensemble\n"
   ]
  },
  {
   "cell_type": "markdown",
   "id": "31f8f74d-ab29-4149-94e6-e85c6671a25e",
   "metadata": {},
   "source": [
    "### Ensemble retriever 정의\n",
    "- https://python.langchain.com/docs/modules/data_connection/retrievers/ensemble\n",
    "- RRF 방식만 지원\n",
    "- Rank constant (param \"c\")\n",
    "    - This value determines how much influence documents in individual result sets per query have over the final ranked result set. A higher value indicates that lower ranked documents have more influence. This value must be greater than or equal to 1. Defaults to 60.\n",
    "    - 숫자 높을 수록 낮은 랭크의 문서가 더 중요시 된다"
   ]
  },
  {
   "cell_type": "code",
   "execution_count": 52,
   "id": "792310d5-8117-49ea-a278-c3066052bee6",
   "metadata": {
    "tags": []
   },
   "outputs": [],
   "source": [
    "from langchain.retrievers import EnsembleRetriever"
   ]
  },
  {
   "cell_type": "code",
   "execution_count": 53,
   "id": "41e710fb-c2dd-4ae2-8f1c-984f01e37363",
   "metadata": {
    "tags": []
   },
   "outputs": [],
   "source": [
    "ensemble_retriever = EnsembleRetriever(\n",
    "    retrievers=[opensearch_lexical_retriever, opensearch_semantic_retriever],\n",
    "    weights=[0.5, 0.5],\n",
    "    c=100,\n",
    "    k=5\n",
    ")"
   ]
  },
  {
   "cell_type": "code",
   "execution_count": null,
   "id": "b944ed69-e539-4836-b4cf-87d2c8d16cbe",
   "metadata": {
    "tags": []
   },
   "outputs": [
    {
     "name": "stdout",
     "output_type": "stream",
     "text": [
      "self.input_keys : ['input_documents', 'question']\n",
      "\n",
      "\n",
      "\u001b[1m> Entering new StuffDocumentsChain chain...\u001b[0m\n",
      "self.input_keys : ['context', 'question']\n",
      "\n",
      "\n",
      "\u001b[1m> Entering new LLMChain chain...\u001b[0m\n",
      "Prompt after formatting:\n",
      "\u001b[32;1m\u001b[1;3m\n",
      "\n",
      "\n",
      "Human: Use the following pieces of context to provide a concise answer to the question at the end.\n",
      "If you don't know the answer, just say that you don't know, don't try to make up an answer.\n",
      "\n",
      "4. 상황별 목차 안내\n",
      "계약의 계약에서 쓰이는\n",
      "제2조(용어의 정의)\n",
      "체결 용어를 알고 싶어요\n",
      "제14조(계약 전 알릴 의무)\n",
      "계약 전 알릴 의무는 무엇인가요\n",
      "제15조(계약 전 알릴 의무 위반의 효과)\n",
      "보장이 언제 시작되나요 제24조(제1회 보험료 및 회사의 보장개시)\n",
      "청약을 철회하고 싶어요 제18조(청약의 철회)\n",
      "계약을 취소 할 수 있나요 제19조(약관교부 및 설명의무 등)\n",
      "계약이 무효가 될 수 있나요 제20조(계약의 무효)\n",
      "보험료의 보험료 납입면제\n",
      "제5조(보험금 지급에 관한 세부규정)\n",
      "납입 사유를 알고 싶어요\n",
      "보험료 납입최고(독촉)이 제27조(보험료의 납입이 연체되는 경우\n",
      "무엇인가요 납입최고(독촉)와 계약의 해지)\n",
      "제28조(보험료의 납입연체로 인하여\n",
      "해지된 계약을 살리고 싶어요\n",
      "해지된 계약의 부활(효력회복))\n",
      "보험금의 제4조(보험금의 지급사유),\n",
      "보험금을 받을 수 있는지 궁금해요\n",
      "지급 제6조(보험금을 지급하지 않는 사유)\n",
      "제8조(보험금의 청구),\n",
      "보험금은 언제 지급되나요\n",
      "제9조(보험금의 지급절차)\n",
      "8\u0000/\u0000165\n",
      "\n",
      "【‘계약자의 책임’의 예시】\n",
      "제7조(보험금 지급사유의 발생통지), 제8조(보험금의 청구), 제11조(주소변경통지), 제25조(제1회 보험\n",
      "료 및 회사의 보장개시), 제26조(제2회 이후 보험료의 납입) 등\n",
      "【연대(連帶)】\n",
      "2인 이상의 계약자가 각자 채무의 전부를 이행할 책임을 지는 것을 말하며(지분만큼 분할하여 책임\n",
      "을 지는 것과는 다름), 계약자 중 1인이 책임을 이행하는 경우 나머지 계약자는 책임을 면하게 됩니\n",
      "다.\n",
      "제 3 관 계약자의 계약 전 알릴 의무 등\n",
      "제 14 조 계약 전 알릴 의무\n",
      "계약자 또는 피보험자는 청약할 때(진단계약의 경우에는 건강진단할 때를 말합니다) 청약서에서 질문한\n",
      "사항에 대하여 알고 있는 사실을 반드시 사실대로 알려야(이하 ‘계약 전 알릴 의무’라 하며, 상법상 ‘고지\n",
      "의무’와 같습니다)합니다. 다만, 진단계약에서 의료법 제3조(의료기관)의 규정에 따른 종합병원과 병원에\n",
      "서 직장 또는 개인이 실시한 건강진단서 사본 등 건강상태를 판단할 수 있는 자료로 건강진단을 대신할\n",
      "수 있습니다.\n",
      "제 15 조 계약 전 알릴 의무 위반의 효과\n",
      "① 회사는 계약자 또는 피보험자가 제14조(계약 전 알릴 의무)에도 불구하고 고의 또는 중대한 과실로\n",
      "중요한 사항에 대하여 사실과 다르게 알린 경우에는 회사가 별도로 정하는 방법에 따라 계약을 해지하거\n",
      "나 보장을 제한할 수 있습니다. 그러나 다음 중 한 가지에 해당되는 때에는 계약을 해지하거나 보장을\n",
      "제한할 수 없습니다.\n",
      "1. 회사가 계약 당시에 그 사실을 알았거나 과실로 인하여 알지 못하였을 때\n",
      "2. 회사가 그 사실을 안 날부터 1개월 이상 지났거나 또는 보장개시일부터 보험금 지급사유가 발생하\n",
      "지 않고 2년(진단계약의 경우 질병에 대하여는 1년)이 지났을 때\n",
      "3. 계약을 체결한 날부터 3년이 지났을 때\n",
      "4. 회사가 이 계약을 청약할 때 피보험자의 건강상태를 판단할 수 있는 기초자료(건강진단서 사본 등)\n",
      "에 따라 승낙한 경우에 건강진단서 사본 등에 명기되어 있는 사항으로 보험금 지급사유가 발생하였\n",
      "을 때(계약자 또는 피보험자가 회사에 제출한 기초자료의 내용 중 중요사항을 고의로 사실과 다르\n",
      "게 작성한 때에는 계약을 해지하거나 보장을 제한할 수 있습니다)\n",
      "5. 보험설계사 등이 계약자 또는 피보험자에게 고지할 기회를 주지 않았거나 계약자 또는 피보험자가\n",
      "사실대로 고지하는 것을 방해한 경우, 계약자 또는 피보험자에게 사실대로 고지하지 않게 하였거나\n",
      "부실한 고지를 권유했을 때\n",
      "다만, 보험설계사 등의 행위가 없었다 하더라도 계약자 또는 피보험자가 사실대로 고지하지 않거나\n",
      "부실한 고지를 했다고 인정되는 경우에는 계약을 해지하거나 보장을 제한할 수 있습니다.\n",
      "② 회사는 제1항에 따라 계약을 해지하거나 보장을 제한할 경우에는 계약 전 알릴 의무 위반사실(계약해\n",
      "지 등의 원인이 되는 위반사실을 구체적으로 명시)뿐만 아니라 계약 전 알릴 의무 사항이 중요한 사항에\n",
      "해당되는 사유 및 계약의 처리결과를 “반대증거가 있는 경우 이의를 제기할 수 있습니다”라는 문구와 함\n",
      "께 계약자에게 서면 또는 전자문서 등으로 알려 드립니다. 회사가 전자문서로 안내하고자 할 경우에는\n",
      "계약자에게 서면 또는 「전자서명법」 제2조 제2호에 따른 전자서명으로 동의를 얻어 수신확인을 조건으\n",
      "로 전자문서를 송신하여야 합니다. 계약자의 전자문서 수신이 확인되기 전까지는 그 전자문서는 송신되\n",
      "지 않은 것으로 봅니다. 회사는 전자문서가 수신되지 않은 것을 확인한 경우에는 서면(등기우편 등)으로\n",
      "다시 알려드립니다.\n",
      "③ 제1항에 따라 계약을 해지하였을 때에는 제35조(해약환급금) 제1항에 따른 해약환급금을 드리며, 보\n",
      "장을 제한하였을 때에는 보험료, 보험가입금액 등이 조정될 수 있습니다.\n",
      "④ 제14조(계약 전 알릴 의무)의 계약 전 알릴 의무를 위반한 사실이 보험금 지급사유 발생에 영향을 미\n",
      "67\u0000/\u0000249\n",
      "\n",
      "【일반금융소비자】\n",
      "전문금융소비자가 아닌 계약자를 말합니다.\n",
      "② 청약철회는 계약자가 전화로 신청하거나, 철회의사를 표시하기 위한 서면, 전자우편, 휴대전화 문자메\n",
      "시지 또는 이에 준하는 전자적 의사표시(이하 ‘서면 등’이라 합니다)를 발송한 때 효력이 발생합니다. 계\n",
      "약자는 서면 등을 발송한 때에 그 발송 사실을 회사에 지체없이 알려야 합니다.\n",
      "③ 계약자가 청약을 철회한 때에는 회사는 청약의 철회를 접수한 날부터 3영업일 이내에 납입한 보험료\n",
      "전액을 돌려드리며, 보험료 반환이 늦어진 기간에 대하여는 이 계약의 보험계약대출이율(이하 ‘보험계약\n",
      "대출이율’이라 합니다)을 연단위 복리로 계산한 금액을 더하여 지급합니다. 다만, 계약자가 제1회 보험료\n",
      "를 신용카드로 납입한 계약의 청약을 철회하는 경우에는 회사는 청약의 철회를 접수한 날부터 3영업일\n",
      "이내에 해당 신용카드회사로 하여금 대금청구를 하지 않도록 해야 하며, 이 경우 회사는 보험료를 반환\n",
      "한 것으로 봅니다.\n",
      "④ 청약을 철회할 때에 이미 보험금 지급사유가 발생하였으나 계약자가 그 보험금 지급사유가 발생한 사\n",
      "실을 알지 못한 경우에는 청약철회의 효력은 발생하지 않습니다.\n",
      "⑤ 제1항에서 보험증권을 받은 날에 대한 다툼이 발생한 경우 회사가 이를 증명하여야 합니다.\n",
      "제 19 조 약관교부 및 설명의무 등\n",
      "① 회사는 계약자가 청약할 때에 계약자에게 약관의 중요한 내용을 설명하여야 하며, 청약 후에 다음 각\n",
      "호의 방법 중 계약자가 원하는 방법을 확인하여 지체 없이 약관 및 계약자 보관용 청약서를 제공하여 드\n",
      "립니다. 만약, 회사가 전자우편 및 전자적 의사표시로 제공한 경우 계약자 또는 그 대리인이 약관 및 계\n",
      "약자 보관용 청약서 등을 수신하였을 때에는 해당 문서를 드린 것으로 봅니다.\n",
      "1. 서면교부\n",
      "2. 우편 또는 전자우편\n",
      "3. 휴대전화 문자메시지 또는 이에 준하는 전자적 의사표시\n",
      "② 제1항과 관련하여 통신판매계약의 경우, 회사는 계약자가 가입한 특약만 포함한 약관을 드리며, 전화\n",
      "를 이용하여 체결하는 계약은 계약자의 동의를 얻어 청약내용, 보험료납입, 보험기간, 계약 전 알릴 의무,\n",
      "약관의 중요한 내용 등 계약을 체결하는 데 필요한 사항을 질문 또는 설명하는 방법으로 약관의 중요한\n",
      "내용을 설명할 수 있습니다. 이 경우 계약자의 답변과 확인내용을 음성 녹음함으로써 약관의 중요한 내\n",
      "용을 설명한 것으로 봅니다.\n",
      "【통신판매계약】\n",
      "전화우편인터넷 등 통신수단을 이용하여 체결하는 계약을 말합니다.\n",
      "③ 회사가 제1항에 따라 제공될 약관 및 계약자 보관용 청약서를 청약할 때 계약자에게 전달하지 않거나\n",
      "약관의 중요한 내용을 설명하지 않은 때 또는 계약을 체결할 때 계약자가 청약서에 자필서명(날인(도장\n",
      "을 찍음) 및 「전자서명법」 제2조 제2호에 따른 전자서명을 포함합니다)을 하지 않은 때에는 계약자는 계\n",
      "약이 성립한 날부터 3개월 이내에 계약을 취소할 수 있습니다.\n",
      "④ 제3항에도 불구하고 전화를 이용하여 계약을 체결하는 경우 다음의 각 호의 어느 하나를 충족하는 때\n",
      "에는 자필서명을 생략할 수 있으며, 위 제2항의 규정에 따른 음성녹음 내용을 문서화한 확인서를 계약자\n",
      "에게 드림으로써 계약자 보관용 청약서를 전달한 것으로 봅니다.\n",
      "1. 계약자, 피보험자 및 보험수익자가 동일한 계약의 경우\n",
      "2. 계약자, 피보험자가 동일하고 보험수익자가 계약자의 법정상속인인 계약일 경우\n",
      "【법정상속인】\n",
      "피상속인의 사망으로 인하여 민법의 규정에 의한 상속순서에 따라 상속받는 자\n",
      "⑤ 제3항에 따라 계약이 취소된 경우에는 회사는 계약자에게 이미 납입한 보험료(적립액의 인출이 있을\n",
      "경우 이를 차감한 금액)를 돌려 드리며, 보험료를 받은 기간에 대하여 보험계약대출이율을 연단위 복리로\n",
      "계산한 금액을 더하여 지급합니다.\n",
      "69\u0000/\u0000249\n",
      "\n",
      "(2) 해약환급금 미보증형\n",
      "계약의 계약에서 쓰이는\n",
      "제2조(용어의 정의)\n",
      "체결 용어를 알고 싶어요\n",
      "제14조(계약 전 알릴 의무)\n",
      "계약 전 알릴 의무는 무엇인가요\n",
      "제15조(계약 전 알릴 의무 위반의 효과)\n",
      "제25조(제1회 보험료 및 회사의\n",
      "보장이 언제 시작되나요\n",
      "보장개시)\n",
      "청약을 철회하고 싶어요 제18조(청약의 철회)\n",
      "계약을 취소 할 수 있나요 제19조(약관교부 및 설명의무 등)\n",
      "계약이 무효가 될 수 있나요 제20조(계약의 무효)\n",
      "보험료의 보험료 납입면제\n",
      "제5조(보험금 지급에 관한 세부규정)\n",
      "납입 사유를 알고 싶어요\n",
      "보험료 납입최고(독촉)이 제28조(보험료의 납입이 연체되는 경우\n",
      "무엇인가요 납입최고(독촉)와 계약의 해지)\n",
      "제29조(보험료의 납입연체로 인하여\n",
      "해지된 계약을 살리고 싶어요\n",
      "해지된 계약의 부활(효력회복))\n",
      "보험금의 제4조(보험금의 지급사유),\n",
      "보험금을 받을 수 있는지 궁금해요\n",
      "지급 제6조(보험금을 지급하지 않는 사유)\n",
      "제8조(보험금의 청구),\n",
      "보험금은 언제 지급되나요\n",
      "제9조(보험금의 지급절차)\n",
      "11\u0000/\u0000235\n",
      "\n",
      "계 법령이 정하는 경우를 제외하고는 소를 제기하지 않습니다.\n",
      "제 44 조 관할법원\n",
      "이 계약에 관한 소송 및 민사조정은 계약자의 주소지를 관할하는 법원으로 합니다. 다만, 회사와 계약자\n",
      "가 합의하여 관할법원을 달리 정할 수 있습니다.\n",
      "제 45 조 소멸시효\n",
      "① 보험금 청구권, 보험료 반환청구권, 해약환급금청구권 및 계약자적립액 반환청구권은 3년간 행사하지\n",
      "않으면 소멸시효가 완성됩니다.\n",
      "② 제1항의 소멸시효는 해당 청구권을 행사할 수 있는 때로부터 진행합니다.\n",
      "【소멸시효】\n",
      "예를들어, 제4조(보험금의 지급사유)에 따른 보험금 지급사유가 2016년 4월 1일에 발생하였음에도\n",
      "보험수익자가 2019년 4월 1일까지 보험금을 청구하지 않은 경우 해당 보험금에 대한 3년의 소멸시\n",
      "효가 완성되어 보험수익자는 해당 보험금 등을 지급받지 못합니다.\n",
      "제 46 조 약관의 해석\n",
      "① 회사는 신의성실의 원칙에 따라 공정하게 약관을 해석하여야 하며 계약자에 따라 다르게 해석하지 않\n",
      "습니다.\n",
      "② 회사는 약관의 뜻이 명백하지 않은 경우에는 계약자에게 유리하게 해석합니다.\n",
      "③ 회사는 보험금을 지급하지 않는 사유 등 계약자나 피보험자에게 불리하거나 부담을 주는 내용은 확대\n",
      "하여 해석하지 않습니다.\n",
      "제 47 조 설명서 교부 및 보험안내자료 등의 효력\n",
      "① 회사는 일반금융소비자에게 청약을 권유하거나 일반금융소비자가 설명을 요청하는 경우 보험상품에\n",
      "관한 중요한 사항을 계약자가 이해할 수 있도록 설명하고 계약자가 이해하였음을 서명(「전자서명법」 제2\n",
      "조 제2호에 따른 전자서명을 포함), 기명날인 또는 녹취 등을 통해 확인받아야 하며, 설명서를 제공하여\n",
      "야 합니다.\n",
      "② 설명서, 약관, 계약자 보관용 청약서 및 보험증권의 제공 사실에 관하여 계약자와 회사간에 다툼이 있\n",
      "는 경우에는 회사가 이를 증명하여야 합니다.\n",
      "③ 보험설계사 등이 모집과정에서 사용한 회사 제작의 보험안내자료(계약의 청약을 권유하기 위해 만든\n",
      "자료 등을 말합니다) 내용이 이 약관의 내용과 다른 경우에는 계약자에게 유리한 내용으로 계약이 성립\n",
      "된 것으로 봅니다.\n",
      "제 48 조 회사의 손해배상책임\n",
      "① 회사는 계약과 관련하여 임직원, 보험설계사 및 대리점의 책임 있는 사유로 계약자, 피보험자 및 보험\n",
      "수익자에게 발생된 손해에 대하여 관계 법령 등에 따라 손해배상의 책임을 집니다.\n",
      "② 회사는 보험금 지급거절 및 지연지급의 사유가 없음을 알았거나 알 수 있었는데도 소를 제기하여 계\n",
      "약자, 피보험자 또는 보험수익자에게 손해를 가한 경우에는 그에 따른 손해를 배상할 책임을 집니다.\n",
      "③ 회사가 보험금 지급여부 및 지급금액에 관하여 현저하게 공정을 잃은 합의로 보험수익자에게 손해를\n",
      "가한 경우에도 회사는 제2항에 따라 손해를 배상할 책임을 집니다.\n",
      "【 현저하게 공정을 잃은 합의 】\n",
      "회사가 보험수익자의 경제적·신체적·정신적인 어려움, 경솔함, 경험 부족 등을 이용하여 동일·유사 사\n",
      "례에 비추어 보험수익자에게 매우 불합리하게 합의를 하는 것을 의미합니다.\n",
      "제 49 조 개인정보보호\n",
      "① 회사는 이 계약과 관련된 개인정보를 이 계약의 체결, 유지, 보험금 지급 등을 위하여「개인정보 보호\n",
      "49\u0000/\u0000249\n",
      "\n",
      "⑤ 제1항에서 보험증권을 받은 날에 대한 다툼이 발생한 경우 회사가 이를 증명하여야 합니다.\n",
      "제 19 조 약관교부 및 설명의무 등\n",
      "① 회사는 계약자가 청약할 때에 계약자에게 약관의 중요한 내용을 설명하여야 하며, 청약 후에 다음 각\n",
      "호의 방법 중 계약자가 원하는 방법을 확인하여 지체 없이 약관 및 계약자 보관용 청약서를 제공하여 드\n",
      "립니다. 만약, 회사가 전자우편 및 전자적 의사표시로 제공한 경우 계약자 또는 그 대리인이 약관 및 계\n",
      "약자 보관용 청약서 등을 수신하였을 때에는 해당 문서를 드린 것으로 봅니다.\n",
      "1. 서면교부\n",
      "2. 우편 또는 전자우편\n",
      "3. 휴대전화 문자메시지 또는 이에 준하는 전자적 의사표시\n",
      "② 제1항과 관련하여 통신판매계약의 경우, 회사는 계약자가 가입한 특약만 포함한 약관을 드리며, 전화\n",
      "를 이용하여 체결하는 계약은 계약자의 동의를 얻어 청약내용, 보험료납입, 보험기간, 계약 전 알릴 의무,\n",
      "약관의 중요한 내용 등 계약을 체결하는 데 필요한 사항을 질문 또는 설명하는 방법으로 약관의 중요한\n",
      "내용을 설명할 수 있습니다. 이 경우 계약자의 답변과 확인내용을 음성 녹음함으로써 약관의 중요한 내\n",
      "용을 설명한 것으로 봅니다.\n",
      "【통신판매계약】\n",
      "전화우편인터넷 등 통신수단을 이용하여 체결하는 계약을 말합니다.\n",
      "③ 회사가 제1항에 따라 제공될 약관 및 계약자 보관용 청약서를 청약할 때 계약자에게 전달하지 않거나\n",
      "약관의 중요한 내용을 설명하지 않은 때 또는 계약을 체결할 때 계약자가 청약서에 자필서명(날인(도장\n",
      "을 찍음) 및 「전자서명법」 제2조 제2호에 따른 전자서명을 포함합니다)을 하지 않은 때에는 계약자는 계\n",
      "약이 성립한 날부터 3개월 이내에 계약을 취소할 수 있습니다.\n",
      "④ 제3항에도 불구하고 전화를 이용하여 계약을 체결하는 경우 다음의 각 호의 어느 하나를 충족하는 때\n",
      "에는 자필서명을 생략할 수 있으며, 위 제2항의 규정에 따른 음성녹음 내용을 문서화한 확인서를 계약자\n",
      "에게 드림으로써 계약자 보관용 청약서를 전달한 것으로 봅니다.\n",
      "1. 계약자, 피보험자 및 보험수익자가 동일한 계약의 경우\n",
      "2. 계약자, 피보험자가 동일하고 보험수익자가 계약자의 법정상속인인 계약일 경우\n",
      "【법정상속인】\n",
      "피상속인의 사망으로 인하여 민법의 규정에 의한 상속순서에 따라 상속받는 자\n",
      "⑤ 제3항에 따라 계약이 취소된 경우에는 회사는 계약자에게 이미 납입한 보험료(적립액의 인출이 있을\n",
      "경우 이를 차감한 금액)를 돌려 드리며, 보험료를 받은 기간에 대하여 보험계약대출이율을 연단위 복리로\n",
      "계산한 금액을 더하여 지급합니다.\n",
      "제 20 조 계약의 무효\n",
      "① 다음 중 한 가지에 해당되는 경우에는 계약을 무효로 하며 계약자에게 이미 납입한 보험료(적립액의\n",
      "인출이 있을 경우 이를 차감한 금액)를 돌려드립니다.\n",
      "1. 타인의 사망을 보험금 지급사유로 하는 계약에서 계약을 체결할 때까지 피보험자의 서면(「전자서\n",
      "명법」 제2조 제2호에 따른 전자서명이 있는 경우로서 상법 시행령 제44조의2에 정하는 바에 따라\n",
      "본인 확인 및 위조·변조 방지에 대한 신뢰성을 갖춘 전자문서를 포함)에 의한 동의를 얻지 않은 경\n",
      "우\n",
      "다만, 단체가 규약에 따라 구성원의 전부 또는 일부를 피보험자로 하는 계약을 체결하는 경우에는\n",
      "이를 적용하지 않습니다. 이때 단체보험의 보험수익자를 피보험자 또는 그 상속인이 아닌 자로 지\n",
      "정할 때에는 단체의 규약에서 명시적으로 정한 경우가 아니면 이를 적용합니다.\n",
      "2. 만 15세 미만자, 심신상실자(心神喪失者) 또는 심신박약자(心神薄弱者)를 피보험자로 하여 사망을\n",
      "보험금 지급사유로 한 계약의 경우.\n",
      "다만, 심신박약자(心神薄弱者)가 계약을 체결하거나 소속 단체의 규약에 따라 단체보험의 피보험자\n",
      "가 될 때에 의사능력이 있는 경우에는 계약이 유효합니다.\n",
      "37\u0000/\u0000249\n",
      "\n",
      "쳤음을 회사가 증명하지 못한 경우에는 제1항에도 불구하고 계약의 해지 또는 보장을 제한하기 이전까지\n",
      "발생한 해당 보험금을 지급합니다.\n",
      "⑤ 회사는 다른 보험가입내역에 대한 계약 전 알릴 의무 위반을 이유로 계약을 해지하거나 보험금 지급\n",
      "을 거절하지 않습니다.\n",
      "【계약 전 알릴 의무 위반 사례】\n",
      "계약을 청약하면서 보험설계사에게 고혈압이 있다고만 이야기하였을 뿐, 청약서의 계약 전 알릴 사항\n",
      "에 아무런 기재도 하지 않을 경우에는 보험설계사에게 고혈압 병력을 이야기하였다고 하더라도 회사\n",
      "는 계약 전 알릴 의무 위반을 이유로 계약을 해지하고 보험금을 지급하지 않을 수 있습니다.\n",
      "제 16 조 사기에 의한 계약\n",
      "① 계약자 또는 피보험자가 대리진단, 약물사용을 수단으로 진단절차를 통과하거나 진단서 위·변조 또는\n",
      "청약일 이전에 암 또는 인간면역결핍바이러스(HIV) 감염의 진단 확정을 받은 후 이를 숨기고 가입하는\n",
      "등의 뚜렷한 사기의사에 의하여 계약이 성립되었음을 회사가 증명하는 경우에는 보장개시일부터 5년 이\n",
      "내(사기사실을 안 날부터는 1개월 이내)에 계약을 취소할 수 있습니다.\n",
      "② 제1항에 따라 계약이 취소된 경우에는 회사는 계약자에게 이미 납입한 보험료(적립액의 인출이있을\n",
      "경우 이를 차감한 금액)를 돌려 드립니다.\n",
      "제 4 관 보험계약의 성립과 유지\n",
      "제 17 조 보험계약의 성립\n",
      "① 계약은 계약자의 청약(請約)과 회사의 승낙(承諾)으로 이루어집니다.\n",
      "② 계약자는 계약을 청약할 때 다음 중 한 가지를 선택하여 청약하여야 합니다.\n",
      "1. 1종(기본형)\n",
      "2. 2종(소득보장형)\n",
      "3. 3종(소득보장강화형)\n",
      "③ 회사는 피보험자가 계약에 적합하지 않은 경우에는 승낙을 거절하거나 별도의 조건(보험가입금액 제\n",
      "한, 일부보장 제외, 보험금 삭감, 보험료 할증 등)을 붙여 승낙할 수 있습니다.\n",
      "④ 회사는 계약의 청약을 받고, 제1회 보험료를 받은 경우에 건강진단을 받지 않는 계약은 청약일, 진단\n",
      "계약은 진단일(재진단의 경우에는 최종 진단일)부터 30일 이내에 승낙 또는 거절하여야 하며, 승낙한 때\n",
      "에는 보험증권을 드립니다. 그러나 30일 이내에 승낙 또는 거절의 통지가 없으면 승낙된 것으로 봅니다.\n",
      "⑤ 회사가 제1회 보험료를 받고 승낙을 거절한 경우에는 거절통지와 함께 받은 금액을 돌려 드리며, 보\n",
      "험료를 받은 기간에 대하여 평균공시이율+1%를 연단위 복리로 계산한 금액을 더하여 지급합니다. 다만,\n",
      "회사는 계약자가 제1회 보험료를 신용카드로 납입한 계약의 승낙을 거절하는 경우에는 신용카드의 매출\n",
      "을 취소하며 이자를 더하여 지급하지 않습니다.\n",
      "제 18 조 청약의 철회\n",
      "① 계약자는 보험증권을 받은 날부터 15일 이내에 그 청약을 철회(撤回)할 수 있습니다. 다만, 다음 중 한\n",
      "가지에 해당되는 때에는 청약을 철회할 수 없습니다.\n",
      "1. 회사가 건강상태 진단을 지원하는 계약, 보험기간이 90일 이내인 계약 또는 전문금융소비자가 체결\n",
      "한 계약\n",
      "2. 청약을 한 날부터 30일을 초과한 경우. 다만, 청약시점에 만 65세 이상인 계약자가 전화를 이용하\n",
      "여 계약을 체결한 경우 ‘청약을 한 날부터 45일을 초과한 경우’로 합니다.\n",
      "【전문금융소비자】\n",
      "보험계약에 관한 전문성, 자산규모 등에 비추어 보험계약에 따른 위험감수능력이 있는 자로서, 국가,\n",
      "지방자치단체, 한국은행, 금융회사, 주권상장법인 등을 포함하며 「금융소비자 보호에 관한 법률」 제2\n",
      "조(정의) 제9호에서 정하는 전문금융소비자를 말합니다.\n",
      "68\u0000/\u0000249\n",
      "\n",
      "Question: 계약 전 의무 사항은 무엇인가요\n",
      "\n",
      "\n",
      "\n",
      "Assistant:\u001b[0m\n",
      " 계약 전 알릴 의무에 대한 주요 내용은 다음과 같습니다:\n",
      "\n",
      "1) 계약자나 피보험자는 청약 시에 청약서에서 질문한 사항에 대해 사실대로 알려야 합니다(제14조 계약 전 알릴 의무). 이를 '계약 전 알릴 의무'라고 합니다.\n",
      "\n",
      "2) 이 의무를 위반하면 보험회사가 계약을 해지하거나 보장을 제한할 수 있습니다(제15조 계약 전 알릴 의무 위반의 효과). \n",
      "\n",
      "다만, 보험회사가 승낙 당시에 그 사실을 알았거나 과실로 알지 못하였을 때, 알리지 않은 사실이 보험금 지급사유 발생에 영"
     ]
    }
   ],
   "source": [
    "%%time\n",
    "answer = chain.run(\n",
    "    input_documents=ensemble_retriever.get_relevant_documents(query),\n",
    "    question=query\n",
    ")\n",
    "\n",
    "print(\"##############################\")\n",
    "print(\"query: \\n\", query)\n",
    "print(\"answer: \\n\", answer)"
   ]
  },
  {
   "cell_type": "code",
   "execution_count": null,
   "id": "766ae463-9a33-47d3-8e07-b1ffe9b5b6ee",
   "metadata": {},
   "outputs": [],
   "source": []
  }
 ],
 "metadata": {
  "availableInstances": [
   {
    "_defaultOrder": 0,
    "_isFastLaunch": true,
    "category": "General purpose",
    "gpuNum": 0,
    "hideHardwareSpecs": false,
    "memoryGiB": 4,
    "name": "ml.t3.medium",
    "vcpuNum": 2
   },
   {
    "_defaultOrder": 1,
    "_isFastLaunch": false,
    "category": "General purpose",
    "gpuNum": 0,
    "hideHardwareSpecs": false,
    "memoryGiB": 8,
    "name": "ml.t3.large",
    "vcpuNum": 2
   },
   {
    "_defaultOrder": 2,
    "_isFastLaunch": false,
    "category": "General purpose",
    "gpuNum": 0,
    "hideHardwareSpecs": false,
    "memoryGiB": 16,
    "name": "ml.t3.xlarge",
    "vcpuNum": 4
   },
   {
    "_defaultOrder": 3,
    "_isFastLaunch": false,
    "category": "General purpose",
    "gpuNum": 0,
    "hideHardwareSpecs": false,
    "memoryGiB": 32,
    "name": "ml.t3.2xlarge",
    "vcpuNum": 8
   },
   {
    "_defaultOrder": 4,
    "_isFastLaunch": true,
    "category": "General purpose",
    "gpuNum": 0,
    "hideHardwareSpecs": false,
    "memoryGiB": 8,
    "name": "ml.m5.large",
    "vcpuNum": 2
   },
   {
    "_defaultOrder": 5,
    "_isFastLaunch": false,
    "category": "General purpose",
    "gpuNum": 0,
    "hideHardwareSpecs": false,
    "memoryGiB": 16,
    "name": "ml.m5.xlarge",
    "vcpuNum": 4
   },
   {
    "_defaultOrder": 6,
    "_isFastLaunch": false,
    "category": "General purpose",
    "gpuNum": 0,
    "hideHardwareSpecs": false,
    "memoryGiB": 32,
    "name": "ml.m5.2xlarge",
    "vcpuNum": 8
   },
   {
    "_defaultOrder": 7,
    "_isFastLaunch": false,
    "category": "General purpose",
    "gpuNum": 0,
    "hideHardwareSpecs": false,
    "memoryGiB": 64,
    "name": "ml.m5.4xlarge",
    "vcpuNum": 16
   },
   {
    "_defaultOrder": 8,
    "_isFastLaunch": false,
    "category": "General purpose",
    "gpuNum": 0,
    "hideHardwareSpecs": false,
    "memoryGiB": 128,
    "name": "ml.m5.8xlarge",
    "vcpuNum": 32
   },
   {
    "_defaultOrder": 9,
    "_isFastLaunch": false,
    "category": "General purpose",
    "gpuNum": 0,
    "hideHardwareSpecs": false,
    "memoryGiB": 192,
    "name": "ml.m5.12xlarge",
    "vcpuNum": 48
   },
   {
    "_defaultOrder": 10,
    "_isFastLaunch": false,
    "category": "General purpose",
    "gpuNum": 0,
    "hideHardwareSpecs": false,
    "memoryGiB": 256,
    "name": "ml.m5.16xlarge",
    "vcpuNum": 64
   },
   {
    "_defaultOrder": 11,
    "_isFastLaunch": false,
    "category": "General purpose",
    "gpuNum": 0,
    "hideHardwareSpecs": false,
    "memoryGiB": 384,
    "name": "ml.m5.24xlarge",
    "vcpuNum": 96
   },
   {
    "_defaultOrder": 12,
    "_isFastLaunch": false,
    "category": "General purpose",
    "gpuNum": 0,
    "hideHardwareSpecs": false,
    "memoryGiB": 8,
    "name": "ml.m5d.large",
    "vcpuNum": 2
   },
   {
    "_defaultOrder": 13,
    "_isFastLaunch": false,
    "category": "General purpose",
    "gpuNum": 0,
    "hideHardwareSpecs": false,
    "memoryGiB": 16,
    "name": "ml.m5d.xlarge",
    "vcpuNum": 4
   },
   {
    "_defaultOrder": 14,
    "_isFastLaunch": false,
    "category": "General purpose",
    "gpuNum": 0,
    "hideHardwareSpecs": false,
    "memoryGiB": 32,
    "name": "ml.m5d.2xlarge",
    "vcpuNum": 8
   },
   {
    "_defaultOrder": 15,
    "_isFastLaunch": false,
    "category": "General purpose",
    "gpuNum": 0,
    "hideHardwareSpecs": false,
    "memoryGiB": 64,
    "name": "ml.m5d.4xlarge",
    "vcpuNum": 16
   },
   {
    "_defaultOrder": 16,
    "_isFastLaunch": false,
    "category": "General purpose",
    "gpuNum": 0,
    "hideHardwareSpecs": false,
    "memoryGiB": 128,
    "name": "ml.m5d.8xlarge",
    "vcpuNum": 32
   },
   {
    "_defaultOrder": 17,
    "_isFastLaunch": false,
    "category": "General purpose",
    "gpuNum": 0,
    "hideHardwareSpecs": false,
    "memoryGiB": 192,
    "name": "ml.m5d.12xlarge",
    "vcpuNum": 48
   },
   {
    "_defaultOrder": 18,
    "_isFastLaunch": false,
    "category": "General purpose",
    "gpuNum": 0,
    "hideHardwareSpecs": false,
    "memoryGiB": 256,
    "name": "ml.m5d.16xlarge",
    "vcpuNum": 64
   },
   {
    "_defaultOrder": 19,
    "_isFastLaunch": false,
    "category": "General purpose",
    "gpuNum": 0,
    "hideHardwareSpecs": false,
    "memoryGiB": 384,
    "name": "ml.m5d.24xlarge",
    "vcpuNum": 96
   },
   {
    "_defaultOrder": 20,
    "_isFastLaunch": false,
    "category": "General purpose",
    "gpuNum": 0,
    "hideHardwareSpecs": true,
    "memoryGiB": 0,
    "name": "ml.geospatial.interactive",
    "supportedImageNames": [
     "sagemaker-geospatial-v1-0"
    ],
    "vcpuNum": 0
   },
   {
    "_defaultOrder": 21,
    "_isFastLaunch": true,
    "category": "Compute optimized",
    "gpuNum": 0,
    "hideHardwareSpecs": false,
    "memoryGiB": 4,
    "name": "ml.c5.large",
    "vcpuNum": 2
   },
   {
    "_defaultOrder": 22,
    "_isFastLaunch": false,
    "category": "Compute optimized",
    "gpuNum": 0,
    "hideHardwareSpecs": false,
    "memoryGiB": 8,
    "name": "ml.c5.xlarge",
    "vcpuNum": 4
   },
   {
    "_defaultOrder": 23,
    "_isFastLaunch": false,
    "category": "Compute optimized",
    "gpuNum": 0,
    "hideHardwareSpecs": false,
    "memoryGiB": 16,
    "name": "ml.c5.2xlarge",
    "vcpuNum": 8
   },
   {
    "_defaultOrder": 24,
    "_isFastLaunch": false,
    "category": "Compute optimized",
    "gpuNum": 0,
    "hideHardwareSpecs": false,
    "memoryGiB": 32,
    "name": "ml.c5.4xlarge",
    "vcpuNum": 16
   },
   {
    "_defaultOrder": 25,
    "_isFastLaunch": false,
    "category": "Compute optimized",
    "gpuNum": 0,
    "hideHardwareSpecs": false,
    "memoryGiB": 72,
    "name": "ml.c5.9xlarge",
    "vcpuNum": 36
   },
   {
    "_defaultOrder": 26,
    "_isFastLaunch": false,
    "category": "Compute optimized",
    "gpuNum": 0,
    "hideHardwareSpecs": false,
    "memoryGiB": 96,
    "name": "ml.c5.12xlarge",
    "vcpuNum": 48
   },
   {
    "_defaultOrder": 27,
    "_isFastLaunch": false,
    "category": "Compute optimized",
    "gpuNum": 0,
    "hideHardwareSpecs": false,
    "memoryGiB": 144,
    "name": "ml.c5.18xlarge",
    "vcpuNum": 72
   },
   {
    "_defaultOrder": 28,
    "_isFastLaunch": false,
    "category": "Compute optimized",
    "gpuNum": 0,
    "hideHardwareSpecs": false,
    "memoryGiB": 192,
    "name": "ml.c5.24xlarge",
    "vcpuNum": 96
   },
   {
    "_defaultOrder": 29,
    "_isFastLaunch": true,
    "category": "Accelerated computing",
    "gpuNum": 1,
    "hideHardwareSpecs": false,
    "memoryGiB": 16,
    "name": "ml.g4dn.xlarge",
    "vcpuNum": 4
   },
   {
    "_defaultOrder": 30,
    "_isFastLaunch": false,
    "category": "Accelerated computing",
    "gpuNum": 1,
    "hideHardwareSpecs": false,
    "memoryGiB": 32,
    "name": "ml.g4dn.2xlarge",
    "vcpuNum": 8
   },
   {
    "_defaultOrder": 31,
    "_isFastLaunch": false,
    "category": "Accelerated computing",
    "gpuNum": 1,
    "hideHardwareSpecs": false,
    "memoryGiB": 64,
    "name": "ml.g4dn.4xlarge",
    "vcpuNum": 16
   },
   {
    "_defaultOrder": 32,
    "_isFastLaunch": false,
    "category": "Accelerated computing",
    "gpuNum": 1,
    "hideHardwareSpecs": false,
    "memoryGiB": 128,
    "name": "ml.g4dn.8xlarge",
    "vcpuNum": 32
   },
   {
    "_defaultOrder": 33,
    "_isFastLaunch": false,
    "category": "Accelerated computing",
    "gpuNum": 4,
    "hideHardwareSpecs": false,
    "memoryGiB": 192,
    "name": "ml.g4dn.12xlarge",
    "vcpuNum": 48
   },
   {
    "_defaultOrder": 34,
    "_isFastLaunch": false,
    "category": "Accelerated computing",
    "gpuNum": 1,
    "hideHardwareSpecs": false,
    "memoryGiB": 256,
    "name": "ml.g4dn.16xlarge",
    "vcpuNum": 64
   },
   {
    "_defaultOrder": 35,
    "_isFastLaunch": false,
    "category": "Accelerated computing",
    "gpuNum": 1,
    "hideHardwareSpecs": false,
    "memoryGiB": 61,
    "name": "ml.p3.2xlarge",
    "vcpuNum": 8
   },
   {
    "_defaultOrder": 36,
    "_isFastLaunch": false,
    "category": "Accelerated computing",
    "gpuNum": 4,
    "hideHardwareSpecs": false,
    "memoryGiB": 244,
    "name": "ml.p3.8xlarge",
    "vcpuNum": 32
   },
   {
    "_defaultOrder": 37,
    "_isFastLaunch": false,
    "category": "Accelerated computing",
    "gpuNum": 8,
    "hideHardwareSpecs": false,
    "memoryGiB": 488,
    "name": "ml.p3.16xlarge",
    "vcpuNum": 64
   },
   {
    "_defaultOrder": 38,
    "_isFastLaunch": false,
    "category": "Accelerated computing",
    "gpuNum": 8,
    "hideHardwareSpecs": false,
    "memoryGiB": 768,
    "name": "ml.p3dn.24xlarge",
    "vcpuNum": 96
   },
   {
    "_defaultOrder": 39,
    "_isFastLaunch": false,
    "category": "Memory Optimized",
    "gpuNum": 0,
    "hideHardwareSpecs": false,
    "memoryGiB": 16,
    "name": "ml.r5.large",
    "vcpuNum": 2
   },
   {
    "_defaultOrder": 40,
    "_isFastLaunch": false,
    "category": "Memory Optimized",
    "gpuNum": 0,
    "hideHardwareSpecs": false,
    "memoryGiB": 32,
    "name": "ml.r5.xlarge",
    "vcpuNum": 4
   },
   {
    "_defaultOrder": 41,
    "_isFastLaunch": false,
    "category": "Memory Optimized",
    "gpuNum": 0,
    "hideHardwareSpecs": false,
    "memoryGiB": 64,
    "name": "ml.r5.2xlarge",
    "vcpuNum": 8
   },
   {
    "_defaultOrder": 42,
    "_isFastLaunch": false,
    "category": "Memory Optimized",
    "gpuNum": 0,
    "hideHardwareSpecs": false,
    "memoryGiB": 128,
    "name": "ml.r5.4xlarge",
    "vcpuNum": 16
   },
   {
    "_defaultOrder": 43,
    "_isFastLaunch": false,
    "category": "Memory Optimized",
    "gpuNum": 0,
    "hideHardwareSpecs": false,
    "memoryGiB": 256,
    "name": "ml.r5.8xlarge",
    "vcpuNum": 32
   },
   {
    "_defaultOrder": 44,
    "_isFastLaunch": false,
    "category": "Memory Optimized",
    "gpuNum": 0,
    "hideHardwareSpecs": false,
    "memoryGiB": 384,
    "name": "ml.r5.12xlarge",
    "vcpuNum": 48
   },
   {
    "_defaultOrder": 45,
    "_isFastLaunch": false,
    "category": "Memory Optimized",
    "gpuNum": 0,
    "hideHardwareSpecs": false,
    "memoryGiB": 512,
    "name": "ml.r5.16xlarge",
    "vcpuNum": 64
   },
   {
    "_defaultOrder": 46,
    "_isFastLaunch": false,
    "category": "Memory Optimized",
    "gpuNum": 0,
    "hideHardwareSpecs": false,
    "memoryGiB": 768,
    "name": "ml.r5.24xlarge",
    "vcpuNum": 96
   },
   {
    "_defaultOrder": 47,
    "_isFastLaunch": false,
    "category": "Accelerated computing",
    "gpuNum": 1,
    "hideHardwareSpecs": false,
    "memoryGiB": 16,
    "name": "ml.g5.xlarge",
    "vcpuNum": 4
   },
   {
    "_defaultOrder": 48,
    "_isFastLaunch": false,
    "category": "Accelerated computing",
    "gpuNum": 1,
    "hideHardwareSpecs": false,
    "memoryGiB": 32,
    "name": "ml.g5.2xlarge",
    "vcpuNum": 8
   },
   {
    "_defaultOrder": 49,
    "_isFastLaunch": false,
    "category": "Accelerated computing",
    "gpuNum": 1,
    "hideHardwareSpecs": false,
    "memoryGiB": 64,
    "name": "ml.g5.4xlarge",
    "vcpuNum": 16
   },
   {
    "_defaultOrder": 50,
    "_isFastLaunch": false,
    "category": "Accelerated computing",
    "gpuNum": 1,
    "hideHardwareSpecs": false,
    "memoryGiB": 128,
    "name": "ml.g5.8xlarge",
    "vcpuNum": 32
   },
   {
    "_defaultOrder": 51,
    "_isFastLaunch": false,
    "category": "Accelerated computing",
    "gpuNum": 1,
    "hideHardwareSpecs": false,
    "memoryGiB": 256,
    "name": "ml.g5.16xlarge",
    "vcpuNum": 64
   },
   {
    "_defaultOrder": 52,
    "_isFastLaunch": false,
    "category": "Accelerated computing",
    "gpuNum": 4,
    "hideHardwareSpecs": false,
    "memoryGiB": 192,
    "name": "ml.g5.12xlarge",
    "vcpuNum": 48
   },
   {
    "_defaultOrder": 53,
    "_isFastLaunch": false,
    "category": "Accelerated computing",
    "gpuNum": 4,
    "hideHardwareSpecs": false,
    "memoryGiB": 384,
    "name": "ml.g5.24xlarge",
    "vcpuNum": 96
   },
   {
    "_defaultOrder": 54,
    "_isFastLaunch": false,
    "category": "Accelerated computing",
    "gpuNum": 8,
    "hideHardwareSpecs": false,
    "memoryGiB": 768,
    "name": "ml.g5.48xlarge",
    "vcpuNum": 192
   },
   {
    "_defaultOrder": 55,
    "_isFastLaunch": false,
    "category": "Accelerated computing",
    "gpuNum": 8,
    "hideHardwareSpecs": false,
    "memoryGiB": 1152,
    "name": "ml.p4d.24xlarge",
    "vcpuNum": 96
   },
   {
    "_defaultOrder": 56,
    "_isFastLaunch": false,
    "category": "Accelerated computing",
    "gpuNum": 8,
    "hideHardwareSpecs": false,
    "memoryGiB": 1152,
    "name": "ml.p4de.24xlarge",
    "vcpuNum": 96
   }
  ],
  "instance_type": "ml.m5.2xlarge",
  "kernelspec": {
   "display_name": "conda_python3",
   "language": "python",
   "name": "conda_python3"
  },
  "language_info": {
   "codemirror_mode": {
    "name": "ipython",
    "version": 3
   },
   "file_extension": ".py",
   "mimetype": "text/x-python",
   "name": "python",
   "nbconvert_exporter": "python",
   "pygments_lexer": "ipython3",
   "version": "3.10.13"
  },
  "vscode": {
   "interpreter": {
    "hash": "4b8e647a79df62bf31906a725b05de775d285962ac600487339d38c51a5c07b1"
   }
  }
 },
 "nbformat": 4,
 "nbformat_minor": 5
}
